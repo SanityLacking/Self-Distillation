{
 "cells": [
  {
   "cell_type": "code",
   "execution_count": 13,
   "id": "3f8c9f37-43c8-48f1-9fbc-c848d5b5a86e",
   "metadata": {},
   "outputs": [
    {
     "name": "stdout",
     "output_type": "stream",
     "text": [
      "[0.0, 0.19047619047619052, 0.09523809523809526]\n",
      "0.7142857142857144\n"
     ]
    }
   ],
   "source": [
    "evidence = [0,.8,.4]\n",
    "K = len(evidence)\n",
    "\n",
    "belief = []\n",
    "S = 0\n",
    "\n",
    "for i in evidence:\n",
    "    S = S + (i+1)\n",
    "    \n",
    "for i in evidence:\n",
    "    belief.append(i / S)\n",
    "    \n",
    "u = K / S\n",
    "\n",
    "print(belief)\n",
    "print(u)"
   ]
  },
  {
   "cell_type": "code",
   "execution_count": 86,
   "id": "5a489e50-8354-4cb5-8230-4011682cead4",
   "metadata": {},
   "outputs": [],
   "source": [
    "import tensorflow as tf\n",
    "def calcEntropy_Tensors2(y_hat):\n",
    "    #entropy is the sum of y * log(y) for all possible labels.\n",
    "    #doesn't deal with cases of log(0)\n",
    "    val = y_hat * (tf.math.log(y_hat)/tf.math.log(tf.constant(2, dtype=y_hat.dtype)))\n",
    "    # print(val)\n",
    "    # print(tf.boolean_mask(val,tf.math.is_finite(val)))\n",
    "    sumEntropies =  tf.reduce_sum(tf.boolean_mask(val,tf.math.is_finite(val)))\n",
    "    \n",
    "    return -sumEntropies"
   ]
  },
  {
   "cell_type": "code",
   "execution_count": 89,
   "id": "90d16a06-d3bd-47fd-8b29-2a815c8ce934",
   "metadata": {},
   "outputs": [
    {
     "name": "stdout",
     "output_type": "stream",
     "text": [
      "tf.Tensor(1.0287712, shape=(), dtype=float32)\n",
      "tf.Tensor(0.27374995, shape=(), dtype=float32)\n",
      "tf.Tensor(1.8027972, shape=(), dtype=float32)\n"
     ]
    }
   ],
   "source": [
    "print(calcEntropy_Tensors2(tf.Variable((.4,.5,0))))\n",
    "print(calcEntropy_Tensors2(tf.Variable((.9999,.9,.9))))\n",
    "print(calcEntropy_Tensors2(tf.Variable((.8,.8,.8,.8,0,.8,.8,.8))))\n"
   ]
  },
  {
   "cell_type": "code",
   "execution_count": 77,
   "id": "e6f1035e-99da-4a33-8ef9-72eacce6d8e2",
   "metadata": {},
   "outputs": [
    {
     "data": {
      "text/plain": [
       "<tf.Variable 'Variable:0' shape=(3,) dtype=float32, numpy=array([0.4, 0. , 0. ], dtype=float32)>"
      ]
     },
     "execution_count": 77,
     "metadata": {},
     "output_type": "execute_result"
    }
   ],
   "source": [
    "tf.Variable((.4,0,0))"
   ]
  },
  {
   "cell_type": "code",
   "execution_count": 88,
   "id": "29d03345-4e5f-4c90-b199-fee9a1998f00",
   "metadata": {},
   "outputs": [
    {
     "name": "stdout",
     "output_type": "stream",
     "text": [
      "-0.5287712379549449\n",
      "-0.5\n",
      "sum -1.028771237954945\n",
      "sum 0.5143856189774725\n"
     ]
    }
   ],
   "source": [
    "import math\n",
    "sum =0\n",
    "for i in [.4,.5]:\n",
    "    x =  (i * math.log2(i))\n",
    "    print(x)\n",
    "    sum = sum + x\n",
    "print(\"sum\",sum)\n",
    "print(\"sum\",sum * (-1/2))\n",
    "    "
   ]
  },
  {
   "cell_type": "code",
   "execution_count": 1,
   "id": "580f4896-9a35-46b5-8716-0d01cc663423",
   "metadata": {},
   "outputs": [],
   "source": [
    "import tensorflow as tf\n",
    "import numpy as np\n",
    "import pandas as pd\n",
    "import matplotlib.pyplot as plt\n",
    "import sys\n",
    "\n",
    "import os\n",
    "os.environ['TF_DETERMINISTIC_OPS'] = '1'\n",
    "\n",
    "from  tensorflow import keras \n",
    "sys.path.append(\"..\") # Adds higher directory to python modules path.\n",
    "import brevis\n",
    "from brevis import branches\n",
    "from brevis import evaluate"
   ]
  },
  {
   "cell_type": "code",
   "execution_count": null,
   "id": "2942573d-9051-49f3-9f3e-334e828f5779",
   "metadata": {},
   "outputs": [],
   "source": [
    "train_ds, test_ds, validation_ds = brevis.dataset.prepare.dataset(tf.keras.datasets.cifar10.load_data(),32,5000,22500,(227,227),include_targets=False,num_outputs = 10)"
   ]
  }
 ],
 "metadata": {
  "kernelspec": {
   "display_name": "py36",
   "language": "python",
   "name": "py36"
  },
  "language_info": {
   "codemirror_mode": {
    "name": "ipython",
    "version": 3
   },
   "file_extension": ".py",
   "mimetype": "text/x-python",
   "name": "python",
   "nbconvert_exporter": "python",
   "pygments_lexer": "ipython3",
   "version": "3.7.11"
  }
 },
 "nbformat": 4,
 "nbformat_minor": 5
}
