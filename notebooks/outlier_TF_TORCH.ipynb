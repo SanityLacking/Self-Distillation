{
 "cells": [
  {
   "cell_type": "code",
   "execution_count": 1,
   "id": "146f7bc4-1494-408c-8e50-436ce46c7d44",
   "metadata": {},
   "outputs": [],
   "source": [
    "import tensorflow as tf\n",
    "import numpy as np\n",
    "from tensorflow import keras\n",
    "from tensorflow.keras import layers\n",
    "import pandas as pd\n",
    "import matplotlib.pyplot as plt\n",
    "import sys\n",
    "sys.path.append(\"..\") # Adds higher directory to python modules path.\n",
    "import os\n",
    "os.environ['TF_DETERMINISTIC_OPS'] = '1'\n",
    "import random\n",
    "seed = 42\n",
    "random.seed(seed)\n",
    "tf.random.set_seed(seed)\n",
    "np.random.seed(seed)\n",
    "\n",
    "import sys\n",
    "import os\n",
    "from  tensorflow import keras \n",
    "sys.path.append(\"..\") # Adds higher directory to python modules path.\n",
    "import brevis\n",
    "from brevis import branches\n",
    "from brevis import evaluate"
   ]
  },
  {
   "cell_type": "code",
   "execution_count": 2,
   "id": "9a98c4fe-1f5c-4c14-91b7-af65abe3d205",
   "metadata": {},
   "outputs": [
    {
     "name": "stdout",
     "output_type": "stream",
     "text": [
      "x_train shape: (50000, 32, 32, 3)\n",
      "50000 train samples\n",
      "10000 test samples\n"
     ]
    }
   ],
   "source": [
    "# Model / data parameters\n",
    "num_classes = 10\n",
    "input_shape = (28, 28, 1)\n",
    "(x_train, y_train), (x_test, y_test) = tf.keras.datasets.cifar10.load_data()\n",
    "print(\"x_train shape:\", x_train.shape)\n",
    "print(x_train.shape[0], \"train samples\")\n",
    "print(x_test.shape[0], \"test samples\")\n",
    "\n",
    "\n",
    "# convert class vectors to binary class matrices\n",
    "y_train = keras.utils.to_categorical(y_train, num_classes)\n",
    "y_test = keras.utils.to_categorical(y_test, num_classes)"
   ]
  },
  {
   "cell_type": "code",
   "execution_count": 7,
   "id": "049b26a1-2716-4edc-b77e-c88f60783230",
   "metadata": {},
   "outputs": [
    {
     "name": "stdout",
     "output_type": "stream",
     "text": [
      "targetsis : False\n",
      "trainSize 45000\n",
      "testSize 10000\n"
     ]
    }
   ],
   "source": [
    "\n",
    "train_ds, test_ds, validation_ds = brevis.dataset.prepare.dataset(tf.keras.datasets.cifar10.load_data(),32,5000,22500,None,include_targets=False,num_outputs = 10)"
   ]
  },
  {
   "cell_type": "code",
   "execution_count": 8,
   "id": "ffce4554-874f-4c4c-a276-cfa635333f68",
   "metadata": {},
   "outputs": [
    {
     "name": "stdout",
     "output_type": "stream",
     "text": [
      "(50000, 32, 32, 3)\n",
      "<BatchDataset element_spec=(TensorSpec(shape=(32, 32, 32, 3), dtype=tf.uint8, name=None), TensorSpec(shape=(32, 100), dtype=tf.float32, name=None))>\n"
     ]
    }
   ],
   "source": [
    "# Model / data parameters\n",
    "num_classes = 100\n",
    "batch_size = 32\n",
    "input_shape = (32, 32, 1)\n",
    "(x_train100, y_train100), (x_test100, y_test100) = tf.keras.datasets.cifar100.load_data(label_mode=\"fine\")\n",
    "print(x_train100.shape)\n",
    "# convert class vectors to binary class matrices\n",
    "y_train100 = keras.utils.to_categorical(y_train100, num_classes)\n",
    "y_test100 = keras.utils.to_categorical(y_test100, num_classes)\n",
    "    \n",
    "train_ds100 = tf.data.Dataset.from_tensor_slices((x_train100, y_train100))\n",
    "test_ds100 = tf.data.Dataset.from_tensor_slices((x_test100, y_test100))\n",
    "train_ds100 = (train_ds100\n",
    "                .shuffle(buffer_size=15000,seed=42,reshuffle_each_iteration=False)\n",
    "                .batch(batch_size=batch_size, drop_remainder=True))\n",
    "\n",
    "test_ds100 = (test_ds100\n",
    "                .batch(batch_size=batch_size, drop_remainder=True))\n",
    "print(train_ds100)\n",
    "\n"
   ]
  },
  {
   "cell_type": "code",
   "execution_count": 9,
   "id": "598053a1-fc37-48d4-a3fa-6ab24bd79349",
   "metadata": {},
   "outputs": [],
   "source": [
    "# # Model / data parameters\n",
    "# num_classes = 100\n",
    "# input_shape = (32, 32, 1)\n",
    "# (x_train100, y_train100), (x_test100, y_test100) = tf.keras.datasets.cifar100.load_data(label_mode=\"fine\")\n",
    "\n",
    "# # convert class vectors to binary class matrices\n",
    "# y_train100 = keras.utils.to_categorical(y_train100, num_classes)\n",
    "# y_test100 = keras.utils.to_categorical(y_test100, num_classes)\n"
   ]
  },
  {
   "cell_type": "code",
   "execution_count": 10,
   "id": "f338aa19-d7ed-4f2d-b7df-049c6c6cf534",
   "metadata": {},
   "outputs": [],
   "source": [
    "def KL(alpha,K):\n",
    "    # print(\"K:\",K)\n",
    "    beta=tf.constant(np.ones((1,K)),dtype=tf.float32)\n",
    "    S_alpha = tf.reduce_sum(alpha,axis=1,keepdims=True)\n",
    "    S_beta = tf.reduce_sum(beta,axis=1,keepdims=True)\n",
    "    lnB = tf.compat.v1.lgamma(S_alpha) - tf.reduce_sum(tf.compat.v1.lgamma(alpha),axis=1,keepdims=True)\n",
    "    lnB_uni = tf.reduce_sum(tf.compat.v1.lgamma(beta),axis=1,keepdims=True) - tf.compat.v1.lgamma(S_beta)\n",
    "    \n",
    "    dg0 = tf.compat.v1.digamma(S_alpha)\n",
    "    dg1 = tf.compat.v1.digamma(alpha)\n",
    "    # tf.print(\"alpha\",alpha.shape)\n",
    "    # tf.print(\"beta\",beta.shape)\n",
    "    kl = tf.reduce_sum((alpha - beta)*(dg1-dg0),axis=1,keepdims=True) + lnB + lnB_uni\n",
    "    # print(\"kl\", kl)\n",
    "    return kl\n",
    "\n",
    "\n",
    "class lambda_update(tf.keras.callbacks.Callback):\n",
    "    def __init__(self, annealing_max,  lambda_t=0, max_t=1):\n",
    "        self.lambda_t = tf.Variable(initial_value=lambda_t, dtype=tf.float32)\n",
    "        self.max_t = tf.Variable(initial_value=max_t, dtype=tf.float32)\n",
    "        self.annealing_max = tf.Variable(initial_value=annealing_max, dtype=tf.float32)\n",
    "\n",
    "    def on_epoch_begin(self, epoch, logs={}): #needs to be on begin, otherwise the epoch update won't increase the value from 0 to 0.1 till the 3rd epoch...\n",
    "        val = tf.reduce_min([self.max_t, tf.cast(epoch, tf.dtypes.float32) / tf.cast(self.annealing_max, tf.dtypes.float32)])\n",
    "        tf.print(\"annealing coef updated to:\", val)\n",
    "        self.lambda_t.assign(val)\n",
    "\n",
    "\n",
    "def exp_evidence(logits): \n",
    "    return tf.exp(tf.clip_by_value(logits/10,-10,10))\n",
    "\n",
    "def loss_wrapper(lambda_callback: lambda_update):\n",
    "    def custom_loss_function(p, logits):\n",
    "    #     squared_difference = tf.square(y_true - y_pred)\n",
    "    #     return tf.reduce_mean(squared_difference, axis=-1)\n",
    "    #     alpha = alpha + 1\n",
    "        evidence = exp_evidence(logits)\n",
    "        alpha = evidence + 1\n",
    "\n",
    "        S = tf.reduce_sum(alpha,axis=1,keepdims=True) \n",
    "        E = alpha - 1\n",
    "        m = alpha / S\n",
    "        A = tf.reduce_sum((p-m)**2, axis=1, keepdims=True) \n",
    "        B = tf.reduce_sum(alpha*(S-alpha)/(S*S*(S+1)), axis=1, keepdims=True) \n",
    "        # tf.print(annealing_coef)\n",
    "        # annealing_coef = \n",
    "        annealing_coef =  lambda_callback.lambda_t\n",
    "        alp = E*(1-p) + 1 \n",
    "        C =   annealing_coef * KL(alp,10)\n",
    "        return (A + B) + C\n",
    "    return custom_loss_function\n",
    "\n",
    "\n"
   ]
  },
  {
   "cell_type": "code",
   "execution_count": 10,
   "id": "620c8d81-c83a-460f-8fbd-f7c80b0918bd",
   "metadata": {},
   "outputs": [],
   "source": [
    "# model = keras.models.Sequential()\n",
    "# model.add(layers.Conv2D(32, (3, 3), activation='relu', input_shape=(32, 32, 3)))\n",
    "# model.add(layers.MaxPooling2D((2, 2)))\n",
    "# model.add(layers.Conv2D(64, (3, 3), activation='relu'))\n",
    "# model.add(layers.MaxPooling2D((2, 2)))\n",
    "# model.add(layers.Conv2D(64, (3, 3), activation='relu'))\n",
    "# model.add(layers.Flatten())\n",
    "# model.add(layers.Dense(64, activation='relu'))\n",
    "# model.add(layers.Dense(10))\n",
    "# model.save(\"./models/cifaroutlier_blank.hdf5\")\n"
   ]
  },
  {
   "cell_type": "code",
   "execution_count": 11,
   "id": "396c6f15-e240-4980-bb3f-3020250a12b2",
   "metadata": {},
   "outputs": [],
   "source": [
    "# model = tf.keras.models.Sequential()\n",
    "# from keras import layers\n",
    "# model.add(keras.Input(shape=(32,32,3)))\n",
    "# model.add(layers.Conv2D(32, 5, activation='tanh'))\n",
    "# model.add(layers.AveragePooling2D(2))\n",
    "# model.add(layers.Activation('sigmoid'))\n",
    "# model.add(layers.Conv2D(192, 5, activation='tanh'))\n",
    "# model.add(layers.AveragePooling2D(2))\n",
    "# model.add(layers.Activation('sigmoid'))\n",
    "# model.add(layers.Conv2D(192, 5, activation='tanh'))\n",
    "# model.add(layers.Flatten())\n",
    "# model.add(layers.Dense(1000, activation='tanh'))\n",
    "# model.add(layers.Dense(10, activation='softmax'))\n",
    "\n",
    "def exp_evidence(logits): \n",
    "    return tf.exp(tf.clip_by_value(logits/10,-10,10))\n",
    "\n",
    "def CE(lambda_callback: lambda_update):\n",
    "    #create a wrapper function that returns a function\n",
    "    def cross_entropy_evidence(labels, outputs): \n",
    "        softmax = tf.nn.softmax(outputs)\n",
    "        \n",
    "        evidence = exp_evidence(outputs)\n",
    "        alpha = evidence + 1\n",
    "        S = tf.reduce_sum(alpha, axis=1, keepdims=True) \n",
    "        E = alpha - 1\n",
    "        m = alpha / S\n",
    "        A = tf.reduce_sum(labels * (tf.compat.v1.digamma(S) - tf.compat.v1.digamma(alpha)), axis=1, keepdims=True)\n",
    "        alp = E*(1-labels) + 1 \n",
    "        loss = tf.keras.losses.categorical_crossentropy(labels, m)\n",
    "        annealing_rate =  lambda_callback.lambda_t\n",
    "        C =  annealing_rate * KL(alp,10)\n",
    "        #A = annealing_rate * A\n",
    "        return loss + A +  C\n",
    "        # return (A + B) + C\n",
    "    return  cross_entropy_evidence\n",
    "\n",
    "def MAEBM():\n",
    "    def loss(labels, outputs):\n",
    "        evidence =exp_evidence(outputs) #activation function\n",
    "        # evidence = exp_evidence(outputs)\n",
    "        # alpha = evidence + 1\n",
    "        alpha = evidence + 1\n",
    "        S = tf.reduce_sum(alpha)\n",
    "        # tf.print(S)\n",
    "        alpha_0 = tf.fill(alpha.shape,S)\n",
    "        # tf.print(alpha)\n",
    "        UCE_loss = tf.reduce_mean(labels * (tf.compat.v1.digamma(alpha_0) - tf.compat.v1.digamma(alpha)))\n",
    "        UCE_loss  +=  0.0001  * (tf.reduce_sum(tf.compat.v1.lgamma(alpha)) - tf.compat.v1.lgamma(S) -\n",
    "                (len(alpha) - S) * tf.compat.v1.digamma(S) -\n",
    "                ((alpha - 1.0) * tf.reduce_sum(tf.compat.v1.digamma(alpha))))\n",
    "        # tf.print(UCE_loss)\n",
    "        return UCE_loss\n",
    "    return loss \n",
    "\n",
    "def entropyMetric():\n",
    "    def entropy(p, logits):\n",
    "        #METRIC OF THE mean of uncertainity\n",
    "        evidence =exp_evidence(logits)\n",
    "        alpha = evidence +1\n",
    "        S = tf.reduce_sum(alpha)\n",
    "        Mass = alpha / S\n",
    "        u = num_classes / S\n",
    "        return (tf.reduce_mean(u)) # Note the `axis=-1`\n",
    "    return entropy"
   ]
  },
  {
   "cell_type": "code",
   "execution_count": 14,
   "id": "ced7c27f-d781-4005-9079-a6e96369bd6a",
   "metadata": {
    "tags": []
   },
   "outputs": [
    {
     "name": "stdout",
     "output_type": "stream",
     "text": [
      "WARNING:tensorflow:No training configuration found in the save file, so the model was *not* compiled. Compile it manually.\n",
      "annealing coef updated to: 0\n",
      "Epoch 1/10\n",
      "1406/1406 [==============================] - 9s 6ms/step - loss: 0.7109 - accuracy: 0.4178 - entropy: 0.0124\n",
      "annealing coef updated to: 0.01\n",
      "Epoch 2/10\n",
      "1406/1406 [==============================] - 8s 6ms/step - loss: 0.6452 - accuracy: 0.5677 - entropy: 0.0230\n",
      "annealing coef updated to: 0.02\n",
      "Epoch 3/10\n",
      "1406/1406 [==============================] - 8s 6ms/step - loss: 0.6111 - accuracy: 0.6118 - entropy: 0.0192\n",
      "annealing coef updated to: 0.03\n",
      "Epoch 4/10\n",
      "1406/1406 [==============================] - 8s 6ms/step - loss: 0.5876 - accuracy: 0.6410 - entropy: 0.0128\n",
      "annealing coef updated to: 0.04\n",
      "Epoch 5/10\n",
      "1406/1406 [==============================] - 8s 6ms/step - loss: 0.5633 - accuracy: 0.6671 - entropy: 0.0083\n",
      "annealing coef updated to: 0.05\n",
      "Epoch 6/10\n",
      "1406/1406 [==============================] - 8s 6ms/step - loss: 0.5512 - accuracy: 0.6843 - entropy: 0.0054\n",
      "annealing coef updated to: 0.06\n",
      "Epoch 7/10\n",
      "1406/1406 [==============================] - 8s 6ms/step - loss: 0.5414 - accuracy: 0.6931 - entropy: 0.0042\n",
      "annealing coef updated to: 0.07\n",
      "Epoch 8/10\n",
      "1406/1406 [==============================] - 8s 6ms/step - loss: 0.5265 - accuracy: 0.7046 - entropy: 0.0032\n",
      "annealing coef updated to: 0.08\n",
      "Epoch 9/10\n",
      "1406/1406 [==============================] - 8s 6ms/step - loss: 0.5160 - accuracy: 0.7139 - entropy: 0.0023\n",
      "annealing coef updated to: 0.09\n",
      "Epoch 10/10\n",
      "1406/1406 [==============================] - 8s 6ms/step - loss: 0.5099 - accuracy: 0.7192 - entropy: 0.0019\n"
     ]
    }
   ],
   "source": [
    "\n",
    "def entropyMetric():\n",
    "    def entropy(p, logits):\n",
    "        #METRIC OF THE mean of uncertainity\n",
    "        evidence =exp_evidence(logits)\n",
    "        alpha = evidence +1\n",
    "        S = tf.reduce_sum(alpha)\n",
    "        Mass = alpha / S\n",
    "        u = num_classes / S\n",
    "        return (tf.reduce_mean(u)) # Note the `axis=-1`\n",
    "    return entropy\n",
    "\n",
    "lambda_callback = lambda_update(100)\n",
    "loss = CE(lambda_callback)\n",
    "model = keras.models.load_model(\"./models/cifaroutlier_blank.hdf5\")\n",
    "model.compile(optimizer='adam',\n",
    "              loss=loss_wrapper(lambda_callback),\n",
    "              metrics=['accuracy',entropyMetric()])\n",
    "\n",
    "history = model.fit(train_ds, epochs=10,callbacks=[lambda_callback])"
   ]
  },
  {
   "cell_type": "code",
   "execution_count": 15,
   "id": "aaf5b4db-018b-4c34-8d4e-78981a12c609",
   "metadata": {},
   "outputs": [],
   "source": [
    "model.save('./models/cifaroutlier_EDL_an100.hdf5')"
   ]
  },
  {
   "cell_type": "code",
   "execution_count": null,
   "id": "62b55dbb-7899-4700-b3ab-08236b026066",
   "metadata": {},
   "outputs": [],
   "source": []
  },
  {
   "cell_type": "code",
   "execution_count": 18,
   "id": "5273f6a3-b127-44c8-b225-e643705b34cc",
   "metadata": {},
   "outputs": [
    {
     "ename": "OSError",
     "evalue": "[WinError 127] The specified procedure could not be found. Error loading \"C:\\Users\\Sanity\\AppData\\Local\\conda\\conda\\envs\\py36\\lib\\site-packages\\torch\\lib\\cudnn_adv_infer64_8.dll\" or one of its dependencies.",
     "output_type": "error",
     "traceback": [
      "\u001b[1;31m---------------------------------------------------------------------------\u001b[0m",
      "\u001b[1;31mOSError\u001b[0m                                   Traceback (most recent call last)",
      "\u001b[1;32m~\\AppData\\Local\\Temp/ipykernel_25832/3150372364.py\u001b[0m in \u001b[0;36m<module>\u001b[1;34m\u001b[0m\n\u001b[0;32m      4\u001b[0m \u001b[1;32mimport\u001b[0m \u001b[0mpickle\u001b[0m\u001b[1;33m\u001b[0m\u001b[1;33m\u001b[0m\u001b[0m\n\u001b[0;32m      5\u001b[0m \u001b[1;32mimport\u001b[0m \u001b[0margparse\u001b[0m\u001b[1;33m\u001b[0m\u001b[1;33m\u001b[0m\u001b[0m\n\u001b[1;32m----> 6\u001b[1;33m \u001b[1;32mimport\u001b[0m \u001b[0mtorch\u001b[0m\u001b[1;33m\u001b[0m\u001b[1;33m\u001b[0m\u001b[0m\n\u001b[0m\u001b[0;32m      7\u001b[0m \u001b[1;32mimport\u001b[0m \u001b[0mtorch\u001b[0m\u001b[1;33m.\u001b[0m\u001b[0mnn\u001b[0m \u001b[1;32mas\u001b[0m \u001b[0mnn\u001b[0m\u001b[1;33m\u001b[0m\u001b[1;33m\u001b[0m\u001b[0m\n\u001b[0;32m      8\u001b[0m \u001b[1;32mimport\u001b[0m \u001b[0mtorch\u001b[0m\u001b[1;33m.\u001b[0m\u001b[0mbackends\u001b[0m\u001b[1;33m.\u001b[0m\u001b[0mcudnn\u001b[0m \u001b[1;32mas\u001b[0m \u001b[0mcudnn\u001b[0m\u001b[1;33m\u001b[0m\u001b[1;33m\u001b[0m\u001b[0m\n",
      "\u001b[1;32m~\\AppData\\Local\\conda\\conda\\envs\\py36\\lib\\site-packages\\torch\\__init__.py\u001b[0m in \u001b[0;36m<module>\u001b[1;34m\u001b[0m\n\u001b[0;32m    124\u001b[0m                 \u001b[0merr\u001b[0m \u001b[1;33m=\u001b[0m \u001b[0mctypes\u001b[0m\u001b[1;33m.\u001b[0m\u001b[0mWinError\u001b[0m\u001b[1;33m(\u001b[0m\u001b[0mlast_error\u001b[0m\u001b[1;33m)\u001b[0m\u001b[1;33m\u001b[0m\u001b[1;33m\u001b[0m\u001b[0m\n\u001b[0;32m    125\u001b[0m                 \u001b[0merr\u001b[0m\u001b[1;33m.\u001b[0m\u001b[0mstrerror\u001b[0m \u001b[1;33m+=\u001b[0m \u001b[1;34mf' Error loading \"{dll}\" or one of its dependencies.'\u001b[0m\u001b[1;33m\u001b[0m\u001b[1;33m\u001b[0m\u001b[0m\n\u001b[1;32m--> 126\u001b[1;33m                 \u001b[1;32mraise\u001b[0m \u001b[0merr\u001b[0m\u001b[1;33m\u001b[0m\u001b[1;33m\u001b[0m\u001b[0m\n\u001b[0m\u001b[0;32m    127\u001b[0m             \u001b[1;32melif\u001b[0m \u001b[0mres\u001b[0m \u001b[1;32mis\u001b[0m \u001b[1;32mnot\u001b[0m \u001b[1;32mNone\u001b[0m\u001b[1;33m:\u001b[0m\u001b[1;33m\u001b[0m\u001b[1;33m\u001b[0m\u001b[0m\n\u001b[0;32m    128\u001b[0m                 \u001b[0mis_loaded\u001b[0m \u001b[1;33m=\u001b[0m \u001b[1;32mTrue\u001b[0m\u001b[1;33m\u001b[0m\u001b[1;33m\u001b[0m\u001b[0m\n",
      "\u001b[1;31mOSError\u001b[0m: [WinError 127] The specified procedure could not be found. Error loading \"C:\\Users\\Sanity\\AppData\\Local\\conda\\conda\\envs\\py36\\lib\\site-packages\\torch\\lib\\cudnn_adv_infer64_8.dll\" or one of its dependencies."
     ]
    }
   ],
   "source": [
    "import numpy as np\n",
    "import sys\n",
    "import os\n",
    "import pickle\n",
    "import torch\n",
    "import torch.nn as nn\n",
    "import torch.backends.cudnn as cudnn\n",
    "import torchvision.transforms as trn\n",
    "import torchvision.datasets as dset\n",
    "import torch.nn.functional as F\n",
    "from models.wrn import WideResNet\n",
    "from skimage.filters import gaussian as gblur\n",
    "from PIL import Image as PILImage\n",
    "\n",
    "\n",
    "# /////////////// Detection Prelims ///////////////\n",
    "\n",
    "ood_num_examples = len(test_data) // 5\n",
    "expected_ap = ood_num_examples / (ood_num_examples + len(test_data))\n",
    "\n",
    "concat = lambda x: np.concatenate(x, axis=0)\n",
    "to_np = lambda x: x.data.cpu().numpy()\n",
    "\n",
    "\n",
    "def get_ood_scores(input_set, in_dist=False,stopping_point = None):\n",
    "    _score = []\n",
    "    _right_score = []\n",
    "    _wrong_score = []\n",
    "\n",
    "    with torch.no_grad():\n",
    "        # for batch_idx, (data, target) in enumerate(loader):\n",
    "            # if batch_idx >= ood_num_examples // args.test_bs and in_dist is False:\n",
    "                # break\n",
    "        for i, (x,y) in enumerate(input_set):\n",
    "            if stopping_point and i > stopping_point:\n",
    "                break\n",
    "            print(\"prediction: {} of {}\".format(i,len(test_ds)),end='\\r')\n",
    "            output = model.predict(x)\n",
    "\n",
    "            # data = data.cuda()\n",
    "\n",
    "            # output = net(data)\n",
    "            \n",
    "            \n",
    "            smax = to_np(F.softmax(output, dim=1))\n",
    "\n",
    "            if args.use_xent:\n",
    "                _score.append(to_np((output.mean(1) - torch.logsumexp(output, dim=1))))\n",
    "            else:\n",
    "                if args.score == 'energy':\n",
    "                    _score.append(-to_np((args.T*torch.logsumexp(output / args.T, dim=1))))\n",
    "                else: # original MSP and Mahalanobis (but Mahalanobis won't need this returned)\n",
    "                    _score.append(-np.max(smax, axis=1))\n",
    "\n",
    "            if in_dist:\n",
    "                preds = np.argmax(smax, axis=1)\n",
    "                targets = target.numpy().squeeze()\n",
    "                right_indices = preds == targets\n",
    "                wrong_indices = np.invert(right_indices)\n",
    "\n",
    "                if args.use_xent:\n",
    "                    _right_score.append(to_np((output.mean(1) - torch.logsumexp(output, dim=1)))[right_indices])\n",
    "                    _wrong_score.append(to_np((output.mean(1) - torch.logsumexp(output, dim=1)))[wrong_indices])\n",
    "                else:\n",
    "                    _right_score.append(-np.max(smax[right_indices], axis=1))\n",
    "                    _wrong_score.append(-np.max(smax[wrong_indices], axis=1))\n",
    "\n",
    "    if in_dist:\n",
    "        return concat(_score).copy(), concat(_right_score).copy(), concat(_wrong_score).copy()\n",
    "    else:\n",
    "        return concat(_score)[:ood_num_examples].copy()"
   ]
  },
  {
   "cell_type": "code",
   "execution_count": null,
   "id": "9af62e63-6c50-4304-9471-d24474803015",
   "metadata": {},
   "outputs": [],
   "source": [
    "in_score, right_score, wrong_score = get_ood_scores(test_ds, in_dist=True)"
   ]
  },
  {
   "cell_type": "code",
   "execution_count": 79,
   "id": "c37cbe68-7297-49c3-992a-cf1fa04b2b59",
   "metadata": {
    "jupyter": {
     "source_hidden": true
    },
    "tags": []
   },
   "outputs": [
    {
     "name": "stdout",
     "output_type": "stream",
     "text": [
      "{'confidence_alea_uncert.': 0.09999999999999999, 'entropy_of_expected': -2.302585091994046, 'expected_entropy': -2.1874864443604523, 'mutual_information': -0.11509864763359356, 'EPKL': -0.2420472792329956, 'differential_entropy': 15.84162062462957, 'p(x)': 3.3025851, 'max p(y|x)': 0.1}\n"
     ]
    }
   ],
   "source": [
    "### MA-EBM OOD detection\n",
    "\n",
    "import numpy as np\n",
    "from scipy.special import gammaln, digamma\n",
    "import tensorflow as tf\n",
    "\n",
    "def dirichlet_prior_network_uncertainty(logits, epsilon=1e-10, alpha_correction=True):\n",
    "    \"\"\"\n",
    "    :param logits:\n",
    "    :param epsilon:\n",
    "    :return:\n",
    "    \"\"\"\n",
    "    logits = np.asarray(logits, dtype=np.float64)\n",
    "    alphas = np.exp(logits)\n",
    "\n",
    "    alphas = np.clip(alphas, 0, np.finfo(np.dtype(\"float32\")).max)\n",
    "\n",
    "    if alpha_correction:\n",
    "        alphas = alphas + 1\n",
    "\n",
    "    alpha0 = np.sum(alphas, axis=1, keepdims=True)\n",
    "    probs = alphas / alpha0\n",
    "\n",
    "    conf = np.max(probs, axis=1)\n",
    "\n",
    "    entropy_of_exp = -np.sum(probs * np.log(probs + epsilon), axis=1)\n",
    "    expected_entropy = -np.sum(\n",
    "        (alphas / alpha0) * (digamma(alphas + 1) - digamma(alpha0 + 1.0)), axis=1\n",
    "    )\n",
    "\n",
    "    mutual_info = entropy_of_exp - expected_entropy\n",
    "\n",
    "    epkl = np.squeeze((alphas.shape[1] - 1.0) / alpha0)\n",
    "\n",
    "    dentropy = (\n",
    "        np.sum(\n",
    "            gammaln(alphas) - (alphas - 1.0) * (digamma(alphas) - digamma(alpha0)),\n",
    "            axis=1,\n",
    "            keepdims=True,\n",
    "        )\n",
    "        - gammaln(alpha0)\n",
    "    )\n",
    "\n",
    "    uncertainty = {\n",
    "        \"confidence_alea_uncert.\": conf,\n",
    "        \"entropy_of_expected\": -entropy_of_exp,\n",
    "        \"expected_entropy\": -expected_entropy,\n",
    "        \"mutual_information\": -mutual_info,\n",
    "        \"EPKL\": -epkl,\n",
    "        \"differential_entropy\": -np.squeeze(dentropy),\n",
    "    }\n",
    "    results = {}\n",
    "    \n",
    "    for k,v in uncertainty.items():\n",
    "            results[k] =v.mean()\n",
    "    # k: torch.from_numpy(v).float() for k, v in uncertainty.items()\n",
    "    results[\"p(x)\"] = tf.math.reduce_logsumexp(tf.cast(logits,tf.float32)).numpy()\n",
    "    results[\"max p(y|x)\"] = np.amax(tf.nn.softmax(tf.cast(logits,tf.float32)))\n",
    "\n",
    "    return results\n",
    "# dirichlet_prior_network_uncertainty([[1,1,1,1,1,1,1,1,1,1]])\n",
    "logits = [[1,1,1,1,1,1,1,1,1,1]]\n",
    "dir_uncert = dirichlet_prior_network_uncertainty(logits)\n",
    "print(dir_uncert)"
   ]
  },
  {
   "cell_type": "code",
   "execution_count": 80,
   "id": "be8644e3-e070-4cdb-bac3-2a3d02f9a877",
   "metadata": {},
   "outputs": [],
   "source": [
    "#next, do the outlier comparasion test for the energy model and make a graph for each of these values.\n",
    "import math\n",
    "num_classes=10\n",
    "def getPredictions_energy(model, input_set, stopping_point = None):\n",
    "    # stopping_point = None\n",
    "    num_outputs = len(model.outputs) # the number of output layers for the purpose of providing labels\n",
    "    #     train_ds, test_ds, validation_ds = (dataset)\n",
    "    Results=[]\n",
    "    Pred=[]\n",
    "    Labels =[]\n",
    "    Uncert = []\n",
    "    Outputs = pd.DataFrame()\n",
    "    Dir_U = []\n",
    "    pAcc=[]\n",
    "    for i, (x,y) in enumerate(input_set):\n",
    "        if stopping_point and i > stopping_point:\n",
    "            break\n",
    "        print(\"prediction: {} of {}\".format(i,len(test_ds)),end='\\r')\n",
    "        predictions = model.predict(x)\n",
    "        for j, prediction in enumerate(predictions):\n",
    "            dir_uncert = dirichlet_prior_network_uncertainty(np.array([prediction]))\n",
    "            Dir_U.append(dir_uncert)\n",
    "            Results.append(np.argmax(prediction))\n",
    "            Labels.append(np.argmax(y[j]))\n",
    "    _uncert = np.array(Uncert)\n",
    "    print(_uncert)\n",
    "    print(\"avg entropy\",_uncert.mean())\n",
    "    energy_uncert = pd.DataFrame(Dir_U)\n",
    "    # print(energy_uncert)\n",
    "    df = pd.DataFrame({\"x\":Results,\"y\":Labels})\n",
    "    df = pd.concat([df,energy_uncert],axis=1,join=\"inner\")\n",
    "    conditions = [df['x'] == df['y'],df['x'] != df['y']]\n",
    "    choices = [1, 0]\n",
    "    df['correct'] = np.select(conditions, choices, default=None)\n",
    "    return df\n",
    "\n",
    "# Correct = outputs.loc[(outputs['correct'] == True)].groupby(\"correct\")[\"uncert\"].mean().iloc[0]\n",
    "# Incorrect = outputs.loc[(outputs['correct'] == False)].groupby(\"correct\")[\"uncert\"].mean().iloc[0]\n",
    "# print(\"Correct\", Correct, \"incorrect\", Incorrect)\n",
    "# print(\"overallAcc\", len(outputs.loc[(outputs['correct'] == True)])/len(outputs))\n",
    "\n"
   ]
  },
  {
   "cell_type": "code",
   "execution_count": null,
   "id": "a1c41540-ee89-4351-b141-544c25fadd3a",
   "metadata": {},
   "outputs": [
    {
     "name": "stdout",
     "output_type": "stream",
     "text": [
      "[]ediction: 311 of 312\n",
      "avg entropy nan\n"
     ]
    },
    {
     "name": "stderr",
     "output_type": "stream",
     "text": [
      "C:\\Users\\Sanity\\AppData\\Local\\conda\\conda\\envs\\py36\\lib\\site-packages\\ipykernel_launcher.py:27: RuntimeWarning: Mean of empty slice.\n",
      "C:\\Users\\Sanity\\AppData\\Local\\conda\\conda\\envs\\py36\\lib\\site-packages\\numpy\\core\\_methods.py:189: RuntimeWarning: invalid value encountered in double_scalars\n",
      "  ret = ret.dtype.type(ret / rcount)\n"
     ]
    },
    {
     "name": "stdout",
     "output_type": "stream",
     "text": [
      "      x  y  confidence_alea_uncert.  entropy_of_expected  expected_entropy  \\\n",
      "0     8  3                 0.814705            -0.482196         -0.482049   \n",
      "1     8  8                 0.999999            -0.000019         -0.000019   \n",
      "2     0  8                 0.525802            -0.693304         -0.693240   \n",
      "3     0  0                 0.999313            -0.005692         -0.005692   \n",
      "4     6  6                 0.990790            -0.055615         -0.055382   \n",
      "...  .. ..                      ...                  ...               ...   \n",
      "9979  5  3                 0.718007            -0.610635         -0.609681   \n",
      "9980  0  0                 0.964415            -0.154899         -0.154828   \n",
      "9981  7  4                 0.998228            -0.014470         -0.014319   \n",
      "9982  4  2                 0.999989            -0.000162         -0.000158   \n",
      "9983  1  0                 1.000000            -0.000004         -0.000004   \n",
      "\n",
      "      mutual_information          EPKL  differential_entropy       p(x)  \\\n",
      "0          -1.464926e-04 -3.396071e-04             78.099183  10.184568   \n",
      "1          -4.698362e-07 -1.110693e-06            134.018903  15.907750   \n",
      "2          -6.413993e-05 -1.486935e-04             84.867831  11.010683   \n",
      "3          -1.655271e-07 -3.860463e-07            138.422011  16.964533   \n",
      "4          -2.330452e-04 -5.340907e-04             74.935948   9.731576   \n",
      "...                  ...           ...                   ...        ...   \n",
      "9979       -9.539727e-04 -2.211575e-03             62.028188   8.308814   \n",
      "9980       -7.074102e-05 -1.639980e-04             85.028729  10.912699   \n",
      "9981       -1.513054e-04 -3.509640e-04             80.147846  10.151662   \n",
      "9982       -4.695028e-06 -1.110738e-05            113.446114  13.605113   \n",
      "9983       -9.845572e-08 -2.352358e-07            148.139118  17.459902   \n",
      "\n",
      "      max p(y|x) correct  \n",
      "0       0.814975       0  \n",
      "1       1.000000       1  \n",
      "2       0.525872       0  \n",
      "3       0.999314       1  \n",
      "4       0.991318       1  \n",
      "...          ...     ...  \n",
      "9979    0.719529       0  \n",
      "9980    0.964573       1  \n",
      "9981    0.998578       0  \n",
      "9982    1.000000       0  \n",
      "9983    1.000000       0  \n",
      "\n",
      "[9984 rows x 11 columns]\n",
      "prediction: 71 of 312\r"
     ]
    }
   ],
   "source": [
    "\n",
    "outputs_test = getPredictions_energy(model,test_ds)\n",
    "print(outputs_test)\n",
    "        \n",
    "outputs100 = getPredictions_energy(model,test_ds100)\n",
    "print(outputs100)\n"
   ]
  },
  {
   "cell_type": "code",
   "execution_count": 77,
   "id": "703de247-033e-4657-8766-427c8d58b6b8",
   "metadata": {},
   "outputs": [],
   "source": [
    "def buildOutlierPlot_energy(ID,OOD,threshold=None):\n",
    "    for k in ['confidence_alea_uncert.','entropy_of_expected','expected_entropy','mutual_information','EPKL','differential_entropy']:\n",
    "        _ = plt.hist(ID[k].tolist(), bins=10)  # arguments are passed to np.histogram\n",
    "        _ = plt.hist(OOD[k].tolist(), bins=10,color=\"red\",alpha=0.5)  # arguments are passed to np.histogram\n",
    "        # plt.title(\"Histogram with 'auto' bins\")\n",
    "        plt.title(k)\n",
    "        plt.legend([\"In distribution\",\"Out of Distribution\"])\n",
    "        plt.xlabel(\"entropy\")\n",
    "        plt.ylabel(\"frequency\")\n",
    "        plt.show()\n",
    "        # print(\"OOD accepted with avg ID entropy threshold of \",threshold, \": \", len(OOD.loc[(OOD['uncert'] <= threshold)]), \"out of \", len(OOD))\n",
    "        # print(\"ID accepted with avg ID entropy threshold of \",threshold, \": \", len(ID.loc[(ID['uncert'] <= threshold)]), \"out of \", len(ID), \"with acc of \", len(ID.loc[(ID['uncert'] <= threshold) & ID['correct'] == True])/len(ID.loc[(ID['uncert'] <= threshold)]))\n",
    "        # Correct = ID.loc[(ID['correct'] == True)]\n",
    "        # Incorrect = ID.loc[(ID['correct'] == False)]\n",
    "        # print(\"overall acc on ID:\",len(Correct)/len(ID))\n",
    "    \n",
    "# buildOutlierPlot_energy(outputs_test, outputs100, None)"
   ]
  },
  {
   "cell_type": "code",
   "execution_count": 78,
   "id": "ed3c1aee-9d0d-4b1b-a150-bb426dd627f0",
   "metadata": {
    "tags": []
   },
   "outputs": [
    {
     "data": {
      "image/png": "[encoded data removed]",
      "text/plain": [
       "<Figure size 432x288 with 1 Axes>"
      ]
     },
     "metadata": {},
     "output_type": "display_data"
    },
    {
     "data": {
      "image/png": "[encoded data removed]",
      "text/plain": [
       "<Figure size 432x288 with 1 Axes>"
      ]
     },
     "metadata": {},
     "output_type": "display_data"
    },
    {
     "data": {
      "image/png": "[encoded data removed]",
      "text/plain": [
       "<Figure size 432x288 with 1 Axes>"
      ]
     },
     "metadata": {},
     "output_type": "display_data"
    },
    {
     "data": {
      "image/png": "[encoded data removed]",
      "text/plain": [
       "<Figure size 432x288 with 1 Axes>"
      ]
     },
     "metadata": {},
     "output_type": "display_data"
    },
    {
     "data": {
      "image/png": "[encoded data removed]",
      "text/plain": [
       "<Figure size 432x288 with 1 Axes>"
      ]
     },
     "metadata": {},
     "output_type": "display_data"
    },
    {
     "data": {
      "image/png": "[encoded data removed]",
      "text/plain": [
       "<Figure size 432x288 with 1 Axes>"
      ]
     },
     "metadata": {},
     "output_type": "display_data"
    }
   ],
   "source": [
    "buildOutlierPlot_energy(outputs_test,outputs100)"
   ]
  },
  {
   "cell_type": "code",
   "execution_count": 172,
   "id": "8827f485-2350-43f0-aad1-efd119cb53e3",
   "metadata": {},
   "outputs": [
    {
     "data": {
      "image/png": "[encoded data removed]",
      "text/plain": [
       "<Figure size 432x288 with 1 Axes>"
      ]
     },
     "metadata": {},
     "output_type": "display_data"
    },
    {
     "name": "stdout",
     "output_type": "stream",
     "text": [
      "OOD accepted with avg ID entropy threshold of  0.051234607 :  8231 out of  9984\n",
      "ID accepted with avg ID entropy threshold of  0.051234607 :  8968 out of  9984 with acc of  0.6952497769848349\n",
      "overall acc on ID: 0.65625\n"
     ]
    }
   ],
   "source": [
    "buildOutlierPlot(outputs_test, outputs100, 0.051234607)"
   ]
  },
  {
   "cell_type": "code",
   "execution_count": 171,
   "id": "2fef141c-0005-49e8-b697-3eac6e40e981",
   "metadata": {},
   "outputs": [
    {
     "data": {
      "image/png": "[encoded data removed]",
      "text/plain": [
       "<Figure size 432x288 with 1 Axes>"
      ]
     },
     "metadata": {},
     "output_type": "display_data"
    },
    {
     "name": "stdout",
     "output_type": "stream",
     "text": [
      "OOD accepted with avg ID entropy threshold of  0.4392441 :  9156 out of  9984\n",
      "ID accepted with avg ID entropy threshold of  0.4392441 :  9494 out of  9984 with acc of  0.6754792500526648\n",
      "overall acc on ID: 0.65625\n"
     ]
    }
   ],
   "source": []
  },
  {
   "cell_type": "code",
   "execution_count": null,
   "id": "194b4b9e-0b38-4643-9bb2-a4d73c1e8bb6",
   "metadata": {},
   "outputs": [],
   "source": []
  },
  {
   "cell_type": "code",
   "execution_count": 53,
   "id": "170d5dd6-ffa8-4fc0-8c71-a59b29388157",
   "metadata": {},
   "outputs": [
    {
     "name": "stdout",
     "output_type": "stream",
     "text": [
      "(50000, 32, 32, 3)\n",
      "<BatchDataset element_spec=(TensorSpec(shape=(32, 32, 32, 3), dtype=tf.uint8, name=None), TensorSpec(shape=(32, 100), dtype=tf.float32, name=None))>\n"
     ]
    }
   ],
   "source": []
  },
  {
   "cell_type": "code",
   "execution_count": 129,
   "id": "674be67b-75d7-43be-b44f-6c625680244c",
   "metadata": {
    "tags": []
   },
   "outputs": [
    {
     "name": "stdout",
     "output_type": "stream",
     "text": [
      "[0.9289042  0.5010212  0.85671026 ... 0.23634537 0.8410823  0.53505623]\n",
      "avg entropy 0.4392441\n",
      "      x  y    uncert correct\n",
      "0     3  3  0.928904       1\n",
      "1     1  8  0.501021       0\n",
      "2     1  8  0.856710       0\n",
      "3     0  0  0.904850       1\n",
      "4     4  6  0.093025       0\n",
      "...  .. ..       ...     ...\n",
      "9979  3  3  0.862676       1\n",
      "9980  8  0  0.966392       0\n",
      "9981  4  4  0.236345       1\n",
      "9982  6  2  0.841082       0\n",
      "9983  1  0  0.535056       0\n",
      "\n",
      "[9984 rows x 4 columns]\n"
     ]
    }
   ],
   "source": [
    "import math\n",
    "num_classes=10\n",
    "def getPredictions(model, input_set):\n",
    "    stopping_point = None\n",
    "    num_outputs = len(model.outputs) # the number of output layers for the purpose of providing labels\n",
    "    #     train_ds, test_ds, validation_ds = (dataset)\n",
    "    Results=[]\n",
    "    Pred=[]\n",
    "    Labels =[]\n",
    "    Uncert = []\n",
    "    Outputs = pd.DataFrame()\n",
    "    pAcc=[]\n",
    "    for i, (x,y) in enumerate(input_set):\n",
    "        if stopping_point and i > stopping_point:\n",
    "            break\n",
    "        print(\"prediction: {} of {}\".format(i,len(test_ds)),end='\\r')\n",
    "        predictions = model.predict(x)\n",
    "        for j, prediction in enumerate(predictions):\n",
    "            evidence =exp_evidence(prediction)\n",
    "            alpha = evidence +1\n",
    "            S = sum(alpha)\n",
    "            E = alpha - 1\n",
    "            Mass = alpha / S\n",
    "            u = num_classes / S\n",
    "            Uncert.append(u.numpy().mean())\n",
    "            Results.append(np.argmax(prediction))\n",
    "            Labels.append(np.argmax(y[j]))\n",
    "    _uncert = np.array(Uncert)\n",
    "    print(_uncert)\n",
    "    print(\"avg entropy\",_uncert.mean())\n",
    "    df = pd.DataFrame({\"x\":Results,\"y\":Labels,\"uncert\":Uncert})\n",
    "    conditions = [df['x'] == df['y'],df['x'] != df['y']]\n",
    "    choices = [1, 0]\n",
    "    df['correct'] = np.select(conditions, choices, default=None)\n",
    "    return df\n",
    "\n",
    "# Correct = outputs.loc[(outputs['correct'] == True)].groupby(\"correct\")[\"uncert\"].mean().iloc[0]\n",
    "# Incorrect = outputs.loc[(outputs['correct'] == False)].groupby(\"correct\")[\"uncert\"].mean().iloc[0]\n",
    "# print(\"Correct\", Correct, \"incorrect\", Incorrect)\n",
    "# print(\"overallAcc\", len(outputs.loc[(outputs['correct'] == True)])/len(outputs))\n",
    "\n"
   ]
  },
  {
   "cell_type": "code",
   "execution_count": 110,
   "id": "31b75a2c-71eb-45fd-9d51-4b743e4c9f58",
   "metadata": {},
   "outputs": [
    {
     "name": "stdout",
     "output_type": "stream",
     "text": [
      "avg entropy 4.39244132\n",
      "      x  y    uncert correct\n",
      "0     3  3  9.289042       1\n",
      "1     1  8  5.010212       0\n",
      "2     1  8  8.567102       0\n",
      "3     0  0  9.048504       1\n",
      "4     4  6  0.930254       0\n",
      "...  .. ..       ...     ...\n",
      "9979  3  3  8.626763       1\n",
      "9980  8  0  9.663918       0\n",
      "9981  4  4  2.363454       1\n",
      "9982  6  2  8.410823       0\n",
      "9983  1  0  5.350562       0\n",
      "\n",
      "[9984 rows x 4 columns]\n"
     ]
    }
   ],
   "source": [
    "outputs = getPredictions(model,test_ds)\n",
    "print(outputs)\n",
    "# avg entropy 0.43924412"
   ]
  },
  {
   "cell_type": "code",
   "execution_count": 117,
   "id": "42f7ed19-80ad-4c6e-88cf-b89ba918bafc",
   "metadata": {
    "collapsed": true,
    "jupyter": {
     "outputs_hidden": true
    },
    "tags": []
   },
   "outputs": [
    {
     "name": "stdout",
     "output_type": "stream",
     "text": [
      "      x  y    uncert correct\n",
      "4     4  6  0.930254       0\n",
      "5     5  6  3.623051       0\n",
      "6     9  1  1.296380       0\n",
      "7     6  6  2.699459       1\n",
      "11    9  9  0.004538       1\n",
      "...  .. ..       ...     ...\n",
      "9975  7  7  0.004538       1\n",
      "9976  5  5  0.979602       1\n",
      "9977  5  5  0.282922       1\n",
      "9978  4  7  0.796550       0\n",
      "9981  4  4  2.363454       1\n",
      "\n",
      "[5065 rows x 4 columns]\n",
      "      x  y    uncert correct\n",
      "0     3  3  9.289042       1\n",
      "3     0  0  9.048504       1\n",
      "7     6  6  2.699459       1\n",
      "8     3  3  7.678715       1\n",
      "9     1  1  6.884835       1\n",
      "...  .. ..       ...     ...\n",
      "9975  7  7  0.004538       1\n",
      "9976  5  5  0.979602       1\n",
      "9977  5  5  0.282922       1\n",
      "9979  3  3  8.626763       1\n",
      "9981  4  4  2.363454       1\n",
      "\n",
      "[6483 rows x 4 columns]\n"
     ]
    },
    {
     "data": {
      "image/png": "[encoded data removed]",
      "text/plain": [
       "<Figure size 432x288 with 1 Axes>"
      ]
     },
     "metadata": {},
     "output_type": "display_data"
    }
   ],
   "source": [
    "threshold = 4.39244132\n",
    "accepted = outputs.loc[(outputs['uncert'] <= threshold)]\n",
    "print(accepted)\n",
    "\n",
    "import matplotlib.pyplot as plt\n",
    "Correct = outputs.loc[(outputs['correct'] == True)]\n",
    "Incorrect = outputs.loc[(outputs['correct'] == False)]\n",
    "print(Correct)\n",
    "_ = plt.hist(Correct['uncert'].tolist(), bins=10)  # arguments are passed to np.histogram\n",
    "_ = plt.hist(Incorrect['uncert'].tolist(), bins=10,color=\"red\",alpha=0.5)  # arguments are passed to np.histogram\n",
    "# plt.title(\"Histogram with 'auto' bins\")\n",
    "plt.show()"
   ]
  },
  {
   "cell_type": "code",
   "execution_count": 130,
   "id": "3bc398ce-0c38-44db-9cb8-c001bba022b9",
   "metadata": {
    "tags": []
   },
   "outputs": [
    {
     "name": "stdout",
     "output_type": "stream",
     "text": [
      "[0.23711371 0.67648697 0.85404116 ... 0.7878681  0.66152674 0.10553702]\n",
      "avg entropy 0.66300267\n",
      "      x   y    uncert correct\n",
      "0     0  49  0.237114       0\n",
      "1     4  33  0.676487       0\n",
      "2     4  72  0.854041       0\n",
      "3     1  51  0.115120       0\n",
      "4     1  71  0.842340       0\n",
      "...  ..  ..       ...     ...\n",
      "9979  3  27  0.366997       0\n",
      "9980  8  30  0.636400       0\n",
      "9981  9  52  0.787868       0\n",
      "9982  6  74  0.661527       0\n",
      "9983  6  29  0.105537       0\n",
      "\n",
      "[9984 rows x 4 columns]\n"
     ]
    }
   ],
   "source": [
    "\n",
    "outputs100 = getPredictions(model,test_ds100)\n",
    "print(outputs100)"
   ]
  },
  {
   "cell_type": "code",
   "execution_count": 131,
   "id": "0716cd60-9560-43b5-bc28-e6a0e56b3d7c",
   "metadata": {
    "collapsed": true,
    "jupyter": {
     "outputs_hidden": true
    },
    "tags": []
   },
   "outputs": [
    {
     "name": "stdout",
     "output_type": "stream",
     "text": [
      "      x   y    uncert correct\n",
      "0     0  49  0.237114       0\n",
      "3     1  51  0.115120       0\n",
      "6     4  15  0.370688       0\n",
      "9     7   0  0.156786       0\n",
      "10    3  71  0.411594       0\n",
      "...  ..  ..       ...     ...\n",
      "9970  6  18  0.008494       0\n",
      "9972  8  26  0.239801       0\n",
      "9974  8  11  0.308005       0\n",
      "9979  3  27  0.366997       0\n",
      "9983  6  29  0.105537       0\n",
      "\n",
      "[2403 rows x 4 columns]\n",
      "      x  y    uncert correct\n",
      "200   6  6  0.887254       1\n",
      "267   1  1  0.786784       1\n",
      "268   6  6  0.806364       1\n",
      "476   8  8  0.453028       1\n",
      "648   7  7  0.866996       1\n",
      "...  .. ..       ...     ...\n",
      "9524  1  1  0.681051       1\n",
      "9853  4  4  0.495359       1\n",
      "9857  9  9  0.902897       1\n",
      "9874  7  7  0.935731       1\n",
      "9945  4  4  0.835873       1\n",
      "\n",
      "[84 rows x 4 columns]\n"
     ]
    },
    {
     "data": {
      "image/png": "[encoded data removed]",
      "text/plain": [
       "<Figure size 432x288 with 1 Axes>"
      ]
     },
     "metadata": {},
     "output_type": "display_data"
    }
   ],
   "source": [
    "threshold = 0.4392441\n",
    "accepted = outputs100.loc[(outputs100['uncert'] <= threshold)]\n",
    "print(accepted)\n",
    "\n",
    "import matplotlib.pyplot as plt\n",
    "Correct = outputs100.loc[(outputs100['correct'] == True)]\n",
    "Incorrect = outputs100.loc[(outputs100['correct'] == False)]\n",
    "print(Correct)\n",
    "_ = plt.hist(Correct['uncert'].tolist(), bins=10)  # arguments are passed to np.histogram\n",
    "_ = plt.hist(Incorrect['uncert'].tolist(), bins=10,color=\"red\",alpha=0.5)  # arguments are passed to np.histogram\n",
    "# plt.title(\"Histogram with 'auto' bins\")\n",
    "plt.show()"
   ]
  },
  {
   "cell_type": "code",
   "execution_count": 140,
   "id": "f38e08cc-0633-4516-b40a-6cd4a94be378",
   "metadata": {},
   "outputs": [
    {
     "name": "stdout",
     "output_type": "stream",
     "text": [
      "      x  y    uncert correct\n",
      "200   6  6  0.887254       1\n",
      "267   1  1  0.786784       1\n",
      "268   6  6  0.806364       1\n",
      "476   8  8  0.453028       1\n",
      "648   7  7  0.866996       1\n",
      "...  .. ..       ...     ...\n",
      "9524  1  1  0.681051       1\n",
      "9853  4  4  0.495359       1\n",
      "9857  9  9  0.902897       1\n",
      "9874  7  7  0.935731       1\n",
      "9945  4  4  0.835873       1\n",
      "\n",
      "[84 rows x 4 columns]\n"
     ]
    },
    {
     "data": {
      "image/png": "[encoded data removed]",
      "text/plain": [
       "<Figure size 432x288 with 1 Axes>"
      ]
     },
     "metadata": {},
     "output_type": "display_data"
    },
    {
     "name": "stdout",
     "output_type": "stream",
     "text": [
      "OOD accepted with avg ID entropy threshold of  0.4392441 :  2403 out of  9984\n",
      "ID accepted with avg ID entropy threshold of  0.4392441 :  5065 out of  9984 with acc of  0.8452122408687068\n"
     ]
    }
   ],
   "source": [
    "def buildOutlierPlot(ID,OOD,threshold):\n",
    "    _ = plt.hist(ID['uncert'].tolist(), bins=10)  # arguments are passed to np.histogram\n",
    "    _ = plt.hist(OOD['uncert'].tolist(), bins=10,color=\"red\",alpha=0.5)  # arguments are passed to np.histogram\n",
    "    # plt.title(\"Histogram with 'auto' bins\")\n",
    "    plt.legend([\"In distribution\",\"Out of Distribution\"])\n",
    "    plt.xlabel(\"entropy\")\n",
    "    plt.ylabel(\"frequency\")\n",
    "    plt.show()\n",
    "    print(\"OOD accepted with avg ID entropy threshold of \",threshold, \": \", len(OOD.loc[(OOD['uncert'] <= threshold)]), \"out of \", len(OOD))\n",
    "    print(\"ID accepted with avg ID entropy threshold of \",threshold, \": \", len(ID.loc[(ID['uncert'] <= threshold)]), \"out of \", len(ID), \"with acc of \", len(ID.loc[(ID['uncert'] <= threshold) & ID['correct'] == True])/len(ID.loc[(ID['uncert'] <= threshold)]))\n",
    "    Correct = ID.loc[(ID['correct'] == True)]\n",
    "    Incorrect = ID.loc[(ID['correct'] == False)]\n",
    "    print(\"overall acc on ID:\",len(Correct)/len(ID))\n",
    "    \n",
    "buildOutlierPlot(outputs_test, outputs100, 0.4392441)"
   ]
  },
  {
   "cell_type": "code",
   "execution_count": 142,
   "id": "52b5572f-7616-4ac7-9fab-312f329408c4",
   "metadata": {},
   "outputs": [
    {
     "name": "stdout",
     "output_type": "stream",
     "text": [
      "0.6493389423076923\n"
     ]
    }
   ],
   "source": [
    "Correct = outputs_test.loc[(outputs_test['correct'] == True)]\n",
    "Incorrect = outputs_test.loc[(outputs_test['correct'] == False)]\n",
    "print(len(Correct)/len(outputs_test))"
   ]
  },
  {
   "cell_type": "code",
   "execution_count": 152,
   "id": "711b843c-4dc7-4a64-a1b4-f7e46500287d",
   "metadata": {},
   "outputs": [
    {
     "name": "stdout",
     "output_type": "stream",
     "text": [
      "WARNING:tensorflow:No training configuration found in the save file, so the model was *not* compiled. Compile it manually.\n",
      "Epoch 1/10\n",
      "1406/1406 [==============================] - 7s 4ms/step - loss: 1.7714 - accuracy: 0.3800 - entropy: -269.5092\n",
      "Epoch 2/10\n",
      "1406/1406 [==============================] - 6s 4ms/step - loss: 1.3332 - accuracy: 0.5236 - entropy: -547.2267\n",
      "Epoch 3/10\n",
      "1406/1406 [==============================] - 6s 4ms/step - loss: 1.1859 - accuracy: 0.5852 - entropy: -793.7892\n",
      "Epoch 4/10\n",
      "1406/1406 [==============================] - 6s 4ms/step - loss: 1.0911 - accuracy: 0.6173 - entropy: -1051.1556\n",
      "Epoch 5/10\n",
      "1406/1406 [==============================] - 6s 5ms/step - loss: 1.0100 - accuracy: 0.6464 - entropy: -1337.5408\n",
      "Epoch 6/10\n",
      "1406/1406 [==============================] - 7s 5ms/step - loss: 0.9382 - accuracy: 0.6712 - entropy: -1744.2469\n",
      "Epoch 7/10\n",
      "1406/1406 [==============================] - 6s 4ms/step - loss: 0.8893 - accuracy: 0.6900 - entropy: -2221.8240\n",
      "Epoch 8/10\n",
      "1406/1406 [==============================] - 6s 4ms/step - loss: 0.8389 - accuracy: 0.7068 - entropy: -2834.1406\n",
      "Epoch 9/10\n",
      "1406/1406 [==============================] - 6s 5ms/step - loss: 0.7933 - accuracy: 0.7229 - entropy: -3565.3894\n",
      "Epoch 10/10\n",
      "1406/1406 [==============================] - 6s 4ms/step - loss: 0.7503 - accuracy: 0.7383 - entropy: -4534.8848\n"
     ]
    }
   ],
   "source": [
    "def entropyMetric_old():\n",
    "    def entropy(p, y_hat):\n",
    "        #METRIC OF THE mean of uncertainity\n",
    "        val = y_hat * tf.math.log(y_hat)/tf.math.log(tf.constant(2, dtype=y_hat.dtype))\n",
    "        sumEntropies =  tf.reduce_sum(tf.boolean_mask(val,tf.math.is_finite(val)))\n",
    "        return -sumEntropies\n",
    "    return entropy\n",
    "\n",
    "loss = tf.keras.losses.CategoricalCrossentropy(from_logits=True)\n",
    "model = keras.models.load_model(\"./models/cifaroutlier_blank.hdf5\")\n",
    "model.compile(optimizer='adam',\n",
    "              loss=loss,\n",
    "              metrics=['accuracy',entropyMetric_old()])\n",
    "\n",
    "history = model.fit(train_ds, epochs=10)"
   ]
  },
  {
   "cell_type": "code",
   "execution_count": 155,
   "id": "9785e51e-2b74-4c78-8662-e325cea7ebc3",
   "metadata": {},
   "outputs": [
    {
     "name": "stdout",
     "output_type": "stream",
     "text": [
      "[2.9127266  0.28847754 1.7646978  ... 1.5443833  2.1113863  0.4810803 ]\n",
      "avg entropy 1.0540112\n",
      "      x  y    uncert correct\n",
      "0     8  3  2.912727       0\n",
      "1     8  8  0.288478       1\n",
      "2     0  8  1.764698       0\n",
      "3     0  0  0.412173       1\n",
      "4     6  6  1.835032       1\n",
      "...  .. ..       ...     ...\n",
      "9979  3  3  0.222059       1\n",
      "9980  0  0  0.102112       1\n",
      "9981  7  4  1.544383       0\n",
      "9982  3  2  2.111386       0\n",
      "9983  1  0  0.481080       0\n",
      "\n",
      "[9984 rows x 4 columns]\n"
     ]
    }
   ],
   "source": [
    "import math\n",
    "num_classes=10\n",
    "def getPredictions(model, input_set):\n",
    "    stopping_point = None\n",
    "    num_outputs = len(model.outputs) # the number of output layers for the purpose of providing labels\n",
    "    #     train_ds, test_ds, validation_ds = (dataset)\n",
    "    Results=[]\n",
    "    Pred=[]\n",
    "    Labels =[]\n",
    "    Uncert = []\n",
    "    Outputs = pd.DataFrame()\n",
    "    pAcc=[]\n",
    "    for i, (x,y) in enumerate(input_set):\n",
    "        if stopping_point and i > stopping_point:\n",
    "            break\n",
    "        print(\"prediction: {} of {}\".format(i,len(test_ds)),end='\\r')\n",
    "        predictions = model.predict(x)\n",
    "        for j, prediction in enumerate(predictions):\n",
    "            y_hat =tf.nn.softmax(prediction)\n",
    "            val = y_hat * tf.math.log(y_hat)/tf.math.log(tf.constant(2, dtype=y_hat.dtype))\n",
    "            u =  -tf.reduce_sum(tf.boolean_mask(val,tf.math.is_finite(val)))\n",
    "            Uncert.append(u.numpy().mean())\n",
    "            Results.append(np.argmax(prediction))\n",
    "            Labels.append(np.argmax(y[j]))\n",
    "    _uncert = np.array(Uncert)\n",
    "    print(_uncert)\n",
    "    print(\"avg entropy\",_uncert.mean())\n",
    "    df = pd.DataFrame({\"x\":Results,\"y\":Labels,\"uncert\":Uncert})\n",
    "    conditions = [df['x'] == df['y'],df['x'] != df['y']]\n",
    "    choices = [1, 0]\n",
    "    df['correct'] = np.select(conditions, choices, default=None)\n",
    "    return df\n",
    "\n",
    "outputs_test2 = getPredictions(model,test_ds)\n",
    "print(outputs_test2)\n",
    "# Correct = outputs.loc[(outputs['correct'] == True)].groupby(\"correct\")[\"uncert\"].mean().iloc[0]\n",
    "# Incorrect = outputs.loc[(outputs['correct'] == False)].groupby(\"correct\")[\"uncert\"].mean().iloc[0]\n",
    "# print(\"Correct\", Correct, \"incorrect\", Incorrect)\n",
    "# print(\"overallAcc\", len(outputs.loc[(outputs['correct'] == True)])/len(outputs))\n",
    "model.evaluate(test_ds)\n"
   ]
  },
  {
   "cell_type": "code",
   "execution_count": 156,
   "id": "21dc119f-f1fa-498e-8d91-184708171237",
   "metadata": {},
   "outputs": [
    {
     "name": "stdout",
     "output_type": "stream",
     "text": [
      "[0.7781605 2.2761638 1.5880288 ... 0.7205749 2.28415   1.5985643]\n",
      "avg entropy 1.5279474\n",
      "      x   y    uncert correct\n",
      "0     2  49  0.778161       0\n",
      "1     4  33  2.276164       0\n",
      "2     0  72  1.588029       0\n",
      "3     9  51  1.273938       0\n",
      "4     8  71  2.651380       0\n",
      "...  ..  ..       ...     ...\n",
      "9979  2  27  0.562674       0\n",
      "9980  0  30  1.932048       0\n",
      "9981  7  52  0.720575       0\n",
      "9982  5  74  2.284150       0\n",
      "9983  2  29  1.598564       0\n",
      "\n",
      "[9984 rows x 4 columns]\n"
     ]
    }
   ],
   "source": [
    "outputs100_2 = getPredictions(model,test_ds100)\n",
    "print(outputs100_2)"
   ]
  },
  {
   "cell_type": "code",
   "execution_count": 161,
   "id": "a3fb4969-77c7-40ed-bc9b-54f945d85cfa",
   "metadata": {},
   "outputs": [
    {
     "data": {
      "image/png": "[encoded data removed]",
      "text/plain": [
       "<Figure size 432x288 with 1 Axes>"
      ]
     },
     "metadata": {},
     "output_type": "display_data"
    },
    {
     "name": "stdout",
     "output_type": "stream",
     "text": [
      "OOD accepted with avg ID entropy threshold of  1.5279474 :  4726 out of  9984\n",
      "ID accepted with avg ID entropy threshold of  1.5279474 :  6876 out of  9984 with acc of  0.7232402559627691\n",
      "overall acc on ID: 0.6126802884615384\n"
     ]
    }
   ],
   "source": [
    "def buildOutlierPlot(ID,OOD,threshold):\n",
    "    _ = plt.hist(ID['uncert'].tolist(), bins=10)  # arguments are passed to np.histogram\n",
    "    _ = plt.hist(OOD['uncert'].tolist(), bins=10,color=\"red\",alpha=0.5)  # arguments are passed to np.histogram\n",
    "    # plt.title(\"Histogram with 'auto' bins\")\n",
    "    plt.legend([\"In distribution\",\"Out of Distribution\"])\n",
    "    plt.xlabel(\"entropy\")\n",
    "    plt.ylabel(\"frequency\")\n",
    "    plt.show()\n",
    "    print(\"OOD accepted with avg ID entropy threshold of \",threshold, \": \", len(OOD.loc[(OOD['uncert'] <= threshold)]), \"out of \", len(OOD))\n",
    "    print(\"ID accepted with avg ID entropy threshold of \",threshold, \": \", len(ID.loc[(ID['uncert'] <= threshold)]), \"out of \", len(ID), \"with acc of \", len(ID.loc[(ID['uncert'] <= threshold) & ID['correct'] == True])/len(ID.loc[(ID['uncert'] <= threshold)]))\n",
    "    Correct = ID.loc[(ID['correct'] == True)]\n",
    "    Incorrect = ID.loc[(ID['correct'] == False)]\n",
    "    print(\"overall acc on ID:\",len(Correct)/len(ID))\n",
    "    \n",
    "buildOutlierPlot(outputs_test2, outputs100_2, 1.5279474)"
   ]
  },
  {
   "cell_type": "code",
   "execution_count": 165,
   "id": "27f97ffb-4eb6-4b7f-9760-d12eb8a9ec04",
   "metadata": {},
   "outputs": [
    {
     "name": "stdout",
     "output_type": "stream",
     "text": [
      "WARNING:tensorflow:No training configuration found in the save file, so the model was *not* compiled. Compile it manually.\n",
      "annealing coef updated to: 0\n",
      "Epoch 1/10\n",
      " 753/1406 [===============>..............] - ETA: 3s - loss: nan - accuracy: 0.1011 - entropy: nan"
     ]
    },
    {
     "ename": "KeyboardInterrupt",
     "evalue": "",
     "output_type": "error",
     "traceback": [
      "\u001b[1;31m---------------------------------------------------------------------------\u001b[0m",
      "\u001b[1;31mKeyboardInterrupt\u001b[0m                         Traceback (most recent call last)",
      "\u001b[1;32m~\\AppData\\Local\\Temp/ipykernel_23432/763418329.py\u001b[0m in \u001b[0;36m<module>\u001b[1;34m\u001b[0m\n\u001b[0;32m     36\u001b[0m               metrics=['accuracy',entropyMetric()])\n\u001b[0;32m     37\u001b[0m \u001b[1;33m\u001b[0m\u001b[0m\n\u001b[1;32m---> 38\u001b[1;33m \u001b[0mhistory\u001b[0m \u001b[1;33m=\u001b[0m \u001b[0mmodel\u001b[0m\u001b[1;33m.\u001b[0m\u001b[0mfit\u001b[0m\u001b[1;33m(\u001b[0m\u001b[0mtrain_ds\u001b[0m\u001b[1;33m,\u001b[0m \u001b[0mepochs\u001b[0m\u001b[1;33m=\u001b[0m\u001b[1;36m10\u001b[0m\u001b[1;33m,\u001b[0m\u001b[0mcallbacks\u001b[0m\u001b[1;33m=\u001b[0m\u001b[1;33m[\u001b[0m\u001b[0mlambda_callback\u001b[0m\u001b[1;33m]\u001b[0m\u001b[1;33m)\u001b[0m\u001b[1;33m\u001b[0m\u001b[1;33m\u001b[0m\u001b[0m\n\u001b[0m",
      "\u001b[1;32m~\\AppData\\Local\\conda\\conda\\envs\\py36\\lib\\site-packages\\keras\\utils\\traceback_utils.py\u001b[0m in \u001b[0;36merror_handler\u001b[1;34m(*args, **kwargs)\u001b[0m\n\u001b[0;32m     62\u001b[0m     \u001b[0mfiltered_tb\u001b[0m \u001b[1;33m=\u001b[0m \u001b[1;32mNone\u001b[0m\u001b[1;33m\u001b[0m\u001b[1;33m\u001b[0m\u001b[0m\n\u001b[0;32m     63\u001b[0m     \u001b[1;32mtry\u001b[0m\u001b[1;33m:\u001b[0m\u001b[1;33m\u001b[0m\u001b[1;33m\u001b[0m\u001b[0m\n\u001b[1;32m---> 64\u001b[1;33m       \u001b[1;32mreturn\u001b[0m \u001b[0mfn\u001b[0m\u001b[1;33m(\u001b[0m\u001b[1;33m*\u001b[0m\u001b[0margs\u001b[0m\u001b[1;33m,\u001b[0m \u001b[1;33m**\u001b[0m\u001b[0mkwargs\u001b[0m\u001b[1;33m)\u001b[0m\u001b[1;33m\u001b[0m\u001b[1;33m\u001b[0m\u001b[0m\n\u001b[0m\u001b[0;32m     65\u001b[0m     \u001b[1;32mexcept\u001b[0m \u001b[0mException\u001b[0m \u001b[1;32mas\u001b[0m \u001b[0me\u001b[0m\u001b[1;33m:\u001b[0m  \u001b[1;31m# pylint: disable=broad-except\u001b[0m\u001b[1;33m\u001b[0m\u001b[1;33m\u001b[0m\u001b[0m\n\u001b[0;32m     66\u001b[0m       \u001b[0mfiltered_tb\u001b[0m \u001b[1;33m=\u001b[0m \u001b[0m_process_traceback_frames\u001b[0m\u001b[1;33m(\u001b[0m\u001b[0me\u001b[0m\u001b[1;33m.\u001b[0m\u001b[0m__traceback__\u001b[0m\u001b[1;33m)\u001b[0m\u001b[1;33m\u001b[0m\u001b[1;33m\u001b[0m\u001b[0m\n",
      "\u001b[1;32m~\\AppData\\Local\\conda\\conda\\envs\\py36\\lib\\site-packages\\keras\\engine\\training.py\u001b[0m in \u001b[0;36mfit\u001b[1;34m(self, x, y, batch_size, epochs, verbose, callbacks, validation_split, validation_data, shuffle, class_weight, sample_weight, initial_epoch, steps_per_epoch, validation_steps, validation_batch_size, validation_freq, max_queue_size, workers, use_multiprocessing)\u001b[0m\n\u001b[0;32m   1382\u001b[0m                 _r=1):\n\u001b[0;32m   1383\u001b[0m               \u001b[0mcallbacks\u001b[0m\u001b[1;33m.\u001b[0m\u001b[0mon_train_batch_begin\u001b[0m\u001b[1;33m(\u001b[0m\u001b[0mstep\u001b[0m\u001b[1;33m)\u001b[0m\u001b[1;33m\u001b[0m\u001b[1;33m\u001b[0m\u001b[0m\n\u001b[1;32m-> 1384\u001b[1;33m               \u001b[0mtmp_logs\u001b[0m \u001b[1;33m=\u001b[0m \u001b[0mself\u001b[0m\u001b[1;33m.\u001b[0m\u001b[0mtrain_function\u001b[0m\u001b[1;33m(\u001b[0m\u001b[0miterator\u001b[0m\u001b[1;33m)\u001b[0m\u001b[1;33m\u001b[0m\u001b[1;33m\u001b[0m\u001b[0m\n\u001b[0m\u001b[0;32m   1385\u001b[0m               \u001b[1;32mif\u001b[0m \u001b[0mdata_handler\u001b[0m\u001b[1;33m.\u001b[0m\u001b[0mshould_sync\u001b[0m\u001b[1;33m:\u001b[0m\u001b[1;33m\u001b[0m\u001b[1;33m\u001b[0m\u001b[0m\n\u001b[0;32m   1386\u001b[0m                 \u001b[0mcontext\u001b[0m\u001b[1;33m.\u001b[0m\u001b[0masync_wait\u001b[0m\u001b[1;33m(\u001b[0m\u001b[1;33m)\u001b[0m\u001b[1;33m\u001b[0m\u001b[1;33m\u001b[0m\u001b[0m\n",
      "\u001b[1;32m~\\AppData\\Local\\conda\\conda\\envs\\py36\\lib\\site-packages\\tensorflow\\python\\util\\traceback_utils.py\u001b[0m in \u001b[0;36merror_handler\u001b[1;34m(*args, **kwargs)\u001b[0m\n\u001b[0;32m    148\u001b[0m     \u001b[0mfiltered_tb\u001b[0m \u001b[1;33m=\u001b[0m \u001b[1;32mNone\u001b[0m\u001b[1;33m\u001b[0m\u001b[1;33m\u001b[0m\u001b[0m\n\u001b[0;32m    149\u001b[0m     \u001b[1;32mtry\u001b[0m\u001b[1;33m:\u001b[0m\u001b[1;33m\u001b[0m\u001b[1;33m\u001b[0m\u001b[0m\n\u001b[1;32m--> 150\u001b[1;33m       \u001b[1;32mreturn\u001b[0m \u001b[0mfn\u001b[0m\u001b[1;33m(\u001b[0m\u001b[1;33m*\u001b[0m\u001b[0margs\u001b[0m\u001b[1;33m,\u001b[0m \u001b[1;33m**\u001b[0m\u001b[0mkwargs\u001b[0m\u001b[1;33m)\u001b[0m\u001b[1;33m\u001b[0m\u001b[1;33m\u001b[0m\u001b[0m\n\u001b[0m\u001b[0;32m    151\u001b[0m     \u001b[1;32mexcept\u001b[0m \u001b[0mException\u001b[0m \u001b[1;32mas\u001b[0m \u001b[0me\u001b[0m\u001b[1;33m:\u001b[0m\u001b[1;33m\u001b[0m\u001b[1;33m\u001b[0m\u001b[0m\n\u001b[0;32m    152\u001b[0m       \u001b[0mfiltered_tb\u001b[0m \u001b[1;33m=\u001b[0m \u001b[0m_process_traceback_frames\u001b[0m\u001b[1;33m(\u001b[0m\u001b[0me\u001b[0m\u001b[1;33m.\u001b[0m\u001b[0m__traceback__\u001b[0m\u001b[1;33m)\u001b[0m\u001b[1;33m\u001b[0m\u001b[1;33m\u001b[0m\u001b[0m\n",
      "\u001b[1;32m~\\AppData\\Local\\conda\\conda\\envs\\py36\\lib\\site-packages\\tensorflow\\python\\eager\\def_function.py\u001b[0m in \u001b[0;36m__call__\u001b[1;34m(self, *args, **kwds)\u001b[0m\n\u001b[0;32m    913\u001b[0m \u001b[1;33m\u001b[0m\u001b[0m\n\u001b[0;32m    914\u001b[0m       \u001b[1;32mwith\u001b[0m \u001b[0mOptionalXlaContext\u001b[0m\u001b[1;33m(\u001b[0m\u001b[0mself\u001b[0m\u001b[1;33m.\u001b[0m\u001b[0m_jit_compile\u001b[0m\u001b[1;33m)\u001b[0m\u001b[1;33m:\u001b[0m\u001b[1;33m\u001b[0m\u001b[1;33m\u001b[0m\u001b[0m\n\u001b[1;32m--> 915\u001b[1;33m         \u001b[0mresult\u001b[0m \u001b[1;33m=\u001b[0m \u001b[0mself\u001b[0m\u001b[1;33m.\u001b[0m\u001b[0m_call\u001b[0m\u001b[1;33m(\u001b[0m\u001b[1;33m*\u001b[0m\u001b[0margs\u001b[0m\u001b[1;33m,\u001b[0m \u001b[1;33m**\u001b[0m\u001b[0mkwds\u001b[0m\u001b[1;33m)\u001b[0m\u001b[1;33m\u001b[0m\u001b[1;33m\u001b[0m\u001b[0m\n\u001b[0m\u001b[0;32m    916\u001b[0m \u001b[1;33m\u001b[0m\u001b[0m\n\u001b[0;32m    917\u001b[0m       \u001b[0mnew_tracing_count\u001b[0m \u001b[1;33m=\u001b[0m \u001b[0mself\u001b[0m\u001b[1;33m.\u001b[0m\u001b[0mexperimental_get_tracing_count\u001b[0m\u001b[1;33m(\u001b[0m\u001b[1;33m)\u001b[0m\u001b[1;33m\u001b[0m\u001b[1;33m\u001b[0m\u001b[0m\n",
      "\u001b[1;32m~\\AppData\\Local\\conda\\conda\\envs\\py36\\lib\\site-packages\\tensorflow\\python\\eager\\def_function.py\u001b[0m in \u001b[0;36m_call\u001b[1;34m(self, *args, **kwds)\u001b[0m\n\u001b[0;32m    945\u001b[0m       \u001b[1;31m# In this case we have created variables on the first call, so we run the\u001b[0m\u001b[1;33m\u001b[0m\u001b[1;33m\u001b[0m\u001b[1;33m\u001b[0m\u001b[0m\n\u001b[0;32m    946\u001b[0m       \u001b[1;31m# defunned version which is guaranteed to never create variables.\u001b[0m\u001b[1;33m\u001b[0m\u001b[1;33m\u001b[0m\u001b[1;33m\u001b[0m\u001b[0m\n\u001b[1;32m--> 947\u001b[1;33m       \u001b[1;32mreturn\u001b[0m \u001b[0mself\u001b[0m\u001b[1;33m.\u001b[0m\u001b[0m_stateless_fn\u001b[0m\u001b[1;33m(\u001b[0m\u001b[1;33m*\u001b[0m\u001b[0margs\u001b[0m\u001b[1;33m,\u001b[0m \u001b[1;33m**\u001b[0m\u001b[0mkwds\u001b[0m\u001b[1;33m)\u001b[0m  \u001b[1;31m# pylint: disable=not-callable\u001b[0m\u001b[1;33m\u001b[0m\u001b[1;33m\u001b[0m\u001b[0m\n\u001b[0m\u001b[0;32m    948\u001b[0m     \u001b[1;32melif\u001b[0m \u001b[0mself\u001b[0m\u001b[1;33m.\u001b[0m\u001b[0m_stateful_fn\u001b[0m \u001b[1;32mis\u001b[0m \u001b[1;32mnot\u001b[0m \u001b[1;32mNone\u001b[0m\u001b[1;33m:\u001b[0m\u001b[1;33m\u001b[0m\u001b[1;33m\u001b[0m\u001b[0m\n\u001b[0;32m    949\u001b[0m       \u001b[1;31m# Release the lock early so that multiple threads can perform the call\u001b[0m\u001b[1;33m\u001b[0m\u001b[1;33m\u001b[0m\u001b[1;33m\u001b[0m\u001b[0m\n",
      "\u001b[1;32m~\\AppData\\Local\\conda\\conda\\envs\\py36\\lib\\site-packages\\tensorflow\\python\\eager\\function.py\u001b[0m in \u001b[0;36m__call__\u001b[1;34m(self, *args, **kwargs)\u001b[0m\n\u001b[0;32m   2955\u001b[0m        filtered_flat_args) = self._maybe_define_function(args, kwargs)\n\u001b[0;32m   2956\u001b[0m     return graph_function._call_flat(\n\u001b[1;32m-> 2957\u001b[1;33m         filtered_flat_args, captured_inputs=graph_function.captured_inputs)  # pylint: disable=protected-access\n\u001b[0m\u001b[0;32m   2958\u001b[0m \u001b[1;33m\u001b[0m\u001b[0m\n\u001b[0;32m   2959\u001b[0m   \u001b[1;33m@\u001b[0m\u001b[0mproperty\u001b[0m\u001b[1;33m\u001b[0m\u001b[1;33m\u001b[0m\u001b[0m\n",
      "\u001b[1;32m~\\AppData\\Local\\conda\\conda\\envs\\py36\\lib\\site-packages\\tensorflow\\python\\eager\\function.py\u001b[0m in \u001b[0;36m_call_flat\u001b[1;34m(self, args, captured_inputs, cancellation_manager)\u001b[0m\n\u001b[0;32m   1852\u001b[0m       \u001b[1;31m# No tape is watching; skip to running the function.\u001b[0m\u001b[1;33m\u001b[0m\u001b[1;33m\u001b[0m\u001b[1;33m\u001b[0m\u001b[0m\n\u001b[0;32m   1853\u001b[0m       return self._build_call_outputs(self._inference_function.call(\n\u001b[1;32m-> 1854\u001b[1;33m           ctx, args, cancellation_manager=cancellation_manager))\n\u001b[0m\u001b[0;32m   1855\u001b[0m     forward_backward = self._select_forward_and_backward_functions(\n\u001b[0;32m   1856\u001b[0m         \u001b[0margs\u001b[0m\u001b[1;33m,\u001b[0m\u001b[1;33m\u001b[0m\u001b[1;33m\u001b[0m\u001b[0m\n",
      "\u001b[1;32m~\\AppData\\Local\\conda\\conda\\envs\\py36\\lib\\site-packages\\tensorflow\\python\\eager\\function.py\u001b[0m in \u001b[0;36mcall\u001b[1;34m(self, ctx, args, cancellation_manager)\u001b[0m\n\u001b[0;32m    502\u001b[0m               \u001b[0minputs\u001b[0m\u001b[1;33m=\u001b[0m\u001b[0margs\u001b[0m\u001b[1;33m,\u001b[0m\u001b[1;33m\u001b[0m\u001b[1;33m\u001b[0m\u001b[0m\n\u001b[0;32m    503\u001b[0m               \u001b[0mattrs\u001b[0m\u001b[1;33m=\u001b[0m\u001b[0mattrs\u001b[0m\u001b[1;33m,\u001b[0m\u001b[1;33m\u001b[0m\u001b[1;33m\u001b[0m\u001b[0m\n\u001b[1;32m--> 504\u001b[1;33m               ctx=ctx)\n\u001b[0m\u001b[0;32m    505\u001b[0m         \u001b[1;32melse\u001b[0m\u001b[1;33m:\u001b[0m\u001b[1;33m\u001b[0m\u001b[1;33m\u001b[0m\u001b[0m\n\u001b[0;32m    506\u001b[0m           outputs = execute.execute_with_cancellation(\n",
      "\u001b[1;32m~\\AppData\\Local\\conda\\conda\\envs\\py36\\lib\\site-packages\\tensorflow\\python\\eager\\execute.py\u001b[0m in \u001b[0;36mquick_execute\u001b[1;34m(op_name, num_outputs, inputs, attrs, ctx, name)\u001b[0m\n\u001b[0;32m     53\u001b[0m     \u001b[0mctx\u001b[0m\u001b[1;33m.\u001b[0m\u001b[0mensure_initialized\u001b[0m\u001b[1;33m(\u001b[0m\u001b[1;33m)\u001b[0m\u001b[1;33m\u001b[0m\u001b[1;33m\u001b[0m\u001b[0m\n\u001b[0;32m     54\u001b[0m     tensors = pywrap_tfe.TFE_Py_Execute(ctx._handle, device_name, op_name,\n\u001b[1;32m---> 55\u001b[1;33m                                         inputs, attrs, num_outputs)\n\u001b[0m\u001b[0;32m     56\u001b[0m   \u001b[1;32mexcept\u001b[0m \u001b[0mcore\u001b[0m\u001b[1;33m.\u001b[0m\u001b[0m_NotOkStatusException\u001b[0m \u001b[1;32mas\u001b[0m \u001b[0me\u001b[0m\u001b[1;33m:\u001b[0m\u001b[1;33m\u001b[0m\u001b[1;33m\u001b[0m\u001b[0m\n\u001b[0;32m     57\u001b[0m     \u001b[1;32mif\u001b[0m \u001b[0mname\u001b[0m \u001b[1;32mis\u001b[0m \u001b[1;32mnot\u001b[0m \u001b[1;32mNone\u001b[0m\u001b[1;33m:\u001b[0m\u001b[1;33m\u001b[0m\u001b[1;33m\u001b[0m\u001b[0m\n",
      "\u001b[1;31mKeyboardInterrupt\u001b[0m: "
     ]
    }
   ],
   "source": [
    "def MAEBM(annealing):\n",
    "    def loss(labels, outputs):\n",
    "        # tf.print(outputs)\n",
    "        evidence = tf.exp(outputs) #activation function\n",
    "        # tf.print(evidence)\n",
    "        alpha = evidence + 1\n",
    "        S = tf.reduce_sum(alpha)\n",
    "        # tf.print(S)\n",
    "        alpha_0 = tf.fill(alpha.shape,S)\n",
    "        UCE_loss = tf.reduce_mean(labels * (tf.compat.v1.digamma(alpha_0) - tf.compat.v1.digamma(alpha)))\n",
    "        # print(\"loss_1\",UCE_loss)\n",
    "        \n",
    "        \n",
    "        UCE_loss  +=  0.0001  * (tf.reduce_sum(tf.compat.v1.lgamma(alpha)) - tf.compat.v1.lgamma(S) -\n",
    "                (len(alpha) - S) * tf.compat.v1.digamma(S) -\n",
    "                ((alpha - 1.0) * tf.reduce_sum(tf.compat.v1.digamma(alpha))))\n",
    "        # tf.print(UCE_loss)\n",
    "        return UCE_loss\n",
    "    return loss \n",
    "def entropyMetric():\n",
    "    def entropy(p, logits):\n",
    "        #METRIC OF THE mean of uncertainity\n",
    "        evidence =exp_evidence(logits)\n",
    "        alpha = evidence +1\n",
    "        S = tf.reduce_sum(alpha)\n",
    "        Mass = alpha / S\n",
    "        u = num_classes / S\n",
    "        return (tf.reduce_mean(u)) # Note the `axis=-1`\n",
    "    return entropy\n",
    "\n",
    "lambda_callback = lambda_update(100)\n",
    "loss = MAEBM(lambda_callback)\n",
    "model = keras.models.load_model(\"./models/cifaroutlier_blank.hdf5\")\n",
    "model.compile(optimizer='adam',\n",
    "              loss=loss,\n",
    "              metrics=['accuracy',entropyMetric()])\n",
    "\n",
    "history = model.fit(train_ds, epochs=10,callbacks=[lambda_callback])\n"
   ]
  },
  {
   "cell_type": "code",
   "execution_count": null,
   "id": "d4da595f-d982-4cd3-b9c2-3503069e900b",
   "metadata": {},
   "outputs": [],
   "source": []
  }
 ],
 "metadata": {
  "kernelspec": {
   "display_name": "py36",
   "language": "python",
   "name": "py36"
  },
  "language_info": {
   "codemirror_mode": {
    "name": "ipython",
    "version": 3
   },
   "file_extension": ".py",
   "mimetype": "text/x-python",
   "name": "python",
   "nbconvert_exporter": "python",
   "pygments_lexer": "ipython3",
   "version": "3.7.11"
  }
 },
 "nbformat": 4,
 "nbformat_minor": 5
}
