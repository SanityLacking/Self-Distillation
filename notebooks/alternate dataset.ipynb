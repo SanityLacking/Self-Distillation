{
 "cells": [
  {
   "cell_type": "code",
   "execution_count": 1,
   "metadata": {},
   "outputs": [],
   "source": [
    "#this notebook is building a new dataset to test why the zero class is not detected by branch exits"
   ]
  },
  {
   "cell_type": "code",
   "execution_count": 20,
   "metadata": {},
   "outputs": [],
   "source": [
    "import pandas as pd\n",
    "import numpy as np\n",
    "\n",
    "# Make numpy values easier to read.\n",
    "np.set_printoptions(precision=3, suppress=True)\n",
    "\n",
    "import tensorflow as tf\n",
    "from tensorflow.keras import layers\n",
    "from tensorflow.keras.layers.experimental import preprocessing\n",
    "import numpy as np\n",
    "import pandas as pd\n",
    "import math\n",
    "from matplotlib.ticker import FormatStrFormatter\n",
    "import matplotlib.pyplot as plt\n",
    "plt.style.use('seaborn-whitegrid')\n"
   ]
  },
  {
   "cell_type": "code",
   "execution_count": 10,
   "metadata": {},
   "outputs": [],
   "source": [
    "dataset = tf.keras.datasets.cifar10.load_data()"
   ]
  },
  {
   "cell_type": "code",
   "execution_count": 63,
   "metadata": {},
   "outputs": [],
   "source": [
    "def loadDataPipeline():\n",
    "    (train_images, train_labels), (test_images, test_labels) = tf.keras.datasets.cifar10.load_data()\n",
    "    \n",
    "    CLASS_NAMES= ['airplane', 'automobile', 'bird', 'cat', 'deer', 'dog', 'frog', 'horse', 'ship', 'truck']\n",
    "    validation_images, validation_labels = train_images[:5000], train_labels[:5000]\n",
    "    train_images, train_labels = train_images[5000:], train_labels[5000:]\n",
    "\n",
    "    train_ds = tf.data.Dataset.from_tensor_slices((train_images, train_labels))\n",
    "    test_ds = tf.data.Dataset.from_tensor_slices((test_images, test_labels))\n",
    "    validation_ds = tf.data.Dataset.from_tensor_slices((validation_images, validation_labels))\n",
    "    train_ds = (train_ds\n",
    "            .map(augment_images))\n",
    "#             .shuffle(buffer_size=int(train_ds_size),reshuffle_each_iteration=True))\n",
    "#             .batch(batch_size=batch_size, drop_remainder=True))\n",
    "    test_ds = (test_ds\n",
    "            .map(augment_images))\n",
    "            # .shuffle(buffer_size=int(train_ds_size)) ##why would you shuffle the test set?\n",
    "#             .batch(batch_size=batch_size, drop_remainder=True))\n",
    "\n",
    "    validation_ds = (validation_ds\n",
    "            .map(augment_images))\n",
    "            # .shuffle(buffer_size=int(train_ds_size))\n",
    "#             .batch(batch_size=batch_size, drop_remainder=True))\n",
    "    return train_ds, test_ds, validation_ds"
   ]
  },
  {
   "cell_type": "code",
   "execution_count": 60,
   "metadata": {},
   "outputs": [],
   "source": [
    "def augment_images(image, label):\n",
    "    # Normalize images to have a mean of 0 and standard deviation of 1\n",
    "    # image = tf.image.per_image_standardization(image)\n",
    "    # Resize images from 32x32 to 277x277\n",
    "    image = tf.image.resize(image, (227,227))\n",
    "    return image, label\n",
    "\n",
    "def prepareAlexNetDataset(dataset, batch_size =32):\n",
    "        (train_images, train_labels), (test_images, test_labels) = dataset\n",
    "        \n",
    "        validation_images, validation_labels = train_images[:5000], train_labels[:5000]\n",
    "        train_ds = tf.data.Dataset.from_tensor_slices((train_images, train_labels))\n",
    "        test_ds = tf.data.Dataset.from_tensor_slices((test_images, test_labels))\n",
    "        validation_ds = tf.data.Dataset.from_tensor_slices((validation_images, validation_labels))\n",
    "\n",
    "        train_ds_size = len(list(train_ds))\n",
    "        train_ds_size = len(list(test_ds))\n",
    "        validation_ds_size = len(list(validation_ds))\n",
    "        train_ds = (train_ds\n",
    "            .map(augment_images))\n",
    "#             .shuffle(buffer_size=int(train_ds_size),reshuffle_each_iteration=True))\n",
    "#             .batch(batch_size=batch_size, drop_remainder=True))\n",
    "        test_ds = (test_ds\n",
    "            .map(augment_images))\n",
    "            # .shuffle(buffer_size=int(train_ds_size)) ##why would you shuffle the test set?\n",
    "#             .batch(batch_size=batch_size, drop_remainder=True))\n",
    "\n",
    "        validation_ds = (validation_ds\n",
    "            .map(augment_images))\n",
    "            # .shuffle(buffer_size=int(train_ds_size))\n",
    "#             .batch(batch_size=batch_size, drop_remainder=True))\n",
    "        return train_ds, test_ds, validation_ds"
   ]
  },
  {
   "cell_type": "code",
   "execution_count": 56,
   "metadata": {},
   "outputs": [],
   "source": [
    "train_ds, test_ds, validation_ds = prepareAlexNetDataset(dataset,1)"
   ]
  },
  {
   "cell_type": "code",
   "execution_count": 57,
   "metadata": {},
   "outputs": [],
   "source": [
    "# (train_images, train_labels), (test_images, test_labels) = dataset"
   ]
  },
  {
   "cell_type": "code",
   "execution_count": 66,
   "metadata": {},
   "outputs": [],
   "source": [
    "def visualize(train_ds):\n",
    "    CLASS_NAMES= ['airplane', 'automobile', 'bird', 'cat', 'deer', 'dog', 'frog', 'horse', 'ship', 'truck']\n",
    "\n",
    "    plt.figure(figsize=(5,5))\n",
    "    for i, (image, label) in enumerate(test_ds.take(1)):\n",
    "#         print(image)\n",
    "#         ax = plt.subplot(5,5,i+1)\n",
    "        plt.imshow(image)\n",
    "        plt.title(CLASS_NAMES[label.numpy()[0]])\n",
    "        plt.axis('off')\n",
    "    return"
   ]
  },
  {
   "cell_type": "code",
   "execution_count": 67,
   "metadata": {},
   "outputs": [
    {
     "name": "stderr",
     "output_type": "stream",
     "text": [
      "Clipping input data to the valid range for imshow with RGB data ([0..1] for floats or [0..255] for integers).\n"
     ]
    },
    {
     "data": {
      "image/png": "[encoded data removed]",
      "text/plain": [
       "<Figure size 360x360 with 1 Axes>"
      ]
     },
     "metadata": {
      "needs_background": "light"
     },
     "output_type": "display_data"
    }
   ],
   "source": [
    "train_ds, test_ds, validation_ds = loadDataPipeline()\n",
    "visualize(train_ds)"
   ]
  },
  {
   "cell_type": "code",
   "execution_count": 33,
   "metadata": {},
   "outputs": [
    {
     "name": "stdout",
     "output_type": "stream",
     "text": [
      "[[0]\n",
      " [9]\n",
      " [9]\n",
      " ...\n",
      " [9]\n",
      " [1]\n",
      " [1]]\n"
     ]
    }
   ],
   "source": [
    "train_labels[train_labels == 0] = 255\n",
    "train_labels[train_labels == 6] = 254\n",
    "\n",
    "train_labels[train_labels == 255] = 6\n",
    "train_labels[train_labels == 254] = 0\n",
    "\n",
    "print(train_labels)"
   ]
  },
  {
   "cell_type": "code",
   "execution_count": 36,
   "metadata": {},
   "outputs": [],
   "source": [
    "train_labels_df = pd.DataFrame(train_labels)\n",
    "train_labels_df.to_csv(\"results/altTrain_labels.csv\", sep=',', mode='w',index=False,header=False)"
   ]
  },
  {
   "cell_type": "code",
   "execution_count": 38,
   "metadata": {},
   "outputs": [],
   "source": [
    "test_labels[test_labels == 0] = 255\n",
    "test_labels[test_labels == 6] = 254\n",
    "\n",
    "test_labels[test_labels == 255] = 6\n",
    "test_labels[test_labels == 254] = 0"
   ]
  },
  {
   "cell_type": "code",
   "execution_count": 40,
   "metadata": {},
   "outputs": [],
   "source": [
    "test_labels_df = pd.DataFrame(train_labels)\n",
    "test_labels_df.to_csv(\"results/altTest_labels.csv\", sep=',', mode='w',index=False,header=False)"
   ]
  },
  {
   "cell_type": "code",
   "execution_count": 50,
   "metadata": {},
   "outputs": [
    {
     "name": "stdout",
     "output_type": "stream",
     "text": [
      "50000\n",
      "45000\n",
      "5000\n"
     ]
    }
   ],
   "source": [
    "import keras\n",
    "import tensorflow as tf\n",
    "(train_images, train_labels), (test_images, test_labels) = keras.datasets.cifar10.load_data()\n",
    "\n",
    "CLASS_NAMES= ['airplane', 'automobile', 'bird', 'cat', 'deer', 'dog', 'frog', 'horse', 'ship', 'truck']\n",
    "\n",
    "# validation_images, validation_labels = train_images[:5000], alt_trainLabels[:5000]\n",
    "# train_ds = tf.data.Dataset.from_tensor_slices((train_images, alt_trainLabels))\n",
    "# test_ds = tf.data.Dataset.from_tensor_slices((test_images, alt_testLabels))\n",
    "\n",
    "###normal method\n",
    "print(len(train_images))\n",
    "validation_images, validation_labels = train_images[:5000], train_labels[:5000] #get the first 5k training samples as validation set\n",
    "train_images, train_labels = train_images[5000:], train_labels[5000:] # now remove the validation set from the training set.\n",
    "print(len(train_images))\n",
    "print(len(validation_images))\n",
    "\n",
    "train_ds = tf.data.Dataset.from_tensor_slices((train_images, train_labels))\n",
    "test_ds = tf.data.Dataset.from_tensor_slices((test_images, test_labels))\n",
    "validation_ds = tf.data.Dataset.from_tensor_slices((validation_images, validation_labels))"
   ]
  },
  {
   "cell_type": "code",
   "execution_count": 6,
   "metadata": {},
   "outputs": [
    {
     "data": {
      "text/plain": [
       "5000"
      ]
     },
     "execution_count": 6,
     "metadata": {},
     "output_type": "execute_result"
    }
   ],
   "source": [
    "len(validation_images)"
   ]
  },
  {
   "cell_type": "code",
   "execution_count": 12,
   "metadata": {},
   "outputs": [],
   "source": [
    "(x_train, x_valid) = (train_images[5000:], train_images[:5000])\n",
    "(y_train, y_valid) = (train_labels[5000:], train_labels[:5000])"
   ]
  },
  {
   "cell_type": "code",
   "execution_count": 18,
   "metadata": {},
   "outputs": [
    {
     "name": "stdout",
     "output_type": "stream",
     "text": [
      "50000 5000\n"
     ]
    }
   ],
   "source": [
    "print(len(train_labels), len(x_valid))"
   ]
  },
  {
   "cell_type": "code",
   "execution_count": 48,
   "metadata": {},
   "outputs": [
    {
     "name": "stdout",
     "output_type": "stream",
     "text": [
      "[3, 4, 5, 6, 7, 8, 9, 0]\n",
      "[1, 2, 3, 4, 5, 6, 7, 8, 9, 0]\n",
      "40000\n",
      "5000\n",
      "val\n",
      "0    500\n",
      "1    514\n",
      "2    513\n",
      "3    530\n",
      "4    480\n",
      "5    449\n",
      "6    511\n",
      "7    515\n",
      "8    505\n",
      "9    483\n",
      "dtype: int64\n"
     ]
    }
   ],
   "source": [
    "import pandas as pd\n",
    "\n",
    "x = [1,2,3,4,5,6,7,8,9,0]\n",
    "\n",
    "y = x[2:]\n",
    "print(y)\n",
    "print(x)\n",
    "valid_labels = train_labels[:5000]\n",
    "train_labels = train_labels[5000:]\n",
    "print(len(train_labels))\n",
    "print(len(valid_labels))\n",
    "df = pd.DataFrame(valid_labels,columns=['val'])\n",
    "# print(df)\n",
    "print(df.groupby('val').size())\n"
   ]
  },
  {
   "cell_type": "code",
   "execution_count": null,
   "metadata": {},
   "outputs": [],
   "source": []
  },
  {
   "cell_type": "code",
   "execution_count": null,
   "metadata": {},
   "outputs": [],
   "source": []
  }
 ],
 "metadata": {
  "kernelspec": {
   "display_name": "Python 3",
   "language": "python",
   "name": "python3"
  },
  "language_info": {
   "codemirror_mode": {
    "name": "ipython",
    "version": 3
   },
   "file_extension": ".py",
   "mimetype": "text/x-python",
   "name": "python",
   "nbconvert_exporter": "python",
   "pygments_lexer": "ipython3",
   "version": "3.6.7"
  }
 },
 "nbformat": 4,
 "nbformat_minor": 2
}
