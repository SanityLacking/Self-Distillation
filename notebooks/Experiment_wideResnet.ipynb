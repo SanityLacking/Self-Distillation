{
 "cells": [
  {
   "cell_type": "markdown",
   "id": "f6ee15a3-73b2-488d-b909-6949cf64c745",
   "metadata": {},
   "source": [
    "# Training and evaluation notebook for wideResNet based Brevis Model.\n",
    "<HR>\n",
    "Models are trained on the CIFAR10 dataset, and uses CIFAR100 as an OOD dataset. <br>\n",
    "    2 models are trained, one with branches using BrevisEnergy Loss and one using Cross entropy for all exits. <br>\n",
    "    \n",
    "    \n"
   ]
  },
  {
   "cell_type": "code",
   "execution_count": 1,
   "id": "146f7bc4-1494-408c-8e50-436ce46c7d44",
   "metadata": {},
   "outputs": [],
   "source": [
    "import tensorflow as tf\n",
    "import numpy as np\n",
    "from tensorflow import keras\n",
    "from tensorflow.keras import layers\n",
    "import pandas as pd\n",
    "import matplotlib.pyplot as plt\n",
    "import sys\n",
    "sys.path.append(\"..\") # Adds higher directory to python modules path.\n",
    "import os\n",
    "import numpy as np\n",
    "import sys\n",
    "import os\n",
    "from keras_flops import get_flops \n",
    "from skimage.filters import gaussian as gblur\n",
    "from PIL import Image as PILImage\n",
    "\n",
    "sys.path.append(\"..\") # Adds higher directory to python modules path.\n",
    "import brevis\n",
    "from brevis import branches\n",
    "from brevis import evaluate\n",
    "import tensorflow_probability as tfp\n",
    "# os.environ['TF_DETERMINISTIC_OPS'] = '1'"
   ]
  },
  {
   "cell_type": "markdown",
   "id": "30c256da-228a-46e2-b6ec-f1b0363b8b59",
   "metadata": {},
   "source": [
    "### load datasets\n",
    "\n",
    "<hr>"
   ]
  },
  {
   "cell_type": "code",
   "execution_count": 2,
   "id": "efa29a9a-2c5a-4a7f-a767-7b4b406e00fb",
   "metadata": {},
   "outputs": [
    {
     "name": "stdout",
     "output_type": "stream",
     "text": [
      "augment Dataset\n",
      "targetsis : False\n",
      "trainSize 45000\n",
      "testSize 10000\n"
     ]
    }
   ],
   "source": [
    "train_ds, test_ds, validation_ds = brevis.dataset.prepare.dataset(tf.keras.datasets.cifar10.load_data(),32,5000,shuffle_size=15000,input_size=(32,32),include_targets=False,num_outputs = 10,reshuffle=True)"
   ]
  },
  {
   "cell_type": "code",
   "execution_count": 3,
   "id": "ada7c6b5-4bbf-437f-bb76-1a5dcab41011",
   "metadata": {
    "tags": []
   },
   "outputs": [
    {
     "name": "stdout",
     "output_type": "stream",
     "text": [
      "augment Dataset\n",
      "targetsis : False\n",
      "trainSize 45000\n",
      "testSize 10000\n"
     ]
    }
   ],
   "source": [
    "# import tensorflow_datasets as tfds\n",
    "# ds = tfds.load('svhn_cropped', split='train', shuffle_files=True)\n",
    "# assert isinstance(ds, tf.data.Dataset)\n",
    "train_ds100, test_ds100, validation_ds100 = brevis.dataset.prepare.dataset(tf.keras.datasets.cifar100.load_data(label_mode=\"fine\"),32,5000,shuffle_size=15000,input_size=(32,32),include_targets=False,num_outputs = 100,reshuffle=True)"
   ]
  },
  {
   "cell_type": "markdown",
   "id": "27862ed3-0328-4282-98d5-5abf95e4e70e",
   "metadata": {},
   "source": [
    "## Initialize functions for building the loss functions \n",
    "<hr>"
   ]
  },
  {
   "cell_type": "code",
   "execution_count": 4,
   "id": "706c314f-13ba-492c-b15d-18d67e2c7cf5",
   "metadata": {},
   "outputs": [],
   "source": [
    "class lambda_update(tf.keras.callbacks.Callback):\n",
    "    def __init__(self, annealing_max,  lambda_t=0, max_t=1):\n",
    "        self.start_val = tf.Variable(initial_value=lambda_t, dtype=tf.float32) \n",
    "        \n",
    "        self.lambda_t = tf.Variable(initial_value=lambda_t, dtype=tf.float32) #updates each epoch\n",
    "        self.max_t = tf.Variable(initial_value=max_t, dtype=tf.float32)\n",
    "        self.annealing_max = tf.Variable(initial_value=annealing_max, dtype=tf.float32)\n",
    "\n",
    "    def on_epoch_begin(self, epoch, logs={}): #needs to be on begin, otherwise the epoch update won't increase the value from 0 to 0.1 till the 3rd epoch...\n",
    "        val = tf.reduce_min([self.max_t, tf.cast(epoch+self.start_val, tf.dtypes.float32) / tf.cast(self.annealing_max, tf.dtypes.float32)])\n",
    "        tf.print(\"annealing coef updated to:\", val)\n",
    "        self.lambda_t.assign(val)\n",
    "\n",
    "class growth_update(lambda_update):\n",
    "    ''' callback update method that checks the performance of the model against the validation set to decide if the annealing coef should be increased.\n",
    "        provides greater control of the additional loss elements by updating their hyperparameters inteligently, rather then with only a preset schedule.\n",
    "        \n",
    "    '''\n",
    "    def __init__(self, annealing_max,  lambda_t=0, max_t=1, starting_epoch = 0):\n",
    "        self.starting_epoch = starting_epoch\n",
    "        self.start_val = tf.Variable(initial_value=lambda_t, dtype=tf.float32) \n",
    "        \n",
    "        self.step = tf.Variable(initial_value = 0,dtype=tf.float32)\n",
    "        self.lambda_t = tf.Variable(initial_value=lambda_t, dtype=tf.float32) #updates each epoch\n",
    "        self.max_t = tf.Variable(initial_value=max_t, dtype=tf.float32)\n",
    "        self.annealing_max = tf.Variable(initial_value=annealing_max, dtype=tf.float32)\n",
    "        self.training = tf.Variable(initial_value=False, dtype=tf.bool)              \n",
    "        self.past_val_acc= tf.Variable(initial_value =0, dtype=tf.float32)\n",
    "        self.val_acc= tf.Variable(initial_value =0, dtype=tf.float32)\n",
    "        \n",
    "    def on_training_begin(self, logs={}):\n",
    "        ''' indicate that training has begun, so val growth is an option.\n",
    "        '''\n",
    "        tf.print(\"training commenced, validation growth enabled\")\n",
    "        self.training.assign(True)\n",
    "    def on_epoch_begin(self, epoch, logs={}): #needs to be on begin, otherwise the epoch update won't increase the value from 0 to 0.1 till the 3rd epoch...\n",
    "        val = self.lambda_t\n",
    "        if epoch >= self.starting_epoch:\n",
    "            if self.val_acc >= self.past_val_acc:\n",
    "                val = tf.reduce_min([self.max_t, tf.cast((self.step - self.starting_epoch) +self.start_val , tf.dtypes.float32) / tf.cast(self.annealing_max, tf.dtypes.float32)])\n",
    "                tf.print(\"annealing coef updated to:\", val)\n",
    "                self.lambda_t.assign(val)\n",
    "                self.past_val_acc.assign(self.val_acc)\n",
    "                self.step.assign(self.step + 1)\n",
    "            else:\n",
    "                tf.print(\"val acc did not improve from {}, annealing coef not updated, remains at:{}\".format(self.past_val_acc.numpy(), val.numpy()))\n",
    "    def on_test_end(self, logs=None):\n",
    "        \"\"\" if training, save the performance results\n",
    "        \"\"\"\n",
    "        self.val_acc.assign(logs.get('branch_exit_accuracy')+logs.get('branch_exit_1_accuracy'))\n",
    "        "
   ]
  },
  {
   "cell_type": "code",
   "execution_count": 5,
   "id": "f338aa19-d7ed-4f2d-b7df-049c6c6cf534",
   "metadata": {},
   "outputs": [],
   "source": [
    "def exp_evidence(logits): \n",
    "    return tf.exp(tf.clip_by_value(logits/10,-10,10))\n",
    "\n",
    "def KL(alpha,K):\n",
    "    # print(\"K:\",K)\n",
    "    beta=tf.constant(np.ones((1,K)),dtype=tf.float32)\n",
    "    S_alpha = tf.reduce_sum(alpha,axis=1,keepdims=True)\n",
    "    S_beta = tf.reduce_sum(beta,axis=1,keepdims=True)\n",
    "    lnB = tf.compat.v1.lgamma(S_alpha) - tf.reduce_sum(tf.compat.v1.lgamma(alpha),axis=1,keepdims=True)\n",
    "    lnB_uni = tf.reduce_sum(tf.compat.v1.lgamma(beta),axis=1,keepdims=True) - tf.compat.v1.lgamma(S_beta)\n",
    "    dg0 = tf.compat.v1.digamma(S_alpha)\n",
    "    dg1 = tf.compat.v1.digamma(alpha)\n",
    "    kl = tf.reduce_sum((alpha - beta)*(dg1-dg0),axis=1,keepdims=True) + lnB + lnB_uni\n",
    "    return kl\n",
    "\n",
    "def _KL(alphas, target_alphas,  precision=None, target_precision=None, epsilon=1e-8):\n",
    "    '''\n",
    "    New KL divergence function. \n",
    "    '''\n",
    "    target_alphas = tf.cast(target_alphas,tf.float32)\n",
    "    alphas = tf.cast(alphas,tf.float32)\n",
    "    if not precision:\n",
    "        precision = tf.reduce_sum(alphas, axis=1, keepdims=True)\n",
    "    if not target_precision:\n",
    "        target_precision = tf.reduce_sum(target_alphas, axis=1, keepdims=True)\n",
    "    precision = tf.cast(precision,tf.float32)\n",
    "    target_precision = tf.cast(target_precision,tf.float32)\n",
    "    \n",
    "    precision_term = tf.compat.v1.lgamma(target_precision) - tf.compat.v1.lgamma(precision)\n",
    "    alphas_term = tf.reduce_sum(\n",
    "        tf.compat.v1.lgamma(alphas + epsilon)\n",
    "        - tf.compat.v1.lgamma(target_alphas + epsilon)\n",
    "        + (target_alphas - alphas)\n",
    "        * (\n",
    "            tf.compat.v1.digamma(target_alphas + epsilon)\n",
    "            - tf.compat.v1.digamma(target_precision + epsilon)\n",
    "        ),\n",
    "        axis=1,\n",
    "        keepdims=True,\n",
    "    )\n",
    "    cost = tf.squeeze(precision_term + alphas_term)\n",
    "    return cost\n",
    "\n",
    "def reverse_kl(alphas, target_alphas,  precision=None, target_precision=None, epsilon=1e-8):\n",
    "    return _KL(target_alphas,alphas, precision=None, target_precision=None, epsilon=1e-8)\n",
    "\n",
    "def DirichletKLLoss(labels, logits, reverse=True):\n",
    "    # alpha = tf.exp(logits)\n",
    "    alpha = tf.exp(tf.clip_by_value(logits/10,-10,10))\n",
    "    target_concentration = tf.reduce_sum(alpha,axis=1,keepdims=True)\n",
    "    target_alphas = (tf.ones_like(alpha) + (target_concentration * labels))\n",
    "    alpha = alpha + 1\n",
    "    if reverse:\n",
    "        cost = reverse_kl(alpha, target_alphas)\n",
    "    else:\n",
    "        cost = _KL(alpha, target_alphas)\n",
    "    if tf.math.is_nan(tf.reduce_sum(cost)):\n",
    "        tf.print(\"logits\",logits, summarize=-1)\n",
    "        tf.print(\"alpha\",alpha, summarize=-1)\n",
    "        tf.print(\"cost\", cost, summarize=-1)\n",
    "    return cost"
   ]
  },
  {
   "cell_type": "code",
   "execution_count": 6,
   "id": "396c6f15-e240-4980-bb3f-3020250a12b2",
   "metadata": {
    "tags": []
   },
   "outputs": [],
   "source": [
    "from scipy.special import logsumexp\n",
    "\n",
    "def loss_wrapper(lambda_callback: lambda_update):\n",
    "    ''' Loss function of Evidential Dirichlet Networks\n",
    "        Expected Mean Square Error + KL divergence\n",
    "    '''\n",
    "    def custom_loss_function(p, logits):\n",
    "    #     alpha = alpha + 1\n",
    "        evidence = exp_evidence(logits)\n",
    "        alpha = evidence + 1\n",
    "\n",
    "        S = tf.reduce_sum(alpha,axis=1,keepdims=True) \n",
    "        E = alpha - 1\n",
    "        m = alpha / S\n",
    "        A = tf.reduce_sum((p-m)**2, axis=1, keepdims=True) \n",
    "        B = tf.reduce_sum(alpha*(S-alpha)/(S*S*(S+1)), axis=1, keepdims=True) \n",
    "        # tf.print(annealing_coef)\n",
    "        # annealing_coef = \n",
    "        annealing_coef =  lambda_callback.lambda_t\n",
    "        annealing_coef =  0.0001\n",
    "        alp = E*(1-p) + 1 \n",
    "        C =   annealing_coef * KL(p,alpha)\n",
    "        return (A + B) + C\n",
    "    return custom_loss_function\n",
    "\n",
    "\n",
    "def brevisEnergy(lambda_callback: lambda_update):\n",
    "    ''' Proposed Loss function for BrevisNet branch classifiers\n",
    "        consists of the expected mean square error loss + reverse dirichlet KL + regularizing dirichlet entropy mean\n",
    "    '''\n",
    "    def brevisEnergy(p, logits):\n",
    "        evidence = tf.exp(logits)\n",
    "        # evidence = tf.exp(tf.clip_by_value(logits/10,-10,10))\n",
    "        alpha = evidence + 1\n",
    "        S = tf.reduce_sum(alpha,axis=1,keepdims=True) \n",
    "        E = alpha - 1\n",
    "        m = alpha / S\n",
    "        A = tf.reduce_sum((p-m)**2, axis=1, keepdims=True) \n",
    "        B = tf.reduce_sum(alpha*(S-alpha)/(S*S*(S+1)), axis=1, keepdims=True) \n",
    "        annealing_coef =  lambda_callback.lambda_t\n",
    "        alp = E*(1-p) + 1 \n",
    "        C =   annealing_coef * DirichletKLLoss(p,logits, True)\n",
    "        D = 0.0001 * -tf.reduce_mean(tfp.distributions.Dirichlet(alpha).entropy()) ###entropy of the dirichlet distribution as a smoothing regularizer. \n",
    "        return (A+B) + C + D\n",
    "    return  brevisEnergy\n"
   ]
  },
  {
   "cell_type": "markdown",
   "id": "7c5b58a6-68ec-4362-bc9f-14311dd22ddd",
   "metadata": {},
   "source": [
    "## Build the Model\n",
    "<hr>"
   ]
  },
  {
   "cell_type": "code",
   "execution_count": 8,
   "id": "ced7c27f-d781-4005-9079-a6e96369bd6a",
   "metadata": {
    "tags": []
   },
   "outputs": [
    {
     "name": "stdout",
     "output_type": "stream",
     "text": [
      "Epoch 1/40\n",
      "1407/1407 [==============================] - 227s 159ms/step - loss: 0.6782 - accuracy: 0.8883 - val_loss: 0.9877 - val_accuracy: 0.7932\n",
      "Epoch 2/40\n",
      "1407/1407 [==============================] - 224s 159ms/step - loss: 0.6444 - accuracy: 0.8974 - val_loss: 0.8523 - val_accuracy: 0.8270\n",
      "Epoch 3/40\n",
      "1407/1407 [==============================] - 224s 159ms/step - loss: 0.6387 - accuracy: 0.8974 - val_loss: 0.8709 - val_accuracy: 0.8240\n",
      "Epoch 4/40\n",
      "1407/1407 [==============================] - 225s 160ms/step - loss: 0.6284 - accuracy: 0.9011 - val_loss: 0.7927 - val_accuracy: 0.8446\n",
      "Epoch 5/40\n",
      "1407/1407 [==============================] - 225s 160ms/step - loss: 0.6145 - accuracy: 0.9049 - val_loss: 0.9599 - val_accuracy: 0.8142\n",
      "Epoch 6/40\n",
      "1407/1407 [==============================] - 226s 161ms/step - loss: 0.6129 - accuracy: 0.9056 - val_loss: 0.8436 - val_accuracy: 0.8410\n",
      "Epoch 7/40\n",
      "1407/1407 [==============================] - 226s 161ms/step - loss: 0.6085 - accuracy: 0.9069 - val_loss: 0.9185 - val_accuracy: 0.8150\n",
      "Epoch 8/40\n",
      "1407/1407 [==============================] - 221s 157ms/step - loss: 0.6063 - accuracy: 0.9050 - val_loss: 1.2028 - val_accuracy: 0.7518\n"
     ]
    },
    {
     "data": {
      "text/plain": [
       "<keras.callbacks.History at 0x1b82c1692c8>"
      ]
     },
     "execution_count": 8,
     "metadata": {},
     "output_type": "execute_result"
    }
   ],
   "source": [
    "# ### from scratch model\n",
    "\n",
    "import random\n",
    "seed = 42\n",
    "random.seed(seed)\n",
    "tf.random.set_seed(seed)\n",
    "np.random.seed(seed)\n",
    "# model.save('./models/cifaroutlier_EDL_adam.hdf5')\n",
    "# loss = kl_loss(lambda_callback)\n",
    "# loss = brevisEnergy(lambda_callback)\n",
    "loss = keras.losses.CategoricalCrossentropy(from_logits=False)\n",
    "\n",
    "earlyStop = tf.keras.callbacks.EarlyStopping(monitor=\"val_accuracy\",patience=4,restore_best_weights=True)\n",
    "\n",
    "# _base_model = tf.keras.applications.inception_v3.InceptionV3(input_shape=(224, 224, 3),\n",
    "#      weights='imagenet',include_top=False)\n",
    "\n",
    "# x = _base_model.output\n",
    "# x = tf.keras.layers.GlobalAveragePooling2D()(x)\n",
    "# x = tf.keras.layers.Flatten()(x)\n",
    "# x = tf.keras.layers.Dense(1024, activation=\"relu\")(x)\n",
    "# x = tf.keras.layers.Dense(512, activation=\"relu\")(x)\n",
    "# x = tf.keras.layers.Dense(10, activation=\"softmax\", name=\"classification\")(x)\n",
    "\n",
    "# base_model = tf.keras.models.Model(inputs=_base_model.input, outputs=x)\n",
    "# base_model.compile(optimizer=tf.optimizers.SGD(learning_rate=0.001, momentum=0.9),\n",
    "#               loss=loss,\n",
    "#               metrics=['accuracy'])\n",
    "# history = base_model.fit(train_ds, validation_data=validation_ds, epochs=30,callbacks=[lambda_callback,earlyStop])\n",
    "\n",
    "\n",
    "base_model = keras.models.load_model(\"./models/wideresnet_.81.hdf5\")\n",
    "base_model.compile(#optimizer=tf.optimizers.SGD(learning_rate=0.001, momentum=0.9),\n",
    "              tf.keras.optimizers.Adam(),\n",
    "              # tf.optimizers.SGD(lr=0.001, momentum=0.9)\n",
    "              loss=loss,\n",
    "              metrics=['accuracy'])\n",
    "base_model.fit(train_ds, validation_data=validation_ds, epochs=40, callbacks=[earlyStop])\n",
    "# base_model.evaluate(test_ds)\n"
   ]
  },
  {
   "cell_type": "code",
   "execution_count": 12,
   "id": "d6d8303a-9516-4495-9c38-6153c1b3fcbc",
   "metadata": {},
   "outputs": [],
   "source": [
    "base_model.save(\"./models/wideresnet_.ES.hdf5\")"
   ]
  },
  {
   "cell_type": "code",
   "execution_count": 15,
   "id": "e3ddb812-4d48-4423-816d-c2474678c51e",
   "metadata": {},
   "outputs": [
    {
     "name": "stdout",
     "output_type": "stream",
     "text": [
      "313/313 [==============================] - 14s 46ms/step - loss: 0.9237 - accuracy: 0.8163\n"
     ]
    },
    {
     "data": {
      "text/plain": [
       "[0.923727810382843, 0.8162999749183655]"
      ]
     },
     "execution_count": 15,
     "metadata": {},
     "output_type": "execute_result"
    }
   ],
   "source": [
    "base_model.evaluate(test_ds)"
   ]
  },
  {
   "cell_type": "code",
   "execution_count": 13,
   "id": "2b47cb70-edb1-48f3-b6ad-687c48d743c5",
   "metadata": {},
   "outputs": [],
   "source": [
    "model = keras.models.load_model(\"./models/wideresnet_.81.hdf5\")"
   ]
  },
  {
   "cell_type": "code",
   "execution_count": 14,
   "id": "bf07e1ae-afc2-4297-8667-ee0b1f785856",
   "metadata": {},
   "outputs": [
    {
     "name": "stdout",
     "output_type": "stream",
     "text": [
      "313/313 [==============================] - 15s 45ms/step - loss: 1.0274 - accuracy: 0.8118\n"
     ]
    },
    {
     "data": {
      "text/plain": [
       "[1.0274261236190796, 0.8118000030517578]"
      ]
     },
     "execution_count": 14,
     "metadata": {},
     "output_type": "execute_result"
    }
   ],
   "source": [
    "model.evaluate(test_ds)"
   ]
  },
  {
   "cell_type": "code",
   "execution_count": 8,
   "id": "55d3f421-21b6-42ca-ad2b-28c849c9a6be",
   "metadata": {
    "collapsed": true,
    "jupyter": {
     "outputs_hidden": true
    },
    "tags": []
   },
   "outputs": [
    {
     "name": "stdout",
     "output_type": "stream",
     "text": [
      "Model: \"model_3\"\n",
      "__________________________________________________________________________________________________\n",
      " Layer (type)                   Output Shape         Param #     Connected to                     \n",
      "==================================================================================================\n",
      " input_4 (InputLayer)           [(None, 32, 32, 3)]  0           []                               \n",
      "                                                                                                  \n",
      " conv2d_84 (Conv2D)             (None, 32, 32, 16)   432         ['input_4[0][0]']                \n",
      "                                                                                                  \n",
      " batch_normalization_75 (BatchN  (None, 32, 32, 16)  64          ['conv2d_84[0][0]']              \n",
      " ormalization)                                                                                    \n",
      "                                                                                                  \n",
      " activation_75 (Activation)     (None, 32, 32, 16)   0           ['batch_normalization_75[0][0]'] \n",
      "                                                                                                  \n",
      " conv2d_85 (Conv2D)             (None, 32, 32, 160)  23040       ['activation_75[0][0]']          \n",
      "                                                                                                  \n",
      " batch_normalization_76 (BatchN  (None, 32, 32, 160)  640        ['conv2d_85[0][0]']              \n",
      " ormalization)                                                                                    \n",
      "                                                                                                  \n",
      " activation_76 (Activation)     (None, 32, 32, 160)  0           ['batch_normalization_76[0][0]'] \n",
      "                                                                                                  \n",
      " conv2d_86 (Conv2D)             (None, 32, 32, 160)  230400      ['activation_76[0][0]']          \n",
      "                                                                                                  \n",
      " conv2d_87 (Conv2D)             (None, 32, 32, 160)  2560        ['activation_75[0][0]']          \n",
      "                                                                                                  \n",
      " add_36 (Add)                   (None, 32, 32, 160)  0           ['conv2d_86[0][0]',              \n",
      "                                                                  'conv2d_87[0][0]']              \n",
      "                                                                                                  \n",
      " batch_normalization_77 (BatchN  (None, 32, 32, 160)  640        ['add_36[0][0]']                 \n",
      " ormalization)                                                                                    \n",
      "                                                                                                  \n",
      " activation_77 (Activation)     (None, 32, 32, 160)  0           ['batch_normalization_77[0][0]'] \n",
      "                                                                                                  \n",
      " conv2d_88 (Conv2D)             (None, 32, 32, 160)  230400      ['activation_77[0][0]']          \n",
      "                                                                                                  \n",
      " batch_normalization_78 (BatchN  (None, 32, 32, 160)  640        ['conv2d_88[0][0]']              \n",
      " ormalization)                                                                                    \n",
      "                                                                                                  \n",
      " activation_78 (Activation)     (None, 32, 32, 160)  0           ['batch_normalization_78[0][0]'] \n",
      "                                                                                                  \n",
      " conv2d_89 (Conv2D)             (None, 32, 32, 160)  230400      ['activation_78[0][0]']          \n",
      "                                                                                                  \n",
      " add_37 (Add)                   (None, 32, 32, 160)  0           ['conv2d_89[0][0]',              \n",
      "                                                                  'add_36[0][0]']                 \n",
      "                                                                                                  \n",
      " batch_normalization_79 (BatchN  (None, 32, 32, 160)  640        ['add_37[0][0]']                 \n",
      " ormalization)                                                                                    \n",
      "                                                                                                  \n",
      " activation_79 (Activation)     (None, 32, 32, 160)  0           ['batch_normalization_79[0][0]'] \n",
      "                                                                                                  \n",
      " conv2d_90 (Conv2D)             (None, 32, 32, 160)  230400      ['activation_79[0][0]']          \n",
      "                                                                                                  \n",
      " batch_normalization_80 (BatchN  (None, 32, 32, 160)  640        ['conv2d_90[0][0]']              \n",
      " ormalization)                                                                                    \n",
      "                                                                                                  \n",
      " activation_80 (Activation)     (None, 32, 32, 160)  0           ['batch_normalization_80[0][0]'] \n",
      "                                                                                                  \n",
      " conv2d_91 (Conv2D)             (None, 32, 32, 160)  230400      ['activation_80[0][0]']          \n",
      "                                                                                                  \n",
      " add_38 (Add)                   (None, 32, 32, 160)  0           ['conv2d_91[0][0]',              \n",
      "                                                                  'add_37[0][0]']                 \n",
      "                                                                                                  \n",
      " batch_normalization_81 (BatchN  (None, 32, 32, 160)  640        ['add_38[0][0]']                 \n",
      " ormalization)                                                                                    \n",
      "                                                                                                  \n",
      " activation_81 (Activation)     (None, 32, 32, 160)  0           ['batch_normalization_81[0][0]'] \n",
      "                                                                                                  \n",
      " conv2d_92 (Conv2D)             (None, 32, 32, 160)  230400      ['activation_81[0][0]']          \n",
      "                                                                                                  \n",
      " batch_normalization_82 (BatchN  (None, 32, 32, 160)  640        ['conv2d_92[0][0]']              \n",
      " ormalization)                                                                                    \n",
      "                                                                                                  \n",
      " activation_82 (Activation)     (None, 32, 32, 160)  0           ['batch_normalization_82[0][0]'] \n",
      "                                                                                                  \n",
      " conv2d_93 (Conv2D)             (None, 32, 32, 160)  230400      ['activation_82[0][0]']          \n",
      "                                                                                                  \n",
      " add_39 (Add)                   (None, 32, 32, 160)  0           ['conv2d_93[0][0]',              \n",
      "                                                                  'add_38[0][0]']                 \n",
      "                                                                                                  \n",
      " batch_normalization_83 (BatchN  (None, 32, 32, 160)  640        ['add_39[0][0]']                 \n",
      " ormalization)                                                                                    \n",
      "                                                                                                  \n",
      " activation_83 (Activation)     (None, 32, 32, 160)  0           ['batch_normalization_83[0][0]'] \n",
      "                                                                                                  \n",
      " conv2d_94 (Conv2D)             (None, 16, 16, 320)  460800      ['activation_83[0][0]']          \n",
      "                                                                                                  \n",
      " batch_normalization_84 (BatchN  (None, 16, 16, 320)  1280       ['conv2d_94[0][0]']              \n",
      " ormalization)                                                                                    \n",
      "                                                                                                  \n",
      " activation_84 (Activation)     (None, 16, 16, 320)  0           ['batch_normalization_84[0][0]'] \n",
      "                                                                                                  \n",
      " conv2d_95 (Conv2D)             (None, 16, 16, 320)  921600      ['activation_84[0][0]']          \n",
      "                                                                                                  \n",
      " conv2d_96 (Conv2D)             (None, 16, 16, 320)  51200       ['activation_83[0][0]']          \n",
      "                                                                                                  \n",
      " add_40 (Add)                   (None, 16, 16, 320)  0           ['conv2d_95[0][0]',              \n",
      "                                                                  'conv2d_96[0][0]']              \n",
      "                                                                                                  \n",
      " batch_normalization_85 (BatchN  (None, 16, 16, 320)  1280       ['add_40[0][0]']                 \n",
      " ormalization)                                                                                    \n",
      "                                                                                                  \n",
      " activation_85 (Activation)     (None, 16, 16, 320)  0           ['batch_normalization_85[0][0]'] \n",
      "                                                                                                  \n",
      " conv2d_97 (Conv2D)             (None, 16, 16, 320)  921600      ['activation_85[0][0]']          \n",
      "                                                                                                  \n",
      " batch_normalization_86 (BatchN  (None, 16, 16, 320)  1280       ['conv2d_97[0][0]']              \n",
      " ormalization)                                                                                    \n",
      "                                                                                                  \n",
      " activation_86 (Activation)     (None, 16, 16, 320)  0           ['batch_normalization_86[0][0]'] \n",
      "                                                                                                  \n",
      " conv2d_98 (Conv2D)             (None, 16, 16, 320)  921600      ['activation_86[0][0]']          \n",
      "                                                                                                  \n",
      " add_41 (Add)                   (None, 16, 16, 320)  0           ['conv2d_98[0][0]',              \n",
      "                                                                  'add_40[0][0]']                 \n",
      "                                                                                                  \n",
      " batch_normalization_87 (BatchN  (None, 16, 16, 320)  1280       ['add_41[0][0]']                 \n",
      " ormalization)                                                                                    \n",
      "                                                                                                  \n",
      " activation_87 (Activation)     (None, 16, 16, 320)  0           ['batch_normalization_87[0][0]'] \n",
      "                                                                                                  \n",
      " conv2d_99 (Conv2D)             (None, 16, 16, 320)  921600      ['activation_87[0][0]']          \n",
      "                                                                                                  \n",
      " batch_normalization_88 (BatchN  (None, 16, 16, 320)  1280       ['conv2d_99[0][0]']              \n",
      " ormalization)                                                                                    \n",
      "                                                                                                  \n",
      " activation_88 (Activation)     (None, 16, 16, 320)  0           ['batch_normalization_88[0][0]'] \n",
      "                                                                                                  \n",
      " conv2d_100 (Conv2D)            (None, 16, 16, 320)  921600      ['activation_88[0][0]']          \n",
      "                                                                                                  \n",
      " add_42 (Add)                   (None, 16, 16, 320)  0           ['conv2d_100[0][0]',             \n",
      "                                                                  'add_41[0][0]']                 \n",
      "                                                                                                  \n",
      " batch_normalization_89 (BatchN  (None, 16, 16, 320)  1280       ['add_42[0][0]']                 \n",
      " ormalization)                                                                                    \n",
      "                                                                                                  \n",
      " activation_89 (Activation)     (None, 16, 16, 320)  0           ['batch_normalization_89[0][0]'] \n",
      "                                                                                                  \n",
      " conv2d_101 (Conv2D)            (None, 16, 16, 320)  921600      ['activation_89[0][0]']          \n",
      "                                                                                                  \n",
      " batch_normalization_90 (BatchN  (None, 16, 16, 320)  1280       ['conv2d_101[0][0]']             \n",
      " ormalization)                                                                                    \n",
      "                                                                                                  \n",
      " activation_90 (Activation)     (None, 16, 16, 320)  0           ['batch_normalization_90[0][0]'] \n",
      "                                                                                                  \n",
      " conv2d_102 (Conv2D)            (None, 16, 16, 320)  921600      ['activation_90[0][0]']          \n",
      "                                                                                                  \n",
      " add_43 (Add)                   (None, 16, 16, 320)  0           ['conv2d_102[0][0]',             \n",
      "                                                                  'add_42[0][0]']                 \n",
      "                                                                                                  \n",
      " batch_normalization_91 (BatchN  (None, 16, 16, 320)  1280       ['add_43[0][0]']                 \n",
      " ormalization)                                                                                    \n",
      "                                                                                                  \n",
      " activation_91 (Activation)     (None, 16, 16, 320)  0           ['batch_normalization_91[0][0]'] \n",
      "                                                                                                  \n",
      " conv2d_103 (Conv2D)            (None, 8, 8, 640)    1843200     ['activation_91[0][0]']          \n",
      "                                                                                                  \n",
      " batch_normalization_92 (BatchN  (None, 8, 8, 640)   2560        ['conv2d_103[0][0]']             \n",
      " ormalization)                                                                                    \n",
      "                                                                                                  \n",
      " activation_92 (Activation)     (None, 8, 8, 640)    0           ['batch_normalization_92[0][0]'] \n",
      "                                                                                                  \n",
      " conv2d_104 (Conv2D)            (None, 8, 8, 640)    3686400     ['activation_92[0][0]']          \n",
      "                                                                                                  \n",
      " conv2d_105 (Conv2D)            (None, 8, 8, 640)    204800      ['activation_91[0][0]']          \n",
      "                                                                                                  \n",
      " add_44 (Add)                   (None, 8, 8, 640)    0           ['conv2d_104[0][0]',             \n",
      "                                                                  'conv2d_105[0][0]']             \n",
      "                                                                                                  \n",
      " batch_normalization_93 (BatchN  (None, 8, 8, 640)   2560        ['add_44[0][0]']                 \n",
      " ormalization)                                                                                    \n",
      "                                                                                                  \n",
      " activation_93 (Activation)     (None, 8, 8, 640)    0           ['batch_normalization_93[0][0]'] \n",
      "                                                                                                  \n",
      " conv2d_106 (Conv2D)            (None, 8, 8, 640)    3686400     ['activation_93[0][0]']          \n",
      "                                                                                                  \n",
      " batch_normalization_94 (BatchN  (None, 8, 8, 640)   2560        ['conv2d_106[0][0]']             \n",
      " ormalization)                                                                                    \n",
      "                                                                                                  \n",
      " activation_94 (Activation)     (None, 8, 8, 640)    0           ['batch_normalization_94[0][0]'] \n",
      "                                                                                                  \n",
      " conv2d_107 (Conv2D)            (None, 8, 8, 640)    3686400     ['activation_94[0][0]']          \n",
      "                                                                                                  \n",
      " add_45 (Add)                   (None, 8, 8, 640)    0           ['conv2d_107[0][0]',             \n",
      "                                                                  'add_44[0][0]']                 \n",
      "                                                                                                  \n",
      " batch_normalization_95 (BatchN  (None, 8, 8, 640)   2560        ['add_45[0][0]']                 \n",
      " ormalization)                                                                                    \n",
      "                                                                                                  \n",
      " activation_95 (Activation)     (None, 8, 8, 640)    0           ['batch_normalization_95[0][0]'] \n",
      "                                                                                                  \n",
      " conv2d_108 (Conv2D)            (None, 8, 8, 640)    3686400     ['activation_95[0][0]']          \n",
      "                                                                                                  \n",
      " batch_normalization_96 (BatchN  (None, 8, 8, 640)   2560        ['conv2d_108[0][0]']             \n",
      " ormalization)                                                                                    \n",
      "                                                                                                  \n",
      " activation_96 (Activation)     (None, 8, 8, 640)    0           ['batch_normalization_96[0][0]'] \n",
      "                                                                                                  \n",
      " conv2d_109 (Conv2D)            (None, 8, 8, 640)    3686400     ['activation_96[0][0]']          \n",
      "                                                                                                  \n",
      " add_46 (Add)                   (None, 8, 8, 640)    0           ['conv2d_109[0][0]',             \n",
      "                                                                  'add_45[0][0]']                 \n",
      "                                                                                                  \n",
      " batch_normalization_97 (BatchN  (None, 8, 8, 640)   2560        ['add_46[0][0]']                 \n",
      " ormalization)                                                                                    \n",
      "                                                                                                  \n",
      " activation_97 (Activation)     (None, 8, 8, 640)    0           ['batch_normalization_97[0][0]'] \n",
      "                                                                                                  \n",
      " conv2d_110 (Conv2D)            (None, 8, 8, 640)    3686400     ['activation_97[0][0]']          \n",
      "                                                                                                  \n",
      " batch_normalization_98 (BatchN  (None, 8, 8, 640)   2560        ['conv2d_110[0][0]']             \n",
      " ormalization)                                                                                    \n",
      "                                                                                                  \n",
      " activation_98 (Activation)     (None, 8, 8, 640)    0           ['batch_normalization_98[0][0]'] \n",
      "                                                                                                  \n",
      " conv2d_111 (Conv2D)            (None, 8, 8, 640)    3686400     ['activation_98[0][0]']          \n",
      "                                                                                                  \n",
      " add_47 (Add)                   (None, 8, 8, 640)    0           ['conv2d_111[0][0]',             \n",
      "                                                                  'add_46[0][0]']                 \n",
      "                                                                                                  \n",
      " batch_normalization_99 (BatchN  (None, 8, 8, 640)   2560        ['add_47[0][0]']                 \n",
      " ormalization)                                                                                    \n",
      "                                                                                                  \n",
      " activation_99 (Activation)     (None, 8, 8, 640)    0           ['batch_normalization_99[0][0]'] \n",
      "                                                                                                  \n",
      " average_pooling2d_3 (AveragePo  (None, 8, 8, 640)   0           ['activation_99[0][0]']          \n",
      " oling2D)                                                                                         \n",
      "                                                                                                  \n",
      " flatten_3 (Flatten)            (None, 40960)        0           ['average_pooling2d_3[0][0]']    \n",
      "                                                                                                  \n",
      " dense_3 (Dense)                (None, 10)           409600      ['flatten_3[0][0]']              \n",
      "                                                                                                  \n",
      "==================================================================================================\n",
      "Total params: 36,900,336\n",
      "Trainable params: 36,882,384\n",
      "Non-trainable params: 17,952\n",
      "__________________________________________________________________________________________________\n",
      "[<KerasTensor: shape=(None, 10) dtype=float32 (created by layer 'dense_3')>]\n",
      "WARNING:tensorflow:From C:\\Users\\Sanity\\AppData\\Local\\conda\\conda\\envs\\py36\\lib\\site-packages\\tensorflow\\python\\ops\\nn_ops.py:5214: tensor_shape_from_node_def_name (from tensorflow.python.framework.graph_util_impl) is deprecated and will be removed in a future version.\n",
      "Instructions for updating:\n",
      "Use `tf.compat.v1.graph_util.tensor_shape_from_node_def_name`\n",
      "FLOPS: 10.5 G\n"
     ]
    }
   ],
   "source": [
    "base_model.summary()\n",
    "# Calculae FLOPS\n",
    "print(base_model.outputs)\n",
    "flops = get_flops(base_model, batch_size=1)\n",
    "print(f\"FLOPS: {flops / 10 ** 9:.03} G\")\n"
   ]
  },
  {
   "cell_type": "markdown",
   "id": "f0616635-a453-410c-bac6-ad9ca2b4efe4",
   "metadata": {},
   "source": [
    "## Branch the model\n",
    "First we will train the BrevisNet version of the model with BrevisEnergy loss\n",
    "<hr>"
   ]
  },
  {
   "cell_type": "code",
   "execution_count": 7,
   "id": "0228e30c-4ece-4552-832e-bd0d01c50ea6",
   "metadata": {},
   "outputs": [],
   "source": [
    "def _branch_flat(prevLayer, targets=None, teacher_sm = None, teaching_features=None):\n",
    "    \"\"\" Add a new branch to a model connecting at the output of prevLayer. \n",
    "        NOTE: use the substring \"branch\" in all names for branch nodes. this is used as an identifier of the branching layers as opposed to the main branch layers for training\n",
    "    \"\"\" \n",
    "#     branchLayer = keras.layers.Flatten(name=tf.compat.v1.get_default_graph().unique_name(\"branch_flatten\"))(prevLayer)\n",
    "#     branchLayer = keras.layers.Dense(124, activation=\"relu\",name=tf.compat.v1.get_default_graph().unique_name(\"branch124\"))(branchLayer)\n",
    "#     branchLayer = keras.layers.Dense(64, activation=\"relu\",name=tf.compat.v1.get_default_graph().unique_name(\"branch64\"))(branchLayer)\n",
    "#     output = keras.layers.Dense(10, name=tf.compat.v1.get_default_graph().unique_name(\"branch_exit\"))(branchLayer)\n",
    "    \n",
    "    branchLayer = layers.Flatten(name=tf.compat.v1.get_default_graph().unique_name(\"branch_flatten\"))(prevLayer)\n",
    "    branchLayer = layers.Dense(1024, activation=\"relu\",name=tf.compat.v1.get_default_graph().unique_name(\"branch1024\"))(branchLayer)\n",
    "    branchLayer = layers.Dense(512, activation=\"relu\",name=tf.compat.v1.get_default_graph().unique_name(\"branch512\"))(branchLayer)\n",
    "    # output = branch.CrossEntropyEndpoint(targets.shape[-1], name=tf.compat.v1.get_default_graph().unique_name(\"branch_softmax\"))(branchLayer, targets)\n",
    "    output = keras.layers.Dense(10, name=tf.compat.v1.get_default_graph().unique_name(\"branch_exit\"))(branchLayer)\n",
    "    output = (layers.Softmax(name=tf.compat.v1.get_default_graph().unique_name(\"branch_softmax\"))(output))\n",
    "    return output\n",
    "\n",
    "def _branch_conv1(prevLayer, targets=None, teacher_sm = None, teaching_features=None):\n",
    "    \"\"\" Add a new branch to a model connecting at the output of prevLayer. \n",
    "        NOTE: use the substring \"branch\" in all names for branch nodes. this is used as an identifier of the branching layers as opposed to the main branch layers for training\n",
    "    \"\"\" \n",
    "#     branchLayer = keras.layers.Flatten(name=tf.compat.v1.get_default_graph().unique_name(\"branch_flatten\"))(prevLayer)\n",
    "#     branchLayer = keras.layers.Dense(124, activation=\"relu\",name=tf.compat.v1.get_default_graph().unique_name(\"branch124\"))(branchLayer)\n",
    "#     branchLayer = keras.layers.Dense(64, activation=\"relu\",name=tf.compat.v1.get_default_graph().unique_name(\"branch64\"))(branchLayer)\n",
    "#     output = keras.layers.Dense(10, name=tf.compat.v1.get_default_graph().unique_name(\"branch_exit\"))(branchLayer)\n",
    "    branchLayer = keras.layers.Conv2D(filters=160, kernel_size=(3,3), strides=(1,1), activation='relu',name=tf.compat.v1.get_default_graph().unique_name(\"branch_conv2d\"), input_shape=(prevLayer.shape))(prevLayer)\n",
    "    branchLayer = keras.layers.BatchNormalization(name=tf.compat.v1.get_default_graph().unique_name(\"branch_batchnorm\"))(branchLayer)  \n",
    "    branchLayer = keras.layers.Conv2D(filters=160, kernel_size=(3,3), strides=(1,1), activation='relu',name=tf.compat.v1.get_default_graph().unique_name(\"branch_conv2d\"), input_shape=(branchLayer.shape))(branchLayer)\n",
    "    branchLayer = keras.layers.BatchNormalization(name=tf.compat.v1.get_default_graph().unique_name(\"branch_batchnorm\"))(branchLayer)  \n",
    "    # branchLayer = keras.layers.MaxPool2D(pool_size=(3,3), strides=(2,2),name=tf.compat.v1.get_default_graph().unique_name(\"branch_maxpool\"))(branchLayer)\n",
    "    # branchLayer = keras.layers.Dropout(0.2,name=tf.compat.v1.get_default_graph().unique_name(\"branch_dropout\"))(branchLayer)\n",
    "    branchLayer = keras.layers.Conv2D(filters=360, kernel_size=(3,3), strides=(1,1), activation='relu',name=tf.compat.v1.get_default_graph().unique_name(\"branch_conv2d\"), input_shape=(branchLayer.shape))(branchLayer)\n",
    "    branchLayer = keras.layers.AveragePooling2D( pool_size=(10,10), strides=(1,1), padding='valid',name=tf.compat.v1.get_default_graph().unique_name(\"branch_avgpool\"))(branchLayer)\n",
    "    # branchLayer = keras.layers.MaxPool2D(pool_size=(3,3), strides=(2,2),name=tf.compat.v1.get_default_graph().unique_name(\"branch_maxpool\"))(branchLayer)\n",
    "    # branchLayer = keras.layers.Dropout(0.2,name=tf.compat.v1.get_default_graph().unique_name(\"branch_dropout\"))(branchLayer)\n",
    "    branchLayer = layers.Flatten(name=tf.compat.v1.get_default_graph().unique_name(\"branch_flatten\"))(branchLayer)\n",
    "    # branchLayer = layers.Dense(2048,activation='relu',name=tf.compat.v1.get_default_graph().unique_name(\"branch_dense\"))(branchLayer)\n",
    "    # branchLayer = keras.layers.Dropout(0.2,name=tf.compat.v1.get_default_graph().unique_name(\"branch_dropout\"))(branchLayer)\n",
    "    # branchLayer = layers.Dense(512,activation='relu',name=tf.compat.v1.get_default_graph().unique_name(\"branch_dense\"))(branchLayer)\n",
    "    output = keras.layers.Dense(10, name=tf.compat.v1.get_default_graph().unique_name(\"branch_exit\"))(branchLayer)\n",
    "    # output = (layers.Softmax(name=tf.compat.v1.get_default_graph().unique_name(\"branch_softmax\"))(output))\n",
    "    return output\n",
    "\n",
    "def _branch_conv2(prevLayer, targets=None, teacher_sm = None, teaching_features=None):\n",
    "    \"\"\" Add a new branch to a model connecting at the output of prevLayer. \n",
    "        NOTE: use the substring \"branch\" in all names for branch nodes. this is used as an identifier of the branching layers as opposed to the main branch layers for training\n",
    "    \"\"\" \n",
    "#     branchLayer = keras.layers.Flatten(name=tf.compat.v1.get_default_graph().unique_name(\"branch_flatten\"))(prevLayer)\n",
    "#     branchLayer = keras.layers.Dense(124, activation=\"relu\",name=tf.compat.v1.get_default_graph().unique_name(\"branch124\"))(branchLayer)\n",
    "#     branchLayer = keras.layers.Dense(64, activation=\"relu\",name=tf.compat.v1.get_default_graph().unique_name(\"branch64\"))(branchLayer)\n",
    "#     output = keras.layers.Dense(10, name=tf.compat.v1.get_default_graph().unique_name(\"branch_exit\"))(branchLayer)\n",
    "    branchLayer = keras.layers.Conv2D(filters=320, kernel_size=(3,3), strides=(1,1), activation='relu',name=tf.compat.v1.get_default_graph().unique_name(\"branch_conv2d\"), input_shape=(prevLayer.shape))(prevLayer)\n",
    "    branchLayer = keras.layers.BatchNormalization(name=tf.compat.v1.get_default_graph().unique_name(\"branch_batchnorm\"))(branchLayer)  \n",
    "    branchLayer = keras.layers.Conv2D(filters=320, kernel_size=(3,3), strides=(1,1), activation='relu',name=tf.compat.v1.get_default_graph().unique_name(\"branch_conv2d\"), input_shape=(branchLayer.shape))(branchLayer)\n",
    "    branchLayer = keras.layers.BatchNormalization(name=tf.compat.v1.get_default_graph().unique_name(\"branch_batchnorm\"))(branchLayer)  \n",
    "    # branchLayer = keras.layers.MaxPool2D(pool_size=(3,3), strides=(2,2),name=tf.compat.v1.get_default_graph().unique_name(\"branch_maxpool\"))(branchLayer)\n",
    "    # branchLayer = keras.layers.Dropout(0.2,name=tf.compat.v1.get_default_graph().unique_name(\"branch_dropout\"))(branchLayer)\n",
    "    branchLayer = keras.layers.Conv2D(filters=440, kernel_size=(3,3), strides=(1,1), activation='relu',name=tf.compat.v1.get_default_graph().unique_name(\"branch_conv2d\"), input_shape=(branchLayer.shape))(branchLayer)\n",
    "    branchLayer = keras.layers.AveragePooling2D( pool_size=(4,4), strides=(1,1), padding='valid',name=tf.compat.v1.get_default_graph().unique_name(\"branch_avgpool\"))(branchLayer)\n",
    "    # branchLayer = keras.layers.MaxPool2D(pool_size=(3,3), strides=(2,2),name=tf.compat.v1.get_default_graph().unique_name(\"branch_maxpool\"))(branchLayer)\n",
    "    # branchLayer = keras.layers.Dropout(0.2,name=tf.compat.v1.get_default_graph().unique_name(\"branch_dropout\"))(branchLayer)\n",
    "    branchLayer = layers.Flatten(name=tf.compat.v1.get_default_graph().unique_name(\"branch_flatten\"))(branchLayer)\n",
    "    # branchLayer = layers.Dense(2048,activation='relu',name=tf.compat.v1.get_default_graph().unique_name(\"branch_dense\"))(branchLayer)\n",
    "    # branchLayer = keras.layers.Dropout(0.2,name=tf.compat.v1.get_default_graph().unique_name(\"branch_dropout\"))(branchLayer)\n",
    "    # branchLayer = layers.Dense(512,activation='relu',name=tf.compat.v1.get_default_graph().unique_name(\"branch_dense\"))(branchLayer)\n",
    "    output = keras.layers.Dense(10, name=tf.compat.v1.get_default_graph().unique_name(\"branch_exit\"))(branchLayer)\n",
    "    # output = (layers.Softmax(name=tf.compat.v1.get_default_graph().unique_name(\"branch_softmax\"))(output))\n",
    "    return output\n",
    "\n",
    "\n"
   ]
  },
  {
   "cell_type": "code",
   "execution_count": 8,
   "id": "ad8df49f-cb71-4144-b958-63786a98547e",
   "metadata": {},
   "outputs": [],
   "source": [
    "\n",
    "def _branch_conv1(prevLayer, targets=None, teacher_sm = None, teaching_features=None):\n",
    "    \"\"\" Add a new branch to a model connecting at the output of prevLayer. \n",
    "        NOTE: use the substring \"branch\" in all names for branch nodes. this is used as an identifier of the branching layers as opposed to the main branch layers for training\n",
    "    \"\"\" \n",
    "#     branchLayer = keras.layers.Flatten(name=tf.compat.v1.get_default_graph().unique_name(\"branch_flatten\"))(prevLayer)\n",
    "#     branchLayer = keras.layers.Dense(124, activation=\"relu\",name=tf.compat.v1.get_default_graph().unique_name(\"branch124\"))(branchLayer)\n",
    "#     branchLayer = keras.layers.Dense(64, activation=\"relu\",name=tf.compat.v1.get_default_graph().unique_name(\"branch64\"))(branchLayer)\n",
    "#     output = keras.layers.Dense(10, name=tf.compat.v1.get_default_graph().unique_name(\"branch_exit\"))(branchLayer)\n",
    "    branchLayer = keras.layers.Conv2D(filters=64, kernel_size=(1,1), strides=(1,1), activation='relu',name=tf.compat.v1.get_default_graph().unique_name(\"branch_conv2d\"), input_shape=(prevLayer.shape))(prevLayer)\n",
    "    branchLayer = keras.layers.BatchNormalization(name=tf.compat.v1.get_default_graph().unique_name(\"branch_batchnorm\"))(branchLayer)  \n",
    "    branchLayer = keras.layers.Conv2D(filters=64, kernel_size=(1,1), strides=(1,1), activation='relu',name=tf.compat.v1.get_default_graph().unique_name(\"branch_conv2d\"), input_shape=(branchLayer.shape))(branchLayer)\n",
    "    branchLayer = keras.layers.BatchNormalization(name=tf.compat.v1.get_default_graph().unique_name(\"branch_batchnorm\"))(branchLayer)  \n",
    "    # branchLayer = keras.layers.MaxPool2D(pool_size=(3,3), strides=(2,2),name=tf.compat.v1.get_default_graph().unique_name(\"branch_maxpool\"))(branchLayer)\n",
    "    # branchLayer = keras.layers.Dropout(0.2,name=tf.compat.v1.get_default_graph().unique_name(\"branch_dropout\"))(branchLayer)\n",
    "    branchLayer = keras.layers.Conv2D(filters=256, kernel_size=(1,1), strides=(2,2), activation='relu',name=tf.compat.v1.get_default_graph().unique_name(\"branch_conv2d\"), input_shape=(branchLayer.shape))(branchLayer)\n",
    "    branchLayer = keras.layers.BatchNormalization(name=tf.compat.v1.get_default_graph().unique_name(\"branch_batchnorm\"))(branchLayer)\n",
    "    # branchLayer = keras.layers.MaxPool2D(pool_size=(3,3), strides=(2,2),name=tf.compat.v1.get_default_graph().unique_name(\"branch_maxpool\"))(branchLayer)\n",
    "    # branchLayer = keras.layers.Dropout(0.2,name=tf.compat.v1.get_default_graph().unique_name(\"branch_dropout\"))(branchLayer)\n",
    "    branchLayer = layers.Flatten(name=tf.compat.v1.get_default_graph().unique_name(\"branch_flatten\"))(branchLayer)\n",
    "    branchLayer = layers.Dense(1024,activation='relu',name=tf.compat.v1.get_default_graph().unique_name(\"branch_dense\"))(branchLayer)\n",
    "    branchLayer = keras.layers.Dropout(0.2,name=tf.compat.v1.get_default_graph().unique_name(\"branch_dropout\"))(branchLayer)\n",
    "    branchLayer = layers.Dense(512,activation='relu',name=tf.compat.v1.get_default_graph().unique_name(\"branch_dense\"))(branchLayer)\n",
    "    output = keras.layers.Dense(10, name=tf.compat.v1.get_default_graph().unique_name(\"branch_exit\"))(branchLayer)\n",
    "    # output = (layers.Softmax(name=tf.compat.v1.get_default_graph().unique_name(\"branch_softmax\"))(output))\n",
    "    return output\n",
    "\n",
    "def _branch_conv2(prevLayer, targets=None, teacher_sm = None, teaching_features=None):\n",
    "    \"\"\" Add a new branch to a model connecting at the output of prevLayer. \n",
    "        NOTE: use the substring \"branch\" in all names for branch nodes. this is used as an identifier of the branching layers as opposed to the main branch layers for training\n",
    "    \"\"\" \n",
    "#     branchLayer = keras.layers.Flatten(name=tf.compat.v1.get_default_graph().unique_name(\"branch_flatten\"))(prevLayer)\n",
    "#     branchLayer = keras.layers.Dense(124, activation=\"relu\",name=tf.compat.v1.get_default_graph().unique_name(\"branch124\"))(branchLayer)\n",
    "#     branchLayer = keras.layers.Dense(64, activation=\"relu\",name=tf.compat.v1.get_default_graph().unique_name(\"branch64\"))(branchLayer)\n",
    "#     output = keras.layers.Dense(10, name=tf.compat.v1.get_default_graph().unique_name(\"branch_exit\"))(branchLayer)\n",
    "    branchLayer = keras.layers.Conv2D(filters=128, kernel_size=(1,1), strides=(1,1), activation='relu',name=tf.compat.v1.get_default_graph().unique_name(\"branch_conv2d\"), input_shape=(prevLayer.shape))(prevLayer)\n",
    "    branchLayer = keras.layers.BatchNormalization(name=tf.compat.v1.get_default_graph().unique_name(\"branch_batchnorm\"))(branchLayer)  \n",
    "    branchLayer = keras.layers.Conv2D(filters=128, kernel_size=(1,1), strides=(1,1), activation='relu',name=tf.compat.v1.get_default_graph().unique_name(\"branch_conv2d\"), input_shape=(branchLayer.shape))(branchLayer)\n",
    "    branchLayer = keras.layers.BatchNormalization(name=tf.compat.v1.get_default_graph().unique_name(\"branch_batchnorm\"))(branchLayer)  \n",
    "    branchLayer = keras.layers.MaxPool2D(pool_size=(3,3), strides=(2,2),name=tf.compat.v1.get_default_graph().unique_name(\"branch_maxpool\"))(branchLayer)\n",
    "    # branchLayer = keras.layers.Dropout(0.2,name=tf.compat.v1.get_default_graph().unique_name(\"branch_dropout\"))(branchLayer)\n",
    "    branchLayer = keras.layers.Conv2D(filters=512, kernel_size=(1,1), strides=(1,1), activation='relu',name=tf.compat.v1.get_default_graph().unique_name(\"branch_conv2d\"), input_shape=(branchLayer.shape))(branchLayer)\n",
    "    branchLayer = keras.layers.BatchNormalization(name=tf.compat.v1.get_default_graph().unique_name(\"branch_batchnorm\"))(branchLayer)\n",
    "    branchLayer = keras.layers.MaxPool2D(pool_size=(3,3), strides=(2,2),name=tf.compat.v1.get_default_graph().unique_name(\"branch_maxpool\"))(branchLayer)\n",
    "    # branchLayer = keras.layers.Dropout(0.2,name=tf.compat.v1.get_default_graph().unique_name(\"branch_dropout\"))(branchLayer)\n",
    "    branchLayer = layers.Flatten(name=tf.compat.v1.get_default_graph().unique_name(\"branch_flatten\"))(branchLayer)\n",
    "    branchLayer = layers.Dense(1024,activation='relu',name=tf.compat.v1.get_default_graph().unique_name(\"branch_dense\"))(branchLayer)\n",
    "    branchLayer = keras.layers.Dropout(0.2,name=tf.compat.v1.get_default_graph().unique_name(\"branch_dropout\"))(branchLayer)\n",
    "    branchLayer = layers.Dense(512,activation='relu',name=tf.compat.v1.get_default_graph().unique_name(\"branch_dense\"))(branchLayer)\n",
    "    output = keras.layers.Dense(10, name=tf.compat.v1.get_default_graph().unique_name(\"branch_exit\"))(branchLayer)\n",
    "    # output = (layers.Softmax(name=tf.compat.v1.get_default_graph().unique_name(\"branch_softmax\"))(output))\n",
    "    return output\n",
    "\n",
    "def _branch_conv1_SM(prevLayer, targets=None, teacher_sm = None, teaching_features=None):\n",
    "    \"\"\" Add a new branch to a model connecting at the output of prevLayer. \n",
    "        NOTE: use the substring \"branch\" in all names for branch nodes. this is used as an identifier of the branching layers as opposed to the main branch layers for training\n",
    "    \"\"\" \n",
    "#     branchLayer = keras.layers.Flatten(name=tf.compat.v1.get_default_graph().unique_name(\"branch_flatten\"))(prevLayer)\n",
    "#     branchLayer = keras.layers.Dense(124, activation=\"relu\",name=tf.compat.v1.get_default_graph().unique_name(\"branch124\"))(branchLayer)\n",
    "#     branchLayer = keras.layers.Dense(64, activation=\"relu\",name=tf.compat.v1.get_default_graph().unique_name(\"branch64\"))(branchLayer)\n",
    "#     output = keras.layers.Dense(10, name=tf.compat.v1.get_default_graph().unique_name(\"branch_exit\"))(branchLayer)\n",
    "    branchLayer = keras.layers.Conv2D(filters=64, kernel_size=(1,1), strides=(1,1), activation='relu',name=tf.compat.v1.get_default_graph().unique_name(\"branch_conv2d\"), input_shape=(prevLayer.shape))(prevLayer)\n",
    "    branchLayer = keras.layers.BatchNormalization(name=tf.compat.v1.get_default_graph().unique_name(\"branch_batchnorm\"))(branchLayer)  \n",
    "    branchLayer = keras.layers.Conv2D(filters=64, kernel_size=(1,1), strides=(1,1), activation='relu',name=tf.compat.v1.get_default_graph().unique_name(\"branch_conv2d\"), input_shape=(branchLayer.shape))(branchLayer)\n",
    "    branchLayer = keras.layers.BatchNormalization(name=tf.compat.v1.get_default_graph().unique_name(\"branch_batchnorm\"))(branchLayer)  \n",
    "    # branchLayer = keras.layers.MaxPool2D(pool_size=(3,3), strides=(2,2),name=tf.compat.v1.get_default_graph().unique_name(\"branch_maxpool\"))(branchLayer)\n",
    "    # branchLayer = keras.layers.Dropout(0.2,name=tf.compat.v1.get_default_graph().unique_name(\"branch_dropout\"))(branchLayer)\n",
    "    branchLayer = keras.layers.Conv2D(filters=256, kernel_size=(1,1), strides=(2,2), activation='relu',name=tf.compat.v1.get_default_graph().unique_name(\"branch_conv2d\"), input_shape=(branchLayer.shape))(branchLayer)\n",
    "    branchLayer = keras.layers.BatchNormalization(name=tf.compat.v1.get_default_graph().unique_name(\"branch_batchnorm\"))(branchLayer)\n",
    "    # branchLayer = keras.layers.MaxPool2D(pool_size=(3,3), strides=(2,2),name=tf.compat.v1.get_default_graph().unique_name(\"branch_maxpool\"))(branchLayer)\n",
    "    # branchLayer = keras.layers.Dropout(0.2,name=tf.compat.v1.get_default_graph().unique_name(\"branch_dropout\"))(branchLayer)\n",
    "    branchLayer = layers.Flatten(name=tf.compat.v1.get_default_graph().unique_name(\"branch_flatten\"))(branchLayer)\n",
    "    branchLayer = layers.Dense(1024,activation='relu',name=tf.compat.v1.get_default_graph().unique_name(\"branch_dense\"))(branchLayer)\n",
    "    branchLayer = keras.layers.Dropout(0.2,name=tf.compat.v1.get_default_graph().unique_name(\"branch_dropout\"))(branchLayer)\n",
    "    branchLayer = layers.Dense(512,activation='relu',name=tf.compat.v1.get_default_graph().unique_name(\"branch_dense\"))(branchLayer)\n",
    "    output = keras.layers.Dense(10, activation='softmax', name=tf.compat.v1.get_default_graph().unique_name(\"branch_exit\"))(branchLayer)\n",
    "    # output = (layers.Softmax(name=tf.compat.v1.get_default_graph().unique_name(\"branch_softmax\"))(output))\n",
    "    return output\n",
    "\n",
    "def _branch_conv2_SM(prevLayer, targets=None, teacher_sm = None, teaching_features=None):\n",
    "    \"\"\" Add a new branch to a model connecting at the output of prevLayer. \n",
    "        NOTE: use the substring \"branch\" in all names for branch nodes. this is used as an identifier of the branching layers as opposed to the main branch layers for training\n",
    "    \"\"\" \n",
    "#     branchLayer = keras.layers.Flatten(name=tf.compat.v1.get_default_graph().unique_name(\"branch_flatten\"))(prevLayer)\n",
    "#     branchLayer = keras.layers.Dense(124, activation=\"relu\",name=tf.compat.v1.get_default_graph().unique_name(\"branch124\"))(branchLayer)\n",
    "#     branchLayer = keras.layers.Dense(64, activation=\"relu\",name=tf.compat.v1.get_default_graph().unique_name(\"branch64\"))(branchLayer)\n",
    "#     output = keras.layers.Dense(10, name=tf.compat.v1.get_default_graph().unique_name(\"branch_exit\"))(branchLayer)\n",
    "    branchLayer = keras.layers.Conv2D(filters=128, kernel_size=(1,1), strides=(1,1), activation='relu',name=tf.compat.v1.get_default_graph().unique_name(\"branch_conv2d\"), input_shape=(prevLayer.shape))(prevLayer)\n",
    "    branchLayer = keras.layers.BatchNormalization(name=tf.compat.v1.get_default_graph().unique_name(\"branch_batchnorm\"))(branchLayer)  \n",
    "    branchLayer = keras.layers.Conv2D(filters=128, kernel_size=(1,1), strides=(1,1), activation='relu',name=tf.compat.v1.get_default_graph().unique_name(\"branch_conv2d\"), input_shape=(branchLayer.shape))(branchLayer)\n",
    "    branchLayer = keras.layers.BatchNormalization(name=tf.compat.v1.get_default_graph().unique_name(\"branch_batchnorm\"))(branchLayer)  \n",
    "    branchLayer = keras.layers.MaxPool2D(pool_size=(3,3), strides=(2,2),name=tf.compat.v1.get_default_graph().unique_name(\"branch_maxpool\"))(branchLayer)\n",
    "    # branchLayer = keras.layers.Dropout(0.2,name=tf.compat.v1.get_default_graph().unique_name(\"branch_dropout\"))(branchLayer)\n",
    "    branchLayer = keras.layers.Conv2D(filters=512, kernel_size=(1,1), strides=(1,1), activation='relu',name=tf.compat.v1.get_default_graph().unique_name(\"branch_conv2d\"), input_shape=(branchLayer.shape))(branchLayer)\n",
    "    branchLayer = keras.layers.BatchNormalization(name=tf.compat.v1.get_default_graph().unique_name(\"branch_batchnorm\"))(branchLayer)\n",
    "    branchLayer = keras.layers.MaxPool2D(pool_size=(3,3), strides=(2,2),name=tf.compat.v1.get_default_graph().unique_name(\"branch_maxpool\"))(branchLayer)\n",
    "    # branchLayer = keras.layers.Dropout(0.2,name=tf.compat.v1.get_default_graph().unique_name(\"branch_dropout\"))(branchLayer)\n",
    "    branchLayer = layers.Flatten(name=tf.compat.v1.get_default_graph().unique_name(\"branch_flatten\"))(branchLayer)\n",
    "    branchLayer = layers.Dense(1024,activation='relu',name=tf.compat.v1.get_default_graph().unique_name(\"branch_dense\"))(branchLayer)\n",
    "    branchLayer = keras.layers.Dropout(0.2,name=tf.compat.v1.get_default_graph().unique_name(\"branch_dropout\"))(branchLayer)\n",
    "    branchLayer = layers.Dense(512,activation='relu',name=tf.compat.v1.get_default_graph().unique_name(\"branch_dense\"))(branchLayer)\n",
    "    output = keras.layers.Dense(10, activation='softmax', name=tf.compat.v1.get_default_graph().unique_name(\"branch_exit\"))(branchLayer)\n",
    "    # output = (layers.Softmax(name=tf.compat.v1.get_default_graph().unique_name(\"branch_softmax\"))(output))\n",
    "    return output"
   ]
  },
  {
   "cell_type": "code",
   "execution_count": 9,
   "id": "afb58c59-a90b-4203-8eea-c935eb04bbfe",
   "metadata": {},
   "outputs": [],
   "source": [
    "\n",
    "def _branch_conv1(prevLayer, targets=None, teacher_sm = None, teaching_features=None):\n",
    "    \"\"\" Add a new branch to a model connecting at the output of prevLayer. \n",
    "        NOTE: use the substring \"branch\" in all names for branch nodes. this is used as an identifier of the branching layers as opposed to the main branch layers for training\n",
    "    \"\"\" \n",
    "#     branchLayer = keras.layers.Flatten(name=tf.compat.v1.get_default_graph().unique_name(\"branch_flatten\"))(prevLayer)\n",
    "#     branchLayer = keras.layers.Dense(124, activation=\"relu\",name=tf.compat.v1.get_default_graph().unique_name(\"branch124\"))(branchLayer)\n",
    "#     branchLayer = keras.layers.Dense(64, activation=\"relu\",name=tf.compat.v1.get_default_graph().unique_name(\"branch64\"))(branchLayer)\n",
    "#     output = keras.layers.Dense(10, name=tf.compat.v1.get_default_graph().unique_name(\"branch_exit\"))(branchLayer)\n",
    "    branchLayer = keras.layers.Conv2D(filters=64, kernel_size=(1,1), strides=(1,1), activation='relu',name=tf.compat.v1.get_default_graph().unique_name(\"branch_conv2d\"), input_shape=(prevLayer.shape))(prevLayer)\n",
    "    branchLayer = keras.layers.BatchNormalization(name=tf.compat.v1.get_default_graph().unique_name(\"branch_batchnorm\"))(branchLayer)  \n",
    "    branchLayer = keras.layers.Conv2D(filters=64, kernel_size=(1,1), strides=(1,1), activation='relu',name=tf.compat.v1.get_default_graph().unique_name(\"branch_conv2d\"), input_shape=(branchLayer.shape))(branchLayer)\n",
    "    branchLayer = keras.layers.BatchNormalization(name=tf.compat.v1.get_default_graph().unique_name(\"branch_batchnorm\"))(branchLayer)  \n",
    "    # branchLayer = keras.layers.MaxPool2D(pool_size=(3,3), strides=(2,2),name=tf.compat.v1.get_default_graph().unique_name(\"branch_maxpool\"))(branchLayer)\n",
    "    # branchLayer = keras.layers.Dropout(0.2,name=tf.compat.v1.get_default_graph().unique_name(\"branch_dropout\"))(branchLayer)\n",
    "    branchLayer = keras.layers.Conv2D(filters=256, kernel_size=(1,1), strides=(2,2), activation='relu',name=tf.compat.v1.get_default_graph().unique_name(\"branch_conv2d\"), input_shape=(branchLayer.shape))(branchLayer)\n",
    "    branchLayer = keras.layers.BatchNormalization(name=tf.compat.v1.get_default_graph().unique_name(\"branch_batchnorm\"))(branchLayer)\n",
    "    # branchLayer = keras.layers.MaxPool2D(pool_size=(3,3), strides=(2,2),name=tf.compat.v1.get_default_graph().unique_name(\"branch_maxpool\"))(branchLayer)\n",
    "    # branchLayer = keras.layers.Dropout(0.2,name=tf.compat.v1.get_default_graph().unique_name(\"branch_dropout\"))(branchLayer)\n",
    "    branchLayer = layers.Flatten(name=tf.compat.v1.get_default_graph().unique_name(\"branch_flatten\"))(branchLayer)\n",
    "    branchLayer = layers.Dense(1024,activation='relu',name=tf.compat.v1.get_default_graph().unique_name(\"branch_dense\"))(branchLayer)\n",
    "    branchLayer = keras.layers.Dropout(0.2,name=tf.compat.v1.get_default_graph().unique_name(\"branch_dropout\"))(branchLayer)\n",
    "    branchLayer = layers.Dense(512,activation='relu',name=tf.compat.v1.get_default_graph().unique_name(\"branch_dense\"))(branchLayer)\n",
    "    output = keras.layers.Dense(10, name=tf.compat.v1.get_default_graph().unique_name(\"branch_exit\"))(branchLayer)\n",
    "    # output = (layers.Softmax(name=tf.compat.v1.get_default_graph().unique_name(\"branch_softmax\"))(output))\n",
    "    return output\n",
    "\n",
    "def _branch_conv2(prevLayer, targets=None, teacher_sm = None, teaching_features=None):\n",
    "    \"\"\" Add a new branch to a model connecting at the output of prevLayer. \n",
    "        NOTE: use the substring \"branch\" in all names for branch nodes. this is used as an identifier of the branching layers as opposed to the main branch layers for training\n",
    "    \"\"\" \n",
    "#     branchLayer = keras.layers.Flatten(name=tf.compat.v1.get_default_graph().unique_name(\"branch_flatten\"))(prevLayer)\n",
    "#     branchLayer = keras.layers.Dense(124, activation=\"relu\",name=tf.compat.v1.get_default_graph().unique_name(\"branch124\"))(branchLayer)\n",
    "#     branchLayer = keras.layers.Dense(64, activation=\"relu\",name=tf.compat.v1.get_default_graph().unique_name(\"branch64\"))(branchLayer)\n",
    "#     output = keras.layers.Dense(10, name=tf.compat.v1.get_default_graph().unique_name(\"branch_exit\"))(branchLayer)\n",
    "    branchLayer = keras.layers.Conv2D(filters=128, kernel_size=(1,1), strides=(1,1), activation='relu',name=tf.compat.v1.get_default_graph().unique_name(\"branch_conv2d\"), input_shape=(prevLayer.shape))(prevLayer)\n",
    "    branchLayer = keras.layers.BatchNormalization(name=tf.compat.v1.get_default_graph().unique_name(\"branch_batchnorm\"))(branchLayer)  \n",
    "    branchLayer = keras.layers.Conv2D(filters=128, kernel_size=(1,1), strides=(1,1), activation='relu',name=tf.compat.v1.get_default_graph().unique_name(\"branch_conv2d\"), input_shape=(branchLayer.shape))(branchLayer)\n",
    "    branchLayer = keras.layers.BatchNormalization(name=tf.compat.v1.get_default_graph().unique_name(\"branch_batchnorm\"))(branchLayer)  \n",
    "    branchLayer = keras.layers.MaxPool2D(pool_size=(3,3), strides=(2,2),name=tf.compat.v1.get_default_graph().unique_name(\"branch_maxpool\"))(branchLayer)\n",
    "    # branchLayer = keras.layers.Dropout(0.2,name=tf.compat.v1.get_default_graph().unique_name(\"branch_dropout\"))(branchLayer)\n",
    "    branchLayer = keras.layers.Conv2D(filters=512, kernel_size=(1,1), strides=(1,1), activation='relu',name=tf.compat.v1.get_default_graph().unique_name(\"branch_conv2d\"), input_shape=(branchLayer.shape))(branchLayer)\n",
    "    branchLayer = keras.layers.BatchNormalization(name=tf.compat.v1.get_default_graph().unique_name(\"branch_batchnorm\"))(branchLayer)\n",
    "    branchLayer = keras.layers.MaxPool2D(pool_size=(3,3), strides=(2,2),name=tf.compat.v1.get_default_graph().unique_name(\"branch_maxpool\"))(branchLayer)\n",
    "    # branchLayer = keras.layers.Dropout(0.2,name=tf.compat.v1.get_default_graph().unique_name(\"branch_dropout\"))(branchLayer)\n",
    "    branchLayer = layers.Flatten(name=tf.compat.v1.get_default_graph().unique_name(\"branch_flatten\"))(branchLayer)\n",
    "    branchLayer = layers.Dense(1024,activation='relu',name=tf.compat.v1.get_default_graph().unique_name(\"branch_dense\"))(branchLayer)\n",
    "    branchLayer = keras.layers.Dropout(0.2,name=tf.compat.v1.get_default_graph().unique_name(\"branch_dropout\"))(branchLayer)\n",
    "    branchLayer = layers.Dense(512,activation='relu',name=tf.compat.v1.get_default_graph().unique_name(\"branch_dense\"))(branchLayer)\n",
    "    output = keras.layers.Dense(10, name=tf.compat.v1.get_default_graph().unique_name(\"branch_exit\"))(branchLayer)\n",
    "    # output = (layers.Softmax(name=tf.compat.v1.get_default_graph().unique_name(\"branch_softmax\"))(output))\n",
    "    return output\n",
    "\n"
   ]
  },
  {
   "cell_type": "code",
   "execution_count": 10,
   "id": "b5b935b9-8858-4f0d-a881-56efa500b866",
   "metadata": {},
   "outputs": [],
   "source": [
    "from tensorflow.python.platform import tf_logging as logging\n",
    "class _earlyStopping(keras.callbacks.EarlyStopping):\n",
    "    def __init__(self,\n",
    "               monitor='val_loss',\n",
    "               min_delta=0,\n",
    "               patience=0,\n",
    "               verbose=0,\n",
    "               mode='auto',\n",
    "               baseline=None,\n",
    "               restore_best_weights=False):\n",
    "        self.monitor = monitor\n",
    "        self.patience = patience\n",
    "        self.verbose = verbose\n",
    "        self.baseline = baseline\n",
    "        self.min_delta = abs(min_delta)\n",
    "        self.wait = 0\n",
    "        self.stopped_epoch = 0\n",
    "        self.restore_best_weights = restore_best_weights\n",
    "        self.best_weights = None\n",
    "        # super(_earlyStopping, self).__init__(monitor=)\n",
    "        if mode not in ['auto', 'min', 'max']:\n",
    "            logging.warning('EarlyStopping mode %s is unknown, '\n",
    "                          'fallback to auto mode.', mode)\n",
    "            mode = 'auto'\n",
    "\n",
    "        if mode == 'min':\n",
    "            self.monitor_op = np.less\n",
    "        elif mode == 'max':\n",
    "            self.monitor_op = np.greater\n",
    "        else:\n",
    "            \n",
    "            # if (self.monitor.endswith('acc') or self.monitor.endswith('accuracy') or self.monitor.endswith('auc')):\n",
    "            self.monitor_op = np.greater\n",
    "            # else:\n",
    "                # self.monitor_op = np.less\n",
    "\n",
    "        if self.monitor_op == np.greater:\n",
    "            self.min_delta *= 1\n",
    "        else:\n",
    "            self.min_delta *= -1\n",
    "\n",
    "        self.monitor_op = np.greater\n",
    "        self.min_delta *= 1\n",
    "        \n",
    "    def get_monitor_value(self, logs):\n",
    "        logs = logs or {}\n",
    "        monitor_value = 0\n",
    "        if type(self.monitor) is list:\n",
    "            for i in self.monitor:\n",
    "                _log_val = logs.get(i)\n",
    "                # logging.warning(\"values are {}, {}\".format(i,_log_val))\n",
    "                if _log_val is None:\n",
    "                    logging.warning('Metric `%s` '\n",
    "                          'for early stopping is not available. Available metrics are: %s',\n",
    "                          i, ','.join(list(logs.keys())))\n",
    "                else:\n",
    "                    monitor_value += _log_val\n",
    "        # monitor_value = logs.get(self.monitor)\n",
    "        if monitor_value is None:\n",
    "            logging.warning('Early stopping conditioned on metric `%s` '\n",
    "                          'which is not available. Available metrics are: %s',\n",
    "                          self.monitor, ','.join(list(logs.keys())))\n",
    "        return monitor_value\n"
   ]
  },
  {
   "cell_type": "code",
   "execution_count": 11,
   "id": "d9612187-a7ff-405f-a284-59be37d081c5",
   "metadata": {},
   "outputs": [
    {
     "name": "stdout",
     "output_type": "stream",
     "text": [
      "Matching Branchpoint by id number\n",
      "Matching Branchpoint by name\n",
      "add Branch to branch point  activation_83\n",
      "add Branch to branch point  activation_91\n",
      "KerasTensor(type_spec=TensorSpec(shape=(None, 32, 32, 3), dtype=tf.float32, name='input_4'), name='input_4', description=\"created by layer 'input_4'\")\n",
      "[<KerasTensor: shape=(None, 10) dtype=float32 (created by layer 'dense_3')>, <KerasTensor: shape=(None, 10) dtype=float32 (created by layer 'branch_exit')>, <KerasTensor: shape=(None, 10) dtype=float32 (created by layer 'branch_exit_1')>]\n",
      "branch added <brevis.core_v2.BranchModel object at 0x000001895F33D0C8>\n",
      "Freezing Main Layers and setting branch layers training to true\n",
      "\n",
      "preset: Other\n"
     ]
    }
   ],
   "source": [
    "# import random\n",
    "# seed = 42\n",
    "# random.seed(seed)\n",
    "# tf.random.set_seed(seed)\n",
    "# np.random.seed(seed)\n",
    "tf.keras.backend.clear_session()\n",
    "\n",
    "\n",
    "def loss_wrapper(lambda_callback: lambda_update):\n",
    "    ''' Loss function of Evidential Dirichlet Networks\n",
    "        Expected Mean Square Error + KL divergence\n",
    "    '''\n",
    "    def custom_loss_function(p, logits):\n",
    "    #     alpha = alpha + 1\n",
    "        evidence = exp_evidence(logits)\n",
    "        # evidence = tf.nn.softplus(logits)\n",
    "        alpha = evidence + 1\n",
    "        S = tf.reduce_sum(alpha,axis=1,keepdims=True) \n",
    "        E = alpha - 1\n",
    "        m = alpha / S\n",
    "        A = tf.reduce_sum((p-m)**2, axis=1, keepdims=True) \n",
    "        B = tf.reduce_sum(alpha*(S-alpha)/(S*S*(S+1)), axis=1, keepdims=True) \n",
    "        annealing_coef =  lambda_callback.lambda_t\n",
    "        \n",
    "        bool_mask = tf.cast(p,tf.bool)\n",
    "        ic_mask = tf.cast(1 - p,tf.bool)\n",
    "        ic_bool_mask = tf.cast(ic_mask,tf.bool)\n",
    "        ic_alpha_masked = tf.cast(tf.ragged.boolean_mask(alpha, ic_bool_mask).to_tensor(),tf.float32)\n",
    "        #### info reg\n",
    "        _A = (ic_alpha_masked -1) ** 2\n",
    "        B_1 = tf.math.polygamma(1.,ic_alpha_masked) \n",
    "        B_2 = tf.math.polygamma(1., tf.reduce_sum(ic_alpha_masked,axis=1,keepdims=True))\n",
    "        _B = (B_1 - B_2)\n",
    "        info_reg =  .5* tf.reduce_sum(_A * _B,axis=1)\n",
    "        info_reg = annealing_coef * (info_reg * 2)\n",
    "        \n",
    "        # annealing_coef =  0.0001\n",
    "        # alp = E*(1-p) + 1 \n",
    "        # C =   annealing_coef * KL(alp,10)\n",
    "        # C =   annealing_coef * DirichletKLLoss(p,logits, True)\n",
    "        D = 0.0001 * -tf.reduce_mean(tfp.distributions.Dirichlet(alpha).entropy())\n",
    "        # tf.print((A + B),summarize=-1)\n",
    "        # tf.print((info_reg + D),summarize=-1)\n",
    "        \n",
    "        # tf.print(((A + B) + info_reg + D).shape)\n",
    "        return (A + B) + info_reg +  D # info_reg + D  #+ info_reg #+ C + D\n",
    "    return custom_loss_function\n",
    "\n",
    "        \n",
    "earlyStop = _earlyStopping(monitor=[\"val_dense_3_accuracy\",\"val_branch_exit_accuracy\",\"val_branch_exit_1_accuracy\"],patience=5,restore_best_weights=True)\n",
    "growth_callback = growth_update(100,0.,max_t = 1, starting_epoch =0)\n",
    "\n",
    "branch_loss = loss_wrapper(growth_callback)\n",
    "trunk_loss = keras.losses.CategoricalCrossentropy(from_logits=False)\n",
    "CE_loss = keras.losses.CategoricalCrossentropy(from_logits=True)\n",
    "model = brevis.BranchModel(name=\"./models/wideresnet_.ES.hdf5\", custom_objects={})\n",
    "model.add_branches([_branch_conv1,_branch_conv2],\n",
    "                          [\"activation_83\",\"activation_91\",#\"mixed6\"\n",
    "                          ],\n",
    "                          target_input=False,loop=False,num_outputs=10)\n",
    "\n",
    "model.setTrainable(True)\n",
    "# model.compile(loss=[trunk_loss,branch_loss,branch_loss], \n",
    "#                   optimizer=tf.optimizers.SGD(learning_rate=0.01, momentum=0.9),\n",
    "#                   # optimizer=tf.keras.optimizers.Adam(learning_rate=0.001,  beta_1=0.99,  beta_2=0.999,),\n",
    "#                metrics=['accuracy'])\n",
    "\n",
    "model.compile(loss=[trunk_loss,branch_loss,branch_loss], \n",
    "                  optimizer=tf.optimizers.SGD(learning_rate=0.01, momentum=0.9),\n",
    "                  # optimizer=tf.keras.optimizers.Adam(learning_rate=0.001,  beta_1=0.99,  beta_2=0.999,),\n",
    "               metrics=['accuracy'])\n",
    "\n",
    "\n",
    "\n",
    "# model.compile(loss=[trunk_loss,trunk_loss,trunk_loss], \n",
    "#                   # optimizer=tf.optimizers.SGD(learning_rate=0.01, momentum=0.9),\n",
    "#                   optimizer=tf.keras.optimizers.Adam(learning_rate=0.001,  beta_1=0.99,  beta_2=0.999,),\n",
    "#                   # optimizer=\"adam\",\n",
    "#                metrics=['accuracy'])\n",
    "\n",
    "# model.summary()\n",
    "# model.fit(train_ds, epochs = 10, validation_data=validation_ds, transfer=True,callbacks=[growth_callback])"
   ]
  },
  {
   "cell_type": "code",
   "execution_count": 12,
   "id": "6456b4ce-ffb6-40ea-9b18-83a4dbacf804",
   "metadata": {},
   "outputs": [
    {
     "data": {
      "text/plain": [
       "[<KerasTensor: shape=(None, 10) dtype=float32 (created by layer 'dense_3')>,\n",
       " <KerasTensor: shape=(None, 10) dtype=float32 (created by layer 'branch_exit')>,\n",
       " <KerasTensor: shape=(None, 10) dtype=float32 (created by layer 'branch_exit_1')>]"
      ]
     },
     "execution_count": 12,
     "metadata": {},
     "output_type": "execute_result"
    }
   ],
   "source": [
    "model.outputs"
   ]
  },
  {
   "cell_type": "code",
   "execution_count": 13,
   "id": "dfc1b220-67f1-4f97-9a61-388253b4ab14",
   "metadata": {},
   "outputs": [
    {
     "name": "stdout",
     "output_type": "stream",
     "text": [
      "Freezing Main Layers and setting branch layers training to true\n",
      "annealing coef updated to: 0\n",
      "Epoch 1/60\n",
      "1407/1407 [==============================] - 122s 82ms/step - loss: 1.6249 - dense_3_loss: 0.2638 - branch_exit_loss: 0.5712 - branch_exit_1_loss: 0.4477 - dense_3_accuracy: 0.9114 - branch_exit_accuracy: 0.5614 - branch_exit_1_accuracy: 0.6644 - val_loss: 1.5642 - val_dense_3_loss: 0.4505 - val_branch_exit_loss: 0.4452 - val_branch_exit_1_loss: 0.3264 - val_dense_3_accuracy: 0.8446 - val_branch_exit_accuracy: 0.6764 - val_branch_exit_1_accuracy: 0.7690\n",
      "annealing coef updated to: 0.01\n",
      "Epoch 2/60\n",
      "1407/1407 [==============================] - 114s 81ms/step - loss: 1.3571 - dense_3_loss: 0.2638 - branch_exit_loss: 0.4037 - branch_exit_1_loss: 0.3474 - dense_3_accuracy: 0.9114 - branch_exit_accuracy: 0.7580 - branch_exit_1_accuracy: 0.7945 - val_loss: 1.5973 - val_dense_3_loss: 0.4505 - val_branch_exit_loss: 0.4692 - val_branch_exit_1_loss: 0.3354 - val_dense_3_accuracy: 0.8446 - val_branch_exit_accuracy: 0.6972 - val_branch_exit_1_accuracy: 0.7926\n",
      "annealing coef updated to: 0.02\n",
      "Epoch 3/60\n",
      "1407/1407 [==============================] - 114s 81ms/step - loss: 1.1835 - dense_3_loss: 0.2638 - branch_exit_loss: 0.2694 - branch_exit_1_loss: 0.3082 - dense_3_accuracy: 0.9114 - branch_exit_accuracy: 0.8480 - branch_exit_1_accuracy: 0.8233 - val_loss: 1.6703 - val_dense_3_loss: 0.4505 - val_branch_exit_loss: 0.5021 - val_branch_exit_1_loss: 0.3755 - val_dense_3_accuracy: 0.8446 - val_branch_exit_accuracy: 0.7030 - val_branch_exit_1_accuracy: 0.7838\n",
      "val acc did not improve from 1.489799976348877, annealing coef not updated, remains at:0.019999999552965164\n",
      "Epoch 4/60\n",
      "1407/1407 [==============================] - 114s 81ms/step - loss: 1.0468 - dense_3_loss: 0.2638 - branch_exit_loss: 0.1642 - branch_exit_1_loss: 0.2766 - dense_3_accuracy: 0.9114 - branch_exit_accuracy: 0.9079 - branch_exit_1_accuracy: 0.8422 - val_loss: 1.5996 - val_dense_3_loss: 0.4505 - val_branch_exit_loss: 0.4845 - val_branch_exit_1_loss: 0.3225 - val_dense_3_accuracy: 0.8446 - val_branch_exit_accuracy: 0.7160 - val_branch_exit_1_accuracy: 0.8116\n",
      "annealing coef updated to: 0.03\n",
      "Epoch 5/60\n",
      "1407/1407 [==============================] - 113s 80ms/step - loss: 0.9735 - dense_3_loss: 0.2638 - branch_exit_loss: 0.1058 - branch_exit_1_loss: 0.2617 - dense_3_accuracy: 0.9114 - branch_exit_accuracy: 0.9418 - branch_exit_1_accuracy: 0.8580 - val_loss: 1.6526 - val_dense_3_loss: 0.4505 - val_branch_exit_loss: 0.5091 - val_branch_exit_1_loss: 0.3508 - val_dense_3_accuracy: 0.8446 - val_branch_exit_accuracy: 0.7090 - val_branch_exit_1_accuracy: 0.7982\n",
      "val acc did not improve from 1.5276000499725342, annealing coef not updated, remains at:0.029999999329447746\n",
      "Epoch 6/60\n",
      "1407/1407 [==============================] - 113s 80ms/step - loss: 0.9131 - dense_3_loss: 0.2638 - branch_exit_loss: 0.0708 - branch_exit_1_loss: 0.2363 - dense_3_accuracy: 0.9114 - branch_exit_accuracy: 0.9592 - branch_exit_1_accuracy: 0.8717 - val_loss: 1.6466 - val_dense_3_loss: 0.4505 - val_branch_exit_loss: 0.5023 - val_branch_exit_1_loss: 0.3516 - val_dense_3_accuracy: 0.8446 - val_branch_exit_accuracy: 0.7118 - val_branch_exit_1_accuracy: 0.8032\n",
      "val acc did not improve from 1.5276000499725342, annealing coef not updated, remains at:0.029999999329447746\n",
      "Epoch 7/60\n",
      "1407/1407 [==============================] - 113s 80ms/step - loss: 0.8705 - dense_3_loss: 0.2638 - branch_exit_loss: 0.0518 - branch_exit_1_loss: 0.2127 - dense_3_accuracy: 0.9114 - branch_exit_accuracy: 0.9689 - branch_exit_1_accuracy: 0.8861 - val_loss: 1.6145 - val_dense_3_loss: 0.4505 - val_branch_exit_loss: 0.4967 - val_branch_exit_1_loss: 0.3251 - val_dense_3_accuracy: 0.8446 - val_branch_exit_accuracy: 0.7210 - val_branch_exit_1_accuracy: 0.8170\n",
      "annealing coef updated to: 0.04\n",
      "Epoch 8/60\n",
      "1407/1407 [==============================] - 114s 81ms/step - loss: 0.8500 - dense_3_loss: 0.2638 - branch_exit_loss: 0.0419 - branch_exit_1_loss: 0.2021 - dense_3_accuracy: 0.9114 - branch_exit_accuracy: 0.9748 - branch_exit_1_accuracy: 0.8958 - val_loss: 1.6383 - val_dense_3_loss: 0.4505 - val_branch_exit_loss: 0.5069 - val_branch_exit_1_loss: 0.3387 - val_dense_3_accuracy: 0.8446 - val_branch_exit_accuracy: 0.7142 - val_branch_exit_1_accuracy: 0.8170\n",
      "val acc did not improve from 1.5379999876022339, annealing coef not updated, remains at:0.03999999910593033\n",
      "Epoch 9/60\n",
      "1407/1407 [==============================] - 111s 79ms/step - loss: 0.8278 - dense_3_loss: 0.2638 - branch_exit_loss: 0.0358 - branch_exit_1_loss: 0.1860 - dense_3_accuracy: 0.9114 - branch_exit_accuracy: 0.9779 - branch_exit_1_accuracy: 0.9044 - val_loss: 1.6434 - val_dense_3_loss: 0.4505 - val_branch_exit_loss: 0.5089 - val_branch_exit_1_loss: 0.3418 - val_dense_3_accuracy: 0.8446 - val_branch_exit_accuracy: 0.7160 - val_branch_exit_1_accuracy: 0.8180\n",
      "val acc did not improve from 1.5379999876022339, annealing coef not updated, remains at:0.03999999910593033\n",
      "Epoch 10/60\n",
      "1407/1407 [==============================] - 111s 79ms/step - loss: 0.8050 - dense_3_loss: 0.2638 - branch_exit_loss: 0.0318 - branch_exit_1_loss: 0.1672 - dense_3_accuracy: 0.9114 - branch_exit_accuracy: 0.9808 - branch_exit_1_accuracy: 0.9155 - val_loss: 1.6174 - val_dense_3_loss: 0.4505 - val_branch_exit_loss: 0.5032 - val_branch_exit_1_loss: 0.3216 - val_dense_3_accuracy: 0.8446 - val_branch_exit_accuracy: 0.7192 - val_branch_exit_1_accuracy: 0.8288\n",
      "annealing coef updated to: 0.05\n",
      "Epoch 11/60\n",
      "1407/1407 [==============================] - 111s 79ms/step - loss: 0.7903 - dense_3_loss: 0.2638 - branch_exit_loss: 0.0292 - branch_exit_1_loss: 0.1551 - dense_3_accuracy: 0.9114 - branch_exit_accuracy: 0.9826 - branch_exit_1_accuracy: 0.9238 - val_loss: 1.6528 - val_dense_3_loss: 0.4505 - val_branch_exit_loss: 0.5133 - val_branch_exit_1_loss: 0.3468 - val_dense_3_accuracy: 0.8446 - val_branch_exit_accuracy: 0.7206 - val_branch_exit_1_accuracy: 0.8206\n",
      "val acc did not improve from 1.5480000972747803, annealing coef not updated, remains at:0.05000000074505806\n",
      "Epoch 12/60\n",
      "1407/1407 [==============================] - 111s 79ms/step - loss: 0.7747 - dense_3_loss: 0.2638 - branch_exit_loss: 0.0271 - branch_exit_1_loss: 0.1416 - dense_3_accuracy: 0.9114 - branch_exit_accuracy: 0.9842 - branch_exit_1_accuracy: 0.9324 - val_loss: 1.6369 - val_dense_3_loss: 0.4505 - val_branch_exit_loss: 0.5085 - val_branch_exit_1_loss: 0.3357 - val_dense_3_accuracy: 0.8446 - val_branch_exit_accuracy: 0.7236 - val_branch_exit_1_accuracy: 0.8286\n",
      "annealing coef updated to: 0.06\n",
      "Epoch 13/60\n",
      "1407/1407 [==============================] - 111s 79ms/step - loss: 0.7594 - dense_3_loss: 0.2638 - branch_exit_loss: 0.0257 - branch_exit_1_loss: 0.1277 - dense_3_accuracy: 0.9114 - branch_exit_accuracy: 0.9849 - branch_exit_1_accuracy: 0.9403 - val_loss: 1.6598 - val_dense_3_loss: 0.4505 - val_branch_exit_loss: 0.5207 - val_branch_exit_1_loss: 0.3463 - val_dense_3_accuracy: 0.8446 - val_branch_exit_accuracy: 0.7198 - val_branch_exit_1_accuracy: 0.8282\n",
      "val acc did not improve from 1.5521999597549438, annealing coef not updated, remains at:0.05999999865889549\n",
      "Epoch 14/60\n",
      "1407/1407 [==============================] - 111s 79ms/step - loss: 0.7445 - dense_3_loss: 0.2638 - branch_exit_loss: 0.0242 - branch_exit_1_loss: 0.1143 - dense_3_accuracy: 0.9114 - branch_exit_accuracy: 0.9862 - branch_exit_1_accuracy: 0.9462 - val_loss: 1.6410 - val_dense_3_loss: 0.4505 - val_branch_exit_loss: 0.5191 - val_branch_exit_1_loss: 0.3292 - val_dense_3_accuracy: 0.8446 - val_branch_exit_accuracy: 0.7210 - val_branch_exit_1_accuracy: 0.8344\n",
      "annealing coef updated to: 0.07\n",
      "Epoch 15/60\n",
      "1407/1407 [==============================] - 111s 79ms/step - loss: 0.7367 - dense_3_loss: 0.2638 - branch_exit_loss: 0.0232 - branch_exit_1_loss: 0.1076 - dense_3_accuracy: 0.9114 - branch_exit_accuracy: 0.9866 - branch_exit_1_accuracy: 0.9512 - val_loss: 1.6925 - val_dense_3_loss: 0.4505 - val_branch_exit_loss: 0.5282 - val_branch_exit_1_loss: 0.3717 - val_dense_3_accuracy: 0.8446 - val_branch_exit_accuracy: 0.7194 - val_branch_exit_1_accuracy: 0.8222\n",
      "val acc did not improve from 1.555400013923645, annealing coef not updated, remains at:0.07000000029802322\n",
      "Epoch 16/60\n",
      "1407/1407 [==============================] - 111s 79ms/step - loss: 0.7231 - dense_3_loss: 0.2638 - branch_exit_loss: 0.0221 - branch_exit_1_loss: 0.0951 - dense_3_accuracy: 0.9114 - branch_exit_accuracy: 0.9874 - branch_exit_1_accuracy: 0.9572 - val_loss: 1.6690 - val_dense_3_loss: 0.4505 - val_branch_exit_loss: 0.5242 - val_branch_exit_1_loss: 0.3521 - val_dense_3_accuracy: 0.8446 - val_branch_exit_accuracy: 0.7214 - val_branch_exit_1_accuracy: 0.8294\n",
      "val acc did not improve from 1.555400013923645, annealing coef not updated, remains at:0.07000000029802322\n",
      "Epoch 17/60\n",
      "1407/1407 [==============================] - 111s 79ms/step - loss: 0.7111 - dense_3_loss: 0.2638 - branch_exit_loss: 0.0212 - branch_exit_1_loss: 0.0838 - dense_3_accuracy: 0.9114 - branch_exit_accuracy: 0.9878 - branch_exit_1_accuracy: 0.9622 - val_loss: 1.6644 - val_dense_3_loss: 0.4505 - val_branch_exit_loss: 0.5260 - val_branch_exit_1_loss: 0.3457 - val_dense_3_accuracy: 0.8446 - val_branch_exit_accuracy: 0.7208 - val_branch_exit_1_accuracy: 0.8374\n",
      "annealing coef updated to: 0.08\n",
      "Epoch 18/60\n",
      "1407/1407 [==============================] - 111s 79ms/step - loss: 0.7028 - dense_3_loss: 0.2638 - branch_exit_loss: 0.0205 - branch_exit_1_loss: 0.0762 - dense_3_accuracy: 0.9114 - branch_exit_accuracy: 0.9885 - branch_exit_1_accuracy: 0.9661 - val_loss: 1.6975 - val_dense_3_loss: 0.4505 - val_branch_exit_loss: 0.5394 - val_branch_exit_1_loss: 0.3654 - val_dense_3_accuracy: 0.8446 - val_branch_exit_accuracy: 0.7192 - val_branch_exit_1_accuracy: 0.8338\n",
      "val acc did not improve from 1.5582000017166138, annealing coef not updated, remains at:0.07999999821186066\n",
      "Epoch 19/60\n",
      "1407/1407 [==============================] - 111s 79ms/step - loss: 0.6973 - dense_3_loss: 0.2638 - branch_exit_loss: 0.0198 - branch_exit_1_loss: 0.0715 - dense_3_accuracy: 0.9114 - branch_exit_accuracy: 0.9890 - branch_exit_1_accuracy: 0.9692 - val_loss: 1.6935 - val_dense_3_loss: 0.4505 - val_branch_exit_loss: 0.5361 - val_branch_exit_1_loss: 0.3647 - val_dense_3_accuracy: 0.8446 - val_branch_exit_accuracy: 0.7198 - val_branch_exit_1_accuracy: 0.8298\n",
      "val acc did not improve from 1.5582000017166138, annealing coef not updated, remains at:0.07999999821186066\n",
      "Epoch 20/60\n",
      "1407/1407 [==============================] - 111s 79ms/step - loss: 0.6922 - dense_3_loss: 0.2638 - branch_exit_loss: 0.0193 - branch_exit_1_loss: 0.0669 - dense_3_accuracy: 0.9114 - branch_exit_accuracy: 0.9895 - branch_exit_1_accuracy: 0.9711 - val_loss: 1.6814 - val_dense_3_loss: 0.4505 - val_branch_exit_loss: 0.5338 - val_branch_exit_1_loss: 0.3549 - val_dense_3_accuracy: 0.8446 - val_branch_exit_accuracy: 0.7184 - val_branch_exit_1_accuracy: 0.8394\n",
      "val acc did not improve from 1.5582000017166138, annealing coef not updated, remains at:0.07999999821186066\n",
      "Epoch 21/60\n",
      "1407/1407 [==============================] - 111s 79ms/step - loss: 0.6804 - dense_3_loss: 0.2638 - branch_exit_loss: 0.0188 - branch_exit_1_loss: 0.0556 - dense_3_accuracy: 0.9114 - branch_exit_accuracy: 0.9898 - branch_exit_1_accuracy: 0.9764 - val_loss: 1.6875 - val_dense_3_loss: 0.4505 - val_branch_exit_loss: 0.5337 - val_branch_exit_1_loss: 0.3612 - val_dense_3_accuracy: 0.8446 - val_branch_exit_accuracy: 0.7172 - val_branch_exit_1_accuracy: 0.8336\n",
      "val acc did not improve from 1.5582000017166138, annealing coef not updated, remains at:0.07999999821186066\n",
      "Epoch 22/60\n",
      "1407/1407 [==============================] - 111s 79ms/step - loss: 0.6749 - dense_3_loss: 0.2638 - branch_exit_loss: 0.0183 - branch_exit_1_loss: 0.0506 - dense_3_accuracy: 0.9114 - branch_exit_accuracy: 0.9900 - branch_exit_1_accuracy: 0.9785 - val_loss: 1.6681 - val_dense_3_loss: 0.4505 - val_branch_exit_loss: 0.5308 - val_branch_exit_1_loss: 0.3446 - val_dense_3_accuracy: 0.8446 - val_branch_exit_accuracy: 0.7186 - val_branch_exit_1_accuracy: 0.8410\n",
      "annealing coef updated to: 0.09\n",
      "Epoch 23/60\n",
      "1407/1407 [==============================] - 111s 79ms/step - loss: 0.6740 - dense_3_loss: 0.2638 - branch_exit_loss: 0.0178 - branch_exit_1_loss: 0.0502 - dense_3_accuracy: 0.9114 - branch_exit_accuracy: 0.9904 - branch_exit_1_accuracy: 0.9793 - val_loss: 1.6986 - val_dense_3_loss: 0.4505 - val_branch_exit_loss: 0.5416 - val_branch_exit_1_loss: 0.3643 - val_dense_3_accuracy: 0.8446 - val_branch_exit_accuracy: 0.7190 - val_branch_exit_1_accuracy: 0.8418\n",
      "annealing coef updated to: 0.1\n",
      "Epoch 24/60\n",
      "1407/1407 [==============================] - 111s 79ms/step - loss: 0.6701 - dense_3_loss: 0.2638 - branch_exit_loss: 0.0174 - branch_exit_1_loss: 0.0467 - dense_3_accuracy: 0.9114 - branch_exit_accuracy: 0.9908 - branch_exit_1_accuracy: 0.9815 - val_loss: 1.7063 - val_dense_3_loss: 0.4505 - val_branch_exit_loss: 0.5503 - val_branch_exit_1_loss: 0.3633 - val_dense_3_accuracy: 0.8446 - val_branch_exit_accuracy: 0.7182 - val_branch_exit_1_accuracy: 0.8414\n",
      "val acc did not improve from 1.5607999563217163, annealing coef not updated, remains at:0.10000000149011612\n",
      "Epoch 25/60\n",
      "1407/1407 [==============================] - 111s 79ms/step - loss: 0.6668 - dense_3_loss: 0.2638 - branch_exit_loss: 0.0171 - branch_exit_1_loss: 0.0437 - dense_3_accuracy: 0.9114 - branch_exit_accuracy: 0.9909 - branch_exit_1_accuracy: 0.9825 - val_loss: 1.7128 - val_dense_3_loss: 0.4505 - val_branch_exit_loss: 0.5503 - val_branch_exit_1_loss: 0.3698 - val_dense_3_accuracy: 0.8446 - val_branch_exit_accuracy: 0.7192 - val_branch_exit_1_accuracy: 0.8386\n",
      "val acc did not improve from 1.5607999563217163, annealing coef not updated, remains at:0.10000000149011612\n",
      "Epoch 26/60\n",
      "1407/1407 [==============================] - 111s 79ms/step - loss: 0.6665 - dense_3_loss: 0.2638 - branch_exit_loss: 0.0168 - branch_exit_1_loss: 0.0437 - dense_3_accuracy: 0.9114 - branch_exit_accuracy: 0.9911 - branch_exit_1_accuracy: 0.9824 - val_loss: 1.7163 - val_dense_3_loss: 0.4505 - val_branch_exit_loss: 0.5473 - val_branch_exit_1_loss: 0.3763 - val_dense_3_accuracy: 0.8446 - val_branch_exit_accuracy: 0.7230 - val_branch_exit_1_accuracy: 0.8338\n",
      "val acc did not improve from 1.5607999563217163, annealing coef not updated, remains at:0.10000000149011612\n",
      "Epoch 27/60\n",
      "1407/1407 [==============================] - 111s 79ms/step - loss: 0.6629 - dense_3_loss: 0.2638 - branch_exit_loss: 0.0165 - branch_exit_1_loss: 0.0405 - dense_3_accuracy: 0.9114 - branch_exit_accuracy: 0.9913 - branch_exit_1_accuracy: 0.9836 - val_loss: 1.7011 - val_dense_3_loss: 0.4505 - val_branch_exit_loss: 0.5471 - val_branch_exit_1_loss: 0.3614 - val_dense_3_accuracy: 0.8446 - val_branch_exit_accuracy: 0.7214 - val_branch_exit_1_accuracy: 0.8408\n",
      "annealing coef updated to: 0.11\n",
      "Epoch 28/60\n",
      "1407/1407 [==============================] - 111s 79ms/step - loss: 0.6605 - dense_3_loss: 0.2638 - branch_exit_loss: 0.0163 - branch_exit_1_loss: 0.0382 - dense_3_accuracy: 0.9114 - branch_exit_accuracy: 0.9914 - branch_exit_1_accuracy: 0.9846 - val_loss: 1.7432 - val_dense_3_loss: 0.4505 - val_branch_exit_loss: 0.5563 - val_branch_exit_1_loss: 0.3943 - val_dense_3_accuracy: 0.8446 - val_branch_exit_accuracy: 0.7224 - val_branch_exit_1_accuracy: 0.8346\n",
      "val acc did not improve from 1.5622000694274902, annealing coef not updated, remains at:0.10999999940395355\n",
      "Epoch 29/60\n",
      "1407/1407 [==============================] - 111s 79ms/step - loss: 0.6584 - dense_3_loss: 0.2638 - branch_exit_loss: 0.0160 - branch_exit_1_loss: 0.0364 - dense_3_accuracy: 0.9114 - branch_exit_accuracy: 0.9915 - branch_exit_1_accuracy: 0.9861 - val_loss: 1.7220 - val_dense_3_loss: 0.4505 - val_branch_exit_loss: 0.5539 - val_branch_exit_1_loss: 0.3754 - val_dense_3_accuracy: 0.8446 - val_branch_exit_accuracy: 0.7232 - val_branch_exit_1_accuracy: 0.8390\n",
      "annealing coef updated to: 0.12\n",
      "Epoch 30/60\n",
      "1407/1407 [==============================] - 112s 79ms/step - loss: 0.6582 - dense_3_loss: 0.2638 - branch_exit_loss: 0.0158 - branch_exit_1_loss: 0.0364 - dense_3_accuracy: 0.9114 - branch_exit_accuracy: 0.9916 - branch_exit_1_accuracy: 0.9859 - val_loss: 1.7350 - val_dense_3_loss: 0.4505 - val_branch_exit_loss: 0.5619 - val_branch_exit_1_loss: 0.3803 - val_dense_3_accuracy: 0.8446 - val_branch_exit_accuracy: 0.7218 - val_branch_exit_1_accuracy: 0.8436\n",
      "annealing coef updated to: 0.13\n",
      "Epoch 31/60\n",
      "1407/1407 [==============================] - 111s 79ms/step - loss: 0.6562 - dense_3_loss: 0.2638 - branch_exit_loss: 0.0156 - branch_exit_1_loss: 0.0346 - dense_3_accuracy: 0.9114 - branch_exit_accuracy: 0.9920 - branch_exit_1_accuracy: 0.9870 - val_loss: 1.7561 - val_dense_3_loss: 0.4505 - val_branch_exit_loss: 0.5707 - val_branch_exit_1_loss: 0.3928 - val_dense_3_accuracy: 0.8446 - val_branch_exit_accuracy: 0.7210 - val_branch_exit_1_accuracy: 0.8430\n",
      "val acc did not improve from 1.5654000043869019, annealing coef not updated, remains at:0.12999999523162842\n",
      "Epoch 32/60\n",
      "1407/1407 [==============================] - 111s 79ms/step - loss: 0.6558 - dense_3_loss: 0.2638 - branch_exit_loss: 0.0153 - branch_exit_1_loss: 0.0345 - dense_3_accuracy: 0.9114 - branch_exit_accuracy: 0.9921 - branch_exit_1_accuracy: 0.9875 - val_loss: 1.7575 - val_dense_3_loss: 0.4505 - val_branch_exit_loss: 0.5707 - val_branch_exit_1_loss: 0.3941 - val_dense_3_accuracy: 0.8446 - val_branch_exit_accuracy: 0.7204 - val_branch_exit_1_accuracy: 0.8402\n",
      "val acc did not improve from 1.5654000043869019, annealing coef not updated, remains at:0.12999999523162842\n",
      "Epoch 33/60\n",
      "1407/1407 [==============================] - 111s 79ms/step - loss: 0.6544 - dense_3_loss: 0.2638 - branch_exit_loss: 0.0151 - branch_exit_1_loss: 0.0333 - dense_3_accuracy: 0.9114 - branch_exit_accuracy: 0.9922 - branch_exit_1_accuracy: 0.9878 - val_loss: 1.7557 - val_dense_3_loss: 0.4505 - val_branch_exit_loss: 0.5688 - val_branch_exit_1_loss: 0.3943 - val_dense_3_accuracy: 0.8446 - val_branch_exit_accuracy: 0.7196 - val_branch_exit_1_accuracy: 0.8402\n",
      "val acc did not improve from 1.5654000043869019, annealing coef not updated, remains at:0.12999999523162842\n",
      "Epoch 34/60\n",
      "1407/1407 [==============================] - 111s 79ms/step - loss: 0.6520 - dense_3_loss: 0.2638 - branch_exit_loss: 0.0148 - branch_exit_1_loss: 0.0312 - dense_3_accuracy: 0.9114 - branch_exit_accuracy: 0.9924 - branch_exit_1_accuracy: 0.9884 - val_loss: 1.7532 - val_dense_3_loss: 0.4505 - val_branch_exit_loss: 0.5682 - val_branch_exit_1_loss: 0.3923 - val_dense_3_accuracy: 0.8446 - val_branch_exit_accuracy: 0.7202 - val_branch_exit_1_accuracy: 0.8408\n",
      "val acc did not improve from 1.5654000043869019, annealing coef not updated, remains at:0.12999999523162842\n",
      "Epoch 35/60\n",
      "1407/1407 [==============================] - 111s 79ms/step - loss: 0.6483 - dense_3_loss: 0.2638 - branch_exit_loss: 0.0146 - branch_exit_1_loss: 0.0277 - dense_3_accuracy: 0.9114 - branch_exit_accuracy: 0.9925 - branch_exit_1_accuracy: 0.9895 - val_loss: 1.7413 - val_dense_3_loss: 0.4505 - val_branch_exit_loss: 0.5698 - val_branch_exit_1_loss: 0.3788 - val_dense_3_accuracy: 0.8446 - val_branch_exit_accuracy: 0.7188 - val_branch_exit_1_accuracy: 0.8478\n",
      "annealing coef updated to: 0.14\n",
      "Epoch 36/60\n",
      "1407/1407 [==============================] - 111s 79ms/step - loss: 0.6487 - dense_3_loss: 0.2638 - branch_exit_loss: 0.0145 - branch_exit_1_loss: 0.0282 - dense_3_accuracy: 0.9114 - branch_exit_accuracy: 0.9926 - branch_exit_1_accuracy: 0.9895 - val_loss: 1.7612 - val_dense_3_loss: 0.4505 - val_branch_exit_loss: 0.5774 - val_branch_exit_1_loss: 0.3911 - val_dense_3_accuracy: 0.8446 - val_branch_exit_accuracy: 0.7206 - val_branch_exit_1_accuracy: 0.8434\n",
      "val acc did not improve from 1.5666000843048096, annealing coef not updated, remains at:0.14000000059604645\n",
      "Epoch 37/60\n",
      "1407/1407 [==============================] - 111s 79ms/step - loss: 0.6472 - dense_3_loss: 0.2638 - branch_exit_loss: 0.0143 - branch_exit_1_loss: 0.0269 - dense_3_accuracy: 0.9114 - branch_exit_accuracy: 0.9925 - branch_exit_1_accuracy: 0.9902 - val_loss: 1.7634 - val_dense_3_loss: 0.4505 - val_branch_exit_loss: 0.5773 - val_branch_exit_1_loss: 0.3935 - val_dense_3_accuracy: 0.8446 - val_branch_exit_accuracy: 0.7190 - val_branch_exit_1_accuracy: 0.8446\n",
      "val acc did not improve from 1.5666000843048096, annealing coef not updated, remains at:0.14000000059604645\n",
      "Epoch 38/60\n",
      "1407/1407 [==============================] - 111s 79ms/step - loss: 0.6460 - dense_3_loss: 0.2638 - branch_exit_loss: 0.0141 - branch_exit_1_loss: 0.0258 - dense_3_accuracy: 0.9114 - branch_exit_accuracy: 0.9927 - branch_exit_1_accuracy: 0.9903 - val_loss: 1.7696 - val_dense_3_loss: 0.4505 - val_branch_exit_loss: 0.5746 - val_branch_exit_1_loss: 0.4024 - val_dense_3_accuracy: 0.8446 - val_branch_exit_accuracy: 0.7192 - val_branch_exit_1_accuracy: 0.8386\n",
      "val acc did not improve from 1.5666000843048096, annealing coef not updated, remains at:0.14000000059604645\n",
      "Epoch 39/60\n",
      "1407/1407 [==============================] - 111s 79ms/step - loss: 0.6465 - dense_3_loss: 0.2638 - branch_exit_loss: 0.0140 - branch_exit_1_loss: 0.0264 - dense_3_accuracy: 0.9114 - branch_exit_accuracy: 0.9928 - branch_exit_1_accuracy: 0.9904 - val_loss: 1.7492 - val_dense_3_loss: 0.4505 - val_branch_exit_loss: 0.5741 - val_branch_exit_1_loss: 0.3824 - val_dense_3_accuracy: 0.8446 - val_branch_exit_accuracy: 0.7178 - val_branch_exit_1_accuracy: 0.8440\n",
      "val acc did not improve from 1.5666000843048096, annealing coef not updated, remains at:0.14000000059604645\n",
      "Epoch 40/60\n",
      "1407/1407 [==============================] - 111s 79ms/step - loss: 0.6455 - dense_3_loss: 0.2638 - branch_exit_loss: 0.0140 - branch_exit_1_loss: 0.0255 - dense_3_accuracy: 0.9114 - branch_exit_accuracy: 0.9929 - branch_exit_1_accuracy: 0.9907 - val_loss: 1.7756 - val_dense_3_loss: 0.4505 - val_branch_exit_loss: 0.5738 - val_branch_exit_1_loss: 0.4092 - val_dense_3_accuracy: 0.8446 - val_branch_exit_accuracy: 0.7182 - val_branch_exit_1_accuracy: 0.8382\n"
     ]
    },
    {
     "data": {
      "text/plain": [
       "<brevis.core_v2.BranchModel at 0x1893b3a2848>"
      ]
     },
     "execution_count": 13,
     "metadata": {},
     "output_type": "execute_result"
    }
   ],
   "source": [
    "model.fit(train_ds, epochs = 60, validation_data=validation_ds, transfer=True,callbacks=[growth_callback,earlyStop])"
   ]
  },
  {
   "cell_type": "code",
   "execution_count": 14,
   "id": "a1f3d72d-59a2-4284-853c-416724e1bcb7",
   "metadata": {},
   "outputs": [],
   "source": [
    "model.save(\"./models/journal_models/wideresnet_EDL_ExtraT_ES.hdf5\")"
   ]
  },
  {
   "cell_type": "code",
   "execution_count": 11,
   "id": "ca1b2baf-4c7e-4635-8027-8a2aadf6f1a2",
   "metadata": {},
   "outputs": [
    {
     "name": "stdout",
     "output_type": "stream",
     "text": [
      "Setting Main Layers  and branch layers training to true\n",
      "annealing coef updated to: 0\n",
      "Epoch 1/15\n",
      "   6/1407 [..............................] - ETA: 4:15 - loss: 27.2286 - dense_3_loss: 0.3799 - branch_exit_loss: 7.6758 - branch_exit_1_loss: 18.8108 - dense_3_accuracy: 0.8698 - branch_exit_accuracy: 0.1875 - branch_exit_1_accuracy: 0.1250WARNING:tensorflow:Callback method `on_train_batch_end` is slow compared to the batch time (batch time: 0.0676s vs `on_train_batch_end` time: 0.1168s). Check your callbacks.\n",
      "1407/1407 [==============================] - 269s 187ms/step - loss: 3.2189 - dense_3_loss: 0.3611 - branch_exit_loss: 1.2905 - branch_exit_1_loss: 1.1825 - dense_3_accuracy: 0.8738 - branch_exit_accuracy: 0.5726 - branch_exit_1_accuracy: 0.6274 - val_loss: 2.4980 - val_dense_3_loss: 0.4179 - val_branch_exit_loss: 0.9597 - val_branch_exit_1_loss: 0.7394 - val_dense_3_accuracy: 0.8592 - val_branch_exit_accuracy: 0.6634 - val_branch_exit_1_accuracy: 0.7440\n",
      "annealing coef updated to: 0.01\n",
      "Epoch 2/15\n",
      "1407/1407 [==============================] - 262s 186ms/step - loss: 2.1127 - dense_3_loss: 0.3035 - branch_exit_loss: 0.7207 - branch_exit_1_loss: 0.7105 - dense_3_accuracy: 0.8937 - branch_exit_accuracy: 0.7503 - branch_exit_1_accuracy: 0.7589 - val_loss: 2.5973 - val_dense_3_loss: 0.4651 - val_branch_exit_loss: 0.9849 - val_branch_exit_1_loss: 0.7674 - val_dense_3_accuracy: 0.8422 - val_branch_exit_accuracy: 0.6780 - val_branch_exit_1_accuracy: 0.7338\n",
      "annealing coef updated to: 0.02\n",
      "Epoch 3/15\n",
      "1407/1407 [==============================] - 262s 186ms/step - loss: 1.7156 - dense_3_loss: 0.2894 - branch_exit_loss: 0.4443 - branch_exit_1_loss: 0.6000 - dense_3_accuracy: 0.9018 - branch_exit_accuracy: 0.8484 - branch_exit_1_accuracy: 0.7966 - val_loss: 2.5306 - val_dense_3_loss: 0.4435 - val_branch_exit_loss: 1.0384 - val_branch_exit_1_loss: 0.6645 - val_dense_3_accuracy: 0.8536 - val_branch_exit_accuracy: 0.6860 - val_branch_exit_1_accuracy: 0.7800\n",
      "annealing coef updated to: 0.03\n",
      "Epoch 4/15\n",
      "1407/1407 [==============================] - 267s 190ms/step - loss: 1.5114 - dense_3_loss: 0.2813 - branch_exit_loss: 0.2931 - branch_exit_1_loss: 0.5497 - dense_3_accuracy: 0.9026 - branch_exit_accuracy: 0.9030 - branch_exit_1_accuracy: 0.8132 - val_loss: 2.5034 - val_dense_3_loss: 0.4721 - val_branch_exit_loss: 1.0388 - val_branch_exit_1_loss: 0.5995 - val_dense_3_accuracy: 0.8498 - val_branch_exit_accuracy: 0.7080 - val_branch_exit_1_accuracy: 0.7914\n",
      "annealing coef updated to: 0.04\n",
      "Epoch 5/15\n",
      "1407/1407 [==============================] - 268s 190ms/step - loss: 1.3830 - dense_3_loss: 0.2719 - branch_exit_loss: 0.2189 - branch_exit_1_loss: 0.4982 - dense_3_accuracy: 0.9063 - branch_exit_accuracy: 0.9296 - branch_exit_1_accuracy: 0.8284 - val_loss: 2.5356 - val_dense_3_loss: 0.4393 - val_branch_exit_loss: 1.1349 - val_branch_exit_1_loss: 0.5630 - val_dense_3_accuracy: 0.8562 - val_branch_exit_accuracy: 0.7034 - val_branch_exit_1_accuracy: 0.8110\n",
      "annealing coef updated to: 0.05\n",
      "Epoch 6/15\n",
      "1407/1407 [==============================] - 262s 186ms/step - loss: 1.3102 - dense_3_loss: 0.2655 - branch_exit_loss: 0.1777 - branch_exit_1_loss: 0.4656 - dense_3_accuracy: 0.9097 - branch_exit_accuracy: 0.9448 - branch_exit_1_accuracy: 0.8424 - val_loss: 2.6514 - val_dense_3_loss: 0.4197 - val_branch_exit_loss: 1.2750 - val_branch_exit_1_loss: 0.5532 - val_dense_3_accuracy: 0.8610 - val_branch_exit_accuracy: 0.7092 - val_branch_exit_1_accuracy: 0.8150\n",
      "annealing coef updated to: 0.06\n",
      "Epoch 7/15\n",
      "1407/1407 [==============================] - 263s 187ms/step - loss: 1.2271 - dense_3_loss: 0.2525 - branch_exit_loss: 0.1412 - branch_exit_1_loss: 0.4303 - dense_3_accuracy: 0.9127 - branch_exit_accuracy: 0.9559 - branch_exit_1_accuracy: 0.8534 - val_loss: 2.6354 - val_dense_3_loss: 0.4573 - val_branch_exit_loss: 1.2570 - val_branch_exit_1_loss: 0.5126 - val_dense_3_accuracy: 0.8496 - val_branch_exit_accuracy: 0.7086 - val_branch_exit_1_accuracy: 0.8290\n",
      "annealing coef updated to: 0.07\n",
      "Epoch 8/15\n",
      "1407/1407 [==============================] - 261s 185ms/step - loss: 1.2065 - dense_3_loss: 0.2585 - branch_exit_loss: 0.1350 - branch_exit_1_loss: 0.4023 - dense_3_accuracy: 0.9105 - branch_exit_accuracy: 0.9579 - branch_exit_1_accuracy: 0.8617 - val_loss: 2.6347 - val_dense_3_loss: 0.4344 - val_branch_exit_loss: 1.2702 - val_branch_exit_1_loss: 0.5179 - val_dense_3_accuracy: 0.8576 - val_branch_exit_accuracy: 0.7044 - val_branch_exit_1_accuracy: 0.8280\n",
      "val acc did not improve from 1.537600040435791, annealing coef not updated, remains at:0.07000000029802322\n",
      "Epoch 9/15\n",
      "1407/1407 [==============================] - 262s 186ms/step - loss: 1.1772 - dense_3_loss: 0.2553 - branch_exit_loss: 0.1173 - branch_exit_1_loss: 0.3908 - dense_3_accuracy: 0.9118 - branch_exit_accuracy: 0.9643 - branch_exit_1_accuracy: 0.8688 - val_loss: 2.9268 - val_dense_3_loss: 0.5348 - val_branch_exit_loss: 1.4421 - val_branch_exit_1_loss: 0.5347 - val_dense_3_accuracy: 0.8270 - val_branch_exit_accuracy: 0.7090 - val_branch_exit_1_accuracy: 0.8268\n",
      "val acc did not improve from 1.537600040435791, annealing coef not updated, remains at:0.07000000029802322\n",
      "Epoch 10/15\n",
      "1407/1407 [==============================] - 258s 183ms/step - loss: 1.1382 - dense_3_loss: 0.2515 - branch_exit_loss: 0.1019 - branch_exit_1_loss: 0.3677 - dense_3_accuracy: 0.9133 - branch_exit_accuracy: 0.9692 - branch_exit_1_accuracy: 0.8751 - val_loss: 2.9617 - val_dense_3_loss: 0.4927 - val_branch_exit_loss: 1.5044 - val_branch_exit_1_loss: 0.5449 - val_dense_3_accuracy: 0.8426 - val_branch_exit_accuracy: 0.7074 - val_branch_exit_1_accuracy: 0.8166\n",
      "val acc did not improve from 1.537600040435791, annealing coef not updated, remains at:0.07000000029802322\n",
      "Epoch 11/15\n",
      "1407/1407 [==============================] - 257s 183ms/step - loss: 1.0997 - dense_3_loss: 0.2384 - branch_exit_loss: 0.0991 - branch_exit_1_loss: 0.3428 - dense_3_accuracy: 0.9178 - branch_exit_accuracy: 0.9717 - branch_exit_1_accuracy: 0.8854 - val_loss: 3.1558 - val_dense_3_loss: 0.5544 - val_branch_exit_loss: 1.5867 - val_branch_exit_1_loss: 0.5949 - val_dense_3_accuracy: 0.8254 - val_branch_exit_accuracy: 0.7030 - val_branch_exit_1_accuracy: 0.8140\n",
      "val acc did not improve from 1.537600040435791, annealing coef not updated, remains at:0.07000000029802322\n",
      "Epoch 12/15\n",
      "1407/1407 [==============================] - 261s 186ms/step - loss: 1.0689 - dense_3_loss: 0.2401 - branch_exit_loss: 0.0903 - branch_exit_1_loss: 0.3184 - dense_3_accuracy: 0.9170 - branch_exit_accuracy: 0.9732 - branch_exit_1_accuracy: 0.8923 - val_loss: 2.9689 - val_dense_3_loss: 0.5550 - val_branch_exit_loss: 1.4436 - val_branch_exit_1_loss: 0.5477 - val_dense_3_accuracy: 0.8256 - val_branch_exit_accuracy: 0.7100 - val_branch_exit_1_accuracy: 0.8284\n",
      "annealing coef updated to: 0.08\n",
      "Epoch 13/15\n",
      "1407/1407 [==============================] - 254s 181ms/step - loss: 1.0607 - dense_3_loss: 0.2380 - branch_exit_loss: 0.0771 - branch_exit_1_loss: 0.3215 - dense_3_accuracy: 0.9168 - branch_exit_accuracy: 0.9773 - branch_exit_1_accuracy: 0.8920 - val_loss: 3.0987 - val_dense_3_loss: 0.6136 - val_branch_exit_loss: 1.5458 - val_branch_exit_1_loss: 0.5140 - val_dense_3_accuracy: 0.8204 - val_branch_exit_accuracy: 0.7068 - val_branch_exit_1_accuracy: 0.8358\n",
      "annealing coef updated to: 0.09\n",
      "Epoch 14/15\n",
      "1407/1407 [==============================] - 257s 183ms/step - loss: 1.0345 - dense_3_loss: 0.2355 - branch_exit_loss: 0.0869 - branch_exit_1_loss: 0.2886 - dense_3_accuracy: 0.9186 - branch_exit_accuracy: 0.9764 - branch_exit_1_accuracy: 0.9015 - val_loss: 3.0956 - val_dense_3_loss: 0.5882 - val_branch_exit_loss: 1.5685 - val_branch_exit_1_loss: 0.5145 - val_dense_3_accuracy: 0.8158 - val_branch_exit_accuracy: 0.7086 - val_branch_exit_1_accuracy: 0.8308\n",
      "val acc did not improve from 1.5425999164581299, annealing coef not updated, remains at:0.09000000357627869\n",
      "Epoch 15/15\n",
      "1407/1407 [==============================] - 259s 184ms/step - loss: 1.0217 - dense_3_loss: 0.2352 - branch_exit_loss: 0.0803 - branch_exit_1_loss: 0.2803 - dense_3_accuracy: 0.9198 - branch_exit_accuracy: 0.9782 - branch_exit_1_accuracy: 0.9044 - val_loss: 3.0432 - val_dense_3_loss: 0.4600 - val_branch_exit_loss: 1.5474 - val_branch_exit_1_loss: 0.6082 - val_dense_3_accuracy: 0.8460 - val_branch_exit_accuracy: 0.7108 - val_branch_exit_1_accuracy: 0.8320\n"
     ]
    },
    {
     "data": {
      "text/plain": [
       "<brevis.core_v2.BranchModel at 0x25c546c0748>"
      ]
     },
     "execution_count": 11,
     "metadata": {},
     "output_type": "execute_result"
    }
   ],
   "source": [
    "model.fit(train_ds, epochs = 15, validation_data=validation_ds, transfer=False,callbacks=[growth_callback])"
   ]
  },
  {
   "cell_type": "code",
   "execution_count": 30,
   "id": "34945001-8fe5-4239-a466-0ad04f3b093a",
   "metadata": {},
   "outputs": [],
   "source": [
    "#edl es was 18.\n",
    "model.save(\"./models/journal_models/wideresnet_CE_ExtraT_ES.hdf5\")"
   ]
  },
  {
   "cell_type": "code",
   "execution_count": 15,
   "id": "ae5e4816-61ff-468e-ac78-07251f78dfc8",
   "metadata": {},
   "outputs": [
    {
     "name": "stdout",
     "output_type": "stream",
     "text": [
      "313/313 [==============================] - 17s 55ms/step - loss: 1.9511 - dense_3_loss: 0.5815 - branch_exit_loss: 0.5973 - branch_exit_1_loss: 0.4302 - dense_3_accuracy: 0.8163 - branch_exit_accuracy: 0.7239 - branch_exit_1_accuracy: 0.8314\n"
     ]
    },
    {
     "data": {
      "text/plain": [
       "[1.9511430263519287,\n",
       " 0.5815438628196716,\n",
       " 0.5972588658332825,\n",
       " 0.43015629053115845,\n",
       " 0.8162999749183655,\n",
       " 0.7239000201225281,\n",
       " 0.8313999772071838]"
      ]
     },
     "execution_count": 15,
     "metadata": {},
     "output_type": "execute_result"
    }
   ],
   "source": [
    "model.evaluate(test_ds)"
   ]
  },
  {
   "cell_type": "code",
   "execution_count": 17,
   "id": "57ed0df1-6e6b-49de-901c-6dd071cf5ea1",
   "metadata": {},
   "outputs": [
    {
     "name": "stdout",
     "output_type": "stream",
     "text": [
      "Matching Branchpoint by id number\n",
      "Matching Branchpoint by name\n",
      "add Branch to branch point  activation_83\n",
      "add Branch to branch point  activation_91\n",
      "KerasTensor(type_spec=TensorSpec(shape=(None, 32, 32, 3), dtype=tf.float32, name='input_4'), name='input_4', description=\"created by layer 'input_4'\")\n",
      "[<KerasTensor: shape=(None, 10) dtype=float32 (created by layer 'dense_3')>, <KerasTensor: shape=(None, 10) dtype=float32 (created by layer 'branch_exit')>, <KerasTensor: shape=(None, 10) dtype=float32 (created by layer 'branch_exit_1')>]\n",
      "branch added <brevis.core_v2.BranchModel object at 0x0000027B2A562F48>\n"
     ]
    }
   ],
   "source": [
    "# import random\n",
    "# seed = 42\n",
    "# random.seed(seed)\n",
    "# tf.random.set_seed(seed)\n",
    "# np.random.seed(seed)\n",
    "tf.keras.backend.clear_session()\n",
    "\n",
    "\n",
    "def loss_wrapper(lambda_callback: lambda_update):\n",
    "    ''' Loss function of Evidential Dirichlet Networks\n",
    "        Expected Mean Square Error + KL divergence\n",
    "    '''\n",
    "    def custom_loss_function(p, logits):\n",
    "    #     alpha = alpha + 1\n",
    "        evidence = exp_evidence(logits)\n",
    "        # evidence = tf.nn.softplus(logits)\n",
    "        alpha = evidence + 1\n",
    "        S = tf.reduce_sum(alpha,axis=1,keepdims=True) \n",
    "        E = alpha - 1\n",
    "        m = alpha / S\n",
    "        A = tf.reduce_sum((p-m)**2, axis=1, keepdims=True) \n",
    "        B = tf.reduce_sum(alpha*(S-alpha)/(S*S*(S+1)), axis=1, keepdims=True) \n",
    "        annealing_coef =  lambda_callback.lambda_t\n",
    "        \n",
    "        bool_mask = tf.cast(p,tf.bool)\n",
    "        ic_mask = tf.cast(1 - p,tf.bool)\n",
    "        ic_bool_mask = tf.cast(ic_mask,tf.bool)\n",
    "        ic_alpha_masked = tf.cast(tf.ragged.boolean_mask(alpha, ic_bool_mask).to_tensor(),tf.float32)\n",
    "        #### info reg\n",
    "        _A = (ic_alpha_masked -1) ** 2\n",
    "        B_1 = tf.math.polygamma(1.,ic_alpha_masked) \n",
    "        B_2 = tf.math.polygamma(1., tf.reduce_sum(ic_alpha_masked,axis=1,keepdims=True))\n",
    "        _B = (B_1 - B_2)\n",
    "        info_reg =  .5* tf.reduce_sum(_A * _B,axis=1)\n",
    "        info_reg = annealing_coef * (info_reg * 2)\n",
    "        \n",
    "        # annealing_coef =  0.0001\n",
    "        # alp = E*(1-p) + 1 \n",
    "        # C =   annealing_coef * KL(alp,10)\n",
    "        # C =   annealing_coef * DirichletKLLoss(p,logits, True)\n",
    "        D = 0.0001 * -tf.reduce_mean(tfp.distributions.Dirichlet(alpha).entropy())\n",
    "        # tf.print((A + B),summarize=-1)\n",
    "        # tf.print((info_reg + D),summarize=-1)\n",
    "        \n",
    "        # tf.print(((A + B) + info_reg + D).shape)\n",
    "        return (A + B) + info_reg +  D # info_reg + D  #+ info_reg #+ C + D\n",
    "    return custom_loss_function\n",
    "\n",
    "        \n",
    "earlyStop = _earlyStopping(monitor=[\"val_dense_3_accuracy\",\"val_branch_exit_accuracy\",\"val_branch_exit_1_accuracy\"],patience=5,restore_best_weights=True)\n",
    "growth_callback = growth_update(100,0.,max_t = 1, starting_epoch =0)\n",
    "\n",
    "branch_loss = loss_wrapper(growth_callback)\n",
    "trunk_loss = keras.losses.CategoricalCrossentropy(from_logits=False)\n",
    "CE_loss = keras.losses.CategoricalCrossentropy(from_logits=True)\n",
    "model = brevis.BranchModel(name=\"./models/wideresnet_.81.hdf5\", custom_objects={})\n",
    "model.add_branches([_branch_conv1,_branch_conv2],\n",
    "                          [\"activation_83\",\"activation_91\",#\"mixed6\"\n",
    "                          ],\n",
    "                          target_input=False,loop=False,num_outputs=10)\n",
    "\n",
    "# model.setTrainable(True)\n",
    "# model.compile(loss=[trunk_loss,branch_loss,branch_loss], \n",
    "#                   optimizer=tf.optimizers.SGD(learning_rate=0.01, momentum=0.9),\n",
    "#                   # optimizer=tf.keras.optimizers.Adam(learning_rate=0.001,  beta_1=0.99,  beta_2=0.999,),\n",
    "#                metrics=['accuracy'])\n",
    "\n",
    "model.compile(loss=[trunk_loss,CE_loss,CE_loss], \n",
    "                  # optimizer=tf.optimizers.SGD(learning_rate=0.01, momentum=0.9),\n",
    "                  optimizer=tf.keras.optimizers.Adam(learning_rate=0.001,  beta_1=0.99,  beta_2=0.999,),\n",
    "               metrics=['accuracy'])\n",
    "\n",
    "\n",
    "\n",
    "# model.compile(loss=[trunk_loss,trunk_loss,trunk_loss], \n",
    "#                   # optimizer=tf.optimizers.SGD(learning_rate=0.01, momentum=0.9),\n",
    "#                   optimizer=tf.keras.optimizers.Adam(learning_rate=0.001,  beta_1=0.99,  beta_2=0.999,),\n",
    "#                   # optimizer=\"adam\",\n",
    "#                metrics=['accuracy'])\n",
    "\n",
    "# model.summary()\n",
    "# model.fit(train_ds, epochs = 10, validation_data=validation_ds, transfer=True,callbacks=[growth_callback])"
   ]
  },
  {
   "cell_type": "code",
   "execution_count": 18,
   "id": "707cb821-bdd1-48c5-8a99-2fd270d289f6",
   "metadata": {},
   "outputs": [
    {
     "name": "stdout",
     "output_type": "stream",
     "text": [
      "Setting Main Layers  and branch layers training to true\n",
      "annealing coef updated to: 0\n",
      "Epoch 1/60\n",
      "   6/1407 [..............................] - ETA: 5:07 - loss: 25.0905 - dense_3_loss: 0.3087 - branch_exit_loss: 7.1635 - branch_exit_1_loss: 17.2563 - dense_3_accuracy: 0.8698 - branch_exit_accuracy: 0.2292 - branch_exit_1_accuracy: 0.1510WARNING:tensorflow:Callback method `on_train_batch_end` is slow compared to the batch time (batch time: 0.0650s vs `on_train_batch_end` time: 0.1473s). Check your callbacks.\n",
      "1407/1407 [==============================] - 299s 210ms/step - loss: 3.1836 - dense_3_loss: 0.3578 - branch_exit_loss: 1.2631 - branch_exit_1_loss: 1.1796 - dense_3_accuracy: 0.8745 - branch_exit_accuracy: 0.5796 - branch_exit_1_accuracy: 0.6329 - val_loss: 2.5053 - val_dense_3_loss: 0.4062 - val_branch_exit_loss: 0.9547 - val_branch_exit_1_loss: 0.7682 - val_dense_3_accuracy: 0.8616 - val_branch_exit_accuracy: 0.6730 - val_branch_exit_1_accuracy: 0.7366\n",
      "annealing coef updated to: 0.01\n",
      "Epoch 2/60\n",
      "1407/1407 [==============================] - 294s 209ms/step - loss: 2.1002 - dense_3_loss: 0.3109 - branch_exit_loss: 0.7066 - branch_exit_1_loss: 0.7056 - dense_3_accuracy: 0.8933 - branch_exit_accuracy: 0.7547 - branch_exit_1_accuracy: 0.7594 - val_loss: 2.3524 - val_dense_3_loss: 0.4108 - val_branch_exit_loss: 0.8746 - val_branch_exit_1_loss: 0.6871 - val_dense_3_accuracy: 0.8590 - val_branch_exit_accuracy: 0.7026 - val_branch_exit_1_accuracy: 0.7676\n",
      "annealing coef updated to: 0.02\n",
      "Epoch 3/60\n",
      "1407/1407 [==============================] - 293s 209ms/step - loss: 1.7119 - dense_3_loss: 0.2912 - branch_exit_loss: 0.4464 - branch_exit_1_loss: 0.5943 - dense_3_accuracy: 0.8999 - branch_exit_accuracy: 0.8490 - branch_exit_1_accuracy: 0.7969 - val_loss: 2.4509 - val_dense_3_loss: 0.4875 - val_branch_exit_loss: 0.9337 - val_branch_exit_1_loss: 0.6454 - val_dense_3_accuracy: 0.8326 - val_branch_exit_accuracy: 0.7156 - val_branch_exit_1_accuracy: 0.7826\n",
      "annealing coef updated to: 0.03\n",
      "Epoch 4/60\n",
      "1407/1407 [==============================] - 295s 209ms/step - loss: 1.5017 - dense_3_loss: 0.2811 - branch_exit_loss: 0.2930 - branch_exit_1_loss: 0.5396 - dense_3_accuracy: 0.9028 - branch_exit_accuracy: 0.9036 - branch_exit_1_accuracy: 0.8158 - val_loss: 2.4742 - val_dense_3_loss: 0.4276 - val_branch_exit_loss: 1.0691 - val_branch_exit_1_loss: 0.5836 - val_dense_3_accuracy: 0.8600 - val_branch_exit_accuracy: 0.7034 - val_branch_exit_1_accuracy: 0.8022\n",
      "annealing coef updated to: 0.04\n",
      "Epoch 5/60\n",
      "1407/1407 [==============================] - 293s 208ms/step - loss: 1.3551 - dense_3_loss: 0.2622 - branch_exit_loss: 0.2123 - branch_exit_1_loss: 0.4870 - dense_3_accuracy: 0.9094 - branch_exit_accuracy: 0.9341 - branch_exit_1_accuracy: 0.8349 - val_loss: 2.7710 - val_dense_3_loss: 0.5416 - val_branch_exit_loss: 1.2161 - val_branch_exit_1_loss: 0.6172 - val_dense_3_accuracy: 0.8266 - val_branch_exit_accuracy: 0.6806 - val_branch_exit_1_accuracy: 0.7954\n",
      "val acc did not improve from 1.5055999755859375, annealing coef not updated, remains at:0.03999999910593033\n",
      "Epoch 6/60\n",
      "1407/1407 [==============================] - 294s 209ms/step - loss: 1.2895 - dense_3_loss: 0.2673 - branch_exit_loss: 0.1668 - branch_exit_1_loss: 0.4545 - dense_3_accuracy: 0.9081 - branch_exit_accuracy: 0.9488 - branch_exit_1_accuracy: 0.8456 - val_loss: 2.6184 - val_dense_3_loss: 0.4658 - val_branch_exit_loss: 1.1836 - val_branch_exit_1_loss: 0.5642 - val_dense_3_accuracy: 0.8488 - val_branch_exit_accuracy: 0.7162 - val_branch_exit_1_accuracy: 0.8132\n",
      "annealing coef updated to: 0.05\n",
      "Epoch 7/60\n",
      "1407/1407 [==============================] - 294s 209ms/step - loss: 1.2494 - dense_3_loss: 0.2695 - branch_exit_loss: 0.1503 - branch_exit_1_loss: 0.4223 - dense_3_accuracy: 0.9066 - branch_exit_accuracy: 0.9541 - branch_exit_1_accuracy: 0.8579 - val_loss: 2.6286 - val_dense_3_loss: 0.4290 - val_branch_exit_loss: 1.2234 - val_branch_exit_1_loss: 0.5655 - val_dense_3_accuracy: 0.8534 - val_branch_exit_accuracy: 0.7014 - val_branch_exit_1_accuracy: 0.8118\n",
      "val acc did not improve from 1.5293999910354614, annealing coef not updated, remains at:0.05000000074505806\n",
      "Epoch 8/60\n",
      "1407/1407 [==============================] - 293s 208ms/step - loss: 1.1989 - dense_3_loss: 0.2631 - branch_exit_loss: 0.1291 - branch_exit_1_loss: 0.3933 - dense_3_accuracy: 0.9088 - branch_exit_accuracy: 0.9618 - branch_exit_1_accuracy: 0.8655 - val_loss: 2.8259 - val_dense_3_loss: 0.5349 - val_branch_exit_loss: 1.2744 - val_branch_exit_1_loss: 0.6006 - val_dense_3_accuracy: 0.8298 - val_branch_exit_accuracy: 0.6968 - val_branch_exit_1_accuracy: 0.8020\n",
      "val acc did not improve from 1.5293999910354614, annealing coef not updated, remains at:0.05000000074505806\n",
      "Epoch 9/60\n",
      "1407/1407 [==============================] - 291s 207ms/step - loss: 1.1483 - dense_3_loss: 0.2530 - branch_exit_loss: 0.1044 - branch_exit_1_loss: 0.3747 - dense_3_accuracy: 0.9108 - branch_exit_accuracy: 0.9688 - branch_exit_1_accuracy: 0.8734 - val_loss: 2.8977 - val_dense_3_loss: 0.5453 - val_branch_exit_loss: 1.3843 - val_branch_exit_1_loss: 0.5482 - val_dense_3_accuracy: 0.8262 - val_branch_exit_accuracy: 0.7198 - val_branch_exit_1_accuracy: 0.8268\n",
      "annealing coef updated to: 0.06\n",
      "Epoch 10/60\n",
      "1407/1407 [==============================] - 291s 207ms/step - loss: 1.1125 - dense_3_loss: 0.2536 - branch_exit_loss: 0.0954 - branch_exit_1_loss: 0.3418 - dense_3_accuracy: 0.9116 - branch_exit_accuracy: 0.9725 - branch_exit_1_accuracy: 0.8850 - val_loss: 3.0010 - val_dense_3_loss: 0.4716 - val_branch_exit_loss: 1.5072 - val_branch_exit_1_loss: 0.5998 - val_dense_3_accuracy: 0.8458 - val_branch_exit_accuracy: 0.7094 - val_branch_exit_1_accuracy: 0.8172\n",
      "val acc did not improve from 1.5465999841690063, annealing coef not updated, remains at:0.05999999865889549\n",
      "Epoch 11/60\n",
      "1407/1407 [==============================] - 291s 207ms/step - loss: 1.0898 - dense_3_loss: 0.2468 - branch_exit_loss: 0.0973 - branch_exit_1_loss: 0.3232 - dense_3_accuracy: 0.9146 - branch_exit_accuracy: 0.9722 - branch_exit_1_accuracy: 0.8911 - val_loss: 2.9161 - val_dense_3_loss: 0.4748 - val_branch_exit_loss: 1.4838 - val_branch_exit_1_loss: 0.5329 - val_dense_3_accuracy: 0.8472 - val_branch_exit_accuracy: 0.7184 - val_branch_exit_1_accuracy: 0.8376\n",
      "annealing coef updated to: 0.07\n",
      "Epoch 12/60\n",
      "1407/1407 [==============================] - 291s 207ms/step - loss: 1.0632 - dense_3_loss: 0.2420 - branch_exit_loss: 0.0863 - branch_exit_1_loss: 0.3109 - dense_3_accuracy: 0.9174 - branch_exit_accuracy: 0.9750 - branch_exit_1_accuracy: 0.8945 - val_loss: 2.8912 - val_dense_3_loss: 0.4912 - val_branch_exit_loss: 1.4050 - val_branch_exit_1_loss: 0.5703 - val_dense_3_accuracy: 0.8390 - val_branch_exit_accuracy: 0.7140 - val_branch_exit_1_accuracy: 0.8180\n",
      "val acc did not improve from 1.555999994277954, annealing coef not updated, remains at:0.07000000029802322\n",
      "Epoch 13/60\n",
      "1407/1407 [==============================] - 291s 206ms/step - loss: 1.0206 - dense_3_loss: 0.2385 - branch_exit_loss: 0.0722 - branch_exit_1_loss: 0.2859 - dense_3_accuracy: 0.9166 - branch_exit_accuracy: 0.9784 - branch_exit_1_accuracy: 0.9040 - val_loss: 3.0575 - val_dense_3_loss: 0.5099 - val_branch_exit_loss: 1.5367 - val_branch_exit_1_loss: 0.5860 - val_dense_3_accuracy: 0.8380 - val_branch_exit_accuracy: 0.7124 - val_branch_exit_1_accuracy: 0.8246\n",
      "val acc did not improve from 1.555999994277954, annealing coef not updated, remains at:0.07000000029802322\n",
      "Epoch 14/60\n",
      "1407/1407 [==============================] - 290s 206ms/step - loss: 1.0146 - dense_3_loss: 0.2370 - branch_exit_loss: 0.0733 - branch_exit_1_loss: 0.2773 - dense_3_accuracy: 0.9177 - branch_exit_accuracy: 0.9794 - branch_exit_1_accuracy: 0.9068 - val_loss: 3.0836 - val_dense_3_loss: 0.4955 - val_branch_exit_loss: 1.5813 - val_branch_exit_1_loss: 0.5760 - val_dense_3_accuracy: 0.8396 - val_branch_exit_accuracy: 0.6968 - val_branch_exit_1_accuracy: 0.8258\n",
      "val acc did not improve from 1.555999994277954, annealing coef not updated, remains at:0.07000000029802322\n",
      "Epoch 15/60\n",
      "1407/1407 [==============================] - 291s 206ms/step - loss: 0.9950 - dense_3_loss: 0.2306 - branch_exit_loss: 0.0693 - branch_exit_1_loss: 0.2652 - dense_3_accuracy: 0.9197 - branch_exit_accuracy: 0.9804 - branch_exit_1_accuracy: 0.9105 - val_loss: 3.1650 - val_dense_3_loss: 0.4888 - val_branch_exit_loss: 1.6514 - val_branch_exit_1_loss: 0.5941 - val_dense_3_accuracy: 0.8404 - val_branch_exit_accuracy: 0.7012 - val_branch_exit_1_accuracy: 0.8226\n",
      "val acc did not improve from 1.555999994277954, annealing coef not updated, remains at:0.07000000029802322\n",
      "Epoch 16/60\n",
      "1407/1407 [==============================] - 291s 207ms/step - loss: 0.9820 - dense_3_loss: 0.2274 - branch_exit_loss: 0.0658 - branch_exit_1_loss: 0.2587 - dense_3_accuracy: 0.9213 - branch_exit_accuracy: 0.9816 - branch_exit_1_accuracy: 0.9141 - val_loss: 3.1896 - val_dense_3_loss: 0.5163 - val_branch_exit_loss: 1.6808 - val_branch_exit_1_loss: 0.5647 - val_dense_3_accuracy: 0.8390 - val_branch_exit_accuracy: 0.7008 - val_branch_exit_1_accuracy: 0.8376\n"
     ]
    },
    {
     "data": {
      "text/plain": [
       "<brevis.core_v2.BranchModel at 0x27a122d07c8>"
      ]
     },
     "execution_count": 18,
     "metadata": {},
     "output_type": "execute_result"
    }
   ],
   "source": [
    "model.fit(train_ds, epochs = 60, validation_data=validation_ds, transfer=False,callbacks=[growth_callback,earlyStop])"
   ]
  },
  {
   "cell_type": "code",
   "execution_count": 19,
   "id": "ff0f7983-1027-460f-9294-478e5cf06a3a",
   "metadata": {},
   "outputs": [],
   "source": [
    "#edl es was 18.\n",
    "model.save(\"./models/journal_models/wideresnet_CE_ES_2.hdf5\")"
   ]
  },
  {
   "cell_type": "code",
   "execution_count": 17,
   "id": "2630f00f-7114-4262-adba-2aebb5b76dfb",
   "metadata": {},
   "outputs": [
    {
     "name": "stdout",
     "output_type": "stream",
     "text": [
      "Matching Branchpoint by id number\n",
      "Matching Branchpoint by name\n",
      "add Branch to branch point  activation_83\n",
      "add Branch to branch point  activation_91\n",
      "KerasTensor(type_spec=TensorSpec(shape=(None, 32, 32, 3), dtype=tf.float32, name='input_4'), name='input_4', description=\"created by layer 'input_4'\")\n",
      "[<KerasTensor: shape=(None, 10) dtype=float32 (created by layer 'dense_3')>, <KerasTensor: shape=(None, 10) dtype=float32 (created by layer 'branch_exit')>, <KerasTensor: shape=(None, 10) dtype=float32 (created by layer 'branch_exit_1')>]\n",
      "branch added <brevis.core_v2.BranchModel object at 0x000001D8EA510EC8>\n",
      "Freezing Main Layers and setting branch layers training to true\n"
     ]
    }
   ],
   "source": [
    "import random\n",
    "seed = 42\n",
    "random.seed(seed)\n",
    "tf.random.set_seed(seed)\n",
    "np.random.seed(seed)\n",
    "tf.keras.backend.clear_session()\n",
    "      \n",
    "\n",
    "def loss_wrapper(lambda_callback: lambda_update):\n",
    "    ''' Loss function of Evidential Dirichlet Networks\n",
    "        Expected Mean Square Error + KL divergence\n",
    "    '''\n",
    "    def custom_loss_function(p, logits):\n",
    "    #     alpha = alpha + 1\n",
    "        evidence = exp_evidence(logits)\n",
    "        # evidence = tf.nn.softplus(logits)\n",
    "        alpha = evidence + 1\n",
    "        S = tf.reduce_sum(alpha,axis=1,keepdims=True) \n",
    "        E = alpha - 1\n",
    "        m = alpha / S\n",
    "        A = tf.reduce_sum((p-m)**2, axis=1, keepdims=True) \n",
    "        B = tf.reduce_sum(alpha*(S-alpha)/(S*S*(S+1)), axis=1, keepdims=True) \n",
    "        annealing_coef =  lambda_callback.lambda_t\n",
    "        \n",
    "        bool_mask = tf.cast(p,tf.bool)\n",
    "        ic_mask = tf.cast(1 - p,tf.bool)\n",
    "        ic_bool_mask = tf.cast(ic_mask,tf.bool)\n",
    "        ic_alpha_masked = tf.cast(tf.ragged.boolean_mask(alpha, ic_bool_mask).to_tensor(),tf.float32)\n",
    "        #### info reg\n",
    "        _A = (ic_alpha_masked -1) ** 2\n",
    "        B_1 = tf.math.polygamma(1.,ic_alpha_masked) \n",
    "        B_2 = tf.math.polygamma(1., tf.reduce_sum(ic_alpha_masked,axis=1,keepdims=True))\n",
    "        _B = (B_1 - B_2)\n",
    "        info_reg =  tf.reduce_sum(_A * _B,axis=1)\n",
    "        info_reg = annealing_coef * (info_reg )\n",
    "        \n",
    "        # annealing_coef =  0.0001\n",
    "        alp = E*(1-p) + 1 \n",
    "        # C =   annealing_coef * KL(alp,10)\n",
    "        C =   annealing_coef * DirichletKLLoss(p,logits, True)\n",
    "        D = 0.0001 * -tf.reduce_mean(tfp.distributions.Dirichlet(alpha).entropy())\n",
    "        return (A + B) + D  #+ info_reg #+ C + D\n",
    "    return custom_loss_function   \n",
    "\n",
    "        \n",
    "def auxLoss(lambda_callback: lambda_update):\n",
    "    def auxloss(p, logits):\n",
    "        evidence = exp_evidence(logits)\n",
    "            # evidence = tf.nn.softplus(logits)\n",
    "        alpha = evidence + 1\n",
    "        S = tf.reduce_sum(alpha,axis=1,keepdims=True) \n",
    "        E = alpha - 1\n",
    "        m = alpha / S\n",
    "        A = tf.reduce_sum((p-m)**2, axis=1, keepdims=True) \n",
    "        B = tf.reduce_sum(alpha*(S-alpha)/(S*S*(S+1)), axis=1, keepdims=True) \n",
    "        annealing_coef =  lambda_callback.lambda_t\n",
    "\n",
    "        bool_mask = tf.cast(p,tf.bool)\n",
    "        ic_mask = tf.cast(1 - p,tf.bool)\n",
    "        ic_bool_mask = tf.cast(ic_mask,tf.bool)\n",
    "        ic_alpha_masked = tf.cast(tf.ragged.boolean_mask(alpha, ic_bool_mask).to_tensor(),tf.float32)\n",
    "        #### info reg\n",
    "        _A = (ic_alpha_masked -1) ** 2\n",
    "        B_1 = tf.math.polygamma(1.,ic_alpha_masked) \n",
    "        B_2 = tf.math.polygamma(1., tf.reduce_sum(ic_alpha_masked,axis=1,keepdims=True))\n",
    "        _B = (B_1 - B_2)\n",
    "        info_reg =  .5* tf.reduce_sum(_A * _B,axis=1)\n",
    "        info_reg = annealing_coef * (info_reg * 2)\n",
    "        \n",
    "        alp = E*(1-p) + 1 \n",
    "        # else:\n",
    "            # tf.print(\"metric\",annealing_coef)\n",
    "        # C =   annealing_coef * KL(alp,10)\n",
    "        C =   annealing_coef * DirichletKLLoss(p,logits, True)\n",
    "        D = 0.0001 * -tf.reduce_mean(tfp.distributions.Dirichlet(alpha).entropy())\n",
    "        # return (A + B) + C #+ D #+ info_reg #+ C + D\n",
    "        # tf.print(info_reg)\n",
    "        return tf.reduce_mean(info_reg+ D )\n",
    "    return auxloss    \n",
    "\n",
    "# branch_loss = brevisEnergy(lambda_callback)\n",
    "\n",
    "growth_callback = growth_update(50,0.,max_t = 1, starting_epoch =0)\n",
    "\n",
    "auxlossMetric = auxLoss(growth_callback)\n",
    "branch_loss = loss_wrapper(growth_callback)\n",
    "\n",
    "\n",
    "trunk_loss = keras.losses.CategoricalCrossentropy(from_logits=False)\n",
    "# branch_loss = keras.losses.CategoricalCrossentropy(from_logits=True)\n",
    "# loss = kl_loss(lambda_callback)\n",
    "earlyStop = tf.keras.callbacks.EarlyStopping(monitor=\"val_accuracy\",patience=4,restore_best_weights=True)\n",
    "\n",
    "\n",
    "model = brevis.BranchModel(name=\"./models/wideresnet_.81.hdf5\", custom_objects={})\n",
    "# model.add_branches([_branch_flat,_branch_flat],\n",
    "#                           [\"conv2_block1_out\",\"conv2_block3_out\",\n",
    "#                             # \"dense\"\n",
    "#                           ],\n",
    "#                           target_input=False,loop=False,num_outputs=10)\n",
    "\n",
    "model.add_branches([_branch_conv1,_branch_conv2],\n",
    "                          [\"activation_83\",\"activation_91\",#\"mixed6\"\n",
    "                          ],\n",
    "                          target_input=False,loop=False,num_outputs=10)\n",
    "# model.compile(loss = [trunk_loss,loss_fn,loss_fn], optimizer=tf.optimizers.SGD(learning_rate=0.001, momentum=0.9),metrics=['accuracy'])\n",
    "model.setTrainable(True)\n",
    "model.compile(loss=[trunk_loss,branch_loss,branch_loss], \n",
    "                  optimizer=tf.optimizers.SGD(learning_rate=0.01, momentum=0.9),\n",
    "                  # optimizer=tf.keras.optimizers.Adam(learning_rate=0.001,  beta_1=0.99,  beta_2=0.999,),\n",
    "                  # optimizer=\"adam\",\n",
    "               metrics=['accuracy'])\n",
    "\n",
    "# model.summary()\n",
    "# model.fit(train_ds, epochs = 10, validation_data=validation_ds, transfer=True,callbacks=[growth_callback])"
   ]
  },
  {
   "cell_type": "code",
   "execution_count": 18,
   "id": "622976cf-bec6-4b48-9cbd-2ae635564ba9",
   "metadata": {},
   "outputs": [
    {
     "name": "stdout",
     "output_type": "stream",
     "text": [
      "Freezing Main Layers and setting branch layers training to true\n",
      "annealing coef updated to: 0\n",
      "Epoch 1/15\n",
      "1407/1407 [==============================] - 108s 74ms/step - loss: 1.6774 - dense_3_loss: 0.3048 - branch_exit_loss: 0.5613 - branch_exit_1_loss: 0.4493 - dense_3_accuracy: 0.8967 - branch_exit_accuracy: 0.5688 - branch_exit_1_accuracy: 0.6640 - val_loss: 1.4336 - val_dense_3_loss: 0.3395 - val_branch_exit_loss: 0.4263 - val_branch_exit_1_loss: 0.3058 - val_dense_3_accuracy: 0.8802 - val_branch_exit_accuracy: 0.6868 - val_branch_exit_1_accuracy: 0.7886\n",
      "annealing coef updated to: 0.02\n",
      "Epoch 2/15\n",
      "1407/1407 [==============================] - 103s 73ms/step - loss: 1.2873 - dense_3_loss: 0.3048 - branch_exit_loss: 0.3259 - branch_exit_1_loss: 0.2947 - dense_3_accuracy: 0.8967 - branch_exit_accuracy: 0.7729 - branch_exit_1_accuracy: 0.7953 - val_loss: 1.3887 - val_dense_3_loss: 0.3395 - val_branch_exit_loss: 0.4044 - val_branch_exit_1_loss: 0.2828 - val_dense_3_accuracy: 0.8802 - val_branch_exit_accuracy: 0.7078 - val_branch_exit_1_accuracy: 0.8044\n",
      "annealing coef updated to: 0.04\n",
      "Epoch 3/15\n",
      "1407/1407 [==============================] - 103s 73ms/step - loss: 1.1014 - dense_3_loss: 0.3048 - branch_exit_loss: 0.1821 - branch_exit_1_loss: 0.2526 - dense_3_accuracy: 0.8967 - branch_exit_accuracy: 0.8836 - branch_exit_1_accuracy: 0.8271 - val_loss: 1.3843 - val_dense_3_loss: 0.3395 - val_branch_exit_loss: 0.4121 - val_branch_exit_1_loss: 0.2707 - val_dense_3_accuracy: 0.8802 - val_branch_exit_accuracy: 0.7110 - val_branch_exit_1_accuracy: 0.8100\n",
      "annealing coef updated to: 0.06\n",
      "Epoch 4/15\n",
      "1407/1407 [==============================] - 103s 73ms/step - loss: 0.9844 - dense_3_loss: 0.3048 - branch_exit_loss: 0.0958 - branch_exit_1_loss: 0.2219 - dense_3_accuracy: 0.8967 - branch_exit_accuracy: 0.9441 - branch_exit_1_accuracy: 0.8496 - val_loss: 1.3694 - val_dense_3_loss: 0.3395 - val_branch_exit_loss: 0.4071 - val_branch_exit_1_loss: 0.2608 - val_dense_3_accuracy: 0.8802 - val_branch_exit_accuracy: 0.7212 - val_branch_exit_1_accuracy: 0.8188\n",
      "annealing coef updated to: 0.08\n",
      "Epoch 5/15\n",
      "1407/1407 [==============================] - 103s 73ms/step - loss: 0.9163 - dense_3_loss: 0.3048 - branch_exit_loss: 0.0565 - branch_exit_1_loss: 0.1931 - dense_3_accuracy: 0.8967 - branch_exit_accuracy: 0.9695 - branch_exit_1_accuracy: 0.8723 - val_loss: 1.3814 - val_dense_3_loss: 0.3395 - val_branch_exit_loss: 0.4179 - val_branch_exit_1_loss: 0.2620 - val_dense_3_accuracy: 0.8802 - val_branch_exit_accuracy: 0.7176 - val_branch_exit_1_accuracy: 0.8198\n",
      "val acc did not improve from 1.5399999618530273, annealing coef not updated, remains at:0.07999999821186066\n",
      "Epoch 6/15\n",
      "1407/1407 [==============================] - 103s 73ms/step - loss: 0.8702 - dense_3_loss: 0.3048 - branch_exit_loss: 0.0358 - branch_exit_1_loss: 0.1676 - dense_3_accuracy: 0.8967 - branch_exit_accuracy: 0.9828 - branch_exit_1_accuracy: 0.8921 - val_loss: 1.3883 - val_dense_3_loss: 0.3395 - val_branch_exit_loss: 0.4158 - val_branch_exit_1_loss: 0.2710 - val_dense_3_accuracy: 0.8802 - val_branch_exit_accuracy: 0.7164 - val_branch_exit_1_accuracy: 0.8172\n",
      "val acc did not improve from 1.5399999618530273, annealing coef not updated, remains at:0.07999999821186066\n",
      "Epoch 7/15\n",
      "1407/1407 [==============================] - 103s 73ms/step - loss: 0.8428 - dense_3_loss: 0.3048 - branch_exit_loss: 0.0256 - branch_exit_1_loss: 0.1505 - dense_3_accuracy: 0.8967 - branch_exit_accuracy: 0.9887 - branch_exit_1_accuracy: 0.9035 - val_loss: 1.3838 - val_dense_3_loss: 0.3395 - val_branch_exit_loss: 0.4143 - val_branch_exit_1_loss: 0.2680 - val_dense_3_accuracy: 0.8802 - val_branch_exit_accuracy: 0.7216 - val_branch_exit_1_accuracy: 0.8214\n",
      "annealing coef updated to: 0.1\n",
      "Epoch 8/15\n",
      "1407/1407 [==============================] - 103s 73ms/step - loss: 0.8129 - dense_3_loss: 0.3048 - branch_exit_loss: 0.0199 - branch_exit_1_loss: 0.1263 - dense_3_accuracy: 0.8967 - branch_exit_accuracy: 0.9920 - branch_exit_1_accuracy: 0.9212 - val_loss: 1.3688 - val_dense_3_loss: 0.3395 - val_branch_exit_loss: 0.4080 - val_branch_exit_1_loss: 0.2594 - val_dense_3_accuracy: 0.8802 - val_branch_exit_accuracy: 0.7264 - val_branch_exit_1_accuracy: 0.8298\n",
      "annealing coef updated to: 0.12\n",
      "Epoch 9/15\n",
      "1407/1407 [==============================] - 103s 73ms/step - loss: 0.7937 - dense_3_loss: 0.3048 - branch_exit_loss: 0.0165 - branch_exit_1_loss: 0.1105 - dense_3_accuracy: 0.8967 - branch_exit_accuracy: 0.9940 - branch_exit_1_accuracy: 0.9329 - val_loss: 1.3581 - val_dense_3_loss: 0.3395 - val_branch_exit_loss: 0.4100 - val_branch_exit_1_loss: 0.2466 - val_dense_3_accuracy: 0.8802 - val_branch_exit_accuracy: 0.7244 - val_branch_exit_1_accuracy: 0.8350\n",
      "annealing coef updated to: 0.14\n",
      "Epoch 10/15\n",
      "1407/1407 [==============================] - 103s 73ms/step - loss: 0.7801 - dense_3_loss: 0.3048 - branch_exit_loss: 0.0144 - branch_exit_1_loss: 0.0989 - dense_3_accuracy: 0.8967 - branch_exit_accuracy: 0.9952 - branch_exit_1_accuracy: 0.9408 - val_loss: 1.3589 - val_dense_3_loss: 0.3395 - val_branch_exit_loss: 0.4062 - val_branch_exit_1_loss: 0.2512 - val_dense_3_accuracy: 0.8802 - val_branch_exit_accuracy: 0.7210 - val_branch_exit_1_accuracy: 0.8322\n",
      "val acc did not improve from 1.559399962425232, annealing coef not updated, remains at:0.14000000059604645\n",
      "Epoch 11/15\n",
      "1407/1407 [==============================] - 103s 73ms/step - loss: 0.7647 - dense_3_loss: 0.3048 - branch_exit_loss: 0.0129 - branch_exit_1_loss: 0.0851 - dense_3_accuracy: 0.8967 - branch_exit_accuracy: 0.9962 - branch_exit_1_accuracy: 0.9512 - val_loss: 1.3572 - val_dense_3_loss: 0.3395 - val_branch_exit_loss: 0.4039 - val_branch_exit_1_loss: 0.2517 - val_dense_3_accuracy: 0.8802 - val_branch_exit_accuracy: 0.7272 - val_branch_exit_1_accuracy: 0.8360\n",
      "annealing coef updated to: 0.16\n",
      "Epoch 12/15\n",
      "1407/1407 [==============================] - 103s 73ms/step - loss: 0.7545 - dense_3_loss: 0.3048 - branch_exit_loss: 0.0120 - branch_exit_1_loss: 0.0758 - dense_3_accuracy: 0.8967 - branch_exit_accuracy: 0.9967 - branch_exit_1_accuracy: 0.9568 - val_loss: 1.3537 - val_dense_3_loss: 0.3395 - val_branch_exit_loss: 0.4037 - val_branch_exit_1_loss: 0.2485 - val_dense_3_accuracy: 0.8802 - val_branch_exit_accuracy: 0.7268 - val_branch_exit_1_accuracy: 0.8386\n",
      "annealing coef updated to: 0.18\n",
      "Epoch 13/15\n",
      "1407/1407 [==============================] - 103s 73ms/step - loss: 0.7427 - dense_3_loss: 0.3048 - branch_exit_loss: 0.0111 - branch_exit_1_loss: 0.0648 - dense_3_accuracy: 0.8967 - branch_exit_accuracy: 0.9971 - branch_exit_1_accuracy: 0.9647 - val_loss: 1.3585 - val_dense_3_loss: 0.3395 - val_branch_exit_loss: 0.4022 - val_branch_exit_1_loss: 0.2547 - val_dense_3_accuracy: 0.8802 - val_branch_exit_accuracy: 0.7270 - val_branch_exit_1_accuracy: 0.8370\n",
      "val acc did not improve from 1.5654000043869019, annealing coef not updated, remains at:0.18000000715255737\n",
      "Epoch 14/15\n",
      "1407/1407 [==============================] - 103s 73ms/step - loss: 0.7323 - dense_3_loss: 0.3048 - branch_exit_loss: 0.0105 - branch_exit_1_loss: 0.0551 - dense_3_accuracy: 0.8967 - branch_exit_accuracy: 0.9974 - branch_exit_1_accuracy: 0.9711 - val_loss: 1.3421 - val_dense_3_loss: 0.3395 - val_branch_exit_loss: 0.4017 - val_branch_exit_1_loss: 0.2389 - val_dense_3_accuracy: 0.8802 - val_branch_exit_accuracy: 0.7254 - val_branch_exit_1_accuracy: 0.8434\n",
      "annealing coef updated to: 0.2\n",
      "Epoch 15/15\n",
      "1407/1407 [==============================] - 107s 76ms/step - loss: 0.7245 - dense_3_loss: 0.3048 - branch_exit_loss: 0.0099 - branch_exit_1_loss: 0.0479 - dense_3_accuracy: 0.8967 - branch_exit_accuracy: 0.9978 - branch_exit_1_accuracy: 0.9760 - val_loss: 1.3645 - val_dense_3_loss: 0.3395 - val_branch_exit_loss: 0.4016 - val_branch_exit_1_loss: 0.2614 - val_dense_3_accuracy: 0.8802 - val_branch_exit_accuracy: 0.7274 - val_branch_exit_1_accuracy: 0.8322\n"
     ]
    },
    {
     "data": {
      "text/plain": [
       "<brevis.core_v2.BranchModel at 0x1d6fb518808>"
      ]
     },
     "execution_count": 18,
     "metadata": {},
     "output_type": "execute_result"
    }
   ],
   "source": [
    "model.fit(train_ds, epochs = 15, validation_data=validation_ds, transfer=True,callbacks=[growth_callback])"
   ]
  },
  {
   "cell_type": "code",
   "execution_count": 21,
   "id": "db440e6e-c308-40ad-90a1-a4d101c237ff",
   "metadata": {},
   "outputs": [],
   "source": [
    "model.save(\"./models/journal_models/wideresnet_edl_iar_15_g100.hdf5\")"
   ]
  },
  {
   "cell_type": "markdown",
   "id": "66079fab-1678-4cdf-a0eb-205134d9cf9f",
   "metadata": {},
   "source": [
    "## Get the flop cost for each branch output"
   ]
  },
  {
   "cell_type": "code",
   "execution_count": 69,
   "id": "82ed50f4-4403-4c10-bd6a-670efed00777",
   "metadata": {},
   "outputs": [],
   "source": [
    "# model = brevis.BranchModel(name=\"./models/resnet50_finetuned_32.hdf5\", custom_objects={})\n",
    "# model.compile(loss=[trunk_loss], optimizer=tf.optimizers.SGD(learning_rate=0.001, momentum=0.9), preset=\"\", metrics=['accuracy'])\n",
    "# model.evaluate(test_ds)"
   ]
  },
  {
   "cell_type": "code",
   "execution_count": 30,
   "id": "c80a30e9-6f63-497e-95b2-e310d177e059",
   "metadata": {},
   "outputs": [
    {
     "name": "stdout",
     "output_type": "stream",
     "text": [
      "[<KerasTensor: shape=(None, 10) dtype=float32 (created by layer 'branch_exit')>]\n",
      "WARNING:tensorflow:From C:\\Users\\Sanity\\AppData\\Local\\conda\\conda\\envs\\py36\\lib\\site-packages\\tensorflow\\python\\ops\\nn_ops.py:5214: tensor_shape_from_node_def_name (from tensorflow.python.framework.graph_util_impl) is deprecated and will be removed in a future version.\n",
      "Instructions for updating:\n",
      "Use `tf.compat.v1.graph_util.tensor_shape_from_node_def_name`\n",
      "FLOPS: 3.53 G\n",
      "[<KerasTensor: shape=(None, 10) dtype=float32 (created by layer 'branch_exit')>, <KerasTensor: shape=(None, 10) dtype=float32 (created by layer 'branch_exit_1')>]\n",
      "FLOPS: 7.15 G\n",
      "[<KerasTensor: shape=(None, 10) dtype=float32 (created by layer 'branch_exit')>, <KerasTensor: shape=(None, 10) dtype=float32 (created by layer 'branch_exit_1')>, <KerasTensor: shape=(None, 10) dtype=float32 (created by layer 'dense_3')>]\n",
      "FLOPS: 10.7 G\n"
     ]
    }
   ],
   "source": [
    "outputs = [ [model.get_layer(\"branch_exit\").get_output_at(0)],\n",
    "            [model.get_layer(\"branch_exit\").get_output_at(0),model.get_layer(\"branch_exit_1\").get_output_at(0)],\n",
    "            [model.get_layer(\"branch_exit\").get_output_at(0),model.get_layer(\"branch_exit_1\").get_output_at(0),model.get_layer(\"dense_3\").get_output_at(0)]\n",
    "          ]\n",
    "from keras_flops import get_flops    \n",
    "for _outputs in outputs:\n",
    "    temp_model = tf.keras.models.Model(inputs=model.inputs, outputs=_outputs)\n",
    "    # Calculae FLOPS\n",
    "    print(temp_model.outputs)\n",
    "    flops = get_flops(temp_model, batch_size=1)\n",
    "    print(f\"FLOPS: {flops / 10 ** 9:.03} G\")\n",
    "    "
   ]
  },
  {
   "cell_type": "code",
   "execution_count": 28,
   "id": "ba40d975-173c-446f-a13e-c583cfe132c2",
   "metadata": {},
   "outputs": [
    {
     "name": "stdout",
     "output_type": "stream",
     "text": [
      "\n",
      "preset: Other\n"
     ]
    }
   ],
   "source": [
    "# lambda_callback = lambda_update(1000,0,max_t = 0.01)\n",
    "# model = tf.keras.models.load_model(\"./models/journal_models/inception_Brev_conv3_10.h5\",custom_objects={\"BranchModel\":brevis.BranchModel,\"brevisEnergy\":brevisEnergy(lambda_callback)})\n",
    "model = tf.keras.models.load_model(\"./models/journal_models/wideresnet_CE_ExtraT_ES.hdf5\",custom_objects={\"BranchModel\":brevis.BranchModel,\"custom_loss_function\":loss_wrapper(growth_callback)})"
   ]
  },
  {
   "cell_type": "code",
   "execution_count": 29,
   "id": "35a18cdc-3af4-4d30-b394-714afef069cb",
   "metadata": {},
   "outputs": [],
   "source": [
    "\n",
    "def getPredictions_Energy(model, input_set, stopping_point=None,num_classes=10, values =['energy', 'entropy', 'calibration']):\n",
    "    '''\n",
    "        Function for collecting the model's predictions on a test set. \n",
    "        Returns a list of DataFrames for each exit of the model.    \n",
    "    '''\n",
    "    num_outputs = len(model.outputs) # the number of output layers for the purpose of providing labels\n",
    "    print(\"outputs\",num_outputs)\n",
    "    print(values)\n",
    "    #     train_ds, test_ds, validation_ds = (dataset)\n",
    "    Results=[]\n",
    "    Pred=[]\n",
    "    Labels =[]\n",
    "    Uncert = []\n",
    "    Outputs = pd.DataFrame()\n",
    "    Energy = []\n",
    "    Energy_softmax = []\n",
    "    Energy_evidence = []\n",
    "    Energy_alpha = []\n",
    "    Energy_Mass = []\n",
    "    Entropy = []\n",
    "    pAcc=[]\n",
    "    calibration=[]\n",
    "\n",
    "    conf=[]\n",
    "    entropy_of_exp=[]\n",
    "    expected_entropy=[]\n",
    "    mutual_info=[]\n",
    "    epkl=[]\n",
    "    dentropy=[]\n",
    "    if 'energy' in values:\n",
    "        print(True)\n",
    "    for i in range(num_outputs):\n",
    "        Results.append([])\n",
    "        Pred.append([])\n",
    "        Labels.append([])\n",
    "        Uncert.append([])\n",
    "        Energy.append([])\n",
    "        Energy_softmax.append([])\n",
    "        Energy_evidence.append([])\n",
    "        Energy_alpha.append([])\n",
    "        Energy_Mass.append([])\n",
    "        Entropy.append([])\n",
    "        pAcc.append([])\n",
    "        calibration.append([])\n",
    "\n",
    "        conf.append([])\n",
    "        entropy_of_exp.append([])\n",
    "        expected_entropy.append([])\n",
    "        mutual_info.append([])\n",
    "        epkl.append([])\n",
    "        dentropy.append([])\n",
    "        \n",
    "    for i, (x,y) in enumerate(input_set):\n",
    "        if stopping_point and i > stopping_point:\n",
    "            break\n",
    "        try:\n",
    "            print(\"prediction: {} of {}\".format(i,len(input_set)),end='\\r')\n",
    "        except:\n",
    "            print(\"prediction: {}\".format(i),end='\\r')\n",
    "            pass\n",
    "        predictions = model.predict(x)\n",
    "        if num_outputs > 1:\n",
    "            _predictions = predictions[0]\n",
    "        else:\n",
    "            _predictions = [predictions]\n",
    "        # print(_predictions)\n",
    "        for k, outputs in enumerate(_predictions):\n",
    "            \n",
    "            # print(\"outputs \", k, outputs)\n",
    "            for j, prediction in enumerate(outputs):\n",
    "               \n",
    "                Results[k].append(np.argmax(prediction))\n",
    "                Labels[k].append(np.argmax(y[j]))\n",
    "                \n",
    "                if 'energy' in values:\n",
    "                    Energy[k].append( -(logsumexp(np.array(prediction))))\n",
    "                if 'entropy' in values:\n",
    "                    Entropy[k].append(brevis.utils.calcEntropy_Tensors2(tf.nn.softmax(prediction)).numpy())\n",
    "                if 'calibration' in values:\n",
    "                    calibration[k].append(np.amax(tf.nn.softmax(prediction).numpy()))\n",
    "                if 'uncert' in values:\n",
    "                    evidence =tf.nn.softplus(prediction)\n",
    "                    alpha = evidence +1\n",
    "                    S = sum(alpha)\n",
    "                    E = alpha - 1\n",
    "                    Mass = alpha / S\n",
    "                    u = num_classes / S\n",
    "                    Uncert[k].append(u.numpy().mean())\n",
    "                # Entropy[k].append(brevis.utils.calcEntropy_Tensors2(tf.nn.softmax(prediction)).numpy())\n",
    "                # dirch = evaluate.dirichlet_prior_network_uncertainty([prediction])\n",
    "                # # print(dirch)\n",
    "                # conf[k].append(dirch[\"confidence_alea_uncert.\"])\n",
    "                # entropy_of_exp[k].append(dirch[\"entropy_of_expected\"])\n",
    "                # expected_entropy[k].append(dirch[\"expected_entropy\"])\n",
    "                # mutual_info[k].append(dirch[\"mutual_information\"])\n",
    "                # epkl[k].append(dirch[\"EPKL\"])\n",
    "                # dentropy[k].append(dirch[\"differential_entropy\"])\n",
    "    Outputs=[]\n",
    "    for j in range(num_outputs):\n",
    "#         \"probs\":Pred[j],\n",
    "        # df = pd.DataFrame({\"x\":Results[j],\"y\":Labels[j],'sum':Sum[j],'uncert':Uncert[j],\"belief masses\":Evidence[j]})\n",
    "        results = {\"x\":Results[j],\"y\":Labels[j]}\n",
    "        if 'energy' in values:\n",
    "            results[\"energy\"]=Energy[j]\n",
    "        if 'entropy' in values:\n",
    "            results['entropy']=Entropy[j]\n",
    "        if 'calibration' in values:\n",
    "            results['calibration']=calibration[j]\n",
    "        if 'uncert' in values:\n",
    "            results['uncert']=Uncert[j]\n",
    "#         {\"x\":Results[j],\"y\":Labels[j],\n",
    "#                         # \"confidence_alea_uncert\":conf[j],\n",
    "#                         # \"entropy_of_expected\":entropy_of_exp[j],\n",
    "#                         # \"expected_entropy\":expected_entropy[j],\n",
    "#                         # \"mutual_information\":mutual_info[j],\n",
    "#                         # \"EPKL\":epkl[j],\n",
    "#                         # \"differential_entropy\":dentropy[j],\n",
    "#                       }\n",
    "        # print(results)\n",
    "        df = pd.DataFrame(results)\n",
    "        conditions = [df['x'] == df['y'],df['x'] != df['y']]\n",
    "        choices = [1, 0]\n",
    "        #create new column in DataFrame that displays results of comparisons\n",
    "        df['correct'] = np.int32(np.select(conditions, choices, default=None))\n",
    "        Outputs.append(df)\n",
    "    return Outputs"
   ]
  },
  {
   "cell_type": "markdown",
   "id": "b3884ded-7fa7-4313-96a6-078f26940860",
   "metadata": {},
   "source": [
    "## Get the Branch output results\n",
    "Collect the branch output results for both the ID and OOD test sets then evaluate the results."
   ]
  },
  {
   "cell_type": "code",
   "execution_count": 30,
   "id": "d86afcd6-a024-4071-885e-f3aef2da79cf",
   "metadata": {
    "tags": []
   },
   "outputs": [
    {
     "name": "stdout",
     "output_type": "stream",
     "text": [
      "outputs 3\n",
      "['entropy']\n",
      "prediction: 312 of 313\r"
     ]
    }
   ],
   "source": [
    "output_ID= getPredictions_Energy(model, test_ds,values=['entropy'],stopping_point=None)\n",
    "for i in output_ID:\n",
    "    i['outlier']=0\n"
   ]
  },
  {
   "cell_type": "code",
   "execution_count": 31,
   "id": "46de421d-ec98-42e5-87a6-3b21269cf745",
   "metadata": {},
   "outputs": [
    {
     "name": "stdout",
     "output_type": "stream",
     "text": [
      "outputs 3\n",
      "['entropy']\n",
      "prediction: 312 of 313\r"
     ]
    }
   ],
   "source": [
    "output_OOD = getPredictions_Energy(model, test_ds100,values=['entropy'],stopping_point=None)\n",
    "for i in output_OOD:\n",
    "    i['correct']=0\n",
    "    i['outlier']=1"
   ]
  },
  {
   "cell_type": "code",
   "execution_count": null,
   "id": "abea903a-0d06-4f18-8272-34245f2c77d4",
   "metadata": {},
   "outputs": [],
   "source": [
    "# output_OOD_svhn = getPredictions_Energy(model, test_ds_svhn,stopping_point=313)\n",
    "# output_OOD_svhn['correct']=0\n",
    "# output_OOD_svhn['outlier']=1\n"
   ]
  },
  {
   "cell_type": "code",
   "execution_count": null,
   "id": "1d87dbbf-7f91-4a37-90d9-fbbd5fb0efaa",
   "metadata": {},
   "outputs": [],
   "source": [
    "def save_outputs(filename,outputs):\n",
    "    from openpyxl import Workbook\n",
    "    wb= Workbook()\n",
    "    ws=wb.active\n",
    "    with pd.ExcelWriter('./csv/'+filename+'.xlsx', engine=\"openpyxl\") as writer:\n",
    "        writer.book=wb\n",
    "        writer.sheets = dict((ws.title, ws) for ws in wb.worksheets)\n",
    "\n",
    "        #useful code\n",
    "        for i, df in enumerate(outputs):\n",
    "            name = \"exit{}\".format(i+1)\n",
    "            df.to_excel(writer, name)\n",
    "        # df.to_excel(writer, sheet, ...)\n",
    "        writer.save()\n",
    "    wb.close()\n",
    "    \n",
    "def read_outputs(fileName):\n",
    "    output_test = list(pd.read_excel('./csv/'+fileName+'.xlsx',['exit1','exit2','exit3']).values())\n",
    "    # for i in output_test:\n",
    "        # print(i.head())\n",
    "    return output_test\n",
    "filename = 'wideresnet_CE_10'\n",
    "save_outputs(filename+'_ID',output_ID)\n",
    "save_outputs(filename+'_OOD',output_OOD)\n",
    "# save_outputs(filename+'_OOD_SVHN',output_OOD_SVHN)"
   ]
  },
  {
   "cell_type": "code",
   "execution_count": 22,
   "id": "48a486ef-e9e1-4237-8b4b-bb3ca72b241d",
   "metadata": {},
   "outputs": [],
   "source": [
    "from sklearn.metrics import roc_curve\n",
    "from sklearn.metrics import roc_auc_score\n",
    "from sklearn.metrics import precision_recall_curve\n",
    "from sklearn.metrics import accuracy_score, precision_score, recall_score, f1_score, roc_auc_score, precision_recall_curve, plot_precision_recall_curve\n",
    "from numpy import sqrt, argmax\n",
    "def calc_AUC(output_df,metrics=['energy'],plot=False, pos_label = 0):\n",
    "    '''\n",
    "    AUC calculation function for list of output dataframes\n",
    "    returns a list of threshold for the gmean of each set of outputs.    \n",
    "    '''\n",
    "    lessThanMetrics = [\"energy\",\"uncert\",\"entropy\"]\n",
    "    _thresholds = []\n",
    "    y_test = np.int32(output_df['correct'])\n",
    "    plots = []\n",
    "    if type(metrics) is not list:\n",
    "        metrics = [metrics]\n",
    "    for metric in metrics:    \n",
    "        print(\"metric\", metric)\n",
    "        lr_auc = roc_auc_score(y_test, output_df[metric])\n",
    "        if metric in lessThanMetrics:\n",
    "            pos_label = 0\n",
    "        else:\n",
    "            pos_label = 1\n",
    "        fpr, tpr, thresholds = roc_curve(y_test, output_df[metric],pos_label=pos_label)\n",
    "        gmeans = sqrt(tpr * (1-fpr))\n",
    "        # print(gmeans)\n",
    "        # locate the index of the largest g-mean\n",
    "        ix = argmax(gmeans)\n",
    "        threshold = thresholds[ix]\n",
    "        print(metric,\" lr_auc\",lr_auc, 'Best Threshold={}, G-Mean={}, TPR={}, FPR={}'.format(threshold, gmeans[ix],tpr[ix],fpr[ix]))\n",
    "        _thresholds.append(threshold)\n",
    "        # plot the roc curve for the model\n",
    "        plots.append({\"fpr\":fpr,\"tpr\":tpr,\"label\":metric, \"ix\":ix})\n",
    "    if plot:\n",
    "        pyplot.plot([0,1], [0,1], linestyle='--', label='No Skill')\n",
    "        for plot in plots:\n",
    "            ix = plot['ix']\n",
    "            pyplot.plot(plot[\"fpr\"], plot[\"tpr\"],  label=plot['label'])\n",
    "\n",
    "            pyplot.scatter(plot[\"fpr\"][ix], plot[\"tpr\"][ix], marker='o', color='black')\n",
    "        # axis labels\n",
    "        pyplot.xlabel('False Positive Rate')\n",
    "        pyplot.ylabel('True Positive Rate')\n",
    "        pyplot.title(metric)\n",
    "        pyplot.legend()\n",
    "        # show the plot\n",
    "        pyplot.show()\n",
    "    return _thresholds\n",
    "\n",
    "def buildComparePlot(ID,OOD,metrics=[\"energy\"], threshold=None, legend=[\"In Distribution\",\"Out of Distribution\"],main_exit_included=True,plot=True,exit_labels=['exit_1']):\n",
    "        lessThanMetrics = [\"energy\",\"uncert\",\"entropy\"]\n",
    "        if type(metrics) is not list:\n",
    "            metrics = [metrics]\n",
    "        for j, metric in enumerate(metrics):\n",
    "            print(\"metric: \", metric, \"threshold: \",threshold)\n",
    "            rollOver_ID_indices = pd.Index([])\n",
    "            rollOver_OOD_indices = pd.Index([])\n",
    "            Exit_Name=[]\n",
    "            _ID = ID.copy()\n",
    "            _OOD = OOD.copy()\n",
    "                # print(_branch_predictions)\n",
    "            # if main_exit_included:\n",
    "            _ID.append(_ID.pop(0))\n",
    "            _OOD.append(_OOD.pop(0))\n",
    "            Accepted_df = pd.DataFrame()\n",
    "            Input_ID=[]\n",
    "            Input_OOD=[]\n",
    "            Accepted_list =[]\n",
    "            Accepted_ID_list = []\n",
    "            Accepted_OOD_list = []\n",
    "            Acceptance_correct =[]\n",
    "            Input_predictions =[]\n",
    "            Accepted_Ratio_list=[]\n",
    "            Accepted_Accuracy_list=[]\n",
    "            Branch_flops = []\n",
    "            Thresholds=[]\n",
    "            Test_accuracy =[]\n",
    "            Rollover_accuracy=[]\n",
    "            Results=[]\n",
    "            \n",
    "            for i, (output_ID, output_OOD) in enumerate(zip(_ID, _OOD)): \n",
    "                Test_accuracy.append(len(output_ID.loc[(output_ID[\"correct\"] == True)])/len(output_ID))\n",
    "                \n",
    "                legend = [\"threshold\",\"correct\",\"incorrect\", \"OOD\"]\n",
    "                Correct = output_ID.loc[(output_ID['correct'] == True)]\n",
    "                Incorrect = output_ID.loc[(output_ID['correct'] == False)]\n",
    "                if plot:\n",
    "                    _ = plt.hist(Correct[metric].tolist(), bins=100)  # arguments are passed to np.histogram\n",
    "                    _ = plt.hist(Incorrect[metric].tolist(), bins=100,color =\"red\", alpha = 0.5)  # arguments are passed to np.histogram\n",
    "                    _ = plt.hist(output_OOD[metric].tolist(), bins=100,color=\"grey\",alpha=0.5)  # arguments are passed to np.histogram\n",
    "\n",
    "                \n",
    "                if threshold:\n",
    "                    if type(threshold) is list:\n",
    "                        if j >= len(threshold): #no threshold in the array so treat as None.\n",
    "                            continue\n",
    "                        _threshold = threshold[j]\n",
    "                    else:\n",
    "                        _threshold = threshold\n",
    "                    if _threshold == \"mean\":\n",
    "                        # _threshold = np.array(ID[metric]).mean()\n",
    "                        Correct = output_ID.loc[(output_ID[\"correct\"] == True)]\n",
    "                        _threshold = np.array(Correct[metric]).mean()\n",
    "                    if _threshold == \"gmean\":\n",
    "                        print(\"m\",metric)\n",
    "                        AUC_thresholds = calc_AUC(output_ID, metrics=metric, plot = False)\n",
    "                        _threshold = AUC_thresholds[j]\n",
    "                    if _threshold == \"PR_AUC\":\n",
    "                        precision_, recall_, proba = precision_recall_curve(output_ID['correct'], output_ID[metric])\n",
    "                        _threshold = sorted(list(zip(np.abs(precision_ - recall_), proba)), key=lambda i: i[0], reverse=False)[0][1]\n",
    "                    else:\n",
    "                        _threshold = np.float32(_threshold)\n",
    "\n",
    "                if len(rollOver_ID_indices)>0:\n",
    "                    # print(\"rollover enabled, {} ID predictions provided\".format(len(rollOver_ID_indices)))\n",
    "                    output_ID = output_ID.iloc[rollOver_ID_indices]\n",
    "                if len(rollOver_OOD_indices)>0:\n",
    "                    # if plot:\n",
    "                    # print(\"rollover enabled, {} OOD predictions provided\".format(len(rollOver_OOD_indices)))\n",
    "                    output_OOD = output_OOD.iloc[rollOver_OOD_indices]\n",
    "                    \n",
    "                if plot:\n",
    "                    plt.axvline(x=_threshold, color='k', linestyle='--',label=\"threshold\")\n",
    "                    plt.title(metric + \" outliers\")\n",
    "                    plt.legend(legend)\n",
    "                    plt.xlabel(\"entropy\")\n",
    "                    plt.ylabel(\"frequency\")\n",
    "                    plt.show()\n",
    "                if main_exit_included and i == len(_ID)-1 :\n",
    "                    Exit_Name.append(\"Main_exit\")\n",
    "                    _threshold\n",
    "                    if plot:\n",
    "                        print(\"main_exit\")\n",
    "                    OOD_accepted = output_OOD\n",
    "                    OOD_rejected = None\n",
    "                    ID_accepted = output_ID\n",
    "                    ID_rejected = None\n",
    "                    accepted_correct = ID_accepted.loc[(ID_accepted[\"correct\"] == True )] #TP\n",
    "                    rejected_correct = None\n",
    "                    accepted_incorrect = ID_accepted.loc[(ID_accepted[metric] ==False)] #FP\n",
    "                    rejected_incorrect = None\n",
    "                    accepted_ID_acc = len(accepted_correct) / (len( ID_accepted))\n",
    "                    overall_accepted_acc = len(accepted_correct) / (len( ID_accepted) + len(OOD_accepted))\n",
    "                    _threshold = \"NA\"\n",
    "                    ### make a threshold that accepts everything, if less than, set to inf, if greater than, set to neg inf?\n",
    "                    # if metric in lessThanMetrics:\n",
    "                        # _threshold = math.inf\n",
    "                    # else:\n",
    "                        # _threshold = -math.inf\n",
    "                # print(_threshold)\n",
    "                else:\n",
    "                    if metric in lessThanMetrics: ## metrics that require less than metric\n",
    "                        OOD_accepted = output_OOD.loc[(output_OOD[metric].tolist() <= _threshold)] #FP\n",
    "                        OOD_rejected = output_OOD.loc[(output_OOD[metric].tolist() > _threshold)] #TN\n",
    "                        ID_accepted = output_ID.loc[(output_ID[metric] <= _threshold)] #TP\n",
    "                        ID_rejected = output_ID.loc[(output_ID[metric] > _threshold)] #FN\n",
    "\n",
    "\n",
    "                        accepted_correct = ID_accepted.loc[(ID_accepted[\"correct\"] == True )] #TP\n",
    "                        rejected_correct = ID_rejected.loc[(ID_rejected[\"correct\"] == True)]  #FN\n",
    "\n",
    "                        accepted_incorrect = ID_accepted.loc[(ID_accepted[metric] ==False)] #FP\n",
    "                        rejected_incorrect = ID_rejected.loc[(ID_rejected[metric] ==False)] #TN\n",
    "\n",
    "                        accepted_ID_acc = len(accepted_correct) / (len( ID_accepted))\n",
    "                        overall_accepted_acc = len(accepted_correct) / (len( ID_accepted) + len(OOD_accepted))\n",
    "                        # print(\"OOD accepted:\", len(OOD_accepted),\": with threshold:\",_threshold )\n",
    "                        # print(\"ID accepted:\", len(ID_accepted), \":with acc:\",(accepted_ID_acc))\n",
    "                        # print(\"overall Accepted acc:\",(overall_accepted_acc))\n",
    "\n",
    "                        # print(\"OOD accepted with avg ID \",metric,\" threshold of \",_threshold, \": \", len(OOD.loc[(OOD[metric].tolist() <= _threshold)]), \"out of \", len(OOD))\n",
    "                        # print(\"ID accepted with avg ID \",metric,\" threshold of \",_threshold, \": \", len(ID.loc[(ID[metric] <= _threshold)]), \"out of \", len(ID), \"with acc of \", len(ID.loc[(ID[metric] <= _threshold) & ID['correct'] == True])/len(ID.loc[(ID[metric] <= _threshold)]))\n",
    "                        # print(\"Overall accuracy of accepted inputs:\", len(ID.loc[(ID[metric] <= _threshold) & ID['correct'] == True])/(len(ID.loc[(ID[metric] <= _threshold)])+len(OOD.loc[(OOD[metric] <= _threshold)])))\n",
    "                    else: ### metrics that require greater than metric\n",
    "                        OOD_accepted = output_OOD.loc[(output_OOD[metric].tolist() >= _threshold)] #FP\n",
    "                        OOD_rejected = output_OOD.loc[(output_OOD[metric].tolist() < _threshold)] #TN\n",
    "                        ID_accepted = output_ID.loc[(output_ID[metric] >= _threshold)] #TP\n",
    "                        ID_rejected = output_ID.loc[(output_ID[metric] < _threshold)] #FN\n",
    "\n",
    "                        accepted_correct = ID_accepted.loc[(ID_accepted[\"correct\"] == True )] #TP\n",
    "                        rejected_correct = ID_rejected.loc[(ID_rejected[\"correct\"] == True)]  #FN\n",
    "\n",
    "                        accepted_incorrect = ID_accepted.loc[(ID_accepted[metric] ==False)] #FP\n",
    "                        rejected_incorrect = ID_rejected.loc[(ID_rejected[metric] ==False)] #TN\n",
    "\n",
    "\n",
    "\n",
    "                        accepted_ID_acc = len(accepted_correct) / (len( ID_accepted))\n",
    "                        overall_accepted_acc = len(accepted_correct) / (len( ID_accepted) + len(OOD_accepted))\n",
    "                        # print(\"OOD accepted:\", len(OOD_accepted),\": with threshold:\",_threshold )\n",
    "                        # print(\"ID accepted:\", len(ID_accepted), \":with acc:\",(accepted_ID_acc))\n",
    "                        # print(\"overall Accepted acc:\",(overall_accepted_acc))\n",
    "\n",
    "                        # print(\"OOD accepted with avg ID \",metric,\" threshold of \",_threshold, \": \", len(OOD.loc[(OOD[metric].tolist() >= _threshold)]), \"out of \", len(OOD))\n",
    "                        # print(\"ID accepted with avg ID \",metric,\" threshold of \",_threshold, \": \", len(ID.loc[(ID[metric] >= _threshold)]), \"out of \", len(ID), \"with acc of \", len(ID.loc[(ID[metric] >= _threshold) & ID['correct'] == True])/len(ID.loc[(ID[metric] >= _threshold)]))\n",
    "                        # print(\"Overall accuracy of accepted inputs:\", len(ID.loc[(ID[metric] <= _threshold) & ID['correct'] == True])/(len(ID.loc[(ID[metric] >= _threshold)])+len(OOD.loc[(OOD[metric] >= _threshold)])))\n",
    "                    rollOver_ID_indices = ID_rejected.index\n",
    "                    rollOver_OOD_indices = OOD_rejected.index\n",
    "                    if i >= len(exit_labels):\n",
    "                        exit_labels.append(\"exit_{}\".format(i+1))\n",
    "                    print(exit_labels)\n",
    "                    Exit_Name.append(exit_labels[i])\n",
    "                Thresholds.append(_threshold)\n",
    "                \n",
    "                Results.append(accepted_correct + accepted_incorrect)\n",
    "                Input_ID.append(len(output_ID))\n",
    "                Input_OOD.append(len(output_OOD))\n",
    "                Accepted_ID_list.append(len(ID_accepted))\n",
    "                Accepted_OOD_list.append(len(OOD_accepted))\n",
    "                Accepted_Ratio_list.append(len(ID_accepted)/(len(ID_accepted) + len(OOD_accepted)))\n",
    "                Acceptance_correct.append(len(accepted_correct))\n",
    "                Accepted_Accuracy_list.append(overall_accepted_acc)\n",
    "            df = pd.DataFrame({\n",
    "            \"Exit_Name\":Exit_Name,\n",
    "            \"ID_Inputs\":Input_ID,\n",
    "            \"OOD_Inputs\":Input_OOD,\n",
    "            \"Test_Accuracy\":Test_accuracy,\n",
    "            # \"RollOver_Accuracy\":Rollover_accuracy,\n",
    "            \"Threshold\":Thresholds,\n",
    "            \"Accepted ID\":Accepted_ID_list,\n",
    "            \"Accepted OOD\":Accepted_OOD_list,\n",
    "                \n",
    "            \"Accepted_Correct\":Acceptance_correct,\n",
    "            \"Accepted_ID_Ratio\":Accepted_Ratio_list,\n",
    "            \"Acceptance_Accuracy\":Accepted_Accuracy_list,\n",
    "\n",
    "            # \"Flops\":Branch_flops,\n",
    "            # \"Cost Ratio\":,                                  \n",
    "                          })\n",
    "            with pd.option_context('expand_frame_repr', False):\n",
    "                print (df)\n"
   ]
  },
  {
   "cell_type": "code",
   "execution_count": null,
   "id": "d5496ba2-4425-4786-b6e0-58a946525cde",
   "metadata": {},
   "outputs": [],
   "source": []
  },
  {
   "cell_type": "markdown",
   "id": "593f34f7-5fe1-445c-a2ce-0c2c5b0f37e8",
   "metadata": {},
   "source": [
    "### ID/OOD branch performance\n",
    "<hr>"
   ]
  },
  {
   "cell_type": "code",
   "execution_count": 29,
   "id": "e4c429cb-d7a4-4e52-b988-93b9999f1c5f",
   "metadata": {},
   "outputs": [
    {
     "name": "stdout",
     "output_type": "stream",
     "text": [
      "metric:  entropy threshold:  gmean\n",
      "m entropy\n",
      "metric entropy\n",
      "entropy  lr_auc 0.18048839543530176 Best Threshold=0.08328880369663239, G-Mean=0.746453266928924, TPR=0.7744163104242026, FPR=0.2805000718494037\n",
      "['exit_1', 'exit_2']\n",
      "m entropy\n",
      "metric entropy\n",
      "entropy  lr_auc 0.14303004920722304 Best Threshold=0.5033168196678162, G-Mean=0.7814231782952162, TPR=0.8163493840985442, FPR=0.252008765522279\n",
      "['exit_1', 'exit_2']\n",
      "m entropy\n",
      "metric entropy\n",
      "entropy  lr_auc 0.13485858599831452 Best Threshold=3.240971803665161, G-Mean=0.7946032131877769, TPR=0.8292547274749722, FPR=0.23860034138015118\n",
      "   Exit_Name  ID_Inputs  OOD_Inputs  Test_Accuracy Threshold  Accepted ID  Accepted OOD  Accepted_Correct  Accepted_ID_Ratio  Acceptance_Accuracy\n",
      "0     exit_1      10000       10000         0.6959  0.083289         5694          2864              5007           0.665342             0.585067\n",
      "1     exit_2       4306        7136         0.8214  0.503317         1918          1315              1733           0.593257             0.536035\n",
      "2  Main_exit       2388        5821         0.8202        NA         2388          5821              1397           0.290900             0.170179\n"
     ]
    }
   ],
   "source": [
    "#CE es\n",
    "buildComparePlot(output_ID, output_OOD, [\"entropy\"], \"gmean\", main_exit_included=True,plot=False)"
   ]
  },
  {
   "cell_type": "code",
   "execution_count": 27,
   "id": "8bba5cd1-ea6d-4140-8abc-127ca7189c8c",
   "metadata": {},
   "outputs": [
    {
     "name": "stdout",
     "output_type": "stream",
     "text": [
      "metric:  energy threshold:  gmean\n",
      "m energy\n",
      "metric energy\n",
      "energy  lr_auc 0.20145986774623492 Best Threshold=-31.09141731262207, G-Mean=0.7272401739380328, TPR=0.7848605577689243, FPR=0.32615002072109406\n",
      "['exit_1', 'exit_2']\n",
      "m energy\n",
      "metric energy\n",
      "energy  lr_auc 0.13186150588225892 Best Threshold=-75.5687026977539, G-Mean=0.7927039477245751, TPR=0.8155397390272835, FPR=0.22949242242001444\n",
      "['exit_1', 'exit_2']\n",
      "m energy\n",
      "metric energy\n",
      "energy  lr_auc 0.1460508204132312 Best Threshold=-2.444079875946045, G-Mean=0.7852319061190286, TPR=0.804028307022319, FPR=0.23312507656498835\n",
      "   Exit_Name  ID_Inputs  OOD_Inputs  Test_Accuracy  Threshold  Accepted ID  Accepted OOD  Accepted_Correct  Accepted_ID_Ratio  Acceptance_Accuracy\n",
      "0     exit_1      10000       10000         0.7239 -31.091417         5473          2462              4878           0.689729             0.614745\n",
      "1     exit_2       4527        7538         0.8314 -75.568703         2214          1442              2020           0.605580             0.552516\n",
      "2  Main_exit       2313        6096         0.8163         NA         2313          6096              1312           0.275062             0.156023\n"
     ]
    }
   ],
   "source": [
    "#EDL es\n",
    "buildComparePlot(output_ID, output_OOD, [\"energy\"], \"gmean\", main_exit_included=True,plot=False)"
   ]
  },
  {
   "cell_type": "code",
   "execution_count": 29,
   "id": "42427a88-2820-41eb-8d88-abd9182f492c",
   "metadata": {},
   "outputs": [
    {
     "name": "stdout",
     "output_type": "stream",
     "text": [
      "metric:  energy threshold:  gmean\n",
      "m energy\n",
      "metric energy\n",
      "energy  lr_auc 0.19602473826803785 Best Threshold=-40.40770721435547, G-Mean=0.7307263173207532, TPR=0.7875264270613108, FPR=0.32197710136833285\n",
      "['exit_1']\n",
      "m energy\n",
      "metric energy\n",
      "energy  lr_auc 0.14339485394530238 Best Threshold=-61.21457290649414, G-Mean=0.7788093369613007, TPR=0.826608505997819, FPR=0.266225814352192\n",
      "['exit_1', 'exit_2']\n",
      "m energy\n",
      "metric energy\n",
      "energy  lr_auc 0.15272446609114917 Best Threshold=-2.4557576179504395, G-Mean=0.7728372610411698, TPR=0.8432518597236982, FPR=0.2916974624291698\n",
      "   Exit_Name  ID_Inputs  OOD_Inputs  Test_Accuracy  Threshold  Accepted ID  Accepted OOD  Accepted_Correct  Accepted_ID_Ratio  Acceptance_Accuracy\n",
      "0     exit_1      10000       10000         0.7162 -40.407707         5460          2369              4856           0.697407             0.620258\n",
      "1     exit_2       4540        7631         0.8166 -61.214573         2018          1361              1819           0.597218             0.538325\n",
      "2  Main_exit       2522        6270         0.8118         NA         2522          6270              1487           0.286852             0.169131\n"
     ]
    }
   ],
   "source": [
    "#EDL es\n",
    "buildComparePlot(output_ID, output_OOD, [\"energy\"], \"gmean\", main_exit_included=True,plot=False)"
   ]
  },
  {
   "cell_type": "code",
   "execution_count": 22,
   "id": "c61fc0f2-7758-46b1-9c34-c0410f78e081",
   "metadata": {},
   "outputs": [
    {
     "name": "stdout",
     "output_type": "stream",
     "text": [
      "metric:  entropy threshold:  gmean\n",
      "m entropy\n",
      "metric entropy\n",
      "entropy  lr_auc 0.18607109027527347 Best Threshold=0.06010536849498749, G-Mean=0.7404830734819228, TPR=0.7738983050847458, FPR=0.29148936170212764\n",
      "['exit_1', 'exit_2']\n",
      "m entropy\n",
      "metric entropy\n",
      "entropy  lr_auc 0.13606061881861697 Best Threshold=0.40642714500427246, G-Mean=0.7921012482592173, TPR=0.841589861751152, FPR=0.25447725072604066\n",
      "['exit_1', 'exit_2']\n",
      "m entropy\n",
      "metric entropy\n",
      "entropy  lr_auc 0.13862376697223083 Best Threshold=3.2307209968566895, G-Mean=0.7876306627335631, TPR=0.8490453460620525, FPR=0.2693416626621816\n",
      "   Exit_Name  ID_Inputs  OOD_Inputs  Test_Accuracy Threshold  Accepted ID  Accepted OOD  Accepted_Correct  Accepted_ID_Ratio  Acceptance_Accuracy\n",
      "0     exit_1      10000       10000         0.7050  0.060105         5663          2685              4995           0.678366             0.598347\n",
      "1     exit_2       4337        7315         0.8264  0.406427         1948          1418              1795           0.578728             0.533274\n",
      "2  Main_exit       2389        5897         0.8324        NA         2389          5897              1461           0.288318             0.176322\n"
     ]
    }
   ],
   "source": [
    "#CE es\n",
    "buildComparePlot(output_ID, output_OOD, [\"entropy\"], \"gmean\", main_exit_included=True,plot=False)"
   ]
  },
  {
   "cell_type": "code",
   "execution_count": 18,
   "id": "cb675e01-b26d-405f-96d1-d6b1827f71c6",
   "metadata": {},
   "outputs": [
    {
     "name": "stdout",
     "output_type": "stream",
     "text": [
      "metric:  entropy threshold:  gmean\n",
      "m entropy\n",
      "metric entropy\n",
      "entropy  lr_auc 0.18508619542085095 Best Threshold=0.33505114912986755, G-Mean=0.742391893205918, TPR=0.8117883456128601, FPR=0.3210721414314229\n",
      "['exit_1']\n",
      "m entropy\n",
      "metric entropy\n",
      "entropy  lr_auc 0.14759452330109282 Best Threshold=0.6346042156219482, G-Mean=0.7825698153078396, TPR=0.8504168710152036, FPR=0.27986433865092325\n",
      "['exit_1', 'exit_2']\n",
      "m entropy\n",
      "metric entropy\n",
      "entropy  lr_auc 0.12934604544574152 Best Threshold=3.2438595294952393, G-Mean=0.7981188478112202, TPR=0.8223564954682779, FPR=0.22540443379269023\n",
      "   Exit_Name  ID_Inputs  OOD_Inputs  Test_Accuracy Threshold  Accepted ID  Accepted OOD  Accepted_Correct  Accepted_ID_Ratio  Acceptance_Accuracy\n",
      "0     exit_1      10000       10000         0.7014  0.335051         5325          2486              4762           0.681731             0.609653\n",
      "1     exit_2       4675        7514         0.7961  0.634604         1835          1222              1656           0.600262             0.541708\n",
      "2  Main_exit       2840        6292         0.8345        NA         2840          6292              1814           0.310994             0.198642\n"
     ]
    }
   ],
   "source": [
    "#CE es\n",
    "buildComparePlot(output_ID, output_OOD, [\"entropy\"], \"gmean\", main_exit_included=True,plot=False)"
   ]
  },
  {
   "cell_type": "code",
   "execution_count": 20,
   "id": "e11f7742-cd3f-4a0e-b615-86d03ad0db47",
   "metadata": {},
   "outputs": [
    {
     "name": "stdout",
     "output_type": "stream",
     "text": [
      "metric:  energy threshold:  gmean\n",
      "m energy\n",
      "metric energy\n",
      "energy  lr_auc 0.20390976981758818 Best Threshold=-36.56373977661133, G-Mean=0.7257428088154081, TPR=0.7595204513399154, FPR=0.3065326633165829\n"
     ]
    },
    {
     "data": {
      "image/png": "[encoded data removed]",
      "text/plain": [
       "<Figure size 432x288 with 1 Axes>"
      ]
     },
     "metadata": {
      "needs_background": "light"
     },
     "output_type": "display_data"
    },
    {
     "name": "stdout",
     "output_type": "stream",
     "text": [
      "['exit_1']\n",
      "m energy\n",
      "metric energy\n",
      "energy  lr_auc 0.13716306833720102 Best Threshold=-62.65158462524414, G-Mean=0.7893487225778709, TPR=0.8343357025697102, FPR=0.25321258107942723\n"
     ]
    },
    {
     "data": {
      "image/png": "[encoded data removed]",
      "text/plain": [
       "<Figure size 432x288 with 1 Axes>"
      ]
     },
     "metadata": {
      "needs_background": "light"
     },
     "output_type": "display_data"
    },
    {
     "name": "stdout",
     "output_type": "stream",
     "text": [
      "['exit_1', 'exit_2']\n",
      "m energy\n",
      "metric energy\n",
      "energy  lr_auc 0.15272443336451527 Best Threshold=-2.4557578563690186, G-Mean=0.7728372610411698, TPR=0.8432518597236982, FPR=0.2916974624291698\n"
     ]
    },
    {
     "data": {
      "image/png": "[encoded data removed]",
      "text/plain": [
       "<Figure size 432x288 with 1 Axes>"
      ]
     },
     "metadata": {
      "needs_background": "light"
     },
     "output_type": "display_data"
    },
    {
     "name": "stdout",
     "output_type": "stream",
     "text": [
      "main_exit\n",
      "   Exit_Name  ID_Inputs  OOD_Inputs  Test_Accuracy  Threshold  Accepted ID  Accepted OOD  Accepted_Correct  Accepted_ID_Ratio  Acceptance_Accuracy\n",
      "0     exit_1      10000       10000         0.7164  -36.56374         5651          2532              4968           0.690578             0.607112\n",
      "1     exit_2       4349        7468         0.8171 -62.651585         1924          1383              1745           0.581796             0.527669\n",
      "2  Main_exit       2425        6085         0.8118         NA         2425          6085              1435           0.284959             0.168625\n"
     ]
    }
   ],
   "source": [
    "#EDL IAR, e15, g100\n",
    "buildComparePlot(output_ID, output_OOD, [\"energy\"], \"gmean\",plot=True)"
   ]
  },
  {
   "cell_type": "code",
   "execution_count": 17,
   "id": "0a931000-0618-4c1c-bbec-202f4fa1a176",
   "metadata": {},
   "outputs": [
    {
     "name": "stdout",
     "output_type": "stream",
     "text": [
      "metric:  entropy threshold:  gmean\n",
      "m entropy\n",
      "metric entropy\n",
      "entropy  lr_auc 0.18461562362569073 Best Threshold=0.07747278362512589, G-Mean=0.7449641960374295, TPR=0.7936241610738255, FPR=0.3007122507122507\n",
      "['exit_1']\n",
      "m entropy\n",
      "metric entropy\n",
      "entropy  lr_auc 0.14399299565265905 Best Threshold=0.31188473105430603, G-Mean=0.7857228321936769, TPR=0.8168859649122807, FPR=0.24425146771037182\n",
      "['exit_1', 'exit_2']\n",
      "m entropy\n",
      "metric entropy\n",
      "entropy  lr_auc 0.13081956534546435 Best Threshold=3.234389543533325, G-Mean=0.7931292079843568, TPR=0.8633811603243917, FPR=0.27140645468619745\n",
      "   Exit_Name  ID_Inputs  OOD_Inputs  Test_Accuracy Threshold  Accepted ID  Accepted OOD  Accepted_Correct  Accepted_ID_Ratio  Acceptance_Accuracy\n",
      "0     exit_1      10000       10000         0.7020  0.077473         5525          2676              4909           0.673698             0.598586\n",
      "1     exit_2       4475        7324         0.8176  0.311885         2053          1655              1863           0.553668             0.502427\n",
      "2  Main_exit       2422        5669         0.8397        NA         2422          5669              1526           0.299345             0.188605\n",
      "metric:  calibration threshold:  gmean\n",
      "m calibration\n",
      "metric calibration\n",
      "calibration  lr_auc 0.8139216572018585 Best Threshold=0.9922985434532166, G-Mean=0.7450358991246874, TPR=0.695014245014245, FPR=0.20134228187919462\n",
      "['exit_1', 'exit_2']\n",
      "m calibration\n",
      "metric calibration\n",
      "calibration  lr_auc 0.8570334225975899 Best Threshold=0.9604890942573547, G-Mean=0.786109679455539, TPR=0.7425391389432485, FPR=0.16776315789473684\n",
      "['exit_1', 'exit_2']\n",
      "m calibration\n",
      "metric calibration\n",
      "calibration  lr_auc 0.8693380823781419 Best Threshold=0.21857601404190063, G-Mean=0.7933608189355317, TPR=0.7295462665237585, FPR=0.1372426699937617\n",
      "   Exit_Name  ID_Inputs  OOD_Inputs  Test_Accuracy Threshold  Accepted ID  Accepted OOD  Accepted_Correct  Accepted_ID_Ratio  Acceptance_Accuracy\n",
      "0     exit_1      10000       10000         0.7020  0.992299         5479          2624              4879           0.676169             0.602123\n",
      "1     exit_2       4521        7376         0.8176  0.960489         2009          1614              1833           0.554513             0.505934\n",
      "2  Main_exit       2512        5762         0.8397        NA         2512          5762              1586           0.303602             0.191685\n"
     ]
    }
   ],
   "source": [
    "#CE not frozen 15e all softmax\n",
    "buildComparePlot(output_ID, output_OOD, [\"entropy\"], \"gmean\", main_exit_included=True,plot=False)\n",
    "buildComparePlot(output_ID, output_OOD, [\"calibration\"], \"gmean\", main_exit_included=True,plot=False)"
   ]
  },
  {
   "cell_type": "code",
   "execution_count": 36,
   "id": "088ac24b-d552-4883-b853-c8642dc2c205",
   "metadata": {},
   "outputs": [
    {
     "name": "stdout",
     "output_type": "stream",
     "text": [
      "metric:  entropy threshold:  gmean\n",
      "m entropy\n",
      "metric entropy\n",
      "entropy  lr_auc 0.18340613291238456 Best Threshold=0.10762191563844681, G-Mean=0.7465706388344123, TPR=0.7791270101739416, FPR=0.28462534157917446\n"
     ]
    },
    {
     "data": {
      "image/png": "[encoded data removed]",
      "text/plain": [
       "<Figure size 432x288 with 1 Axes>"
      ]
     },
     "metadata": {
      "needs_background": "light"
     },
     "output_type": "display_data"
    },
    {
     "name": "stdout",
     "output_type": "stream",
     "text": [
      "['exit_1', 'exit_2']\n",
      "m entropy\n",
      "metric entropy\n",
      "entropy  lr_auc 0.14205042812394303 Best Threshold=0.37969541549682617, G-Mean=0.7875523493994728, TPR=0.8499147242751564, FPR=0.2702341948792622\n"
     ]
    },
    {
     "data": {
      "image/png": "[encoded data removed]",
      "text/plain": [
       "<Figure size 432x288 with 1 Axes>"
      ]
     },
     "metadata": {
      "needs_background": "light"
     },
     "output_type": "display_data"
    },
    {
     "name": "stdout",
     "output_type": "stream",
     "text": [
      "['exit_1', 'exit_2']\n",
      "m entropy\n",
      "metric entropy\n",
      "entropy  lr_auc 0.1512680089176477 Best Threshold=0.5028960704803467, G-Mean=0.7796055318423997, TPR=0.8234075608493009, FPR=0.26186640228033214\n"
     ]
    },
    {
     "data": {
      "image/png": "[encoded data removed]",
      "text/plain": [
       "<Figure size 432x288 with 1 Axes>"
      ]
     },
     "metadata": {
      "needs_background": "light"
     },
     "output_type": "display_data"
    },
    {
     "name": "stdout",
     "output_type": "stream",
     "text": [
      "main_exit\n",
      "   Exit_Name  ID_Inputs  OOD_Inputs  Test_Accuracy Threshold  Accepted ID  Accepted OOD  Accepted_Correct  Accepted_ID_Ratio  Acceptance_Accuracy\n",
      "0     exit_1      10000       10000         0.6953  0.107622         5648          2912              4974           0.659813             0.581075\n",
      "1     exit_2       4352        7088         0.8241  0.379695         1898          1199              1754           0.612851             0.566355\n",
      "2  Main_exit       2454        5889         0.8069        NA         2454          5889              1411           0.294139             0.169124\n"
     ]
    }
   ],
   "source": [
    "#CE not frozen 15e all softmax\n",
    "evaluate.buildComparePlot(output_ID, output_OOD, [\"entropy\"], \"gmean\",plot=True)\n"
   ]
  },
  {
   "cell_type": "code",
   "execution_count": 47,
   "id": "caa93aed-1002-45e7-bffb-654901dd95c7",
   "metadata": {},
   "outputs": [
    {
     "name": "stdout",
     "output_type": "stream",
     "text": [
      "metric:  energy threshold:  gmean\n",
      "m energy\n",
      "metric energy\n",
      "energy  lr_auc 0.21397379004733222 Best Threshold=-54.819976806640625, G-Mean=0.7149640453472197, TPR=0.7339382940108893, FPR=0.30351966873706004\n"
     ]
    },
    {
     "data": {
      "image/png": "[encoded data removed]",
      "text/plain": [
       "<Figure size 432x288 with 1 Axes>"
      ]
     },
     "metadata": {
      "needs_background": "light"
     },
     "output_type": "display_data"
    },
    {
     "name": "stdout",
     "output_type": "stream",
     "text": [
      "['exit_1', 'exit_2']\n",
      "m energy\n",
      "metric energy\n",
      "energy  lr_auc 0.15335865420564687 Best Threshold=-86.49794006347656, G-Mean=0.7733408343923627, TPR=0.8178896625602571, FPR=0.26878150743882945\n"
     ]
    },
    {
     "data": {
      "image/png": "[encoded data removed]",
      "text/plain": [
       "<Figure size 432x288 with 1 Axes>"
      ]
     },
     "metadata": {
      "needs_background": "light"
     },
     "output_type": "display_data"
    },
    {
     "name": "stdout",
     "output_type": "stream",
     "text": [
      "['exit_1', 'exit_2']\n",
      "m energy\n",
      "metric energy\n",
      "energy  lr_auc 0.15272446609114917 Best Threshold=-2.4557576179504395, G-Mean=0.7728372610411698, TPR=0.8432518597236982, FPR=0.2916974624291698\n"
     ]
    },
    {
     "data": {
      "image/png": "[encoded data removed]",
      "text/plain": [
       "<Figure size 432x288 with 1 Axes>"
      ]
     },
     "metadata": {
      "needs_background": "light"
     },
     "output_type": "display_data"
    },
    {
     "name": "stdout",
     "output_type": "stream",
     "text": [
      "main_exit\n",
      "   Exit_Name  ID_Inputs  OOD_Inputs  Test_Accuracy  Threshold  Accepted ID  Accepted OOD  Accepted_Correct  Accepted_ID_Ratio  Acceptance_Accuracy\n",
      "0     exit_1      10000       10000         0.7245 -54.819977         5780          2656              5046           0.685159             0.598151\n",
      "1     exit_2       4220        7344         0.8133  -86.49794         1742          1063              1572           0.621034             0.560428\n",
      "2  Main_exit       2478        6281         0.8118         NA         2478          6281              1472           0.282909             0.168056\n"
     ]
    }
   ],
   "source": [
    "buildComparePlot(output_ID, output_OOD, [\"energy\"], \"gmean\",plot=True)"
   ]
  },
  {
   "cell_type": "code",
   "execution_count": 29,
   "id": "2a6a9f31-e7d6-4bb5-a53e-2b497cedf19c",
   "metadata": {},
   "outputs": [
    {
     "name": "stdout",
     "output_type": "stream",
     "text": [
      "metric:  energy threshold:  gmean\n",
      "m energy\n",
      "metric energy\n",
      "energy  lr_auc 0.21234653131877088 Best Threshold=-51.00204086303711, G-Mean=0.7171848917992476, TPR=0.7332605531295487, FPR=0.29853833425261994\n"
     ]
    },
    {
     "data": {
      "image/png": "[encoded data removed]",
      "text/plain": [
       "<Figure size 432x288 with 1 Axes>"
      ]
     },
     "metadata": {
      "needs_background": "light"
     },
     "output_type": "display_data"
    },
    {
     "name": "stdout",
     "output_type": "stream",
     "text": [
      "['exit_1']\n",
      "m energy\n",
      "metric energy\n",
      "energy  lr_auc 0.15453993971107588 Best Threshold=-87.03630065917969, G-Mean=0.7740264185086823, TPR=0.8279329608938547, FPR=0.2763702801461632\n"
     ]
    },
    {
     "data": {
      "image/png": "[encoded data removed]",
      "text/plain": [
       "<Figure size 432x288 with 1 Axes>"
      ]
     },
     "metadata": {
      "needs_background": "light"
     },
     "output_type": "display_data"
    },
    {
     "name": "stdout",
     "output_type": "stream",
     "text": [
      "['exit_1', 'exit_2']\n",
      "m energy\n",
      "metric energy\n",
      "energy  lr_auc 0.15272446609114917 Best Threshold=-2.4557576179504395, G-Mean=0.7728372610411698, TPR=0.8432518597236982, FPR=0.2916974624291698\n"
     ]
    },
    {
     "data": {
      "image/png": "[encoded data removed]",
      "text/plain": [
       "<Figure size 432x288 with 1 Axes>"
      ]
     },
     "metadata": {
      "needs_background": "light"
     },
     "output_type": "display_data"
    },
    {
     "name": "stdout",
     "output_type": "stream",
     "text": [
      "main_exit\n",
      "   Exit_Name  ID_Inputs  OOD_Inputs  Test_Accuracy  Threshold  Accepted ID  Accepted OOD  Accepted_Correct  Accepted_ID_Ratio  Acceptance_Accuracy\n",
      "0     exit_1      10000       10000         0.7252 -51.002041         5821          2662              5087           0.686196             0.599670\n",
      "1     exit_2       4179        7338         0.8210 -87.036301         1703          1041              1552           0.620627             0.565598\n",
      "2  Main_exit       2476        6297         0.8118         NA         2476          6297              1444           0.282230             0.164596\n",
      "metric:  uncert threshold:  gmean\n",
      "m uncert\n",
      "metric uncert\n",
      "uncert  lr_auc 0.2211779554262399 Best Threshold=0.0389309823513031, G-Mean=0.7076014428559815, TPR=0.764919941775837, FPR=0.34542195256480973\n"
     ]
    },
    {
     "data": {
      "image/png": "[encoded data removed]",
      "text/plain": [
       "<Figure size 432x288 with 1 Axes>"
      ]
     },
     "metadata": {
      "needs_background": "light"
     },
     "output_type": "display_data"
    },
    {
     "name": "stdout",
     "output_type": "stream",
     "text": [
      "['exit_1', 'exit_2']\n",
      "m uncert\n",
      "metric uncert\n",
      "uncert  lr_auc 0.18922811804652998 Best Threshold=0.0016670763725414872, G-Mean=0.771057652123424, TPR=0.8178770949720671, FPR=0.2730816077953715\n"
     ]
    },
    {
     "data": {
      "image/png": "[encoded data removed]",
      "text/plain": [
       "<Figure size 432x288 with 1 Axes>"
      ]
     },
     "metadata": {
      "needs_background": "light"
     },
     "output_type": "display_data"
    },
    {
     "name": "stdout",
     "output_type": "stream",
     "text": [
      "['exit_1', 'exit_2']\n",
      "m uncert\n",
      "metric uncert\n",
      "uncert  lr_auc 0.1530755574196646 Best Threshold=0.4973944425582886, G-Mean=0.7727822515163869, TPR=0.8400637619553666, FPR=0.28911061837891106\n"
     ]
    },
    {
     "data": {
      "image/png": "[encoded data removed]",
      "text/plain": [
       "<Figure size 432x288 with 1 Axes>"
      ]
     },
     "metadata": {
      "needs_background": "light"
     },
     "output_type": "display_data"
    },
    {
     "name": "stdout",
     "output_type": "stream",
     "text": [
      "main_exit\n",
      "   Exit_Name  ID_Inputs  OOD_Inputs  Test_Accuracy Threshold  Accepted ID  Accepted OOD  Accepted_Correct  Accepted_ID_Ratio  Acceptance_Accuracy\n",
      "0     exit_1      10000       10000         0.7252  0.038931         5394          2335              4747           0.697891             0.614180\n",
      "1     exit_2       4606        7665         0.8210  0.001667         2007          1152              1826           0.635328             0.578031\n",
      "2  Main_exit       2599        6513         0.8118        NA         2599          6513              1520           0.285228             0.166813\n"
     ]
    }
   ],
   "source": [
    "#EDL no kl, info, frozen 15e\n",
    "buildComparePlot(output_ID, output_OOD, [\"energy\"], \"gmean\",plot=True)\n",
    "buildComparePlot(output_ID, output_OOD, [\"uncert\"], \"gmean\",plot=True)"
   ]
  },
  {
   "cell_type": "code",
   "execution_count": 37,
   "id": "1d41005b-ddcb-41e9-b000-914cf4dd8d40",
   "metadata": {},
   "outputs": [
    {
     "name": "stdout",
     "output_type": "stream",
     "text": [
      "metric:  energy threshold:  gmean\n",
      "energy  lr_auc 0.20113991222570532 Best Threshold=-41.47420883178711, G-Mean=0.727333774867286, TPR=0.7545454545454545, FPR=0.2988965517241379\n"
     ]
    },
    {
     "data": {
      "image/png": "[encoded data removed]",
      "text/plain": [
       "<Figure size 432x288 with 1 Axes>"
      ]
     },
     "metadata": {
      "needs_background": "light"
     },
     "output_type": "display_data"
    },
    {
     "name": "stdout",
     "output_type": "stream",
     "text": [
      "['exit_1', 'exit_2']\n",
      "energy  lr_auc 0.14100472770938702 Best Threshold=-41.509281158447266, G-Mean=0.7856180375511123, TPR=0.7976190476190477, FPR=0.22620240480961923\n"
     ]
    },
    {
     "data": {
      "image/png": "[encoded data removed]",
      "text/plain": [
       "<Figure size 432x288 with 1 Axes>"
      ]
     },
     "metadata": {
      "needs_background": "light"
     },
     "output_type": "display_data"
    },
    {
     "name": "stdout",
     "output_type": "stream",
     "text": [
      "['exit_1', 'exit_2']\n",
      "energy  lr_auc 0.15272446609114917 Best Threshold=-2.4557576179504395, G-Mean=0.7728372610411698, TPR=0.8432518597236982, FPR=0.2916974624291698\n"
     ]
    },
    {
     "data": {
      "image/png": "[encoded data removed]",
      "text/plain": [
       "<Figure size 432x288 with 1 Axes>"
      ]
     },
     "metadata": {
      "needs_background": "light"
     },
     "output_type": "display_data"
    },
    {
     "name": "stdout",
     "output_type": "stream",
     "text": [
      "main_exit\n",
      "   Exit_Name  ID_Inputs  OOD_Inputs  Test_Accuracy  Threshold  Accepted ID  Accepted OOD  Accepted_Correct  Accepted_ID_Ratio  Acceptance_Accuracy\n",
      "0     exit_1      10000       10000         0.7250 -41.474209         5759          2665              5083           0.683642             0.603395\n",
      "1     exit_2       4241        7335         0.7984 -41.509281         1964          1625              1724           0.547228             0.480357\n",
      "2  Main_exit       2277        5710         0.8118         NA         2277          5710              1351           0.285088             0.169150\n",
      "metric:  uncert threshold:  gmean\n",
      "uncert  lr_auc 0.20357971159874608 Best Threshold=0.1270369589328766, G-Mean=0.7264560430233484, TPR=0.7585454545454545, FPR=0.3042758620689655\n"
     ]
    },
    {
     "data": {
      "image/png": "[encoded data removed]",
      "text/plain": [
       "<Figure size 432x288 with 1 Axes>"
      ]
     },
     "metadata": {
      "needs_background": "light"
     },
     "output_type": "display_data"
    },
    {
     "name": "stdout",
     "output_type": "stream",
     "text": [
      "['exit_1', 'exit_2']\n",
      "uncert  lr_auc 0.14378098955848206 Best Threshold=0.12290427088737488, G-Mean=0.7853181014528511, TPR=0.8045634920634921, FPR=0.23346693386773548\n"
     ]
    },
    {
     "data": {
      "image/png": "[encoded data removed]",
      "text/plain": [
       "<Figure size 432x288 with 1 Axes>"
      ]
     },
     "metadata": {
      "needs_background": "light"
     },
     "output_type": "display_data"
    },
    {
     "name": "stdout",
     "output_type": "stream",
     "text": [
      "['exit_1', 'exit_2']\n",
      "uncert  lr_auc 0.1530755574196646 Best Threshold=0.4973944425582886, G-Mean=0.7727822515163869, TPR=0.8400637619553666, FPR=0.28911061837891106\n"
     ]
    },
    {
     "data": {
      "image/png": "[encoded data removed]",
      "text/plain": [
       "<Figure size 432x288 with 1 Axes>"
      ]
     },
     "metadata": {
      "needs_background": "light"
     },
     "output_type": "display_data"
    },
    {
     "name": "stdout",
     "output_type": "stream",
     "text": [
      "main_exit\n",
      "   Exit_Name  ID_Inputs  OOD_Inputs  Test_Accuracy Threshold  Accepted ID  Accepted OOD  Accepted_Correct  Accepted_ID_Ratio  Acceptance_Accuracy\n",
      "0     exit_1      10000       10000         0.7250  0.127037         5709          2603              5044           0.686838             0.606833\n",
      "1     exit_2       4291        7397         0.7984  0.122904         1965          1592              1727           0.552432             0.485522\n",
      "2  Main_exit       2326        5805         0.8118        NA         2326          5805              1386           0.286066             0.170459\n"
     ]
    }
   ],
   "source": [
    "evaluate.buildCompareDistribPlot(output_ID, output_OOD, [\"energy\"], \"gmean\",plot=True)\n",
    "evaluate.buildCompareDistribPlot(output_ID, output_OOD, [\"uncert\"], \"gmean\",plot=True)"
   ]
  },
  {
   "cell_type": "code",
   "execution_count": 74,
   "id": "be89cd1a-f28a-44e0-85d1-c33041a13288",
   "metadata": {},
   "outputs": [
    {
     "name": "stdout",
     "output_type": "stream",
     "text": [
      "metric:  energy threshold:  gmean\n",
      "energy  lr_auc 0.1907121703959383 Best Threshold=-57.2607307434082, G-Mean=0.7385834089377541, TPR=0.7697461212976022, FPR=0.2913176996091569\n"
     ]
    },
    {
     "data": {
      "image/png": "[encoded data removed]",
      "text/plain": [
       "<Figure size 432x288 with 1 Axes>"
      ]
     },
     "metadata": {
      "needs_background": "light"
     },
     "output_type": "display_data"
    },
    {
     "name": "stdout",
     "output_type": "stream",
     "text": [
      "['exit_1', 'exit_2']\n",
      "energy  lr_auc 0.12754790694163093 Best Threshold=-69.93891906738281, G-Mean=0.8017087511655032, TPR=0.8378212974296205, FPR=0.23284723882381067\n"
     ]
    },
    {
     "data": {
      "image/png": "[encoded data removed]",
      "text/plain": [
       "<Figure size 432x288 with 1 Axes>"
      ]
     },
     "metadata": {
      "needs_background": "light"
     },
     "output_type": "display_data"
    },
    {
     "name": "stdout",
     "output_type": "stream",
     "text": [
      "['exit_1', 'exit_2']\n",
      "energy  lr_auc 0.15272446609114917 Best Threshold=-2.4557576179504395, G-Mean=0.7728372610411698, TPR=0.8432518597236982, FPR=0.2916974624291698\n"
     ]
    },
    {
     "data": {
      "image/png": "[encoded data removed]",
      "text/plain": [
       "<Figure size 432x288 with 1 Axes>"
      ]
     },
     "metadata": {
      "needs_background": "light"
     },
     "output_type": "display_data"
    },
    {
     "name": "stdout",
     "output_type": "stream",
     "text": [
      "main_exit\n",
      "   Exit_Name  ID_Inputs  OOD_Inputs  Test_Accuracy  Threshold  Accepted ID  Accepted OOD  Accepted_Correct  Accepted_ID_Ratio  Acceptance_Accuracy\n",
      "0     exit_1      10000       10000         0.7164 -57.260731         5731          2698              5077           0.679915             0.602325\n",
      "1     exit_2       4269        7302         0.8366 -69.938919         1996          1250              1854           0.614911             0.571165\n",
      "2  Main_exit       2273        6052         0.8118         NA         2273          6052              1276           0.273033             0.153273\n"
     ]
    }
   ],
   "source": [
    "evaluate.buildCompareDistribPlot(output_ID, output_OOD, [\"energy\"], \"gmean\",plot=True)"
   ]
  },
  {
   "cell_type": "code",
   "execution_count": 19,
   "id": "dfc533b9-cb9f-4a77-adaf-eb0059b08e20",
   "metadata": {},
   "outputs": [
    {
     "name": "stdout",
     "output_type": "stream",
     "text": [
      "metric:  entropy threshold:  gmean\n",
      "entropy  lr_auc 0.19500973172018346 Best Threshold=0.10425099730491638, G-Mean=0.7334141616843567, TPR=0.7839602113770594, FPR=0.3138729175880879\n"
     ]
    },
    {
     "data": {
      "image/png": "[encoded data removed]",
      "text/plain": [
       "<Figure size 432x288 with 1 Axes>"
      ]
     },
     "metadata": {
      "needs_background": "light"
     },
     "output_type": "display_data"
    },
    {
     "name": "stdout",
     "output_type": "stream",
     "text": [
      "['exit_1']\n",
      "entropy  lr_auc 0.14352621345149252 Best Threshold=0.548163890838623, G-Mean=0.7847019316079521, TPR=0.8295987493486191, FPR=0.2577651280782081\n"
     ]
    },
    {
     "data": {
      "image/png": "[encoded data removed]",
      "text/plain": [
       "<Figure size 432x288 with 1 Axes>"
      ]
     },
     "metadata": {
      "needs_background": "light"
     },
     "output_type": "display_data"
    },
    {
     "name": "stdout",
     "output_type": "stream",
     "text": [
      "['exit_1', 'exit_2']\n",
      "entropy  lr_auc 0.15268260872638675 Best Threshold=3.226457118988037, G-Mean=0.7728117682763362, TPR=0.8437832093517534, FPR=0.292190194629219\n"
     ]
    },
    {
     "data": {
      "image/png": "[encoded data removed]",
      "text/plain": [
       "<Figure size 432x288 with 1 Axes>"
      ]
     },
     "metadata": {
      "needs_background": "light"
     },
     "output_type": "display_data"
    },
    {
     "name": "stdout",
     "output_type": "stream",
     "text": [
      "main_exit\n",
      "   Exit_Name  ID_Inputs  OOD_Inputs  Test_Accuracy Threshold  Accepted ID  Accepted OOD  Accepted_Correct  Accepted_ID_Ratio  Acceptance_Accuracy\n",
      "0     exit_1      10000       10000         0.6783  0.104251         5350          2794              4654           0.656925             0.571464\n",
      "1     exit_2       4650        7206         0.8081  0.548164         2185          1498              1981           0.593266             0.537877\n",
      "2  Main_exit       2465        5708         0.8118        NA         2465          5708              1477           0.301603             0.180717\n",
      "metric:  calibration threshold:  gmean\n",
      "calibration  lr_auc 0.80372368504688 Best Threshold=0.9890165328979492, G-Mean=0.7338456519359043, TPR=0.6812619784756008, FPR=0.20951196767174385\n"
     ]
    },
    {
     "data": {
      "image/png": "[encoded data removed]",
      "text/plain": [
       "<Figure size 432x288 with 1 Axes>"
      ]
     },
     "metadata": {
      "needs_background": "light"
     },
     "output_type": "display_data"
    },
    {
     "name": "stdout",
     "output_type": "stream",
     "text": [
      "['exit_1', 'exit_2']\n",
      "calibration  lr_auc 0.8582722459846528 Best Threshold=0.893603503704071, G-Mean=0.7825446306637244, TPR=0.7557233015715876, FPR=0.18968212610734758\n"
     ]
    },
    {
     "data": {
      "image/png": "[encoded data removed]",
      "text/plain": [
       "<Figure size 432x288 with 1 Axes>"
      ]
     },
     "metadata": {
      "needs_background": "light"
     },
     "output_type": "display_data"
    },
    {
     "name": "stdout",
     "output_type": "stream",
     "text": [
      "['exit_1', 'exit_2']\n",
      "calibration  lr_auc 0.8473543069166563 Best Threshold=0.22421382367610931, G-Mean=0.7729161477751264, TPR=0.7111357477211135, FPR=0.15993623804463336\n"
     ]
    },
    {
     "data": {
      "image/png": "[encoded data removed]",
      "text/plain": [
       "<Figure size 432x288 with 1 Axes>"
      ]
     },
     "metadata": {
      "needs_background": "light"
     },
     "output_type": "display_data"
    },
    {
     "name": "stdout",
     "output_type": "stream",
     "text": [
      "main_exit\n",
      "   Exit_Name  ID_Inputs  OOD_Inputs  Test_Accuracy Threshold  Accepted ID  Accepted OOD  Accepted_Correct  Accepted_ID_Ratio  Acceptance_Accuracy\n",
      "0     exit_1      10000       10000         0.6783  0.989017         5295          2750              4621           0.658173             0.574394\n",
      "1     exit_2       4705        7250         0.8081  0.893604         2300          1689              2072           0.576586             0.519428\n",
      "2  Main_exit       2405        5561         0.8118        NA         2405          5561              1436           0.301908             0.180266\n"
     ]
    }
   ],
   "source": [
    "evaluate.buildCompareDistribPlot(output_ID, output_OOD, [\"entropy\"], \"gmean\",plot=True)\n",
    "evaluate.buildCompareDistribPlot(output_ID, output_OOD, [\"calibration\"], \"gmean\",plot=True)"
   ]
  },
  {
   "cell_type": "code",
   "execution_count": 25,
   "id": "1d538d10-cf5f-407f-9ba4-ae09ee417968",
   "metadata": {},
   "outputs": [],
   "source": [
    "def calc_auc_OOD(ID,OOD,metrics=[\"energy\"], threshold=None, legend=[\"In Distribution\",\"Out of Distribution\"],main_exit_included=True, OOD_rate=[.1,.2,.5,1], plot=True,exit_labels=['exit_1']):\n",
    "        lessThanMetrics = [\"energy\",\"uncert\",\"entropy\"]\n",
    "        if type(metrics ) is not list:\n",
    "            metrics = [metrics]\n",
    "        \n",
    "        for j, metric in enumerate(metrics):\n",
    "            print(\"metric: \", metric, \"threshold: \",threshold)\n",
    "            rollOver_ID_indices = pd.Index([])\n",
    "            rollOver_OOD_indices = pd.Index([])\n",
    "            Exit_Name=[]\n",
    "            _ID = ID.copy()\n",
    "            _OOD = OOD.copy()\n",
    "                # print(_branch_predictions)\n",
    "            if main_exit_included:\n",
    "                _ID.append(_ID.pop(0))\n",
    "                _OOD.append(_OOD.pop(0))\n",
    "            Accepted_df = pd.DataFrame()\n",
    "            Input_ID=[]\n",
    "            Input_OOD=[]\n",
    "            Accepted_list =[]\n",
    "            Accepted_ID_list = []\n",
    "            Accepted_OOD_list = []\n",
    "            Acceptance_correct =[]\n",
    "            Input_predictions =[]\n",
    "            Accepted_Ratio_list=[]\n",
    "            Accepted_Accuracy_list=[]\n",
    "            # Branch_cost =[17443270,29419724,132134023] #flat exit costs\n",
    "            # Branch_cost =[482376,1517643,80095445,114361924,112698838] #Conv2d exit costs\n",
    "\n",
    "            # Base_cost = 112698838\n",
    "            Branch_flops = []\n",
    "            Thresholds=[]\n",
    "            Test_accuracy =[]\n",
    "            Rollover_accuracy=[]\n",
    "            Results=[]\n",
    "            for rate in OOD_rate:\n",
    "                # print(int(min((len(_output_ID) * i),len(_output_ID))))\n",
    "                print(\"OOD size\",rate)\n",
    "                _OOD_frac=[]\n",
    "                Exit_Name=[]\n",
    "                rollOver_ID_indices = pd.Index([])\n",
    "                rollOver_OOD_indices = pd.Index([])\n",
    "                Input_ID=[]\n",
    "                Input_OOD=[]\n",
    "                Accepted_list =[]\n",
    "                Accepted_ID_list = []\n",
    "                Accepted_OOD_list = []\n",
    "                Acceptance_correct =[]\n",
    "                Input_predictions =[]\n",
    "                Accepted_Ratio_list=[]\n",
    "                Accepted_Accuracy_list=[]\n",
    "                # Branch_cost =[17443270,29419724,132134023] #flat exit costs\n",
    "                # Branch_cost =[482376,1517643,80095445,114361924,112698838] #Conv2d exit costs\n",
    "\n",
    "                # Base_cost = 112698838\n",
    "                Branch_flops = []\n",
    "                Thresholds=[]\n",
    "                Test_accuracy =[]\n",
    "                Rollover_accuracy=[]\n",
    "                Results=[]\n",
    "                for i, output in enumerate(_OOD):\n",
    "                    \n",
    "                    amount = min(len(_ID[i]) * rate,len(_ID[i]))\n",
    "                    # print(\"len\",amount)\n",
    "                    _OOD_frac.append(_OOD[i].iloc[0:int(amount)])\n",
    "                    # print(len(_OOD_frac[i]),len(_ID[i]))\n",
    "                # _df = pd.concat([_ID,_OOD], ignore_index=True)\n",
    "                # y_true = np.int32(_df['outlier'])\n",
    "                for i, (output_ID, output_OOD) in enumerate(zip(_ID, _OOD_frac)): \n",
    "                    Test_accuracy.append(len(output_ID.loc[(output_ID[\"correct\"] == True)])/len(output_ID))\n",
    "\n",
    "                    legend = [\"threshold\",\"correct\",\"incorrect\", \"OOD\"]\n",
    "                    Correct = output_ID.loc[(output_ID['correct'] == True)]\n",
    "                    Incorrect = output_ID.loc[(output_ID['correct'] == False)]\n",
    "                    if plot:\n",
    "                        _ = plt.hist(Correct[metric].tolist(), bins=100)  # arguments are passed to np.histogram\n",
    "                        _ = plt.hist(Incorrect[metric].tolist(), bins=100,color =\"red\", alpha = 0.5)  # arguments are passed to np.histogram\n",
    "                        _ = plt.hist(output_OOD[metric].tolist(), bins=100,color=\"grey\",alpha=0.5)  # arguments are passed to np.histogram\n",
    "\n",
    "\n",
    "                    if threshold:\n",
    "                        if type(threshold) is list:\n",
    "                            if j >= len(threshold): #no threshold in the array so treat as None.\n",
    "                                continue\n",
    "                            _threshold = threshold[j]\n",
    "                        else:\n",
    "                            _threshold = threshold\n",
    "                        if _threshold == \"mean\":\n",
    "                            # _threshold = np.array(ID[metric]).mean()\n",
    "                            Correct = output_ID.loc[(output_ID[\"correct\"] == True)]\n",
    "                            _threshold = np.array(Correct[metric]).mean()\n",
    "                        if _threshold == \"gmean\":\n",
    "                            AUC_thresholds = evaluate.calc_AUC(output_ID, metrics=metrics,plot = False)\n",
    "                            _threshold = AUC_thresholds[j]\n",
    "                        if _threshold == \"PR_AUC\":\n",
    "                            precision_, recall_, proba = precision_recall_curve(output_ID['correct'], output_ID[metric])\n",
    "                            _threshold = sorted(list(zip(np.abs(precision_ - recall_), proba)), key=lambda i: i[0], reverse=False)[0][1]\n",
    "                        else:\n",
    "                            _threshold = np.float32(_threshold)\n",
    "\n",
    "                    if len(rollOver_ID_indices)>0:\n",
    "                        # print(\"rollover enabled, {} ID predictions provided\".format(len(rollOver_ID_indices)))\n",
    "                        output_ID = output_ID.iloc[rollOver_ID_indices]\n",
    "                    if len(rollOver_OOD_indices)>0:\n",
    "                        # if plot:\n",
    "                        # print(\"rollover enabled, {} OOD predictions provided\".format(len(rollOver_OOD_indices)))\n",
    "                        output_OOD = output_OOD.iloc[rollOver_OOD_indices]\n",
    "\n",
    "                    if plot:\n",
    "                        plt.axvline(x=_threshold, color='k', linestyle='--',label=\"threshold\")\n",
    "                        plt.title(metric + \" outliers\")\n",
    "                        plt.legend(legend)\n",
    "                        plt.xlabel(\"entropy\")\n",
    "                        plt.ylabel(\"frequency\")\n",
    "                        plt.show()\n",
    "                    if main_exit_included and i == len(_ID)-1 :\n",
    "                        Exit_Name.append(\"Main_exit\")\n",
    "                        _threshold\n",
    "                        if plot:\n",
    "                            print(\"main_exit\")\n",
    "                        OOD_accepted = output_OOD\n",
    "                        OOD_rejected = None\n",
    "                        ID_accepted = output_ID\n",
    "                        ID_rejected = None\n",
    "                        accepted_correct = ID_accepted.loc[(ID_accepted[\"correct\"] == True )] #TP\n",
    "                        rejected_correct = None\n",
    "                        accepted_incorrect = ID_accepted.loc[(ID_accepted[metric] ==False)] #FP\n",
    "                        rejected_incorrect = None\n",
    "                        accepted_ID_acc = len(accepted_correct) / (len( ID_accepted))\n",
    "                        overall_accepted_acc = len(accepted_correct) / (len( ID_accepted) + len(OOD_accepted))\n",
    "                        _threshold = \"NA\"\n",
    "                        ### make a threshold that accepts everything, if less than, set to inf, if greater than, set to neg inf?\n",
    "                        # if metric in lessThanMetrics:\n",
    "                            # _threshold = math.inf\n",
    "                        # else:\n",
    "                            # _threshold = -math.inf\n",
    "                    # print(_threshold)\n",
    "                    else:\n",
    "                        if metric in lessThanMetrics: ## metrics that require less than metric\n",
    "                            OOD_accepted = output_OOD.loc[(output_OOD[metric].tolist() <= _threshold)] #FP\n",
    "                            OOD_rejected = output_OOD.loc[(output_OOD[metric].tolist() > _threshold)] #TN\n",
    "                            ID_accepted = output_ID.loc[(output_ID[metric] <= _threshold)] #TP\n",
    "                            ID_rejected = output_ID.loc[(output_ID[metric] > _threshold)] #FN\n",
    "\n",
    "\n",
    "                            accepted_correct = ID_accepted.loc[(ID_accepted[\"correct\"] == True )] #TP\n",
    "                            rejected_correct = ID_rejected.loc[(ID_rejected[\"correct\"] == True)]  #FN\n",
    "\n",
    "                            accepted_incorrect = ID_accepted.loc[(ID_accepted[metric] ==False)] #FP\n",
    "                            rejected_incorrect = ID_rejected.loc[(ID_rejected[metric] ==False)] #TN\n",
    "\n",
    "                            accepted_ID_acc = len(accepted_correct) / (len( ID_accepted))\n",
    "                            overall_accepted_acc = len(accepted_correct) / (len( ID_accepted) + len(OOD_accepted))\n",
    "                            # print(\"OOD accepted:\", len(OOD_accepted),\": with threshold:\",_threshold )\n",
    "                            # print(\"ID accepted:\", len(ID_accepted), \":with acc:\",(accepted_ID_acc))\n",
    "                            # print(\"overall Accepted acc:\",(overall_accepted_acc))\n",
    "\n",
    "                            # print(\"OOD accepted with avg ID \",metric,\" threshold of \",_threshold, \": \", len(OOD.loc[(OOD[metric].tolist() <= _threshold)]), \"out of \", len(OOD))\n",
    "                            # print(\"ID accepted with avg ID \",metric,\" threshold of \",_threshold, \": \", len(ID.loc[(ID[metric] <= _threshold)]), \"out of \", len(ID), \"with acc of \", len(ID.loc[(ID[metric] <= _threshold) & ID['correct'] == True])/len(ID.loc[(ID[metric] <= _threshold)]))\n",
    "                            # print(\"Overall accuracy of accepted inputs:\", len(ID.loc[(ID[metric] <= _threshold) & ID['correct'] == True])/(len(ID.loc[(ID[metric] <= _threshold)])+len(OOD.loc[(OOD[metric] <= _threshold)])))\n",
    "                        else: ### metrics that require greater than metric\n",
    "                            OOD_accepted = output_OOD.loc[(output_OOD[metric].tolist() >= _threshold)] #FP\n",
    "                            OOD_rejected = output_OOD.loc[(output_OOD[metric].tolist() < _threshold)] #TN\n",
    "                            ID_accepted = output_ID.loc[(output_ID[metric] >= _threshold)] #TP\n",
    "                            ID_rejected = output_ID.loc[(output_ID[metric] < _threshold)] #FN\n",
    "\n",
    "                            accepted_correct = ID_accepted.loc[(ID_accepted[\"correct\"] == True )] #TP\n",
    "                            rejected_correct = ID_rejected.loc[(ID_rejected[\"correct\"] == True)]  #FN\n",
    "\n",
    "                            accepted_incorrect = ID_accepted.loc[(ID_accepted[metric] ==False)] #FP\n",
    "                            rejected_incorrect = ID_rejected.loc[(ID_rejected[metric] ==False)] #TN\n",
    "\n",
    "\n",
    "\n",
    "                            accepted_ID_acc = len(accepted_correct) / (len( ID_accepted))\n",
    "                            overall_accepted_acc = len(accepted_correct) / (len( ID_accepted) + len(OOD_accepted))\n",
    "                            # print(\"OOD accepted:\", len(OOD_accepted),\": with threshold:\",_threshold )\n",
    "                            # print(\"ID accepted:\", len(ID_accepted), \":with acc:\",(accepted_ID_acc))\n",
    "                            # print(\"overall Accepted acc:\",(overall_accepted_acc))\n",
    "\n",
    "                            # print(\"OOD accepted with avg ID \",metric,\" threshold of \",_threshold, \": \", len(OOD.loc[(OOD[metric].tolist() >= _threshold)]), \"out of \", len(OOD))\n",
    "                            # print(\"ID accepted with avg ID \",metric,\" threshold of \",_threshold, \": \", len(ID.loc[(ID[metric] >= _threshold)]), \"out of \", len(ID), \"with acc of \", len(ID.loc[(ID[metric] >= _threshold) & ID['correct'] == True])/len(ID.loc[(ID[metric] >= _threshold)]))\n",
    "                            # print(\"Overall accuracy of accepted inputs:\", len(ID.loc[(ID[metric] <= _threshold) & ID['correct'] == True])/(len(ID.loc[(ID[metric] >= _threshold)])+len(OOD.loc[(OOD[metric] >= _threshold)])))\n",
    "                        rollOver_ID_indices = ID_rejected.index\n",
    "                        rollOver_OOD_indices = OOD_rejected.index\n",
    "                        if i >= len(exit_labels):\n",
    "                            exit_labels.append(\"exit_{}\".format(i+1))\n",
    "                        print(exit_labels)\n",
    "                        Exit_Name.append(exit_labels[i])\n",
    "                    Thresholds.append(_threshold)\n",
    "\n",
    "                    Results.append(accepted_correct +accepted_incorrect)\n",
    "                    Input_ID.append(len(output_ID))\n",
    "                    Input_OOD.append(len(output_OOD))\n",
    "                    Accepted_ID_list.append(len(ID_accepted))\n",
    "                    Accepted_OOD_list.append(len(OOD_accepted))\n",
    "                    Accepted_Ratio_list.append(len(ID_accepted)/(len(ID_accepted)+ len(OOD_accepted)))\n",
    "                    Acceptance_correct.append(len(accepted_correct))\n",
    "                    Accepted_Accuracy_list.append(overall_accepted_acc)\n",
    "                df = pd.DataFrame({\n",
    "                \"Exit_Name\":Exit_Name,\n",
    "                \"ID_Inputs\":Input_ID,\n",
    "                \"OOD_Inputs\":Input_OOD,\n",
    "                \"Test_Accuracy\":Test_accuracy,\n",
    "                # \"RollOver_Accuracy\":Rollover_accuracy,\n",
    "                \"Threshold\":Thresholds,\n",
    "                \"Accepted ID\":Accepted_ID_list,\n",
    "                \"Accepted OOD\":Accepted_OOD_list,\n",
    "\n",
    "                \"Accepted_Correct\":Acceptance_correct,\n",
    "                \"Accepted_ID_Ratio\":Accepted_Ratio_list,\n",
    "                \"Acceptance_Accuracy\":Accepted_Accuracy_list,\n",
    "\n",
    "                # \"Flops\":Branch_flops,\n",
    "                # \"Cost Ratio\":,                                  \n",
    "                              })\n",
    "                with pd.option_context('expand_frame_repr', False):\n",
    "                    print (df)\n",
    "                # print(\"TPR_ID-OOD\",len(ID_accepted)/(len(ID_accepted) + len(ID_rejected)))\n",
    "                # print(\"TPR_acc\",len(accepted_correct)/(len(accepted_correct) + len(rejected_correct)))\n",
    "                # if len(OOD) > 0:\n",
    "                #     print(\"FPR_ID-OOD\",len(OOD_accepted)/(len(OOD_accepted) + len(OOD_rejected)))\n",
    "                # else: \n",
    "                #     print(\"FPR for OOD is div by zero, was OOD included?\")\n",
    "                # print(\"FPR_acc\",len(accepted_incorrect)/(len(accepted_incorrect) + len(rejected_incorrect)))\n"
   ]
  },
  {
   "cell_type": "code",
   "execution_count": 20,
   "id": "5ef60699-064e-461f-b797-f3f3f199f657",
   "metadata": {},
   "outputs": [
    {
     "name": "stdout",
     "output_type": "stream",
     "text": [
      "metric:  entropy threshold:  gmean\n",
      "OOD size 0.1\n",
      "['exit_1', 'exit_2']\n",
      "['exit_1', 'exit_2']\n",
      "   Exit_Name  ID_Inputs  OOD_Inputs  Test_Accuracy Threshold  Accepted ID  Accepted OOD  Accepted_Correct  Accepted_ID_Ratio  Acceptance_Accuracy\n",
      "0     exit_1      10000        1000         0.6953  3.219826         5686           314              5002           0.947667             0.833667\n",
      "1     exit_2       4314         686         0.8241  3.234338         1965           133              1796           0.936606             0.856053\n",
      "2  Main_exit       2349         553         0.8069        NA         2349           553              1345           0.809442             0.463473\n",
      "OOD size 0.2\n",
      "['exit_1', 'exit_2']\n",
      "['exit_1', 'exit_2']\n",
      "   Exit_Name  ID_Inputs  OOD_Inputs  Test_Accuracy Threshold  Accepted ID  Accepted OOD  Accepted_Correct  Accepted_ID_Ratio  Acceptance_Accuracy\n",
      "0     exit_1      10000        2000         0.6953  3.219826         5686           615              5002           0.902396             0.793842\n",
      "1     exit_2       4314        1385         0.8241  3.234338         1965           256              1796           0.884737             0.808645\n",
      "2  Main_exit       2349        1129         0.8069        NA         2349          1129              1345           0.675388             0.386717\n",
      "OOD size 0.5\n",
      "['exit_1', 'exit_2']\n",
      "['exit_1', 'exit_2']\n",
      "   Exit_Name  ID_Inputs  OOD_Inputs  Test_Accuracy Threshold  Accepted ID  Accepted OOD  Accepted_Correct  Accepted_ID_Ratio  Acceptance_Accuracy\n",
      "0     exit_1      10000        5000         0.6953  3.219826         5686          1515              5002           0.789613             0.694626\n",
      "1     exit_2       4314        3485         0.8241  3.234338         1965           656              1796           0.749714             0.685235\n",
      "2  Main_exit       2349        2829         0.8069        NA         2349          2829              1345           0.453650             0.259753\n",
      "OOD size 1\n",
      "['exit_1', 'exit_2']\n",
      "['exit_1', 'exit_2']\n",
      "   Exit_Name  ID_Inputs  OOD_Inputs  Test_Accuracy Threshold  Accepted ID  Accepted OOD  Accepted_Correct  Accepted_ID_Ratio  Acceptance_Accuracy\n",
      "0     exit_1      10000       10000         0.6953  3.219826         5686          3019              5002           0.653188             0.574612\n",
      "1     exit_2       4314        6981         0.8241  3.234338         1965          1334              1796           0.595635             0.544407\n",
      "2  Main_exit       2349        5647         0.8069        NA         2349          5647              1345           0.293772             0.168209\n"
     ]
    }
   ],
   "source": [
    "calc_auc_OOD(output_ID, output_OOD, [\"entropy\"], \"gmean\",OOD_rate=[.1,.2,.5,1],plot=False)\n"
   ]
  },
  {
   "cell_type": "code",
   "execution_count": 16,
   "id": "b9af903b-26ec-4e60-977e-f5081c0f2fa6",
   "metadata": {},
   "outputs": [
    {
     "name": "stdout",
     "output_type": "stream",
     "text": [
      "metric:  energy threshold:  gmean\n",
      "OOD size 0.1\n",
      "['exit_1']\n",
      "['exit_1', 'exit_2']\n",
      "   Exit_Name  ID_Inputs  OOD_Inputs  Test_Accuracy  Threshold  Accepted ID  Accepted OOD  Accepted_Correct  Accepted_ID_Ratio  Acceptance_Accuracy\n",
      "0     exit_1      10000        1000         0.7164 -36.563728         5651           268              4968           0.954722             0.839331\n",
      "1     exit_2       4349         732         0.8171 -62.651455         1924           130              1745           0.936709             0.849562\n",
      "2  Main_exit       2425         602         0.8118         NA         2425           602              1435           0.801123             0.474067\n",
      "OOD size 0.2\n",
      "['exit_1', 'exit_2']\n",
      "['exit_1', 'exit_2']\n",
      "   Exit_Name  ID_Inputs  OOD_Inputs  Test_Accuracy  Threshold  Accepted ID  Accepted OOD  Accepted_Correct  Accepted_ID_Ratio  Acceptance_Accuracy\n",
      "0     exit_1      10000        2000         0.7164 -36.563728         5651           518              4968           0.916032             0.805317\n",
      "1     exit_2       4349        1482         0.8171 -62.651455         1924           266              1745           0.878539             0.796804\n",
      "2  Main_exit       2425        1216         0.8118         NA         2425          1216              1435           0.666026             0.394122\n",
      "OOD size 0.5\n",
      "['exit_1', 'exit_2']\n",
      "['exit_1', 'exit_2']\n",
      "   Exit_Name  ID_Inputs  OOD_Inputs  Test_Accuracy  Threshold  Accepted ID  Accepted OOD  Accepted_Correct  Accepted_ID_Ratio  Acceptance_Accuracy\n",
      "0     exit_1      10000        5000         0.7164 -36.563728         5651          1252              4968           0.818630             0.719687\n",
      "1     exit_2       4349        3748         0.8171 -62.651455         1924           684              1745           0.737730             0.669095\n",
      "2  Main_exit       2425        3064         0.8118         NA         2425          3064              1435           0.441793             0.261432\n",
      "OOD size 1\n",
      "['exit_1', 'exit_2']\n",
      "['exit_1', 'exit_2']\n",
      "   Exit_Name  ID_Inputs  OOD_Inputs  Test_Accuracy  Threshold  Accepted ID  Accepted OOD  Accepted_Correct  Accepted_ID_Ratio  Acceptance_Accuracy\n",
      "0     exit_1      10000       10000         0.7164 -36.563728         5651          2532              4968           0.690578             0.607112\n",
      "1     exit_2       4349        7468         0.8171 -62.651455         1924          1383              1745           0.581796             0.527669\n",
      "2  Main_exit       2425        6085         0.8118         NA         2425          6085              1435           0.284959             0.168625\n"
     ]
    }
   ],
   "source": [
    "calc_auc_OOD(output_ID, output_OOD, [\"energy\"], \"gmean\",OOD_rate=[.1,.2,.5,1],plot=False)"
   ]
  },
  {
   "cell_type": "code",
   "execution_count": 26,
   "id": "798a00d6-518f-437e-af16-fb6f0e640687",
   "metadata": {},
   "outputs": [
    {
     "name": "stdout",
     "output_type": "stream",
     "text": [
      "metric:  energy threshold:  gmean\n",
      "OOD size 0.1\n",
      "energy  lr_auc 0.20145986774623492 Best Threshold=-31.09141731262207, G-Mean=0.7272401739380328, TPR=0.7848605577689243, FPR=0.32615002072109406\n",
      "['exit_1']\n",
      "energy  lr_auc 0.13186150588225892 Best Threshold=-75.5687026977539, G-Mean=0.7927039477245751, TPR=0.8155397390272835, FPR=0.22949242242001444\n",
      "['exit_1', 'exit_2']\n",
      "energy  lr_auc 0.1460508204132312 Best Threshold=-2.444079875946045, G-Mean=0.7852319061190286, TPR=0.804028307022319, FPR=0.23312507656498835\n",
      "   Exit_Name  ID_Inputs  OOD_Inputs  Test_Accuracy  Threshold  Accepted ID  Accepted OOD  Accepted_Correct  Accepted_ID_Ratio  Acceptance_Accuracy\n",
      "0     exit_1      10000        1000         0.7239 -31.091417         5473           239              4878           0.958158             0.853992\n",
      "1     exit_2       4527         761         0.8314 -75.568703         2214           151              2020           0.936152             0.854123\n",
      "2  Main_exit       2313         610         0.8163         NA         2313           610              1312           0.791310             0.448854\n",
      "OOD size 0.2\n",
      "energy  lr_auc 0.20145986774623492 Best Threshold=-31.09141731262207, G-Mean=0.7272401739380328, TPR=0.7848605577689243, FPR=0.32615002072109406\n",
      "['exit_1', 'exit_2']\n",
      "energy  lr_auc 0.13186150588225892 Best Threshold=-75.5687026977539, G-Mean=0.7927039477245751, TPR=0.8155397390272835, FPR=0.22949242242001444\n",
      "['exit_1', 'exit_2']\n",
      "energy  lr_auc 0.1460508204132312 Best Threshold=-2.444079875946045, G-Mean=0.7852319061190286, TPR=0.804028307022319, FPR=0.23312507656498835\n",
      "   Exit_Name  ID_Inputs  OOD_Inputs  Test_Accuracy  Threshold  Accepted ID  Accepted OOD  Accepted_Correct  Accepted_ID_Ratio  Acceptance_Accuracy\n",
      "0     exit_1      10000        2000         0.7239 -31.091417         5473           479              4878           0.919523             0.819556\n",
      "1     exit_2       4527        1521         0.8314 -75.568703         2214           288              2020           0.884892             0.807354\n",
      "2  Main_exit       2313        1233         0.8163         NA         2313          1233              1312           0.652284             0.369994\n",
      "OOD size 0.5\n",
      "energy  lr_auc 0.20145986774623492 Best Threshold=-31.09141731262207, G-Mean=0.7272401739380328, TPR=0.7848605577689243, FPR=0.32615002072109406\n",
      "['exit_1', 'exit_2']\n",
      "energy  lr_auc 0.13186150588225892 Best Threshold=-75.5687026977539, G-Mean=0.7927039477245751, TPR=0.8155397390272835, FPR=0.22949242242001444\n",
      "['exit_1', 'exit_2']\n",
      "energy  lr_auc 0.1460508204132312 Best Threshold=-2.444079875946045, G-Mean=0.7852319061190286, TPR=0.804028307022319, FPR=0.23312507656498835\n",
      "   Exit_Name  ID_Inputs  OOD_Inputs  Test_Accuracy  Threshold  Accepted ID  Accepted OOD  Accepted_Correct  Accepted_ID_Ratio  Acceptance_Accuracy\n",
      "0     exit_1      10000        5000         0.7239 -31.091417         5473          1242              4878           0.815041             0.726433\n",
      "1     exit_2       4527        3758         0.8314 -75.568703         2214           712              2020           0.756664             0.690362\n",
      "2  Main_exit       2313        3046         0.8163         NA         2313          3046              1312           0.431610             0.244822\n",
      "OOD size 1\n",
      "energy  lr_auc 0.20145986774623492 Best Threshold=-31.09141731262207, G-Mean=0.7272401739380328, TPR=0.7848605577689243, FPR=0.32615002072109406\n",
      "['exit_1', 'exit_2']\n",
      "energy  lr_auc 0.13186150588225892 Best Threshold=-75.5687026977539, G-Mean=0.7927039477245751, TPR=0.8155397390272835, FPR=0.22949242242001444\n",
      "['exit_1', 'exit_2']\n",
      "energy  lr_auc 0.1460508204132312 Best Threshold=-2.444079875946045, G-Mean=0.7852319061190286, TPR=0.804028307022319, FPR=0.23312507656498835\n",
      "   Exit_Name  ID_Inputs  OOD_Inputs  Test_Accuracy  Threshold  Accepted ID  Accepted OOD  Accepted_Correct  Accepted_ID_Ratio  Acceptance_Accuracy\n",
      "0     exit_1      10000       10000         0.7239 -31.091417         5473          2462              4878           0.689729             0.614745\n",
      "1     exit_2       4527        7538         0.8314 -75.568703         2214          1442              2020           0.605580             0.552516\n",
      "2  Main_exit       2313        6096         0.8163         NA         2313          6096              1312           0.275062             0.156023\n"
     ]
    }
   ],
   "source": [
    "calc_auc_OOD(output_ID, output_OOD, [\"energy\"], \"gmean\",OOD_rate=[.1,.2,.5,1],plot=False)"
   ]
  },
  {
   "cell_type": "code",
   "execution_count": 68,
   "id": "d4392ef8-1157-4c59-ab87-c1e03dccb0fd",
   "metadata": {},
   "outputs": [
    {
     "name": "stdout",
     "output_type": "stream",
     "text": [
      "metric:  energy threshold:  gmean\n",
      "OOD size 0.1\n",
      "energy  lr_auc 0.20537788382132005 Best Threshold=-63.80274963378906, G-Mean=0.7259342833338003, TPR=0.7800815771583957, FPR=0.32445451969396427\n",
      "['exit_1', 'exit_2']\n",
      "energy  lr_auc 0.13942239387404648 Best Threshold=-65.24369049072266, G-Mean=0.7855681497408589, TPR=0.8382109331860851, FPR=0.2637684698986445\n",
      "['exit_1', 'exit_2']\n",
      "energy  lr_auc 0.15272446609114917 Best Threshold=-2.4557576179504395, G-Mean=0.7728372610411698, TPR=0.8432518597236982, FPR=0.2916974624291698\n",
      "   Exit_Name  ID_Inputs  OOD_Inputs  Test_Accuracy Threshold  Accepted ID  Accepted OOD  Accepted_Correct  Accepted_ID_Ratio  Acceptance_Accuracy\n",
      "0     exit_1      10000        1000         0.7058 -63.80275         5416           243              4768           0.957060             0.842552\n",
      "1     exit_2       4584         757         0.8189 -65.24369         2062           103              1885           0.952425             0.870670\n",
      "2  Main_exit       2522         654         0.8118        NA         2522           654              1492           0.794081             0.469773\n",
      "OOD size 0.2\n",
      "energy  lr_auc 0.20537788382132005 Best Threshold=-63.80274963378906, G-Mean=0.7259342833338003, TPR=0.7800815771583957, FPR=0.32445451969396427\n",
      "['exit_1', 'exit_2']\n",
      "energy  lr_auc 0.13942239387404648 Best Threshold=-65.24369049072266, G-Mean=0.7855681497408589, TPR=0.8382109331860851, FPR=0.2637684698986445\n",
      "['exit_1', 'exit_2']\n",
      "energy  lr_auc 0.15272446609114917 Best Threshold=-2.4557576179504395, G-Mean=0.7728372610411698, TPR=0.8432518597236982, FPR=0.2916974624291698\n",
      "   Exit_Name  ID_Inputs  OOD_Inputs  Test_Accuracy Threshold  Accepted ID  Accepted OOD  Accepted_Correct  Accepted_ID_Ratio  Acceptance_Accuracy\n",
      "0     exit_1      10000        2000         0.7058 -63.80275         5416           510              4768           0.913939             0.804590\n",
      "1     exit_2       4584        1490         0.8189 -65.24369         2062           214              1885           0.905975             0.828207\n",
      "2  Main_exit       2522        1276         0.8118        NA         2522          1276              1492           0.664034             0.392838\n",
      "OOD size 0.5\n",
      "energy  lr_auc 0.20537788382132005 Best Threshold=-63.80274963378906, G-Mean=0.7259342833338003, TPR=0.7800815771583957, FPR=0.32445451969396427\n",
      "['exit_1', 'exit_2']\n",
      "energy  lr_auc 0.13942239387404648 Best Threshold=-65.24369049072266, G-Mean=0.7855681497408589, TPR=0.8382109331860851, FPR=0.2637684698986445\n",
      "['exit_1', 'exit_2']\n",
      "energy  lr_auc 0.15272446609114917 Best Threshold=-2.4557576179504395, G-Mean=0.7728372610411698, TPR=0.8432518597236982, FPR=0.2916974624291698\n",
      "   Exit_Name  ID_Inputs  OOD_Inputs  Test_Accuracy Threshold  Accepted ID  Accepted OOD  Accepted_Correct  Accepted_ID_Ratio  Acceptance_Accuracy\n",
      "0     exit_1      10000        5000         0.7058 -63.80275         5416          1257              4768           0.811629             0.714521\n",
      "1     exit_2       4584        3743         0.8189 -65.24369         2062           579              1885           0.780765             0.713745\n",
      "2  Main_exit       2522        3164         0.8118        NA         2522          3164              1492           0.443546             0.262399\n",
      "OOD size 1\n",
      "energy  lr_auc 0.20537788382132005 Best Threshold=-63.80274963378906, G-Mean=0.7259342833338003, TPR=0.7800815771583957, FPR=0.32445451969396427\n",
      "['exit_1', 'exit_2']\n",
      "energy  lr_auc 0.13942239387404648 Best Threshold=-65.24369049072266, G-Mean=0.7855681497408589, TPR=0.8382109331860851, FPR=0.2637684698986445\n",
      "['exit_1', 'exit_2']\n",
      "energy  lr_auc 0.15272446609114917 Best Threshold=-2.4557576179504395, G-Mean=0.7728372610411698, TPR=0.8432518597236982, FPR=0.2916974624291698\n",
      "   Exit_Name  ID_Inputs  OOD_Inputs  Test_Accuracy Threshold  Accepted ID  Accepted OOD  Accepted_Correct  Accepted_ID_Ratio  Acceptance_Accuracy\n",
      "0     exit_1      10000       10000         0.7058 -63.80275         5416          2579              4768           0.677423             0.596373\n",
      "1     exit_2       4584        7421         0.8189 -65.24369         2062          1162              1885           0.639578             0.584677\n",
      "2  Main_exit       2522        6259         0.8118        NA         2522          6259              1492           0.287211             0.169912\n"
     ]
    }
   ],
   "source": [
    "calc_auc_OOD(output_ID, output_OOD, [\"energy\"], \"gmean\",OOD_rate=[.1,.2,.5,1],plot=False)"
   ]
  },
  {
   "cell_type": "markdown",
   "id": "398fe505-2e5c-4482-b74d-ecf6e9a83bf8",
   "metadata": {},
   "source": [
    "## Entropy Branch version\n",
    "Now we build a branched model with the entropy metric and cross entropy loss for comparision.\n",
    "<hr>"
   ]
  },
  {
   "cell_type": "code",
   "execution_count": 55,
   "id": "5e9830e9-6e36-4f63-8de8-aa31f6194375",
   "metadata": {},
   "outputs": [
    {
     "name": "stdout",
     "output_type": "stream",
     "text": [
      "Matching Branchpoint by id number\n",
      "Matching Branchpoint by name\n",
      "add Branch to branch point  activation_83\n",
      "add Branch to branch point  activation_91\n",
      "KerasTensor(type_spec=TensorSpec(shape=(None, 32, 32, 3), dtype=tf.float32, name='input_4'), name='input_4', description=\"created by layer 'input_4'\")\n",
      "[<KerasTensor: shape=(None, 10) dtype=float32 (created by layer 'dense_3')>, <KerasTensor: shape=(None, 10) dtype=float32 (created by layer 'branch_exit')>, <KerasTensor: shape=(None, 10) dtype=float32 (created by layer 'branch_exit_1')>]\n",
      "branch added <brevis.core_v2.BranchModel object at 0x0000016FCBBD7388>\n",
      "\n",
      "preset: Other\n",
      "Model: \"model_3\"\n",
      "__________________________________________________________________________________________________\n",
      " Layer (type)                   Output Shape         Param #     Connected to                     \n",
      "==================================================================================================\n",
      " input_4 (InputLayer)           [(None, 32, 32, 3)]  0           []                               \n",
      "                                                                                                  \n",
      " conv2d_84 (Conv2D)             (None, 32, 32, 16)   432         ['input_4[0][0]']                \n",
      "                                                                                                  \n",
      " batch_normalization_75 (BatchN  (None, 32, 32, 16)  64          ['conv2d_84[0][0]']              \n",
      " ormalization)                                                                                    \n",
      "                                                                                                  \n",
      " activation_75 (Activation)     (None, 32, 32, 16)   0           ['batch_normalization_75[0][0]'] \n",
      "                                                                                                  \n",
      " conv2d_85 (Conv2D)             (None, 32, 32, 160)  23040       ['activation_75[0][0]']          \n",
      "                                                                                                  \n",
      " batch_normalization_76 (BatchN  (None, 32, 32, 160)  640        ['conv2d_85[0][0]']              \n",
      " ormalization)                                                                                    \n",
      "                                                                                                  \n",
      " activation_76 (Activation)     (None, 32, 32, 160)  0           ['batch_normalization_76[0][0]'] \n",
      "                                                                                                  \n",
      " conv2d_86 (Conv2D)             (None, 32, 32, 160)  230400      ['activation_76[0][0]']          \n",
      "                                                                                                  \n",
      " conv2d_87 (Conv2D)             (None, 32, 32, 160)  2560        ['activation_75[0][0]']          \n",
      "                                                                                                  \n",
      " add_36 (Add)                   (None, 32, 32, 160)  0           ['conv2d_86[0][0]',              \n",
      "                                                                  'conv2d_87[0][0]']              \n",
      "                                                                                                  \n",
      " batch_normalization_77 (BatchN  (None, 32, 32, 160)  640        ['add_36[0][0]']                 \n",
      " ormalization)                                                                                    \n",
      "                                                                                                  \n",
      " activation_77 (Activation)     (None, 32, 32, 160)  0           ['batch_normalization_77[0][0]'] \n",
      "                                                                                                  \n",
      " conv2d_88 (Conv2D)             (None, 32, 32, 160)  230400      ['activation_77[0][0]']          \n",
      "                                                                                                  \n",
      " batch_normalization_78 (BatchN  (None, 32, 32, 160)  640        ['conv2d_88[0][0]']              \n",
      " ormalization)                                                                                    \n",
      "                                                                                                  \n",
      " activation_78 (Activation)     (None, 32, 32, 160)  0           ['batch_normalization_78[0][0]'] \n",
      "                                                                                                  \n",
      " conv2d_89 (Conv2D)             (None, 32, 32, 160)  230400      ['activation_78[0][0]']          \n",
      "                                                                                                  \n",
      " add_37 (Add)                   (None, 32, 32, 160)  0           ['conv2d_89[0][0]',              \n",
      "                                                                  'add_36[0][0]']                 \n",
      "                                                                                                  \n",
      " batch_normalization_79 (BatchN  (None, 32, 32, 160)  640        ['add_37[0][0]']                 \n",
      " ormalization)                                                                                    \n",
      "                                                                                                  \n",
      " activation_79 (Activation)     (None, 32, 32, 160)  0           ['batch_normalization_79[0][0]'] \n",
      "                                                                                                  \n",
      " conv2d_90 (Conv2D)             (None, 32, 32, 160)  230400      ['activation_79[0][0]']          \n",
      "                                                                                                  \n",
      " batch_normalization_80 (BatchN  (None, 32, 32, 160)  640        ['conv2d_90[0][0]']              \n",
      " ormalization)                                                                                    \n",
      "                                                                                                  \n",
      " activation_80 (Activation)     (None, 32, 32, 160)  0           ['batch_normalization_80[0][0]'] \n",
      "                                                                                                  \n",
      " conv2d_91 (Conv2D)             (None, 32, 32, 160)  230400      ['activation_80[0][0]']          \n",
      "                                                                                                  \n",
      " add_38 (Add)                   (None, 32, 32, 160)  0           ['conv2d_91[0][0]',              \n",
      "                                                                  'add_37[0][0]']                 \n",
      "                                                                                                  \n",
      " batch_normalization_81 (BatchN  (None, 32, 32, 160)  640        ['add_38[0][0]']                 \n",
      " ormalization)                                                                                    \n",
      "                                                                                                  \n",
      " activation_81 (Activation)     (None, 32, 32, 160)  0           ['batch_normalization_81[0][0]'] \n",
      "                                                                                                  \n",
      " conv2d_92 (Conv2D)             (None, 32, 32, 160)  230400      ['activation_81[0][0]']          \n",
      "                                                                                                  \n",
      " batch_normalization_82 (BatchN  (None, 32, 32, 160)  640        ['conv2d_92[0][0]']              \n",
      " ormalization)                                                                                    \n",
      "                                                                                                  \n",
      " activation_82 (Activation)     (None, 32, 32, 160)  0           ['batch_normalization_82[0][0]'] \n",
      "                                                                                                  \n",
      " conv2d_93 (Conv2D)             (None, 32, 32, 160)  230400      ['activation_82[0][0]']          \n",
      "                                                                                                  \n",
      " add_39 (Add)                   (None, 32, 32, 160)  0           ['conv2d_93[0][0]',              \n",
      "                                                                  'add_38[0][0]']                 \n",
      "                                                                                                  \n",
      " batch_normalization_83 (BatchN  (None, 32, 32, 160)  640        ['add_39[0][0]']                 \n",
      " ormalization)                                                                                    \n",
      "                                                                                                  \n",
      " activation_83 (Activation)     (None, 32, 32, 160)  0           ['batch_normalization_83[0][0]'] \n",
      "                                                                                                  \n",
      " conv2d_94 (Conv2D)             (None, 16, 16, 320)  460800      ['activation_83[0][0]']          \n",
      "                                                                                                  \n",
      " batch_normalization_84 (BatchN  (None, 16, 16, 320)  1280       ['conv2d_94[0][0]']              \n",
      " ormalization)                                                                                    \n",
      "                                                                                                  \n",
      " activation_84 (Activation)     (None, 16, 16, 320)  0           ['batch_normalization_84[0][0]'] \n",
      "                                                                                                  \n",
      " conv2d_95 (Conv2D)             (None, 16, 16, 320)  921600      ['activation_84[0][0]']          \n",
      "                                                                                                  \n",
      " conv2d_96 (Conv2D)             (None, 16, 16, 320)  51200       ['activation_83[0][0]']          \n",
      "                                                                                                  \n",
      " add_40 (Add)                   (None, 16, 16, 320)  0           ['conv2d_95[0][0]',              \n",
      "                                                                  'conv2d_96[0][0]']              \n",
      "                                                                                                  \n",
      " batch_normalization_85 (BatchN  (None, 16, 16, 320)  1280       ['add_40[0][0]']                 \n",
      " ormalization)                                                                                    \n",
      "                                                                                                  \n",
      " activation_85 (Activation)     (None, 16, 16, 320)  0           ['batch_normalization_85[0][0]'] \n",
      "                                                                                                  \n",
      " conv2d_97 (Conv2D)             (None, 16, 16, 320)  921600      ['activation_85[0][0]']          \n",
      "                                                                                                  \n",
      " batch_normalization_86 (BatchN  (None, 16, 16, 320)  1280       ['conv2d_97[0][0]']              \n",
      " ormalization)                                                                                    \n",
      "                                                                                                  \n",
      " activation_86 (Activation)     (None, 16, 16, 320)  0           ['batch_normalization_86[0][0]'] \n",
      "                                                                                                  \n",
      " conv2d_98 (Conv2D)             (None, 16, 16, 320)  921600      ['activation_86[0][0]']          \n",
      "                                                                                                  \n",
      " add_41 (Add)                   (None, 16, 16, 320)  0           ['conv2d_98[0][0]',              \n",
      "                                                                  'add_40[0][0]']                 \n",
      "                                                                                                  \n",
      " batch_normalization_87 (BatchN  (None, 16, 16, 320)  1280       ['add_41[0][0]']                 \n",
      " ormalization)                                                                                    \n",
      "                                                                                                  \n",
      " activation_87 (Activation)     (None, 16, 16, 320)  0           ['batch_normalization_87[0][0]'] \n",
      "                                                                                                  \n",
      " conv2d_99 (Conv2D)             (None, 16, 16, 320)  921600      ['activation_87[0][0]']          \n",
      "                                                                                                  \n",
      " batch_normalization_88 (BatchN  (None, 16, 16, 320)  1280       ['conv2d_99[0][0]']              \n",
      " ormalization)                                                                                    \n",
      "                                                                                                  \n",
      " activation_88 (Activation)     (None, 16, 16, 320)  0           ['batch_normalization_88[0][0]'] \n",
      "                                                                                                  \n",
      " conv2d_100 (Conv2D)            (None, 16, 16, 320)  921600      ['activation_88[0][0]']          \n",
      "                                                                                                  \n",
      " add_42 (Add)                   (None, 16, 16, 320)  0           ['conv2d_100[0][0]',             \n",
      "                                                                  'add_41[0][0]']                 \n",
      "                                                                                                  \n",
      " batch_normalization_89 (BatchN  (None, 16, 16, 320)  1280       ['add_42[0][0]']                 \n",
      " ormalization)                                                                                    \n",
      "                                                                                                  \n",
      " activation_89 (Activation)     (None, 16, 16, 320)  0           ['batch_normalization_89[0][0]'] \n",
      "                                                                                                  \n",
      " conv2d_101 (Conv2D)            (None, 16, 16, 320)  921600      ['activation_89[0][0]']          \n",
      "                                                                                                  \n",
      " batch_normalization_90 (BatchN  (None, 16, 16, 320)  1280       ['conv2d_101[0][0]']             \n",
      " ormalization)                                                                                    \n",
      "                                                                                                  \n",
      " activation_90 (Activation)     (None, 16, 16, 320)  0           ['batch_normalization_90[0][0]'] \n",
      "                                                                                                  \n",
      " conv2d_102 (Conv2D)            (None, 16, 16, 320)  921600      ['activation_90[0][0]']          \n",
      "                                                                                                  \n",
      " add_43 (Add)                   (None, 16, 16, 320)  0           ['conv2d_102[0][0]',             \n",
      "                                                                  'add_42[0][0]']                 \n",
      "                                                                                                  \n",
      " batch_normalization_91 (BatchN  (None, 16, 16, 320)  1280       ['add_43[0][0]']                 \n",
      " ormalization)                                                                                    \n",
      "                                                                                                  \n",
      " activation_91 (Activation)     (None, 16, 16, 320)  0           ['batch_normalization_91[0][0]'] \n",
      "                                                                                                  \n",
      " conv2d_103 (Conv2D)            (None, 8, 8, 640)    1843200     ['activation_91[0][0]']          \n",
      "                                                                                                  \n",
      " batch_normalization_92 (BatchN  (None, 8, 8, 640)   2560        ['conv2d_103[0][0]']             \n",
      " ormalization)                                                                                    \n",
      "                                                                                                  \n",
      " activation_92 (Activation)     (None, 8, 8, 640)    0           ['batch_normalization_92[0][0]'] \n",
      "                                                                                                  \n",
      " conv2d_104 (Conv2D)            (None, 8, 8, 640)    3686400     ['activation_92[0][0]']          \n",
      "                                                                                                  \n",
      " conv2d_105 (Conv2D)            (None, 8, 8, 640)    204800      ['activation_91[0][0]']          \n",
      "                                                                                                  \n",
      " add_44 (Add)                   (None, 8, 8, 640)    0           ['conv2d_104[0][0]',             \n",
      "                                                                  'conv2d_105[0][0]']             \n",
      "                                                                                                  \n",
      " batch_normalization_93 (BatchN  (None, 8, 8, 640)   2560        ['add_44[0][0]']                 \n",
      " ormalization)                                                                                    \n",
      "                                                                                                  \n",
      " activation_93 (Activation)     (None, 8, 8, 640)    0           ['batch_normalization_93[0][0]'] \n",
      "                                                                                                  \n",
      " conv2d_106 (Conv2D)            (None, 8, 8, 640)    3686400     ['activation_93[0][0]']          \n",
      "                                                                                                  \n",
      " batch_normalization_94 (BatchN  (None, 8, 8, 640)   2560        ['conv2d_106[0][0]']             \n",
      " ormalization)                                                                                    \n",
      "                                                                                                  \n",
      " activation_94 (Activation)     (None, 8, 8, 640)    0           ['batch_normalization_94[0][0]'] \n",
      "                                                                                                  \n",
      " conv2d_107 (Conv2D)            (None, 8, 8, 640)    3686400     ['activation_94[0][0]']          \n",
      "                                                                                                  \n",
      " add_45 (Add)                   (None, 8, 8, 640)    0           ['conv2d_107[0][0]',             \n",
      "                                                                  'add_44[0][0]']                 \n",
      "                                                                                                  \n",
      " batch_normalization_95 (BatchN  (None, 8, 8, 640)   2560        ['add_45[0][0]']                 \n",
      " ormalization)                                                                                    \n",
      "                                                                                                  \n",
      " activation_95 (Activation)     (None, 8, 8, 640)    0           ['batch_normalization_95[0][0]'] \n",
      "                                                                                                  \n",
      " conv2d_108 (Conv2D)            (None, 8, 8, 640)    3686400     ['activation_95[0][0]']          \n",
      "                                                                                                  \n",
      " batch_normalization_96 (BatchN  (None, 8, 8, 640)   2560        ['conv2d_108[0][0]']             \n",
      " ormalization)                                                                                    \n",
      "                                                                                                  \n",
      " activation_96 (Activation)     (None, 8, 8, 640)    0           ['batch_normalization_96[0][0]'] \n",
      "                                                                                                  \n",
      " conv2d_109 (Conv2D)            (None, 8, 8, 640)    3686400     ['activation_96[0][0]']          \n",
      "                                                                                                  \n",
      " add_46 (Add)                   (None, 8, 8, 640)    0           ['conv2d_109[0][0]',             \n",
      "                                                                  'add_45[0][0]']                 \n",
      "                                                                                                  \n",
      " batch_normalization_97 (BatchN  (None, 8, 8, 640)   2560        ['add_46[0][0]']                 \n",
      " ormalization)                                                                                    \n",
      "                                                                                                  \n",
      " activation_97 (Activation)     (None, 8, 8, 640)    0           ['batch_normalization_97[0][0]'] \n",
      "                                                                                                  \n",
      " conv2d_110 (Conv2D)            (None, 8, 8, 640)    3686400     ['activation_97[0][0]']          \n",
      "                                                                                                  \n",
      " batch_normalization_98 (BatchN  (None, 8, 8, 640)   2560        ['conv2d_110[0][0]']             \n",
      " ormalization)                                                                                    \n",
      "                                                                                                  \n",
      " activation_98 (Activation)     (None, 8, 8, 640)    0           ['batch_normalization_98[0][0]'] \n",
      "                                                                                                  \n",
      " branch_conv2d (Conv2D)         (None, 30, 30, 160)  230560      ['activation_83[0][0]']          \n",
      "                                                                                                  \n",
      " branch_conv2d_3 (Conv2D)       (None, 14, 14, 320)  921920      ['activation_91[0][0]']          \n",
      "                                                                                                  \n",
      " conv2d_111 (Conv2D)            (None, 8, 8, 640)    3686400     ['activation_98[0][0]']          \n",
      "                                                                                                  \n",
      " branch_batchnorm (BatchNormali  (None, 30, 30, 160)  640        ['branch_conv2d[0][0]']          \n",
      " zation)                                                                                          \n",
      "                                                                                                  \n",
      " branch_batchnorm_2 (BatchNorma  (None, 14, 14, 320)  1280       ['branch_conv2d_3[0][0]']        \n",
      " lization)                                                                                        \n",
      "                                                                                                  \n",
      " add_47 (Add)                   (None, 8, 8, 640)    0           ['conv2d_111[0][0]',             \n",
      "                                                                  'add_46[0][0]']                 \n",
      "                                                                                                  \n",
      " branch_conv2d_1 (Conv2D)       (None, 28, 28, 160)  230560      ['branch_batchnorm[0][0]']       \n",
      "                                                                                                  \n",
      " branch_conv2d_4 (Conv2D)       (None, 12, 12, 320)  921920      ['branch_batchnorm_2[0][0]']     \n",
      "                                                                                                  \n",
      " batch_normalization_99 (BatchN  (None, 8, 8, 640)   2560        ['add_47[0][0]']                 \n",
      " ormalization)                                                                                    \n",
      "                                                                                                  \n",
      " branch_batchnorm_1 (BatchNorma  (None, 28, 28, 160)  640        ['branch_conv2d_1[0][0]']        \n",
      " lization)                                                                                        \n",
      "                                                                                                  \n",
      " branch_batchnorm_3 (BatchNorma  (None, 12, 12, 320)  1280       ['branch_conv2d_4[0][0]']        \n",
      " lization)                                                                                        \n",
      "                                                                                                  \n",
      " activation_99 (Activation)     (None, 8, 8, 640)    0           ['batch_normalization_99[0][0]'] \n",
      "                                                                                                  \n",
      " branch_conv2d_2 (Conv2D)       (None, 26, 26, 360)  518760      ['branch_batchnorm_1[0][0]']     \n",
      "                                                                                                  \n",
      " branch_conv2d_5 (Conv2D)       (None, 10, 10, 440)  1267640     ['branch_batchnorm_3[0][0]']     \n",
      "                                                                                                  \n",
      " average_pooling2d_3 (AveragePo  (None, 8, 8, 640)   0           ['activation_99[0][0]']          \n",
      " oling2D)                                                                                         \n",
      "                                                                                                  \n",
      " branch_avgpool (AveragePooling  (None, 17, 17, 360)  0          ['branch_conv2d_2[0][0]']        \n",
      " 2D)                                                                                              \n",
      "                                                                                                  \n",
      " branch_avgpool_1 (AveragePooli  (None, 7, 7, 440)   0           ['branch_conv2d_5[0][0]']        \n",
      " ng2D)                                                                                            \n",
      "                                                                                                  \n",
      " flatten_3 (Flatten)            (None, 40960)        0           ['average_pooling2d_3[0][0]']    \n",
      "                                                                                                  \n",
      " branch_flatten (Flatten)       (None, 104040)       0           ['branch_avgpool[0][0]']         \n",
      "                                                                                                  \n",
      " branch_flatten_1 (Flatten)     (None, 21560)        0           ['branch_avgpool_1[0][0]']       \n",
      "                                                                                                  \n",
      " dense_3 (Dense)                (None, 10)           409600      ['flatten_3[0][0]']              \n",
      "                                                                                                  \n",
      " branch_exit (Dense)            (None, 10)           1040410     ['branch_flatten[0][0]']         \n",
      "                                                                                                  \n",
      " branch_exit_1 (Dense)          (None, 10)           215610      ['branch_flatten_1[0][0]']       \n",
      "                                                                                                  \n",
      "==================================================================================================\n",
      "Total params: 42,251,556\n",
      "Trainable params: 42,231,684\n",
      "Non-trainable params: 19,872\n",
      "__________________________________________________________________________________________________\n"
     ]
    }
   ],
   "source": [
    "import random\n",
    "seed = 42\n",
    "random.seed(seed)\n",
    "tf.random.set_seed(seed)\n",
    "np.random.seed(seed)\n",
    "tf.keras.backend.clear_session()\n",
    "\n",
    "lambda_callback = lambda_update(1000,0,max_t = 0.01)\n",
    "# branch_loss = brevisEnergy(lambda_callback)\n",
    "branch_loss = keras.losses.CategoricalCrossentropy(from_logits=True)\n",
    "trunk_loss = keras.losses.CategoricalCrossentropy(from_logits=False)\n",
    "# loss = kl_loss(lambda_callback)\n",
    "earlyStop = tf.keras.callbacks.EarlyStopping(monitor=\"val_accuracy\",patience=4,restore_best_weights=True)\n",
    "\n",
    "\n",
    "model = brevis.BranchModel(name=\"./models/wideresnet_.81.hdf5\", custom_objects={})\n",
    "# model.add_branches([_branch_flat,_branch_flat],\n",
    "#                           [\"conv2_block1_out\",\"conv2_block3_out\",\n",
    "#                             # \"dense\"\n",
    "#                           ],\n",
    "#                           target_input=False,loop=False,num_outputs=10)\n",
    "\n",
    "model.add_branches([_branch_conv1,_branch_conv2],\n",
    "                          [\"activation_83\",\"activation_91\",#\"mixed6\"\n",
    "                          ],\n",
    "                          target_input=False,loop=False,num_outputs=10)\n",
    "# model.compile(loss = [trunk_loss,loss_fn,loss_fn], optimizer=tf.optimizers.SGD(learning_rate=0.001, momentum=0.9),metrics=['accuracy'])\n",
    "model.compile(loss=[trunk_loss,branch_loss,branch_loss], \n",
    "                  optimizer=tf.optimizers.SGD(learning_rate=0.001, momentum=0.9),\n",
    "                  # optimizer=\"adam\",\n",
    "              preset=\"\", metrics=['accuracy'])\n",
    "\n",
    "model.summary()\n"
   ]
  },
  {
   "cell_type": "code",
   "execution_count": 56,
   "id": "67ead96e-2332-469c-86c7-c05fabff94c5",
   "metadata": {},
   "outputs": [
    {
     "name": "stdout",
     "output_type": "stream",
     "text": [
      "Freezing Main Layers and setting branch layers training to true\n",
      "annealing coef updated to: 0\n",
      "Epoch 1/5\n",
      "   6/1407 [..............................] - ETA: 4:22 - loss: 5.4299 - dense_3_loss: 0.2489 - branch_exit_loss: 2.5156 - branch_exit_1_loss: 2.3035 - dense_3_accuracy: 0.9010 - branch_exit_accuracy: 0.1250 - branch_exit_1_accuracy: 0.1406WARNING:tensorflow:Callback method `on_train_batch_end` is slow compared to the batch time (batch time: 0.0766s vs `on_train_batch_end` time: 0.1204s). Check your callbacks.\n",
      "1407/1407 [==============================] - 278s 195ms/step - loss: 2.4611 - dense_3_loss: 0.1722 - branch_exit_loss: 1.1862 - branch_exit_1_loss: 0.7447 - dense_3_accuracy: 0.9417 - branch_exit_accuracy: 0.6133 - branch_exit_1_accuracy: 0.7422 - val_loss: 1.9256 - val_dense_3_loss: 0.1696 - val_branch_exit_loss: 0.8319 - val_branch_exit_1_loss: 0.5699 - val_dense_3_accuracy: 0.9412 - val_branch_exit_accuracy: 0.7062 - val_branch_exit_1_accuracy: 0.8080\n",
      "annealing coef updated to: 0.001\n",
      "Epoch 2/5\n",
      "1407/1407 [==============================] - 276s 196ms/step - loss: 1.6505 - dense_3_loss: 0.1219 - branch_exit_loss: 0.7380 - branch_exit_1_loss: 0.4402 - dense_3_accuracy: 0.9618 - branch_exit_accuracy: 0.7438 - branch_exit_1_accuracy: 0.8479 - val_loss: 1.7529 - val_dense_3_loss: 0.1534 - val_branch_exit_loss: 0.7498 - val_branch_exit_1_loss: 0.5030 - val_dense_3_accuracy: 0.9468 - val_branch_exit_accuracy: 0.7352 - val_branch_exit_1_accuracy: 0.8312\n",
      "annealing coef updated to: 0.002\n",
      "Epoch 3/5\n",
      "1407/1407 [==============================] - 276s 196ms/step - loss: 1.3575 - dense_3_loss: 0.1033 - branch_exit_loss: 0.5978 - branch_exit_1_loss: 0.3134 - dense_3_accuracy: 0.9684 - branch_exit_accuracy: 0.7933 - branch_exit_1_accuracy: 0.8915 - val_loss: 1.5034 - val_dense_3_loss: 0.1384 - val_branch_exit_loss: 0.6090 - val_branch_exit_1_loss: 0.4166 - val_dense_3_accuracy: 0.9526 - val_branch_exit_accuracy: 0.7890 - val_branch_exit_1_accuracy: 0.8594\n",
      "annealing coef updated to: 0.003\n",
      "Epoch 4/5\n",
      "1407/1407 [==============================] - 279s 198ms/step - loss: 1.1675 - dense_3_loss: 0.0862 - branch_exit_loss: 0.5185 - branch_exit_1_loss: 0.2270 - dense_3_accuracy: 0.9771 - branch_exit_accuracy: 0.8212 - branch_exit_1_accuracy: 0.9214 - val_loss: 1.5879 - val_dense_3_loss: 0.1656 - val_branch_exit_loss: 0.6227 - val_branch_exit_1_loss: 0.4674 - val_dense_3_accuracy: 0.9452 - val_branch_exit_accuracy: 0.7872 - val_branch_exit_1_accuracy: 0.8466\n",
      "annealing coef updated to: 0.004\n",
      "Epoch 5/5\n",
      "1407/1407 [==============================] - 280s 199ms/step - loss: 1.0221 - dense_3_loss: 0.0753 - branch_exit_loss: 0.4536 - branch_exit_1_loss: 0.1645 - dense_3_accuracy: 0.9812 - branch_exit_accuracy: 0.8442 - branch_exit_1_accuracy: 0.9442 - val_loss: 1.4923 - val_dense_3_loss: 0.1471 - val_branch_exit_loss: 0.5827 - val_branch_exit_1_loss: 0.4372 - val_dense_3_accuracy: 0.9512 - val_branch_exit_accuracy: 0.8044 - val_branch_exit_1_accuracy: 0.8654\n"
     ]
    },
    {
     "data": {
      "text/plain": [
       "<brevis.core_v2.BranchModel at 0x16de3c230c8>"
      ]
     },
     "execution_count": 56,
     "metadata": {},
     "output_type": "execute_result"
    }
   ],
   "source": [
    "model.fit(train_ds, epochs = 5, validation_data=validation_ds, transfer=True,callbacks=[lambda_callback])"
   ]
  },
  {
   "cell_type": "code",
   "execution_count": 57,
   "id": "3bede128-b080-45d0-b619-2c6e18c2c908",
   "metadata": {},
   "outputs": [
    {
     "name": "stdout",
     "output_type": "stream",
     "text": [
      "313/313 [==============================] - 19s 59ms/step - loss: 1.9134 - dense_3_loss: 0.4517 - branch_exit_loss: 0.6131 - branch_exit_1_loss: 0.5233 - dense_3_accuracy: 0.8630 - branch_exit_accuracy: 0.7911 - branch_exit_1_accuracy: 0.8391\n"
     ]
    },
    {
     "data": {
      "text/plain": [
       "[1.9133697748184204,\n",
       " 0.45171138644218445,\n",
       " 0.6130933165550232,\n",
       " 0.5233008861541748,\n",
       " 0.8629999756813049,\n",
       " 0.791100025177002,\n",
       " 0.8391000032424927]"
      ]
     },
     "execution_count": 57,
     "metadata": {},
     "output_type": "execute_result"
    }
   ],
   "source": [
    "model.evaluate(test_ds)"
   ]
  },
  {
   "cell_type": "code",
   "execution_count": 58,
   "id": "2afd5d43-5e44-413f-b697-315db34f9537",
   "metadata": {},
   "outputs": [],
   "source": [
    "model.save(\"./models/journal_models/wideresnet_B_conv3_5.hdf5\")"
   ]
  },
  {
   "cell_type": "markdown",
   "id": "bcd0a6a2-77ad-4e30-b7fe-50d20d3cbdeb",
   "metadata": {},
   "source": [
    "## Get the Branch output results\n",
    "Collect the branch output results for both the ID and OOD test sets then evaluate the results."
   ]
  },
  {
   "cell_type": "code",
   "execution_count": 59,
   "id": "6a87a35b-96af-492b-bdb5-c424fb2c8dfb",
   "metadata": {},
   "outputs": [
    {
     "name": "stdout",
     "output_type": "stream",
     "text": [
      "outputs 3\n",
      "prediction: 312 of 313\r"
     ]
    }
   ],
   "source": [
    "output_ID_old= evaluate.getPredictions_Energy(model, test_ds,stopping_point=None)\n",
    "for i in output_ID_old:\n",
    "    i['outlier']=0\n"
   ]
  },
  {
   "cell_type": "code",
   "execution_count": 60,
   "id": "9e5cd3ef-4c81-423f-8828-d4daa22271ae",
   "metadata": {},
   "outputs": [
    {
     "name": "stdout",
     "output_type": "stream",
     "text": [
      "outputs 3\n",
      "prediction: 312 of 313\r"
     ]
    }
   ],
   "source": [
    "output_OOD_old = evaluate.getPredictions_Energy(model, test_ds100,stopping_point=None)\n",
    "for i in output_OOD_old:\n",
    "    i['correct']=0\n",
    "    i['outlier']=1"
   ]
  },
  {
   "cell_type": "code",
   "execution_count": 63,
   "id": "692765b4-2427-459b-bdbc-1017955c03cd",
   "metadata": {},
   "outputs": [],
   "source": [
    "def save_outputs(filename,outputs):\n",
    "    from openpyxl import Workbook\n",
    "    wb= Workbook()\n",
    "    ws=wb.active\n",
    "    with pd.ExcelWriter('./csv/'+filename+'.xlsx', engine=\"openpyxl\") as writer:\n",
    "        writer.book=wb\n",
    "        writer.sheets = dict((ws.title, ws) for ws in wb.worksheets)\n",
    "\n",
    "        #useful code\n",
    "        for i, df in enumerate(outputs):\n",
    "            name = \"exit{}\".format(i+1)\n",
    "            df.to_excel(writer, name)\n",
    "        # df.to_excel(writer, sheet, ...)\n",
    "        writer.save()\n",
    "    wb.close()\n",
    "    \n",
    "def read_outputs(fileName):\n",
    "    output_test = list(pd.read_excel('./csv/'+fileName+'.xlsx',['exit1','exit2','exit3']).values())\n",
    "    # for i in output_test:\n",
    "        # print(i.head())\n",
    "    return output_test\n",
    "filename = 'wideresnet_B_conv3_5'\n",
    "save_outputs(filename+'_ID',output_ID_old)\n",
    "save_outputs(filename+'_OOD',output_OOD_old)\n",
    "# save_outputs(filename+'_OOD_SVHN',output_OOD_SVHN)"
   ]
  },
  {
   "cell_type": "markdown",
   "id": "edea075f-8b39-414d-9a39-61b1221feab2",
   "metadata": {},
   "source": [
    "### T/F in distribution performance\n",
    "<hr>"
   ]
  },
  {
   "cell_type": "code",
   "execution_count": 64,
   "id": "f4870f3f-bcef-4cf5-bcbe-42185fb99abc",
   "metadata": {},
   "outputs": [
    {
     "name": "stdout",
     "output_type": "stream",
     "text": [
      "metric:  energy threshold:  mean\n",
      "['exit_1', 'exit_2']\n",
      "3766 inputs accepted 3546 Correct\n"
     ]
    },
    {
     "data": {
      "image/png": "[encoded data removed]",
      "text/plain": [
       "<Figure size 432x288 with 1 Axes>"
      ]
     },
     "metadata": {},
     "output_type": "display_data"
    },
    {
     "name": "stdout",
     "output_type": "stream",
     "text": [
      "-----------------\n",
      "rollover enabled, 6234 predictions provided\n",
      "['exit_1', 'exit_2']\n",
      "890 inputs accepted 856 Correct\n"
     ]
    },
    {
     "data": {
      "image/png": "[encoded data removed]",
      "text/plain": [
       "<Figure size 432x288 with 1 Axes>"
      ]
     },
     "metadata": {},
     "output_type": "display_data"
    },
    {
     "name": "stdout",
     "output_type": "stream",
     "text": [
      "-----------------\n",
      "rollover enabled, 5344 predictions provided\n",
      "main_exit\n",
      "5344 inputs accepted 4133 Correct\n"
     ]
    },
    {
     "data": {
      "image/png": "[encoded data removed]",
      "text/plain": [
       "<Figure size 432x288 with 1 Axes>"
      ]
     },
     "metadata": {},
     "output_type": "display_data"
    },
    {
     "name": "stdout",
     "output_type": "stream",
     "text": [
      "-----------------\n",
      "   Exit_Name  Predictions  Test_Accuracy  RollOver_Accuracy  Threshold  Accepted  Accepted_Correct  Accepted_Ratio  Acceptance_Accuracy\n",
      "0     exit_1        10000         0.7911           0.791100  -8.180323      3766              3546        0.376600             0.941583\n",
      "1     exit_2         6234         0.8391           0.769811 -13.332321       890               856        0.142765             0.961798\n",
      "2  Main_exit         5344         0.8630           0.773391  -2.455151      5344              4133        1.000000             0.773391\n"
     ]
    }
   ],
   "source": [
    "evaluate.calculateBranching(output_ID_old,threshold=\"mean\",metrics=[\"energy\"],main_exit_included=True,plot=True)\n"
   ]
  },
  {
   "cell_type": "code",
   "execution_count": 67,
   "id": "280345c8-2289-422b-9fe3-657354158ea0",
   "metadata": {},
   "outputs": [
    {
     "name": "stdout",
     "output_type": "stream",
     "text": [
      "metric:  entropy threshold:  PR_AUC\n",
      "['exit_1', 'exit_2']\n",
      "['exit_1', 'exit_2']\n",
      "   Exit_Name  Predictions  Test_Accuracy  RollOver_Accuracy  Threshold  Accepted  Accepted_Correct  Accepted_Ratio  Acceptance_Accuracy\n",
      "0     exit_1        10000         0.7911           0.791100   0.082291      2090              2074        0.209000             0.992344\n",
      "1     exit_2         7910         0.8391           0.798609   0.000280       467               467        0.059039             1.000000\n",
      "2  Main_exit         7443         0.8630           0.817815   3.216030      7443              6087        1.000000             0.817815\n",
      "metric:  entropy threshold:  mean\n",
      "['exit_1', 'exit_2']\n",
      "['exit_1', 'exit_2']\n",
      "   Exit_Name  Predictions  Test_Accuracy  RollOver_Accuracy  Threshold  Accepted  Accepted_Correct  Accepted_Ratio  Acceptance_Accuracy\n",
      "0     exit_1        10000         0.7911           0.791100   0.575167      5029              4821        0.502900             0.958640\n",
      "1     exit_2         4971         0.8391           0.720579   0.236752      1899              1758        0.382016             0.925750\n",
      "2  Main_exit         3072         0.8630           0.666341   3.227570      3072              2047        1.000000             0.666341\n",
      "metric:  entropy threshold:  gmean\n",
      "entropy  lr_auc 0.16445812706087148 Best Threshold=0.8972830176353455, G-Mean=0.7645101998811973, TPR=0.807084729535663, FPR=0.2758184805966376\n",
      "['exit_1', 'exit_2']\n",
      "entropy  lr_auc 0.12139793745985053 Best Threshold=0.37548986077308655, G-Mean=0.8047487904576408, TPR=0.8247358607830951, FPR=0.2147539029913002\n",
      "['exit_1', 'exit_2']\n",
      "entropy  lr_auc 0.11565604621461376 Best Threshold=3.228971481323242, G-Mean=0.8169809927424195, TPR=0.8598540145985402, FPR=0.22375434530706836\n",
      "   Exit_Name  Predictions  Test_Accuracy  RollOver_Accuracy  Threshold  Accepted  Accepted_Correct  Accepted_Ratio  Acceptance_Accuracy\n",
      "0     exit_1        10000         0.7911           0.791100   0.897283      6133              5729        0.613300             0.934127\n",
      "1     exit_2         3867         0.8391           0.685803   0.375490      1517              1366        0.392294             0.900461\n",
      "2  Main_exit         2350         0.8630           0.632766   3.228971      2350              1487        1.000000             0.632766\n"
     ]
    }
   ],
   "source": [
    "evaluate.calculateBranching(output_ID_old,threshold=\"PR_AUC\",metrics=[\"entropy\"],main_exit_included=True,plot=False)\n",
    "evaluate.calculateBranching(output_ID_old,threshold=\"mean\",metrics=[\"entropy\"],main_exit_included=True,plot=False)\n",
    "evaluate.calculateBranching(output_ID_old,threshold=\"gmean\",metrics=[\"entropy\"],main_exit_included=True,plot=False)\n"
   ]
  },
  {
   "cell_type": "markdown",
   "id": "39188c43-47a6-48c0-9a46-1cf67455f398",
   "metadata": {},
   "source": [
    "### ID/OOD branch performance\n",
    "<hr>"
   ]
  },
  {
   "cell_type": "code",
   "execution_count": 66,
   "id": "51a23205-ec87-45df-9db3-c71f99d11893",
   "metadata": {},
   "outputs": [
    {
     "name": "stdout",
     "output_type": "stream",
     "text": [
      "metric:  entropy threshold:  PR_AUC\n",
      "['exit_1', 'exit_2']\n",
      "['exit_1', 'exit_2']\n",
      "   Exit_Name  ID_Inputs  OOD_Inputs  Test_Accuracy Threshold  Accepted ID  Accepted OOD  Accepted_Correct  Accepted_ID_Ratio  Acceptance_Accuracy\n",
      "0     exit_1      10000       10000         0.7911  0.082291         2090           198              2074           0.913462             0.906469\n",
      "1     exit_2       7910        9802         0.8391   0.00028          467            31               467           0.937751             0.937751\n",
      "2  Main_exit       7443        9771         0.8630        NA         7443          9771              6087           0.432381             0.353608\n",
      "metric:  entropy threshold:  mean\n",
      "['exit_1', 'exit_2']\n",
      "['exit_1', 'exit_2']\n",
      "   Exit_Name  ID_Inputs  OOD_Inputs  Test_Accuracy Threshold  Accepted ID  Accepted OOD  Accepted_Correct  Accepted_ID_Ratio  Acceptance_Accuracy\n",
      "0     exit_1      10000       10000         0.7911  0.575167         5029          1397              4821           0.782602             0.750233\n",
      "1     exit_2       4971        8603         0.8391  0.236752         1899          1198              1758           0.613174             0.567646\n",
      "2  Main_exit       3072        7405         0.8630        NA         3072          7405              2047           0.293214             0.195380\n",
      "metric:  entropy threshold:  gmean\n",
      "entropy  lr_auc 0.16445812706087148 Best Threshold=0.8972830176353455, G-Mean=0.7645101998811973, TPR=0.807084729535663, FPR=0.2758184805966376\n",
      "['exit_1', 'exit_2']\n",
      "entropy  lr_auc 0.12139793745985053 Best Threshold=0.37548986077308655, G-Mean=0.8047487904576408, TPR=0.8247358607830951, FPR=0.2147539029913002\n",
      "['exit_1', 'exit_2']\n",
      "entropy  lr_auc 0.11565604621461376 Best Threshold=3.228971481323242, G-Mean=0.8169809927424195, TPR=0.8598540145985402, FPR=0.22375434530706836\n",
      "   Exit_Name  ID_Inputs  OOD_Inputs  Test_Accuracy Threshold  Accepted ID  Accepted OOD  Accepted_Correct  Accepted_ID_Ratio  Acceptance_Accuracy\n",
      "0     exit_1      10000       10000         0.7911  0.897283         6133          2358              5729           0.722294             0.674714\n",
      "1     exit_2       3867        7642         0.8391   0.37549         1517          1363              1366           0.526736             0.474306\n",
      "2  Main_exit       2350        6279         0.8630        NA         2350          6279              1487           0.272337             0.172326\n"
     ]
    }
   ],
   "source": [
    "# buildCompareDistribPlot(output_ID, output_OOD, [\"energy\"], \"PR_AUC\",plot=False)\n",
    "\n",
    "evaluate.buildCompareDistribPlot(output_ID_old, output_OOD_old, [\"entropy\"], \"PR_AUC\",plot=False)\n",
    "evaluate.buildCompareDistribPlot(output_ID_old, output_OOD_old, [\"entropy\"], \"mean\",plot=False)\n",
    "evaluate.buildCompareDistribPlot(output_ID_old, output_OOD_old, [\"entropy\"], \"gmean\",plot=False)\n",
    "\n",
    "# buildCompareDistribPlot(output_ID, output_OOD, [\"calibration\"], \"PR_AUC\",plot=False)"
   ]
  },
  {
   "cell_type": "code",
   "execution_count": null,
   "id": "f7fda452-1ad9-44c3-98f1-66abb04122f6",
   "metadata": {},
   "outputs": [],
   "source": []
  },
  {
   "cell_type": "code",
   "execution_count": null,
   "id": "a9a685b5-44f3-467f-89c8-af732f310f32",
   "metadata": {},
   "outputs": [],
   "source": [
    "calc_auc_OOD(output_ID_old, output_OOD_old, [\"entropy\"], \"mean\",OOD_rate=[.1,.2,.5,1],plot=False)\n"
   ]
  },
  {
   "cell_type": "markdown",
   "id": "53a535fa-71e7-4169-b22e-e8a92159b03f",
   "metadata": {},
   "source": [
    "### Calibration \n",
    "<hr>"
   ]
  },
  {
   "cell_type": "code",
   "execution_count": null,
   "id": "3a6bd83d-79d0-4c99-a835-fac6121fe898",
   "metadata": {},
   "outputs": [
    {
     "name": "stdout",
     "output_type": "stream",
     "text": [
      "metric:  calibration threshold:  PR_AUC\n",
      "['exit_1', 'exit_2']\n",
      "['exit_1', 'exit_2']\n",
      "   Exit_Name  Predictions  Test_Accuracy  RollOver_Accuracy  Threshold  Accepted  Accepted_Correct  Accepted_Ratio  Acceptance_Accuracy\n",
      "0     exit_1        10000         0.7911           0.791100   0.614095      7911              6945        0.791100             0.877892\n",
      "1     exit_2         2089         0.8391           0.626137   0.763845      1256               951        0.601245             0.757166\n",
      "2  Main_exit          833         0.8630           0.579832   0.181627       833               483        1.000000             0.579832\n",
      "metric:  calibration threshold:  mean\n",
      "['exit_1', 'exit_2']\n",
      "['exit_1', 'exit_2']\n",
      "   Exit_Name  Predictions  Test_Accuracy  RollOver_Accuracy  Threshold  Accepted  Accepted_Correct  Accepted_Ratio  Acceptance_Accuracy\n",
      "0     exit_1        10000         0.7911           0.791100   0.866677      5553              5265        0.555300             0.948136\n",
      "1     exit_2         4447         0.8391           0.705869   0.944337      1859              1690        0.418035             0.909091\n",
      "2  Main_exit         2588         0.8630           0.644127   0.221773      2588              1667        1.000000             0.644127\n",
      "metric:  calibration threshold:  gmean\n",
      "calibration  lr_auc 0.8401581524570951 Best Threshold=0.8064189553260803, G-Mean=0.7700044699350568, TPR=0.7359373024902035, FPR=0.19435136428913355\n",
      "['exit_1', 'exit_2']\n",
      "calibration  lr_auc 0.8793417049357168 Best Threshold=0.9506756663322449, G-Mean=0.8031338718778306, TPR=0.7682040281253725, FPR=0.1603480422622747\n",
      "['exit_1', 'exit_2']\n",
      "calibration  lr_auc 0.8841138110986121 Best Threshold=0.2226978838443756, G-Mean=0.8171029393051918, TPR=0.7764774044032445, FPR=0.14014598540145987\n",
      "   Exit_Name  Predictions  Test_Accuracy  RollOver_Accuracy  Threshold  Accepted  Accepted_Correct  Accepted_Ratio  Acceptance_Accuracy\n",
      "0     exit_1        10000         0.7911           0.791100   0.806419      6228              5822        0.622800             0.934811\n",
      "1     exit_2         3772         0.8391           0.681601   0.950676      1387              1244        0.367709             0.896900\n",
      "2  Main_exit         2385         0.8630           0.640671   0.222698      2385              1528        1.000000             0.640671\n"
     ]
    }
   ],
   "source": [
    "evaluate.calculateBranching(output_ID_old,threshold=\"PR_AUC\",metrics=[\"calibration\"],main_exit_included=True,plot=False)\n",
    "evaluate.calculateBranching(output_ID_old,threshold=\"mean\",metrics=[\"calibration\"],main_exit_included=True,plot=False)\n",
    "evaluate.calculateBranching(output_ID_old,threshold=\"gmean\",metrics=[\"calibration\"],main_exit_included=True,plot=False)\n"
   ]
  },
  {
   "cell_type": "code",
   "execution_count": null,
   "id": "e0b6d3eb-a916-4cf5-b8c3-9f71416352ec",
   "metadata": {},
   "outputs": [],
   "source": []
  },
  {
   "cell_type": "code",
   "execution_count": 69,
   "id": "bb27d65e-7326-4151-a359-c0322c923468",
   "metadata": {},
   "outputs": [
    {
     "name": "stdout",
     "output_type": "stream",
     "text": [
      "metric:  calibration threshold:  PR_AUC\n",
      "['exit_1', 'exit_2']\n",
      "['exit_1', 'exit_2']\n",
      "   Exit_Name  ID_Inputs  OOD_Inputs  Test_Accuracy Threshold  Accepted ID  Accepted OOD  Accepted_Correct  Accepted_ID_Ratio  Acceptance_Accuracy\n",
      "0     exit_1      10000       10000         0.7911  0.614095         7911          5239              6945           0.601597             0.528137\n",
      "1     exit_2       2089        4761         0.8391  0.763845         1256          1994               951           0.386462             0.292615\n",
      "2  Main_exit        833        2767         0.8630        NA          833          2767               483           0.231389             0.134167\n",
      "metric:  calibration threshold:  mean\n",
      "['exit_1', 'exit_2']\n",
      "['exit_1', 'exit_2']\n",
      "   Exit_Name  ID_Inputs  OOD_Inputs  Test_Accuracy Threshold  Accepted ID  Accepted OOD  Accepted_Correct  Accepted_ID_Ratio  Acceptance_Accuracy\n",
      "0     exit_1      10000       10000         0.7911  0.866677         5553          1932              5265           0.741884             0.703407\n",
      "1     exit_2       4447        8068         0.8391  0.944337         1859          1530              1690           0.548539             0.498672\n",
      "2  Main_exit       2588        6538         0.8630        NA         2588          6538              1667           0.283585             0.182665\n",
      "metric:  calibration threshold:  gmean\n",
      "calibration  lr_auc 0.8401581524570951 Best Threshold=0.8064189553260803, G-Mean=0.7700044699350568, TPR=0.7359373024902035, FPR=0.19435136428913355\n",
      "['exit_1', 'exit_2']\n",
      "calibration  lr_auc 0.8793417049357168 Best Threshold=0.9506756663322449, G-Mean=0.8031338718778306, TPR=0.7682040281253725, FPR=0.1603480422622747\n",
      "['exit_1', 'exit_2']\n",
      "calibration  lr_auc 0.8841138110986121 Best Threshold=0.2226978838443756, G-Mean=0.8171029393051918, TPR=0.7764774044032445, FPR=0.14014598540145987\n",
      "   Exit_Name  ID_Inputs  OOD_Inputs  Test_Accuracy Threshold  Accepted ID  Accepted OOD  Accepted_Correct  Accepted_ID_Ratio  Acceptance_Accuracy\n",
      "0     exit_1      10000       10000         0.7911  0.806419         6228          2627              5822           0.703331             0.657482\n",
      "1     exit_2       3772        7373         0.8391  0.950676         1387          1201              1244           0.535935             0.480680\n",
      "2  Main_exit       2385        6172         0.8630        NA         2385          6172              1528           0.278719             0.178567\n"
     ]
    }
   ],
   "source": [
    "# buildCompareDistribPlot(output_ID, output_OOD, [\"energy\"], \"PR_AUC\",plot=False)\n",
    "\n",
    "evaluate.buildCompareDistribPlot(output_ID_old, output_OOD_old, [\"calibration\"], \"PR_AUC\",plot=False)\n",
    "evaluate.buildCompareDistribPlot(output_ID_old, output_OOD_old, [\"calibration\"], \"mean\",plot=False)\n",
    "evaluate.buildCompareDistribPlot(output_ID_old, output_OOD_old, [\"calibration\"], \"gmean\",plot=False)\n",
    "\n",
    "# buildCompareDistribPlot(output_ID, output_OOD, [\"calibration\"], \"PR_AUC\",plot=False)"
   ]
  },
  {
   "cell_type": "code",
   "execution_count": 74,
   "id": "31893468-55f0-4634-84d5-46dbc2046890",
   "metadata": {},
   "outputs": [
    {
     "ename": "NameError",
     "evalue": "name 'calc_auc_OOD' is not defined",
     "output_type": "error",
     "traceback": [
      "\u001b[1;31m---------------------------------------------------------------------------\u001b[0m",
      "\u001b[1;31mNameError\u001b[0m                                 Traceback (most recent call last)",
      "\u001b[1;32m~\\AppData\\Local\\Temp/ipykernel_18152/516860293.py\u001b[0m in \u001b[0;36m<module>\u001b[1;34m\u001b[0m\n\u001b[1;32m----> 1\u001b[1;33m \u001b[0mcalc_auc_OOD\u001b[0m\u001b[1;33m(\u001b[0m\u001b[0moutput_ID_old\u001b[0m\u001b[1;33m,\u001b[0m \u001b[0moutput_OOD_old\u001b[0m\u001b[1;33m,\u001b[0m \u001b[1;33m[\u001b[0m\u001b[1;34m\"calibration\"\u001b[0m\u001b[1;33m]\u001b[0m\u001b[1;33m,\u001b[0m \u001b[1;34m\"mean\"\u001b[0m\u001b[1;33m,\u001b[0m\u001b[0mOOD_rate\u001b[0m\u001b[1;33m=\u001b[0m\u001b[1;33m[\u001b[0m\u001b[1;36m.1\u001b[0m\u001b[1;33m,\u001b[0m\u001b[1;36m.2\u001b[0m\u001b[1;33m,\u001b[0m\u001b[1;36m.5\u001b[0m\u001b[1;33m,\u001b[0m\u001b[1;36m1\u001b[0m\u001b[1;33m]\u001b[0m\u001b[1;33m,\u001b[0m\u001b[0mplot\u001b[0m\u001b[1;33m=\u001b[0m\u001b[1;32mTrue\u001b[0m\u001b[1;33m)\u001b[0m\u001b[1;33m\u001b[0m\u001b[1;33m\u001b[0m\u001b[0m\n\u001b[0m",
      "\u001b[1;31mNameError\u001b[0m: name 'calc_auc_OOD' is not defined"
     ]
    }
   ],
   "source": [
    "calc_auc_OOD(output_ID_old, output_OOD_old, [\"calibration\"], \"mean\",OOD_rate=[.1,.2,.5,1],plot=True)\n"
   ]
  },
  {
   "cell_type": "code",
   "execution_count": null,
   "id": "4719a190-b504-43e2-9755-6f3ca8e9a0d2",
   "metadata": {},
   "outputs": [],
   "source": []
  },
  {
   "cell_type": "code",
   "execution_count": null,
   "id": "4a320770-3da5-4b63-acc3-57e91fc97b81",
   "metadata": {},
   "outputs": [],
   "source": []
  },
  {
   "cell_type": "code",
   "execution_count": null,
   "id": "ee3040cf-b252-4a34-a511-a9568509e04d",
   "metadata": {},
   "outputs": [],
   "source": []
  }
 ],
 "metadata": {
  "kernelspec": {
   "display_name": "py36",
   "language": "python",
   "name": "py36"
  },
  "language_info": {
   "codemirror_mode": {
    "name": "ipython",
    "version": 3
   },
   "file_extension": ".py",
   "mimetype": "text/x-python",
   "name": "python",
   "nbconvert_exporter": "python",
   "pygments_lexer": "ipython3",
   "version": "3.7.11"
  }
 },
 "nbformat": 4,
 "nbformat_minor": 5
}
