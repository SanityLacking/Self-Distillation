{
 "cells": [
  {
   "cell_type": "code",
   "execution_count": null,
   "metadata": {},
   "outputs": [],
   "source": [
    "def _get_min_depth(node):\n",
    "      \"\"\"Gets the minimum depth at which node can be computed.\"\"\"\n",
    "      min_depth = 0\n",
    "      for layer, node_id, _, _ in node.iterate_inbound(include_arguments=True):\n",
    "        inbound_node = layer._inbound_nodes[node_id]\n",
    "        if inbound_node in node_to_depth:\n",
    "          min_depth = min(min_depth, node_to_depth[inbound_node])\n",
    "        elif inbound_node not in network_nodes:\n",
    "          continue\n",
    "        else:\n",
    "          # Previous relevant nodes haven't been processed yet.\n",
    "          return None\n",
    "      # New node is one shallower than its shallowest input.\n",
    "      return min_depth - 1\n",
    "\n",
    "    # Insert nodes into `_nodes_by_depth` and other node attrs.\n",
    "    unprocessed_nodes = copy.copy(relevant_nodes)\n",
    "    i = 0\n",
    "    while unprocessed_nodes:\n",
    "      i += 1\n",
    "      # Do a sanity check. This can occur if `Input`s from outside this Model\n",
    "      # are being relied on.\n",
    "      if i > 10000:\n",
    "        raise ValueError('Layers could not be added due to missing '\n",
    "                         'dependencies.')\n",
    "\n",
    "      node = unprocessed_nodes.pop(0)\n",
    "      depth = _get_min_depth(node)\n",
    "      if depth is None:  # Defer until inbound nodes are processed.\n",
    "        unprocessed_nodes.append(node)\n",
    "        continue\n",
    "      node_key = _make_node_key(node.outbound_layer.name,\n",
    "                                node.outbound_layer._inbound_nodes.index(node))\n",
    "      if node_key not in self._network_nodes:\n",
    "        node_to_depth[node] = depth\n",
    "        self._network_nodes.add(node_key)\n",
    "        self._nodes_by_depth[depth].append(node)\n",
    "\n",
    "    # Insert layers and update other layer attrs.\n",
    "    layer_set = set(self._layers)\n",
    "    deferred_layers = []\n",
    "    for layer in layers:\n",
    "      if layer not in layer_set:\n",
    "        self._layers.append(layer)\n",
    "        deferred_layers.append(layer)\n",
    "        self._layer_call_argspecs[layer] = tf_inspect.getfullargspec(layer.call)\n",
    "\n",
    "        # This allows the added layer to broadcast mutations to the current\n",
    "        # layer, which is necessary to ensure cache correctness.\n",
    "        layer._attribute_sentinel.add_parent(self._attribute_sentinel)\n",
    "        layer_set.add(layer)\n",
    "    self._handle_deferred_layer_dependencies(deferred_layers)\n",
    "\n",
    "    self._compute_tensor_usage_count()"
   ]
  },
  {
   "cell_type": "code",
   "execution_count": null,
   "metadata": {},
   "outputs": [],
   "source": [
    "# Build a dict {depth: list of nodes with this depth}\n",
    "  nodes_by_depth = collections.defaultdict(list)\n",
    "  for node, depth in nodes_depths.items():\n",
    "    nodes_by_depth[depth].append(node)\n",
    "\n",
    "  # Build a dict {depth: list of layers with this depth}\n",
    "  layers_by_depth = collections.defaultdict(list)\n",
    "  for layer, depth in layers_depths.items():\n",
    "    layers_by_depth[depth].append(layer)"
   ]
  },
  {
   "cell_type": "code",
   "execution_count": null,
   "metadata": {},
   "outputs": [],
   "source": []
  },
  {
   "cell_type": "code",
   "execution_count": 15,
   "metadata": {},
   "outputs": [
    {
     "name": "stdout",
     "output_type": "stream",
     "text": [
      "child\n",
      "child\n"
     ]
    }
   ],
   "source": [
    "class grandparent():\n",
    "    def foo(self):\n",
    "        print(\"grand\")\n",
    "        \n",
    "    def bar(self):\n",
    "        self.foo()\n",
    "        \n",
    "class parent(grandparent):\n",
    "    def foo(self):\n",
    "        print(\"parent\")\n",
    "    \n",
    "class child(parent):\n",
    "    def __init__(self):\n",
    "        super(parent, self).__init__()\n",
    "        self.foo()\n",
    "        \n",
    "        \n",
    "    def foo(self):\n",
    "        print(\"child\")\n",
    "    def c(self):\n",
    "        print(\"child\")\n",
    "\n",
    "x = child()\n",
    "x.bar()"
   ]
  },
  {
   "cell_type": "code",
   "execution_count": null,
   "metadata": {},
   "outputs": [],
   "source": []
  }
 ],
 "metadata": {
  "kernelspec": {
   "display_name": "py36",
   "language": "python",
   "name": "py36"
  },
  "language_info": {
   "codemirror_mode": {
    "name": "ipython",
    "version": 3
   },
   "file_extension": ".py",
   "mimetype": "text/x-python",
   "name": "python",
   "nbconvert_exporter": "python",
   "pygments_lexer": "ipython3",
   "version": "3.7.11"
  }
 },
 "nbformat": 4,
 "nbformat_minor": 2
}
