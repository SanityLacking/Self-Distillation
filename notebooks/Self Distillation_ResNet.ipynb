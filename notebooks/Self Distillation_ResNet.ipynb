{
 "cells": [
  {
   "cell_type": "markdown",
   "metadata": {},
   "source": [
    "# Self Distillation rebuilt\n",
    "\n",
    "## A new from the ground attempt at self distillation to try to sort out some of the issues that we faced in previous builds and testing.\n",
    "\n",
    "## A new notebook for a new year.\n",
    "---\n",
    "## Primary issues\n",
    "The main problems faced previously were to do with establishing a baseline of performance of a model to compare the self distilation work against. \n"
   ]
  },
  {
   "cell_type": "markdown",
   "metadata": {},
   "source": [
    "---\n"
   ]
  },
  {
   "cell_type": "code",
   "execution_count": 1,
   "metadata": {},
   "outputs": [],
   "source": [
    "import tensorflow as tf\n",
    "import numpy as np\n",
    "from tensorflow import keras\n",
    "from tensorflow.keras import layers\n",
    "import pandas as pd\n",
    "import matplotlib.pyplot as plt\n",
    "import sys\n",
    "sys.path.append(\"..\") # Adds higher directory to python modules path.\n",
    "import os\n",
    "import numpy as np\n",
    "import sys\n",
    "import os\n",
    "\n",
    "from skimage.filters import gaussian as gblur\n",
    "from PIL import Image as PILImage\n",
    "\n",
    "sys.path.append(\"..\") # Adds higher directory to python modules path.\n",
    "import brevis\n",
    "from brevis import branches\n",
    "from brevis import evaluate\n",
    "import tensorflow_probability as tfp\n",
    "\n",
    "os.environ['TF_DETERMINISTIC_OPS'] = '1'\n"
   ]
  },
  {
   "cell_type": "code",
   "execution_count": 2,
   "metadata": {},
   "outputs": [],
   "source": [
    "from tensorflow.keras import layers, models\n",
    "\n",
    "def summarize_keras_trainable_variables(model, message):\n",
    "    s = sum(map(lambda x: x.sum(), model.get_weights()))\n",
    "    print(\"summary of trainable variables %s: %.13f\" % (message, s))\n",
    "    return s\n"
   ]
  },
  {
   "cell_type": "code",
   "execution_count": 3,
   "metadata": {},
   "outputs": [
    {
     "name": "stdout",
     "output_type": "stream",
     "text": [
      "augment Dataset\n",
      "targetsis : False\n",
      "trainSize 45000\n",
      "testSize 10000\n"
     ]
    }
   ],
   "source": [
    "train_ds, test_ds, validation_ds = brevis.dataset.prepare.dataset(tf.keras.datasets.cifar10.load_data(),32,5000,shuffle_size=15000,input_size=(32,32),include_targets=False,num_outputs = 10,reshuffle=False)"
   ]
  },
  {
   "cell_type": "code",
   "execution_count": 4,
   "metadata": {},
   "outputs": [
    {
     "name": "stdout",
     "output_type": "stream",
     "text": [
      "augment Dataset\n",
      "targetsis : False\n",
      "trainSize 45000\n",
      "testSize 10000\n"
     ]
    }
   ],
   "source": [
    "# import tensorflow_datasets as tfds\n",
    "# ds = tfds.load('svhn_cropped', split='train', shuffle_files=True)\n",
    "# assert isinstance(ds, tf.data.Dataset)\n",
    "train_ds100, test_ds100, validation_ds100 = brevis.dataset.prepare.dataset(tf.keras.datasets.cifar100.load_data(label_mode=\"fine\"),32,5000,shuffle_size=15000,input_size=(32,32),include_targets=False,num_outputs = 100,reshuffle=True)"
   ]
  },
  {
   "cell_type": "code",
   "execution_count": 5,
   "metadata": {},
   "outputs": [],
   "source": [
    "\n",
    "class lambda_update(tf.keras.callbacks.Callback):\n",
    "    def __init__(self, annealing_max,  lambda_t=0, max_t=1, starting_epoch = 0):\n",
    "        self.starting_epoch = starting_epoch\n",
    "        self.start_val = tf.Variable(initial_value=lambda_t, dtype=tf.float32) \n",
    "        \n",
    "        self.lambda_t = tf.Variable(initial_value=lambda_t, dtype=tf.float32) #updates each epoch\n",
    "        self.max_t = tf.Variable(initial_value=max_t, dtype=tf.float32)\n",
    "        self.annealing_max = tf.Variable(initial_value=annealing_max, dtype=tf.float32)\n",
    "\n",
    "    def on_epoch_begin(self, epoch, logs={}): #needs to be on begin, otherwise the epoch update won't increase the value from 0 to 0.1 till the 3rd epoch...\n",
    "        val = 0\n",
    "        if epoch >= self.starting_epoch:\n",
    "            val = tf.reduce_min([self.max_t, tf.cast((epoch - self.starting_epoch) +self.start_val , tf.dtypes.float32) / tf.cast(self.annealing_max, tf.dtypes.float32)])\n",
    "        tf.print(\"annealing coef updated to:\", val)\n",
    "        self.lambda_t.assign(val)\n",
    "        \n",
    "class growth_update(lambda_update):\n",
    "    ''' callback update method that checks the performance of the model against the validation set to decide if the annealing coef should be increased.\n",
    "        provides greater control of the additional loss elements by updating their hyperparameters inteligently, rather then with only a preset schedule.\n",
    "        \n",
    "    '''\n",
    "    def __init__(self, annealing_max,  lambda_t=0, max_t=1, starting_epoch = 0):\n",
    "        self.starting_epoch = starting_epoch\n",
    "        self.start_val = tf.Variable(initial_value=lambda_t, dtype=tf.float32) \n",
    "        \n",
    "        self.step = tf.Variable(initial_value = 0,dtype=tf.float32)\n",
    "        self.lambda_t = tf.Variable(initial_value=lambda_t, dtype=tf.float32) #updates each epoch\n",
    "        self.max_t = tf.Variable(initial_value=max_t, dtype=tf.float32)\n",
    "        self.annealing_max = tf.Variable(initial_value=annealing_max, dtype=tf.float32)\n",
    "        self.training = tf.Variable(initial_value=False, dtype=tf.bool)              \n",
    "        self.past_val_acc= tf.Variable(initial_value =0, dtype=tf.float32)\n",
    "        self.val_acc= tf.Variable(initial_value =0, dtype=tf.float32)\n",
    "        \n",
    "    def on_training_begin(self, logs={}):\n",
    "        ''' indicate that training has begun, so val growth is an option.\n",
    "        '''\n",
    "        tf.print(\"training commenced, validation growth enabled\")\n",
    "        self.training.assign(True)\n",
    "#     def on_training_end(self, logs={}):\n",
    "#         ''' indicate that training has ended, so turn off val growth. Not sure if this is actually needed...\n",
    "#         '''\n",
    "#         tf.print(\"training commenced, validation growth enabled\")\n",
    "#         self.training.assign(False)\n",
    "    def on_epoch_begin(self, epoch, logs={}): #needs to be on begin, otherwise the epoch update won't increase the value from 0 to 0.1 till the 3rd epoch...\n",
    "        val = self.lambda_t\n",
    "        if epoch >= self.starting_epoch-1:\n",
    "            tf.print(self.step)\n",
    "            if self.val_acc >= self.past_val_acc:\n",
    "                self.step.assign(self.step + 1)\n",
    "                val = tf.reduce_min([self.max_t, tf.cast((self.step - self.starting_epoch) +self.start_val , tf.dtypes.float32) / tf.cast(self.annealing_max, tf.dtypes.float32)])\n",
    "                tf.print(\"annealing coef updated to:\", val)\n",
    "                self.lambda_t.assign(val)\n",
    "                self.past_val_acc.assign(self.val_acc)\n",
    "                # self.step.assign(self.step + 1)\n",
    "            else:\n",
    "                tf.print(\"val acc did not improve from {}, annealing coef not updated, remains at:{}\".format(self.past_val_acc.numpy(), val.numpy()))\n",
    "        else:\n",
    "            self.step.assign(self.step + 1)\n",
    "            tf.print(\"annealing coef will start on epoch:\", self.starting_epoch)\n",
    "     # tf.print(\"past val acc =\", self.past_val_acc)\n",
    "        # self.past_val_acc.assign(self.val_acc)\n",
    "        \n",
    "    def on_test_end(self, logs=None):\n",
    "        \"\"\" if training, save the performance results\n",
    "        \"\"\"\n",
    "        self.val_acc.assign(logs.get('branch_exit_1_accuracy')+ logs.get('branch_exit_accuracy'))  "
   ]
  },
  {
   "cell_type": "code",
   "execution_count": 6,
   "metadata": {},
   "outputs": [],
   "source": [
    "\n",
    "def exp_evidence(logits): \n",
    "    return tf.exp(tf.clip_by_value(logits/10,-10,10))\n",
    "\n",
    "def KL(alpha,K):\n",
    "    # print(\"K:\",K)\n",
    "    beta=tf.constant(np.ones((1,K)),dtype=tf.float32)\n",
    "    S_alpha = tf.reduce_sum(alpha,axis=1,keepdims=True)\n",
    "    S_beta = tf.reduce_sum(beta,axis=1,keepdims=True)\n",
    "    lnB = tf.compat.v1.lgamma(S_alpha) - tf.reduce_sum(tf.compat.v1.lgamma(alpha),axis=1,keepdims=True)\n",
    "    lnB_uni = tf.reduce_sum(tf.compat.v1.lgamma(beta),axis=1,keepdims=True) - tf.compat.v1.lgamma(S_beta)\n",
    "    dg0 = tf.compat.v1.digamma(S_alpha)\n",
    "    dg1 = tf.compat.v1.digamma(alpha)\n",
    "    kl = tf.reduce_sum((alpha - beta)*(dg1-dg0),axis=1,keepdims=True) + lnB + lnB_uni\n",
    "    return kl\n",
    "\n",
    "\n",
    "def _KL(alphas, target_alphas,  precision=None, target_precision=None, epsilon=1e-8):\n",
    "    '''\n",
    "    New KL divergence function. \n",
    "    '''\n",
    "    target_alphas = tf.cast(target_alphas,tf.float32)\n",
    "    alphas = tf.cast(alphas,tf.float32)\n",
    "    if not precision:\n",
    "        precision = tf.reduce_sum(alphas, axis=1, keepdims=True)\n",
    "    if not target_precision:\n",
    "        target_precision = tf.reduce_sum(target_alphas, axis=1, keepdims=True)\n",
    "    precision = tf.cast(precision,tf.float32)\n",
    "    target_precision = tf.cast(target_precision,tf.float32)\n",
    "    \n",
    "    precision_term = tf.compat.v1.lgamma(target_precision) - tf.compat.v1.lgamma(precision)\n",
    "    alphas_term = tf.reduce_sum(\n",
    "        tf.compat.v1.lgamma(alphas + epsilon)\n",
    "        - tf.compat.v1.lgamma(target_alphas + epsilon)\n",
    "        + (target_alphas - alphas)\n",
    "        * (\n",
    "            tf.compat.v1.digamma(target_alphas + epsilon)\n",
    "            - tf.compat.v1.digamma(target_precision + epsilon)\n",
    "        ),\n",
    "        axis=1,\n",
    "        keepdims=True,\n",
    "    )\n",
    "    cost = tf.squeeze(precision_term + alphas_term)\n",
    "    return cost\n",
    "\n",
    "def reverse_kl(alphas, target_alphas,  precision=None, target_precision=None, epsilon=1e-8):\n",
    "    return _KL(target_alphas,alphas, precision=None, target_precision=None, epsilon=1e-8)\n",
    "\n",
    "\n",
    "\n",
    "def DirichletKLLoss(labels, logits, reverse=True):\n",
    "    # alpha = tf.exp(logits)\n",
    "    # alpha = tf.exp(tf.clip_by_value(logits/10,-10,10))\n",
    "    alpha = tf.nn.softplus(logits)\n",
    "    target_concentration = tf.reduce_sum(alpha,axis=1,keepdims=True)\n",
    "    target_alphas = (tf.ones_like(alpha) + (target_concentration * labels))\n",
    "    alpha = alpha + 1\n",
    "    if reverse:\n",
    "        cost = reverse_kl(alpha, target_alphas)\n",
    "    else:\n",
    "        cost = _KL(alpha, target_alphas)\n",
    "    if tf.math.is_nan(tf.reduce_sum(cost)):\n",
    "        tf.print(\"logits\",logits, summarize=-1)\n",
    "        tf.print(\"alpha\",alpha, summarize=-1)\n",
    "        tf.print(\"cost\", cost, summarize=-1)\n",
    "    return cost\n",
    "\n",
    "\n"
   ]
  },
  {
   "cell_type": "code",
   "execution_count": 7,
   "metadata": {},
   "outputs": [],
   "source": [
    "\n",
    "def _branch_conv1(prevLayer, targets=None, teacher_sm = None, teaching_features=None):\n",
    "    \"\"\" Add a new branch to a model connecting at the output of prevLayer. \n",
    "        NOTE: use the substring \"branch\" in all names for branch nodes. this is used as an identifier of the branching layers as opposed to the main branch layers for training\n",
    "    \"\"\" \n",
    "#     branchLayer = keras.layers.Flatten(name=tf.compat.v1.get_default_graph().unique_name(\"branch_flatten\"))(prevLayer)\n",
    "#     branchLayer = keras.layers.Dense(124, activation=\"relu\",name=tf.compat.v1.get_default_graph().unique_name(\"branch124\"))(branchLayer)\n",
    "#     branchLayer = keras.layers.Dense(64, activation=\"relu\",name=tf.compat.v1.get_default_graph().unique_name(\"branch64\"))(branchLayer)\n",
    "#     output = keras.layers.Dense(10, name=tf.compat.v1.get_default_graph().unique_name(\"branch_exit\"))(branchLayer)\n",
    "    branchLayer = keras.layers.Conv2D(filters=64, kernel_size=(1,1), strides=(1,1), activation='relu',name=tf.compat.v1.get_default_graph().unique_name(\"branch_conv2d\"), input_shape=(prevLayer.shape))(prevLayer)\n",
    "    branchLayer = keras.layers.BatchNormalization(name=tf.compat.v1.get_default_graph().unique_name(\"branch_batchnorm\"))(branchLayer)  \n",
    "    branchLayer = keras.layers.Conv2D(filters=64, kernel_size=(1,1), strides=(1,1), activation='relu',name=tf.compat.v1.get_default_graph().unique_name(\"branch_conv2d\"), input_shape=(branchLayer.shape))(branchLayer)\n",
    "    branchLayer = keras.layers.BatchNormalization(name=tf.compat.v1.get_default_graph().unique_name(\"branch_batchnorm\"))(branchLayer)  \n",
    "    # branchLayer = keras.layers.MaxPool2D(pool_size=(3,3), strides=(2,2),name=tf.compat.v1.get_default_graph().unique_name(\"branch_maxpool\"))(branchLayer)\n",
    "    # branchLayer = keras.layers.Dropout(0.2,name=tf.compat.v1.get_default_graph().unique_name(\"branch_dropout\"))(branchLayer)\n",
    "    branchLayer = keras.layers.Conv2D(filters=256, kernel_size=(1,1), strides=(2,2), activation='relu',name=tf.compat.v1.get_default_graph().unique_name(\"branch_conv2d\"), input_shape=(branchLayer.shape))(branchLayer)\n",
    "    branchLayer = keras.layers.BatchNormalization(name=tf.compat.v1.get_default_graph().unique_name(\"branch_batchnorm\"))(branchLayer)\n",
    "    # branchLayer = keras.layers.MaxPool2D(pool_size=(3,3), strides=(2,2),name=tf.compat.v1.get_default_graph().unique_name(\"branch_maxpool\"))(branchLayer)\n",
    "    # branchLayer = keras.layers.Dropout(0.2,name=tf.compat.v1.get_default_graph().unique_name(\"branch_dropout\"))(branchLayer)\n",
    "    branchLayer = layers.Flatten(name=tf.compat.v1.get_default_graph().unique_name(\"branch_flatten\"))(branchLayer)\n",
    "    branchLayer = layers.Dense(1024,activation='relu',name=tf.compat.v1.get_default_graph().unique_name(\"branch_dense\"))(branchLayer)\n",
    "    branchLayer = keras.layers.Dropout(0.2,name=tf.compat.v1.get_default_graph().unique_name(\"branch_dropout\"))(branchLayer)\n",
    "    branchLayer = layers.Dense(512,activation='relu',name=tf.compat.v1.get_default_graph().unique_name(\"branch_dense\"))(branchLayer)\n",
    "    output = keras.layers.Dense(10, name=tf.compat.v1.get_default_graph().unique_name(\"branch_exit\"))(branchLayer)\n",
    "    # output = (layers.Softmax(name=tf.compat.v1.get_default_graph().unique_name(\"branch_softmax\"))(output))\n",
    "    return output\n",
    "\n",
    "def _branch_conv2(prevLayer, targets=None, teacher_sm = None, teaching_features=None):\n",
    "    \"\"\" Add a new branch to a model connecting at the output of prevLayer. \n",
    "        NOTE: use the substring \"branch\" in all names for branch nodes. this is used as an identifier of the branching layers as opposed to the main branch layers for training\n",
    "    \"\"\" \n",
    "#     branchLayer = keras.layers.Flatten(name=tf.compat.v1.get_default_graph().unique_name(\"branch_flatten\"))(prevLayer)\n",
    "#     branchLayer = keras.layers.Dense(124, activation=\"relu\",name=tf.compat.v1.get_default_graph().unique_name(\"branch124\"))(branchLayer)\n",
    "#     branchLayer = keras.layers.Dense(64, activation=\"relu\",name=tf.compat.v1.get_default_graph().unique_name(\"branch64\"))(branchLayer)\n",
    "#     output = keras.layers.Dense(10, name=tf.compat.v1.get_default_graph().unique_name(\"branch_exit\"))(branchLayer)\n",
    "    branchLayer = keras.layers.Conv2D(filters=128, kernel_size=(1,1), strides=(1,1), activation='relu',name=tf.compat.v1.get_default_graph().unique_name(\"branch_conv2d\"), input_shape=(prevLayer.shape))(prevLayer)\n",
    "    branchLayer = keras.layers.BatchNormalization(name=tf.compat.v1.get_default_graph().unique_name(\"branch_batchnorm\"))(branchLayer)  \n",
    "    branchLayer = keras.layers.Conv2D(filters=128, kernel_size=(1,1), strides=(1,1), activation='relu',name=tf.compat.v1.get_default_graph().unique_name(\"branch_conv2d\"), input_shape=(branchLayer.shape))(branchLayer)\n",
    "    branchLayer = keras.layers.BatchNormalization(name=tf.compat.v1.get_default_graph().unique_name(\"branch_batchnorm\"))(branchLayer)  \n",
    "    branchLayer = keras.layers.MaxPool2D(pool_size=(3,3), strides=(2,2),name=tf.compat.v1.get_default_graph().unique_name(\"branch_maxpool\"))(branchLayer)\n",
    "    # branchLayer = keras.layers.Dropout(0.2,name=tf.compat.v1.get_default_graph().unique_name(\"branch_dropout\"))(branchLayer)\n",
    "    branchLayer = keras.layers.Conv2D(filters=512, kernel_size=(1,1), strides=(1,1), activation='relu',name=tf.compat.v1.get_default_graph().unique_name(\"branch_conv2d\"), input_shape=(branchLayer.shape))(branchLayer)\n",
    "    branchLayer = keras.layers.BatchNormalization(name=tf.compat.v1.get_default_graph().unique_name(\"branch_batchnorm\"))(branchLayer)\n",
    "    branchLayer = keras.layers.MaxPool2D(pool_size=(3,3), strides=(2,2),name=tf.compat.v1.get_default_graph().unique_name(\"branch_maxpool\"))(branchLayer)\n",
    "    # branchLayer = keras.layers.Dropout(0.2,name=tf.compat.v1.get_default_graph().unique_name(\"branch_dropout\"))(branchLayer)\n",
    "    branchLayer = layers.Flatten(name=tf.compat.v1.get_default_graph().unique_name(\"branch_flatten\"))(branchLayer)\n",
    "    branchLayer = layers.Dense(1024,activation='relu',name=tf.compat.v1.get_default_graph().unique_name(\"branch_dense\"))(branchLayer)\n",
    "    branchLayer = keras.layers.Dropout(0.2,name=tf.compat.v1.get_default_graph().unique_name(\"branch_dropout\"))(branchLayer)\n",
    "    branchLayer = layers.Dense(512,activation='relu',name=tf.compat.v1.get_default_graph().unique_name(\"branch_dense\"))(branchLayer)\n",
    "    output = keras.layers.Dense(10, name=tf.compat.v1.get_default_graph().unique_name(\"branch_exit\"))(branchLayer)\n",
    "    # output = (layers.Softmax(name=tf.compat.v1.get_default_graph().unique_name(\"branch_softmax\"))(output))\n",
    "    return output\n",
    "\n",
    "def _branch_conv1_SM(prevLayer, targets=None, teacher_sm = None, teaching_features=None):\n",
    "    \"\"\" Add a new branch to a model connecting at the output of prevLayer. \n",
    "        NOTE: use the substring \"branch\" in all names for branch nodes. this is used as an identifier of the branching layers as opposed to the main branch layers for training\n",
    "    \"\"\" \n",
    "#     branchLayer = keras.layers.Flatten(name=tf.compat.v1.get_default_graph().unique_name(\"branch_flatten\"))(prevLayer)\n",
    "#     branchLayer = keras.layers.Dense(124, activation=\"relu\",name=tf.compat.v1.get_default_graph().unique_name(\"branch124\"))(branchLayer)\n",
    "#     branchLayer = keras.layers.Dense(64, activation=\"relu\",name=tf.compat.v1.get_default_graph().unique_name(\"branch64\"))(branchLayer)\n",
    "#     output = keras.layers.Dense(10, name=tf.compat.v1.get_default_graph().unique_name(\"branch_exit\"))(branchLayer)\n",
    "    branchLayer = keras.layers.Conv2D(filters=64, kernel_size=(1,1), strides=(1,1), activation='relu',name=tf.compat.v1.get_default_graph().unique_name(\"branch_conv2d\"), input_shape=(prevLayer.shape))(prevLayer)\n",
    "    branchLayer = keras.layers.BatchNormalization(name=tf.compat.v1.get_default_graph().unique_name(\"branch_batchnorm\"))(branchLayer)  \n",
    "    branchLayer = keras.layers.Conv2D(filters=64, kernel_size=(1,1), strides=(1,1), activation='relu',name=tf.compat.v1.get_default_graph().unique_name(\"branch_conv2d\"), input_shape=(branchLayer.shape))(branchLayer)\n",
    "    branchLayer = keras.layers.BatchNormalization(name=tf.compat.v1.get_default_graph().unique_name(\"branch_batchnorm\"))(branchLayer)  \n",
    "    # branchLayer = keras.layers.MaxPool2D(pool_size=(3,3), strides=(2,2),name=tf.compat.v1.get_default_graph().unique_name(\"branch_maxpool\"))(branchLayer)\n",
    "    # branchLayer = keras.layers.Dropout(0.2,name=tf.compat.v1.get_default_graph().unique_name(\"branch_dropout\"))(branchLayer)\n",
    "    branchLayer = keras.layers.Conv2D(filters=256, kernel_size=(1,1), strides=(2,2), activation='relu',name=tf.compat.v1.get_default_graph().unique_name(\"branch_conv2d\"), input_shape=(branchLayer.shape))(branchLayer)\n",
    "    branchLayer = keras.layers.BatchNormalization(name=tf.compat.v1.get_default_graph().unique_name(\"branch_batchnorm\"))(branchLayer)\n",
    "    # branchLayer = keras.layers.MaxPool2D(pool_size=(3,3), strides=(2,2),name=tf.compat.v1.get_default_graph().unique_name(\"branch_maxpool\"))(branchLayer)\n",
    "    # branchLayer = keras.layers.Dropout(0.2,name=tf.compat.v1.get_default_graph().unique_name(\"branch_dropout\"))(branchLayer)\n",
    "    branchLayer = layers.Flatten(name=tf.compat.v1.get_default_graph().unique_name(\"branch_flatten\"))(branchLayer)\n",
    "    branchLayer = layers.Dense(1024,activation='relu',name=tf.compat.v1.get_default_graph().unique_name(\"branch_dense\"))(branchLayer)\n",
    "    branchLayer = keras.layers.Dropout(0.2,name=tf.compat.v1.get_default_graph().unique_name(\"branch_dropout\"))(branchLayer)\n",
    "    branchLayer = layers.Dense(512,activation='relu',name=tf.compat.v1.get_default_graph().unique_name(\"branch_dense\"))(branchLayer)\n",
    "    output = keras.layers.Dense(10, activation='softmax', name=tf.compat.v1.get_default_graph().unique_name(\"branch_exit\"))(branchLayer)\n",
    "    # output = (layers.Softmax(name=tf.compat.v1.get_default_graph().unique_name(\"branch_softmax\"))(output))\n",
    "    return output\n",
    "\n",
    "def _branch_conv2_SM(prevLayer, targets=None, teacher_sm = None, teaching_features=None):\n",
    "    \"\"\" Add a new branch to a model connecting at the output of prevLayer. \n",
    "        NOTE: use the substring \"branch\" in all names for branch nodes. this is used as an identifier of the branching layers as opposed to the main branch layers for training\n",
    "    \"\"\" \n",
    "#     branchLayer = keras.layers.Flatten(name=tf.compat.v1.get_default_graph().unique_name(\"branch_flatten\"))(prevLayer)\n",
    "#     branchLayer = keras.layers.Dense(124, activation=\"relu\",name=tf.compat.v1.get_default_graph().unique_name(\"branch124\"))(branchLayer)\n",
    "#     branchLayer = keras.layers.Dense(64, activation=\"relu\",name=tf.compat.v1.get_default_graph().unique_name(\"branch64\"))(branchLayer)\n",
    "#     output = keras.layers.Dense(10, name=tf.compat.v1.get_default_graph().unique_name(\"branch_exit\"))(branchLayer)\n",
    "    branchLayer = keras.layers.Conv2D(filters=128, kernel_size=(1,1), strides=(1,1), activation='relu',name=tf.compat.v1.get_default_graph().unique_name(\"branch_conv2d\"), input_shape=(prevLayer.shape))(prevLayer)\n",
    "    branchLayer = keras.layers.BatchNormalization(name=tf.compat.v1.get_default_graph().unique_name(\"branch_batchnorm\"))(branchLayer)  \n",
    "    branchLayer = keras.layers.Conv2D(filters=128, kernel_size=(1,1), strides=(1,1), activation='relu',name=tf.compat.v1.get_default_graph().unique_name(\"branch_conv2d\"), input_shape=(branchLayer.shape))(branchLayer)\n",
    "    branchLayer = keras.layers.BatchNormalization(name=tf.compat.v1.get_default_graph().unique_name(\"branch_batchnorm\"))(branchLayer)  \n",
    "    branchLayer = keras.layers.MaxPool2D(pool_size=(3,3), strides=(2,2),name=tf.compat.v1.get_default_graph().unique_name(\"branch_maxpool\"))(branchLayer)\n",
    "    # branchLayer = keras.layers.Dropout(0.2,name=tf.compat.v1.get_default_graph().unique_name(\"branch_dropout\"))(branchLayer)\n",
    "    branchLayer = keras.layers.Conv2D(filters=512, kernel_size=(1,1), strides=(1,1), activation='relu',name=tf.compat.v1.get_default_graph().unique_name(\"branch_conv2d\"), input_shape=(branchLayer.shape))(branchLayer)\n",
    "    branchLayer = keras.layers.BatchNormalization(name=tf.compat.v1.get_default_graph().unique_name(\"branch_batchnorm\"))(branchLayer)\n",
    "    branchLayer = keras.layers.MaxPool2D(pool_size=(3,3), strides=(2,2),name=tf.compat.v1.get_default_graph().unique_name(\"branch_maxpool\"))(branchLayer)\n",
    "    # branchLayer = keras.layers.Dropout(0.2,name=tf.compat.v1.get_default_graph().unique_name(\"branch_dropout\"))(branchLayer)\n",
    "    branchLayer = layers.Flatten(name=tf.compat.v1.get_default_graph().unique_name(\"branch_flatten\"))(branchLayer)\n",
    "    branchLayer = layers.Dense(1024,activation='relu',name=tf.compat.v1.get_default_graph().unique_name(\"branch_dense\"))(branchLayer)\n",
    "    branchLayer = keras.layers.Dropout(0.2,name=tf.compat.v1.get_default_graph().unique_name(\"branch_dropout\"))(branchLayer)\n",
    "    branchLayer = layers.Dense(512,activation='relu',name=tf.compat.v1.get_default_graph().unique_name(\"branch_dense\"))(branchLayer)\n",
    "    output = keras.layers.Dense(10, activation='softmax', name=tf.compat.v1.get_default_graph().unique_name(\"branch_exit\"))(branchLayer)\n",
    "    # output = (layers.Softmax(name=tf.compat.v1.get_default_graph().unique_name(\"branch_softmax\"))(output))\n",
    "    return output\n",
    "\n",
    "\n",
    "    \n",
    "class SelfDistilDense(branches.branch.BranchEndpoint):\n",
    "        def __init__(self, num_outputs, loss_coef=.3, temperature=10, name=None, **kwargs):\n",
    "            super(SelfDistilDense, self).__init__(num_outputs=num_outputs, name=name)\n",
    "            self.num_outputs = num_outputs\n",
    "            self.loss_coef = loss_coef\n",
    "            self.temperature = temperature \n",
    "            self.distillation_loss_fn=keras.losses.KLDivergence()\n",
    "\n",
    "        def build(self, input_shape):\n",
    "            tf.print(\"inputShape\",input_shape)\n",
    "            # self.kernel = self.add_weight(\"kernel\", shape=[int(input_shape[-1]), self.num_outputs])\n",
    "\n",
    "        def get_config(self):\n",
    "            config = super().get_config().copy()\n",
    "            config.update({\n",
    "                'name': self.name\n",
    "            })\n",
    "            return config\n",
    "\n",
    "        def call(self, inputs, teaching_distill=None):\n",
    "            ''' do the normal kernel operations, then compare the difference between the teacher and this.\n",
    "            '''\n",
    "            # outputs = tf.matmul(inputs,self.kernel)\n",
    "            # outputs = tf.nn.relu(outputs)\n",
    "            # tf.print(\"outputs\",outputs)\n",
    "            # tf.print(\"teaching\",teaching_distill)\n",
    "            if teaching_distill is not None:\n",
    "                distil_loss = self.distillation_loss_fn(inputs/self.temperature, teaching_distill/self.temperature)\n",
    "                distil_loss = distil_loss * self.loss_coef\n",
    "                # print(\"KL_LOSS\", kl_loss)\n",
    "                # self.add_loss(kl_loss)\n",
    "                self.add_loss(distil_loss)\n",
    "                self.add_metric(distil_loss, aggregation='mean',name=self.name+\"_distil\") # metric so this loss value can be monitored.\n",
    "            return inputs\n",
    "        \n",
    "class SelfDistilEndpoint_2(branches.branch.BranchEndpoint):\n",
    "        def __init__(self, num_outputs, loss_coef=1.9, temperature=10, name=None, **kwargs):\n",
    "            super(SelfDistilEndpoint_2, self).__init__(num_outputs=num_outputs, name=name)\n",
    "            self.num_outputs = num_outputs\n",
    "            self.loss_coef = loss_coef\n",
    "            self.temperature = temperature \n",
    "            self.distillation_loss_fn=keras.losses.KLDivergence()\n",
    "\n",
    "        def build(self, input_shape):\n",
    "            tf.print(\"inputShape\",input_shape)\n",
    "            self.kernel = self.add_weight(\"kernel\", shape=[int(input_shape[-1]), self.num_outputs])\n",
    "        \n",
    "        def get_config(self):\n",
    "            config = super().get_config().copy()\n",
    "            config.update({\n",
    "                'name': self.name\n",
    "            })\n",
    "            return config\n",
    "\n",
    "        def call(self, inputs, teaching_distill=None):\n",
    "            ''' do the normal kernel operations, then compare the difference between the teacher and this.\n",
    "            '''\n",
    "            outputs = tf.matmul(inputs,self.kernel)\n",
    "            outputs_sm = tf.nn.softmax(outputs)\n",
    "            # tf.print(\"outputs\",outputs)\n",
    "            # tf.print(\"teaching\",teaching_distill)\n",
    "            if teaching_distill is not None:\n",
    "                distil_loss = self.distillation_loss_fn(outputs_sm/self.temperature, teaching_distill/self.temperature)\n",
    "                distil_loss = distil_loss * self.loss_coef\n",
    "                # print(\"KL_LOSS\", kl_loss)\n",
    "                # self.add_loss(kl_loss)\n",
    "                self.add_loss(distil_loss)\n",
    "                self.add_metric(distil_loss, aggregation='mean',name=self.name+\"_distil\") # metric so this loss value can be monitored.\n",
    "            return outputs\n",
    "\n",
    "class distillBranch():\n",
    "    def __init__(self, _teacher, _features, loss_coef=1.0, temperature = 10,**kwargs):\n",
    "        self.loss_coef = loss_coef\n",
    "        self.temperature = temperature\n",
    "        self.teacher = _teacher\n",
    "        self.features = _features\n",
    "    def _branch_feature_distill(self,prevLayer, targets=None, teacher = None, teaching_features=None):\n",
    "        \"\"\" Add a new branch to a model connecting at the output of prevLayer. \n",
    "            NOTE: use the substring \"branch\" in all names for branch nodes. this is used as an identifier of the branching layers as opposed to the main branch layers for training\n",
    "        \"\"\" \n",
    "    #     branchLayer = keras.layers.Flatten(name=tf.compat.v1.get_default_graph().unique_name(\"branch_flatten\"))(prevLayer)\n",
    "    #     branchLayer = keras.layers.Dense(124, activation=\"relu\",name=tf.compat.v1.get_default_graph().unique_name(\"branch124\"))(branchLayer)\n",
    "    #     branchLayer = keras.layers.Dense(64, activation=\"relu\",name=tf.compat.v1.get_default_graph().unique_name(\"branch64\"))(branchLayer)\n",
    "    #     output = keras.layers.Dense(10, name=tf.compat.v1.get_default_graph().unique_name(\"branch_exit\"))(branchLayer)\n",
    "        branchLayer = keras.layers.Conv2D(filters=128, kernel_size=(1,1), strides=(1,1), activation='relu',name=tf.compat.v1.get_default_graph().unique_name(\"branch_conv2d\"), input_shape=(prevLayer.shape))(prevLayer)\n",
    "        branchLayer = keras.layers.BatchNormalization(name=tf.compat.v1.get_default_graph().unique_name(\"branch_batchnorm\"))(branchLayer)  \n",
    "        branchLayer = keras.layers.Conv2D(filters=128, kernel_size=(1,1), strides=(1,1), activation='relu',name=tf.compat.v1.get_default_graph().unique_name(\"branch_conv2d\"), input_shape=(branchLayer.shape))(branchLayer)\n",
    "        branchLayer = keras.layers.BatchNormalization(name=tf.compat.v1.get_default_graph().unique_name(\"branch_batchnorm\"))(branchLayer)  \n",
    "        branchLayer = keras.layers.MaxPool2D(pool_size=(3,3), strides=(2,2),name=tf.compat.v1.get_default_graph().unique_name(\"branch_maxpool\"))(branchLayer)\n",
    "        # branchLayer = keras.layers.Dropout(0.2,name=tf.compat.v1.get_default_graph().unique_name(\"branch_dropout\"))(branchLayer)\n",
    "        branchLayer = keras.layers.Conv2D(filters=512, kernel_size=(1,1), strides=(1,1), activation='relu',name=tf.compat.v1.get_default_graph().unique_name(\"branch_conv2d\"), input_shape=(branchLayer.shape))(branchLayer)\n",
    "        branchLayer = keras.layers.BatchNormalization(name=tf.compat.v1.get_default_graph().unique_name(\"branch_batchnorm\"))(branchLayer)\n",
    "        branchLayer = keras.layers.MaxPool2D(pool_size=(3,3), strides=(2,2),name=tf.compat.v1.get_default_graph().unique_name(\"branch_maxpool\"))(branchLayer)\n",
    "        # branchLayer = keras.layers.Dropout(0.2,name=tf.compat.v1.get_default_graph().unique_name(\"branch_dropout\"))(branchLayer)\n",
    "        branchLayer = layers.Flatten(name=tf.compat.v1.get_default_graph().unique_name(\"branch_flatten\"))(branchLayer)\n",
    "        branchLayer = layers.Dense(1024,activation='relu',name=tf.compat.v1.get_default_graph().unique_name(\"branch_dense\"))(branchLayer)\n",
    "        branchLayer = keras.layers.Dropout(0.2,name=tf.compat.v1.get_default_graph().unique_name(\"branch_dropout\"))(branchLayer)\n",
    "        branchLayer = layers.Dense(512,activation='relu',name=tf.compat.v1.get_default_graph().unique_name(\"branch_dense\"))(branchLayer)\n",
    "        branchLayer = SelfDistilDense(512, loss_coef=self.loss_coef, temperature = self.temperature, name=tf.compat.v1.get_default_graph().unique_name(\"branch_feature_student\"))(branchLayer,self.features)\n",
    "        # tf.print(branchLayer)\n",
    "        # branchLayer = layers.ReLU()(branchLayer)\n",
    "        output = SelfDistilEndpoint_2(num_outputs=10, loss_coef=1.9, temperature = 10, name=tf.compat.v1.get_default_graph().unique_name(\"branch_exit\"))(branchLayer,self.teacher)\n",
    "        # output = (layers.Softmax(name=tf.compat.v1.get_default_graph().unique_name(\"branch_softmax\"))(output))\n",
    "        # output = keras.layers.Dense(10, activation=\"softmax\", name=tf.compat.v1.get_default_graph().unique_name(\"branch_exit\"))(branchLayer)\n",
    "        return output\n",
    "\n",
    "    \n",
    "def _branch_conv2_distill(prevLayer, targets=None, teacher = None, teaching_features=None):\n",
    "    \"\"\" Add a new branch to a model connecting at the output of prevLayer. \n",
    "        NOTE: use the substring \"branch\" in all names for branch nodes. this is used as an identifier of the branching layers as opposed to the main branch layers for training\n",
    "    \"\"\" \n",
    "#     branchLayer = keras.layers.Flatten(name=tf.compat.v1.get_default_graph().unique_name(\"branch_flatten\"))(prevLayer)\n",
    "#     branchLayer = keras.layers.Dense(124, activation=\"relu\",name=tf.compat.v1.get_default_graph().unique_name(\"branch124\"))(branchLayer)\n",
    "#     branchLayer = keras.layers.Dense(64, activation=\"relu\",name=tf.compat.v1.get_default_graph().unique_name(\"branch64\"))(branchLayer)\n",
    "#     output = keras.layers.Dense(10, name=tf.compat.v1.get_default_graph().unique_name(\"branch_exit\"))(branchLayer)\n",
    "    branchLayer = keras.layers.Conv2D(filters=128, kernel_size=(1,1), strides=(1,1), activation='relu',name=tf.compat.v1.get_default_graph().unique_name(\"branch_conv2d\"), input_shape=(prevLayer.shape))(prevLayer)\n",
    "    branchLayer = keras.layers.BatchNormalization(name=tf.compat.v1.get_default_graph().unique_name(\"branch_batchnorm\"))(branchLayer)  \n",
    "    branchLayer = keras.layers.Conv2D(filters=128, kernel_size=(1,1), strides=(1,1), activation='relu',name=tf.compat.v1.get_default_graph().unique_name(\"branch_conv2d\"), input_shape=(branchLayer.shape))(branchLayer)\n",
    "    branchLayer = keras.layers.BatchNormalization(name=tf.compat.v1.get_default_graph().unique_name(\"branch_batchnorm\"))(branchLayer)  \n",
    "    branchLayer = keras.layers.MaxPool2D(pool_size=(3,3), strides=(2,2),name=tf.compat.v1.get_default_graph().unique_name(\"branch_maxpool\"))(branchLayer)\n",
    "    # branchLayer = keras.layers.Dropout(0.2,name=tf.compat.v1.get_default_graph().unique_name(\"branch_dropout\"))(branchLayer)\n",
    "    branchLayer = keras.layers.Conv2D(filters=512, kernel_size=(1,1), strides=(1,1), activation='relu',name=tf.compat.v1.get_default_graph().unique_name(\"branch_conv2d\"), input_shape=(branchLayer.shape))(branchLayer)\n",
    "    branchLayer = keras.layers.BatchNormalization(name=tf.compat.v1.get_default_graph().unique_name(\"branch_batchnorm\"))(branchLayer)\n",
    "    branchLayer = keras.layers.MaxPool2D(pool_size=(3,3), strides=(2,2),name=tf.compat.v1.get_default_graph().unique_name(\"branch_maxpool\"))(branchLayer)\n",
    "    # branchLayer = keras.layers.Dropout(0.2,name=tf.compat.v1.get_default_graph().unique_name(\"branch_dropout\"))(branchLayer)\n",
    "    branchLayer = layers.Flatten(name=tf.compat.v1.get_default_graph().unique_name(\"branch_flatten\"))(branchLayer)\n",
    "    branchLayer = layers.Dense(1024,activation='relu',name=tf.compat.v1.get_default_graph().unique_name(\"branch_dense\"))(branchLayer)\n",
    "    branchLayer = keras.layers.Dropout(0.2,name=tf.compat.v1.get_default_graph().unique_name(\"branch_dropout\"))(branchLayer)\n",
    "    branchLayer = layers.Dense(512,activation='relu',name=tf.compat.v1.get_default_graph().unique_name(\"branch_dense\"))(branchLayer)\n",
    "    # branchLayer = SelfDistilDense(512, loss_coef=1.9, temperature = 10, name=tf.compat.v1.get_default_graph().unique_name(\"branch_feature_student\"))(branchLayer,teacher)\n",
    "    # branchLayer = layers.ReLU()(branchLayer)\n",
    "    # print(teacher)\n",
    "    output = SelfDistilEndpoint_2(num_outputs=10, loss_coef=1.3, temperature = 10, name=tf.compat.v1.get_default_graph().unique_name(\"branch_feature_student\"))(branchLayer,teacher)\n",
    "    # output = (layers.Softmax(name=tf.compat.v1.get_default_graph().unique_name(\"branch_softmax\"))(output))\n",
    "    # output = keras.layers.Dense(10, name=tf.compat.v1.get_default_graph().unique_name(\"branch_exit\"))(branchLayer)\n",
    "    return output\n",
    "\n",
    "\n"
   ]
  },
  {
   "cell_type": "code",
   "execution_count": 9,
   "metadata": {
    "tags": []
   },
   "outputs": [
    {
     "name": "stdout",
     "output_type": "stream",
     "text": [
      "<keras.layers.core.dense.Dense object at 0x000001CC3F2BFFC8>\n",
      "<bound method distillBranch._branch_feature_distill of <__main__.distillBranch object at 0x000001CC149B1D48>>\n",
      "Matching Branchpoint by name\n",
      "add Branch to branch point  conv2_block1_out\n",
      "inputShape TensorShape([None, 512])\n",
      "inputShape TensorShape([None, 512])\n",
      "add Branch to branch point  conv2_block3_out\n",
      "inputShape TensorShape([None, 512])\n",
      "inputShape TensorShape([None, 512])\n",
      "branch added <keras.engine.functional.Functional object at 0x000001CC3F072408>\n",
      "Freezing Main Layers and setting branch layers training to true\n"
     ]
    }
   ],
   "source": [
    "import random\n",
    "seed = 42\n",
    "random.seed(seed)\n",
    "tf.random.set_seed(seed)\n",
    "np.random.seed(seed)\n",
    "tf.keras.backend.clear_session()\n",
    "\n",
    "\n",
    "# model = tf.keras.models.load_model('./models/resnet50_finetuned_brev.hdf5')\n",
    "# lambda_callback = lambda_update(10,0,max_t = .5, starting_epoch =1)\n",
    "  \n",
    "def EDL_Loss(lambda_callback: lambda_update):\n",
    "    def custom_loss_function(labels, logits):\n",
    "    #     alpha = alpha + 1\n",
    "        evidence = exp_evidence(logits)\n",
    "        # tf.print(logits,logits.shape)\n",
    "        # evidence = tf.nn.softplus(logits)\n",
    "        alpha = evidence + 1\n",
    "        S = tf.reduce_sum(alpha,axis=1,keepdims=True) \n",
    "        E = alpha - 1\n",
    "        m = alpha / S\n",
    "        A = tf.reduce_sum((labels-m)**2, axis=1, keepdims=True) \n",
    "        B = tf.reduce_sum(alpha*(S-alpha)/(S*S*(S+1)), axis=1, keepdims=True) \n",
    "        annealing_coef =  lambda_callback.lambda_t\n",
    "        loss = (A+B)\n",
    "        # p = 6\n",
    "        # prob_c  = evidence * labels\n",
    "        # ic_mask = tf.cast(1 - labels,tf.float32)\n",
    "        # _A = (1-tf.reduce_sum(prob_c,axis=1)) ** p\n",
    "        # _B = tf.reduce_sum((ic_mask * evidence) ** p, axis=1)\n",
    "        # loss = annealing_coef * ((_A + _B) ** (1/p))\n",
    "        # bool_mask = tf.cast(labels,tf.bool)\n",
    "        # ic_mask = tf.cast(1 - labels,tf.bool)\n",
    "        # ic_bool_mask = tf.cast(ic_mask,tf.bool)\n",
    "        # ic_alpha_masked = tf.cast(tf.ragged.boolean_mask(alpha, ic_bool_mask).to_tensor(),tf.float32)\n",
    "        # #### info reg\n",
    "        # _A = tf.reduce_sum((ic_alpha_masked -1) ** 2,axis=1,keepdims=True)\n",
    "        # B_1 = tf.math.polygamma(1.,ic_alpha_masked) \n",
    "        # B_2 = tf.math.polygamma(1., tf.reduce_sum(ic_alpha_masked,axis=1,keepdims=True))\n",
    "        # # tf.print(_A.shape,summarize=-1)\n",
    "        # _B = (B_1 - B_2)\n",
    "        # # tf.print(_B,summarize=-1)\n",
    "        # info_reg =  .5* (_A * _B)\n",
    "        # info_reg = annealing_coef * info_reg\n",
    "        \n",
    "        D = 0.0001 * -tf.reduce_mean(tfp.distributions.Dirichlet(alpha).entropy())\n",
    "        # C =   annealing_coef * DirichletKLLoss(p,logits, True)\n",
    "        \n",
    "        return (loss) + D #info_reg + D #+alp #+ C +  D  #+ info_reg #+ C + D\n",
    "    return custom_loss_function\n",
    "\n",
    "\n",
    "def loss_wrapper(lambda_callback: lambda_update):\n",
    "    ''' Loss function of Evidential Dirichlet Networks\n",
    "        Expected Mean Square Error + KL divergence\n",
    "    '''\n",
    "    def custom_loss_function(p, logits):\n",
    "    #     alpha = alpha + 1\n",
    "        # evidence = exp_evidence(logits)\n",
    "        evidence = tf.nn.softplus(logits)\n",
    "        alpha = evidence + 1\n",
    "\n",
    "        S = tf.reduce_sum(alpha,axis=1,keepdims=True) \n",
    "        E = alpha - 1\n",
    "        m = alpha / S\n",
    "        A = tf.reduce_sum((p-m)**2, axis=1, keepdims=True) \n",
    "        B = tf.reduce_sum(alpha*(S-alpha)/(S*S*(S+1)), axis=1, keepdims=True) \n",
    "        # tf.print(annealing_coef)\n",
    "        # annealing_coef = \n",
    "        annealing_coef =  lambda_callback.lambda_t\n",
    "        # annealing_coef =  0.0001\n",
    "        alp = E*(1-p) + 1 \n",
    "        C =   annealing_coef * KL(alp,10)\n",
    "        return (A + B) + C\n",
    "    return custom_loss_function\n",
    "\n",
    "\n",
    "\n",
    "def IAD_loss(lambda_callback: lambda_update):\n",
    "    crossEntropy = keras.losses.CategoricalCrossentropy(from_logits=False)\n",
    "    def custom_loss_function(labels, logits):\n",
    "    #     alpha = alpha + 1\n",
    "        evidence = exp_evidence(logits)\n",
    "        # tf.print(logits,logits.shape)\n",
    "        # evidence = tf.nn.softplus(logits)\n",
    "        \n",
    "        # loss = crossEntropy(labels,evidence)\n",
    "        \n",
    "        alpha = evidence + 1\n",
    "        S = tf.reduce_sum(alpha,axis=1,keepdims=True) \n",
    "        E = alpha - 1\n",
    "        m = alpha / S\n",
    "        A = tf.reduce_sum((labels-m)**2, axis=1, keepdims=True) \n",
    "        B = tf.reduce_sum(alpha*(S-alpha)/(S*S*(S+1)), axis=1, keepdims=True) \n",
    "        annealing_coef =  lambda_callback.lambda_t\n",
    "        # tf.print(\"m\",m,summarize=-1)\n",
    "        p = 6\n",
    "        prob_c  = m * labels\n",
    "        ic_mask = tf.cast(1 - labels,tf.float32)\n",
    "        _A = (1-tf.reduce_sum(prob_c,axis=1)) ** p\n",
    "        # tf.print(\"_A\",_A)\n",
    "        _B = tf.reduce_sum((ic_mask * m) ** p, axis=1)\n",
    "        # tf.print(\"_b\",_B,summarize=-1)\n",
    "        loss = ((_A + _B) ** (1/p))\n",
    "        \n",
    "        D = 0.0001 * -tf.reduce_mean(tfp.distributions.Dirichlet(alpha).entropy())\n",
    "        # C =   annealing_coef * (A+B)\n",
    "         #### info reg\n",
    "            \n",
    "        ic_mask = tf.cast(1 - labels,tf.bool)\n",
    "        ic_bool_mask = tf.cast(ic_mask,tf.bool)\n",
    "\n",
    "        ic_alpha_masked = tf.cast(tf.ragged.boolean_mask(alpha, ic_bool_mask).to_tensor(),tf.float32)\n",
    "        \n",
    "        \n",
    "        #sum of icAlpha -1 squared\n",
    "        A_ = ((ic_alpha_masked -1) ** 2)\n",
    "        #polygamma1 of icAlpha - polygamma1 of sum of alpha\n",
    "        \n",
    "        \n",
    "        B_1 = tf.math.polygamma(1.,ic_alpha_masked) \n",
    "        B_2 = tf.math.polygamma(1., tf.reduce_sum(ic_alpha_masked,axis=1,keepdims=True))\n",
    "        # print(B_1)\n",
    "        # print(B_2)\n",
    "        B_ = (B_1 - B_2)\n",
    "        info_reg = .5 * tf.reduce_sum((A_ * B_),axis=1)\n",
    "        # tf.print(tf.reduce_mean(info_reg,axis=1),summarize=-1)\n",
    "        info_reg = annealing_coef * info_reg\n",
    "        \n",
    "        # annealing_coef =  0.0001\n",
    "        # alp = E*(1-p) + 1 \n",
    "        # C =   annealing_coef * KL(alp,10)\n",
    "        # if annealing_coef>0:\n",
    "            # tf.print(\"loss\",loss,summarize=-1)\n",
    "            # tf.print(\"info\",info_reg,summarize=-1)\n",
    "            \n",
    "        return (loss) + info_reg + D #+alp #+ C +  D  #+ info_reg #+ C + D\n",
    "        # return (loss) + (A+B) + D #+alp #+ C +  D  #+ info_reg #+ C + D\n",
    "    return custom_loss_function\n",
    "\n",
    "\n",
    "\n",
    "growth_callback = growth_update(60, 0.,max_t = 1, starting_epoch =1)\n",
    "# auxlossMetric = auxLoss(growth_callback)\n",
    "branch_loss = EDL_Loss(growth_callback)\n",
    "# branch_loss_CE = keras.losses.CategoricalCrossentropy(from_logits=True)\n",
    "trunk_loss = keras.losses.CategoricalCrossentropy(from_logits=False)\n",
    "CE_loss = keras.losses.CategoricalCrossentropy(from_logits=True)\n",
    "# earlyStop = tf.keras.callbacks.EarlyStopping(monitor=\"val_accuracy\",patience=4,restore_best_weights=True)\n",
    "\n",
    "# def scheduler(epoch,lr):\n",
    "#     if epoch < 5:\n",
    "#         tf.print(\"learning rate set to\",lr)\n",
    "#         return lr\n",
    "#     else:\n",
    "#         modif = 1+ (epoch % 5) /10\n",
    "#         tf.print(\"learning rate set to\",lr * modif)\n",
    "#         return lr  * modif\n",
    "# lr_schedule = tf.keras.callbacks.LearningRateScheduler(scheduler)\n",
    "    \n",
    "\n",
    "model = brevis.BranchModel(name=\"./models/journal_models/resnet_CE_entropy_finetuned.hdf5\", custom_objects={})\n",
    "# model.add_branches([_branch_flat,_branch_flat],\n",
    "#                           [\"conv2_block1_out\",\"conv2_block3_out\",\n",
    "#                             # \"dense\"\n",
    "#                           ],\n",
    "#                           target_input=False,loop=False,num_outputs=10)\n",
    "\n",
    "# model.add_branches([_branch_conv2,_branch_conv2],\n",
    "#                           [\"conv2_block1_out\",\"conv2_block3_out\",\n",
    "#                           ],\n",
    "#                           target_input=False,loop=False,num_outputs=10)\n",
    "\n",
    "print(model.layers[-2])\n",
    "dBranch = distillBranch(model.layers[-1].output,model.layers[-2].output,loss_coef = 0.1, temperature = 30)\n",
    "\n",
    "print(dBranch._branch_feature_distill)\n",
    "model.add_distill(\"classification\",[dBranch._branch_feature_distill,dBranch._branch_feature_distill],\n",
    "                          [\"conv2_block1_out\",\"conv2_block3_out\",\n",
    "                          ],\n",
    "                          loop=False,num_outputs=10)\n",
    "\n",
    "\n",
    "# model.add_distill(\"classification\",[_branch_conv2_distill,_branch_conv2_distill],\n",
    "#                           [\"conv2_block1_out\",\"conv2_block3_out\",\n",
    "#                           ],\n",
    "#                           loop=False,num_outputs=10)\n",
    "\n",
    "model.setTrainable(True)\n",
    "\n",
    "# model.compile(loss = [trunk_loss,loss_fn,loss_fn], optimizer=tf.optimizers.SGD(learning_rate=0.001, momentum=0.9),metrics=['accuracy'])\n",
    "model.compile(loss=[trunk_loss,CE_loss,CE_loss], \n",
    "                  optimizer=tf.optimizers.SGD(learning_rate=0.01, momentum=0.9),\n",
    "                  # optimizer=tf.keras.optimizers.RMSprop(learning_rate=0.1),\n",
    "                  # optimizer=tf.keras.optimizers.Adam(learning_rate=0.001,  beta_1=0.99,  beta_2=0.999,),\n",
    "                  # optimizer=\"adam\",\n",
    "               metrics=['accuracy'])\n",
    "\n",
    "# model.compile(loss=[trunk_loss,branch_loss,branch_loss], \n",
    "#                   optimizer=tf.optimizers.SGD(learning_rate=0.01, momentum=0.9),\n",
    "#                   # optimizer=tf.keras.optimizers.RMSprop(learning_rate=0.1),\n",
    "#                   # optimizer=tf.keras.optimizers.Adam(learning_rate=0.001,  beta_1=0.99,  beta_2=0.999,),\n",
    "#                   # optimizer=\"adam\",\n",
    "#                metrics=['accuracy'])\n",
    "\n"
   ]
  },
  {
   "cell_type": "code",
   "execution_count": 10,
   "metadata": {},
   "outputs": [],
   "source": [
    "\n",
    "# model = brevis.BranchModel(name=\"./models/journal_models/resnet_CE_entropy_finetuned.hdf5\", custom_objects={})\n",
    "# print(model.layers[-1])\n",
    "# print(model.layers.pop(-1))\n",
    "# print(model.layers[-1])"
   ]
  },
  {
   "cell_type": "code",
   "execution_count": 11,
   "metadata": {},
   "outputs": [
    {
     "name": "stdout",
     "output_type": "stream",
     "text": [
      "Setting Main Layers  and branch layers training to true\n",
      "Epoch 1/3\n",
      "1407/1407 [==============================] - 59s 34ms/step - loss: 4.5940 - classification_loss: 0.1499 - branch_exit_loss: 1.4510 - branch_exit_1_loss: 1.3828 - classification_accuracy: 0.9525 - branch_exit_accuracy: 0.4794 - branch_exit_1_accuracy: 0.5073 - branch_feature_student_distil: 0.1263 - branch_feature_student_1_distil: 0.1380 - branch_exit_distil: 0.6927 - branch_exit_1_distil: 0.6529 - val_loss: 3.9278 - val_classification_loss: 0.7682 - val_branch_exit_loss: 1.2017 - val_branch_exit_1_loss: 1.0797 - val_classification_accuracy: 0.7874 - val_branch_exit_accuracy: 0.5794 - val_branch_exit_1_accuracy: 0.6534 - val_branch_feature_student_distil: 0.0732 - val_branch_feature_student_1_distil: 0.0690 - val_branch_exit_distil: 0.4233 - val_branch_exit_1_distil: 0.3105\n",
      "Epoch 2/3\n",
      "1407/1407 [==============================] - 46s 33ms/step - loss: 3.1014 - classification_loss: 0.1499 - branch_exit_loss: 1.1398 - branch_exit_1_loss: 0.9140 - classification_accuracy: 0.9525 - branch_exit_accuracy: 0.6158 - branch_exit_1_accuracy: 0.7083 - branch_feature_student_distil: 0.0604 - branch_feature_student_1_distil: 0.0453 - branch_exit_distil: 0.4642 - branch_exit_1_distil: 0.3276 - val_loss: 3.9304 - val_classification_loss: 0.7682 - val_branch_exit_loss: 1.4349 - val_branch_exit_1_loss: 0.9520 - val_classification_accuracy: 0.7874 - val_branch_exit_accuracy: 0.5696 - val_branch_exit_1_accuracy: 0.7040 - val_branch_feature_student_distil: 0.0696 - val_branch_feature_student_1_distil: 0.0405 - val_branch_exit_distil: 0.4186 - val_branch_exit_1_distil: 0.2440\n",
      "Epoch 3/3\n",
      "1407/1407 [==============================] - 43s 31ms/step - loss: 2.6547 - classification_loss: 0.1499 - branch_exit_loss: 1.0066 - branch_exit_1_loss: 0.7921 - classification_accuracy: 0.9525 - branch_exit_accuracy: 0.6688 - branch_exit_1_accuracy: 0.7477 - branch_feature_student_distil: 0.0346 - branch_feature_student_1_distil: 0.0226 - branch_exit_distil: 0.3838 - branch_exit_1_distil: 0.2649 - val_loss: 3.1782 - val_classification_loss: 0.7682 - val_branch_exit_loss: 1.0193 - val_branch_exit_1_loss: 0.8422 - val_classification_accuracy: 0.7874 - val_branch_exit_accuracy: 0.6762 - val_branch_exit_1_accuracy: 0.7318 - val_branch_feature_student_distil: 0.0299 - val_branch_feature_student_1_distil: 0.0184 - val_branch_exit_distil: 0.2970 - val_branch_exit_1_distil: 0.2015\n"
     ]
    },
    {
     "data": {
      "text/plain": [
       "<brevis.core_v2.BranchModel at 0x1cc9d4ddb48>"
      ]
     },
     "execution_count": 11,
     "metadata": {},
     "output_type": "execute_result"
    }
   ],
   "source": [
    "#distil, sgd sm + features \n",
    "model.fit(train_ds, validation_data=validation_ds, epochs=3)"
   ]
  },
  {
   "cell_type": "code",
   "execution_count": 145,
   "metadata": {},
   "outputs": [
    {
     "name": "stdout",
     "output_type": "stream",
     "text": [
      "Setting Main Layers  and branch layers training to true\n",
      "Epoch 1/3\n",
      "1407/1407 [==============================] - 53s 34ms/step - loss: 4.6638 - classification_loss: 0.1499 - branch_exit_loss: 1.4750 - branch_exit_1_loss: 1.3982 - classification_accuracy: 0.9525 - branch_exit_accuracy: 0.4694 - branch_exit_1_accuracy: 0.4999 - branch_feature_student_distil: 0.1038 - branch_feature_student_1_distil: 0.1675 - branch_exit_distil: 0.7040 - branch_exit_1_distil: 0.6650 - val_loss: 4.0643 - val_classification_loss: 0.7682 - val_branch_exit_loss: 1.2350 - val_branch_exit_1_loss: 1.1357 - val_classification_accuracy: 0.7874 - val_branch_exit_accuracy: 0.5894 - val_branch_exit_1_accuracy: 0.6344 - val_branch_feature_student_distil: 0.0509 - val_branch_feature_student_1_distil: 0.0931 - val_branch_exit_distil: 0.4521 - val_branch_exit_1_distil: 0.3270\n",
      "Epoch 2/3\n",
      "1407/1407 [==============================] - 45s 32ms/step - loss: 3.1192 - classification_loss: 0.1499 - branch_exit_loss: 1.1263 - branch_exit_1_loss: 0.9316 - classification_accuracy: 0.9525 - branch_exit_accuracy: 0.6213 - branch_exit_1_accuracy: 0.7028 - branch_feature_student_distil: 0.0584 - branch_feature_student_1_distil: 0.0644 - branch_exit_distil: 0.4535 - branch_exit_1_distil: 0.3347 - val_loss: 3.3847 - val_classification_loss: 0.7682 - val_branch_exit_loss: 1.0728 - val_branch_exit_1_loss: 0.8916 - val_classification_accuracy: 0.7874 - val_branch_exit_accuracy: 0.6488 - val_branch_exit_1_accuracy: 0.7080 - val_branch_feature_student_distil: 0.0491 - val_branch_feature_student_1_distil: 0.0453 - val_branch_exit_distil: 0.3389 - val_branch_exit_1_distil: 0.2168\n",
      "Epoch 3/3\n",
      "1407/1407 [==============================] - 45s 32ms/step - loss: 2.6857 - classification_loss: 0.1499 - branch_exit_loss: 1.0030 - branch_exit_1_loss: 0.7992 - classification_accuracy: 0.9525 - branch_exit_accuracy: 0.6649 - branch_exit_1_accuracy: 0.7463 - branch_feature_student_distil: 0.0462 - branch_feature_student_1_distil: 0.0394 - branch_exit_distil: 0.3822 - branch_exit_1_distil: 0.2656 - val_loss: 3.0430 - val_classification_loss: 0.7682 - val_branch_exit_loss: 0.9505 - val_branch_exit_1_loss: 0.7899 - val_classification_accuracy: 0.7874 - val_branch_exit_accuracy: 0.6806 - val_branch_exit_1_accuracy: 0.7486 - val_branch_feature_student_distil: 0.0309 - val_branch_feature_student_1_distil: 0.0340 - val_branch_exit_distil: 0.2878 - val_branch_exit_1_distil: 0.1801\n"
     ]
    },
    {
     "data": {
      "text/plain": [
       "<brevis.core_v2.BranchModel at 0x140a8a36348>"
      ]
     },
     "execution_count": 145,
     "metadata": {},
     "output_type": "execute_result"
    }
   ],
   "source": [
    "#distil, sgd sm + features \n",
    "model.fit(train_ds, validation_data=validation_ds, epochs=3)"
   ]
  },
  {
   "cell_type": "code",
   "execution_count": 131,
   "metadata": {},
   "outputs": [
    {
     "name": "stdout",
     "output_type": "stream",
     "text": [
      "Setting Main Layers  and branch layers training to true\n",
      "Epoch 1/3\n",
      "1407/1407 [==============================] - 47s 30ms/step - loss: 3.5386 - classification_loss: 0.1499 - branch_feature_student_loss: 1.2870 - branch_feature_student_1_loss: 1.1000 - classification_accuracy: 0.9525 - branch_feature_student_accuracy: 0.5606 - branch_feature_student_1_accuracy: 0.6334 - branch_feature_student_distil: 0.5592 - branch_feature_student_1_distil: 0.4421 - val_loss: 3.3615 - val_classification_loss: 0.7682 - val_branch_feature_student_loss: 1.0927 - val_branch_feature_student_1_loss: 0.9039 - val_classification_accuracy: 0.7874 - val_branch_feature_student_accuracy: 0.6264 - val_branch_feature_student_1_accuracy: 0.7016 - val_branch_feature_student_distil: 0.3569 - val_branch_feature_student_1_distil: 0.2381\n",
      "Epoch 2/3\n",
      "1407/1407 [==============================] - 39s 28ms/step - loss: 2.6696 - classification_loss: 0.1499 - branch_feature_student_loss: 1.0215 - branch_feature_student_1_loss: 0.8150 - classification_accuracy: 0.9525 - branch_feature_student_accuracy: 0.6570 - branch_feature_student_1_accuracy: 0.7310 - branch_feature_student_distil: 0.4006 - branch_feature_student_1_distil: 0.2825 - val_loss: 2.9795 - val_classification_loss: 0.7682 - val_branch_feature_student_loss: 0.9301 - val_branch_feature_student_1_loss: 0.8100 - val_classification_accuracy: 0.7874 - val_branch_feature_student_accuracy: 0.6792 - val_branch_feature_student_1_accuracy: 0.7316 - val_branch_feature_student_distil: 0.2756 - val_branch_feature_student_1_distil: 0.1944\n",
      "Epoch 3/3\n",
      "1407/1407 [==============================] - 39s 28ms/step - loss: 2.3231 - classification_loss: 0.1499 - branch_feature_student_loss: 0.8965 - branch_feature_student_1_loss: 0.7092 - classification_accuracy: 0.9525 - branch_feature_student_accuracy: 0.6988 - branch_feature_student_1_accuracy: 0.7661 - branch_feature_student_distil: 0.3335 - branch_feature_student_1_distil: 0.2337 - val_loss: 2.9563 - val_classification_loss: 0.7682 - val_branch_feature_student_loss: 0.9236 - val_branch_feature_student_1_loss: 0.8146 - val_classification_accuracy: 0.7874 - val_branch_feature_student_accuracy: 0.6996 - val_branch_feature_student_1_accuracy: 0.7336 - val_branch_feature_student_distil: 0.2628 - val_branch_feature_student_1_distil: 0.1860\n"
     ]
    },
    {
     "data": {
      "text/plain": [
       "<brevis.core_v2.BranchModel at 0x14079393ec8>"
      ]
     },
     "execution_count": 131,
     "metadata": {},
     "output_type": "execute_result"
    }
   ],
   "source": [
    "#distil, sgd\n",
    "model.fit(train_ds, validation_data=validation_ds, epochs=3)"
   ]
  },
  {
   "cell_type": "code",
   "execution_count": 133,
   "metadata": {},
   "outputs": [
    {
     "name": "stdout",
     "output_type": "stream",
     "text": [
      "Setting Main Layers  and branch layers training to true\n",
      "Epoch 1/3\n",
      "1407/1407 [==============================] - 42s 27ms/step - loss: 2.4721 - classification_loss: 0.1499 - branch_exit_loss: 1.2539 - branch_exit_1_loss: 1.0683 - classification_accuracy: 0.9525 - branch_exit_accuracy: 0.5565 - branch_exit_1_accuracy: 0.6318 - val_loss: 2.7930 - val_classification_loss: 0.7682 - val_branch_exit_loss: 1.0527 - val_branch_exit_1_loss: 0.9721 - val_classification_accuracy: 0.7874 - val_branch_exit_accuracy: 0.6270 - val_branch_exit_1_accuracy: 0.6698\n",
      "Epoch 2/3\n",
      "1407/1407 [==============================] - 37s 26ms/step - loss: 1.9426 - classification_loss: 0.1499 - branch_exit_loss: 0.9946 - branch_exit_1_loss: 0.7981 - classification_accuracy: 0.9525 - branch_exit_accuracy: 0.6533 - branch_exit_1_accuracy: 0.7298 - val_loss: 2.7129 - val_classification_loss: 0.7682 - val_branch_exit_loss: 1.0252 - val_branch_exit_1_loss: 0.9194 - val_classification_accuracy: 0.7874 - val_branch_exit_accuracy: 0.6412 - val_branch_exit_1_accuracy: 0.6922\n",
      "Epoch 3/3\n",
      "1407/1407 [==============================] - 37s 26ms/step - loss: 1.7235 - classification_loss: 0.1499 - branch_exit_loss: 0.8795 - branch_exit_1_loss: 0.6942 - classification_accuracy: 0.9525 - branch_exit_accuracy: 0.6937 - branch_exit_1_accuracy: 0.7630 - val_loss: 2.4287 - val_classification_loss: 0.7682 - val_branch_exit_loss: 0.8789 - val_branch_exit_1_loss: 0.7816 - val_classification_accuracy: 0.7874 - val_branch_exit_accuracy: 0.6918 - val_branch_exit_1_accuracy: 0.7378\n"
     ]
    },
    {
     "data": {
      "text/plain": [
       "<brevis.core_v2.BranchModel at 0x14098d6f0c8>"
      ]
     },
     "execution_count": 133,
     "metadata": {},
     "output_type": "execute_result"
    }
   ],
   "source": [
    "#no distill, sgd\n",
    "model.fit(train_ds, validation_data=validation_ds, epochs=3)"
   ]
  },
  {
   "cell_type": "code",
   "execution_count": 129,
   "metadata": {},
   "outputs": [
    {
     "name": "stdout",
     "output_type": "stream",
     "text": [
      "Setting Main Layers  and branch layers training to true\n",
      "Epoch 1/3\n",
      "1407/1407 [==============================] - 45s 29ms/step - loss: 3.4366 - classification_loss: 0.1499 - branch_feature_student_loss: 1.2458 - branch_feature_student_1_loss: 1.0673 - classification_accuracy: 0.9525 - branch_feature_student_accuracy: 0.5723 - branch_feature_student_1_accuracy: 0.6394 - branch_feature_student_distil: 0.5427 - branch_feature_student_1_distil: 0.4307 - val_loss: 3.4621 - val_classification_loss: 0.7682 - val_branch_feature_student_loss: 1.1705 - val_branch_feature_student_1_loss: 0.9338 - val_classification_accuracy: 0.7874 - val_branch_feature_student_accuracy: 0.5982 - val_branch_feature_student_1_accuracy: 0.6870 - val_branch_feature_student_distil: 0.3523 - val_branch_feature_student_1_distil: 0.2354\n",
      "Epoch 2/3\n",
      "1407/1407 [==============================] - 40s 28ms/step - loss: 2.5507 - classification_loss: 0.1499 - branch_feature_student_loss: 0.9663 - branch_feature_student_1_loss: 0.7858 - classification_accuracy: 0.9525 - branch_feature_student_accuracy: 0.6710 - branch_feature_student_1_accuracy: 0.7406 - branch_feature_student_distil: 0.3767 - branch_feature_student_1_distil: 0.2718 - val_loss: 2.9826 - val_classification_loss: 0.7682 - val_branch_feature_student_loss: 0.9555 - val_branch_feature_student_1_loss: 0.8058 - val_classification_accuracy: 0.7874 - val_branch_feature_student_accuracy: 0.6800 - val_branch_feature_student_1_accuracy: 0.7360 - val_branch_feature_student_distil: 0.2580 - val_branch_feature_student_1_distil: 0.1937\n",
      "Epoch 3/3\n",
      "1407/1407 [==============================] - 40s 28ms/step - loss: 2.2256 - classification_loss: 0.1499 - branch_feature_student_loss: 0.8555 - branch_feature_student_1_loss: 0.6816 - classification_accuracy: 0.9525 - branch_feature_student_accuracy: 0.7116 - branch_feature_student_1_accuracy: 0.7748 - branch_feature_student_distil: 0.3169 - branch_feature_student_1_distil: 0.2215 - val_loss: 2.8178 - val_classification_loss: 0.7682 - val_branch_feature_student_loss: 0.8527 - val_branch_feature_student_1_loss: 0.7798 - val_classification_accuracy: 0.7874 - val_branch_feature_student_accuracy: 0.7194 - val_branch_feature_student_1_accuracy: 0.7468 - val_branch_feature_student_distil: 0.2264 - val_branch_feature_student_1_distil: 0.1895\n"
     ]
    },
    {
     "data": {
      "text/plain": [
       "<brevis.core_v2.BranchModel at 0x13e12f4f588>"
      ]
     },
     "execution_count": 129,
     "metadata": {},
     "output_type": "execute_result"
    }
   ],
   "source": [
    "#distil, adam\n",
    "model.fit(train_ds, validation_data=validation_ds, epochs=3)"
   ]
  },
  {
   "cell_type": "code",
   "execution_count": 125,
   "metadata": {},
   "outputs": [
    {
     "name": "stdout",
     "output_type": "stream",
     "text": [
      "Setting Main Layers  and branch layers training to true\n",
      "Epoch 1/3\n",
      "1407/1407 [==============================] - 42s 27ms/step - loss: 2.4556 - classification_loss: 0.1499 - branch_exit_loss: 1.2392 - branch_exit_1_loss: 1.0665 - classification_accuracy: 0.9525 - branch_exit_accuracy: 0.5608 - branch_exit_1_accuracy: 0.6322 - val_loss: 2.7918 - val_classification_loss: 0.7682 - val_branch_exit_loss: 1.1477 - val_branch_exit_1_loss: 0.8758 - val_classification_accuracy: 0.7874 - val_branch_exit_accuracy: 0.5982 - val_branch_exit_1_accuracy: 0.6966\n",
      "Epoch 2/3\n",
      "1407/1407 [==============================] - 38s 27ms/step - loss: 1.9078 - classification_loss: 0.1499 - branch_exit_loss: 0.9683 - branch_exit_1_loss: 0.7895 - classification_accuracy: 0.9525 - branch_exit_accuracy: 0.6603 - branch_exit_1_accuracy: 0.7289 - val_loss: 2.5399 - val_classification_loss: 0.7682 - val_branch_exit_loss: 0.9531 - val_branch_exit_1_loss: 0.8186 - val_classification_accuracy: 0.7874 - val_branch_exit_accuracy: 0.6620 - val_branch_exit_1_accuracy: 0.7230\n",
      "Epoch 3/3\n",
      "1407/1407 [==============================] - 37s 26ms/step - loss: 1.6994 - classification_loss: 0.1499 - branch_exit_loss: 0.8595 - branch_exit_1_loss: 0.6899 - classification_accuracy: 0.9525 - branch_exit_accuracy: 0.7006 - branch_exit_1_accuracy: 0.7643 - val_loss: 2.4482 - val_classification_loss: 0.7682 - val_branch_exit_loss: 0.8891 - val_branch_exit_1_loss: 0.7909 - val_classification_accuracy: 0.7874 - val_branch_exit_accuracy: 0.6892 - val_branch_exit_1_accuracy: 0.7372\n"
     ]
    },
    {
     "data": {
      "text/plain": [
       "<brevis.core_v2.BranchModel at 0x14069963d08>"
      ]
     },
     "execution_count": 125,
     "metadata": {},
     "output_type": "execute_result"
    }
   ],
   "source": [
    "#### CE no distil adam\n",
    "model.fit(train_ds, validation_data=validation_ds, epochs=3)"
   ]
  },
  {
   "cell_type": "code",
   "execution_count": null,
   "metadata": {},
   "outputs": [],
   "source": [
    "model.save(\"models/journal_models/resnetDistil_edl_sm.hdf5\")"
   ]
  },
  {
   "cell_type": "code",
   "execution_count": 40,
   "metadata": {},
   "outputs": [
    {
     "name": "stdout",
     "output_type": "stream",
     "text": [
      "Setting Main Layers  and branch layers training to true\n",
      "Epoch 1/15\n",
      "1407/1407 [==============================] - 56s 36ms/step - loss: 3.1156 - classification_loss: 0.1499 - branch_exit_loss: 0.9400 - branch_exit_1_loss: 0.9393 - classification_accuracy: 0.9525 - branch_exit_accuracy: 0.5090 - branch_exit_1_accuracy: 0.5793 - branch_exit_distil: 0.5989 - branch_exit_1_distil: 0.4875 - val_loss: 3.3676 - val_classification_loss: 0.7682 - val_branch_exit_loss: 0.9394 - val_branch_exit_1_loss: 0.9383 - val_classification_accuracy: 0.7874 - val_branch_exit_accuracy: 0.5638 - val_branch_exit_1_accuracy: 0.6636 - val_branch_exit_distil: 0.4377 - val_branch_exit_1_distil: 0.2813\n",
      "Epoch 2/15\n",
      "1407/1407 [==============================] - 48s 34ms/step - loss: 2.7461 - classification_loss: 0.1499 - branch_exit_loss: 0.9389 - branch_exit_1_loss: 0.9381 - classification_accuracy: 0.9525 - branch_exit_accuracy: 0.6158 - branch_exit_1_accuracy: 0.6955 - branch_exit_distil: 0.4186 - branch_exit_1_distil: 0.3006 - val_loss: 3.1648 - val_classification_loss: 0.7682 - val_branch_exit_loss: 0.9385 - val_branch_exit_1_loss: 0.9380 - val_classification_accuracy: 0.7874 - val_branch_exit_accuracy: 0.6574 - val_branch_exit_1_accuracy: 0.6932 - val_branch_exit_distil: 0.2824 - val_branch_exit_1_distil: 0.2359\n",
      "Epoch 3/15\n",
      "1407/1407 [==============================] - 49s 34ms/step - loss: 2.6457 - classification_loss: 0.1499 - branch_exit_loss: 0.9386 - branch_exit_1_loss: 0.9377 - classification_accuracy: 0.9525 - branch_exit_accuracy: 0.6465 - branch_exit_1_accuracy: 0.7249 - branch_exit_distil: 0.3676 - branch_exit_1_distil: 0.2518 - val_loss: 3.1040 - val_classification_loss: 0.7682 - val_branch_exit_loss: 0.9384 - val_branch_exit_1_loss: 0.9376 - val_classification_accuracy: 0.7874 - val_branch_exit_accuracy: 0.6698 - val_branch_exit_1_accuracy: 0.7304 - val_branch_exit_distil: 0.2765 - val_branch_exit_1_distil: 0.1832\n",
      "Epoch 4/15\n",
      "1407/1407 [==============================] - 46s 33ms/step - loss: 2.5698 - classification_loss: 0.1499 - branch_exit_loss: 0.9383 - branch_exit_1_loss: 0.9375 - classification_accuracy: 0.9525 - branch_exit_accuracy: 0.6761 - branch_exit_1_accuracy: 0.7478 - branch_exit_distil: 0.3242 - branch_exit_1_distil: 0.2198 - val_loss: 3.0695 - val_classification_loss: 0.7682 - val_branch_exit_loss: 0.9381 - val_branch_exit_1_loss: 0.9376 - val_classification_accuracy: 0.7874 - val_branch_exit_accuracy: 0.6874 - val_branch_exit_1_accuracy: 0.7344 - val_branch_exit_distil: 0.2434 - val_branch_exit_1_distil: 0.1810\n",
      "Epoch 5/15\n",
      "1407/1407 [==============================] - 47s 33ms/step - loss: 2.5291 - classification_loss: 0.1499 - branch_exit_loss: 0.9381 - branch_exit_1_loss: 0.9373 - classification_accuracy: 0.9525 - branch_exit_accuracy: 0.6869 - branch_exit_1_accuracy: 0.7630 - branch_exit_distil: 0.3039 - branch_exit_1_distil: 0.1997 - val_loss: 3.0666 - val_classification_loss: 0.7682 - val_branch_exit_loss: 0.9382 - val_branch_exit_1_loss: 0.9375 - val_classification_accuracy: 0.7874 - val_branch_exit_accuracy: 0.6850 - val_branch_exit_1_accuracy: 0.7432 - val_branch_exit_distil: 0.2474 - val_branch_exit_1_distil: 0.1740\n",
      "Epoch 6/15\n",
      "1407/1407 [==============================] - 47s 33ms/step - loss: 2.4910 - classification_loss: 0.1499 - branch_exit_loss: 0.9380 - branch_exit_1_loss: 0.9372 - classification_accuracy: 0.9525 - branch_exit_accuracy: 0.7026 - branch_exit_1_accuracy: 0.7755 - branch_exit_distil: 0.2826 - branch_exit_1_distil: 0.1831 - val_loss: 3.0485 - val_classification_loss: 0.7682 - val_branch_exit_loss: 0.9380 - val_branch_exit_1_loss: 0.9375 - val_classification_accuracy: 0.7874 - val_branch_exit_accuracy: 0.6988 - val_branch_exit_1_accuracy: 0.7426 - val_branch_exit_distil: 0.2318 - val_branch_exit_1_distil: 0.1717\n",
      "Epoch 7/15\n",
      "1407/1407 [==============================] - 47s 33ms/step - loss: 2.4579 - classification_loss: 0.1499 - branch_exit_loss: 0.9378 - branch_exit_1_loss: 0.9371 - classification_accuracy: 0.9525 - branch_exit_accuracy: 0.7172 - branch_exit_1_accuracy: 0.7847 - branch_exit_distil: 0.2597 - branch_exit_1_distil: 0.1732 - val_loss: 3.0409 - val_classification_loss: 0.7682 - val_branch_exit_loss: 0.9380 - val_branch_exit_1_loss: 0.9374 - val_classification_accuracy: 0.7874 - val_branch_exit_accuracy: 0.6968 - val_branch_exit_1_accuracy: 0.7522 - val_branch_exit_distil: 0.2343 - val_branch_exit_1_distil: 0.1619\n",
      "Epoch 8/15\n",
      "1407/1407 [==============================] - 47s 33ms/step - loss: 2.4352 - classification_loss: 0.1499 - branch_exit_loss: 0.9377 - branch_exit_1_loss: 0.9370 - classification_accuracy: 0.9525 - branch_exit_accuracy: 0.7239 - branch_exit_1_accuracy: 0.7911 - branch_exit_distil: 0.2481 - branch_exit_1_distil: 0.1623 - val_loss: 3.0150 - val_classification_loss: 0.7682 - val_branch_exit_loss: 0.9379 - val_branch_exit_1_loss: 0.9374 - val_classification_accuracy: 0.7874 - val_branch_exit_accuracy: 0.7074 - val_branch_exit_1_accuracy: 0.7530 - val_branch_exit_distil: 0.2082 - val_branch_exit_1_distil: 0.1622\n",
      "Epoch 9/15\n",
      "1407/1407 [==============================] - 46s 33ms/step - loss: 2.4072 - classification_loss: 0.1499 - branch_exit_loss: 0.9376 - branch_exit_1_loss: 0.9369 - classification_accuracy: 0.9525 - branch_exit_accuracy: 0.7368 - branch_exit_1_accuracy: 0.8010 - branch_exit_distil: 0.2316 - branch_exit_1_distil: 0.1511 - val_loss: 2.9998 - val_classification_loss: 0.7682 - val_branch_exit_loss: 0.9377 - val_branch_exit_1_loss: 0.9374 - val_classification_accuracy: 0.7874 - val_branch_exit_accuracy: 0.7248 - val_branch_exit_1_accuracy: 0.7534 - val_branch_exit_distil: 0.1920 - val_branch_exit_1_distil: 0.1635\n",
      "Epoch 10/15\n",
      "1407/1407 [==============================] - 46s 33ms/step - loss: 2.3910 - classification_loss: 0.1499 - branch_exit_loss: 0.9375 - branch_exit_1_loss: 0.9369 - classification_accuracy: 0.9525 - branch_exit_accuracy: 0.7461 - branch_exit_1_accuracy: 0.8056 - branch_exit_distil: 0.2222 - branch_exit_1_distil: 0.1444 - val_loss: 3.0013 - val_classification_loss: 0.7682 - val_branch_exit_loss: 0.9377 - val_branch_exit_1_loss: 0.9373 - val_classification_accuracy: 0.7874 - val_branch_exit_accuracy: 0.7242 - val_branch_exit_1_accuracy: 0.7620 - val_branch_exit_distil: 0.2009 - val_branch_exit_1_distil: 0.1563\n",
      "Epoch 11/15\n",
      "1407/1407 [==============================] - 47s 33ms/step - loss: 2.3659 - classification_loss: 0.1499 - branch_exit_loss: 0.9374 - branch_exit_1_loss: 0.9368 - classification_accuracy: 0.9525 - branch_exit_accuracy: 0.7572 - branch_exit_1_accuracy: 0.8130 - branch_exit_distil: 0.2054 - branch_exit_1_distil: 0.1363 - val_loss: 2.9904 - val_classification_loss: 0.7682 - val_branch_exit_loss: 0.9377 - val_branch_exit_1_loss: 0.9373 - val_classification_accuracy: 0.7874 - val_branch_exit_accuracy: 0.7298 - val_branch_exit_1_accuracy: 0.7588 - val_branch_exit_distil: 0.1927 - val_branch_exit_1_distil: 0.1535\n",
      "Epoch 12/15\n",
      "1407/1407 [==============================] - 47s 33ms/step - loss: 2.3520 - classification_loss: 0.1499 - branch_exit_loss: 0.9373 - branch_exit_1_loss: 0.9367 - classification_accuracy: 0.9525 - branch_exit_accuracy: 0.7616 - branch_exit_1_accuracy: 0.8201 - branch_exit_distil: 0.2006 - branch_exit_1_distil: 0.1275 - val_loss: 2.9805 - val_classification_loss: 0.7682 - val_branch_exit_loss: 0.9376 - val_branch_exit_1_loss: 0.9373 - val_classification_accuracy: 0.7874 - val_branch_exit_accuracy: 0.7372 - val_branch_exit_1_accuracy: 0.7612 - val_branch_exit_distil: 0.1862 - val_branch_exit_1_distil: 0.1501\n",
      "Epoch 13/15\n",
      "1407/1407 [==============================] - 46s 33ms/step - loss: 2.3354 - classification_loss: 0.1499 - branch_exit_loss: 0.9372 - branch_exit_1_loss: 0.9367 - classification_accuracy: 0.9525 - branch_exit_accuracy: 0.7719 - branch_exit_1_accuracy: 0.8230 - branch_exit_distil: 0.1872 - branch_exit_1_distil: 0.1243 - val_loss: 2.9851 - val_classification_loss: 0.7682 - val_branch_exit_loss: 0.9376 - val_branch_exit_1_loss: 0.9372 - val_classification_accuracy: 0.7874 - val_branch_exit_accuracy: 0.7322 - val_branch_exit_1_accuracy: 0.7646 - val_branch_exit_distil: 0.1946 - val_branch_exit_1_distil: 0.1466\n",
      "Epoch 14/15\n",
      "1407/1407 [==============================] - 47s 33ms/step - loss: 2.3241 - classification_loss: 0.1499 - branch_exit_loss: 0.9372 - branch_exit_1_loss: 0.9366 - classification_accuracy: 0.9525 - branch_exit_accuracy: 0.7759 - branch_exit_1_accuracy: 0.8320 - branch_exit_distil: 0.1831 - branch_exit_1_distil: 0.1173 - val_loss: 2.9918 - val_classification_loss: 0.7682 - val_branch_exit_loss: 0.9376 - val_branch_exit_1_loss: 0.9373 - val_classification_accuracy: 0.7874 - val_branch_exit_accuracy: 0.7310 - val_branch_exit_1_accuracy: 0.7602 - val_branch_exit_distil: 0.1900 - val_branch_exit_1_distil: 0.1576\n",
      "Epoch 15/15\n",
      "1407/1407 [==============================] - 46s 33ms/step - loss: 2.3140 - classification_loss: 0.1499 - branch_exit_loss: 0.9372 - branch_exit_1_loss: 0.9365 - classification_accuracy: 0.9525 - branch_exit_accuracy: 0.7789 - branch_exit_1_accuracy: 0.8357 - branch_exit_distil: 0.1790 - branch_exit_1_distil: 0.1113 - val_loss: 2.9896 - val_classification_loss: 0.7682 - val_branch_exit_loss: 0.9376 - val_branch_exit_1_loss: 0.9374 - val_classification_accuracy: 0.7874 - val_branch_exit_accuracy: 0.7368 - val_branch_exit_1_accuracy: 0.7454 - val_branch_exit_distil: 0.1794 - val_branch_exit_1_distil: 0.1658\n"
     ]
    },
    {
     "data": {
      "text/plain": [
       "<brevis.core_v2.BranchModel at 0x2660f1fc288>"
      ]
     },
     "execution_count": 40,
     "metadata": {},
     "output_type": "execute_result"
    }
   ],
   "source": [
    "#distill\n",
    "model.fit(train_ds, validation_data=validation_ds, epochs=15)"
   ]
  },
  {
   "cell_type": "code",
   "execution_count": 41,
   "metadata": {},
   "outputs": [
    {
     "name": "stdout",
     "output_type": "stream",
     "text": [
      "Setting Main Layers  and branch layers training to true\n",
      "Epoch 1/3\n",
      "1407/1407 [==============================] - 48s 30ms/step - loss: 3.5128 - classification_loss: 0.1499 - branch_exit_loss: 1.2834 - branch_exit_1_loss: 1.0840 - classification_accuracy: 0.9525 - branch_exit_accuracy: 0.5596 - branch_exit_1_accuracy: 0.6376 - branch_exit_distil: 0.5611 - branch_exit_1_distil: 0.4346 - val_loss: 3.3337 - val_classification_loss: 0.7682 - val_branch_exit_loss: 1.0758 - val_branch_exit_1_loss: 0.8675 - val_classification_accuracy: 0.7874 - val_branch_exit_accuracy: 0.6308 - val_branch_exit_1_accuracy: 0.7136 - val_branch_exit_distil: 0.3731 - val_branch_exit_1_distil: 0.2476\n",
      "Epoch 2/3\n",
      "1407/1407 [==============================] - 40s 28ms/step - loss: 2.6531 - classification_loss: 0.1499 - branch_exit_loss: 1.0102 - branch_exit_1_loss: 0.8161 - classification_accuracy: 0.9525 - branch_exit_accuracy: 0.6616 - branch_exit_1_accuracy: 0.7319 - branch_exit_distil: 0.3943 - branch_exit_1_distil: 0.2824 - val_loss: 3.0893 - val_classification_loss: 0.7682 - val_branch_exit_loss: 0.9752 - val_branch_exit_1_loss: 0.8364 - val_classification_accuracy: 0.7874 - val_branch_exit_accuracy: 0.6748 - val_branch_exit_1_accuracy: 0.7354 - val_branch_exit_distil: 0.2937 - val_branch_exit_1_distil: 0.2143\n",
      "Epoch 3/3\n",
      "1407/1407 [==============================] - 40s 28ms/step - loss: 2.3342 - classification_loss: 0.1499 - branch_exit_loss: 0.9006 - branch_exit_1_loss: 0.7140 - classification_accuracy: 0.9525 - branch_exit_accuracy: 0.6984 - branch_exit_1_accuracy: 0.7637 - branch_exit_distil: 0.3345 - branch_exit_1_distil: 0.2352 - val_loss: 3.0545 - val_classification_loss: 0.7682 - val_branch_exit_loss: 0.9486 - val_branch_exit_1_loss: 0.8688 - val_classification_accuracy: 0.7874 - val_branch_exit_accuracy: 0.6868 - val_branch_exit_1_accuracy: 0.7146 - val_branch_exit_distil: 0.2660 - val_branch_exit_1_distil: 0.2018\n"
     ]
    },
    {
     "data": {
      "text/plain": [
       "<brevis.core_v2.BranchModel at 0x16389249e08>"
      ]
     },
     "execution_count": 41,
     "metadata": {},
     "output_type": "execute_result"
    }
   ],
   "source": [
    "model.fit(train_ds, validation_data=validation_ds, epochs=3)"
   ]
  },
  {
   "cell_type": "code",
   "execution_count": 9,
   "metadata": {},
   "outputs": [
    {
     "name": "stdout",
     "output_type": "stream",
     "text": [
      "Setting Main Layers  and branch layers training to true\n",
      "Epoch 1/3\n",
      "1407/1407 [==============================] - 50s 30ms/step - loss: 3.0219 - classification_loss: 0.1499 - branch_exit_loss: 1.2653 - branch_exit_1_loss: 1.0697 - classification_accuracy: 0.9525 - branch_exit_accuracy: 0.5608 - branch_exit_1_accuracy: 0.6365 - branch_exit_distil: 0.3021 - branch_exit_1_distil: 0.2348 - val_loss: 2.9836 - val_classification_loss: 0.7682 - val_branch_exit_loss: 1.0463 - val_branch_exit_1_loss: 0.8442 - val_classification_accuracy: 0.7874 - val_branch_exit_accuracy: 0.6388 - val_branch_exit_1_accuracy: 0.7168 - val_branch_exit_distil: 0.1967 - val_branch_exit_1_distil: 0.1275\n",
      "Epoch 2/3\n",
      "1407/1407 [==============================] - 40s 29ms/step - loss: 2.3202 - classification_loss: 0.1499 - branch_exit_loss: 0.9966 - branch_exit_1_loss: 0.8053 - classification_accuracy: 0.9525 - branch_exit_accuracy: 0.6584 - branch_exit_1_accuracy: 0.7301 - branch_exit_distil: 0.2136 - branch_exit_1_distil: 0.1547 - val_loss: 2.7534 - val_classification_loss: 0.7682 - val_branch_exit_loss: 0.9245 - val_branch_exit_1_loss: 0.7940 - val_classification_accuracy: 0.7874 - val_branch_exit_accuracy: 0.6862 - val_branch_exit_1_accuracy: 0.7368 - val_branch_exit_distil: 0.1594 - val_branch_exit_1_distil: 0.1065\n",
      "Epoch 3/3\n",
      "1407/1407 [==============================] - 40s 28ms/step - loss: 2.0612 - classification_loss: 0.1499 - branch_exit_loss: 0.8860 - branch_exit_1_loss: 0.7130 - classification_accuracy: 0.9525 - branch_exit_accuracy: 0.6961 - branch_exit_1_accuracy: 0.7599 - branch_exit_distil: 0.1819 - branch_exit_1_distil: 0.1305 - val_loss: 2.6808 - val_classification_loss: 0.7682 - val_branch_exit_loss: 0.8928 - val_branch_exit_1_loss: 0.7733 - val_classification_accuracy: 0.7874 - val_branch_exit_accuracy: 0.6994 - val_branch_exit_1_accuracy: 0.7360 - val_branch_exit_distil: 0.1402 - val_branch_exit_1_distil: 0.1058\n"
     ]
    },
    {
     "data": {
      "text/plain": [
       "<brevis.core_v2.BranchModel at 0x22bb1c51388>"
      ]
     },
     "execution_count": 9,
     "metadata": {},
     "output_type": "execute_result"
    }
   ],
   "source": [
    "\n",
    "# temp 10, equal weighting of loss \n",
    "model.fit(train_ds, validation_data=validation_ds, epochs=3)"
   ]
  },
  {
   "cell_type": "code",
   "execution_count": 16,
   "metadata": {
    "tags": []
   },
   "outputs": [
    {
     "name": "stdout",
     "output_type": "stream",
     "text": [
      "Matching Branchpoint by name\n",
      "add Branch to branch point  conv2_block1_out\n",
      "add Branch to branch point  conv2_block3_out\n",
      "branch added <keras.engine.functional.Functional object at 0x000002040A14BBC8>\n",
      "Freezing Main Layers and setting branch layers training to true\n"
     ]
    }
   ],
   "source": [
    "import random\n",
    "seed = 42\n",
    "random.seed(seed)\n",
    "tf.random.set_seed(seed)\n",
    "np.random.seed(seed)\n",
    "tf.keras.backend.clear_session()\n",
    "\n",
    "\n",
    "growth_callback = growth_update(60, 0.,max_t = 1, starting_epoch =1)\n",
    "# auxlossMetric = auxLoss(growth_callback)\n",
    "branch_loss = IAD_loss(growth_callback)\n",
    "# branch_loss_CE = keras.losses.CategoricalCrossentropy(from_logits=True)\n",
    "trunk_loss = keras.losses.CategoricalCrossentropy(from_logits=False)\n",
    "CE_loss = keras.losses.CategoricalCrossentropy(from_logits=True)\n",
    "# earlyStop = tf.keras.callbacks.EarlyStopping(monitor=\"val_accuracy\",patience=4,restore_best_weights=True)\n",
    "\n",
    "# def scheduler(epoch,lr):\n",
    "#     if epoch < 5:\n",
    "#         tf.print(\"learning rate set to\",lr)\n",
    "#         return lr\n",
    "#     else:\n",
    "#         modif = 1+ (epoch % 5) /10\n",
    "#         tf.print(\"learning rate set to\",lr * modif)\n",
    "#         return lr  * modif\n",
    "# lr_schedule = tf.keras.callbacks.LearningRateScheduler(scheduler)\n",
    "    \n",
    "\n",
    "model = brevis.BranchModel(name=\"./models/journal_models/resnet_CE_entropy_finetuned.hdf5\", custom_objects={})\n",
    "# model.add_branches([_branch_flat,_branch_flat],\n",
    "#                           [\"conv2_block1_out\",\"conv2_block3_out\",\n",
    "#                             # \"dense\"\n",
    "#                           ],\n",
    "#                           target_input=False,loop=False,num_outputs=10)\n",
    "\n",
    "# model.add_branches([_branch_conv2_distill,_branch_conv2_distill],\n",
    "#                           [\"conv2_block1_out\",\"conv2_block3_out\",\n",
    "#                           ],\n",
    "#                           target_input=False,loop=False,num_outputs=10)\n",
    "# model.summary()\n",
    "model.add_distill(\"classification\",[_branch_conv2_SM,_branch_conv2_SM],\n",
    "                          [\"conv2_block1_out\",\"conv2_block3_out\",\n",
    "                          ],\n",
    "                          loop=False,num_outputs=10)\n",
    "\n",
    "model.setTrainable(True)\n",
    "\n",
    "# model.compile(loss = [trunk_loss,loss_fn,loss_fn], optimizer=tf.optimizers.SGD(learning_rate=0.001, momentum=0.9),metrics=['accuracy'])\n",
    "model.compile(loss=[trunk_loss,trunk_loss,trunk_loss], \n",
    "                  optimizer=tf.optimizers.SGD(learning_rate=0.01, momentum=0.9),\n",
    "                  # optimizer=tf.keras.optimizers.RMSprop(learning_rate=0.1),\n",
    "                  # optimizer=tf.keras.optimizers.Adam(learning_rate=0.001,  beta_1=0.99,  beta_2=0.999,),\n",
    "                  # optimizer=\"adam\",\n",
    "               metrics=['accuracy'])\n",
    "\n",
    "\n"
   ]
  },
  {
   "cell_type": "code",
   "execution_count": 17,
   "metadata": {},
   "outputs": [
    {
     "name": "stdout",
     "output_type": "stream",
     "text": [
      "Setting Main Layers  and branch layers training to true\n",
      "Epoch 1/3\n",
      "1407/1407 [==============================] - 42s 27ms/step - loss: 2.4771 - classification_loss: 0.1499 - branch_exit_loss: 1.2667 - branch_exit_1_loss: 1.0605 - classification_accuracy: 0.9525 - branch_exit_accuracy: 0.5513 - branch_exit_1_accuracy: 0.6324 - val_loss: 2.6069 - val_classification_loss: 0.7682 - val_branch_exit_loss: 0.9988 - val_branch_exit_1_loss: 0.8398 - val_classification_accuracy: 0.7874 - val_branch_exit_accuracy: 0.6596 - val_branch_exit_1_accuracy: 0.7184\n",
      "Epoch 2/3\n",
      "1407/1407 [==============================] - 37s 26ms/step - loss: 1.9521 - classification_loss: 0.1499 - branch_exit_loss: 1.0006 - branch_exit_1_loss: 0.8016 - classification_accuracy: 0.9525 - branch_exit_accuracy: 0.6502 - branch_exit_1_accuracy: 0.7282 - val_loss: 2.4577 - val_classification_loss: 0.7682 - val_branch_exit_loss: 0.9210 - val_branch_exit_1_loss: 0.7684 - val_classification_accuracy: 0.7874 - val_branch_exit_accuracy: 0.6800 - val_branch_exit_1_accuracy: 0.7406\n",
      "Epoch 3/3\n",
      "1407/1407 [==============================] - 37s 26ms/step - loss: 1.7459 - classification_loss: 0.1499 - branch_exit_loss: 0.8884 - branch_exit_1_loss: 0.7076 - classification_accuracy: 0.9525 - branch_exit_accuracy: 0.6903 - branch_exit_1_accuracy: 0.7580 - val_loss: 2.4832 - val_classification_loss: 0.7682 - val_branch_exit_loss: 0.9455 - val_branch_exit_1_loss: 0.7695 - val_classification_accuracy: 0.7874 - val_branch_exit_accuracy: 0.6796 - val_branch_exit_1_accuracy: 0.7438\n"
     ]
    },
    {
     "data": {
      "text/plain": [
       "<brevis.core_v2.BranchModel at 0x201c6717548>"
      ]
     },
     "execution_count": 17,
     "metadata": {},
     "output_type": "execute_result"
    }
   ],
   "source": [
    "model.fit(train_ds, validation_data=validation_ds, epochs=3)"
   ]
  },
  {
   "cell_type": "code",
   "execution_count": 41,
   "metadata": {},
   "outputs": [],
   "source": [
    "from scipy.special import logsumexp\n",
    "\n",
    "def getPredictions_Energy(model, input_set, stopping_point=None,num_classes=10):\n",
    "    '''\n",
    "        Function for collecting the model's predictions on a test set. \n",
    "\n",
    "        Returns a list of DataFrames for each exit of the model.    \n",
    "    '''\n",
    "    num_outputs = len(model.outputs) # the number of output layers for the purpose of providing labels\n",
    "    print(\"outputs\",num_outputs)\n",
    "    #     train_ds, test_ds, validation_ds = (dataset)\n",
    "    Results=[]\n",
    "    Pred=[]\n",
    "    Labels =[]\n",
    "    Uncert = []\n",
    "    Outputs = pd.DataFrame()\n",
    "    Energy = []\n",
    "    Energy_softmax = []\n",
    "    Energy_evidence = []\n",
    "    Energy_alpha = []\n",
    "    Energy_Mass = []\n",
    "    Entropy = []\n",
    "    pAcc=[]\n",
    "    calibration=[]\n",
    "\n",
    "    conf=[]\n",
    "    entropy_of_exp=[]\n",
    "    expected_entropy=[]\n",
    "    mutual_info=[]\n",
    "    epkl=[]\n",
    "    dentropy=[]\n",
    "    \n",
    "    for i in range(num_outputs):\n",
    "        Results.append([])\n",
    "        Pred.append([])\n",
    "        Labels.append([])\n",
    "        Uncert.append([])\n",
    "        Energy.append([])\n",
    "        Energy_softmax.append([])\n",
    "        Energy_evidence.append([])\n",
    "        Energy_alpha.append([])\n",
    "        Energy_Mass.append([])\n",
    "        Entropy.append([])\n",
    "        pAcc.append([])\n",
    "        calibration.append([])\n",
    "\n",
    "        conf.append([])\n",
    "        entropy_of_exp.append([])\n",
    "        expected_entropy.append([])\n",
    "        mutual_info.append([])\n",
    "        epkl.append([])\n",
    "        dentropy.append([])\n",
    "        \n",
    "    for i, (x,y) in enumerate(input_set):\n",
    "        if stopping_point and i > stopping_point:\n",
    "            break\n",
    "        try:\n",
    "            print(\"prediction: {} of {}\".format(i,len(input_set)),end='\\r')\n",
    "        except:\n",
    "            print(\"prediction: {}\".format(i),end='\\r')\n",
    "            pass\n",
    "        predictions = model.predict(x)\n",
    "        if num_outputs > 1:\n",
    "            _predictions = predictions[0]\n",
    "        else:\n",
    "            _predictions = [predictions]\n",
    "        # print(_predictions)\n",
    "        for k, outputs in enumerate(_predictions):\n",
    "            \n",
    "            # print(\"outputs \", k, outputs)\n",
    "            for j, prediction in enumerate(outputs):\n",
    "                # evidence =tf.nn.softplus(prediction)\n",
    "                # alpha = evidence +1\n",
    "                # S = sum(alpha)\n",
    "                # E = alpha - 1\n",
    "                # Mass = alpha / S\n",
    "                # u = num_classes / S\n",
    "                # Uncert[k].append(u.numpy().mean())\n",
    "                Results[k].append(np.argmax(prediction))\n",
    "                Labels[k].append(np.argmax(y[j]))\n",
    "                Energy[k].append( -(logsumexp(np.array(prediction))))\n",
    "                # Entropy[k].append(brevis.utils.calcEntropy_Tensors2(tf.nn.softmax(prediction)).numpy())\n",
    "                # # calibration[k].append(np.amax(tf.nn.softmax(prediction).numpy()))\n",
    "                # dirch = evaluate.dirichlet_prior_network_uncertainty([prediction])\n",
    "                # # print(dirch)\n",
    "                # conf[k].append(dirch[\"confidence_alea_uncert.\"])\n",
    "                # entropy_of_exp[k].append(dirch[\"entropy_of_expected\"])\n",
    "                # expected_entropy[k].append(dirch[\"expected_entropy\"])\n",
    "                # mutual_info[k].append(dirch[\"mutual_information\"])\n",
    "                # epkl[k].append(dirch[\"EPKL\"])\n",
    "                # dentropy[k].append(dirch[\"differential_entropy\"])\n",
    "    Outputs=[]\n",
    "    for j in range(num_outputs):\n",
    "#         \"probs\":Pred[j],\n",
    "        # df = pd.DataFrame({\"x\":Results[j],\"y\":Labels[j],'sum':Sum[j],'uncert':Uncert[j],\"belief masses\":Evidence[j]})\n",
    "        df = pd.DataFrame({\"x\":Results[j],\"y\":Labels[j],\n",
    "                           # \"uncert\":Uncert[j],\n",
    "                            \"energy\":Energy[j],\n",
    "                            # 'entropy':Entropy[j],\n",
    "                            # # 'calibration':calibration[j],\n",
    "                            # \"confidence_alea_uncert\":conf[j],\n",
    "                            # \"entropy_of_expected\":entropy_of_exp[j],\n",
    "                            # \"expected_entropy\":expected_entropy[j],\n",
    "                            # \"mutual_information\":mutual_info[j],\n",
    "                            # \"EPKL\":epkl[j],\n",
    "                            # \"differential_entropy\":dentropy[j],\n",
    "                          })\n",
    "        conditions = [df['x'] == df['y'],df['x'] != df['y']]\n",
    "        choices = [1, 0]\n",
    "        #create new column in DataFrame that displays results of comparisons\n",
    "        df['correct'] = np.int32(np.select(conditions, choices, default=None))\n",
    "        Outputs.append(df)\n",
    "    return Outputs"
   ]
  },
  {
   "cell_type": "code",
   "execution_count": 34,
   "metadata": {},
   "outputs": [],
   "source": [
    "# model = tf.keras.models.load_model(\"./models/journal_models/resnet_CE_15_.hdf5\",custom_objects={\"BranchModel\":brevis.BranchModel,\"growth_callback\":growth_callback,\"custom_loss_function\":branch_loss})\n"
   ]
  },
  {
   "cell_type": "code",
   "execution_count": 42,
   "metadata": {},
   "outputs": [
    {
     "name": "stdout",
     "output_type": "stream",
     "text": [
      "outputs 3\n",
      "prediction: 312 of 313\r"
     ]
    }
   ],
   "source": [
    "output_ID= getPredictions_Energy(model, test_ds,stopping_point=None)\n",
    "for i in output_ID:\n",
    "    i['outlier']=0\n"
   ]
  },
  {
   "cell_type": "code",
   "execution_count": 43,
   "metadata": {},
   "outputs": [
    {
     "name": "stdout",
     "output_type": "stream",
     "text": [
      "outputs 3\n",
      "prediction: 312 of 313\r"
     ]
    }
   ],
   "source": [
    "output_OOD = getPredictions_Energy(model, test_ds100,stopping_point=None)\n",
    "for i in output_OOD:\n",
    "    i['correct']=0\n",
    "    i['outlier']=1"
   ]
  },
  {
   "cell_type": "code",
   "execution_count": null,
   "metadata": {},
   "outputs": [],
   "source": []
  },
  {
   "cell_type": "code",
   "execution_count": 27,
   "metadata": {
    "tags": []
   },
   "outputs": [],
   "source": [
    "from sklearn.metrics import roc_curve\n",
    "from sklearn.metrics import roc_auc_score\n",
    "from sklearn.metrics import precision_recall_curve\n",
    "from sklearn.metrics import accuracy_score, precision_score, recall_score, f1_score, roc_auc_score, precision_recall_curve, plot_precision_recall_curve\n",
    "from numpy import sqrt, argmax\n",
    "def calc_AUC(output_df,metrics=['energy'],plot=False, pos_label = 0):\n",
    "    '''\n",
    "    AUC calculation function for list of output dataframes\n",
    "    returns a list of threshold for the gmean of each set of outputs.    \n",
    "    '''\n",
    "    lessThanMetrics = [\"uncert\",\"energy\",\"entropy\"]\n",
    "    _thresholds = []\n",
    "    y_test = np.int32(output_df['correct'])\n",
    "    plots = []\n",
    "    if type(metrics) is not list:\n",
    "        metrics = [metrics]\n",
    "    for metric in metrics:    \n",
    "        # print(\"metric\", metric)\n",
    "        lr_auc = roc_auc_score(y_test, output_df[metric])\n",
    "        if metric in lessThanMetrics:\n",
    "            pos_label = 0\n",
    "        else:\n",
    "            pos_label = 1\n",
    "        fpr, tpr, thresholds = roc_curve(y_test, output_df[metric],pos_label=pos_label)\n",
    "        gmeans = sqrt(tpr * (1-fpr))\n",
    "        # print(gmeans)\n",
    "        # locate the index of the largest g-mean\n",
    "        ix = argmax(gmeans)\n",
    "        threshold = thresholds[ix]\n",
    "        if plot:\n",
    "            print(metric,\" lr_auc\",lr_auc, 'Best Threshold={}, G-Mean={}, TPR={}, FPR={}'.format(threshold, gmeans[ix],tpr[ix],fpr[ix]))\n",
    "        _thresholds.append(threshold)\n",
    "        # plot the roc curve for the model\n",
    "        plots.append({\"fpr\":fpr,\"tpr\":tpr,\"label\":metric, \"ix\":ix})\n",
    "    if plot:\n",
    "        plt.plot([0,1], [0,1], linestyle='--', label='No Skill')\n",
    "        for plot in plots:\n",
    "            ix = plot['ix']\n",
    "            plt.plot(plot[\"fpr\"], plot[\"tpr\"],  label=plot['label'])\n",
    "\n",
    "            plt.scatter(plot[\"fpr\"][ix], plot[\"tpr\"][ix], marker='o', color='black')\n",
    "        # axis labels\n",
    "        plt.xlabel('False Positive Rate')\n",
    "        plt.ylabel('True Positive Rate')\n",
    "        plt.title(metric)\n",
    "        plt.legend()\n",
    "        # show the plot\n",
    "        plt.show()\n",
    "    return _thresholds\n",
    "\n",
    "def buildComparePlot(ID,OOD,metrics=[\"energy\"], threshold=None, exit=-1, legend=[\"In Distribution\",\"Out of Distribution\"],main_exit_included=True,plot=True,exit_labels=['exit_1']):\n",
    "        lessThanMetrics = [\"energy\",\"uncert\",\"entropy\"]\n",
    "        if type(metrics) is not list:\n",
    "            metrics = [metrics]\n",
    "        for j, metric in enumerate(metrics):\n",
    "            print(\"metric: \", metric, \"threshold: \",threshold)\n",
    "            rollOver_ID_indices = pd.Index([])\n",
    "            rollOver_OOD_indices = pd.Index([])\n",
    "            Exit_Name=[]\n",
    "            _ID = ID.copy()\n",
    "            _OOD = OOD.copy()\n",
    "                # print(_branch_predictions)\n",
    "            # if main_exit_included:\n",
    "            _ID.append(_ID.pop(0))\n",
    "            _OOD.append(_OOD.pop(0))\n",
    "            Accepted_df = pd.DataFrame()\n",
    "            Input_ID=[]\n",
    "            Input_OOD=[]\n",
    "            Accepted_list =[]\n",
    "            Accepted_ID_list = []\n",
    "            Accepted_OOD_list = []\n",
    "            Acceptance_correct =[]\n",
    "            Input_predictions =[]\n",
    "            Accepted_Ratio_list=[]\n",
    "            Accepted_Accuracy_list=[]\n",
    "            Branch_flops = []\n",
    "            Thresholds=[]\n",
    "            Test_accuracy =[]\n",
    "            Rollover_accuracy=[]\n",
    "            Results=[]\n",
    "            \n",
    "            if exit > 0: #if a specific exit number is specified, only output the results of that exit.\n",
    "                _ID = [_ID[max(exit-1,0)]]\n",
    "                _OOD = [_OOD[max(exit-1,0)]]\n",
    "                exit_labels=['exit_{}'.format(exit)]\n",
    "\n",
    "            for i, (output_ID, output_OOD) in enumerate(zip(_ID, _OOD)): \n",
    "                Test_accuracy.append(len(output_ID.loc[(output_ID[\"correct\"] == True)])/len(output_ID))\n",
    "                \n",
    "             \n",
    "                \n",
    "                if threshold:\n",
    "                    if type(threshold) is list:\n",
    "                        if i >= len(threshold): #no threshold in the array so treat as None.\n",
    "                            continue\n",
    "                        _threshold = threshold[i]\n",
    "                        print(\"threshold\",_threshold)\n",
    "                    else:\n",
    "                        _threshold = threshold\n",
    "                    if _threshold == \"mean\":\n",
    "                        # _threshold = np.array(ID[metric]).mean()\n",
    "                        Correct = output_ID.loc[(output_ID[\"correct\"] == True)]\n",
    "                        _threshold = np.array(Correct[metric]).mean()\n",
    "                    if _threshold == \"gmean\":\n",
    "                        # print(\"m\",metric)\n",
    "                        AUC_thresholds = calc_AUC(output_ID, metrics=metric, plot = False)\n",
    "                        _threshold = AUC_thresholds[j]\n",
    "                    if _threshold == \"PR_AUC\":\n",
    "                        precision_, recall_, proba = precision_recall_curve(output_ID['correct'], output_ID[metric])\n",
    "                        _threshold = sorted(list(zip(np.abs(precision_ - recall_), proba)), key=lambda i: i[0], reverse=False)[0][1]\n",
    "                    else:\n",
    "                        _threshold = np.float32(_threshold)\n",
    "\n",
    "                if len(rollOver_ID_indices)>0:\n",
    "                    # print(\"rollover enabled, {} ID predictions provided\".format(len(rollOver_ID_indices)))\n",
    "                    output_ID = output_ID.iloc[rollOver_ID_indices]\n",
    "                if len(rollOver_OOD_indices)>0:\n",
    "                    # if plot:\n",
    "                    # print(\"rollover enabled, {} OOD predictions provided\".format(len(rollOver_OOD_indices)))\n",
    "                    output_OOD = output_OOD.iloc[rollOver_OOD_indices]\n",
    "                \n",
    "                legend = [\"threshold\",\"correct\",\"incorrect\", \"OOD\"]\n",
    "                Correct = output_ID.loc[(output_ID['correct'] == True)]\n",
    "                Incorrect = output_ID.loc[(output_ID['correct'] == False)]\n",
    "                if plot:\n",
    "                    _ = plt.hist(Correct[metric].tolist(), bins=100)  # arguments are passed to np.histogram\n",
    "                    _ = plt.hist(Incorrect[metric].tolist(), bins=100,color =\"red\", alpha = 0.5)  # arguments are passed to np.histogram\n",
    "                    _ = plt.hist(output_OOD[metric].tolist(), bins=100,color=\"grey\",alpha=0.5)  # arguments are passed to np.histogram\n",
    "  \n",
    "                if plot:\n",
    "                    plt.axvline(x=_threshold, color='k', linestyle='--',label=\"threshold\")\n",
    "                    plt.title(metric + \" outliers\")\n",
    "                    plt.legend(legend)\n",
    "                    plt.xlabel(\"entropy\")\n",
    "                    plt.ylabel(\"frequency\")\n",
    "                    plt.show()\n",
    "                if main_exit_included and i == len(_ID)-1 :\n",
    "                    Exit_Name.append(\"Main_exit\")\n",
    "                    _threshold\n",
    "                    if plot:\n",
    "                        print(\"main_exit\")\n",
    "                    OOD_accepted = output_OOD\n",
    "                    OOD_rejected = None\n",
    "                    ID_accepted = output_ID\n",
    "                    ID_rejected = None\n",
    "                    accepted_correct = ID_accepted.loc[(ID_accepted[\"correct\"] == True )] #TP\n",
    "                    rejected_correct = None\n",
    "                    accepted_incorrect = ID_accepted.loc[(ID_accepted[metric] ==False)] #FP\n",
    "                    rejected_incorrect = None\n",
    "                    accepted_ID_acc = len(accepted_correct) / (len( ID_accepted))\n",
    "                    overall_accepted_acc = len(accepted_correct) / (len( ID_accepted) + len(OOD_accepted))\n",
    "                    _threshold = \"NA\"\n",
    "                    ### make a threshold that accepts everything, if less than, set to inf, if greater than, set to neg inf?\n",
    "                    # if metric in lessThanMetrics:\n",
    "                        # _threshold = math.inf\n",
    "                    # else:\n",
    "                        # _threshold = -math.inf\n",
    "                # print(_threshold)\n",
    "                else:\n",
    "                    if metric in lessThanMetrics: ## metrics that require less than metric\n",
    "                        OOD_accepted = output_OOD.loc[(output_OOD[metric].tolist() <= _threshold)] #FP\n",
    "                        OOD_rejected = output_OOD.loc[(output_OOD[metric].tolist() > _threshold)] #TN\n",
    "                        ID_accepted = output_ID.loc[(output_ID[metric] <= _threshold)] #TP\n",
    "                        ID_rejected = output_ID.loc[(output_ID[metric] > _threshold)] #FN\n",
    "\n",
    "\n",
    "                        accepted_correct = ID_accepted.loc[(ID_accepted[\"correct\"] == True )] #TP\n",
    "                        rejected_correct = ID_rejected.loc[(ID_rejected[\"correct\"] == True)]  #FN\n",
    "\n",
    "                        accepted_incorrect = ID_accepted.loc[(ID_accepted[metric] ==False)] #FP\n",
    "                        rejected_incorrect = ID_rejected.loc[(ID_rejected[metric] ==False)] #TN\n",
    "\n",
    "                        accepted_ID_acc = len(accepted_correct) / (len( ID_accepted))\n",
    "                        overall_accepted_acc = len(accepted_correct) / (len( ID_accepted) + len(OOD_accepted))\n",
    "                        # print(\"OOD accepted:\", len(OOD_accepted),\": with threshold:\",_threshold )\n",
    "                        # print(\"ID accepted:\", len(ID_accepted), \":with acc:\",(accepted_ID_acc))\n",
    "                        # print(\"overall Accepted acc:\",(overall_accepted_acc))\n",
    "\n",
    "                        # print(\"OOD accepted with avg ID \",metric,\" threshold of \",_threshold, \": \", len(OOD.loc[(OOD[metric].tolist() <= _threshold)]), \"out of \", len(OOD))\n",
    "                        # print(\"ID accepted with avg ID \",metric,\" threshold of \",_threshold, \": \", len(ID.loc[(ID[metric] <= _threshold)]), \"out of \", len(ID), \"with acc of \", len(ID.loc[(ID[metric] <= _threshold) & ID['correct'] == True])/len(ID.loc[(ID[metric] <= _threshold)]))\n",
    "                        # print(\"Overall accuracy of accepted inputs:\", len(ID.loc[(ID[metric] <= _threshold) & ID['correct'] == True])/(len(ID.loc[(ID[metric] <= _threshold)])+len(OOD.loc[(OOD[metric] <= _threshold)])))\n",
    "                    else: ### metrics that require greater than metric\n",
    "                        OOD_accepted = output_OOD.loc[(output_OOD[metric].tolist() >= _threshold)] #FP\n",
    "                        OOD_rejected = output_OOD.loc[(output_OOD[metric].tolist() < _threshold)] #TN\n",
    "                        ID_accepted = output_ID.loc[(output_ID[metric] >= _threshold)] #TP\n",
    "                        ID_rejected = output_ID.loc[(output_ID[metric] < _threshold)] #FN\n",
    "\n",
    "                        accepted_correct = ID_accepted.loc[(ID_accepted[\"correct\"] == True )] #TP\n",
    "                        rejected_correct = ID_rejected.loc[(ID_rejected[\"correct\"] == True)]  #FN\n",
    "\n",
    "                        accepted_incorrect = ID_accepted.loc[(ID_accepted[metric] ==False)] #FP\n",
    "                        rejected_incorrect = ID_rejected.loc[(ID_rejected[metric] ==False)] #TN\n",
    "\n",
    "\n",
    "\n",
    "                        accepted_ID_acc = len(accepted_correct) / (len( ID_accepted))\n",
    "                        overall_accepted_acc = len(accepted_correct) / (len( ID_accepted) + len(OOD_accepted))\n",
    "                        # print(\"OOD accepted:\", len(OOD_accepted),\": with threshold:\",_threshold )\n",
    "                        # print(\"ID accepted:\", len(ID_accepted), \":with acc:\",(accepted_ID_acc))\n",
    "                        # print(\"overall Accepted acc:\",(overall_accepted_acc))\n",
    "\n",
    "                        # print(\"OOD accepted with avg ID \",metric,\" threshold of \",_threshold, \": \", len(OOD.loc[(OOD[metric].tolist() >= _threshold)]), \"out of \", len(OOD))\n",
    "                        # print(\"ID accepted with avg ID \",metric,\" threshold of \",_threshold, \": \", len(ID.loc[(ID[metric] >= _threshold)]), \"out of \", len(ID), \"with acc of \", len(ID.loc[(ID[metric] >= _threshold) & ID['correct'] == True])/len(ID.loc[(ID[metric] >= _threshold)]))\n",
    "                        # print(\"Overall accuracy of accepted inputs:\", len(ID.loc[(ID[metric] <= _threshold) & ID['correct'] == True])/(len(ID.loc[(ID[metric] >= _threshold)])+len(OOD.loc[(OOD[metric] >= _threshold)])))\n",
    "                    rollOver_ID_indices = ID_rejected.index\n",
    "                    rollOver_OOD_indices = OOD_rejected.index\n",
    "                    if i >= len(exit_labels):\n",
    "                        exit_labels.append(\"exit_{}\".format(i+1))\n",
    "                    print(exit_labels)\n",
    "                    Exit_Name.append(exit_labels[i])\n",
    "                Thresholds.append(_threshold)\n",
    "                \n",
    "                Results.append(accepted_correct + accepted_incorrect)\n",
    "                Input_ID.append(len(output_ID))\n",
    "                Input_OOD.append(len(output_OOD))\n",
    "                Accepted_ID_list.append(len(ID_accepted))\n",
    "                Accepted_OOD_list.append(len(OOD_accepted))\n",
    "                Accepted_Ratio_list.append(len(ID_accepted)/(len(ID_accepted) + len(OOD_accepted)))\n",
    "                Acceptance_correct.append(len(accepted_correct))\n",
    "                Accepted_Accuracy_list.append(overall_accepted_acc)\n",
    "            df = pd.DataFrame({\n",
    "            \"Exit_Name\":Exit_Name,\n",
    "            \"ID_Inputs\":Input_ID,\n",
    "            \"OOD_Inputs\":Input_OOD,\n",
    "            \"Test_Accuracy\":Test_accuracy,\n",
    "            # \"RollOver_Accuracy\":Rollover_accuracy,\n",
    "            \"Threshold\":Thresholds,\n",
    "            \"Accepted ID\":Accepted_ID_list,\n",
    "            \"Accepted OOD\":Accepted_OOD_list,\n",
    "                \n",
    "            \"Accepted_Correct\":Acceptance_correct,\n",
    "            \"Accepted_ID_Ratio\":Accepted_Ratio_list,\n",
    "            \"Acceptance_Accuracy\":Accepted_Accuracy_list,\n",
    "\n",
    "            # \"Flops\":Branch_flops,\n",
    "            # \"Cost Ratio\":,                                  \n",
    "                          })\n",
    "            with pd.option_context('expand_frame_repr', False):\n",
    "                print (df)\n"
   ]
  },
  {
   "cell_type": "code",
   "execution_count": null,
   "metadata": {},
   "outputs": [],
   "source": []
  },
  {
   "cell_type": "code",
   "execution_count": 44,
   "metadata": {},
   "outputs": [
    {
     "name": "stdout",
     "output_type": "stream",
     "text": [
      "metric:  energy threshold:  gmean\n"
     ]
    },
    {
     "data": {
      "image/png": "[encoded data removed]",
      "text/plain": [
       "<Figure size 432x288 with 1 Axes>"
      ]
     },
     "metadata": {
      "needs_background": "light"
     },
     "output_type": "display_data"
    },
    {
     "name": "stdout",
     "output_type": "stream",
     "text": [
      "['exit_1', 'exit_2']\n"
     ]
    },
    {
     "data": {
      "image/png": "[encoded data removed]",
      "text/plain": [
       "<Figure size 432x288 with 1 Axes>"
      ]
     },
     "metadata": {
      "needs_background": "light"
     },
     "output_type": "display_data"
    },
    {
     "name": "stdout",
     "output_type": "stream",
     "text": [
      "['exit_1', 'exit_2']\n"
     ]
    },
    {
     "data": {
      "image/png": "[encoded data removed]",
      "text/plain": [
       "<Figure size 432x288 with 1 Axes>"
      ]
     },
     "metadata": {
      "needs_background": "light"
     },
     "output_type": "display_data"
    },
    {
     "name": "stdout",
     "output_type": "stream",
     "text": [
      "main_exit\n",
      "   Exit_Name  ID_Inputs  OOD_Inputs  Test_Accuracy Threshold  Accepted ID  Accepted OOD  Accepted_Correct  Accepted_ID_Ratio  Acceptance_Accuracy\n",
      "0     exit_1      10000       10000         0.7263 -2.460601         5577          2613              4977           0.680952             0.607692\n",
      "1     exit_2       4423        7387         0.7390  -2.46089         1194          1388               898           0.462432             0.347792\n",
      "2  Main_exit       3229        5999         0.7815        NA         3229          5999              1906           0.349913             0.206545\n"
     ]
    }
   ],
   "source": [
    "#distill branches loss_coef 1.9 temp 10 sgd, edl\n",
    "buildComparePlot(output_ID, output_OOD, [\"energy\"], \"gmean\", main_exit_included=True,plot=True)"
   ]
  },
  {
   "cell_type": "code",
   "execution_count": 33,
   "metadata": {},
   "outputs": [
    {
     "name": "stdout",
     "output_type": "stream",
     "text": [
      "metric:  energy threshold:  gmean\n"
     ]
    },
    {
     "data": {
      "image/png": "[encoded data removed]",
      "text/plain": [
       "<Figure size 432x288 with 1 Axes>"
      ]
     },
     "metadata": {
      "needs_background": "light"
     },
     "output_type": "display_data"
    },
    {
     "name": "stdout",
     "output_type": "stream",
     "text": [
      "['exit_1', 'exit_2']\n"
     ]
    },
    {
     "data": {
      "image/png": "[encoded data removed]",
      "text/plain": [
       "<Figure size 432x288 with 1 Axes>"
      ]
     },
     "metadata": {
      "needs_background": "light"
     },
     "output_type": "display_data"
    },
    {
     "name": "stdout",
     "output_type": "stream",
     "text": [
      "['exit_1', 'exit_2']\n"
     ]
    },
    {
     "data": {
      "image/png": "[encoded data removed]",
      "text/plain": [
       "<Figure size 432x288 with 1 Axes>"
      ]
     },
     "metadata": {
      "needs_background": "light"
     },
     "output_type": "display_data"
    },
    {
     "name": "stdout",
     "output_type": "stream",
     "text": [
      "main_exit\n",
      "   Exit_Name  ID_Inputs  OOD_Inputs  Test_Accuracy Threshold  Accepted ID  Accepted OOD  Accepted_Correct  Accepted_ID_Ratio  Acceptance_Accuracy\n",
      "0     exit_1      10000       10000         0.7445 -2.456015         5845          2570              5286           0.694593             0.628164\n",
      "1     exit_2       4155        7430         0.7703 -2.459212         1366          1411              1143           0.491898             0.411595\n",
      "2  Main_exit       2789        6019         0.7815        NA         2789          6019              1547           0.316644             0.175636\n"
     ]
    }
   ],
   "source": [
    "#distill branches loss_coef 1.9 temp 10 old adam\n",
    "buildComparePlot(output_ID, output_OOD, [\"energy\"], \"gmean\", main_exit_included=True,plot=True)"
   ]
  },
  {
   "cell_type": "code",
   "execution_count": 38,
   "metadata": {},
   "outputs": [
    {
     "name": "stdout",
     "output_type": "stream",
     "text": [
      "metric:  entropy threshold:  gmean\n",
      "['exit_1', 'exit_2']\n",
      "['exit_1', 'exit_2']\n",
      "   Exit_Name  ID_Inputs  OOD_Inputs  Test_Accuracy Threshold  Accepted ID  Accepted OOD  Accepted_Correct  Accepted_ID_Ratio  Acceptance_Accuracy\n",
      "0     exit_1      10000       10000         0.7446   3.21823         5724          2424              5219           0.702504             0.640525\n",
      "1     exit_2       4276        7576         0.7774  3.235315         1645          1688              1393           0.493549             0.417942\n",
      "2  Main_exit       2631        5888         0.7861        NA         2631          5888              1390           0.308839             0.163165\n",
      "metric:  energy threshold:  gmean\n",
      "['exit_1', 'exit_2']\n",
      "['exit_1', 'exit_2']\n",
      "   Exit_Name  ID_Inputs  OOD_Inputs  Test_Accuracy Threshold  Accepted ID  Accepted OOD  Accepted_Correct  Accepted_ID_Ratio  Acceptance_Accuracy\n",
      "0     exit_1      10000       10000         0.7446  -2.46002         5724          2424              5219           0.702504             0.640525\n",
      "1     exit_2       4276        7576         0.7774 -2.451184         1647          1693              1394           0.493114             0.417365\n",
      "2  Main_exit       2629        5883         0.7861        NA         2629          5883              1389           0.308858             0.163181\n"
     ]
    }
   ],
   "source": [
    "#no distill branches adam CE\n",
    "buildComparePlot(output_ID, output_OOD, [\"entropy\"], \"gmean\", main_exit_included=True,plot=False)\n",
    "buildComparePlot(output_ID, output_OOD, [\"energy\"], \"gmean\", main_exit_included=True,plot=False)"
   ]
  },
  {
   "cell_type": "code",
   "execution_count": 28,
   "metadata": {},
   "outputs": [
    {
     "name": "stdout",
     "output_type": "stream",
     "text": [
      "metric:  energy threshold:  gmean\n"
     ]
    },
    {
     "data": {
      "image/png": "[encoded data removed]",
      "text/plain": [
       "<Figure size 432x288 with 1 Axes>"
      ]
     },
     "metadata": {
      "needs_background": "light"
     },
     "output_type": "display_data"
    },
    {
     "name": "stdout",
     "output_type": "stream",
     "text": [
      "['exit_1']\n"
     ]
    },
    {
     "data": {
      "image/png": "[encoded data removed]",
      "text/plain": [
       "<Figure size 432x288 with 1 Axes>"
      ]
     },
     "metadata": {
      "needs_background": "light"
     },
     "output_type": "display_data"
    },
    {
     "name": "stdout",
     "output_type": "stream",
     "text": [
      "['exit_1', 'exit_2']\n"
     ]
    },
    {
     "data": {
      "image/png": "[encoded data removed]",
      "text/plain": [
       "<Figure size 432x288 with 1 Axes>"
      ]
     },
     "metadata": {
      "needs_background": "light"
     },
     "output_type": "display_data"
    },
    {
     "name": "stdout",
     "output_type": "stream",
     "text": [
      "main_exit\n",
      "   Exit_Name  ID_Inputs  OOD_Inputs  Test_Accuracy Threshold  Accepted ID  Accepted OOD  Accepted_Correct  Accepted_ID_Ratio  Acceptance_Accuracy\n",
      "0     exit_1      10000       10000         0.7340 -2.456647         5628          2685              5096           0.677012             0.613016\n",
      "1     exit_2       4372        7315         0.7776 -2.459178         1595          1288              1334           0.553243             0.462712\n",
      "2  Main_exit       2777        6027         0.7815        NA         2777          6027              1552           0.315425             0.176284\n"
     ]
    }
   ],
   "source": [
    "#distill branches loss_coef 1.9 temp 10 SGD\n",
    "buildComparePlot(output_ID, output_OOD, [\"energy\"], \"gmean\", main_exit_included=True,plot=True)"
   ]
  },
  {
   "cell_type": "code",
   "execution_count": 26,
   "metadata": {},
   "outputs": [
    {
     "name": "stdout",
     "output_type": "stream",
     "text": [
      "metric:  energy threshold:  gmean\n"
     ]
    },
    {
     "data": {
      "image/png": "[encoded data removed]",
      "text/plain": [
       "<Figure size 432x288 with 1 Axes>"
      ]
     },
     "metadata": {
      "needs_background": "light"
     },
     "output_type": "display_data"
    },
    {
     "name": "stdout",
     "output_type": "stream",
     "text": [
      "['exit_1']\n"
     ]
    },
    {
     "data": {
      "image/png": "[encoded data removed]",
      "text/plain": [
       "<Figure size 432x288 with 1 Axes>"
      ]
     },
     "metadata": {
      "needs_background": "light"
     },
     "output_type": "display_data"
    },
    {
     "name": "stdout",
     "output_type": "stream",
     "text": [
      "['exit_1', 'exit_2']\n"
     ]
    },
    {
     "data": {
      "image/png": "[encoded data removed]",
      "text/plain": [
       "<Figure size 432x288 with 1 Axes>"
      ]
     },
     "metadata": {
      "needs_background": "light"
     },
     "output_type": "display_data"
    },
    {
     "name": "stdout",
     "output_type": "stream",
     "text": [
      "main_exit\n",
      "   Exit_Name  ID_Inputs  OOD_Inputs  Test_Accuracy Threshold  Accepted ID  Accepted OOD  Accepted_Correct  Accepted_ID_Ratio  Acceptance_Accuracy\n",
      "0     exit_1      10000       10000         0.6753 -2.429404         5138          2459              4406           0.676320             0.579966\n",
      "1     exit_2       4862        7541         0.7310 -2.435719         1519          1270              1252           0.544640             0.448906\n",
      "2  Main_exit       3343        6271         0.7815        NA         3343          6271              2020           0.347722             0.210110\n"
     ]
    }
   ],
   "source": [
    "#standard branches CE Frozen  coef0.3\n",
    "buildComparePlot(output_ID, output_OOD, [\"energy\"], \"gmean\", main_exit_included=True,plot=True)"
   ]
  },
  {
   "cell_type": "code",
   "execution_count": 26,
   "metadata": {},
   "outputs": [
    {
     "name": "stdout",
     "output_type": "stream",
     "text": [
      "metric:  energy threshold:  gmean\n",
      "['exit_1', 'exit_2']\n",
      "['exit_1', 'exit_2']\n",
      "   Exit_Name  ID_Inputs  OOD_Inputs  Test_Accuracy Threshold  Accepted ID  Accepted OOD  Accepted_Correct  Accepted_ID_Ratio  Acceptance_Accuracy\n",
      "0     exit_1      10000       10000         0.6904 -2.433489         5496          2824              4768           0.660577             0.573077\n",
      "1     exit_2       4504        7176         0.7442 -2.441773         1527          1367              1211           0.527643             0.418452\n",
      "2  Main_exit       2977        5809         0.7815        NA         2977          5809              1772           0.338835             0.201684\n"
     ]
    }
   ],
   "source": [
    "#updated distillation, loss_coef = 1.9,  temp 5\n",
    "buildComparePlot(output_ID, output_OOD, [\"energy\"], \"gmean\", main_exit_included=True,plot=False)"
   ]
  },
  {
   "cell_type": "code",
   "execution_count": 32,
   "metadata": {},
   "outputs": [
    {
     "name": "stdout",
     "output_type": "stream",
     "text": [
      "metric:  energy threshold:  gmean\n",
      "['exit_1', 'exit_2']\n",
      "['exit_1', 'exit_2']\n",
      "   Exit_Name  ID_Inputs  OOD_Inputs  Test_Accuracy Threshold  Accepted ID  Accepted OOD  Accepted_Correct  Accepted_ID_Ratio  Acceptance_Accuracy\n",
      "0     exit_1      10000       10000         0.6708 -2.428008         5674          2742              4699           0.674192             0.558341\n",
      "1     exit_2       4326        7258         0.7217 -2.432864         1454          1313              1159           0.525479             0.418865\n",
      "2  Main_exit       2872        5945         0.7815        NA         2872          5945              1717           0.325734             0.194737\n"
     ]
    }
   ],
   "source": [
    "#updated distillation, loss_coef = 1.9,  temp 20\n",
    "buildComparePlot(output_ID, output_OOD, [\"energy\"], \"gmean\", main_exit_included=True,plot=False)"
   ]
  },
  {
   "cell_type": "code",
   "execution_count": 38,
   "metadata": {},
   "outputs": [
    {
     "name": "stdout",
     "output_type": "stream",
     "text": [
      "metric:  energy threshold:  gmean\n",
      "['exit_1', 'exit_2']\n",
      "['exit_1', 'exit_2']\n",
      "   Exit_Name  ID_Inputs  OOD_Inputs  Test_Accuracy Threshold  Accepted ID  Accepted OOD  Accepted_Correct  Accepted_ID_Ratio  Acceptance_Accuracy\n",
      "0     exit_1      10000       10000         0.6997 -2.432136         5617          2687              4897           0.676421             0.589716\n",
      "1     exit_2       4383        7313         0.7460 -2.438999         1457          1253              1199           0.537638             0.442435\n",
      "2  Main_exit       2926        6060         0.7815        NA         2926          6060              1703           0.325618             0.189517\n"
     ]
    }
   ],
   "source": [
    "#updated distillation, loss_coef = 1.9,  temp 10\n",
    "buildComparePlot(output_ID, output_OOD, [\"energy\"], \"gmean\", main_exit_included=True,plot=False)"
   ]
  },
  {
   "cell_type": "code",
   "execution_count": 44,
   "metadata": {},
   "outputs": [
    {
     "name": "stdout",
     "output_type": "stream",
     "text": [
      "metric:  energy threshold:  gmean\n",
      "['exit_1', 'exit_2']\n",
      "['exit_1', 'exit_2']\n",
      "   Exit_Name  ID_Inputs  OOD_Inputs  Test_Accuracy Threshold  Accepted ID  Accepted OOD  Accepted_Correct  Accepted_ID_Ratio  Acceptance_Accuracy\n",
      "0     exit_1      10000       10000         0.6764  -2.43471         5281          2194              4574           0.706488             0.611906\n",
      "1     exit_2       4719        7806         0.7246 -2.435542         1625          1521              1243           0.516529             0.395105\n",
      "2  Main_exit       3094        6285         0.7815        NA         3094          6285              1853           0.329886             0.197569\n"
     ]
    }
   ],
   "source": [
    "#updated distillation, loss_coef = 1.9,  temp 10\n",
    "buildComparePlot(output_ID, output_OOD, [\"energy\"], \"gmean\", main_exit_included=True,plot=False)"
   ]
  },
  {
   "cell_type": "code",
   "execution_count": 19,
   "metadata": {},
   "outputs": [
    {
     "name": "stdout",
     "output_type": "stream",
     "text": [
      "metric:  energy threshold:  gmean\n"
     ]
    },
    {
     "data": {
      "image/png": "[encoded data removed]",
      "text/plain": [
       "<Figure size 432x288 with 1 Axes>"
      ]
     },
     "metadata": {
      "needs_background": "light"
     },
     "output_type": "display_data"
    },
    {
     "name": "stdout",
     "output_type": "stream",
     "text": [
      "['exit_1']\n"
     ]
    },
    {
     "data": {
      "image/png": "[encoded data removed]",
      "text/plain": [
       "<Figure size 432x288 with 1 Axes>"
      ]
     },
     "metadata": {
      "needs_background": "light"
     },
     "output_type": "display_data"
    },
    {
     "name": "stdout",
     "output_type": "stream",
     "text": [
      "['exit_1', 'exit_2']\n"
     ]
    },
    {
     "data": {
      "image/png": "[encoded data removed]",
      "text/plain": [
       "<Figure size 432x288 with 1 Axes>"
      ]
     },
     "metadata": {
      "needs_background": "light"
     },
     "output_type": "display_data"
    },
    {
     "name": "stdout",
     "output_type": "stream",
     "text": [
      "main_exit\n",
      "   Exit_Name  ID_Inputs  OOD_Inputs  Test_Accuracy Threshold  Accepted ID  Accepted OOD  Accepted_Correct  Accepted_ID_Ratio  Acceptance_Accuracy\n",
      "0     exit_1      10000       10000         0.7086 -2.439569         5308          2284              4748           0.699157             0.625395\n",
      "1     exit_2       4692        7716         0.7348 -2.447171         1294          1023              1045           0.558481             0.451014\n",
      "2  Main_exit       3398        6693         0.7815        NA         3398          6693              2052           0.336736             0.203350\n"
     ]
    }
   ],
   "source": [
    "#updated distillation\n",
    "buildComparePlot(output_ID, output_OOD, [\"energy\"], \"gmean\", main_exit_included=True,plot=True)"
   ]
  },
  {
   "cell_type": "code",
   "execution_count": 31,
   "metadata": {},
   "outputs": [
    {
     "name": "stdout",
     "output_type": "stream",
     "text": [
      "metric:  energy threshold:  gmean\n"
     ]
    },
    {
     "data": {
      "image/png": "[encoded data removed]",
      "text/plain": [
       "<Figure size 432x288 with 1 Axes>"
      ]
     },
     "metadata": {
      "needs_background": "light"
     },
     "output_type": "display_data"
    },
    {
     "name": "stdout",
     "output_type": "stream",
     "text": [
      "['exit_1', 'exit_2']\n"
     ]
    },
    {
     "data": {
      "image/png": "[encoded data removed]",
      "text/plain": [
       "<Figure size 432x288 with 1 Axes>"
      ]
     },
     "metadata": {
      "needs_background": "light"
     },
     "output_type": "display_data"
    },
    {
     "name": "stdout",
     "output_type": "stream",
     "text": [
      "['exit_1', 'exit_2']\n"
     ]
    },
    {
     "data": {
      "image/png": "[encoded data removed]",
      "text/plain": [
       "<Figure size 432x288 with 1 Axes>"
      ]
     },
     "metadata": {
      "needs_background": "light"
     },
     "output_type": "display_data"
    },
    {
     "name": "stdout",
     "output_type": "stream",
     "text": [
      "main_exit\n",
      "   Exit_Name  ID_Inputs  OOD_Inputs  Test_Accuracy Threshold  Accepted ID  Accepted OOD  Accepted_Correct  Accepted_ID_Ratio  Acceptance_Accuracy\n",
      "0     exit_1      10000       10000         0.6813 -2.428888         5351          2464              4634           0.684709             0.592962\n",
      "1     exit_2       4649        7536         0.7323 -2.428144         1598          1553              1289           0.507141             0.409076\n",
      "2  Main_exit       3051        5983         0.7815        NA         3051          5983              1755           0.337724             0.194266\n"
     ]
    }
   ],
   "source": [
    "#self distil branches CE Frozen coef0.3\n",
    "buildComparePlot(output_ID, output_OOD, [\"energy\"], \"gmean\", main_exit_included=True,plot=True)"
   ]
  },
  {
   "cell_type": "code",
   "execution_count": null,
   "metadata": {},
   "outputs": [],
   "source": []
  }
 ],
 "metadata": {
  "kernelspec": {
   "display_name": "py36",
   "language": "python",
   "name": "py36"
  },
  "language_info": {
   "codemirror_mode": {
    "name": "ipython",
    "version": 3
   },
   "file_extension": ".py",
   "mimetype": "text/x-python",
   "name": "python",
   "nbconvert_exporter": "python",
   "pygments_lexer": "ipython3",
   "version": "3.7.11"
  }
 },
 "nbformat": 4,
 "nbformat_minor": 4
}
