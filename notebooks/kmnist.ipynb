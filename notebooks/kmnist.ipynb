{
 "cells": [
  {
   "cell_type": "code",
   "execution_count": 1,
   "id": "8fb2982d",
   "metadata": {},
   "outputs": [],
   "source": [
    "import tensorflow as tf\n",
    "import numpy as np\n",
    "from tensorflow import keras\n",
    "from tensorflow.keras import layers\n",
    "import pandas as pd\n",
    "import matplotlib.pyplot as plt\n",
    "import sys\n",
    "sys.path.append(\"..\") # Adds higher directory to python modules path.\n",
    "import os\n",
    "os.environ['TF_DETERMINISTIC_OPS'] = '1'\n",
    "import random\n",
    "seed = 42\n",
    "random.seed(seed)\n",
    "tf.random.set_seed(seed)\n",
    "np.random.seed(seed)"
   ]
  },
  {
   "cell_type": "code",
   "execution_count": 2,
   "id": "7ac86595-50a6-466c-9025-28690a348988",
   "metadata": {},
   "outputs": [
    {
     "name": "stdout",
     "output_type": "stream",
     "text": [
      "x_train shape: (60000, 28, 28)\n",
      "60000 train samples\n",
      "10000 test samples\n"
     ]
    }
   ],
   "source": [
    "# Model / data parameters\n",
    "num_classes = 10\n",
    "input_shape = (28, 28, 1)\n",
    "(x_train, y_train), (x_test, y_test) = tf.keras.datasets.mnist.load_data()\n",
    "print(\"x_train shape:\", x_train.shape)\n",
    "print(x_train.shape[0], \"train samples\")\n",
    "print(x_test.shape[0], \"test samples\")\n",
    "\n",
    "\n",
    "# convert class vectors to binary class matrices\n",
    "y_train = keras.utils.to_categorical(y_train, num_classes)\n",
    "y_test = keras.utils.to_categorical(y_test, num_classes)"
   ]
  },
  {
   "cell_type": "code",
   "execution_count": 20,
   "id": "97810383",
   "metadata": {},
   "outputs": [
    {
     "name": "stdout",
     "output_type": "stream",
     "text": [
      "Number of training samples: 60000 where each sample is of size: (28, 28)\n",
      "Number of test samples: 10000 where each sample is of size: (28, 28)\n"
     ]
    }
   ],
   "source": [
    "num_classes=10\n",
    "# Let us define some paths first\n",
    "input_path = \"./input/\"\n",
    "\n",
    "# Path to training images and corresponding labels provided as numpy arrays\n",
    "kmnist_train_images_path = input_path+\"kmnist-train-imgs.npz\"\n",
    "kmnist_train_labels_path = input_path+\"kmnist-train-labels.npz\"\n",
    "\n",
    "# Path to the test images and corresponding labels\n",
    "kmnist_test_images_path = input_path+\"kmnist-test-imgs.npz\"\n",
    "kmnist_test_labels_path = input_path+\"kmnist-test-labels.npz\"\n",
    "\n",
    "# Load the training data from the corresponding npz files\n",
    "kmnist_train_images = np.load(kmnist_train_images_path)['arr_0']\n",
    "kmnist_train_labels = np.load(kmnist_train_labels_path)['arr_0']\n",
    "\n",
    "# Load the test data from the corresponding npz files\n",
    "kmnist_test_images = np.load(kmnist_test_images_path)['arr_0']\n",
    "kmnist_test_labels = np.load(kmnist_test_labels_path)['arr_0']\n",
    "\n",
    "kmnist_train_labels = keras.utils.to_categorical(kmnist_train_labels, num_classes)\n",
    "kmnist_test_labels = keras.utils.to_categorical(kmnist_test_labels, num_classes)\n",
    "print(f\"Number of training samples: {len(kmnist_train_images)} where each sample is of size: {kmnist_train_images.shape[1:]}\")\n",
    "print(f\"Number of test samples: {len(kmnist_test_images)} where each sample is of size: {kmnist_test_images.shape[1:]}\")\n",
    "\n",
    "train_ds_kmnist = tf.data.Dataset.from_tensor_slices((kmnist_train_images, kmnist_train_labels))\n",
    "test_ds_kmnist = tf.data.Dataset.from_tensor_slices((kmnist_test_images, kmnist_test_labels))\n",
    "def augment_images(image, label,input_size=(227,227), channel_first = False):\n",
    "        # Normalize images to have a mean of 0 and standard deviation of 1\n",
    "        # image = tf.image.per_image_standardization(image)\n",
    "        # Resize images from 32x32 to 277x277\n",
    "        image = tf.reshape(image, (28,28,1))\n",
    "        # image = tf.image.grayscale_to_rgb(image, name=None)\n",
    "        # image = tf.image.resize(image,input_size)\n",
    "        if channel_first:\n",
    "            image = tf.transpose(image, [2, 0, 1])\n",
    "\n",
    "        return image, label\n",
    "batch_size=32\n",
    "train_ds_kmnist_size = len(list(train_ds_kmnist))\n",
    "train_ds_kmnist = (train_ds_kmnist\n",
    "                .map(augment_images)\n",
    "                .shuffle(buffer_size=train_ds_kmnist_size,seed=42,reshuffle_each_iteration=False)\n",
    "                .batch(batch_size=batch_size, drop_remainder=True))\n",
    "\n",
    "test_ds_kmnist = (test_ds_kmnist\n",
    "                .map(augment_images)\n",
    "                #   .shuffle(buffer_size=train_ds_size)\n",
    "                .batch(batch_size=batch_size, drop_remainder=True))\n",
    "\n"
   ]
  },
  {
   "cell_type": "code",
   "execution_count": 4,
   "id": "b9859057",
   "metadata": {},
   "outputs": [
    {
     "name": "stdout",
     "output_type": "stream",
     "text": [
      "trainSize 55000\n",
      "testSize 10000\n"
     ]
    }
   ],
   "source": [
    "def dataset():\n",
    "    num_outputs = 10\n",
    "    validation_size = 5000\n",
    "    batch_size = 32\n",
    "    (train_images, train_labels), (test_images, test_labels) = tf.keras.datasets.mnist.load_data()\n",
    "    train_labels = tf.keras.utils.to_categorical(train_labels,num_outputs)\n",
    "    test_labels = tf.keras.utils.to_categorical(test_labels,num_outputs)\n",
    "    \n",
    "    validation_images, validation_labels = train_images[:validation_size], train_labels[:validation_size] #get the first 5k training samples as validation set\n",
    "    train_images, train_labels = train_images[validation_size:], train_labels[validation_size:] # now remove the validation set from the training set.\n",
    "    train_ds = tf.data.Dataset.from_tensor_slices((train_images, train_labels))\n",
    "    test_ds = tf.data.Dataset.from_tensor_slices((test_images, test_labels))\n",
    "    validation_ds = tf.data.Dataset.from_tensor_slices((validation_images, validation_labels))\n",
    "    \n",
    "    def augment_images(image, label,input_size=(227,227), channel_first = False):\n",
    "        # Normalize images to have a mean of 0 and standard deviation of 1\n",
    "        # image = tf.image.per_image_standardization(image)\n",
    "        # Resize images from 32x32 to 277x277\n",
    "        image = tf.reshape(image, (28,28,1))\n",
    "        # image = tf.image.grayscale_to_rgb(image, name=None)\n",
    "        # image = tf.image.resize(image,input_size)\n",
    "        if channel_first:\n",
    "            image = tf.transpose(image, [2, 0, 1])\n",
    "\n",
    "        return image, label\n",
    "\n",
    "\n",
    "\n",
    "    train_ds_size = len(list(train_ds))\n",
    "    test_ds_size = len(list(test_ds))\n",
    "    validation_ds_size = len(list(validation_ds))\n",
    "\n",
    "    print(\"trainSize {}\".format(train_ds_size))\n",
    "    print(\"testSize {}\".format(test_ds_size))\n",
    "\n",
    "    train_ds = (train_ds\n",
    "                    .map(augment_images)\n",
    "                    .shuffle(buffer_size=train_ds_size,seed=42,reshuffle_each_iteration=False)\n",
    "                    .batch(batch_size=batch_size, drop_remainder=True))\n",
    "\n",
    "    test_ds = (test_ds\n",
    "                    # .map(augment_images)\n",
    "                    #   .shuffle(buffer_size=train_ds_size)\n",
    "                    .batch(batch_size=batch_size, drop_remainder=True))\n",
    "\n",
    "    validation_ds = (validation_ds\n",
    "                    # .map(augment_images)\n",
    "                    #   .shuffle(buffer_size=validation_ds_size)\n",
    "                    .batch(batch_size=batch_size, drop_remainder=True))\n",
    "\n",
    "    return (train_ds, test_ds, validation_ds)\n",
    "\n",
    "train_ds, test_ds, validation_ds = dataset()"
   ]
  },
  {
   "cell_type": "code",
   "execution_count": 5,
   "id": "e51c5d67-8c86-4a46-b230-bd284e78646c",
   "metadata": {
    "jupyter": {
     "source_hidden": true
    },
    "tags": []
   },
   "outputs": [],
   "source": [
    "def rotateImg(model, digit_one, evidence_func = tf.nn.relu, verbose=False):\n",
    "    import tensorflow_addons as tfa\n",
    "    linspace = np.linspace(1,180,num=18)\n",
    "    import matplotlib.pyplot as plt\n",
    "    Mdeg = 180 \n",
    "    Ndeg = int(Mdeg/10)+1\n",
    "    K = 10\n",
    "    # print(linspace)\n",
    "    pred = []\n",
    "    uncert = []\n",
    "    label = []\n",
    "    answer = []\n",
    "    ldeg = []\n",
    "    lp = []\n",
    "    lu=[]\n",
    "    scores = np.zeros((1,K))\n",
    "    threshold = 0.001\n",
    "    Results = pd.DataFrame()\n",
    "    rimgs = []\n",
    "    K=10\n",
    "    from PIL import Image\n",
    "\n",
    "    for i in linspace:\n",
    "        i = int(i)\n",
    "        radians = i* np.pi/180\n",
    "        rotate = tfa.image.rotate(digit_one, tf.constant(radians))\n",
    "        rimg = rotate\n",
    "        rimgs.append(rimg.numpy().reshape(28,28))\n",
    "    #     rimgs.append(rotate)\n",
    "        _pred=model.predict(tf.reshape(rotate,(1,28,28)))\n",
    "        evidence =evidence_func(_pred)\n",
    "        \n",
    "        if verbose:\n",
    "            print(_pred, evidence, \"label\", np.argmax(_pred))\n",
    "        alpha = evidence \n",
    "        \n",
    "        # alpha = exp_evidence(logits)\n",
    "        # S = tf.reduce_sum(alpha, axis=1, keepdims=True) \n",
    "        # E = alpha - 1\n",
    "    \n",
    "        # A = tf.reduce_sum(p * (func(S) - func(alpha)), axis=1, keepdims=True)\n",
    "        \n",
    "        \n",
    "        u = K / tf.reduce_sum(alpha, axis=1, keepdims=True) #uncertainty\n",
    "        # print(\"uncert\",u)\n",
    "        prob = alpha/tf.reduce_sum(alpha, 1, keepdims=True) \n",
    "        \n",
    "        # print(\"prob\", evidence)\n",
    "        # print(\"u\", u.numpy(), \"prob\",tf.reduce_sum(prob).numpy())\n",
    "        # u = K / tf.reduce_sum(alpha, axis=1) #uncertainty\n",
    "        # prob = evidence/tf.reduce_sum(evidence, 1) \n",
    "        print(\"pred\",prob, \"label?\",np.argmax(prob), \"uncert\", u)\n",
    "        scores += prob.numpy().astype(\"float\") >= threshold\n",
    "    #     print(\"scores\",scores)\n",
    "        lp.append(prob[0])\n",
    "        # print(u.numpy())\n",
    "        pred.append(prob)\n",
    "        uncert.append(u.numpy().mean())\n",
    "        label.append(1)\n",
    "        answer.append(np.argmax(_pred))\n",
    "        ldeg.append(i)\n",
    "    labels = np.arange(10)[scores[0].astype(bool)]\n",
    "    # print(\"labels\",labels)\n",
    "    lp = np.array(lp)[:,labels]\n",
    "    # c = ['black','blue','red','brown','purple','cyan']\n",
    "    marker = ['s','^','o']*4\n",
    "    labels = labels.tolist()\n",
    "    # print(\"lp\",lp)\n",
    "\n",
    "    print(labels)\n",
    "    for j in range(len(labels)):\n",
    "        plt.plot(ldeg,lp[:,j],marker=marker[j])\n",
    "    labels += ['uncertainty']\n",
    "    plt.plot(ldeg,uncert,marker='<',c='red')\n",
    "\n",
    "    plt.legend(labels)\n",
    "\n",
    "    plt.xlim([0,Mdeg])  \n",
    "    plt.xlabel('Rotation Degree')\n",
    "    plt.ylabel('Belief Mass')\n",
    "    # plt.yscale(\"log\")\n",
    "    plt.show()\n",
    "\n",
    "    img = Image.new('L', (28*len(rimgs), 28))\n",
    "    x_offset =0\n",
    "    for im in rimgs:\n",
    "    #     print(im)\n",
    "        _im = Image.fromarray(np.uint8((im)*255))\n",
    "        img.paste(_im,(x_offset,0))\n",
    "        x_offset += _im.size[0]\n",
    "\n",
    "    plt.figure(figsize=[6.2,100])\n",
    "    plt.imshow(img,cmap='gray')\n",
    "    plt.axis('off')\n",
    "    plt.show()\n",
    "    #     print(pred, np.argmax(pred))\n",
    "    #     _ = plt.imshow(rotate)\n",
    "    #     plt.show()\n",
    "    return(uncert)"
   ]
  },
  {
   "cell_type": "code",
   "execution_count": 6,
   "id": "b8b31edb",
   "metadata": {
    "tags": []
   },
   "outputs": [],
   "source": [
    "def KL(alpha,K):\n",
    "    # print(\"K:\",K)\n",
    "    beta=tf.constant(np.ones((1,K)),dtype=tf.float32)\n",
    "    S_alpha = tf.reduce_sum(alpha,axis=1,keepdims=True)\n",
    "    S_beta = tf.reduce_sum(beta,axis=1,keepdims=True)\n",
    "    lnB = tf.compat.v1.lgamma(S_alpha) - tf.reduce_sum(tf.compat.v1.lgamma(alpha),axis=1,keepdims=True)\n",
    "    lnB_uni = tf.reduce_sum(tf.compat.v1.lgamma(beta),axis=1,keepdims=True) - tf.compat.v1.lgamma(S_beta)\n",
    "    \n",
    "    dg0 = tf.compat.v1.digamma(S_alpha)\n",
    "    dg1 = tf.compat.v1.digamma(alpha)\n",
    "    # tf.print(\"alpha\",alpha.shape)\n",
    "    # tf.print(\"beta\",beta.shape)\n",
    "    kl = tf.reduce_sum((alpha - beta)*(dg1-dg0),axis=1,keepdims=True) + lnB + lnB_uni\n",
    "    # print(\"kl\", kl)\n",
    "    return kl\n",
    "  # return (px.pdf(X) * (log(px.pdf(X)) - log(qx.pdf(X)))).sum()\n",
    "\n",
    "def _KL(alpha, beta, K ):\n",
    "    # print(\"K:\",K)\n",
    "    # beta=tf.constant(np.ones((1,K)),dtype=tf.float32)\n",
    "    beta = tf.cast(beta,tf.float32)\n",
    "    alpha = tf.cast(alpha,tf.float32)\n",
    "    S_alpha = tf.reduce_sum(alpha,keepdims=True)\n",
    "    S_beta = tf.reduce_sum(beta,keepdims=True)\n",
    "    lnB = tf.compat.v1.lgamma(S_alpha) - tf.reduce_sum(tf.compat.v1.lgamma(alpha),keepdims=True)\n",
    "    lnB_uni = tf.reduce_sum(tf.compat.v1.lgamma(beta),keepdims=True) - tf.compat.v1.lgamma(S_beta)\n",
    "    \n",
    "    dg0 = tf.compat.v1.digamma(S_alpha)\n",
    "    dg1 = tf.compat.v1.digamma(alpha)\n",
    "    # tf.print(\"alpha\",alpha.shape)\n",
    "    # tf.print(\"beta\",beta.shape)\n",
    "    kl = tf.reduce_sum((alpha - beta)*(dg1-dg0),keepdims=True) + lnB + lnB_uni\n",
    "    # print(\"kl\", kl)\n",
    "    return kl\n",
    "\n",
    "import tensorflow.python.keras.backend as K\n",
    "\n",
    "\n",
    "current_epoch = K.variable(0.)\n",
    "        \n",
    "        \n",
    "class changeAlpha(tf.keras.callbacks.Callback):\n",
    "    def __init__(self):\n",
    "        super(changeAlpha, self).__init__()\n",
    "        self.current_epoch = current_epoch\n",
    "    def on_epoch_begin(self, epoch, logs={}):\n",
    "\n",
    "        K.set_value(self.current_epoch, epoch)\n",
    "        tf.print(\"current epoch\", K.get_value(current_epoch))\n",
    "\n",
    "        \n",
    "        \n",
    "def loss_wrapper(annealing_coef):\n",
    "    def custom_loss_function(p, logits):\n",
    "    #     squared_difference = tf.square(y_true - y_pred)\n",
    "    #     return tf.reduce_mean(squared_difference, axis=-1)\n",
    "    #     alpha = alpha + 1\n",
    "        evidence = tf.nn.relu(logits)\n",
    "        alpha = evidence + 1\n",
    "\n",
    "        S = tf.reduce_sum(alpha,axis=1,keepdims=True) \n",
    "        E = alpha - 1\n",
    "        m = alpha / S\n",
    "        A = tf.reduce_sum((p-m)**2, axis=1, keepdims=True) \n",
    "        B = tf.reduce_sum(alpha*(S-alpha)/(S*S*(S+1)), axis=1, keepdims=True) \n",
    "        # tf.print(annealing_coef)\n",
    "        # annealing_coef = \n",
    "\n",
    "        alp = E*(1-p) + 1 \n",
    "        C =   annealing_coef * KL(alp,10)\n",
    "        return (A + B) + C\n",
    "    return custom_loss_function\n",
    "\n",
    "\n"
   ]
  },
  {
   "cell_type": "code",
   "execution_count": 47,
   "id": "ea47e94a-5a3a-4caa-98a7-b530020602a1",
   "metadata": {},
   "outputs": [
    {
     "data": {
      "text/plain": [
       "<tf.Tensor: shape=(1, 1), dtype=float32, numpy=array([[14.903325]], dtype=float32)>"
      ]
     },
     "execution_count": 47,
     "metadata": {},
     "output_type": "execute_result"
    }
   ],
   "source": [
    "KL(tf.Variable([[1.0,1.0,1.0,50.0,1.0,1.0,1.0,1.0,1.0,1.0]]),10)\n"
   ]
  },
  {
   "cell_type": "code",
   "execution_count": 44,
   "id": "cf0f5e7c-b79b-46a7-a89e-7dd50dd76640",
   "metadata": {},
   "outputs": [
    {
     "data": {
      "text/plain": [
       "<tf.Tensor: shape=(1, 1), dtype=float32, numpy=array([[14.903325]], dtype=float32)>"
      ]
     },
     "execution_count": 44,
     "metadata": {},
     "output_type": "execute_result"
    }
   ],
   "source": [
    "beta=tf.constant(np.ones((1,10)),dtype=tf.float32)\n",
    "_KL(tf.Variable([[1.0,1.0,1.0,1.0,1.0,50,1.0,1.0,1.0,1.0]]),beta,10)"
   ]
  },
  {
   "cell_type": "code",
   "execution_count": 53,
   "id": "16e00ce2-f46e-4d70-bad2-98127b2e1471",
   "metadata": {},
   "outputs": [
    {
     "data": {
      "text/plain": [
       "<tf.Tensor: shape=(1, 1), dtype=float32, numpy=array([[2.9518337]], dtype=float32)>"
      ]
     },
     "execution_count": 53,
     "metadata": {},
     "output_type": "execute_result"
    }
   ],
   "source": [
    "beta=tf.constant(np.ones((1,10)),dtype=tf.float32)\n",
    "_KL(beta,tf.Variable([[1.0,3.0,1.0,1.0,1.0,3.0,1.0,1.0,1.0,1.0]]),10)"
   ]
  },
  {
   "cell_type": "code",
   "execution_count": 54,
   "id": "831a245f-4c5c-4dc9-8c81-044c93e6271e",
   "metadata": {},
   "outputs": [
    {
     "ename": "AttributeError",
     "evalue": "module 'keras.api._v2.keras.activations' has no attribute 'KL'",
     "output_type": "error",
     "traceback": [
      "\u001b[1;31m---------------------------------------------------------------------------\u001b[0m",
      "\u001b[1;31mAttributeError\u001b[0m                            Traceback (most recent call last)",
      "\u001b[1;32m~\\AppData\\Local\\Temp/ipykernel_16412/1829399214.py\u001b[0m in \u001b[0;36m<module>\u001b[1;34m\u001b[0m\n\u001b[1;32m----> 1\u001b[1;33m \u001b[0mKKL\u001b[0m \u001b[1;33m=\u001b[0m \u001b[0mtf\u001b[0m\u001b[1;33m.\u001b[0m\u001b[0mkeras\u001b[0m\u001b[1;33m.\u001b[0m\u001b[0mactivations\u001b[0m\u001b[1;33m.\u001b[0m\u001b[0mKL\u001b[0m\u001b[1;33m(\u001b[0m\u001b[1;33m)\u001b[0m\u001b[1;33m\u001b[0m\u001b[1;33m\u001b[0m\u001b[0m\n\u001b[0m\u001b[0;32m      2\u001b[0m \u001b[1;31m# return (px.pdf(X) * (log(px.pdf(X)) - log(qx.pdf(X)))).sum()\u001b[0m\u001b[1;33m\u001b[0m\u001b[1;33m\u001b[0m\u001b[1;33m\u001b[0m\u001b[0m\n",
      "\u001b[1;31mAttributeError\u001b[0m: module 'keras.api._v2.keras.activations' has no attribute 'KL'"
     ]
    }
   ],
   "source": [
    "KKL = tf.keras.activations.KL()\n",
    "# return (px.pdf(X) * (log(px.pdf(X)) - log(qx.pdf(X)))).sum()"
   ]
  },
  {
   "cell_type": "code",
   "execution_count": 14,
   "id": "95038952",
   "metadata": {
    "tags": []
   },
   "outputs": [],
   "source": [
    "batch_size = 128\n",
    "epochs = 15\n",
    "\n",
    "# model = keras.Sequential(\n",
    "#     [\n",
    "#         keras.Input(shape=input_shape),\n",
    "#         layers.Conv2D(32, kernel_size=(3, 3), activation=\"relu\"),\n",
    "#         layers.MaxPooling2D(pool_size=(2, 2)),\n",
    "#         layers.Conv2D(64, kernel_size=(3, 3), activation=\"relu\"),\n",
    "#         layers.MaxPooling2D(pool_size=(2, 2)),\n",
    "#         layers.Flatten(),\n",
    "#         layers.Dropout(0.5),\n",
    "#         layers.Dense(num_classes),\n",
    "#     ]\n",
    "# )\n",
    "# def justKL(labels,inputs):\n",
    "def dirichlet_kl_divergence(alphas, target_alphas, precision=None, target_precision=None,\n",
    "                            epsilon=1e-8):\n",
    "    \"\"\"\n",
    "    This function computes the Forward KL divergence between a model Dirichlet distribution\n",
    "    and a target Dirichlet distribution based on the concentration (alpha) parameters of each.\n",
    "    :param alphas: Tensor containing concentation parameters of model. Expected shape is batchsize X num_classes.\n",
    "    :param target_alphas: Tensor containing target concentation parameters. Expected shape is batchsize X num_classes.\n",
    "    :param precision: Optional argument. Can pass in precision of model. Expected shape is batchsize X 1\n",
    "    :param target_precision: Optional argument. Can pass in target precision. Expected shape is batchsize X 1\n",
    "    :param epsilon: Smoothing factor for numercal stability. Default value is 1e-8\n",
    "    :return: Tensor for Batchsize X 1 of forward KL divergences between target Dirichlet and model\n",
    "    \"\"\"\n",
    "    if not precision:\n",
    "        precision = tf.cast(tf.reduce_sum(alphas, keepdims=True),tf.float32)\n",
    "    if not target_precision:\n",
    "        target_precision = tf.cast(tf.reduce_sum(target_alphas, keepdims=True),tf.float32)\n",
    "    alpha_sum = tf.reduce_sum(alphas)\n",
    "    # tf.print(alpha_sum)\n",
    "    target_alpha_sum = tf.reduce_sum(target_alphas)\n",
    "    # tf.print(target_alpha_sum)\n",
    "    precision_term = tf.compat.v1.lgamma( tf.cast(target_precision,tf.float32)) - tf.compat.v1.lgamma(tf.cast(precision,tf.float32))\n",
    "    # tf.print(precision_term)\n",
    "    # assert torch.all(torch.isfinite(precision_term)).item()\n",
    "    # tf.print(tf.reduce_sum(tf.compat.v1.lgamma(alpha_sum + epsilon) - tf.compat.v1.lgamma(target_alpha_sum + epsilon)))\n",
    "    # tf.print((target_alpha_sum - alpha_sum))\n",
    "    # tf.print( (tf.compat.v1.digamma(target_alpha_sum + epsilon)- tf.compat.v1.digamma(target_precision + epsilon)))\n",
    "    alphas_term = tf.reduce_sum(tf.compat.v1.lgamma(alpha_sum + epsilon) - tf.compat.v1.lgamma(target_alpha_sum + epsilon)\n",
    "                            + (target_alpha_sum - alpha_sum) * (tf.compat.v1.digamma(target_alpha_sum + epsilon)- tf.compat.v1.digamma(target_precision + epsilon)), keepdims=True)\n",
    "    # assert torch.all(torch.isfinite(alphas_term)).item()\n",
    "\n",
    "    cost = tf.squeeze(precision_term + alphas_term)\n",
    "    # tf.print(\"cost\", cost)\n",
    "    return cost  \n",
    "\n",
    "\n",
    "\n",
    "\n",
    "class lambda_update(tf.keras.callbacks.Callback):\n",
    "    def __init__(self, lambda_t=0, max_t=1):\n",
    "        self.lambda_t = tf.Variable(initial_value=lambda_t, dtype=tf.float32)\n",
    "        self.max_t = tf.Variable(initial_value=max_t, dtype=tf.float32)\n",
    "\n",
    "    def on_epoch_begin(self, epoch, logs={}): #needs to be on begin, otherwise the epoch update won't increase the value from 0 to 0.1 till the 3rd epoch...\n",
    "        val = tf.reduce_min([self.max_t, tf.cast(epoch, tf.dtypes.float32) / 10.0])\n",
    "        tf.print(\"annealing coef updated to:\", val)\n",
    "        self.lambda_t.assign(val)\n",
    "\n",
    "\n",
    "\n",
    "def loss_wrapper(lambda_callback: lambda_update):\n",
    "    beta=tf.constant(np.ones((1,10)),dtype=tf.float32)\n",
    "    def custom_loss_function(p, logits):\n",
    "    #     squared_difference = tf.square(y_true - y_pred)\n",
    "    #     return tf.reduce_mean(squared_difference, axis=-1)\n",
    "    #     alpha = alpha + 1\n",
    "        evidence = tf.nn.relu(logits)\n",
    "        alpha = evidence + 1\n",
    "        lambda_callback.lambda_t\n",
    "        S = tf.reduce_sum(alpha,axis=1,keepdims=True) \n",
    "        E = alpha - 1\n",
    "        m = alpha / S\n",
    "        A = tf.reduce_sum((p-m)**2, axis=1, keepdims=True) \n",
    "        B = tf.reduce_sum(alpha*(S-alpha)/(S*S*(S+1)), axis=1, keepdims=True) \n",
    "        annealing_coef =  lambda_callback.lambda_t\n",
    "        # tf.print(annealing_coef)\n",
    "        \n",
    "        alp = E*(1-p) + 1 \n",
    "        C =   annealing_coef * KL(alp, 10)\n",
    "        return (A + B) + C\n",
    "    return custom_loss_function\n",
    "\n",
    "\n",
    "crossentropy = tf.keras.losses.CategoricalCrossentropy(from_logits=True)\n",
    "\n",
    "\n",
    "\n",
    "\n",
    "\n",
    "\n",
    "def evidence_crossentropy(annealing_rate=1, momentum=1, decay=1, global_loss=False,num_outputs=10):\n",
    "    #create a wrapper function that returns a function\n",
    "    temperature = 1\n",
    "    Classes = 10\n",
    "    keras_kl = tf.keras.losses.KLDivergence()\n",
    "    annealing_rate = annealing_rate\n",
    "    momentum_rate = momentum\n",
    "    decay_rate = decay\n",
    "    def cross_entropy_evidence(labels, outputs): \n",
    "        softmax = tf.nn.softmax(outputs)\n",
    "        # activated_outputs =tf.keras.activations.sigmoid(softmax)\n",
    "        evidence = tf.nn.softplus(outputs)\n",
    "        alpha = evidence + 1\n",
    "        S = tf.reduce_sum(alpha, axis=1, keepdims=True) \n",
    "        E = alpha - 1\n",
    "        m = alpha / S\n",
    "        A = tf.reduce_sum((labels-m)**2, axis=1, keepdims=True) \n",
    "        B = tf.reduce_sum(alpha*(S-alpha)/(S*S*(S+1)), axis=1, keepdims=True) \n",
    "        # tf.print(\"A+B\",(A+B).shape, tf.reduce_sum(A+B, axis=1))\n",
    "        # annealing_coef = tf.minimum(1.0,tf.cast(annealing_rate,tf.float32))\n",
    "#         annealing_coef = 1\n",
    "        alp = E*(1-labels) + 1 \n",
    "        # print(\"alp\", alp)\n",
    "        C =  annealing_rate * KL(alp,num_outputs)\n",
    "        # print(\"c\",C)\n",
    "        # C = keras_kl(labels,evidence)\n",
    "        loss = tf.keras.losses.categorical_crossentropy(labels, softmax)\n",
    "        # tf.print(\"loss\",loss.shape,loss)\n",
    "        return loss + C\n",
    "        # return (A + B) + C\n",
    "    return  cross_entropy_evidence\n",
    "\n",
    "def evidence_crossentropy2(annealing_rate=1, momentum=1, decay=1, global_loss=False,num_outputs=10):\n",
    "    #create a wrapper function that returns a function\n",
    "    temperature = 1\n",
    "    Classes = 10\n",
    "    keras_kl = tf.keras.losses.KLDivergence()\n",
    "    annealing_rate = annealing_rate\n",
    "    momentum_rate = momentum\n",
    "    decay_rate = decay\n",
    "    def cross_entropy_evidence(labels, outputs): \n",
    "        softmax = tf.nn.softmax(outputs)\n",
    "        # activated_outputs =tf.keras.activations.sigmoid(softmax)\n",
    "        evidence = tf.nn.softplus(outputs)\n",
    "        alpha = evidence + 1\n",
    "        S = tf.reduce_sum(alpha, axis=1, keepdims=True) \n",
    "        E = alpha - 1\n",
    "        m = alpha / S\n",
    "        # A = tf.reduce_sum((labels-m)**2, axis=1, keepdims=True) \n",
    "        # B = tf.reduce_sum(alpha*(S-alpha)/(S*S*(S+1)), axis=1, keepdims=True) \n",
    "        # tf.print(\"A+B\",(A+B).shape, tf.reduce_sum(A+B, axis=1))\n",
    "        # annealing_coef = tf.minimum(1.0,tf.cast(annealing_rate,tf.float32))\n",
    "#         annealing_coef = 1\n",
    "        A = tf.reduce_sum(labels * (tf.compat.v1.digamma(S) - tf.compat.v1.digamma(alpha)), axis=1, keepdims=True)\n",
    "    \n",
    "        alp = E*(1-labels) + 1 \n",
    "        # print(\"alp\", alp)\n",
    "        C =  annealing_rate * KL(alp,num_outputs)\n",
    "        # print(\"c\",C)\n",
    "        # C = keras_kl(labels,evidence)\n",
    "        loss = tf.keras.losses.categorical_crossentropy(labels, softmax)\n",
    "        # tf.print(\"loss\",loss.shape,loss)\n",
    "        pred = tf.argmax(outputs,1)\n",
    "        truth = tf.argmax(labels,1)\n",
    "        match = tf.reshape(tf.cast(tf.equal(pred, truth), tf.float32),(-1,1))\n",
    "        return A # + C\n",
    "        # return (A + B) + C\n",
    "    return  cross_entropy_evidence\n",
    "\n",
    "\n",
    "# model.compile(loss=loss_wrapper(current_epoch), optimizer=\"adam\", metrics=[\"accuracy\"])\n",
    "# model.compile(loss=\"mean_squared_error\", optimizer=\"adam\", metrics=[\"accuracy\"])\n",
    "# model.fit(train_ds, epochs=epochs,callbacks = [changeAlpha()])"
   ]
  },
  {
   "cell_type": "code",
   "execution_count": 7,
   "id": "b18a0ba2-05c2-451b-8708-08fd8aeb415a",
   "metadata": {},
   "outputs": [],
   "source": [
    "def exp_evidence(logits): \n",
    "    return tf.exp(tf.clip_by_value(logits/10,-10,10))\n",
    "\n",
    "def UCE_loss(y_true, logits):\n",
    "    alpha_t = exp_evidence(logits)\n",
    "    alpha0 = tf.reduce_sum(alpha_t)\n",
    "    n_classes = 10\n",
    "    # Compute uncertain entropy\n",
    "    dirichlet_expectation = tf.compat.v1.digamma(alpha_t) - (tf.expand_dims(tf.compat.v1.digamma(alpha0), -1))\n",
    "    # y = tf.one_hot(self.y, self.n_classes)\n",
    "    y = y_true\n",
    "    loss_ent_unc = -(tf.reduce_sum(dirichlet_expectation * y, -1))\n",
    "    loss = loss_ent_unc\n",
    "\n",
    "#         # Regularization\n",
    "#         if self.alpha > 0 or self.beta > 0:\n",
    "#             ty = tf.tile(self.ty, [self.n_samples, 1])\n",
    "#             x = tf.tile(self.x, [self.n_samples, 1])\n",
    "#             t = tf.tile(self.tx, [self.n_samples, 1])\n",
    "#             s = tf.tile(self.s, [self.n_samples])\n",
    "\n",
    "#             t_sample = ty * tf.random_uniform(tf.shape(ty))\n",
    "\n",
    "#             mark_emb = self.mark_embedding(x)\n",
    "#             rnn_input = tf.concat([mark_emb, tf.expand_dims(t, -1)], -1)\n",
    "#             # h = self.rnn(rnn_input, s, reuse=True)\n",
    "#             log_alpha_t_sample, _, _, _ = self.Dirichlet(h, t_sample)\n",
    "#             alpha_t_sample = tf.exp(log_alpha_t_sample)\n",
    "\n",
    "#             mean = tf.digamma(self.alpha_t) - tf.tile(tf.expand_dims(tf.digamma(alpha0), -1), [1, 1, n_classes])\n",
    "#             dist = tfp.Dirichlet(alpha_t_sample)\n",
    "#             var = dist.variance()\n",
    "\n",
    "#             mean_reg = (tf.reduce_mean(mean ** 2, -1))\n",
    "#             var_reg = tf.reduce_mean(((n_classes-1)/(n_classes**2 * (n_classes + 1)) - var) ** 2, -1)\n",
    "#             var_reg = self.aggregate(var_reg, s)\n",
    "\n",
    "#             loss += self.alpha * mean_reg + self.beta * var_reg\n",
    "    return loss\n",
    "\n",
    "y_true = np.array([1.,0,0,0,0,0,0,0,0,0])\n",
    "# logit = np.array([1,.3,.3,.3,.3,.3,.3,.3,.3,0])\n",
    "logit =  np.array([1.,0,0,0,0,0,0,0,0,0])\n",
    "UCE_loss(y_true,logit)\n",
    "\n",
    "\n",
    "def loss_EDL(func=tf.compat.v1.digamma):\n",
    "    def loss_func(p, logits): \n",
    "        # logits = tf.nn.softmax(logits)\n",
    "        alpha = tf.exp(tf.clip_by_value(logits/10,-10,10))\n",
    "        S = tf.reduce_sum(alpha, axis=1, keepdims=True) \n",
    "        E = alpha - 1\n",
    "    \n",
    "        A = tf.reduce_sum(p * (func(S) - func(alpha)), axis=1, keepdims=True)\n",
    "    \n",
    "        # annealing_coef = tf.minimum(1.0, tf.cast(global_step/annealing_step,tf.float32))\n",
    "    \n",
    "        alp = E*(1-p) + 1 \n",
    "        # B =  annealing_coef * KL(alp)\n",
    "    \n",
    "        return (A)\n",
    "    return loss_func\n",
    "\n",
    "\n",
    "def KL(alpha,K):\n",
    "    # print(\"K:\",K)\n",
    "    beta=tf.constant(np.ones((1,K)),dtype=tf.float32)\n",
    "    S_alpha = tf.reduce_sum(alpha,axis=1,keepdims=True)\n",
    "    S_beta = tf.reduce_sum(beta,axis=1,keepdims=True)\n",
    "    lnB = tf.compat.v1.lgamma(S_alpha) - tf.reduce_sum(tf.compat.v1.lgamma(alpha),axis=1,keepdims=True)\n",
    "    lnB_uni = tf.reduce_sum(tf.compat.v1.lgamma(beta),axis=1,keepdims=True) - tf.compat.v1.lgamma(S_beta)\n",
    "    \n",
    "    dg0 = tf.compat.v1.digamma(S_alpha)\n",
    "    dg1 = tf.compat.v1.digamma(alpha)\n",
    "    # tf.print(\"alpha\",alpha.shape)\n",
    "    # tf.print(\"beta\",beta.shape)\n",
    "    kl = tf.reduce_sum((alpha - beta)*(dg1-dg0),axis=1,keepdims=True) + lnB + lnB_uni\n",
    "    # print(\"kl\", kl)\n",
    "    return kl\n",
    "\n",
    "\n",
    "class lambda_update(tf.keras.callbacks.Callback):\n",
    "    def __init__(self, annealing_max,  lambda_t=0, max_t=1):\n",
    "        self.lambda_t = tf.Variable(initial_value=lambda_t, dtype=tf.float32)\n",
    "        self.max_t = tf.Variable(initial_value=max_t, dtype=tf.float32)\n",
    "        self.annealing_max = tf.Variable(initial_value=annealing_max, dtype=tf.float32)\n",
    "\n",
    "    def on_epoch_begin(self, epoch, logs={}): #needs to be on begin, otherwise the epoch update won't increase the value from 0 to 0.1 till the 3rd epoch...\n",
    "        val = tf.reduce_min([self.max_t, tf.cast(epoch, tf.dtypes.float32) / tf.cast(self.annealing_max, tf.dtypes.float32)])\n",
    "        tf.print(\"annealing coef updated to:\", val)\n",
    "        self.lambda_t.assign(val)\n",
    "\n",
    "\n",
    "def exp_evidence(logits): \n",
    "    return tf.exp(tf.clip_by_value(logits/10,-10,10))\n",
    "\n",
    "def loss_wrapper(lambda_callback: lambda_update):\n",
    "    def custom_loss_function(p, logits):\n",
    "    #     squared_difference = tf.square(y_true - y_pred)\n",
    "    #     return tf.reduce_mean(squared_difference, axis=-1)\n",
    "    #     alpha = alpha + 1\n",
    "        evidence = exp_evidence(logits)\n",
    "        alpha = evidence + 1\n",
    "\n",
    "        S = tf.reduce_sum(alpha,axis=1,keepdims=True) \n",
    "        E = alpha - 1\n",
    "        m = alpha / S\n",
    "        A = tf.reduce_sum((p-m)**2, axis=1, keepdims=True) \n",
    "        B = tf.reduce_sum(alpha*(S-alpha)/(S*S*(S+1)), axis=1, keepdims=True) \n",
    "        # tf.print(annealing_coef)\n",
    "        # annealing_coef = \n",
    "        annealing_coef =  lambda_callback.lambda_t\n",
    "        alp = E*(1-p) + 1 \n",
    "        C =   annealing_coef * KL(alp,10)\n",
    "        return (A + B) + C\n",
    "    return custom_loss_function\n",
    "\n",
    "\n",
    "def CE(lambda_callback: lambda_update):\n",
    "    #create a wrapper function that returns a function\n",
    "    def cross_entropy_evidence(labels, outputs): \n",
    "        softmax = tf.nn.softmax(outputs)\n",
    "        \n",
    "        evidence = exp_evidence(outputs)\n",
    "        alpha = evidence + 1\n",
    "        S = tf.reduce_sum(alpha, axis=1, keepdims=True) \n",
    "        E = alpha - 1\n",
    "        m = alpha / S\n",
    "        A = tf.reduce_sum(labels * (tf.compat.v1.digamma(S) - tf.compat.v1.digamma(alpha)), axis=1, keepdims=True)\n",
    "        alp = E*(1-labels) + 1 \n",
    "        loss = tf.keras.losses.categorical_crossentropy(labels, m)\n",
    "        annealing_rate =  lambda_callback.lambda_t\n",
    "        C =  annealing_rate * KL(alp,10)\n",
    "        \n",
    "        return loss#  + C\n",
    "        # return (A + B) + C\n",
    "    return  cross_entropy_evidence"
   ]
  },
  {
   "cell_type": "code",
   "execution_count": 9,
   "id": "99b56641-e35d-4538-ad0b-92c8e4358a83",
   "metadata": {
    "tags": []
   },
   "outputs": [
    {
     "name": "stdout",
     "output_type": "stream",
     "text": [
      "WARNING:tensorflow:No training configuration found in the save file, so the model was *not* compiled. Compile it manually.\n",
      "annealing coef updated to: 0\n",
      "Epoch 1/10\n",
      "1718/1718 [==============================] - 10s 4ms/step - loss: 0.0977 - accuracy: 0.9339\n",
      "annealing coef updated to: 0.1\n",
      "Epoch 2/10\n",
      "1718/1718 [==============================] - 8s 5ms/step - loss: 0.1023 - accuracy: 0.9731\n",
      "annealing coef updated to: 0.2\n",
      "Epoch 3/10\n",
      "1718/1718 [==============================] - 8s 4ms/step - loss: 0.1038 - accuracy: 0.9775\n",
      "annealing coef updated to: 0.3\n",
      "Epoch 4/10\n",
      "1718/1718 [==============================] - 9s 5ms/step - loss: 0.1110 - accuracy: 0.9788\n",
      "annealing coef updated to: 0.4\n",
      "Epoch 5/10\n",
      "1718/1718 [==============================] - 9s 5ms/step - loss: 0.1144 - accuracy: 0.9791\n",
      "annealing coef updated to: 0.5\n",
      "Epoch 6/10\n",
      "1718/1718 [==============================] - 8s 5ms/step - loss: 0.1201 - accuracy: 0.9794\n",
      "annealing coef updated to: 0.6\n",
      "Epoch 7/10\n",
      "1718/1718 [==============================] - 8s 5ms/step - loss: 0.1321 - accuracy: 0.9782\n",
      "annealing coef updated to: 0.7\n",
      "Epoch 8/10\n",
      "1718/1718 [==============================] - 8s 4ms/step - loss: 0.1361 - accuracy: 0.9782\n",
      "annealing coef updated to: 0.8\n",
      "Epoch 9/10\n",
      "1718/1718 [==============================] - 8s 4ms/step - loss: 0.1481 - accuracy: 0.9790\n",
      "annealing coef updated to: 0.9\n",
      "Epoch 10/10\n",
      "1718/1718 [==============================] - 8s 5ms/step - loss: 0.1506 - accuracy: 0.9784\n"
     ]
    },
    {
     "data": {
      "text/plain": [
       "<keras.callbacks.History at 0x2951bb65b08>"
      ]
     },
     "execution_count": 9,
     "metadata": {},
     "output_type": "execute_result"
    }
   ],
   "source": [
    "#entropy train, without KL divergence\n",
    "# loss_fn = loss_wrapper(1)\n",
    "seed = 42\n",
    "random.seed(seed)\n",
    "tf.random.set_seed(seed)\n",
    "np.random.seed(seed)\n",
    "\n",
    "\n",
    "lambda_callback = lambda_update(10)\n",
    "loss = loss_wrapper(lambda_callback)\n",
    "model = tf.keras.models.load_model(\"./models/mnist_blank.hdf5\")\n",
    "# for i in range(5):\n",
    "    # annealing = tf.minimum(1,tf.cast((i)/10,tf.float32))\n",
    "    # print(\"annealing_coef:\", annealing)\n",
    "model.compile(loss=loss, optimizer=\"adam\", metrics=[\"accuracy\"])\n",
    "model.fit(train_ds, epochs=10,callbacks=[lambda_callback])\n",
    "# model.compile(loss=crossentropy, optimizer=\"adam\", metrics=[\"accuracy\"])\n",
    "# model.fit(train_ds, epochs=5)"
   ]
  },
  {
   "cell_type": "code",
   "execution_count": 11,
   "id": "6e80005a-ac32-4075-bc5d-e65333356b00",
   "metadata": {},
   "outputs": [],
   "source": [
    "import math\n",
    "num_classes=10\n",
    "def getPredictions(model, input_set):\n",
    "    stopping_point = None\n",
    "    num_outputs = len(model.outputs) # the number of output layers for the purpose of providing labels\n",
    "    #     train_ds, test_ds, validation_ds = (dataset)\n",
    "    Results=[]\n",
    "    Pred=[]\n",
    "    Labels =[]\n",
    "    Uncert = []\n",
    "    Outputs = pd.DataFrame()\n",
    "    pAcc=[]\n",
    "    for i, (x,y) in enumerate(input_set):\n",
    "        if stopping_point and i > stopping_point:\n",
    "            break\n",
    "        print(\"prediction: {} of {}\".format(i,len(test_ds)),end='\\r')\n",
    "        predictions = model.predict(x)\n",
    "        for j, prediction in enumerate(predictions):\n",
    "            evidence =exp_evidence(prediction)\n",
    "            alpha = evidence +1\n",
    "            S = sum(alpha)\n",
    "            E = alpha - 1\n",
    "            Mass = alpha / S\n",
    "            u = num_classes / S\n",
    "            Uncert.append(u.numpy().mean())\n",
    "            Results.append(np.argmax(prediction))\n",
    "            Labels.append(np.argmax(y[j]))\n",
    "    _uncert = np.array(Uncert)\n",
    "    print(_uncert)\n",
    "    print(\"avg entropy\",_uncert.mean())\n",
    "    df = pd.DataFrame({\"x\":Results,\"y\":Labels,\"uncert\":Uncert})\n",
    "    conditions = [df['x'] == df['y'],df['x'] != df['y']]\n",
    "    choices = [1, 0]\n",
    "    df['correct'] = np.select(conditions, choices, default=None)\n",
    "    return df\n",
    "\n",
    "\n",
    "# Correct = outputs.loc[(outputs['correct'] == True)].groupby(\"correct\")[\"uncert\"].mean().iloc[0]\n",
    "# Incorrect = outputs.loc[(outputs['correct'] == False)].groupby(\"correct\")[\"uncert\"].mean().iloc[0]\n",
    "# print(\"Correct\", Correct, \"incorrect\", Incorrect)\n",
    "# print(\"overallAcc\", len(outputs.loc[(outputs['correct'] == True)])/len(outputs))\n",
    "\n"
   ]
  },
  {
   "cell_type": "code",
   "execution_count": 12,
   "id": "7b5cccf0-5d8b-4125-93ce-8393f8b4bb3d",
   "metadata": {},
   "outputs": [
    {
     "name": "stdout",
     "output_type": "stream",
     "text": [
      "[4.5379327e-04 4.5379327e-04 4.5379327e-04 ... 3.3672135e-03 9.9840838e-01\n",
      " 4.5379327e-04]\n",
      "avg entropy 0.12536794\n",
      "      x  y    uncert correct\n",
      "0     7  7  0.000454       1\n",
      "1     2  2  0.000454       1\n",
      "2     1  1  0.000454       1\n",
      "3     0  0  0.001177       1\n",
      "4     4  4  0.000481       1\n",
      "...  .. ..       ...     ...\n",
      "9979  7  7  0.000454       1\n",
      "9980  2  2  0.999815       1\n",
      "9981  6  6  0.003367       1\n",
      "9982  5  5  0.998408       1\n",
      "9983  0  0  0.000454       1\n",
      "\n",
      "[9984 rows x 4 columns]\n"
     ]
    }
   ],
   "source": [
    "outputs = getPredictions(model,test_ds)\n",
    "print(outputs)"
   ]
  },
  {
   "cell_type": "code",
   "execution_count": 21,
   "id": "b4a98b3f-292c-4d21-8d61-f5a1f5a766c9",
   "metadata": {},
   "outputs": [
    {
     "name": "stdout",
     "output_type": "stream",
     "text": [
      "[0.18872866 0.99984384 0.00187035 ... 0.6691739  0.99993515 0.9907498 ]\n",
      "avg entropy 0.8242931\n",
      "      x  y    uncert correct\n",
      "0     6  2  0.188729       0\n",
      "1     8  9  0.999844       0\n",
      "2     0  3  0.001870       0\n",
      "3     8  8  0.999860       1\n",
      "4     0  3  0.999252       0\n",
      "...  .. ..       ...     ...\n",
      "9979  0  1  0.907401       0\n",
      "9980  0  5  0.879303       0\n",
      "9981  7  3  0.669174       0\n",
      "9982  4  1  0.999935       0\n",
      "9983  9  3  0.990750       0\n",
      "\n",
      "[9984 rows x 4 columns]\n"
     ]
    }
   ],
   "source": [
    "\n",
    "outputsKmnist= getPredictions(model,test_ds_kmnist)\n",
    "print(outputsKmnist)"
   ]
  },
  {
   "cell_type": "code",
   "execution_count": 22,
   "id": "8d35d330-5fee-4ca4-b3d4-549fd07441a9",
   "metadata": {},
   "outputs": [
    {
     "data": {
      "image/png": "[encoded data removed]",
      "text/plain": [
       "<Figure size 432x288 with 1 Axes>"
      ]
     },
     "metadata": {
      "needs_background": "light"
     },
     "output_type": "display_data"
    },
    {
     "name": "stdout",
     "output_type": "stream",
     "text": [
      "OOD accepted with avg ID entropy threshold of  0.12536794 :  1026 out of  9984\n",
      "ID accepted with avg ID entropy threshold of  0.12536794 :  8298 out of  9984 with acc of  0.9998794890335021\n",
      "overall acc on ID: 0.9864783653846154\n"
     ]
    }
   ],
   "source": [
    "def buildOutlierPlot(ID,OOD,threshold):\n",
    "    _ = plt.hist(ID['uncert'].tolist(), bins=10)  # arguments are passed to np.histogram\n",
    "    _ = plt.hist(OOD['uncert'].tolist(), bins=10,color=\"red\",alpha=0.5)  # arguments are passed to np.histogram\n",
    "    # plt.title(\"Histogram with 'auto' bins\")\n",
    "    plt.legend([\"In distribution\",\"Out of Distribution\"])\n",
    "    plt.xlabel(\"entropy\")\n",
    "    plt.ylabel(\"frequency\")\n",
    "    plt.show()\n",
    "    print(\"OOD accepted with avg ID entropy threshold of \",threshold, \": \", len(OOD.loc[(OOD['uncert'] <= threshold)]), \"out of \", len(OOD))\n",
    "    print(\"ID accepted with avg ID entropy threshold of \",threshold, \": \", len(ID.loc[(ID['uncert'] <= threshold)]), \"out of \", len(ID), \"with acc of \", len(ID.loc[(ID['uncert'] <= threshold) & ID['correct'] == True])/len(ID.loc[(ID['uncert'] <= threshold)]))\n",
    "    Correct = ID.loc[(ID['correct'] == True)]\n",
    "    Incorrect = ID.loc[(ID['correct'] == False)]\n",
    "    print(\"overall acc on ID:\",len(Correct)/len(ID))\n",
    "    \n",
    "buildOutlierPlot(outputs, outputsKmnist,  0.12536794)"
   ]
  },
  {
   "cell_type": "code",
   "execution_count": 23,
   "id": "2384c4fb-9fb6-42c7-9012-145130852110",
   "metadata": {},
   "outputs": [
    {
     "name": "stdout",
     "output_type": "stream",
     "text": [
      "WARNING:tensorflow:No training configuration found in the save file, so the model was *not* compiled. Compile it manually.\n",
      "Epoch 1/10\n",
      "1718/1718 [==============================] - 7s 4ms/step - loss: 0.5652 - accuracy: 0.9016 - entropy: -1593.3798\n",
      "Epoch 2/10\n",
      "1718/1718 [==============================] - 7s 4ms/step - loss: 0.1267 - accuracy: 0.9614 - entropy: -1700.8729\n",
      "Epoch 3/10\n",
      "1718/1718 [==============================] - 7s 4ms/step - loss: 0.1079 - accuracy: 0.9678 - entropy: -1747.2897\n",
      "Epoch 4/10\n",
      "1718/1718 [==============================] - 7s 4ms/step - loss: 0.0967 - accuracy: 0.9712 - entropy: -1656.2780\n",
      "Epoch 5/10\n",
      "1718/1718 [==============================] - 7s 4ms/step - loss: 0.0862 - accuracy: 0.9738 - entropy: -1657.4523\n",
      "Epoch 6/10\n",
      "1718/1718 [==============================] - 7s 4ms/step - loss: 0.0855 - accuracy: 0.9741 - entropy: -1688.6460\n",
      "Epoch 7/10\n",
      "1718/1718 [==============================] - 7s 4ms/step - loss: 0.0757 - accuracy: 0.9770 - entropy: -1651.6333\n",
      "Epoch 8/10\n",
      "1718/1718 [==============================] - 7s 4ms/step - loss: 0.0757 - accuracy: 0.9775 - entropy: -1678.0394\n",
      "Epoch 9/10\n",
      "1718/1718 [==============================] - 7s 4ms/step - loss: 0.0740 - accuracy: 0.9780 - entropy: -1644.0104\n",
      "Epoch 10/10\n",
      "1718/1718 [==============================] - 7s 4ms/step - loss: 0.0717 - accuracy: 0.9783 - entropy: -1612.0262\n"
     ]
    }
   ],
   "source": [
    "def entropyMetric_old():\n",
    "    def entropy(p, y_hat):\n",
    "        #METRIC OF THE mean of uncertainity\n",
    "        y_hat = tf.nn.softmax(y_hat)\n",
    "        val = y_hat * tf.math.log(y_hat)/tf.math.log(tf.constant(2, dtype=y_hat.dtype))\n",
    "        sumEntropies =  tf.reduce_sum(tf.boolean_mask(val,tf.math.is_finite(val)))\n",
    "        return sumEntropies\n",
    "    return entropy\n",
    "\n",
    "loss = tf.keras.losses.CategoricalCrossentropy(from_logits=True)\n",
    "model = keras.models.load_model(\"./models/mnist_blank.hdf5\")\n",
    "model.compile(optimizer='adam',\n",
    "              loss=loss,\n",
    "              metrics=['accuracy',entropyMetric_old()])\n",
    "\n",
    "history = model.fit(train_ds, epochs=10)"
   ]
  },
  {
   "cell_type": "code",
   "execution_count": 24,
   "id": "8fb6d18e-0319-4e81-9986-078eabaa1177",
   "metadata": {},
   "outputs": [],
   "source": [
    "import math\n",
    "num_classes=10\n",
    "def getPredictionsEntropy(model, input_set):\n",
    "    stopping_point = None\n",
    "    num_outputs = len(model.outputs) # the number of output layers for the purpose of providing labels\n",
    "    #     train_ds, test_ds, validation_ds = (dataset)\n",
    "    Results=[]\n",
    "    Pred=[]\n",
    "    Labels =[]\n",
    "    Uncert = []\n",
    "    Outputs = pd.DataFrame()\n",
    "    pAcc=[]\n",
    "    for i, (x,y) in enumerate(input_set):\n",
    "        if stopping_point and i > stopping_point:\n",
    "            break\n",
    "        print(\"prediction: {} of {}\".format(i,len(test_ds)),end='\\r')\n",
    "        predictions = model.predict(x)\n",
    "        for j, prediction in enumerate(predictions):\n",
    "            y_hat =tf.nn.softmax(prediction)\n",
    "            val = y_hat * tf.math.log(y_hat)/tf.math.log(tf.constant(2, dtype=y_hat.dtype))\n",
    "            u =  -tf.reduce_sum(tf.boolean_mask(val,tf.math.is_finite(val)))\n",
    "            Uncert.append(u.numpy().mean())\n",
    "            Results.append(np.argmax(prediction))\n",
    "            Labels.append(np.argmax(y[j]))\n",
    "    _uncert = np.array(Uncert)\n",
    "    print(_uncert)\n",
    "    print(\"avg entropy\",_uncert.mean())\n",
    "    df = pd.DataFrame({\"x\":Results,\"y\":Labels,\"uncert\":Uncert})\n",
    "    conditions = [df['x'] == df['y'],df['x'] != df['y']]\n",
    "    choices = [1, 0]\n",
    "    df['correct'] = np.select(conditions, choices, default=None)\n",
    "    return df\n"
   ]
  },
  {
   "cell_type": "code",
   "execution_count": 25,
   "id": "cd52abbe-cfed-4d5e-94a5-b05fce4caecf",
   "metadata": {},
   "outputs": [
    {
     "name": "stdout",
     "output_type": "stream",
     "text": [
      "[5.1389320e-04 4.2224823e-08 1.0804759e-02 ... 1.1194019e-02 4.9162450e-01\n",
      " 5.9113181e-06]\n",
      "avg entropy 0.03597876\n",
      "      x  y        uncert correct\n",
      "0     7  7  5.138932e-04       1\n",
      "1     2  2  4.222482e-08       1\n",
      "2     1  1  1.080476e-02       1\n",
      "3     0  0  8.083344e-04       1\n",
      "4     4  4  5.289416e-05       1\n",
      "...  .. ..           ...     ...\n",
      "9979  7  7  1.041894e-03       1\n",
      "9980  2  2  1.664347e-04       1\n",
      "9981  6  6  1.119402e-02       1\n",
      "9982  5  5  4.916245e-01       1\n",
      "9983  0  0  5.911318e-06       1\n",
      "\n",
      "[9984 rows x 4 columns]\n"
     ]
    }
   ],
   "source": [
    "\n",
    "outputs = getPredictionsEntropy(model,test_ds)\n",
    "print(outputs)"
   ]
  },
  {
   "cell_type": "code",
   "execution_count": 26,
   "id": "e8f7f104-4b85-4033-8381-edd2b5cca5e2",
   "metadata": {},
   "outputs": [
    {
     "name": "stdout",
     "output_type": "stream",
     "text": [
      "[0.59854066 0.68870974 0.6438995  ... 0.607276   0.66225594 0.6450849 ]\n",
      "avg entropy 0.64248604\n",
      "      x  y    uncert correct\n",
      "0     4  2  0.598541       0\n",
      "1     7  9  0.688710       0\n",
      "2     0  3  0.643900       0\n",
      "3     2  8  0.704571       0\n",
      "4     5  3  0.648086       0\n",
      "...  .. ..       ...     ...\n",
      "9979  2  1  0.624548       0\n",
      "9980  0  5  0.596575       0\n",
      "9981  3  3  0.607276       1\n",
      "9982  4  1  0.662256       0\n",
      "9983  4  3  0.645085       0\n",
      "\n",
      "[9984 rows x 4 columns]\n"
     ]
    }
   ],
   "source": [
    "\n",
    "outputsKmnist= getPredictions(model,test_ds_kmnist)\n",
    "print(outputsKmnist)"
   ]
  },
  {
   "cell_type": "code",
   "execution_count": 28,
   "id": "b5ea428d-dc89-424a-9285-a76af243bd19",
   "metadata": {},
   "outputs": [
    {
     "data": {
      "image/png": "[encoded data removed]",
      "text/plain": [
       "<Figure size 432x288 with 1 Axes>"
      ]
     },
     "metadata": {
      "needs_background": "light"
     },
     "output_type": "display_data"
    },
    {
     "name": "stdout",
     "output_type": "stream",
     "text": [
      "OOD accepted with avg ID entropy threshold of  0.03597876 :  0 out of  9984\n",
      "ID accepted with avg ID entropy threshold of  0.03597876 :  9048 out of  9984 with acc of  0.9991158267020336\n",
      "overall acc on ID: 0.9867788461538461\n"
     ]
    }
   ],
   "source": [
    "buildOutlierPlot(outputs, outputsKmnist,  0.03597876)"
   ]
  },
  {
   "cell_type": "code",
   "execution_count": 53,
   "id": "9b2e060a-f930-4523-bcd1-a3f55cf7dd2e",
   "metadata": {},
   "outputs": [
    {
     "data": {
      "image/png": "[encoded data removed]",
      "text/plain": [
       "<Figure size 432x288 with 1 Axes>"
      ]
     },
     "metadata": {
      "needs_background": "light"
     },
     "output_type": "display_data"
    },
    {
     "name": "stdout",
     "output_type": "stream",
     "text": [
      "[[-144.11493  -201.12714  -148.4199    -19.680092 -200.32196   153.65378\n",
      "  -149.62079  -151.23996   -58.615086  -85.02543 ]]\n",
      "label 5 : 5 uncert 0.00045379027 beliefMax 0.99958503\n"
     ]
    },
    {
     "data": {
      "image/png": "[encoded data removed]",
      "text/plain": [
       "<Figure size 432x288 with 1 Axes>"
      ]
     },
     "metadata": {
      "needs_background": "light"
     },
     "output_type": "display_data"
    },
    {
     "name": "stdout",
     "output_type": "stream",
     "text": [
      "[[ 160.87216  -211.84529   -27.140783  -82.868645 -131.27397   -79.401024\n",
      "   -24.818735 -159.5492    -11.22631   -24.387835]]\n",
      "label 0 : 0 uncert 0.0004537817 beliefMax 0.9995661\n"
     ]
    },
    {
     "data": {
      "image/png": "[encoded data removed]",
      "text/plain": [
       "<Figure size 432x288 with 1 Axes>"
      ]
     },
     "metadata": {
      "needs_background": "light"
     },
     "output_type": "display_data"
    },
    {
     "name": "stdout",
     "output_type": "stream",
     "text": [
      "[[-267.58942   -50.759575  -96.63352  -143.49808   142.98776  -126.77123\n",
      "  -218.32515   -50.205032  -76.1528    -24.528885]]\n",
      "label 4 : 4 uncert 0.00045379123 beliefMax 0.9995872\n"
     ]
    },
    {
     "data": {
      "image/png": "[encoded data removed]",
      "text/plain": [
       "<Figure size 432x288 with 1 Axes>"
      ]
     },
     "metadata": {
      "needs_background": "light"
     },
     "output_type": "display_data"
    },
    {
     "name": "stdout",
     "output_type": "stream",
     "text": [
      "[[ -41.80345    123.24728    -42.519543  -145.05109    -12.951641\n",
      "   -72.89272    -48.10712    -31.310404     4.3126135  -50.1693   ]]\n",
      "label 1 : 1 uncert 0.00045375412 beliefMax 0.9995054\n"
     ]
    },
    {
     "data": {
      "image/png": "[encoded data removed]",
      "text/plain": [
       "<Figure size 432x288 with 1 Axes>"
      ]
     },
     "metadata": {
      "needs_background": "light"
     },
     "output_type": "display_data"
    },
    {
     "name": "stdout",
     "output_type": "stream",
     "text": [
      "[[-170.41699   -154.53998   -119.616714   -86.33174    -20.018162\n",
      "  -100.81129   -217.29033    -25.730824    -3.0403218  149.93341  ]]\n",
      "label 9 : 9 uncert 0.0004537737 beliefMax 0.99954855\n"
     ]
    },
    {
     "data": {
      "image/png": "[encoded data removed]",
      "text/plain": [
       "<Figure size 432x288 with 1 Axes>"
      ]
     },
     "metadata": {
      "needs_background": "light"
     },
     "output_type": "display_data"
    },
    {
     "name": "stdout",
     "output_type": "stream",
     "text": [
      "[[-149.9561  -149.07133  186.78662  -39.14069  -94.55419 -143.48148\n",
      "  -166.63795 -136.39598  -67.49109 -109.14744]]\n",
      "label 2 : 2 uncert 0.0004537928 beliefMax 0.99959064\n"
     ]
    },
    {
     "data": {
      "image/png": "[encoded data removed]",
      "text/plain": [
       "<Figure size 432x288 with 1 Axes>"
      ]
     },
     "metadata": {
      "needs_background": "light"
     },
     "output_type": "display_data"
    },
    {
     "name": "stdout",
     "output_type": "stream",
     "text": [
      "[[-83.40699   146.86758   -59.06645   -23.150196  -21.293926  -63.817665\n",
      "  -81.65619   -32.387085   -1.6964554 -66.90261  ]]\n",
      "label 1 : 1 uncert 0.00045377045 beliefMax 0.99954134\n"
     ]
    },
    {
     "data": {
      "image/png": "[encoded data removed]",
      "text/plain": [
       "<Figure size 432x288 with 1 Axes>"
      ]
     },
     "metadata": {
      "needs_background": "light"
     },
     "output_type": "display_data"
    },
    {
     "name": "stdout",
     "output_type": "stream",
     "text": [
      "[[-196.27231  -165.91249   -38.547604  141.68686  -233.38159   -66.56121\n",
      "  -274.9203    -92.34207   -78.260506  -42.126656]]\n",
      "label 3 : 3 uncert 0.00045379245 beliefMax 0.9995898\n"
     ]
    },
    {
     "data": {
      "image/png": "[encoded data removed]",
      "text/plain": [
       "<Figure size 432x288 with 1 Axes>"
      ]
     },
     "metadata": {
      "needs_background": "light"
     },
     "output_type": "display_data"
    },
    {
     "name": "stdout",
     "output_type": "stream",
     "text": [
      "[[-84.46834    135.14761    -67.87383    -50.1726      12.600965\n",
      "  -40.772392   -59.49407    -39.26364      0.86571753 -60.955692  ]]\n",
      "label 1 : 1 uncert 0.00045369723 beliefMax 0.99938005\n"
     ]
    },
    {
     "data": {
      "image/png": "[encoded data removed]",
      "text/plain": [
       "<Figure size 432x288 with 1 Axes>"
      ]
     },
     "metadata": {
      "needs_background": "light"
     },
     "output_type": "display_data"
    },
    {
     "name": "stdout",
     "output_type": "stream",
     "text": [
      "[[-129.08438   -50.447693  -53.41506   -94.360306  188.15097   -95.155205\n",
      "  -108.341354  -60.34502   -37.7856   -107.13466 ]]\n",
      "label 4 : 4 uncert 0.00045379248 beliefMax 0.9995899\n"
     ]
    }
   ],
   "source": [
    "# test_img = tf.image.rgb_to_grayscale(test_img, name=None)\n",
    "# pred = model.predict(tf.reshape(test_img,(1,32,32)))\n",
    "# print(pred, tf.nn.softplus(pred))\n",
    "# rotateImg(model,test_img, exp_evidence)\n",
    "# 324.33612 -195.3844  -328.90497 -348.173   -302.2171  -291.78085  -418.81058 -277.24625 -335.44376 -236.58258\n",
    "# 2278.2148 -3066.1064 -3517.2793 -3051.9978 -2099.7322 -2623.3499  -2526.0488 -3102.543  -2939.1077 -3429.5134\n",
    "num_classes = 10 \n",
    "for i in range(10):    \n",
    "    kmnist_digit = x_train[i]\n",
    "    # kmnist_digit = tf.image.rgb_to_grayscale(kmnist_digit, name=None)\n",
    "    kmnist_label = y_train[i]\n",
    "    plt.imshow(kmnist_digit)\n",
    "    plt.show()\n",
    "    _pred=model.predict(tf.reshape(kmnist_digit,(1,28,28)))\n",
    "    evidence =exp_evidence(_pred)\n",
    "    alpha = evidence +1\n",
    "    # alpha = exp_evidence(logits)\n",
    "    S = tf.reduce_sum(alpha, axis=1, keepdims=True) \n",
    "    E = alpha - 1\n",
    "    \n",
    "    Mass = alpha / S\n",
    "    # A = tf.reduce_sum(p * (func(S) - func(alpha)), axis=1, keepdims=True)\n",
    "    \n",
    "    u = num_classes / tf.reduce_sum(alpha, axis=1, keepdims=True) #uncertainty\n",
    "    print(_pred)\n",
    "    print(\"label\", np.argmax(_pred),\":\",np.argmax(kmnist_label), \"uncert\", u.numpy().mean(), \"beliefMax\", np.amax(Mass).mean() )\n",
    "    "
   ]
  },
  {
   "cell_type": "code",
   "execution_count": 63,
   "id": "d14ca13d-df31-44be-bd3d-1e8a17b59c96",
   "metadata": {
    "jupyter": {
     "source_hidden": true
    },
    "tags": []
   },
   "outputs": [],
   "source": [
    "from scipy.special import gammaln, digamma\n",
    "def dirichlet_prior_network_uncertainty(logits, epsilon=1e-10, alpha_correction=True):\n",
    "    \"\"\"\n",
    "    :param logits:\n",
    "    :param epsilon:\n",
    "    :return:\n",
    "    \"\"\"\n",
    "\n",
    "    logits = np.asarray(logits, dtype=np.float64)\n",
    "    alphas = np.exp(logits)\n",
    "\n",
    "    alphas = np.clip(alphas, 0, np.finfo(np.dtype(\"float32\")).max)\n",
    "\n",
    "    if alpha_correction:\n",
    "        alphas = alphas + 1\n",
    "\n",
    "    alpha0 = np.sum(alphas, axis=1, keepdims=True)\n",
    "    probs = alphas / alpha0\n",
    "\n",
    "    conf = np.max(probs, axis=1)\n",
    "\n",
    "    entropy_of_exp = -np.sum(probs * np.log(probs + epsilon), axis=1)\n",
    "    expected_entropy = -np.sum(\n",
    "        (alphas / alpha0) * (digamma(alphas + 1) - digamma(alpha0 + 1.0)), axis=1\n",
    "    )\n",
    "\n",
    "    mutual_info = entropy_of_exp - expected_entropy\n",
    "\n",
    "    epkl = np.squeeze((alphas.shape[1] - 1.0) / alpha0)\n",
    "\n",
    "    dentropy = (\n",
    "        np.sum(\n",
    "            gammaln(alphas) - (alphas - 1.0) * (tf.compat.v1.digamma(alphas) - tf.compat.v1.digamma(alpha0)),\n",
    "            axis=1,\n",
    "            keepdims=True,\n",
    "        )\n",
    "        - gammaln(alpha0)\n",
    "    )\n",
    "\n",
    "    uncertainty = {\n",
    "        \"confidence_alea_uncert.\": conf,\n",
    "        \"entropy_of_expected\": -entropy_of_exp,\n",
    "        \"expected_entropy\": -expected_entropy,\n",
    "        \"mutual_information\": -mutual_info,\n",
    "        \"EPKL\": -epkl,\n",
    "        \"differential_entropy\": -np.squeeze(dentropy),\n",
    "    }\n",
    "\n",
    "    # return {k: torch.from_numpy(v).float() for k, v in uncertainty.items()}\n",
    "    return uncertainty"
   ]
  },
  {
   "cell_type": "code",
   "execution_count": 48,
   "id": "ffab6b88-d5f5-45af-911d-dc75d09840dc",
   "metadata": {
    "tags": []
   },
   "outputs": [
    {
     "data": {
      "image/png": "[encoded data removed]",
      "text/plain": [
       "<Figure size 432x288 with 1 Axes>"
      ]
     },
     "metadata": {
      "needs_background": "light"
     },
     "output_type": "display_data"
    },
    {
     "name": "stdout",
     "output_type": "stream",
     "text": [
      "[[   3.6547885  -88.552124   -64.8676    -202.13365     51.108673\n",
      "   -93.26668    -57.08335   -114.90172    -38.33988    -21.019964 ]]\n",
      "label 4 : 8 uncert 0.05636841 beliefMax 0.94030476\n"
     ]
    },
    {
     "data": {
      "image/png": "[encoded data removed]",
      "text/plain": [
       "<Figure size 432x288 with 1 Axes>"
      ]
     },
     "metadata": {
      "needs_background": "light"
     },
     "output_type": "display_data"
    },
    {
     "name": "stdout",
     "output_type": "stream",
     "text": [
      "[[-102.43099  -107.33582    18.868673 -132.56458    49.587833  -12.620293\n",
      "    14.08139  -123.27861   -50.201324 -144.15533 ]]\n",
      "label 4 : 7 uncert 0.06120052 beliefMax 0.87774026\n"
     ]
    },
    {
     "data": {
      "image/png": "[encoded data removed]",
      "text/plain": [
       "<Figure size 432x288 with 1 Axes>"
      ]
     },
     "metadata": {
      "needs_background": "light"
     },
     "output_type": "display_data"
    },
    {
     "name": "stdout",
     "output_type": "stream",
     "text": [
      "[[ -19.116898 -131.57118   -88.65529   -84.2956    -22.319008   13.676836\n",
      "    18.163992 -170.73624   -47.44192  -246.00053 ]]\n",
      "label 6 : 0 uncert 0.4916355 beliefMax 0.3515034\n"
     ]
    },
    {
     "data": {
      "image/png": "[encoded data removed]",
      "text/plain": [
       "<Figure size 432x288 with 1 Axes>"
      ]
     },
     "metadata": {
      "needs_background": "light"
     },
     "output_type": "display_data"
    },
    {
     "name": "stdout",
     "output_type": "stream",
     "text": [
      "[[-112.95905    -49.270134    15.104291    31.862564  -148.16475\n",
      "     4.6684823 -114.7202    -106.082436   -88.793335   -80.198654 ]]\n",
      "label 3 : 1 uncert 0.24795927 beliefMax 0.6247996\n"
     ]
    },
    {
     "data": {
      "image/png": "[encoded data removed]",
      "text/plain": [
       "<Figure size 432x288 with 1 Axes>"
      ]
     },
     "metadata": {
      "needs_background": "light"
     },
     "output_type": "display_data"
    },
    {
     "name": "stdout",
     "output_type": "stream",
     "text": [
      "[[ -23.311604  -170.52377     16.856684    -2.7530332 -153.19713\n",
      "   -34.01878    -94.93455    -89.46259    -42.943756   -47.314957 ]]\n",
      "label 2 : 4 uncert 0.6131717 beliefMax 0.39218807\n"
     ]
    },
    {
     "data": {
      "image/png": "[encoded data removed]",
      "text/plain": [
       "<Figure size 432x288 with 1 Axes>"
      ]
     },
     "metadata": {
      "needs_background": "light"
     },
     "output_type": "display_data"
    },
    {
     "name": "stdout",
     "output_type": "stream",
     "text": [
      "[[ -96.17724    -18.897186   -66.49815    -64.8811     -46.85566\n",
      "   -64.01913   -101.109924    -0.8327546  -82.81389    -60.659996 ]]\n",
      "label 7 : 2 uncert 0.9019085 beliefMax 0.17317525\n"
     ]
    },
    {
     "data": {
      "image/png": "[encoded data removed]",
      "text/plain": [
       "<Figure size 432x288 with 1 Axes>"
      ]
     },
     "metadata": {
      "needs_background": "light"
     },
     "output_type": "display_data"
    },
    {
     "name": "stdout",
     "output_type": "stream",
     "text": [
      "[[-203.96024    -59.045338   -17.634884   -26.463572   -40.92103\n",
      "     1.2431417  -44.89428    -64.11339    -14.958236  -151.4419   ]]\n",
      "label 5 : 4 uncert 0.85975784 beliefMax 0.18333231\n"
     ]
    },
    {
     "data": {
      "image/png": "[encoded data removed]",
      "text/plain": [
       "<Figure size 432x288 with 1 Axes>"
      ]
     },
     "metadata": {
      "needs_background": "light"
     },
     "output_type": "display_data"
    },
    {
     "name": "stdout",
     "output_type": "stream",
     "text": [
      "[[ -73.51096  -125.78233   -38.619545  -67.03466   -35.7213   -114.47669\n",
      "  -131.55943   -15.855171  -14.841111  -89.35246 ]]\n",
      "label 8 : 8 uncert 0.95394313 beliefMax 0.11702056\n"
     ]
    },
    {
     "data": {
      "image/png": "[encoded data removed]",
      "text/plain": [
       "<Figure size 432x288 with 1 Axes>"
      ]
     },
     "metadata": {
      "needs_background": "light"
     },
     "output_type": "display_data"
    },
    {
     "name": "stdout",
     "output_type": "stream",
     "text": [
      "[[-256.02536   -120.707954  -149.88954      8.217907   -45.61068\n",
      "    51.853363  -175.32773   -176.6638     -80.43709     -6.8867545]]\n",
      "label 5 : 1 uncert 0.052240793 beliefMax 0.9384195\n"
     ]
    },
    {
     "data": {
      "image/png": "[encoded data removed]",
      "text/plain": [
       "<Figure size 432x288 with 1 Axes>"
      ]
     },
     "metadata": {
      "needs_background": "light"
     },
     "output_type": "display_data"
    },
    {
     "name": "stdout",
     "output_type": "stream",
     "text": [
      "[[ -87.21249   -24.989677  -14.948182 -158.48967    11.545985 -131.57298\n",
      "   -28.140997  -40.99341    24.136114 -152.14445 ]]\n",
      "label 8 : 1 uncert 0.40436238 beliefMax 0.49228057\n"
     ]
    }
   ],
   "source": [
    "# test_img = tf.image.rgb_to_grayscale(test_img, name=None)\n",
    "# pred = model.predict(tf.reshape(test_img,(1,32,32)))\n",
    "# print(pred, tf.nn.softplus(pred))\n",
    "# rotateImg(model,test_img, exp_evidence)\n",
    "# 324.33612 -195.3844  -328.90497 -348.173   -302.2171  -291.78085  -418.81058 -277.24625 -335.44376 -236.58258\n",
    "# 2278.2148 -3066.1064 -3517.2793 -3051.9978 -2099.7322 -2623.3499  -2526.0488 -3102.543  -2939.1077 -3429.5134\n",
    "num_classes = 10 \n",
    "for i in range(10):    \n",
    "    kmnist_digit = kmnist_train_images[i]\n",
    "    # kmnist_digit = tf.image.rgb_to_grayscale(kmnist_digit, name=None)\n",
    "    kmnist_label = kmnist_train_labels[i]\n",
    "    plt.imshow(kmnist_digit)\n",
    "    plt.show()\n",
    "    _pred=model.predict(tf.reshape(kmnist_digit,(1,28,28)))\n",
    "    evidence =exp_evidence(_pred)\n",
    "    alpha = evidence +1\n",
    "    # alpha = exp_evidence(logits)\n",
    "    S = tf.reduce_sum(alpha, axis=1, keepdims=True) \n",
    "    E = alpha - 1\n",
    "    \n",
    "    Mass = alpha / S\n",
    "    # A = tf.reduce_sum(p * (func(S) - func(alpha)), axis=1, keepdims=True)\n",
    "    \n",
    "    u = num_classes / tf.reduce_sum(alpha, axis=1, keepdims=True) #uncertainty\n",
    "    print(_pred)\n",
    "    print(\"label\", np.argmax(_pred),\":\",np.argmax(kmnist_label), \"uncert\", u.numpy().mean(), \"beliefMax\", np.amax(Mass).mean() )\n",
    "    "
   ]
  },
  {
   "cell_type": "code",
   "execution_count": 44,
   "id": "04466108-e904-45b4-bab3-37cb5bcfff56",
   "metadata": {},
   "outputs": [
    {
     "data": {
      "image/png": "[encoded data removed]",
      "text/plain": [
       "<Figure size 432x288 with 1 Axes>"
      ]
     },
     "metadata": {
      "needs_background": "light"
     },
     "output_type": "display_data"
    },
    {
     "name": "stdout",
     "output_type": "stream",
     "text": [
      "label 5 uncert [[0.00045381]]\n"
     ]
    },
    {
     "data": {
      "image/png": "[encoded data removed]",
      "text/plain": [
       "<Figure size 432x288 with 1 Axes>"
      ]
     },
     "metadata": {
      "needs_background": "light"
     },
     "output_type": "display_data"
    },
    {
     "name": "stdout",
     "output_type": "stream",
     "text": [
      "label 0 uncert [[0.00045396]]\n"
     ]
    },
    {
     "data": {
      "image/png": "[encoded data removed]",
      "text/plain": [
       "<Figure size 432x288 with 1 Axes>"
      ]
     },
     "metadata": {
      "needs_background": "light"
     },
     "output_type": "display_data"
    },
    {
     "name": "stdout",
     "output_type": "stream",
     "text": [
      "label 4 uncert [[0.00045398]]\n"
     ]
    },
    {
     "data": {
      "image/png": "[encoded data removed]",
      "text/plain": [
       "<Figure size 432x288 with 1 Axes>"
      ]
     },
     "metadata": {
      "needs_background": "light"
     },
     "output_type": "display_data"
    },
    {
     "name": "stdout",
     "output_type": "stream",
     "text": [
      "label 1 uncert [[0.00045399]]\n"
     ]
    },
    {
     "data": {
      "image/png": "[encoded data removed]",
      "text/plain": [
       "<Figure size 432x288 with 1 Axes>"
      ]
     },
     "metadata": {
      "needs_background": "light"
     },
     "output_type": "display_data"
    },
    {
     "name": "stdout",
     "output_type": "stream",
     "text": [
      "label 9 uncert [[0.00045357]]\n"
     ]
    },
    {
     "data": {
      "image/png": "[encoded data removed]",
      "text/plain": [
       "<Figure size 432x288 with 1 Axes>"
      ]
     },
     "metadata": {
      "needs_background": "light"
     },
     "output_type": "display_data"
    },
    {
     "name": "stdout",
     "output_type": "stream",
     "text": [
      "label 2 uncert [[0.000454]]\n"
     ]
    },
    {
     "data": {
      "image/png": "[encoded data removed]",
      "text/plain": [
       "<Figure size 432x288 with 1 Axes>"
      ]
     },
     "metadata": {
      "needs_background": "light"
     },
     "output_type": "display_data"
    },
    {
     "name": "stdout",
     "output_type": "stream",
     "text": [
      "label 1 uncert [[0.00045391]]\n"
     ]
    },
    {
     "data": {
      "image/png": "[encoded data removed]",
      "text/plain": [
       "<Figure size 432x288 with 1 Axes>"
      ]
     },
     "metadata": {
      "needs_background": "light"
     },
     "output_type": "display_data"
    },
    {
     "name": "stdout",
     "output_type": "stream",
     "text": [
      "label 3 uncert [[0.00045398]]\n"
     ]
    },
    {
     "data": {
      "image/png": "[encoded data removed]",
      "text/plain": [
       "<Figure size 432x288 with 1 Axes>"
      ]
     },
     "metadata": {
      "needs_background": "light"
     },
     "output_type": "display_data"
    },
    {
     "name": "stdout",
     "output_type": "stream",
     "text": [
      "label 1 uncert [[0.00045377]]\n"
     ]
    },
    {
     "data": {
      "image/png": "[encoded data removed]",
      "text/plain": [
       "<Figure size 432x288 with 1 Axes>"
      ]
     },
     "metadata": {
      "needs_background": "light"
     },
     "output_type": "display_data"
    },
    {
     "name": "stdout",
     "output_type": "stream",
     "text": [
      "label 4 uncert [[0.00045399]]\n"
     ]
    }
   ],
   "source": [
    "for i in range(10):    \n",
    "    kmnist_digit = x_train[i]\n",
    "    kmnist_label = y_train[i]\n",
    "    plt.imshow(kmnist_digit)\n",
    "    plt.show()\n",
    "    _pred=model.predict(tf.reshape(kmnist_digit,(1,28,28)))\n",
    "    evidence =exp_evidence(_pred)\n",
    "    alpha = evidence \n",
    "    # alpha = exp_evidence(logits)\n",
    "    S = tf.reduce_sum(alpha, axis=1, keepdims=True) \n",
    "    E = alpha - 1\n",
    "    # A = tf.reduce_sum(p * (func(S) - func(alpha)), axis=1, keepdims=True)\n",
    "    u = num_classes / tf.reduce_sum(alpha, axis=1, keepdims=True) #uncertainty\n",
    "    print(\"label\", np.argmax(kmnist_label), \"uncert\", u.numpy())"
   ]
  },
  {
   "cell_type": "code",
   "execution_count": 30,
   "id": "c5da5b06-ee7a-4973-9e91-3de99301a8af",
   "metadata": {},
   "outputs": [
    {
     "data": {
      "image/png": "[encoded data removed]",
      "text/plain": [
       "<Figure size 432x288 with 1 Axes>"
      ]
     },
     "metadata": {
      "needs_background": "light"
     },
     "output_type": "display_data"
    },
    {
     "name": "stdout",
     "output_type": "stream",
     "text": [
      "pred tf.Tensor([[nan nan nan nan nan nan nan nan nan nan]], shape=(1, 10), dtype=float32) label? 0 uncert tf.Tensor([[inf]], shape=(1, 1), dtype=float32)\n",
      "pred tf.Tensor([[nan nan nan nan nan nan nan nan nan nan]], shape=(1, 10), dtype=float32) label? 0 uncert tf.Tensor([[inf]], shape=(1, 1), dtype=float32)\n",
      "pred tf.Tensor([[nan nan nan nan nan nan nan nan nan nan]], shape=(1, 10), dtype=float32) label? 0 uncert tf.Tensor([[inf]], shape=(1, 1), dtype=float32)\n",
      "pred tf.Tensor([[1. 0. 0. 0. 0. 0. 0. 0. 0. 0.]], shape=(1, 10), dtype=float32) label? 0 uncert tf.Tensor([[2.3116196e+32]], shape=(1, 1), dtype=float32)\n",
      "pred tf.Tensor([[nan nan nan nan nan nan nan nan nan nan]], shape=(1, 10), dtype=float32) label? 0 uncert tf.Tensor([[inf]], shape=(1, 1), dtype=float32)\n",
      "pred tf.Tensor([[nan nan nan nan nan nan nan nan nan nan]], shape=(1, 10), dtype=float32) label? 0 uncert tf.Tensor([[inf]], shape=(1, 1), dtype=float32)\n",
      "pred tf.Tensor([[nan nan nan nan nan nan nan nan nan nan]], shape=(1, 10), dtype=float32) label? 0 uncert tf.Tensor([[inf]], shape=(1, 1), dtype=float32)\n",
      "pred tf.Tensor([[0. 0. 0. 0. 0. 1. 0. 0. 0. 0.]], shape=(1, 10), dtype=float32) label? 5 uncert tf.Tensor([[0.0282776]], shape=(1, 1), dtype=float32)\n",
      "pred tf.Tensor([[0. 0. 0. 0. 0. 1. 0. 0. 0. 0.]], shape=(1, 10), dtype=float32) label? 5 uncert tf.Tensor([[0.02287316]], shape=(1, 1), dtype=float32)\n",
      "pred tf.Tensor([[nan nan nan nan nan nan nan nan nan nan]], shape=(1, 10), dtype=float32) label? 0 uncert tf.Tensor([[inf]], shape=(1, 1), dtype=float32)\n",
      "pred tf.Tensor([[nan nan nan nan nan nan nan nan nan nan]], shape=(1, 10), dtype=float32) label? 0 uncert tf.Tensor([[inf]], shape=(1, 1), dtype=float32)\n",
      "pred tf.Tensor([[nan nan nan nan nan nan nan nan nan nan]], shape=(1, 10), dtype=float32) label? 0 uncert tf.Tensor([[inf]], shape=(1, 1), dtype=float32)\n",
      "pred tf.Tensor([[nan nan nan nan nan nan nan nan nan nan]], shape=(1, 10), dtype=float32) label? 0 uncert tf.Tensor([[inf]], shape=(1, 1), dtype=float32)\n",
      "pred tf.Tensor([[nan nan nan nan nan nan nan nan nan nan]], shape=(1, 10), dtype=float32) label? 0 uncert tf.Tensor([[inf]], shape=(1, 1), dtype=float32)\n",
      "pred tf.Tensor([[nan nan nan nan nan nan nan nan nan nan]], shape=(1, 10), dtype=float32) label? 0 uncert tf.Tensor([[inf]], shape=(1, 1), dtype=float32)\n",
      "pred tf.Tensor([[nan nan nan nan nan nan nan nan nan nan]], shape=(1, 10), dtype=float32) label? 0 uncert tf.Tensor([[inf]], shape=(1, 1), dtype=float32)\n",
      "pred tf.Tensor([[nan nan nan nan nan nan nan nan nan nan]], shape=(1, 10), dtype=float32) label? 0 uncert tf.Tensor([[inf]], shape=(1, 1), dtype=float32)\n",
      "pred tf.Tensor([[nan nan nan nan nan nan nan nan nan nan]], shape=(1, 10), dtype=float32) label? 0 uncert tf.Tensor([[inf]], shape=(1, 1), dtype=float32)\n",
      "[0, 5]\n"
     ]
    },
    {
     "data": {
      "image/png": "[encoded data removed]",
      "text/plain": [
       "<Figure size 432x288 with 1 Axes>"
      ]
     },
     "metadata": {
      "needs_background": "light"
     },
     "output_type": "display_data"
    },
    {
     "data": {
      "image/png": "[encoded data removed]",
      "text/plain": [
       "<Figure size 446.4x7200 with 1 Axes>"
      ]
     },
     "metadata": {
      "needs_background": "light"
     },
     "output_type": "display_data"
    },
    {
     "data": {
      "text/plain": [
       "[inf,\n",
       " inf,\n",
       " inf,\n",
       " 2.3116196e+32,\n",
       " inf,\n",
       " inf,\n",
       " inf,\n",
       " 0.028277604,\n",
       " 0.022873158,\n",
       " inf,\n",
       " inf,\n",
       " inf,\n",
       " inf,\n",
       " inf,\n",
       " inf,\n",
       " inf,\n",
       " inf,\n",
       " inf]"
      ]
     },
     "execution_count": 30,
     "metadata": {},
     "output_type": "execute_result"
    }
   ],
   "source": [
    "# digit_one = x_train[5]\n",
    "plt.imshow(kmnist_digit)\n",
    "plt.show()\n",
    "rotateImg(model,kmnist_digit, tf.nn.softplus, verbose=False)"
   ]
  },
  {
   "cell_type": "code",
   "execution_count": null,
   "id": "4af7443c-0fec-418e-9f83-36bf6aef7e4d",
   "metadata": {},
   "outputs": [],
   "source": []
  },
  {
   "cell_type": "code",
   "execution_count": 19,
   "id": "329f4d6a-2b25-4f0a-94a5-60e16b95b8e4",
   "metadata": {
    "tags": []
   },
   "outputs": [
    {
     "data": {
      "image/png": "[encoded data removed]",
      "text/plain": [
       "<Figure size 432x288 with 1 Axes>"
      ]
     },
     "metadata": {
      "needs_background": "light"
     },
     "output_type": "display_data"
    },
    {
     "name": "stdout",
     "output_type": "stream",
     "text": [
      "[[-1698.349     892.89044  -470.2386   -281.09958  -582.8109  -1212.5355\n",
      "   -715.2916   -665.18134  -386.67035 -1358.982  ]] tf.Tensor(\n",
      "[[  0.      892.89044   0.        0.        0.        0.        0.\n",
      "    0.        0.        0.     ]], shape=(1, 10), dtype=float32) label 1\n",
      "[[-2056.802     542.335    -535.6529   -307.7063   -347.12006 -1237.0326\n",
      "   -945.92377  -812.90704  -423.10318 -1505.6388 ]] tf.Tensor(\n",
      "[[  0.    542.335   0.      0.      0.      0.      0.      0.      0.\n",
      "    0.   ]], shape=(1, 10), dtype=float32) label 1\n",
      "[[-2163.6648   -336.45544  -528.4765   -343.0739   -503.91718  -927.845\n",
      "  -1140.7765   -953.3809   -428.09738 -1793.077  ]] tf.Tensor([[0. 0. 0. 0. 0. 0. 0. 0. 0. 0.]], shape=(1, 10), dtype=float32) label 1\n",
      "[[-2140.1733   -959.5615   -487.25763  -371.1513   -346.5259   -913.5925\n",
      "  -1093.4277   -966.02216  -392.836   -1795.6602 ]] tf.Tensor([[0. 0. 0. 0. 0. 0. 0. 0. 0. 0.]], shape=(1, 10), dtype=float32) label 4\n",
      "[[-2280.0002  -1885.1719   -486.5452   -427.93695  -208.43155  -694.6815\n",
      "  -1269.0736   -903.9095   -370.28873 -1601.0089 ]] tf.Tensor([[0. 0. 0. 0. 0. 0. 0. 0. 0. 0.]], shape=(1, 10), dtype=float32) label 4\n",
      "[[-2365.9187  -2234.0703   -440.66107  -429.5645   -140.03897  -547.74744\n",
      "  -1543.1003   -620.1938   -369.80942 -1479.5834 ]] tf.Tensor([[0. 0. 0. 0. 0. 0. 0. 0. 0. 0.]], shape=(1, 10), dtype=float32) label 4\n",
      "[[-2275.2832  -2295.551    -343.37253  -428.71875   -98.12042  -702.80865\n",
      "  -1441.7415   -314.61597  -346.83597 -1211.2739 ]] tf.Tensor([[0. 0. 0. 0. 0. 0. 0. 0. 0. 0.]], shape=(1, 10), dtype=float32) label 4\n",
      "[[-1999.4036    -1943.2206     -270.21768    -401.9365       -2.0007298\n",
      "   -512.0156    -1341.2875     -259.2717     -327.1854     -704.9829   ]] tf.Tensor(\n",
      "[[0.         0.         0.         0.         0.12684105 0.\n",
      "  0.         0.         0.         0.        ]], shape=(1, 10), dtype=float32) label 4\n",
      "[[-2053.768   -1847.8231   -326.45984  -409.10736  -229.05347  -405.52988\n",
      "  -1430.5664   -231.27904  -329.02402  -694.7999 ]] tf.Tensor([[0. 0. 0. 0. 0. 0. 0. 0. 0. 0.]], shape=(1, 10), dtype=float32) label 4\n",
      "[[-1934.1835   -1293.8722    -324.4922    -381.64658    -33.464977\n",
      "   -343.08524  -1570.5535    -369.39868   -337.35236   -842.9034  ]] tf.Tensor(\n",
      "[[0.0000000e+00 0.0000000e+00 0.0000000e+00 0.0000000e+00 2.9264764e-15\n",
      "  0.0000000e+00 0.0000000e+00 0.0000000e+00 0.0000000e+00 0.0000000e+00]], shape=(1, 10), dtype=float32) label 4\n",
      "[[-1576.792    -787.6458   -343.66653  -388.99805  -156.94675  -543.29346\n",
      "  -1426.4917   -448.53183  -291.2162  -1042.7748 ]] tf.Tensor([[0. 0. 0. 0. 0. 0. 0. 0. 0. 0.]], shape=(1, 10), dtype=float32) label 4\n",
      "[[ -841.33307   -190.08821   -303.60522   -346.31094    -52.586754\n",
      "   -930.00793  -1131.1815    -570.918     -334.54376  -1078.565   ]] tf.Tensor(\n",
      "[[0.0000000e+00 0.0000000e+00 0.0000000e+00 0.0000000e+00 1.4516535e-23\n",
      "  0.0000000e+00 0.0000000e+00 0.0000000e+00 0.0000000e+00 0.0000000e+00]], shape=(1, 10), dtype=float32) label 4\n",
      "[[ -543.0902    123.52639  -298.84625  -324.58005  -195.22821 -1103.7721\n",
      "   -812.45636  -879.6733   -407.00415 -1228.0471 ]] tf.Tensor(\n",
      "[[  0.      123.52639   0.        0.        0.        0.        0.\n",
      "    0.        0.        0.     ]], shape=(1, 10), dtype=float32) label 1\n",
      "[[ -277.82074   371.16177  -308.92706  -370.54398  -451.4174  -1266.6957\n",
      "   -604.47845 -1157.7317   -408.35916 -1305.8331 ]] tf.Tensor(\n",
      "[[  0.      371.16177   0.        0.        0.        0.        0.\n",
      "    0.        0.        0.     ]], shape=(1, 10), dtype=float32) label 1\n",
      "[[ -486.21866   522.9595   -299.46115  -354.11423  -564.53723 -1046.8466\n",
      "   -500.50723 -1186.289    -458.4508  -1358.3265 ]] tf.Tensor(\n",
      "[[  0.     522.9595   0.       0.       0.       0.       0.       0.\n",
      "    0.       0.    ]], shape=(1, 10), dtype=float32) label 1\n",
      "[[ -717.6433    530.7669   -286.33994  -361.71875  -562.60474  -941.4529\n",
      "   -598.506    -907.17303  -388.07773 -1356.2421 ]] tf.Tensor(\n",
      "[[  0.     530.7669   0.       0.       0.       0.       0.       0.\n",
      "    0.       0.    ]], shape=(1, 10), dtype=float32) label 1\n",
      "[[ -950.1447    575.14215  -353.1551   -339.14587  -637.0255   -951.2468\n",
      "   -704.9743   -664.49896  -287.53232 -1361.3971 ]] tf.Tensor(\n",
      "[[  0.      575.14215   0.        0.        0.        0.        0.\n",
      "    0.        0.        0.     ]], shape=(1, 10), dtype=float32) label 1\n",
      "[[-1223.9281    601.17456  -423.0687   -342.96753  -607.3852  -1105.9247\n",
      "   -953.8441   -669.5172   -290.855   -1631.5443 ]] tf.Tensor(\n",
      "[[  0.      601.17456   0.        0.        0.        0.        0.\n",
      "    0.        0.        0.     ]], shape=(1, 10), dtype=float32) label 1\n",
      "[0, 1, 2, 3, 4, 5, 6, 7, 8, 9]\n"
     ]
    },
    {
     "data": {
      "image/png": "[encoded data removed]",
      "text/plain": [
       "<Figure size 432x288 with 1 Axes>"
      ]
     },
     "metadata": {
      "needs_background": "light"
     },
     "output_type": "display_data"
    },
    {
     "data": {
      "image/png": "[encoded data removed]",
      "text/plain": [
       "<Figure size 446.4x7200 with 1 Axes>"
      ]
     },
     "metadata": {
      "needs_background": "light"
     },
     "output_type": "display_data"
    },
    {
     "data": {
      "text/plain": [
       "[0.01107554,\n",
       " 0.018104954,\n",
       " 1.0,\n",
       " 1.0,\n",
       " 1.0,\n",
       " 1.0,\n",
       " 1.0,\n",
       " 0.9874748,\n",
       " 1.0,\n",
       " 1.0,\n",
       " 1.0,\n",
       " 1.0,\n",
       " 0.07489156,\n",
       " 0.026235579,\n",
       " 0.018763153,\n",
       " 0.018492255,\n",
       " 0.017089864,\n",
       " 0.016361937]"
      ]
     },
     "execution_count": 19,
     "metadata": {},
     "output_type": "execute_result"
    }
   ],
   "source": [
    "digit_one = x_train[6]\n",
    "plt.imshow(digit_one)\n",
    "plt.show()\n",
    "rotateImg(model,digit_one, True)"
   ]
  },
  {
   "cell_type": "code",
   "execution_count": 11,
   "id": "99caa9ef-fb09-4e78-b4ee-1b91eda38bc8",
   "metadata": {},
   "outputs": [],
   "source": [
    "\n",
    "#entropy version\n",
    "model = keras.Sequential(\n",
    "    [\n",
    "        keras.Input(shape=(227,227,1)),\n",
    "        layers.Conv2D(32, kernel_size=(3, 3), activation=\"relu\"),\n",
    "        layers.MaxPooling2D(pool_size=(2, 2)),\n",
    "        layers.Conv2D(64, kernel_size=(3, 3), activation=\"relu\"),\n",
    "        layers.MaxPooling2D(pool_size=(2, 2)),\n",
    "        layers.Flatten(),\n",
    "        layers.Dropout(0.5),\n",
    "        layers.Dense(num_classes),\n",
    "    ]\n",
    ")\n",
    "\n",
    "\n",
    "def loss_wrapper(annealing_coef):\n",
    "    def custom_loss_function(p, logits):\n",
    "    #     squared_difference = tf.square(y_true - y_pred)\n",
    "    #     return tf.reduce_mean(squared_difference, axis=-1)\n",
    "    #     alpha = alpha + 1\n",
    "        evidence = tf.nn.relu(logits)\n",
    "        alpha = evidence + 1\n",
    "\n",
    "        S = tf.reduce_sum(alpha,axis=1,keepdims=True) \n",
    "        E = alpha - 1\n",
    "        m = alpha / S\n",
    "        A = tf.reduce_sum((p-m)**2, axis=1, keepdims=True) \n",
    "        B = tf.reduce_sum(alpha*(S-alpha)/(S*S*(S+1)), axis=1, keepdims=True) \n",
    "        # tf.print(annealing_coef)\n",
    "        # annealing_coef = \n",
    "\n",
    "        alp = E*(1-p) + 1 \n",
    "        C =   annealing_coef * KL(alp,10)\n",
    "        return (A + B) + C\n",
    "    return custom_loss_function\n",
    "\n",
    "\n",
    "def metric_wrapper(annealing_coef):\n",
    "    def detailed_losses(p, logits):\n",
    "    #     return tf.reduce_mean(squared_difference, axis=-1)\n",
    "    #     alpha = alpha + 1\n",
    "        evidence = tf.nn.relu(logits)\n",
    "        alpha = evidence + 1\n",
    "\n",
    "        S = tf.reduce_sum(alpha,axis=1,keepdims=True) \n",
    "        E = alpha - 1\n",
    "        m = alpha / S\n",
    "        A = tf.reduce_sum((p-m)**2, axis=1, keepdims=True) \n",
    "        B = tf.reduce_sum(alpha*(S-alpha)/(S*S*(S+1)), axis=1, keepdims=True) \n",
    "        # tf.print(annealing_coef)\n",
    "        # annealing_coef = \n",
    "\n",
    "        alp = E*(1-p) + 1 \n",
    "        C =   annealing_coef * KL(alp,10)\n",
    "        return (tf.reduce_sum(A+B), tf.reduce_sum(C)) # Note the `axis=-1`\n",
    "    return detailed_losses\n",
    "\n",
    "# #example annealing works that by the first 10 epochs the KL will reach coef of 1. so in a epoch based approach, they increase by 0.1 each time.\n",
    "# for i in range(4):\n",
    "#     print(\"annealing_coef:\", tf.minimum(1,tf.cast(i/10,tf.float32)))\n",
    "#     # model.compile(loss=loss_wrapper(tf.minimum(1,tf.cast(i/10,tf.float32))), optimizer=\"adam\", metrics=[\"accuracy\"])\n",
    "#     model.compile(loss=loss_wrapper(0), optimizer=\"adam\", metrics=[\"accuracy\", detailed_losses])\n",
    "#     model.fit(train_ds,epochs = 1)\n",
    "    "
   ]
  },
  {
   "cell_type": "code",
   "execution_count": 39,
   "id": "bc2ff194-d209-41e7-968f-0d39601ffad0",
   "metadata": {},
   "outputs": [
    {
     "name": "stdout",
     "output_type": "stream",
     "text": [
      "WARNING:tensorflow:Compiled the loaded model, but the compiled metrics have yet to be built. `model.compile_metrics` will be empty until you train or evaluate the model.\n"
     ]
    }
   ],
   "source": [
    "# model = keras.Sequential(\n",
    "#     [\n",
    "#         keras.Input(shape=(28,28,1)),\n",
    "#         layers.Conv2D(32, kernel_size=(3, 3), activation=\"relu\"),\n",
    "#         layers.MaxPooling2D(pool_size=(2, 2)),\n",
    "#         layers.Conv2D(64, kernel_size=(3, 3), activation=\"relu\"),\n",
    "#         layers.MaxPooling2D(pool_size=(2, 2)),\n",
    "#         layers.Flatten(),\n",
    "#         layers.Dropout(0.5),\n",
    "#         layers.Dense(num_classes),\n",
    "#     ]\n",
    "# )\n",
    "# model.save(\"./models/mnist_blank.hdf5\")"
   ]
  },
  {
   "cell_type": "code",
   "execution_count": 11,
   "id": "e3facff2-ee6d-40f3-959b-89f890a9c762",
   "metadata": {
    "tags": []
   },
   "outputs": [
    {
     "name": "stdout",
     "output_type": "stream",
     "text": [
      "WARNING:tensorflow:No training configuration found in the save file, so the model was *not* compiled. Compile it manually.\n",
      "annealing_coef: 0\n",
      "1718/1718 [==============================] - 8s 4ms/step - loss: 0.2004 - accuracy: 0.9414 - lossMetric: 0.2548 - klMetric: 0.0000e+00\n",
      "annealing_coef: 0\n",
      "1718/1718 [==============================] - 7s 4ms/step - loss: 0.0824 - accuracy: 0.9764 - lossMetric: 0.1306 - klMetric: 0.0000e+00\n",
      "annealing_coef: 0\n",
      "1718/1718 [==============================] - 7s 4ms/step - loss: 0.0659 - accuracy: 0.9810 - lossMetric: 0.1019 - klMetric: 0.0000e+00\n",
      "annealing_coef: 0\n",
      "1718/1718 [==============================] - 7s 4ms/step - loss: 0.0599 - accuracy: 0.9827 - lossMetric: 0.0872 - klMetric: 0.0000e+00\n",
      "annealing_coef: 0\n",
      "1718/1718 [==============================] - 7s 4ms/step - loss: 0.0542 - accuracy: 0.9847 - lossMetric: 0.0769 - klMetric: 0.0000e+00\n",
      "annealing_coef: 0\n",
      "1718/1718 [==============================] - 7s 4ms/step - loss: 0.0505 - accuracy: 0.9860 - lossMetric: 0.0677 - klMetric: 0.0000e+00\n",
      "annealing_coef: 0\n",
      "1718/1718 [==============================] - 7s 4ms/step - loss: 0.0486 - accuracy: 0.9870 - lossMetric: 0.0628 - klMetric: 0.0000e+00\n",
      "annealing_coef: 0\n",
      "1718/1718 [==============================] - 7s 4ms/step - loss: 0.0480 - accuracy: 0.9864 - lossMetric: 0.0607 - klMetric: 0.0000e+00\n",
      "annealing_coef: 0\n",
      "1718/1718 [==============================] - 8s 4ms/step - loss: 0.0454 - accuracy: 0.9874 - lossMetric: 0.0558 - klMetric: 0.0000e+00\n",
      "annealing_coef: 0\n",
      "1718/1718 [==============================] - 8s 4ms/step - loss: 0.0449 - accuracy: 0.9879 - lossMetric: 0.0528 - klMetric: 0.0000e+00\n"
     ]
    }
   ],
   "source": [
    "\n",
    "#entropy version\n",
    "\n",
    "\n",
    "\n",
    "def loss_wrapper(annealing_coef):\n",
    "    def custom_loss_function(p, logits):\n",
    "    #     squared_difference = tf.square(y_true - y_pred)\n",
    "    #     return tf.reduce_mean(squared_difference, axis=-1)\n",
    "    #     alpha = alpha + 1\n",
    "        evidence = tf.nn.softplus(logits)\n",
    "        alpha = evidence + 1\n",
    "\n",
    "        S = tf.reduce_sum(alpha,axis=1,keepdims=True) \n",
    "        E = alpha - 1\n",
    "        m = alpha / S\n",
    "        A = tf.reduce_sum((p-m)**2, axis=1, keepdims=True) \n",
    "        B = tf.reduce_sum(alpha*(S-alpha)/(S*S*(S+1)), axis=1, keepdims=True) \n",
    "        # annealing_coef = \n",
    "\n",
    "        alp = E*(1-p) + 1 \n",
    "        C =   annealing_coef * KL(alp,10)\n",
    "        # tf.print(tf.reduce_sum(A+B), tf.reduce_sum(C))\n",
    "        \n",
    "        return (A + B) + C\n",
    "    return custom_loss_function\n",
    "\n",
    "def lossMetric(annealing_coef):\n",
    "    def lossMetric(p, logits):\n",
    "    #     return tf.reduce_mean(squared_difference, axis=-1)\n",
    "    #     alpha = alpha + 1\n",
    "        evidence = tf.nn.softplus(logits)\n",
    "        alpha = evidence + 1\n",
    "\n",
    "        S = tf.reduce_sum(alpha,axis=1,keepdims=True) \n",
    "        E = alpha - 1\n",
    "        m = alpha / S\n",
    "        A = tf.reduce_sum((p-m)**2, axis=1, keepdims=True) \n",
    "        B = tf.reduce_sum(alpha*(S-alpha)/(S*S*(S+1)), axis=1, keepdims=True) \n",
    "        # tf.print(annealing_coef)\n",
    "        # annealing_coef = \n",
    "\n",
    "        alp = E*(1-p) + 1 \n",
    "        C =   annealing_coef * KL(alp,10)\n",
    "        return (tf.reduce_mean(A+B)) # Note the `axis=-1`\n",
    "    return lossMetric\n",
    "\n",
    "def klMetric(annealing_coef):\n",
    "    def klMetric(p, logits):\n",
    "    #     return tf.reduce_mean(squared_difference, axis=-1)\n",
    "    #     alpha = alpha + 1\n",
    "        # tf.print(logits)\n",
    "        evidence = tf.nn.softplus(logits)\n",
    "        alpha = evidence + 1\n",
    "\n",
    "        S = tf.reduce_sum(alpha,axis=1,keepdims=True) \n",
    "        E = alpha - 1\n",
    "        m = alpha / S\n",
    "        A = tf.reduce_sum((p-m)**2, axis=1, keepdims=True) \n",
    "        B = tf.reduce_sum(alpha*(S-alpha)/(S*S*(S+1)), axis=1, keepdims=True) \n",
    "        # tf.print(annealing_coef)\n",
    "        # annealing_coef = \n",
    "\n",
    "        alp = E*(1-p) + 1 \n",
    "        C =   annealing_coef * KL(alp,10)\n",
    "        return (tf.reduce_mean(C)) # Note the `axis=-1`\n",
    "    return klMetric\n",
    "\n",
    "def exp_evidence(logits): \n",
    "    return tf.exp(tf.clip_by_value(logits/10,-10,10))\n",
    "\n",
    "\n",
    "def loss_EDL(annealing):\n",
    "    def loss_func(p, logits): \n",
    "        func=tf.compat.v1.digamma\n",
    "        E = exp_evidence(logits)\n",
    "        alpha = E + 1\n",
    "        S = tf.reduce_sum(alpha,axis=1,keepdims=True) \n",
    "        # E = alpha - 1\n",
    "    \n",
    "        A = tf.reduce_sum(p * (func(S) - func(alpha)), axis=1, keepdims=True)\n",
    "    \n",
    "        # annealing_coef = tf.minimum(1.0, tf.cast(global_step/annealing_step,tf.float32))\n",
    "    \n",
    "        alp = E*(1-p) + 1 \n",
    "        B =  annealing * KL(alp,10)\n",
    "    \n",
    "        return (A + B)\n",
    "    return loss_func\n",
    "\n",
    "def evidence_crossentropy(annealing_rate=1, momentum=1, decay=1, global_loss=False,num_outputs=10):\n",
    "    #create a wrapper function that returns a function\n",
    "    temperature = 1\n",
    "    Classes = 10\n",
    "    keras_kl = tf.keras.losses.KLDivergence()\n",
    "    annealing_rate = annealing_rate\n",
    "    momentum_rate = momentum\n",
    "    decay_rate = decay\n",
    "    def cross_entropy_evidence(labels, outputs): \n",
    "        softmax = tf.nn.softmax(outputs)\n",
    "        # activated_outputs =tf.keras.activations.sigmoid(softmax)\n",
    "        evidence = tf.nn.softplus(outputs)\n",
    "        alpha = evidence + 1\n",
    "        S = tf.reduce_sum(alpha, axis=1, keepdims=True) \n",
    "        E = alpha - 1\n",
    "        m = alpha / S\n",
    "        A = tf.reduce_sum((labels-m)**2, axis=1, keepdims=True) \n",
    "        B = tf.reduce_sum(alpha*(S-alpha)/(S*S*(S+1)), axis=1, keepdims=True) \n",
    "        # tf.print(\"A+B\",(A+B).shape, tf.reduce_sum(A+B, axis=1))\n",
    "        # annealing_coef = tf.minimum(1.0,tf.cast(annealing_rate,tf.float32))\n",
    "#         annealing_coef = 1\n",
    "        alp = E*(1-labels) + 1 \n",
    "        # print(\"alp\", alp)\n",
    "        C =  annealing_rate * KL(alp,num_outputs)\n",
    "        # print(\"c\",C)\n",
    "        # C = keras_kl(labels,evidence)\n",
    "        loss = tf.keras.losses.categorical_crossentropy(labels, softmax)\n",
    "        # tf.print(\"loss\",loss.shape,loss)\n",
    "        pred = tf.argmax(outputs,1)\n",
    "        truth = tf.argmax(labels,1)\n",
    "        match = tf.reshape(tf.cast(tf.equal(pred, truth), tf.float32),(-1,1))\n",
    "        return loss + C\n",
    "        # return (A + B) + C\n",
    "    return  cross_entropy_evidence\n",
    "\n",
    "model = tf.keras.models.load_model(\"./models/mnist_blank.hdf5\")\n",
    "#example annealing works that by the first 10 epochs the KL will reach coef of 1. so in a epoch based approach, they increase by 0.1 each time.\n",
    "for i in range(10):\n",
    "    # if i > 5:\n",
    "    # annealing = tf.minimum(1,tf.cast((i+1)/100,tf.float32))\n",
    "    annealing = 0\n",
    "    # else:\n",
    "        # annealing = 0\n",
    "    print(\"annealing_coef:\", annealing)\n",
    "    # model.compile(loss=loss_wrapper(tf.minimum(1,tf.cast(i/10,tf.float32))), optimizer=\"adam\", metrics=[\"accuracy\"])\n",
    "    model.compile(loss=loss_EDL(annealing), optimizer=\"adam\", metrics=[\"accuracy\",lossMetric(annealing),klMetric(annealing)])\n",
    "    model.fit(train_ds,epochs = 1)\n",
    "    \n",
    "    "
   ]
  },
  {
   "cell_type": "code",
   "execution_count": 44,
   "id": "7c45e7fa-28ad-4d1d-88ac-61c2d01fe610",
   "metadata": {},
   "outputs": [
    {
     "name": "stdout",
     "output_type": "stream",
     "text": [
      "WARNING:tensorflow:No training configuration found in the save file, so the model was *not* compiled. Compile it manually.\n",
      "annealing_coef: 0\n",
      "1718/1718 [==============================] - 8s 4ms/step - loss: 0.1137 - accuracy: 0.9334 - lossMetric: 0.1137 - klMetric: 0.0000e+00\n",
      "annealing_coef: 0\n",
      "1718/1718 [==============================] - 8s 4ms/step - loss: 0.0559 - accuracy: 0.9704 - lossMetric: 0.0559 - klMetric: 0.0000e+00\n",
      "annealing_coef: 0\n",
      "1718/1718 [==============================] - 8s 4ms/step - loss: 0.0461 - accuracy: 0.9753 - lossMetric: 0.0461 - klMetric: 0.0000e+00\n",
      "annealing_coef: 0\n",
      "1718/1718 [==============================] - 8s 4ms/step - loss: 0.0431 - accuracy: 0.9781 - lossMetric: 0.0431 - klMetric: 0.0000e+00\n",
      "annealing_coef: 0\n",
      "1718/1718 [==============================] - 8s 4ms/step - loss: 0.0425 - accuracy: 0.9778 - lossMetric: 0.0425 - klMetric: 0.0000e+00\n",
      "annealing_coef: 0\n",
      "1718/1718 [==============================] - 8s 4ms/step - loss: 0.0400 - accuracy: 0.9800 - lossMetric: 0.0400 - klMetric: 0.0000e+00\n",
      "annealing_coef: 0\n",
      "1718/1718 [==============================] - 7s 4ms/step - loss: 0.0400 - accuracy: 0.9801 - lossMetric: 0.0400 - klMetric: 0.0000e+00\n",
      "annealing_coef: 0\n",
      "1718/1718 [==============================] - 7s 4ms/step - loss: 0.0402 - accuracy: 0.9802 - lossMetric: 0.0402 - klMetric: 0.0000e+00\n",
      "annealing_coef: 0\n",
      "1718/1718 [==============================] - 7s 4ms/step - loss: 0.0400 - accuracy: 0.9801 - lossMetric: 0.0400 - klMetric: 0.0000e+00\n",
      "annealing_coef: 0\n",
      "1718/1718 [==============================] - 7s 4ms/step - loss: 0.0400 - accuracy: 0.9803 - lossMetric: 0.0400 - klMetric: 0.0000e+00\n"
     ]
    }
   ],
   "source": [
    "model = tf.keras.models.load_model(\"./models/mnist_blank.hdf5\")\n",
    "#example annealing works that by the first 10 epochs the KL will reach coef of 1. so in a epoch based approach, they increase by 0.1 each time.\n",
    "for i in range(10):\n",
    "    # if i > 5:\n",
    "    # annealing = tf.minimum(1,tf.cast((i+1)/100,tf.float32))\n",
    "    annealing = 0\n",
    "    # else:\n",
    "        # annealing = 0\n",
    "    print(\"annealing_coef:\", annealing)\n",
    "    # model.compile(loss=loss_wrapper(tf.minimum(1,tf.cast(i/10,tf.float32))), optimizer=\"adam\", metrics=[\"accuracy\"])\n",
    "    model.compile(loss=loss_wrapper(annealing), optimizer=\"adam\", metrics=[\"accuracy\",lossMetric(annealing),klMetric(annealing)])\n",
    "    model.fit(train_ds,epochs = 1)"
   ]
  },
  {
   "cell_type": "code",
   "execution_count": 68,
   "id": "092127ef-3359-46de-b407-de444274602a",
   "metadata": {},
   "outputs": [
    {
     "data": {
      "image/png": "[encoded data removed]",
      "text/plain": [
       "<Figure size 432x288 with 1 Axes>"
      ]
     },
     "metadata": {
      "needs_background": "light"
     },
     "output_type": "display_data"
    },
    {
     "name": "stdout",
     "output_type": "stream",
     "text": [
      "[[-2394.259  -1445.9475 -2052.994   1886.7806 -3303.918  -1090.5\n",
      "  -6027.716  -3077.8188 -2748.5422 -1292.1572]] tf.Tensor(\n",
      "[[   0.        0.        0.     1886.7806    0.        0.        0.\n",
      "     0.        0.        0.    ]], shape=(1, 10), dtype=float32)\n",
      "[[-2081.699  -1368.8474 -2228.3645  1850.9685 -3072.1243 -1161.9066\n",
      "  -5546.369  -2778.3176 -3131.076  -1284.0542]] tf.Tensor(\n",
      "[[   0.        0.        0.     1850.9685    0.        0.        0.\n",
      "     0.        0.        0.    ]], shape=(1, 10), dtype=float32)\n",
      "[[-2635.172  -1526.3801 -2937.9446  2199.7593 -2901.053   -961.5335\n",
      "  -5381.8633 -2973.9473 -3505.4824 -1088.272 ]] tf.Tensor(\n",
      "[[   0.        0.        0.     2199.7593    0.        0.        0.\n",
      "     0.        0.        0.    ]], shape=(1, 10), dtype=float32)\n",
      "[[-2631.3887  -2147.4119  -2476.7292   1274.9385  -2690.391    -579.59393\n",
      "  -4660.067   -1936.5409  -2598.2656   -881.3771 ]] tf.Tensor(\n",
      "[[   0.        0.        0.     1274.9385    0.        0.        0.\n",
      "     0.        0.        0.    ]], shape=(1, 10), dtype=float32)\n",
      "[[-2622.6765  -2349.2432  -2068.7488    904.5731  -3015.9233   -544.26544\n",
      "  -4381.3145  -1421.0796  -2304.5864  -1289.6061 ]] tf.Tensor(\n",
      "[[  0.       0.       0.     904.5731   0.       0.       0.       0.\n",
      "    0.       0.    ]], shape=(1, 10), dtype=float32)\n",
      "[[-2935.5486  -3045.3005  -2154.875     546.3078  -2900.343    -186.46344\n",
      "  -4493.5415   -529.7618  -2626.133   -1871.3223 ]] tf.Tensor(\n",
      "[[  0.       0.       0.     546.3078   0.       0.       0.       0.\n",
      "    0.       0.    ]], shape=(1, 10), dtype=float32)\n",
      "[[-2601.4727  -3925.7095  -3009.5225   -343.00247 -2651.148     471.02582\n",
      "  -4970.4995    -67.72754 -2812.073   -1644.6902 ]] tf.Tensor(\n",
      "[[0.0000000e+00 0.0000000e+00 0.0000000e+00 0.0000000e+00 0.0000000e+00\n",
      "  4.7102582e+02 0.0000000e+00 3.8574786e-30 0.0000000e+00 0.0000000e+00]], shape=(1, 10), dtype=float32)\n",
      "[[-2204.6895  -3285.8997  -2714.5613  -1059.4513  -2142.8708     88.19854\n",
      "  -4621.0107    395.89636 -2559.4238  -1666.6501 ]] tf.Tensor(\n",
      "[[  0.        0.        0.        0.        0.       88.19854   0.\n",
      "  395.89636   0.        0.     ]], shape=(1, 10), dtype=float32)\n",
      "[[-1633.6658   -2972.1309   -2918.2852   -1793.4929   -2186.8752\n",
      "   -682.29376  -4602.7046      13.924057 -3560.7432   -1607.2695  ]] tf.Tensor(\n",
      "[[ 0.        0.        0.        0.        0.        0.        0.\n",
      "  13.924058  0.        0.      ]], shape=(1, 10), dtype=float32)\n",
      "[[-1404.7827   -3177.5164   -2158.0034   -2676.162    -2104.461\n",
      "  -1803.9575   -3273.0715     -43.102356 -4265.38      -999.4557  ]] tf.Tensor(\n",
      "[[0.000000e+00 0.000000e+00 0.000000e+00 0.000000e+00 0.000000e+00\n",
      "  0.000000e+00 0.000000e+00 1.909346e-19 0.000000e+00 0.000000e+00]], shape=(1, 10), dtype=float32)\n",
      "[[ -828.29126 -3420.3137  -1491.5532  -2789.7812  -1814.9713  -1707.0193\n",
      "  -2571.6577   -958.4763  -4253.3335   -959.812  ]] tf.Tensor([[0. 0. 0. 0. 0. 0. 0. 0. 0. 0.]], shape=(1, 10), dtype=float32)\n",
      "[[ -364.93277 -3154.7522  -1083.0131  -2855.9873  -1841.112   -1219.403\n",
      "  -2116.287   -1101.2003  -3488.6265  -1117.1501 ]] tf.Tensor([[0. 0. 0. 0. 0. 0. 0. 0. 0. 0.]], shape=(1, 10), dtype=float32)\n",
      "[[  -70.06594 -2619.8066  -1057.968   -2762.6719  -2211.8804   -722.528\n",
      "  -1478.0288  -1665.2367  -2142.9622   -999.63574]] tf.Tensor(\n",
      "[[3.7217613e-31 0.0000000e+00 0.0000000e+00 0.0000000e+00 0.0000000e+00\n",
      "  0.0000000e+00 0.0000000e+00 0.0000000e+00 0.0000000e+00 0.0000000e+00]], shape=(1, 10), dtype=float32)\n",
      "[[ -193.51807 -2876.8042  -1586.5162  -3277.4036  -2569.03     -541.97766\n",
      "  -1116.261   -2262.0188  -1293.4988  -1059.0251 ]] tf.Tensor([[0. 0. 0. 0. 0. 0. 0. 0. 0. 0.]], shape=(1, 10), dtype=float32)\n",
      "[[ -614.00964 -3327.426   -1587.6023  -2838.5007  -3352.79     -310.15027\n",
      "  -1288.7089  -3376.8262   -533.59375 -1241.4312 ]] tf.Tensor([[0. 0. 0. 0. 0. 0. 0. 0. 0. 0.]], shape=(1, 10), dtype=float32)\n",
      "[[ -804.0762   -2755.9897   -1392.7023   -2860.2727   -3363.965\n",
      "   -358.8684   -1079.5922   -3649.419       31.606085 -1806.7795  ]] tf.Tensor(\n",
      "[[ 0.        0.        0.        0.        0.        0.        0.\n",
      "   0.       31.606085  0.      ]], shape=(1, 10), dtype=float32)\n",
      "[[-1308.4908   -3671.7654   -1735.4506   -3502.991    -3406.1409\n",
      "   -134.12558   -488.6109   -4249.9263      14.352494 -2092.9136  ]] tf.Tensor(\n",
      "[[ 0.        0.        0.        0.        0.        0.        0.\n",
      "   0.       14.352494  0.      ]], shape=(1, 10), dtype=float32)\n",
      "[[-2384.879    -3639.4421   -2430.3582   -4789.33     -3959.3137\n",
      "     41.44072     89.353165 -5219.2656    -114.13801  -3103.4421  ]] tf.Tensor(\n",
      "[[ 0.        0.        0.        0.        0.       41.44072  89.353165\n",
      "   0.        0.        0.      ]], shape=(1, 10), dtype=float32)\n",
      "[0, 1, 2, 3, 4, 5, 6, 7, 8, 9]\n"
     ]
    },
    {
     "data": {
      "image/png": "[encoded data removed]",
      "text/plain": [
       "<Figure size 432x288 with 1 Axes>"
      ]
     },
     "metadata": {
      "needs_background": "light"
     },
     "output_type": "display_data"
    },
    {
     "data": {
      "image/png": "[encoded data removed]",
      "text/plain": [
       "<Figure size 446.4x7200 with 1 Axes>"
      ]
     },
     "metadata": {
      "needs_background": "light"
     },
     "output_type": "display_data"
    },
    {
     "data": {
      "text/plain": [
       "[0.005272091,\n",
       " 0.005373546,\n",
       " 0.0045253797,\n",
       " 0.0077824737,\n",
       " 0.010934063,\n",
       " 0.01797566,\n",
       " 0.020788904,\n",
       " 0.020239027,\n",
       " 0.4179893,\n",
       " 1.0,\n",
       " 1.0,\n",
       " 1.0,\n",
       " 1.0,\n",
       " 1.0,\n",
       " 1.0,\n",
       " 0.24034944,\n",
       " 0.41063556,\n",
       " 0.07102581]"
      ]
     },
     "execution_count": 68,
     "metadata": {},
     "output_type": "execute_result"
    }
   ],
   "source": [
    "# pred = model.predict(tf.reshape(digit_one,(1,28,28)))\n",
    "# print(pred, tf.nn.softplus(pred))\n",
    "digit_one = x_train[10]\n",
    "plt.imshow(digit_one)\n",
    "plt.show()\n",
    "rotateImg(model,digit_one)"
   ]
  },
  {
   "cell_type": "code",
   "execution_count": 55,
   "id": "2e2e802c-8db2-4dba-935a-c5dceb186df5",
   "metadata": {},
   "outputs": [
    {
     "name": "stdout",
     "output_type": "stream",
     "text": [
      "tf.Tensor(1.9287499e-22, shape=(), dtype=float32)\n"
     ]
    }
   ],
   "source": [
    "print(tf.nn.softplus(-50.0))"
   ]
  },
  {
   "cell_type": "code",
   "execution_count": 43,
   "id": "0f8fc631-395f-4ed6-a79e-792fd4a43ba8",
   "metadata": {},
   "outputs": [
    {
     "name": "stdout",
     "output_type": "stream",
     "text": [
      "[[-647.7345   696.4308  -979.0093  -722.8716  -793.7095  -830.4821\n",
      "  -726.825   -666.07495 -361.5338  -563.43036]]\n",
      "[0, 1, 2, 3, 4, 5, 6, 7, 8, 9]\n"
     ]
    },
    {
     "data": {
      "image/png": "[encoded data removed]",
      "text/plain": [
       "<Figure size 432x288 with 1 Axes>"
      ]
     },
     "metadata": {
      "needs_background": "light"
     },
     "output_type": "display_data"
    },
    {
     "data": {
      "image/png": "[encoded data removed]",
      "text/plain": [
       "<Figure size 446.4x7200 with 1 Axes>"
      ]
     },
     "metadata": {
      "needs_background": "light"
     },
     "output_type": "display_data"
    },
    {
     "data": {
      "text/plain": [
       "[0.014155668,\n",
       " 0.038520016,\n",
       " 1.0,\n",
       " 1.0,\n",
       " 1.0,\n",
       " 1.0,\n",
       " 1.0,\n",
       " 1.0,\n",
       " 1.0,\n",
       " 0.07063323,\n",
       " 1.0,\n",
       " 1.0,\n",
       " 0.19625838,\n",
       " 0.022649346,\n",
       " 0.02831071,\n",
       " 0.02538067,\n",
       " 0.016398367,\n",
       " 0.01655108]"
      ]
     },
     "execution_count": 43,
     "metadata": {},
     "output_type": "execute_result"
    }
   ],
   "source": [
    "print((model.predict(tf.reshape(digit_one,(1,28,28)))))\n",
    "rotateImg(model)"
   ]
  },
  {
   "cell_type": "code",
   "execution_count": 67,
   "id": "8cb3beda-4463-433f-8d8e-a204d46dc30c",
   "metadata": {
    "tags": []
   },
   "outputs": [],
   "source": [
    "def rotateImg(model, digit_one):\n",
    "    import tensorflow_addons as tfa\n",
    "    linspace = np.linspace(1,180,num=18)\n",
    "    import matplotlib.pyplot as plt\n",
    "    Mdeg = 180 \n",
    "    Ndeg = int(Mdeg/10)+1\n",
    "    K = 10\n",
    "    # print(linspace)\n",
    "    pred = []\n",
    "    uncert = []\n",
    "    label = []\n",
    "    answer = []\n",
    "    ldeg = []\n",
    "    lp = []\n",
    "    lu=[]\n",
    "    scores = np.zeros((1,K))\n",
    "    threshold = 0.001\n",
    "    Results = pd.DataFrame()\n",
    "    rimgs = []\n",
    "    K=10\n",
    "    from PIL import Image\n",
    "\n",
    "    for i in linspace:\n",
    "        i = int(i)\n",
    "        radians = i* np.pi/180\n",
    "        rotate = tfa.image.rotate(digit_one, tf.constant(radians))\n",
    "        rimg = rotate\n",
    "        rimgs.append(rimg.numpy().reshape(28,28))\n",
    "    #     rimgs.append(rotate)\n",
    "        _pred=model.predict(tf.reshape(rotate,(1,28,28)))\n",
    "        print(_pred, tf.nn.softplus(_pred))\n",
    "        evidence = tf.nn.softplus(_pred)\n",
    "        alpha = evidence + 1\n",
    "        u = K / tf.reduce_sum(alpha, axis=1, keepdims=True) #uncertainty\n",
    "        prob = alpha/tf.reduce_sum(alpha, 1, keepdims=True) \n",
    "        # print(\"prob\", evidence)\n",
    "        # print(\"u\", u.numpy(), \"prob\",tf.reduce_sum(prob).numpy())\n",
    "        # u = K / tf.reduce_sum(alpha, axis=1) #uncertainty\n",
    "        # prob = evidence/tf.reduce_sum(evidence, 1) \n",
    "    #     print(\"pred\",prob, \"label?\",np.argmax(prob), \"uncert\", u)\n",
    "        scores += prob.numpy().astype(\"float\") >= threshold\n",
    "    #     print(\"scores\",scores)\n",
    "        lp.append(prob[0])\n",
    "        # print(u.numpy())\n",
    "        pred.append(prob)\n",
    "        uncert.append(u.numpy().mean())\n",
    "        label.append(1)\n",
    "        answer.append(np.argmax(_pred))\n",
    "        ldeg.append(i)\n",
    "    labels = np.arange(10)[scores[0].astype(bool)]\n",
    "    # print(\"labels\",labels)\n",
    "    lp = np.array(lp)[:,labels]\n",
    "    # c = ['black','blue','red','brown','purple','cyan']\n",
    "    marker = ['s','^','o']*4\n",
    "    labels = labels.tolist()\n",
    "    # print(\"lp\",lp)\n",
    "\n",
    "    print(labels)\n",
    "    for j in range(len(labels)):\n",
    "        plt.plot(ldeg,lp[:,j],marker=marker[j])\n",
    "    labels += ['uncertainty']\n",
    "    plt.plot(ldeg,uncert,marker='<',c='red')\n",
    "\n",
    "    plt.legend(labels)\n",
    "\n",
    "    plt.xlim([0,Mdeg])  \n",
    "    plt.xlabel('Rotation Degree')\n",
    "    plt.ylabel('Belief Mass')\n",
    "    # plt.yscale(\"log\")\n",
    "    plt.show()\n",
    "\n",
    "    img = Image.new('L', (28*len(rimgs), 28))\n",
    "    x_offset =0\n",
    "    for im in rimgs:\n",
    "    #     print(im)\n",
    "        _im = Image.fromarray(np.uint8((im)*255))\n",
    "        img.paste(_im,(x_offset,0))\n",
    "        x_offset += _im.size[0]\n",
    "\n",
    "    plt.figure(figsize=[6.2,100])\n",
    "    plt.imshow(img,cmap='gray')\n",
    "    plt.axis('off')\n",
    "    plt.show()\n",
    "    #     print(pred, np.argmax(pred))\n",
    "    #     _ = plt.imshow(rotate)\n",
    "    #     plt.show()\n",
    "    return(uncert)"
   ]
  },
  {
   "cell_type": "code",
   "execution_count": null,
   "id": "99effa5b-0653-4f62-892a-9837919b4ff9",
   "metadata": {
    "tags": []
   },
   "outputs": [],
   "source": []
  },
  {
   "cell_type": "code",
   "execution_count": 31,
   "id": "6260926a-565b-49bf-9c0a-b64215abe426",
   "metadata": {},
   "outputs": [],
   "source": [
    "def rotateImg(model,digit_one, verbose=False):\n",
    "    import tensorflow_addons as tfa\n",
    "    linspace = np.linspace(1,180,num=18)\n",
    "    import matplotlib.pyplot as plt\n",
    "    Mdeg = 180 \n",
    "    Ndeg = int(Mdeg/10)+1\n",
    "    K = 10\n",
    "    # print(linspace)\n",
    "    pred = []\n",
    "    uncert = []\n",
    "    label = []\n",
    "    answer = []\n",
    "    ldeg = []\n",
    "    lp = []\n",
    "    lu=[]\n",
    "    scores = np.zeros((1,K))\n",
    "    threshold = 0.001\n",
    "    Results = pd.DataFrame()\n",
    "    rimgs = []\n",
    "    K=10\n",
    "    from PIL import Image\n",
    "\n",
    "    for i in linspace:\n",
    "        i = int(i)\n",
    "        radians = i* np.pi/180\n",
    "        rotate = tfa.image.rotate(digit_one, tf.constant(radians))\n",
    "        rimg = rotate\n",
    "        rimgs.append(rimg.numpy().reshape(28,28))\n",
    "    #     rimgs.append(rotate)\n",
    "        _pred=model.predict(tf.reshape(rotate,(1,28,28)))\n",
    "        evidence = tf.nn.softplus(_pred)\n",
    "        alpha = evidence + 1\n",
    "        u = K / tf.reduce_sum(alpha, axis=1, keepdims=True) #uncertainty\n",
    "        prob = alpha/tf.reduce_sum(alpha, 1, keepdims=True) \n",
    "        # print(\"prob\", evidence)\n",
    "        # print(\"u\", u.numpy(), \"prob\",tf.reduce_sum(prob).numpy())\n",
    "        # u = K / tf.reduce_sum(alpha, axis=1) #uncertainty\n",
    "        # prob = evidence/tf.reduce_sum(evidence, 1) \n",
    "    #     print(\"pred\",prob, \"label?\",np.argmax(prob), \"uncert\", u)\n",
    "        scores += prob.numpy().astype(\"float\") >= threshold\n",
    "    #     print(\"scores\",scores)\n",
    "        lp.append(prob[0])\n",
    "        # print(u.numpy())\n",
    "        pred.append(prob)\n",
    "        uncert.append(u.numpy().mean())\n",
    "        label.append(1)\n",
    "        answer.append(np.argmax(_pred))\n",
    "        ldeg.append(i)\n",
    "    labels = np.arange(10)[scores[0].astype(bool)]\n",
    "    # print(\"labels\",labels)\n",
    "    lp = np.array(lp)[:,labels]\n",
    "    # c = ['black','blue','red','brown','purple','cyan']\n",
    "    marker = ['s','^','o']*4\n",
    "    labels = labels.tolist()\n",
    "    # print(\"lp\",lp)\n",
    "\n",
    "    print(labels)\n",
    "    for j in range(len(labels)):\n",
    "        plt.plot(ldeg,lp[:,j],marker=marker[j])\n",
    "    labels += ['uncertainty']\n",
    "    plt.plot(ldeg,uncert,marker='<',c='red')\n",
    "\n",
    "    plt.legend(labels)\n",
    "\n",
    "    plt.xlim([0,Mdeg])  \n",
    "    plt.xlabel('Rotation Degree')\n",
    "    plt.ylabel('Belief Mass')\n",
    "    # plt.yscale(\"log\")\n",
    "    plt.show()\n",
    "\n",
    "    img = Image.new('L', (28*len(rimgs), 28))\n",
    "    x_offset =0\n",
    "    for im in rimgs:\n",
    "    #     print(im)\n",
    "        _im = Image.fromarray(np.uint8((im)*255))\n",
    "        img.paste(_im,(x_offset,0))\n",
    "        x_offset += _im.size[0]\n",
    "\n",
    "    plt.figure(figsize=[6.2,100])\n",
    "    plt.imshow(img,cmap='gray')\n",
    "    plt.axis('off')\n",
    "    plt.show()\n",
    "    #     print(pred, np.argmax(pred))\n",
    "    #     _ = plt.imshow(rotate)\n",
    "    #     plt.show()\n",
    "    return(uncert)"
   ]
  },
  {
   "cell_type": "code",
   "execution_count": null,
   "id": "e7f0d4be-bad0-451c-91f6-96166572b844",
   "metadata": {},
   "outputs": [],
   "source": [
    "model.evaluate(test_ds)"
   ]
  },
  {
   "cell_type": "code",
   "execution_count": 16,
   "id": "269df542-35e8-4d33-84a9-0bc42591d09c",
   "metadata": {},
   "outputs": [
    {
     "name": "stdout",
     "output_type": "stream",
     "text": [
      "annealing_coef: tf.Tensor(0.0, shape=(), dtype=float32)\n",
      "1718/1718 [==============================] - 10s 5ms/step - loss: 0.1313 - accuracy: 0.9218\n",
      "annealing_coef: tf.Tensor(0.1, shape=(), dtype=float32)\n",
      "1718/1718 [==============================] - 9s 5ms/step - loss: 0.1344 - accuracy: 0.9647\n",
      "annealing_coef: tf.Tensor(0.2, shape=(), dtype=float32)\n",
      "1718/1718 [==============================] - 9s 4ms/step - loss: 0.1482 - accuracy: 0.9674\n",
      "annealing_coef: tf.Tensor(0.3, shape=(), dtype=float32)\n",
      "1718/1718 [==============================] - 11s 6ms/step - loss: 0.1608 - accuracy: 0.9695\n"
     ]
    }
   ],
   "source": [
    "\n",
    "#entropy version\n",
    "model = keras.Sequential(\n",
    "    [\n",
    "        keras.Input(shape=(28,28,1)),\n",
    "        layers.Conv2D(32, kernel_size=(3, 3), activation=\"relu\"),\n",
    "        layers.MaxPooling2D(pool_size=(2, 2)),\n",
    "        layers.Conv2D(64, kernel_size=(3, 3), activation=\"relu\"),\n",
    "        layers.MaxPooling2D(pool_size=(2, 2)),\n",
    "        layers.Flatten(),\n",
    "        layers.Dropout(0.5),\n",
    "        layers.Dense(num_classes),\n",
    "    ]\n",
    ")\n",
    "\n",
    "\n",
    "def loss_wrapper(annealing_coef):\n",
    "    def custom_loss_function(p, logits):\n",
    "    #     squared_difference = tf.square(y_true - y_pred)\n",
    "    #     return tf.reduce_mean(squared_difference, axis=-1)\n",
    "    #     alpha = alpha + 1\n",
    "        evidence = tf.nn.relu(logits)\n",
    "        alpha = evidence + 1\n",
    "\n",
    "        S = tf.reduce_sum(alpha,axis=1,keepdims=True) \n",
    "        E = alpha - 1\n",
    "        m = alpha / S\n",
    "        A = tf.reduce_sum((p-m)**2, axis=1, keepdims=True) \n",
    "        B = tf.reduce_sum(alpha*(S-alpha)/(S*S*(S+1)), axis=1, keepdims=True) \n",
    "        # tf.print(annealing_coef)\n",
    "        # annealing_coef = \n",
    "\n",
    "        alp = E*(1-p) + 1 \n",
    "        C =   annealing_coef * KL(alp,10)\n",
    "        return (A + B) + C\n",
    "    return custom_loss_function\n",
    "\n",
    "\n",
    "\n",
    "#example annealing works that by the first 10 epochs the KL will reach coef of 1. so in a epoch based approach, they increase by 0.1 each time.\n",
    "for i in range(4):\n",
    "    print(\"annealing_coef:\", tf.minimum(1,tf.cast(i/10,tf.float32)))\n",
    "    annealing = tf.minimum(1,tf.cast(i/10,tf.float32))\n",
    "    model.compile(loss=loss_wrapper(tf.minimum(1,tf.cast(i/10,tf.float32))), optimizer=\"adam\", metrics=[\"accuracy\"])\n",
    "    # model.compile(loss=evidence_crossentropy(annealing), optimizer=\"adam\", metrics=[\"accuracy\"])\n",
    "    model.fit(train_ds,epochs = 1)\n",
    "    "
   ]
  },
  {
   "cell_type": "code",
   "execution_count": null,
   "id": "3e992035-8dcb-4d27-8833-777311a30fd4",
   "metadata": {},
   "outputs": [],
   "source": []
  },
  {
   "cell_type": "code",
   "execution_count": 123,
   "id": "56d2fb47",
   "metadata": {
    "tags": []
   },
   "outputs": [
    {
     "name": "stdout",
     "output_type": "stream",
     "text": [
      "1\n"
     ]
    },
    {
     "data": {
      "image/png": "[encoded data removed]",
      "text/plain": [
       "<Figure size 432x288 with 1 Axes>"
      ]
     },
     "metadata": {
      "needs_background": "light"
     },
     "output_type": "display_data"
    }
   ],
   "source": [
    "import matplotlib.pyplot as plt\n",
    "digit_one = x_train[6]\n",
    "\n",
    "print(np.argmax(model.predict(digit_one.reshape(1,28,28))))\n",
    "plt.imshow(digit_one.reshape(28,28)) \n",
    "plt.show()"
   ]
  },
  {
   "cell_type": "code",
   "execution_count": 135,
   "id": "3d44ac7d-c663-4b16-9c4d-a73820388f1e",
   "metadata": {
    "tags": []
   },
   "outputs": [],
   "source": [
    "def rotate_img_crossevidence(model):\n",
    "    import tensorflow_addons as tfa\n",
    "    linspace = np.linspace(1,180,num=18)\n",
    "    digit_one = x_train[6]\n",
    "    import matplotlib.pyplot as plt\n",
    "    Mdeg = 180 \n",
    "    Ndeg = int(Mdeg/10)+1\n",
    "    K = 10\n",
    "    # print(linspace)\n",
    "    pred = []\n",
    "    uncert = []\n",
    "    label = []\n",
    "    answer = []\n",
    "    ldeg = []\n",
    "    lp = []\n",
    "    lu=[]\n",
    "    scores = np.zeros((1,K))\n",
    "    threshold = 0.001\n",
    "    Results = pd.DataFrame()\n",
    "    rimgs = []\n",
    "    K=10\n",
    "    from PIL import Image\n",
    "\n",
    "    for i in linspace:\n",
    "        i = int(i)\n",
    "        radians = i* np.pi/180\n",
    "        # print(radians)\n",
    "        rotate = tfa.image.rotate(digit_one, tf.constant(radians))\n",
    "        rimg = rotate\n",
    "        rimgs.append(rimg.numpy().reshape(28,28))\n",
    "    #     rimgs.append(rotate)\n",
    "        _pred=model.predict(tf.reshape(rotate,(1,28,28)))\n",
    "    #     print(_pred)\n",
    "        # evidence = tf.nn.relu(_pred)\n",
    "        evidence = tf.nn.softplus(_pred)\n",
    "        # alpha = evidence + 1\n",
    "\n",
    "\n",
    "        # evidence = tf.nn.relu(_pred)\n",
    "        # alpha = evidence + 1\n",
    "\n",
    "        u = tf.reduce_sum(evidence, axis=1, keepdims=True) #uncertainty\n",
    "\n",
    "        # prob = alpha/tf.reduce_sum(alpha, 1, keepdims=True) \n",
    "        print(\"prob\", evidence)\n",
    "        print(\"u\", u.numpy(), \"prob\",tf.reduce_sum(evidence).numpy())\n",
    "        # u = K / tf.reduce_sum(alpha, axis=1) #uncertainty\n",
    "        # prob = evidence/tf.reduce_sum(evidence, 1) \n",
    "    #     print(\"pred\",prob, \"label?\",np.argmax(prob), \"uncert\", u)\n",
    "        scores += evidence.numpy().astype(\"float\") >= threshold\n",
    "    #     print(\"scores\",scores)\n",
    "        lp.append(evidence[0])\n",
    "        print(u.numpy())\n",
    "        pred.append(pred)\n",
    "        uncert.append(u.numpy().mean())\n",
    "        label.append(1)\n",
    "        answer.append(np.argmax(_pred))\n",
    "        ldeg.append(i)\n",
    "    labels = np.arange(10)[scores[0].astype(bool)]\n",
    "    print(\"labels\",labels)\n",
    "    # c = ['black','blue','red','brown','purple','cyan']\n",
    "    marker = ['s','^','o']*4\n",
    "    labels = labels.tolist()\n",
    "    # print(\"lp\",lp)\n",
    "    for j in range(len(labels)):\n",
    "        print(labels[j])\n",
    "        print(lp)\n",
    "        y =[]\n",
    "        for i in range(len(lp)):\n",
    "            y.append(lp[i][j])\n",
    "\n",
    "\n",
    "        plt.plot(ldeg,y,marker=marker[j])\n",
    "\n",
    "\n",
    "\n",
    "    labels += ['Entropy']\n",
    "    plt.plot(ldeg,uncert,marker='<',ls='--',c='red',zorder=0)\n",
    "\n",
    "    plt.legend(labels)\n",
    "\n",
    "    plt.xlim([0,Mdeg])  \n",
    "    plt.xlabel('Rotation Degree')\n",
    "    plt.ylabel('Predicted Probability')\n",
    "    plt.show()\n",
    "\n",
    "    img = Image.new('L', (28*len(rimgs), 28))\n",
    "    x_offset =0\n",
    "    for im in rimgs:\n",
    "    #     print(im)\n",
    "        _im = Image.fromarray(np.uint8((im)*255))\n",
    "        img.paste(_im,(x_offset,0))\n",
    "        x_offset += _im.size[0]\n",
    "\n",
    "    plt.figure(figsize=[6.2,100])\n",
    "    plt.imshow(img)\n",
    "    plt.axis('off')\n",
    "    plt.show()\n",
    "    #     print(pred, np.argmax(pred))\n",
    "    #     _ = plt.imshow(rotate)\n",
    "    #     plt.show()\n",
    "    print(uncert)"
   ]
  },
  {
   "cell_type": "code",
   "execution_count": 136,
   "id": "6241cca8-3b4f-4e29-94f7-a5724e0b3151",
   "metadata": {
    "collapsed": true,
    "jupyter": {
     "outputs_hidden": true
    },
    "tags": []
   },
   "outputs": [
    {
     "name": "stdout",
     "output_type": "stream",
     "text": [
      "prob tf.Tensor(\n",
      "[[6.5535186e-13 1.8844068e-01 2.7934789e-07 1.1621394e-08 5.5195746e-09\n",
      "  2.8452870e-11 4.5765403e-10 7.9887830e-09 5.2179043e-06 1.9766713e-10]], shape=(1, 10), dtype=float32)\n",
      "u [[0.18844621]] prob 0.18844621\n",
      "[[0.18844621]]\n",
      "prob tf.Tensor(\n",
      "[[3.61930054e-24 5.23236622e-07 1.17731085e-11 3.07065673e-14\n",
      "  5.92468445e-18 6.72315817e-18 3.69096184e-19 2.82275813e-14\n",
      "  1.58854082e-12 8.14536661e-17]], shape=(1, 10), dtype=float32)\n",
      "u [[5.2325004e-07]] prob 5.2325004e-07\n",
      "[[5.2325004e-07]]\n",
      "prob tf.Tensor(\n",
      "[[1.0103113e-21 6.2338011e-05 2.7430216e-11 2.7323128e-14 1.9854088e-16\n",
      "  1.5509566e-14 1.6467396e-17 5.1948827e-16 7.6999594e-13 1.6310468e-18]], shape=(1, 10), dtype=float32)\n",
      "u [[6.233804e-05]] prob 6.233804e-05\n",
      "[[6.233804e-05]]\n",
      "prob tf.Tensor(\n",
      "[[1.66884962e-15 1.13744164e-07 3.11397501e-12 1.51806831e-11\n",
      "  7.54755850e-13 8.48355674e-12 1.99233008e-14 5.89834171e-12\n",
      "  5.62279390e-13 5.99075434e-17]], shape=(1, 10), dtype=float32)\n",
      "u [[1.1377818e-07]] prob 1.1377818e-07\n",
      "[[1.1377818e-07]]\n",
      "prob tf.Tensor(\n",
      "[[2.2831786e-16 5.1840771e-11 3.6141695e-12 1.6845866e-12 1.9334597e-12\n",
      "  7.6714364e-12 2.0319624e-14 2.3585333e-11 5.0693851e-13 6.5860067e-18]], shape=(1, 10), dtype=float32)\n",
      "u [[9.085725e-11]] prob 9.085725e-11\n",
      "[[9.085725e-11]]\n",
      "prob tf.Tensor(\n",
      "[[8.8921536e-15 1.0836518e-13 4.9295418e-10 2.1855075e-13 1.1469088e-10\n",
      "  2.6450918e-15 1.8329838e-16 1.1079085e-08 4.5542632e-15 1.8385622e-19]], shape=(1, 10), dtype=float32)\n",
      "u [[1.1687073e-08]] prob 1.1687073e-08\n",
      "[[1.1687073e-08]]\n",
      "prob tf.Tensor(\n",
      "[[2.1886361e-13 2.1225584e-12 3.7198745e-08 5.2962346e-11 4.1629477e-08\n",
      "  9.2151341e-13 3.0524978e-13 5.7414589e-05 2.2473294e-10 8.3985800e-16]], shape=(1, 10), dtype=float32)\n",
      "u [[5.7493697e-05]] prob 5.7493697e-05\n",
      "[[5.7493697e-05]]\n",
      "prob tf.Tensor(\n",
      "[[1.2588245e-16 9.0290006e-18 7.8508325e-11 2.9668793e-12 9.3336339e-06\n",
      "  2.0400517e-10 2.3288332e-15 2.0412874e-05 6.8343935e-09 1.8919609e-14]], shape=(1, 10), dtype=float32)\n",
      "u [[2.9753628e-05]] prob 2.9753628e-05\n",
      "[[2.9753628e-05]]\n",
      "prob tf.Tensor(\n",
      "[[8.1784097e-15 3.1943730e-14 4.2549322e-10 1.1460921e-08 6.2072068e-05\n",
      "  1.2599244e-07 2.9824865e-13 2.7223290e-05 1.1134721e-06 7.9534601e-10]], shape=(1, 10), dtype=float32)\n",
      "u [[9.05475e-05]] prob 9.05475e-05\n",
      "[[9.05475e-05]]\n",
      "prob tf.Tensor(\n",
      "[[1.0955892e-17 1.6737031e-13 3.5048780e-12 1.1930287e-10 7.0228736e-05\n",
      "  9.9571416e-08 5.7965927e-16 2.1015906e-06 1.9512276e-08 9.2375595e-12]], shape=(1, 10), dtype=float32)\n",
      "u [[7.244954e-05]] prob 7.244954e-05\n",
      "[[7.244954e-05]]\n",
      "prob tf.Tensor(\n",
      "[[3.5344419e-20 4.1988599e-14 5.1064292e-16 4.9705262e-14 2.6524694e-14\n",
      "  7.7649709e-09 1.2145017e-19 2.3077262e-13 4.2619005e-14 4.7252059e-20]], shape=(1, 10), dtype=float32)\n",
      "u [[7.7653635e-09]] prob 7.7653635e-09\n",
      "[[7.7653635e-09]]\n",
      "prob tf.Tensor(\n",
      "[[5.6281894e-21 4.4559972e-12 1.9021290e-17 8.8162512e-13 1.1491016e-12\n",
      "  1.4475296e-10 1.9774045e-16 1.7140458e-15 1.3285755e-11 8.9341404e-16]], shape=(1, 10), dtype=float32)\n",
      "u [[1.6452828e-10]] prob 1.6452828e-10\n",
      "[[1.6452828e-10]]\n",
      "prob tf.Tensor(\n",
      "[[1.07226538e-17 3.81970995e-06 9.21368103e-12 1.39455374e-12\n",
      "  7.81356249e-14 1.24201135e-11 1.64930634e-15 1.50136045e-12\n",
      "  1.50163614e-11 2.96409930e-14]], shape=(1, 10), dtype=float32)\n",
      "u [[3.8197495e-06]] prob 3.8197495e-06\n",
      "[[3.8197495e-06]]\n",
      "prob tf.Tensor(\n",
      "[[9.3326598e-16 2.7558519e-04 1.5158960e-10 1.1449405e-12 1.1910494e-12\n",
      "  1.0935189e-12 1.7339064e-15 1.8276453e-13 8.6733211e-11 1.2974315e-13]], shape=(1, 10), dtype=float32)\n",
      "u [[0.00027559]] prob 0.00027558542\n",
      "[[0.00027559]]\n",
      "prob tf.Tensor(\n",
      "[[2.1921833e-09 1.0195329e-03 2.6828383e-08 7.4572723e-11 1.0877469e-11\n",
      "  9.1985406e-09 4.9636886e-09 1.3689520e-10 2.8917620e-07 7.2184885e-13]], shape=(1, 10), dtype=float32)\n",
      "u [[0.00101987]] prob 0.0010198655\n",
      "[[0.00101987]]\n",
      "prob tf.Tensor(\n",
      "[[1.4499807e-10 4.2919582e-03 9.5433188e-13 7.4159849e-14 2.5623449e-13\n",
      "  1.7763111e-12 2.0522663e-11 3.3176099e-13 5.4573145e-11 3.6242478e-16]], shape=(1, 10), dtype=float32)\n",
      "u [[0.00429196]] prob 0.004291958\n",
      "[[0.00429196]]\n",
      "prob tf.Tensor(\n",
      "[[9.8622477e-10 2.8569000e-02 3.3099714e-11 7.5002088e-11 1.1155644e-10\n",
      "  7.7949376e-11 1.5658528e-12 9.4024675e-12 3.0371026e-09 4.3463197e-12]], shape=(1, 10), dtype=float32)\n",
      "u [[0.02856901]] prob 0.028569005\n",
      "[[0.02856901]]\n",
      "prob tf.Tensor(\n",
      "[[2.24847827e-14 8.95669088e-02 3.90689738e-11 3.20058921e-13\n",
      "  1.10759289e-13 1.06962795e-14 2.66001837e-14 4.34966212e-12\n",
      "  4.69878858e-10 4.00133155e-15]], shape=(1, 10), dtype=float32)\n",
      "u [[0.08956691]] prob 0.08956691\n",
      "[[0.08956691]]\n",
      "labels [1]\n",
      "1\n",
      "[<tf.Tensor: shape=(10,), dtype=float32, numpy=\n",
      "array([6.5535186e-13, 1.8844068e-01, 2.7934789e-07, 1.1621394e-08,\n",
      "       5.5195746e-09, 2.8452870e-11, 4.5765403e-10, 7.9887830e-09,\n",
      "       5.2179043e-06, 1.9766713e-10], dtype=float32)>, <tf.Tensor: shape=(10,), dtype=float32, numpy=\n",
      "array([3.61930054e-24, 5.23236622e-07, 1.17731085e-11, 3.07065673e-14,\n",
      "       5.92468445e-18, 6.72315817e-18, 3.69096184e-19, 2.82275813e-14,\n",
      "       1.58854082e-12, 8.14536661e-17], dtype=float32)>, <tf.Tensor: shape=(10,), dtype=float32, numpy=\n",
      "array([1.0103113e-21, 6.2338011e-05, 2.7430216e-11, 2.7323128e-14,\n",
      "       1.9854088e-16, 1.5509566e-14, 1.6467396e-17, 5.1948827e-16,\n",
      "       7.6999594e-13, 1.6310468e-18], dtype=float32)>, <tf.Tensor: shape=(10,), dtype=float32, numpy=\n",
      "array([1.66884962e-15, 1.13744164e-07, 3.11397501e-12, 1.51806831e-11,\n",
      "       7.54755850e-13, 8.48355674e-12, 1.99233008e-14, 5.89834171e-12,\n",
      "       5.62279390e-13, 5.99075434e-17], dtype=float32)>, <tf.Tensor: shape=(10,), dtype=float32, numpy=\n",
      "array([2.2831786e-16, 5.1840771e-11, 3.6141695e-12, 1.6845866e-12,\n",
      "       1.9334597e-12, 7.6714364e-12, 2.0319624e-14, 2.3585333e-11,\n",
      "       5.0693851e-13, 6.5860067e-18], dtype=float32)>, <tf.Tensor: shape=(10,), dtype=float32, numpy=\n",
      "array([8.8921536e-15, 1.0836518e-13, 4.9295418e-10, 2.1855075e-13,\n",
      "       1.1469088e-10, 2.6450918e-15, 1.8329838e-16, 1.1079085e-08,\n",
      "       4.5542632e-15, 1.8385622e-19], dtype=float32)>, <tf.Tensor: shape=(10,), dtype=float32, numpy=\n",
      "array([2.1886361e-13, 2.1225584e-12, 3.7198745e-08, 5.2962346e-11,\n",
      "       4.1629477e-08, 9.2151341e-13, 3.0524978e-13, 5.7414589e-05,\n",
      "       2.2473294e-10, 8.3985800e-16], dtype=float32)>, <tf.Tensor: shape=(10,), dtype=float32, numpy=\n",
      "array([1.2588245e-16, 9.0290006e-18, 7.8508325e-11, 2.9668793e-12,\n",
      "       9.3336339e-06, 2.0400517e-10, 2.3288332e-15, 2.0412874e-05,\n",
      "       6.8343935e-09, 1.8919609e-14], dtype=float32)>, <tf.Tensor: shape=(10,), dtype=float32, numpy=\n",
      "array([8.1784097e-15, 3.1943730e-14, 4.2549322e-10, 1.1460921e-08,\n",
      "       6.2072068e-05, 1.2599244e-07, 2.9824865e-13, 2.7223290e-05,\n",
      "       1.1134721e-06, 7.9534601e-10], dtype=float32)>, <tf.Tensor: shape=(10,), dtype=float32, numpy=\n",
      "array([1.0955892e-17, 1.6737031e-13, 3.5048780e-12, 1.1930287e-10,\n",
      "       7.0228736e-05, 9.9571416e-08, 5.7965927e-16, 2.1015906e-06,\n",
      "       1.9512276e-08, 9.2375595e-12], dtype=float32)>, <tf.Tensor: shape=(10,), dtype=float32, numpy=\n",
      "array([3.5344419e-20, 4.1988599e-14, 5.1064292e-16, 4.9705262e-14,\n",
      "       2.6524694e-14, 7.7649709e-09, 1.2145017e-19, 2.3077262e-13,\n",
      "       4.2619005e-14, 4.7252059e-20], dtype=float32)>, <tf.Tensor: shape=(10,), dtype=float32, numpy=\n",
      "array([5.6281894e-21, 4.4559972e-12, 1.9021290e-17, 8.8162512e-13,\n",
      "       1.1491016e-12, 1.4475296e-10, 1.9774045e-16, 1.7140458e-15,\n",
      "       1.3285755e-11, 8.9341404e-16], dtype=float32)>, <tf.Tensor: shape=(10,), dtype=float32, numpy=\n",
      "array([1.07226538e-17, 3.81970995e-06, 9.21368103e-12, 1.39455374e-12,\n",
      "       7.81356249e-14, 1.24201135e-11, 1.64930634e-15, 1.50136045e-12,\n",
      "       1.50163614e-11, 2.96409930e-14], dtype=float32)>, <tf.Tensor: shape=(10,), dtype=float32, numpy=\n",
      "array([9.3326598e-16, 2.7558519e-04, 1.5158960e-10, 1.1449405e-12,\n",
      "       1.1910494e-12, 1.0935189e-12, 1.7339064e-15, 1.8276453e-13,\n",
      "       8.6733211e-11, 1.2974315e-13], dtype=float32)>, <tf.Tensor: shape=(10,), dtype=float32, numpy=\n",
      "array([2.1921833e-09, 1.0195329e-03, 2.6828383e-08, 7.4572723e-11,\n",
      "       1.0877469e-11, 9.1985406e-09, 4.9636886e-09, 1.3689520e-10,\n",
      "       2.8917620e-07, 7.2184885e-13], dtype=float32)>, <tf.Tensor: shape=(10,), dtype=float32, numpy=\n",
      "array([1.4499807e-10, 4.2919582e-03, 9.5433188e-13, 7.4159849e-14,\n",
      "       2.5623449e-13, 1.7763111e-12, 2.0522663e-11, 3.3176099e-13,\n",
      "       5.4573145e-11, 3.6242478e-16], dtype=float32)>, <tf.Tensor: shape=(10,), dtype=float32, numpy=\n",
      "array([9.8622477e-10, 2.8569000e-02, 3.3099714e-11, 7.5002088e-11,\n",
      "       1.1155644e-10, 7.7949376e-11, 1.5658528e-12, 9.4024675e-12,\n",
      "       3.0371026e-09, 4.3463197e-12], dtype=float32)>, <tf.Tensor: shape=(10,), dtype=float32, numpy=\n",
      "array([2.24847827e-14, 8.95669088e-02, 3.90689738e-11, 3.20058921e-13,\n",
      "       1.10759289e-13, 1.06962795e-14, 2.66001837e-14, 4.34966212e-12,\n",
      "       4.69878858e-10, 4.00133155e-15], dtype=float32)>]\n"
     ]
    },
    {
     "data": {
      "image/png": "[encoded data removed]",
      "text/plain": [
       "<Figure size 432x288 with 1 Axes>"
      ]
     },
     "metadata": {
      "needs_background": "light"
     },
     "output_type": "display_data"
    },
    {
     "data": {
      "image/png": "[encoded data removed]",
      "text/plain": [
       "<Figure size 446.4x7200 with 1 Axes>"
      ]
     },
     "metadata": {
      "needs_background": "light"
     },
     "output_type": "display_data"
    },
    {
     "name": "stdout",
     "output_type": "stream",
     "text": [
      "[0.18844621, 5.2325004e-07, 6.233804e-05, 1.1377818e-07, 9.085725e-11, 1.1687073e-08, 5.7493697e-05, 2.9753628e-05, 9.05475e-05, 7.244954e-05, 7.7653635e-09, 1.6452828e-10, 3.8197495e-06, 0.00027558542, 0.0010198655, 0.004291958, 0.028569005, 0.08956691]\n"
     ]
    }
   ],
   "source": [
    "rotate_img_crossevidence(model)"
   ]
  },
  {
   "cell_type": "code",
   "execution_count": 124,
   "id": "dc104bed",
   "metadata": {
    "tags": []
   },
   "outputs": [
    {
     "name": "stdout",
     "output_type": "stream",
     "text": [
      "prob tf.Tensor(\n",
      "[[6.5535186e-13 1.8844068e-01 2.7934789e-07 1.1621394e-08 5.5195746e-09\n",
      "  2.8452870e-11 4.5765403e-10 7.9887830e-09 5.2179043e-06 1.9766713e-10]], shape=(1, 10), dtype=float32)\n",
      "u [[0.98150396]] prob 1.0\n",
      "[[0.98150396]]\n",
      "prob tf.Tensor(\n",
      "[[3.61930054e-24 5.23236622e-07 1.17731085e-11 3.07065673e-14\n",
      "  5.92468445e-18 6.72315817e-18 3.69096184e-19 2.82275813e-14\n",
      "  1.58854082e-12 8.14536661e-17]], shape=(1, 10), dtype=float32)\n",
      "u [[1.]] prob 1.0000001\n",
      "[[1.]]\n",
      "prob tf.Tensor(\n",
      "[[1.0103113e-21 6.2338011e-05 2.7430216e-11 2.7323128e-14 1.9854088e-16\n",
      "  1.5509566e-14 1.6467396e-17 5.1948827e-16 7.6999594e-13 1.6310468e-18]], shape=(1, 10), dtype=float32)\n",
      "u [[0.9999937]] prob 0.9999999\n",
      "[[0.9999937]]\n",
      "prob tf.Tensor(\n",
      "[[1.66884962e-15 1.13744164e-07 3.11397501e-12 1.51806831e-11\n",
      "  7.54755850e-13 8.48355674e-12 1.99233008e-14 5.89834171e-12\n",
      "  5.62279390e-13 5.99075434e-17]], shape=(1, 10), dtype=float32)\n",
      "u [[1.]] prob 1.0000001\n",
      "[[1.]]\n",
      "prob tf.Tensor(\n",
      "[[2.2831786e-16 5.1840771e-11 3.6141695e-12 1.6845866e-12 1.9334597e-12\n",
      "  7.6714364e-12 2.0319624e-14 2.3585333e-11 5.0693851e-13 6.5860067e-18]], shape=(1, 10), dtype=float32)\n",
      "u [[1.]] prob 1.0\n",
      "[[1.]]\n",
      "prob tf.Tensor(\n",
      "[[8.8921536e-15 1.0836518e-13 4.9295418e-10 2.1855075e-13 1.1469088e-10\n",
      "  2.6450918e-15 1.8329838e-16 1.1079085e-08 4.5542632e-15 1.8385622e-19]], shape=(1, 10), dtype=float32)\n",
      "u [[1.]] prob 1.0\n",
      "[[1.]]\n",
      "prob tf.Tensor(\n",
      "[[2.1886361e-13 2.1225584e-12 3.7198745e-08 5.2962346e-11 4.1629477e-08\n",
      "  9.2151341e-13 3.0524978e-13 5.7414589e-05 2.2473294e-10 8.3985800e-16]], shape=(1, 10), dtype=float32)\n",
      "u [[0.9999943]] prob 1.0\n",
      "[[0.9999943]]\n",
      "prob tf.Tensor(\n",
      "[[1.2588245e-16 9.0290006e-18 7.8508325e-11 2.9668793e-12 9.3336339e-06\n",
      "  2.0400517e-10 2.3288332e-15 2.0412874e-05 6.8343935e-09 1.8919609e-14]], shape=(1, 10), dtype=float32)\n",
      "u [[0.999997]] prob 1.0\n",
      "[[0.999997]]\n",
      "prob tf.Tensor(\n",
      "[[8.1784097e-15 3.1943730e-14 4.2549322e-10 1.1460921e-08 6.2072068e-05\n",
      "  1.2599244e-07 2.9824865e-13 2.7223290e-05 1.1134721e-06 7.9534601e-10]], shape=(1, 10), dtype=float32)\n",
      "u [[0.99999094]] prob 1.0\n",
      "[[0.99999094]]\n",
      "prob tf.Tensor(\n",
      "[[1.0955892e-17 1.6737031e-13 3.5048780e-12 1.1930287e-10 7.0228736e-05\n",
      "  9.9571416e-08 5.7965927e-16 2.1015906e-06 1.9512276e-08 9.2375595e-12]], shape=(1, 10), dtype=float32)\n",
      "u [[0.9999927]] prob 1.0\n",
      "[[0.9999927]]\n",
      "prob tf.Tensor(\n",
      "[[3.5344419e-20 4.1988599e-14 5.1064292e-16 4.9705262e-14 2.6524694e-14\n",
      "  7.7649709e-09 1.2145017e-19 2.3077262e-13 4.2619005e-14 4.7252059e-20]], shape=(1, 10), dtype=float32)\n",
      "u [[1.]] prob 1.0\n",
      "[[1.]]\n",
      "prob tf.Tensor(\n",
      "[[5.6281894e-21 4.4559972e-12 1.9021290e-17 8.8162512e-13 1.1491016e-12\n",
      "  1.4475296e-10 1.9774045e-16 1.7140458e-15 1.3285755e-11 8.9341404e-16]], shape=(1, 10), dtype=float32)\n",
      "u [[1.]] prob 1.0\n",
      "[[1.]]\n",
      "prob tf.Tensor(\n",
      "[[1.07226538e-17 3.81970995e-06 9.21368103e-12 1.39455374e-12\n",
      "  7.81356249e-14 1.24201135e-11 1.64930634e-15 1.50136045e-12\n",
      "  1.50163614e-11 2.96409930e-14]], shape=(1, 10), dtype=float32)\n",
      "u [[0.99999964]] prob 1.0\n",
      "[[0.99999964]]\n",
      "prob tf.Tensor(\n",
      "[[9.3326598e-16 2.7558519e-04 1.5158960e-10 1.1449405e-12 1.1910494e-12\n",
      "  1.0935189e-12 1.7339064e-15 1.8276453e-13 8.6733211e-11 1.2974315e-13]], shape=(1, 10), dtype=float32)\n",
      "u [[0.99997246]] prob 1.0\n",
      "[[0.99997246]]\n",
      "prob tf.Tensor(\n",
      "[[2.1921833e-09 1.0195329e-03 2.6828383e-08 7.4572723e-11 1.0877469e-11\n",
      "  9.1985406e-09 4.9636886e-09 1.3689520e-10 2.8917620e-07 7.2184885e-13]], shape=(1, 10), dtype=float32)\n",
      "u [[0.9998981]] prob 1.0000001\n",
      "[[0.9998981]]\n",
      "prob tf.Tensor(\n",
      "[[1.4499807e-10 4.2919582e-03 9.5433188e-13 7.4159849e-14 2.5623449e-13\n",
      "  1.7763111e-12 2.0522663e-11 3.3176099e-13 5.4573145e-11 3.6242478e-16]], shape=(1, 10), dtype=float32)\n",
      "u [[0.999571]] prob 1.0\n",
      "[[0.999571]]\n",
      "prob tf.Tensor(\n",
      "[[9.8622477e-10 2.8569000e-02 3.3099714e-11 7.5002088e-11 1.1155644e-10\n",
      "  7.7949376e-11 1.5658528e-12 9.4024675e-12 3.0371026e-09 4.3463197e-12]], shape=(1, 10), dtype=float32)\n",
      "u [[0.9971512]] prob 1.0\n",
      "[[0.9971512]]\n",
      "prob tf.Tensor(\n",
      "[[2.24847827e-14 8.95669088e-02 3.90689738e-11 3.20058921e-13\n",
      "  1.10759289e-13 1.06962795e-14 2.66001837e-14 4.34966212e-12\n",
      "  4.69878858e-10 4.00133155e-15]], shape=(1, 10), dtype=float32)\n",
      "u [[0.9911228]] prob 1.0\n",
      "[[0.9911228]]\n",
      "[0, 1, 2, 3, 4, 5, 6, 7, 8, 9]\n"
     ]
    },
    {
     "data": {
      "image/png": "[encoded data removed]",
      "text/plain": [
       "<Figure size 432x288 with 1 Axes>"
      ]
     },
     "metadata": {
      "needs_background": "light"
     },
     "output_type": "display_data"
    },
    {
     "data": {
      "image/png": "[encoded data removed]",
      "text/plain": [
       "<Figure size 446.4x7200 with 1 Axes>"
      ]
     },
     "metadata": {
      "needs_background": "light"
     },
     "output_type": "display_data"
    },
    {
     "name": "stdout",
     "output_type": "stream",
     "text": [
      "[0.98150396, 1.0, 0.9999937, 1.0, 1.0, 1.0, 0.9999943, 0.999997, 0.99999094, 0.9999927, 1.0, 1.0, 0.99999964, 0.99997246, 0.9998981, 0.999571, 0.9971512, 0.9911228]\n"
     ]
    }
   ],
   "source": [
    "import tensorflow_addons as tfa\n",
    "linspace = np.linspace(1,180,num=18)\n",
    "digit_one = x_train[6]\n",
    "import matplotlib.pyplot as plt\n",
    "Mdeg = 180 \n",
    "Ndeg = int(Mdeg/10)+1\n",
    "K = 10\n",
    "# print(linspace)\n",
    "pred = []\n",
    "uncert = []\n",
    "label = []\n",
    "answer = []\n",
    "ldeg = []\n",
    "lp = []\n",
    "lu=[]\n",
    "scores = np.zeros((1,K))\n",
    "threshold = 0.001\n",
    "Results = pd.DataFrame()\n",
    "rimgs = []\n",
    "K=10\n",
    "from PIL import Image\n",
    "\n",
    "for i in linspace:\n",
    "    i = int(i)\n",
    "    radians = i* np.pi/180\n",
    "    # print(radians)\n",
    "    rotate = tfa.image.rotate(digit_one, tf.constant(radians))\n",
    "    rimg = rotate\n",
    "    rimgs.append(rimg.numpy().reshape(28,28))\n",
    "#     rimgs.append(rotate)\n",
    "    _pred=model.predict(tf.reshape(rotate,(1,28,28)))\n",
    "#     print(_pred)\n",
    "    # evidence = tf.nn.relu(_pred)\n",
    "    evidence = tf.nn.softplus(_pred)\n",
    "    # alpha = evidence + 1\n",
    "    \n",
    "    \n",
    "    # evidence = tf.nn.relu(_pred)\n",
    "    alpha = evidence + 1\n",
    "\n",
    "    u = K / tf.reduce_sum(alpha, axis=1, keepdims=True) #uncertainty\n",
    "\n",
    "    prob = alpha/tf.reduce_sum(alpha, 1, keepdims=True) \n",
    "    print(\"prob\", evidence)\n",
    "    print(\"u\", u.numpy(), \"prob\",tf.reduce_sum(prob).numpy())\n",
    "    # u = K / tf.reduce_sum(alpha, axis=1) #uncertainty\n",
    "    # prob = evidence/tf.reduce_sum(evidence, 1) \n",
    "#     print(\"pred\",prob, \"label?\",np.argmax(prob), \"uncert\", u)\n",
    "    scores += prob.numpy().astype(\"float\") >= threshold\n",
    "#     print(\"scores\",scores)\n",
    "    lp.append(prob[0])\n",
    "    print(u.numpy())\n",
    "    pred.append(prob)\n",
    "    uncert.append(u.numpy().mean())\n",
    "    label.append(1)\n",
    "    answer.append(np.argmax(_pred))\n",
    "    ldeg.append(i)\n",
    "labels = np.arange(10)[scores[0].astype(bool)]\n",
    "# print(\"labels\",labels)\n",
    "lp = np.array(lp)[:,labels]\n",
    "# c = ['black','blue','red','brown','purple','cyan']\n",
    "marker = ['s','^','o']*4\n",
    "labels = labels.tolist()\n",
    "# print(\"lp\",lp)\n",
    "\n",
    "print(labels)\n",
    "for j in range(len(labels)):\n",
    "    # print(lp[:,j], answer[j])\n",
    "    \n",
    "    \n",
    "    plt.plot(ldeg,lp[:,j],marker=marker[j])\n",
    "    \n",
    "\n",
    "\n",
    "labels += ['uncertainty']\n",
    "plt.plot(ldeg,uncert,marker='<',c='red')\n",
    "\n",
    "plt.legend(labels)\n",
    " \n",
    "plt.xlim([0,Mdeg])  \n",
    "plt.xlabel('Rotation Degree')\n",
    "plt.ylabel('Belief Mass')\n",
    "plt.yscale(\"log\")\n",
    "plt.show()\n",
    "\n",
    "img = Image.new('L', (28*len(rimgs), 28))\n",
    "x_offset =0\n",
    "for im in rimgs:\n",
    "#     print(im)\n",
    "    _im = Image.fromarray(np.uint8((im)*255))\n",
    "    img.paste(_im,(x_offset,0))\n",
    "    x_offset += _im.size[0]\n",
    "    \n",
    "plt.figure(figsize=[6.2,100])\n",
    "plt.imshow(img,cmap='gray')\n",
    "plt.axis('off')\n",
    "plt.show()\n",
    "#     print(pred, np.argmax(pred))\n",
    "#     _ = plt.imshow(rotate)\n",
    "#     plt.show()\n",
    "print(uncert)"
   ]
  },
  {
   "cell_type": "code",
   "execution_count": 102,
   "id": "b7b0b6a6",
   "metadata": {
    "tags": []
   },
   "outputs": [],
   "source": [
    "def rotate_img_entropy():\n",
    "    def calcEntropy_Tensors2(y_hat):\n",
    "        #entropy is the sum of y * log(y) for all possible labels.\n",
    "        #doesn't deal with cases of log(0)\n",
    "        val = y_hat * tf.math.log(y_hat)/tf.math.log(tf.constant(2, dtype=y_hat.dtype))\n",
    "        sumEntropies =  tf.reduce_sum(tf.boolean_mask(val,tf.math.is_finite(val)))\n",
    "        return -sumEntropies\n",
    "\n",
    "    import tensorflow_addons as tfa\n",
    "    linspace = np.linspace(1,180,num=18)\n",
    "    digit_one = x_train[6]\n",
    "    import matplotlib.pyplot as plt\n",
    "    Mdeg = 180 \n",
    "    Ndeg = int(Mdeg/10)+1\n",
    "    K = 10\n",
    "    # print(linspace)\n",
    "    pred = []\n",
    "    uncert = []\n",
    "    label = []\n",
    "    answer = []\n",
    "    ldeg = []\n",
    "    lp = []\n",
    "    lu=[]\n",
    "    scores = np.zeros((1,K))\n",
    "    threshold = 0.2\n",
    "    Results = pd.DataFrame()\n",
    "    rimgs = []\n",
    "    K=10\n",
    "    from PIL import Image\n",
    "\n",
    "    for i in linspace:\n",
    "        i = int(i)\n",
    "        radians = i* np.pi/180\n",
    "        # print(radians)\n",
    "        rotate = tfa.image.rotate(digit_one, tf.constant(radians))\n",
    "        rimg = rotate\n",
    "        rimgs.append(rimg.numpy().reshape(28,28))\n",
    "    #     rimgs.append(rotate)\n",
    "        _pred=model.predict(tf.reshape(rotate,(1,28,28)))\n",
    "        prob = _pred\n",
    "        # evidence = tf.nn.relu(_pred)\n",
    "        # evidence = tf.nn.softplus(_pred)\n",
    "        # alpha = evidence + 1\n",
    "        \n",
    "        u = calcEntropy_Tensors2(prob)\n",
    "        print(\"prob\", _pred)\n",
    "        print(\"u\", tf.reduce_sum(u).numpy(), \"prob\",tf.reduce_sum(prob).numpy())\n",
    "        # u = K / tf.reduce_sum(alpha, axis=1) #uncertainty\n",
    "        # prob = evidence/tf.reduce_sum(evidence, 1) \n",
    "    #     print(\"pred\",prob, \"label?\",np.argmax(prob), \"uncert\", u)\n",
    "        scores += _pred.astype(\"float\") >= threshold\n",
    "    #     print(\"scores\",scores)\n",
    "        lp.append(prob[0])\n",
    "        print(u.numpy())\n",
    "        pred.append(prob)\n",
    "        uncert.append(u.numpy().mean())\n",
    "        label.append(1)\n",
    "        answer.append(np.argmax(_pred))\n",
    "        ldeg.append(i)\n",
    "    labels = np.arange(10)[scores[0].astype(bool)]\n",
    "    # print(\"labels\",labels)\n",
    "    lp = np.array(lp)[:,labels]\n",
    "    # c = ['black','blue','red','brown','purple','cyan']\n",
    "    marker = ['s','^','o']*4\n",
    "    labels = labels.tolist()\n",
    "    # print(\"lp\",lp)\n",
    "    print(labels)\n",
    "    for j in range(len(labels)):\n",
    "        print(lp[:,j], answer[j])\n",
    "\n",
    "\n",
    "        plt.plot(ldeg,lp[:,j],marker=marker[j])\n",
    "\n",
    "\n",
    "\n",
    "    labels += ['Entropy']\n",
    "    plt.plot(ldeg,uncert,marker='<',c='red')\n",
    "\n",
    "    plt.legend(labels)\n",
    "\n",
    "    plt.xlim([0,Mdeg])  \n",
    "    plt.xlabel('Rotation Degree')\n",
    "    plt.ylabel('Belief Mass / Entropy Score')\n",
    "    plt.show()\n",
    "\n",
    "    img = Image.new('L', (28*len(rimgs), 28))\n",
    "    x_offset =0\n",
    "    for im in rimgs:\n",
    "    #     print(im)\n",
    "        _im = Image.fromarray(np.uint8((im)*255))\n",
    "        img.paste(_im,(x_offset,0))\n",
    "        x_offset += _im.size[0]\n",
    "\n",
    "    plt.figure(figsize=[6.2,100])\n",
    "    plt.imshow(img)\n",
    "    plt.axis('off')\n",
    "    plt.show()\n",
    "    #     print(pred, np.argmax(pred))\n",
    "    #     _ = plt.imshow(rotate)\n",
    "    #     plt.show()\n",
    "    print(uncert)"
   ]
  },
  {
   "cell_type": "code",
   "execution_count": 161,
   "id": "70f0656d",
   "metadata": {},
   "outputs": [],
   "source": [
    "def rotate_img_crossentropy(model):\n",
    "    import tensorflow_addons as tfa\n",
    "    linspace = np.linspace(1,180,num=18)\n",
    "    digit_one = x_train[6]\n",
    "    import matplotlib.pyplot as plt\n",
    "    Mdeg = 180 \n",
    "    Ndeg = int(Mdeg/10)+1\n",
    "    K = 10\n",
    "    # print(linspace)\n",
    "    pred = []\n",
    "    uncert = []\n",
    "    label = []\n",
    "    answer = []\n",
    "    ldeg = []\n",
    "    lp = []\n",
    "    lu=[]\n",
    "    scores = np.zeros((1,K))\n",
    "    threshold = 0.2\n",
    "    Results = pd.DataFrame()\n",
    "    rimgs = []\n",
    "    K=10\n",
    "    from PIL import Image\n",
    "\n",
    "    for i in linspace:\n",
    "        i = int(i)\n",
    "        radians = i* np.pi/180\n",
    "        # print(radians)\n",
    "        rotate = tfa.image.rotate(digit_one, tf.constant(radians))\n",
    "        rimg = rotate\n",
    "        rimgs.append(rimg.numpy().reshape(28,28))\n",
    "    #     rimgs.append(rotate)\n",
    "        _pred=model.predict(tf.reshape(rotate,(1,28,28)))\n",
    "        # evidence = tf.nn.relu(_pred)\n",
    "        evidence = tf.nn.softplus(_pred)\n",
    "        # alpha = evidence + 1\n",
    "        prob = np.amax(evidence)\n",
    "        # u = prob\n",
    "        u = tf.reduce_sum(evidence, axis=1, keepdims=True).numpy() #uncertainty\n",
    "        # u = np.reduce_sum(evidence)\n",
    "        print(\"prob\", evidence)\n",
    "        print(\"u\", tf.reduce_sum(u).numpy(), \"prob\",tf.reduce_sum(evidence).numpy())\n",
    "        # u = K / tf.reduce_sum(alpha, axis=1) #uncertainty\n",
    "        # prob = evidence/tf.reduce_sum(evidence, 1) \n",
    "    #     print(\"pred\",prob, \"label?\",np.argmax(prob), \"uncert\", u)\n",
    "        scores += prob.astype(\"float\") \n",
    "    #     print(\"scores\",scores)\n",
    "    \n",
    "    \n",
    "    \n",
    "        lp.append(evidence[0])\n",
    "        pred.append(prob)\n",
    "        uncert.append(u.mean())\n",
    "        answer.append(np.argmax(_pred))\n",
    "        ldeg.append(i)\n",
    "    labels = np.arange(10)[scores[0].astype(bool)]\n",
    "    print(\"labels\",labels)\n",
    "    # c = ['black','blue','red','brown','purple','cyan']\n",
    "    marker = ['s','^','o']*4\n",
    "    labels = labels.tolist()\n",
    "    # print(\"lp\",lp)\n",
    "    plt.yscale('log')\n",
    "    \n",
    "    for j in range(len(labels)):\n",
    "        print(labels[j])\n",
    "        # print(lp)\n",
    "        y =[]\n",
    "        for i in range(len(lp)):\n",
    "            y.append(lp[i][j])\n",
    "\n",
    "\n",
    "        plt.plot(ldeg,y,marker=marker[j])\n",
    "\n",
    "\n",
    "\n",
    "    labels += ['Certanity']\n",
    "    plt.plot(ldeg,uncert,marker='<',ls='--',c='red',zorder=0)\n",
    "\n",
    "    plt.legend(labels)\n",
    "\n",
    "    plt.xlim([0,Mdeg])  \n",
    "    plt.xlabel('Rotation Degree')\n",
    "    plt.ylabel('Predicted Probability')\n",
    "    plt.show()\n",
    "\n",
    "    img = Image.new('L', (28*len(rimgs), 28))\n",
    "    x_offset =0\n",
    "    for im in rimgs:\n",
    "    #     print(im)\n",
    "        _im = Image.fromarray(np.uint8((im)*255))\n",
    "        img.paste(_im,(x_offset,0))\n",
    "        x_offset += _im.size[0]\n",
    "\n",
    "    plt.figure(figsize=[6.2,100])\n",
    "    plt.imshow(img)\n",
    "    plt.axis('off')\n",
    "    plt.show()\n",
    "    #     print(pred, np.argmax(pred))\n",
    "    #     _ = plt.imshow(rotate)\n",
    "    #     plt.show()\n",
    "    print(uncert)"
   ]
  },
  {
   "cell_type": "code",
   "execution_count": 163,
   "id": "c7b0ef0a-7f2b-405f-bcb5-7465f1cf49e3",
   "metadata": {},
   "outputs": [
    {
     "name": "stdout",
     "output_type": "stream",
     "text": [
      "prob tf.Tensor(\n",
      "[[1.0964890e-08 1.6847100e+00 1.8928564e-06 1.7925127e-07 1.0670565e-05\n",
      "  1.3333648e-07 1.7490745e-06 7.6637001e-08 4.9270166e-05 8.1341007e-08]], shape=(1, 10), dtype=float32)\n",
      "u 1.684774 prob 1.684774\n",
      "prob tf.Tensor(\n",
      "[[1.7824584e-11 1.1883412e-01 1.5200213e-05 1.5144473e-06 4.2996984e-09\n",
      "  1.9316868e-08 1.9449025e-09 4.2931267e-09 2.6531627e-05 3.0361946e-08]], shape=(1, 10), dtype=float32)\n",
      "u 0.118877426 prob 0.118877426\n",
      "prob tf.Tensor(\n",
      "[[1.36075247e-13 1.04371775e-02 9.44117801e-06 4.49078152e-09\n",
      "  3.29475256e-08 6.18469675e-09 1.22163451e-11 2.27892749e-09\n",
      "  3.26600897e-08 1.74050375e-11]], shape=(1, 10), dtype=float32)\n",
      "u 0.010446697 prob 0.010446697\n",
      "prob tf.Tensor(\n",
      "[[4.16907963e-13 2.50979941e-02 1.35669552e-06 1.01298845e-08\n",
      "  2.57853173e-07 1.42367573e-09 3.64997637e-13 1.56718940e-07\n",
      "  1.30392586e-10 1.41429099e-11]], shape=(1, 10), dtype=float32)\n",
      "u 0.025099777 prob 0.025099777\n",
      "prob tf.Tensor(\n",
      "[[2.4253839e-12 4.2358489e-04 2.6399945e-07 1.8646899e-07 1.4848588e-10\n",
      "  1.1352677e-09 2.2420163e-10 1.2302905e-08 2.6392477e-10 1.3193659e-11]], shape=(1, 10), dtype=float32)\n",
      "u 0.00042404947 prob 0.00042404947\n",
      "prob tf.Tensor(\n",
      "[[3.0323803e-12 5.0857502e-10 1.1277262e-05 2.0436202e-09 1.2668994e-07\n",
      "  1.4364135e-09 1.2129094e-11 5.6902436e-06 2.0255922e-11 2.7629036e-13]], shape=(1, 10), dtype=float32)\n",
      "u 1.709822e-05 prob 1.709822e-05\n",
      "prob tf.Tensor(\n",
      "[[1.1384708e-12 9.6742519e-12 2.4629269e-05 2.5574835e-08 8.7330147e-07\n",
      "  9.5742783e-09 1.5644992e-10 2.7735357e-04 3.1761576e-06 7.0465467e-11]], shape=(1, 10), dtype=float32)\n",
      "u 0.00030606764 prob 0.00030606764\n",
      "prob tf.Tensor(\n",
      "[[1.63774549e-11 6.31574015e-10 1.15584306e-04 1.17419154e-06\n",
      "  2.29747857e-05 1.36615527e-05 2.19918028e-10 7.38638279e-04\n",
      "  2.69242319e-05 9.30205957e-08]], shape=(1, 10), dtype=float32)\n",
      "u 0.00091905124 prob 0.00091905124\n",
      "prob tf.Tensor(\n",
      "[[2.5506728e-12 2.5429747e-11 4.8022127e-07 1.1294278e-05 3.3008519e-06\n",
      "  1.7833378e-04 2.3008583e-08 7.9466985e-04 7.4369760e-05 2.7494840e-08]], shape=(1, 10), dtype=float32)\n",
      "u 0.0010624992 prob 0.0010624992\n",
      "prob tf.Tensor(\n",
      "[[5.2650293e-12 7.4505841e-09 1.5660177e-06 1.0925669e-07 3.3413980e-05\n",
      "  1.6243785e-04 5.4929665e-11 2.3692088e-04 1.1549473e-04 2.7687132e-12]], shape=(1, 10), dtype=float32)\n",
      "u 0.00054995023 prob 0.00054995023\n",
      "prob tf.Tensor(\n",
      "[[2.1823780e-14 9.6721084e-09 2.3583537e-07 5.1641973e-07 4.0133976e-09\n",
      "  9.0563333e-07 6.6857930e-14 1.1314180e-05 8.0123328e-08 9.1710363e-13]], shape=(1, 10), dtype=float32)\n",
      "u 1.3065878e-05 prob 1.3065878e-05\n",
      "prob tf.Tensor(\n",
      "[[4.0339843e-11 4.6117813e-05 3.8517847e-09 2.4726592e-08 1.4582082e-05\n",
      "  1.3146148e-07 9.5754416e-10 4.7751865e-07 2.8180423e-07 8.1397040e-08]], shape=(1, 10), dtype=float32)\n",
      "u 6.1701656e-05 prob 6.1701656e-05\n",
      "prob tf.Tensor(\n",
      "[[1.1495122e-11 2.9436307e-04 1.2244512e-05 3.3287438e-07 7.4237996e-06\n",
      "  1.2507521e-08 3.4701722e-10 2.5953329e-06 3.7754717e-08 5.2248168e-07]], shape=(1, 10), dtype=float32)\n",
      "u 0.0003175327 prob 0.0003175327\n",
      "prob tf.Tensor(\n",
      "[[9.7709751e-09 7.3520723e-03 1.6510216e-06 8.6946336e-12 8.0671964e-07\n",
      "  9.9098072e-09 8.6987022e-11 5.3328337e-09 4.9544764e-09 4.4789772e-09]], shape=(1, 10), dtype=float32)\n",
      "u 0.0073545645 prob 0.0073545645\n",
      "prob tf.Tensor(\n",
      "[[4.3658375e-08 2.3708715e-01 5.6405697e-06 1.0626755e-10 6.3296390e-08\n",
      "  2.3093834e-08 1.0451388e-07 2.4412741e-09 2.9096171e-08 1.8178943e-08]], shape=(1, 10), dtype=float32)\n",
      "u 0.23709308 prob 0.23709308\n",
      "prob tf.Tensor(\n",
      "[[1.3026449e-06 4.3209961e-01 1.1515234e-06 1.7355462e-09 1.8142919e-04\n",
      "  1.7771080e-06 5.4946191e-05 9.9922755e-09 1.4840672e-05 8.2786471e-08]], shape=(1, 10), dtype=float32)\n",
      "u 0.43235517 prob 0.43235517\n",
      "prob tf.Tensor(\n",
      "[[5.2237704e-07 4.3946389e-02 1.5098301e-07 1.1065405e-06 2.7221111e-05\n",
      "  3.3939637e-07 3.3330857e-06 1.5010680e-07 5.7938487e-05 4.1475232e-07]], shape=(1, 10), dtype=float32)\n",
      "u 0.044037566 prob 0.044037566\n",
      "prob tf.Tensor(\n",
      "[[2.9646810e-06 2.3028529e+00 2.4735291e-06 9.8194572e-09 8.6120408e-06\n",
      "  2.3190756e-07 1.1159341e-06 1.8700557e-07 4.0119368e-04 5.8865999e-07]], shape=(1, 10), dtype=float32)\n",
      "u 2.30327 prob 2.30327\n",
      "labels [0 1 2 3 4 5 6 7 8 9]\n",
      "0\n",
      "1\n",
      "2\n",
      "3\n",
      "4\n",
      "5\n",
      "6\n",
      "7\n",
      "8\n",
      "9\n"
     ]
    },
    {
     "data": {
      "image/png": "[encoded data removed]",
      "text/plain": [
       "<Figure size 432x288 with 1 Axes>"
      ]
     },
     "metadata": {
      "needs_background": "light"
     },
     "output_type": "display_data"
    },
    {
     "data": {
      "image/png": "[encoded data removed]",
      "text/plain": [
       "<Figure size 446.4x7200 with 1 Axes>"
      ]
     },
     "metadata": {
      "needs_background": "light"
     },
     "output_type": "display_data"
    },
    {
     "name": "stdout",
     "output_type": "stream",
     "text": [
      "[1.684774, 0.118877426, 0.010446697, 0.025099777, 0.00042404947, 1.709822e-05, 0.00030606764, 0.00091905124, 0.0010624992, 0.00054995023, 1.3065878e-05, 6.1701656e-05, 0.0003175327, 0.0073545645, 0.23709308, 0.43235517, 0.044037566, 2.30327]\n"
     ]
    }
   ],
   "source": [
    "rotate_img_crossentropy(model2)"
   ]
  },
  {
   "cell_type": "code",
   "execution_count": null,
   "id": "cbf96e61-89fb-4b2e-8a3f-5fb641f14095",
   "metadata": {},
   "outputs": [],
   "source": []
  }
 ],
 "metadata": {
  "kernelspec": {
   "display_name": "py36",
   "language": "python",
   "name": "py36"
  },
  "language_info": {
   "codemirror_mode": {
    "name": "ipython",
    "version": 3
   },
   "file_extension": ".py",
   "mimetype": "text/x-python",
   "name": "python",
   "nbconvert_exporter": "python",
   "pygments_lexer": "ipython3",
   "version": "3.7.11"
  }
 },
 "nbformat": 4,
 "nbformat_minor": 5
}
