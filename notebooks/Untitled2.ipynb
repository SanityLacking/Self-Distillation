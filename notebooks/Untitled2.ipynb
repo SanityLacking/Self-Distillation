{
 "cells": [
  {
   "cell_type": "code",
   "execution_count": 1,
   "source": [
    "import tensorflow as tf\r\n",
    "import numpy as np"
   ],
   "outputs": [],
   "metadata": {}
  },
  {
   "cell_type": "code",
   "execution_count": 2,
   "source": [
    "x = tf.constant([[1., 2., 3.],\r\n",
    "                 [4., 5., 6.],\r\n",
    "                 [7., 8., 9.]])\r\n",
    "print(x)\r\n",
    "x = tf.reshape(x, [1, 3, 3, 1])\r\n",
    "x"
   ],
   "outputs": [
    {
     "output_type": "stream",
     "name": "stdout",
     "text": [
      "tf.Tensor(\n",
      "[[1. 2. 3.]\n",
      " [4. 5. 6.]\n",
      " [7. 8. 9.]], shape=(3, 3), dtype=float32)\n"
     ]
    },
    {
     "output_type": "execute_result",
     "data": {
      "text/plain": [
       "<tf.Tensor: shape=(1, 3, 3, 1), dtype=float32, numpy=\n",
       "array([[[[1.],\n",
       "         [2.],\n",
       "         [3.]],\n",
       "\n",
       "        [[4.],\n",
       "         [5.],\n",
       "         [6.]],\n",
       "\n",
       "        [[7.],\n",
       "         [8.],\n",
       "         [9.]]]], dtype=float32)>"
      ]
     },
     "metadata": {},
     "execution_count": 2
    }
   ],
   "metadata": {}
  },
  {
   "cell_type": "code",
   "execution_count": null,
   "source": [
    "x = tf.zeros([5,5,1,20])\r\n",
    "x = tf.keras.layers.MaxPool2D(pool_size=(3,3), strides=(2,2))\r\n",
    "print(x.eval())"
   ],
   "outputs": [
    {
     "output_type": "error",
     "ename": "Error",
     "evalue": "Session cannot generate requests",
     "traceback": [
      "Error: Session cannot generate requests",
      "at w.executeCodeCell (c:\\Users\\Sanity\\.vscode\\extensions\\ms-toolsai.jupyter-2021.8.1236758218\\out\\client\\extension.js:90:327199)",
      "at w.execute (c:\\Users\\Sanity\\.vscode\\extensions\\ms-toolsai.jupyter-2021.8.1236758218\\out\\client\\extension.js:90:326520)",
      "at w.start (c:\\Users\\Sanity\\.vscode\\extensions\\ms-toolsai.jupyter-2021.8.1236758218\\out\\client\\extension.js:90:322336)",
      "at processTicksAndRejections (internal/process/task_queues.js:93:5)",
      "at async t.CellExecutionQueue.executeQueuedCells (c:\\Users\\Sanity\\.vscode\\extensions\\ms-toolsai.jupyter-2021.8.1236758218\\out\\client\\extension.js:90:336863)",
      "at async t.CellExecutionQueue.start (c:\\Users\\Sanity\\.vscode\\extensions\\ms-toolsai.jupyter-2021.8.1236758218\\out\\client\\extension.js:90:336403)"
     ]
    }
   ],
   "metadata": {}
  },
  {
   "cell_type": "code",
   "execution_count": 2,
   "source": [
    "x = [-.5,.5,.5,.5,.5]\r\n",
    "y = tf.nn.softmax(x)\r\n",
    "print(y)\r\n",
    "y = tf.nn.softmax(y)\r\n",
    "print(y)"
   ],
   "outputs": [
    {
     "output_type": "stream",
     "name": "stdout",
     "text": [
      "tf.Tensor([0.08422382 0.22894405 0.22894405 0.22894405 0.22894405], shape=(5,), dtype=float32)\n",
      "tf.Tensor([0.17784528 0.20553868 0.20553868 0.20553868 0.20553868], shape=(5,), dtype=float32)\n"
     ]
    }
   ],
   "metadata": {}
  },
  {
   "cell_type": "code",
   "execution_count": 3,
   "source": [
    "print(tf.reduce_mean(y))"
   ],
   "outputs": [
    {
     "output_type": "stream",
     "name": "stdout",
     "text": [
      "tf.Tensor(0.2, shape=(), dtype=float32)\n"
     ]
    }
   ],
   "metadata": {}
  },
  {
   "cell_type": "code",
   "execution_count": 32,
   "source": [],
   "outputs": [],
   "metadata": {}
  },
  {
   "cell_type": "code",
   "execution_count": 33,
   "source": [
    "# This function to generate evidence is used for the first example\r\n",
    "def relu_evidence(logits):\r\n",
    "    return tf.nn.relu(logits)\r\n",
    "\r\n",
    "# This one usually works better and used for the second and third examples\r\n",
    "# For general settings and different datasets, you may try this one first\r\n",
    "def exp_evidence(logits): \r\n",
    "    return tf.exp(tf.clip_by_value(logits,-10,10))\r\n",
    "\r\n",
    "# This one is another alternative and \r\n",
    "# usually behaves better than the relu_evidence \r\n",
    "def softplus_evidence(logits):\r\n",
    "    return tf.nn.softplus(logits)\r\n",
    "K=10\r\n",
    "def KL(alpha):\r\n",
    "    # print(\"K:\",K)\r\n",
    "    beta=tf.constant(np.ones((1,K)),dtype=tf.float32)\r\n",
    "    S_alpha = tf.cast(tf.reduce_sum(alpha,axis=1,keepdims=True),tf.float32)\r\n",
    "    \r\n",
    "    # print(\"lgama\",tf.compat.v1.lgamma(S_alpha) )\r\n",
    "    S_beta = tf.reduce_sum(beta,axis=1,keepdims=True)\r\n",
    "    lnB = tf.compat.v1.lgamma(S_alpha) - tf.reduce_sum(tf.compat.v1.lgamma(alpha),axis=1,keepdims=True)\r\n",
    "    lnB_uni = tf.reduce_sum(tf.compat.v1.lgamma(beta),axis=1,keepdims=True) - tf.compat.v1.lgamma(S_beta)\r\n",
    "    \r\n",
    "    dg0 = tf.compat.v1.digamma(S_alpha)\r\n",
    "    dg1 = tf.compat.v1.digamma(alpha)\r\n",
    "    \r\n",
    "    kl = tf.reduce_sum((alpha - beta)*(dg1-dg0),axis=1,keepdims=True) + lnB + lnB_uni\r\n",
    "    # print(\"kl\", kl)\r\n",
    "    return kl\r\n",
    "def mse_loss_global(labels, outputs): \r\n",
    "#         labels = tf.one_hot(tf.cast(labels, tf.int32), 10)\r\n",
    "# #         print(\"onehot\",labels)\r\n",
    "#         labels = tf.cast(labels, dtype=tf.float32)\r\n",
    "#         try:\r\n",
    "#             labels= tf.squeeze(labels,[1])\r\n",
    "#         except:\r\n",
    "#                 print(\"loss labels can't be squeezed\")\r\n",
    "        print(\"global Loss\")\r\n",
    "        evidence = softplus_evidence(outputs)\r\n",
    "        # print(\"evid_relu\",evidence)\r\n",
    "        alpha = evidence + 1\r\n",
    "        alpha = tf.cast(alpha, tf.float32)\r\n",
    "        # print(\"alpha\",alpha)\r\n",
    "        S = tf.reduce_sum(alpha, axis=1, keepdims=True) \r\n",
    "        E = alpha - 1\r\n",
    "        m = alpha / S\r\n",
    "#         print(\"m\",m)\r\n",
    "#         print(\"global\", labels)\r\n",
    "        A = tf.reduce_sum((labels-m)**2, axis=1, keepdims=True) \r\n",
    "        B = tf.reduce_sum(alpha*(S-alpha)/(S*S*(S+1)), axis=1, keepdims=True) \r\n",
    "\r\n",
    "        annealing_coef = tf.minimum(1.0,tf.cast(1,tf.float32))\r\n",
    "#         annealing_coef = 1\r\n",
    "        print(E*(1-labels))\r\n",
    "        alp = E*(1-labels) +1\r\n",
    "        print(\"alp\", alp)\r\n",
    "        C =  annealing_coef * KL(alp)\r\n",
    "#         print(alpha)\r\n",
    "        # C = tf.keras.losses.kld(labels, alp)\r\n",
    "        print(\"C\", C)\r\n",
    "        # return (A + B) + C\r\n",
    "        return C\r\n"
   ],
   "outputs": [],
   "metadata": {}
  },
  {
   "cell_type": "code",
   "execution_count": 44,
   "source": [
    "def calcEntropy_Tensors(y_hat):\r\n",
    "        rank = tf.rank(y_hat)\r\n",
    "        print(rank)\r\n",
    "        def calc_E(y_hat):\r\n",
    "            results = tf.clip_by_value((tf.math.log(y_hat)/tf.math.log(tf.constant(2, dtype=y_hat.dtype))), -1e12, 1e12)\r\n",
    "            return tf.reduce_sum(y_hat * results)\r\n",
    "        sumEntropies = (tf.map_fn(calc_E,tf.cast(y_hat,'float')))\r\n",
    "        print(sumEntropies)\r\n",
    "        if rank == 1:\r\n",
    "            sumEntropies = tf.reduce_sum(sumEntropies)\r\n",
    "        return -sumEntropies\r\n",
    "\r\n",
    "def calcEntropy_Tensors2(y_hat):\r\n",
    "    #entropy is the sum of y * log(y) for all possible labels.\r\n",
    "    #doesn't deal with cases of log(0)\r\n",
    "    val = y_hat * tf.math.log(y_hat)/tf.math.log(tf.constant(2, dtype=y_hat.dtype))\r\n",
    "    print(val)\r\n",
    "    print(tf.boolean_mask(val,tf.math.is_finite(val)))\r\n",
    "    sumEntropies =  tf.reduce_mean(tf.boolean_mask(val,tf.math.is_finite(val)),axis=1)\r\n",
    "    return -sumEntropies\r\n",
    "\r\n",
    "\r\n",
    "labels =  np.array([[0., 0., 0., 0., 0., 0., 0. ,0. ,1., 0.]])\r\n",
    "\r\n",
    "outputs = np.array([[ -5.2393117,  -5.6626554, -0.653389 , -0.531464 , -19.877066 ,\r\n",
    "        -16.617638 , -17.549894 , -21.920752 ,  10.4453455,  -8.612539 ]])\r\n",
    "\r\n",
    "outputs = tf.Variable([[ .5,23,1.5],[1,1.5,1]])\r\n",
    "\r\n",
    "print(calcEntropy_Tensors(outputs))\r\n"
   ],
   "outputs": [
    {
     "output_type": "stream",
     "name": "stdout",
     "text": [
      "tf.Tensor(2, shape=(), dtype=int32)\n",
      "tf.Tensor([104.419365    0.8774438], shape=(2,), dtype=float32)\n",
      "tf.Tensor([-104.419365    -0.8774438], shape=(2,), dtype=float32)\n"
     ]
    }
   ],
   "metadata": {}
  },
  {
   "cell_type": "code",
   "execution_count": 143,
   "source": [
    "outputs =tf.Variable([[ -5.2393117,  -5.6626554, -0.653389 , -0.531464 , -19.877066 ,\r\n",
    "            -16.617638 , -17.549894 , -21.920752 ,  -5.4453455,  -8.612539 ],\r\n",
    "            [ -5.2393117,  -5.6626554, -0.653389 , -0.531464 , -19.877066 ,\r\n",
    "            -16.617638 , -17.549894 , -21.920752 ,  -5.4453455,  -8.612539 ],[ -5.2393117,  -5.6626554, -0.653389 , -0.531464 , -19.877066 ,\r\n",
    "            -16.617638 , -17.549894 , -21.920752 ,  -5.4453455,  -8.612539 ]])\r\n",
    "def evidence_spike(outputs):\r\n",
    "    num_classes = 10\r\n",
    "    batch_size = outputs.shape[0]\r\n",
    "    print(batch_size)\r\n",
    "    for i,output in enumerate(outputs):\r\n",
    "        outputs[i] = output+ abs(tf.reduce_min(outputs,1)[i])\r\n",
    "    # print(outputs)\r\n",
    "    # outputs = outputs + abs(tf.reduce_min(outputs,1))\r\n",
    "    # print(outputs)\r\n",
    "    norms = tf.keras.utils.normalize(outputs)\r\n",
    "    # print(norms)\r\n",
    "    predMax_idx = tf.argmax(outputs,1)\r\n",
    "    predMax = tf.keras.utils.to_categorical(predMax_idx,num_classes)\r\n",
    "\r\n",
    "    # print(\"predicted output:\", tf.reduce_sum(np.multiply(norms, predMax)))\r\n",
    "    results_correct = tf.reduce_sum(np.multiply(norms, predMax))/batch_size\r\n",
    "    # print(results_correct)\r\n",
    "    coef = 1/ results_correct\r\n",
    "    # print(\"coef\",coef)\r\n",
    "    results_incorrect = tf.reduce_mean(norms* abs(predMax-1))/batch_size\r\n",
    "    # print(results_correct, results_incorrect)\r\n",
    "    # print(\"evidence: \", results_correct *coef - results_incorrect* coef)\r\n",
    "    print(results_correct *coef - results_incorrect* coef)\r\n",
    "evidence_spike(outputs)"
   ],
   "outputs": [
    {
     "output_type": "stream",
     "name": "stdout",
     "text": [
      "3\n",
      "tf.Tensor(0.8508471820099855, shape=(), dtype=float64)\n"
     ]
    }
   ],
   "metadata": {}
  },
  {
   "cell_type": "code",
   "execution_count": 154,
   "source": [
    "# outputs = np.array([-1.,-2.,-9.])\r\n",
    "import numpy as np\r\n",
    "import tensorflow as tf\r\n",
    "labels =  tf.Variable([[0., 0., 0., 0., 0., 0., 0. ,0. ,1., 0.],[0., 0., 0., 0., 0., 0., 0. ,0. ,1., 0.],[0., 0., 0., 0., 0., 0., 0. ,0. ,1., 0.]])\r\n",
    "outputs = tf.Variable([[ -5.2393117,  -5.6626554, -0.653389 , -0.531464 , -19.877066 ,\r\n",
    "            -16.617638 , -17.549894 , -20.920752 ,  -5.4453455,  -8.612539 ],\r\n",
    "            [ -5.2393117,  -5.6626554, -0.653389 , -0.531464 , -19.877066 ,\r\n",
    "            -16.617638 , -17.549894 , -21.920752 ,  -5.4453455,  -8.612539 ],[ -5.2393117,  -5.6626554, -0.653389 , -0.531464 , -19.877066 ,\r\n",
    "            -16.617638 , -17.549894 , -15.920752 ,  -5.4453455,  -8.612539 ]])\r\n",
    "def evidence_spike(outputs):\r\n",
    "    num_classes = 10\r\n",
    "    batch_size = outputs.shape[0]\r\n",
    "    print(batch_size)\r\n",
    "    # print(tf.reduce_min(outputs,1))\r\n",
    "\r\n",
    "\r\n",
    "\r\n",
    "    mins = abs(tf.reduce_min(outputs,1))\r\n",
    "    print(mins)\r\n",
    "    mins_a= tf.repeat(mins,10)\r\n",
    "    mins_a = tf.reshape(mins_a, outputs.shape)\r\n",
    "    # mins_a = tf.zeros([0,num_classes])\r\n",
    "    # for i, val in enumerate(mins):\r\n",
    "        # mins_a = tf.concat(tf.repeat(val,num_classes),1)\r\n",
    "\r\n",
    "\r\n",
    "\r\n",
    "    # print(mins_a)\r\n",
    "    # print(abs(mins))\r\n",
    "    outputs = outputs + mins_a\r\n",
    "    # for i,output in mins:\r\n",
    "    #     print(\"i\",i)\r\n",
    "    #     print(\"outputs\",output)\r\n",
    "    #     outputs[i] = output+ abs(tf.reduce_min(outputs,1)[i])\r\n",
    "    # print(outputs)\r\n",
    "    # outputs = outputs + abs(tf.reduce_min(outputs,1))\r\n",
    "    # print(outputs)\r\n",
    "    norms = tf.keras.utils.normalize(outputs)\r\n",
    "    print(norms)\r\n",
    "\r\n",
    "    predMax_idx = tf.argmax(outputs,1)\r\n",
    "    predMax = tf.keras.utils.to_categorical(predMax_idx,num_classes)\r\n",
    "\r\n",
    "    # print(\"predicted output:\", tf.reduce_sum(np.multiply(norms, predMax)))\r\n",
    "    results_correct = tf.reduce_sum(np.multiply(norms, predMax))/batch_size\r\n",
    "    print(results_correct)\r\n",
    "    coef = 1/ results_correct\r\n",
    "    print(\"coef\",coef)\r\n",
    "    results_incorrect = tf.reduce_mean(norms* abs(predMax-1))/batch_size\r\n",
    "    print(results_correct, results_incorrect)\r\n",
    "    print(\"evidence: \", results_correct *coef - results_incorrect* coef)\r\n",
    "\r\n",
    "evidence_spike(outputs)\r\n",
    "\r\n",
    "# evidence_spike(tf.Variable([[ -5.2393117,  -5.6626554, -0.653389 , -0.231464 , -19.877066 , -16.617638 ,\r\n",
    "            #   -17.549894 , -21.920752 ,  -5.4453455,  -8.612539 ]]))\r\n",
    "\r\n"
   ],
   "outputs": [
    {
     "output_type": "stream",
     "name": "stdout",
     "text": [
      "3\n",
      "tf.Tensor([20.920752 21.920752 19.877066], shape=(3,), dtype=float32)\n",
      "tf.Tensor(\n",
      "[[0.37732908 0.36714253 0.4876762  0.49061    0.02511332 0.10354215\n",
      "  0.08111005 0.         0.37237146 0.29616198]\n",
      " [0.3775328  0.36795172 0.48132098 0.48408037 0.04625251 0.12001958\n",
      "  0.09892084 0.         0.37286988 0.30119023]\n",
      " [0.37459245 0.3637587  0.49195004 0.49507022 0.         0.08341151\n",
      "  0.05955427 0.1012454  0.36931986 0.28826872]], shape=(3, 10), dtype=float32)\n",
      "tf.Tensor(0.48992023, shape=(), dtype=float32)\n",
      "coef tf.Tensor(2.0411487, shape=(), dtype=float32)\n",
      "tf.Tensor(0.48992023, shape=(), dtype=float32) tf.Tensor(0.07120673, shape=(), dtype=float32)\n",
      "evidence:  tf.Tensor(0.85465646, shape=(), dtype=float32)\n"
     ]
    }
   ],
   "metadata": {}
  },
  {
   "cell_type": "code",
   "execution_count": 85,
   "source": [
    "x = np.array([[1,2,3]])\r\n",
    "y = np.array([[1,0,1]])\r\n",
    "print(np.multiply(x,y))"
   ],
   "outputs": [
    {
     "output_type": "stream",
     "name": "stdout",
     "text": [
      "[[1 0 3]]\n"
     ]
    }
   ],
   "metadata": {}
  },
  {
   "cell_type": "code",
   "execution_count": 169,
   "source": [
    "def KL_evidence(labels, outputs): \r\n",
    "#         labels = tf.one_hot(tf.cast(labels, tf.int32), 10)\r\n",
    "# #         print(\"onehot\",labels)\r\n",
    "#         labels = tf.cast(labels, dtype=tf.float32)\r\n",
    "#         try:\r\n",
    "#             labels= tf.squeeze(labels,[1])\r\n",
    "#         except:\r\n",
    "#                 print(\"loss labels can't be squeezed\")\r\n",
    "        print(\"Kl Evidence\")\r\n",
    "        evidence = softplus_evidence(outputs)\r\n",
    "        print(\"evidence\",evidence)\r\n",
    "        print(\"evidence\",tf.reduce_sum(evidence))\r\n",
    "        alpha = evidence + 1\r\n",
    "        alpha = tf.cast(alpha, tf.float32)\r\n",
    "        # print(\"alpha\",alpha)\r\n",
    "        S = tf.reduce_sum(alpha, axis=1, keepdims=True) \r\n",
    "        E = alpha - 1\r\n",
    "        m = alpha / S\r\n",
    "#         print(\"m\",m)\r\n",
    "#         print(\"global\", labels)\r\n",
    "        A = tf.reduce_sum((labels-m)**2, axis=1, keepdims=True) \r\n",
    "        B = tf.reduce_sum(alpha*(S-alpha)/(S*S*(S+1)), axis=1, keepdims=True) \r\n",
    "\r\n",
    "        annealing_coef = tf.minimum(1.0,tf.cast(1,tf.float32))\r\n",
    "#         annealing_coef = 1\r\n",
    "        print(\"1-labels\", (labels * 5))\r\n",
    "        print(tf.keras.losses.categorical_crossentropy([1.0],[1.0]))\r\n",
    "\r\n",
    "        alp = E*(1-labels) +1\r\n",
    "        print(\"alp\", alp)\r\n",
    "        C =  annealing_coef * KL(alp)\r\n",
    "#         print(alpha)\r\n",
    "        # C = tf.keras.losses.kld(labels, alp)\r\n",
    "        print(\"C\", C)\r\n",
    "        # return (A + B) + C\r\n",
    "        return C\r\n",
    "\r\n",
    "labels =  np.array([[0., 0., 0., 0., 0., 0., 0. ,0. ,1., 0.]])\r\n",
    "# outputs = np.array([[-0.867575228, -1.408539593, -0.3238, -4.99858856, -4.85228109,\r\n",
    "#                      -6.52761173, -6.87370205, -6.45510149, 0.890240133 ,-2.260957]])\r\n",
    "\r\n",
    "outputs = np.array([[ -5.2393117,  -5.6626554, -0.653389 , -0.531464 , -19.877066 ,\r\n",
    "        -16.617638 , -17.549894 , -21.920752 ,  10.4453455,  -8.612539 ]])\r\n",
    "outputs = np.array([[0., 0., 0., 0., -10., 0.5, 1. ,-1. ,1, 0.  ]])\r\n",
    "print(\"softmax\",tf.nn.softmax(outputs))\r\n",
    "print(\"kl relu\", tf.keras.losses.kl_divergence(labels,(labels * softplus_evidence(outputs))))\r\n",
    "print(\"sigmoid cross\",tf.keras.losses.categorical_crossentropy(labels,tf.cast(tf.sigmoid(outputs),tf.float32),True))\r\n",
    "print(\"cross\",tf.keras.losses.categorical_crossentropy(labels,tf.cast((outputs),tf.float32),True))\r\n",
    "print(\"softmax cross\",tf.keras.losses.categorical_crossentropy(labels,tf.cast((tf.nn.softmax(outputs)),tf.float32),True))\r\n",
    "print(KL_evidence(labels,outputs))"
   ],
   "outputs": [
    {
     "output_type": "stream",
     "name": "stdout",
     "text": [
      "softmax tf.Tensor(\n",
      "[[8.03005826e-02 8.03005826e-02 8.03005826e-02 8.03005826e-02\n",
      "  3.64564081e-06 1.32393279e-01 2.18279615e-01 2.95409335e-02\n",
      "  2.18279615e-01 8.03005826e-02]], shape=(1, 10), dtype=float64)\n",
      "kl relu tf.Tensor([0.], shape=(1,), dtype=float64)\n",
      "sigmoid cross tf.Tensor([2.0765529], shape=(1,), dtype=float32)\n",
      "cross tf.Tensor([1.5219785], shape=(1,), dtype=float32)\n",
      "softmax cross tf.Tensor([2.1866343], shape=(1,), dtype=float32)\n",
      "Kl Evidence\n",
      "evidence tf.Tensor(\n",
      "[[6.93147181e-01 6.93147181e-01 6.93147181e-01 6.93147181e-01\n",
      "  4.53988992e-05 9.74076984e-01 1.31326169e+00 3.13261688e-01\n",
      "  1.31326169e+00 6.93147181e-01]], shape=(1, 10), dtype=float64)\n",
      "evidence tf.Tensor(7.379643348433719, shape=(), dtype=float64)\n",
      "1-labels [[0. 0. 0. 0. 0. 0. 0. 0. 5. 0.]]\n",
      "tf.Tensor(1.192093e-07, shape=(), dtype=float32)\n",
      "alp tf.Tensor(\n",
      "[[1.6931472 1.6931472 1.6931472 1.6931472 1.0000454 1.974077  2.3132617\n",
      "  1.3132616 1.        1.6931472]], shape=(1, 10), dtype=float32)\n",
      "C tf.Tensor([[0.9189415]], shape=(1, 1), dtype=float32)\n",
      "tf.Tensor([[0.9189415]], shape=(1, 1), dtype=float32)\n"
     ]
    }
   ],
   "metadata": {}
  },
  {
   "cell_type": "code",
   "execution_count": 7,
   "source": [
    "# This function to generate evidence is used for the first example\r\n",
    "def relu_evidence(logits):\r\n",
    "    return tf.nn.relu(logits)\r\n",
    "\r\n",
    "# This one usually works better and used for the second and third examples\r\n",
    "# For general settings and different datasets, you may try this one first\r\n",
    "def exp_evidence(logits): \r\n",
    "    return tf.exp(tf.clip_by_value(logits,-10,10))\r\n",
    "\r\n",
    "# This one is another alternative and \r\n",
    "# usually behaves better than the relu_evidence \r\n",
    "def softplus_evidence(logits):\r\n",
    "    return tf.nn.softplus(logits)\r\n",
    "\r\n",
    "K = 10\r\n",
    "def KL(alpha):\r\n",
    "    # print(\"K:\",K)\r\n",
    "    beta=tf.constant(np.ones((1,K)),dtype=tf.float32)\r\n",
    "    S_alpha = tf.reduce_sum(alpha,axis=1,keepdims=True)\r\n",
    "    S_beta = tf.reduce_sum(beta,axis=1,keepdims=True)\r\n",
    "    lnB = tf.compat.v1.lgamma(S_alpha) - tf.reduce_sum(tf.compat.v1.lgamma(alpha),axis=1,keepdims=True)\r\n",
    "    lnB_uni = tf.reduce_sum(tf.compat.v1.lgamma(beta),axis=1,keepdims=True) - tf.compat.v1.lgamma(S_beta)\r\n",
    "    \r\n",
    "    dg0 = tf.compat.v1.digamma(S_alpha)\r\n",
    "    dg1 = tf.compat.v1.digamma(alpha)\r\n",
    "    \r\n",
    "    kl = tf.reduce_sum((alpha - beta)*(dg1-dg0),axis=1,keepdims=True) + lnB + lnB_uni\r\n",
    "    # print(\"kl\", kl)\r\n",
    "    return kl\r\n",
    "\r\n",
    "def mse_loss_global(labels, outputs): \r\n",
    "    softmax = tf.nn.softmax(outputs)\r\n",
    "\r\n",
    "    # activated_outputs =tf.keras.activations.sigmoid(softmax)\r\n",
    "    evidence = softplus_evidence(outputs)\r\n",
    "    alpha = evidence + 1\r\n",
    "    S = tf.reduce_sum(alpha, axis=1, keepdims=True) \r\n",
    "    E = alpha - 1\r\n",
    "    m = alpha / S\r\n",
    "    A = tf.reduce_sum((labels-m)**2, axis=1, keepdims=True) \r\n",
    "    B = tf.reduce_sum(alpha*(S-alpha)/(S*S*(S+1)), axis=1, keepdims=True) \r\n",
    "    \r\n",
    "    \r\n",
    "    pred = tf.argmax(outputs,1)\r\n",
    "    print(\"evidence:\", evidence * labels / alpha )\r\n",
    "\r\n",
    "    annealing_coef = tf.minimum(1.0,tf.cast(1,tf.float32))\r\n",
    "#         annealing_coef = 1\r\n",
    "    alp = E*(1-labels) + 1 \r\n",
    "    # print(\"alp\", alp)\r\n",
    "    C =  annealing_coef * KL(alp)\r\n",
    "    # C = keras_kl(labels,evidence)\r\n",
    "    # loss = tf.keras.losses.categorical_crossentropy(labels, softmax)\r\n",
    "    pred = tf.argmax(outputs,1)\r\n",
    "    truth = tf.argmax(labels,1)\r\n",
    "    match = tf.reshape(tf.cast(tf.equal(pred, truth), tf.float32),(-1,1))\r\n",
    "    # return loss + C\r\n",
    "    return (A + B) + C\r\n",
    "labels =  tf.Variable([[0., 0., 0., 0., 0., 0., 0. ,0. ,1., 0.],[0., 0., 0., 0., 0., 0., 0. ,0. ,1., 0.],[0., 0., 0., 0., 0., 0., 0. ,0. ,1., 0.]])\r\n",
    "outputs = tf.Variable([[ -5.2393117,  -5.6626554, -0.653389 , -0.531464 , -19.877066 ,\r\n",
    "            -16.617638 , -17.549894 , -20.920752 ,  -5.4453455,  -8.612539 ],\r\n",
    "            [ -5.2393117,  -5.6626554, -0.653389 , -0.531464 , -19.877066 ,\r\n",
    "            -16.617638 , -17.549894 , -21.920752 ,  -5.4453455,  -8.612539 ],[ -5.2393117,  -5.6626554, -0.653389 , -0.531464 , -19.877066 ,\r\n",
    "            -16.617638 , -17.549894 , -15.920752 ,  -5.4453455,  -8.612539 ]])\r\n",
    "\r\n",
    "mse_loss_global(labels, outputs)"
   ],
   "outputs": [
    {
     "output_type": "stream",
     "name": "stdout",
     "text": [
      "evidence: tf.Tensor(\n",
      "[[0.         0.         0.         0.         0.         0.\n",
      "  0.         0.         0.00428859 0.        ]\n",
      " [0.         0.         0.         0.         0.         0.\n",
      "  0.         0.         0.00428859 0.        ]\n",
      " [0.         0.         0.         0.         0.         0.\n",
      "  0.         0.         0.00428859 0.        ]], shape=(3, 10), dtype=float32)\n"
     ]
    },
    {
     "output_type": "execute_result",
     "data": {
      "text/plain": [
       "<tf.Tensor: shape=(3, 1), dtype=float32, numpy=\n",
       "array([[1.1791859],\n",
       "       [1.1791859],\n",
       "       [1.1791849]], dtype=float32)>"
      ]
     },
     "metadata": {},
     "execution_count": 7
    }
   ],
   "metadata": {}
  },
  {
   "cell_type": "code",
   "execution_count": 77,
   "source": [
    "print(tf.sigmoid(.7))\r\n",
    "print(tf.sigmoid(-.7))"
   ],
   "outputs": [
    {
     "output_type": "stream",
     "name": "stdout",
     "text": [
      "tf.Tensor(0.66818774, shape=(), dtype=float32)\n",
      "tf.Tensor(0.33181223, shape=(), dtype=float32)\n"
     ]
    }
   ],
   "metadata": {}
  },
  {
   "cell_type": "code",
   "execution_count": 160,
   "source": [
    "import matplotlib.pyplot as plt\r\n",
    "from math import log\r\n",
    "plt.style.use('seaborn-whitegrid')\r\n",
    "# calculate cross-entropy\r\n",
    "def cross_entropy(p, q, ets=1e-15):\r\n",
    "\treturn -sum([p[i]*log(q[i]+ets) for i in range(len(p))])\r\n",
    " \r\n",
    "labels =  np.array([[0., 0., 0., 0., 0., 0., 0. ,0. ,1., 0.]])\r\n",
    "outputs = np.array([[-0.867575228, -1.408539593, -5.3238, -4.99858856, -4.85228109,\r\n",
    "                     -6.52761173, -6.87370205, -6.45510149, 0.890240133 ,-2.260957]])\r\n",
    "\r\n",
    "values = [-1.0, -0.9, -0.8, -0.7, -0.6, -0.5, -0.4, -0.3, -0.2, -0.1, 0.0,.1,.2,.3,.4,.5,.6,.7,.8,.9,1.0]\r\n",
    "prediction = range(0,100,1)\r\n",
    "probs = []\r\n",
    "for j,i in enumerate(values):\r\n",
    "    x = outputs\r\n",
    "    x = [np.repeat(i,10)]\r\n",
    "    x[0][8] = prediction[j]\r\n",
    "    print(x)\r\n",
    "    # probs.append(tf.reduce_sum(softplus_evidence(x)))\r\n",
    "    probs.append(tf.keras.losses.categorical_crossentropy(labels,softplus_evidence(x)))\r\n",
    "\r\n",
    "plt.plot(values, probs, marker='.')\r\n",
    "plt.subplots_adjust(bottom=0.2)\r\n",
    "plt.xlabel('Probability Distribution')\r\n",
    "plt.ylabel('evidence score')\r\n",
    "plt.show()\r\n",
    "\r\n"
   ],
   "outputs": [
    {
     "output_type": "stream",
     "name": "stdout",
     "text": [
      "[array([-1., -1., -1., -1., -1., -1., -1., -1.,  0., -1.])]\n",
      "[array([-0.9, -0.9, -0.9, -0.9, -0.9, -0.9, -0.9, -0.9,  1. , -0.9])]\n",
      "[array([-0.8, -0.8, -0.8, -0.8, -0.8, -0.8, -0.8, -0.8,  2. , -0.8])]\n",
      "[array([-0.7, -0.7, -0.7, -0.7, -0.7, -0.7, -0.7, -0.7,  3. , -0.7])]\n",
      "[array([-0.6, -0.6, -0.6, -0.6, -0.6, -0.6, -0.6, -0.6,  4. , -0.6])]\n",
      "[array([-0.5, -0.5, -0.5, -0.5, -0.5, -0.5, -0.5, -0.5,  5. , -0.5])]\n",
      "[array([-0.4, -0.4, -0.4, -0.4, -0.4, -0.4, -0.4, -0.4,  6. , -0.4])]\n",
      "[array([-0.3, -0.3, -0.3, -0.3, -0.3, -0.3, -0.3, -0.3,  7. , -0.3])]\n",
      "[array([-0.2, -0.2, -0.2, -0.2, -0.2, -0.2, -0.2, -0.2,  8. , -0.2])]\n",
      "[array([-0.1, -0.1, -0.1, -0.1, -0.1, -0.1, -0.1, -0.1,  9. , -0.1])]\n",
      "[array([ 0.,  0.,  0.,  0.,  0.,  0.,  0.,  0., 10.,  0.])]\n",
      "[array([ 0.1,  0.1,  0.1,  0.1,  0.1,  0.1,  0.1,  0.1, 11. ,  0.1])]\n",
      "[array([ 0.2,  0.2,  0.2,  0.2,  0.2,  0.2,  0.2,  0.2, 12. ,  0.2])]\n",
      "[array([ 0.3,  0.3,  0.3,  0.3,  0.3,  0.3,  0.3,  0.3, 13. ,  0.3])]\n",
      "[array([ 0.4,  0.4,  0.4,  0.4,  0.4,  0.4,  0.4,  0.4, 14. ,  0.4])]\n",
      "[array([ 0.5,  0.5,  0.5,  0.5,  0.5,  0.5,  0.5,  0.5, 15. ,  0.5])]\n",
      "[array([ 0.6,  0.6,  0.6,  0.6,  0.6,  0.6,  0.6,  0.6, 16. ,  0.6])]\n",
      "[array([ 0.7,  0.7,  0.7,  0.7,  0.7,  0.7,  0.7,  0.7, 17. ,  0.7])]\n",
      "[array([ 0.8,  0.8,  0.8,  0.8,  0.8,  0.8,  0.8,  0.8, 18. ,  0.8])]\n",
      "[array([ 0.9,  0.9,  0.9,  0.9,  0.9,  0.9,  0.9,  0.9, 19. ,  0.9])]\n",
      "[array([ 1.,  1.,  1.,  1.,  1.,  1.,  1.,  1., 20.,  1.])]\n"
     ]
    },
    {
     "output_type": "display_data",
     "data": {
      "text/plain": [
       "<Figure size 432x288 with 1 Axes>"
      ],
      "image/png": "[encoded data removed]"
     },
     "metadata": {}
    }
   ],
   "metadata": {}
  },
  {
   "cell_type": "code",
   "execution_count": 49,
   "source": [
    "labels =  np.array([[0., 0., 0., 0., 0., 0., 0. ,0. ,1., 0.]])\r\n",
    "outputs = np.array([[-0.867575228, -1.408539593, -5.3238, -4.99858856, -4.85228109,\r\n",
    "                     -6.52761173, -6.87370205, -6.45510149, 0.890240133 ,-2.260957]])\r\n",
    "\r\n",
    "values = [-1.0, -0.9, -0.8, -0.7, -0.6, -0.5, -0.4, -0.3, -0.2, -0.1, 0,.1,.2,.3,.4,.5,.6,.7,.8,.9,1]\r\n",
    "values = tf.keras.activations.relu(values)\r\n",
    "print(values)\r\n",
    "probs = []\r\n",
    "for i in values:\r\n",
    "    x = outputs\r\n",
    "    x[0][8] = i\r\n",
    "    probs.append(tf.reduce_sum(tf.exp(x)))\r\n",
    "\r\n",
    "plt.plot(values, probs, marker='.')\r\n",
    "plt.subplots_adjust(bottom=0.2)\r\n",
    "plt.xlabel('Probability Distribution')\r\n",
    "plt.ylabel('evidence score')\r\n",
    "plt.show()\r\n"
   ],
   "outputs": [
    {
     "output_type": "stream",
     "name": "stdout",
     "text": [
      "tf.Tensor(\n",
      "[0.  0.  0.  0.  0.  0.  0.  0.  0.  0.  0.  0.1 0.2 0.3 0.4 0.5 0.6 0.7\n",
      " 0.8 0.9 1. ], shape=(21,), dtype=float32)\n"
     ]
    },
    {
     "output_type": "display_data",
     "data": {
      "text/plain": [
       "<Figure size 432x288 with 1 Axes>"
      ],
      "image/png": "[encoded data removed]"
     },
     "metadata": {}
    }
   ],
   "metadata": {}
  },
  {
   "cell_type": "code",
   "execution_count": 9,
   "source": [
    "print(softplus_evidence(outputs))\r\n",
    "print(tf.keras.activations.softsign(outputs))"
   ],
   "outputs": [
    {
     "output_type": "stream",
     "name": "stdout",
     "text": [
      "tf.Tensor(\n",
      "[[3.50634790e-01 2.18733917e-01 4.86235611e-03 6.72480167e-03\n",
      "  7.78019630e-03 1.46142611e-03 1.03410481e-03 1.57124463e-03\n",
      "  1.23422490e+00 9.91669774e-02]], shape=(1, 10), dtype=float64)\n",
      "tf.Tensor(\n",
      "[[-0.46454634 -0.58481065 -0.84186723 -0.83329412 -0.82912646 -0.86715574\n",
      "  -0.87299494 -0.86586366  0.47096669 -0.69334156]], shape=(1, 10), dtype=float64)\n"
     ]
    }
   ],
   "metadata": {}
  },
  {
   "cell_type": "code",
   "execution_count": 5,
   "source": [
    "import tensorflow as tf\r\n",
    "import numpy as np\r\n",
    "\r\n",
    "def inv_softmax(x, C):\r\n",
    "   return tf.math.log(x,10) + tf.cast(C,tf.double)\r\n",
    "\r\n",
    "labels =  np.array([[0., 0., 0., 0., 0., 0., 0. ,0. ,1., 0.]])\r\n",
    "outputs = np.array([[-0.867575228, -1.408539593, -5.3238, -4.99858856, -4.85228109,\r\n",
    "                     -6.52761173, -6.87370205, -6.45510149, 0.890240133 ,-2.260957]])\r\n",
    "y = tf.nn.softmax(outputs)\r\n",
    "print(y)\r\n",
    "print(tf.reduce_sum(y))\r\n",
    "# print(tf.keras.losses.categorical_crossentropy(labels,tf.cast(tf.nn.softmax(y),tf.float32),True))\r\n",
    "z = inv_softmax(y,-1)\r\n",
    "print(z)\r\n",
    "# print(tf.keras.losses.categorical_crossentropy(labels,tf.cast(tf.nn.softmax(z),tf.float32),True))\r\n"
   ],
   "outputs": [
    {
     "output_type": "stream",
     "name": "stdout",
     "text": [
      "tf.Tensor(\n",
      "[[1.30104402e-01 7.57450319e-02 1.51000423e-03 2.09033406e-03\n",
      "  2.41967046e-03 4.53074240e-04 3.20526731e-04 4.87147152e-04\n",
      "  7.54573419e-01 3.22963897e-02]], shape=(1, 10), dtype=float64)\n",
      "tf.Tensor(1.0, shape=(), dtype=float64)\n",
      "tf.Tensor([2.2162142], shape=(1,), dtype=float32)\n",
      "tf.Tensor(\n",
      "[[-3.03941806 -3.58038242 -7.49564283 -7.17043139 -7.02412392 -8.69945456\n",
      "  -9.04554488 -8.62694432 -1.2816027  -4.43279983]], shape=(1, 10), dtype=float64)\n"
     ]
    }
   ],
   "metadata": {}
  },
  {
   "cell_type": "code",
   "execution_count": 6,
   "source": [
    "\r\n",
    "labels =  np.array([[0., 0., 0., 0., 0., 0., 0. ,0. ,1., 0.]])\r\n",
    "# outputs = np.array([[0.0,0.0,0.0,0.0,0.0,0.0,0.0,0.0,0.0,0.0]])\r\n",
    "outputs = np.array([[3,3,4,0,1,3,3,3,3,3]])\r\n",
    "\r\n",
    "\r\n",
    "# # outputs = np.array([[-6,-3,3,-4,-6,-3,-3,-3,-3,-3]])\r\n",
    "# print(\"mse\", mse_loss_global(labels,outputs))\r\n",
    "# print(\"evidence\",tf.reduce_sum(relu_evidence(outputs)))\r\n",
    "\r\n",
    "# print(\"keras_mse\",tf.keras.losses.mean_squared_error(labels,relu_evidence(outputs)))\r\n",
    "# print(\"keras_mae\",tf.keras.losses.mean_absolute_error(labels,(outputs)))\r\n",
    "# print(\"keras_crossE\",tf.keras.losses.categorical_crossentropy(labels,tf.cast(outputs,tf.float32),True))\r\n",
    "# print(\"softmax\", tf.nn.softmax(tf.cast(outputs,tf.float32)),\"label:\",tf.argmax(outputs,1))\r\n",
    "\r\n",
    "\r\n",
    "outputs = np.array([[-0.867575228, -1.408539593, -5.3238, -4.99858856, -4.85228109,\r\n",
    "                     -6.52761173, -6.87370205, -6.45510149, 0.890240133 ,-2.260957]])\r\n",
    "# outputs = np.array([[1.2,0,1.1,1,0,0,0,0,0,0]])\r\n",
    "outputs = tf.cast(outputs,tf.float32)\r\n",
    "print(\"mse\", mse_loss_global(labels,outputs))\r\n",
    "print(\"KL\",KL(softplus_evidence(outputs)+1))\r\n",
    "# print(\"KL2\",KL((softplus_evidence(outputs))+1)*.1)\r\n",
    "print(\"keras KL\",tf.keras.losses.kl_divergence(labels,outputs))\r\n",
    "\r\n",
    "\r\n",
    "print(\"evidence\",tf.reduce_sum(softplus_evidence(outputs)))\r\n",
    "\r\n",
    "print(\"keras_mse\",tf.keras.losses.mean_squared_error(labels,softplus_evidence(outputs)+1))\r\n",
    "# print(\"keras_mae\",tf.keras.losses.mean_absolute_error(labels,(outputs)))\r\n",
    "print(\"keras_crossE\",tf.keras.losses.categorical_crossentropy(labels,tf.cast(tf.nn.softmax(outputs),tf.float32),True))\r\n",
    "print(\"new total: \",tf.keras.losses.categorical_crossentropy(labels,tf.cast(tf.nn.softmax(outputs),tf.float32),True)+ mse_loss_global(labels,outputs))\r\n",
    "\r\n",
    "# print(\"keras_crossE\",tf.keras.losses.categorical_crossentropy(labels,tf.cast(outputs,tf.float32),True))\r\n",
    "print(\"softmax\", tf.nn.softmax(tf.cast(outputs,tf.float32)), \"label:\",tf.argmax(outputs,1))\r\n"
   ],
   "outputs": [
    {
     "output_type": "stream",
     "name": "stdout",
     "text": [
      "global Loss\n",
      "tf.Tensor(\n",
      "[[0.3506348  0.2187339  0.00486231 0.00672483 0.00778019 0.00146139\n",
      "  0.00103414 0.0015713  0.         0.09916699]], shape=(1, 10), dtype=float32)\n",
      "alp tf.Tensor(\n",
      "[[1.3506348 1.2187339 1.0048623 1.0067248 1.0077802 1.0014614 1.0010341\n",
      "  1.0015713 1.        1.099167 ]], shape=(1, 10), dtype=float32)\n",
      "C tf.Tensor([[0.0915556]], shape=(1, 1), dtype=float32)\n",
      "mse tf.Tensor([[0.0915556]], shape=(1, 1), dtype=float32)\n",
      "KL tf.Tensor([[0.5232086]], shape=(1, 1), dtype=float32)\n",
      "keras KL tf.Tensor([0.11626406], shape=(1,), dtype=float32)\n",
      "evidence tf.Tensor(1.9261947, shape=(), dtype=float32)\n",
      "keras_mse tf.Tensor([1.2088009], shape=(1,), dtype=float32)\n",
      "keras_crossE tf.Tensor([1.677675], shape=(1,), dtype=float32)\n",
      "global Loss\n",
      "tf.Tensor(\n",
      "[[0.3506348  0.2187339  0.00486231 0.00672483 0.00778019 0.00146139\n",
      "  0.00103414 0.0015713  0.         0.09916699]], shape=(1, 10), dtype=float32)\n",
      "alp tf.Tensor(\n",
      "[[1.3506348 1.2187339 1.0048623 1.0067248 1.0077802 1.0014614 1.0010341\n",
      "  1.0015713 1.        1.099167 ]], shape=(1, 10), dtype=float32)\n",
      "C tf.Tensor([[0.0915556]], shape=(1, 1), dtype=float32)\n",
      "new total:  tf.Tensor([[1.7692306]], shape=(1, 1), dtype=float32)\n",
      "softmax tf.Tensor(\n",
      "[[1.3010441e-01 7.5745031e-02 1.5100042e-03 2.0903340e-03 2.4196703e-03\n",
      "  4.5307426e-04 3.2052671e-04 4.8714713e-04 7.5457346e-01 3.2296389e-02]], shape=(1, 10), dtype=float32) label: tf.Tensor([8], shape=(1,), dtype=int64)\n"
     ]
    }
   ],
   "metadata": {}
  },
  {
   "cell_type": "code",
   "execution_count": 4,
   "source": [
    "import numpy as np\r\n",
    "labels =  np.array([[0., 0., 0., 0., 0., 0., 0. ,0. ,1., 0.]])\r\n",
    "\r\n",
    "\r\n",
    "outputs = np.array([[-0.867575228, 0.408539593, -5.3238, -4.99858856, -4.85228109,\r\n",
    "                     -6.52761173, -6.87370205, -6.45510149, 0.890240133 ,-2.260957]])\r\n",
    "# outputs = np.array([[1.2,0,1.1,1,0,0,0,0,0,0]])\r\n",
    "outputs = tf.cast(tf.keras.activations.sigmoid(outputs),tf.float32)\r\n",
    "print(outputs)\r\n",
    "outputs = tf.cast(tf.keras.activations.hard_sigmoid(outputs),tf.float32)\r\n",
    "print(outputs)\r\n",
    "# print(\"mse\", mse_loss_global(labels,outputs))\r\n",
    "# print(\"KL\",KL(softplus_evidence(outputs))+1)\r\n",
    "# print(\"KL2\",KL((outputs))*.1)\r\n",
    "print(\"keras KL\",tf.keras.losses.kl_divergence(labels,outputs))\r\n",
    "\r\n",
    "\r\n",
    "# print(\"evidence\",tf.reduce_sum(softplus_evidence(outputs)))\r\n",
    "\r\n",
    "# print(\"keras_mse\",tf.keras.losses.mean_squared_error(labels,softplus_evidence(outputs)+1))\r\n",
    "# print(\"keras_mae\",tf.keras.losses.mean_absolute_error(labels,(outputs)))\r\n",
    "print(\"keras_crossE\",tf.keras.losses.categorical_crossentropy(labels,tf.cast(outputs,tf.float32),True))\r\n",
    "print(\"softmax\", tf.nn.softmax(tf.cast(outputs,tf.float32)), \"label:\",tf.argmax(outputs,1))\r\n"
   ],
   "outputs": [
    {
     "output_type": "stream",
     "name": "stdout",
     "text": [
      "tf.Tensor(\n",
      "[[0.2957591  0.60073763 0.00485055 0.00670224 0.00775001 0.00146036\n",
      "  0.00103357 0.00157001 0.70893973 0.09440852]], shape=(1, 10), dtype=float32)\n",
      "tf.Tensor(\n",
      "[[0.5591518  0.6201475  0.5009701  0.50134045 0.50155    0.50029206\n",
      "  0.5002067  0.500314   0.64178795 0.5188817 ]], shape=(1, 10), dtype=float32)\n",
      "keras KL tf.Tensor([0.44348344], shape=(1,), dtype=float32)\n",
      "keras_crossE tf.Tensor([2.196615], shape=(1,), dtype=float32)\n",
      "softmax tf.Tensor(\n",
      "[[0.10236084 0.10879877 0.09657526 0.09661103 0.09663128 0.0965098\n",
      "  0.09650156 0.09651191 0.11117887 0.09832066]], shape=(1, 10), dtype=float32) label: tf.Tensor([8], shape=(1,), dtype=int64)\n"
     ]
    }
   ],
   "metadata": {}
  },
  {
   "cell_type": "code",
   "execution_count": 19,
   "source": [
    "import numpy as np\r\n",
    "x = np.array([.01,1,6])\r\n",
    "y = np.array([0,0,1])\r\n",
    "print(tf.keras.losses.mean_squared_error(y,x))"
   ],
   "outputs": [
    {
     "output_type": "stream",
     "name": "stdout",
     "text": [
      "tf.Tensor(8.6667, shape=(), dtype=float64)\n"
     ]
    }
   ],
   "metadata": {}
  },
  {
   "cell_type": "code",
   "execution_count": 20,
   "source": [
    "out = y - x\r\n",
    "print(out)\r\n",
    "out = tf.reduce_mean(out*out)\r\n",
    "out"
   ],
   "outputs": [
    {
     "output_type": "stream",
     "name": "stdout",
     "text": [
      "[-0.01 -1.   -5.  ]\n"
     ]
    },
    {
     "output_type": "execute_result",
     "data": {
      "text/plain": [
       "<tf.Tensor: shape=(), dtype=float64, numpy=8.6667>"
      ]
     },
     "metadata": {},
     "execution_count": 20
    }
   ],
   "metadata": {}
  },
  {
   "cell_type": "code",
   "execution_count": 44,
   "source": [
    "tf.exp(tf.clip_by_value(-50.,-10,10))"
   ],
   "outputs": [
    {
     "output_type": "execute_result",
     "data": {
      "text/plain": [
       "<tf.Tensor: shape=(), dtype=float32, numpy=4.539993e-05>"
      ]
     },
     "metadata": {},
     "execution_count": 44
    }
   ],
   "metadata": {}
  },
  {
   "cell_type": "code",
   "execution_count": null,
   "source": [],
   "outputs": [],
   "metadata": {}
  }
 ],
 "metadata": {
  "kernelspec": {
   "name": "python3",
   "display_name": "Python 3.6.7 64-bit ('py36': conda)"
  },
  "language_info": {
   "codemirror_mode": {
    "name": "ipython",
    "version": 3
   },
   "file_extension": ".py",
   "mimetype": "text/x-python",
   "name": "python",
   "nbconvert_exporter": "python",
   "pygments_lexer": "ipython3",
   "version": "3.6.7"
  },
  "interpreter": {
   "hash": "7483e188a462fd4248cd8d23b24bc727a5fe7a35e4044aa57ebcc92f8fe9e445"
  }
 },
 "nbformat": 4,
 "nbformat_minor": 2
}