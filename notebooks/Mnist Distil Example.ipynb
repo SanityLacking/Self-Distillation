{
 "cells": [
  {
   "cell_type": "code",
   "execution_count": 15,
   "metadata": {},
   "outputs": [
    {
     "name": "stdout",
     "output_type": "stream",
     "text": [
      "x_train shape: (60000, 28, 28, 1)\n",
      "60000 train samples\n",
      "10000 test samples\n"
     ]
    }
   ],
   "source": [
    "import tensorflow as tf\n",
    "import tensorflow.keras as keras\n",
    "import numpy as np\n",
    "from tensorflow.keras import layers\n",
    "num_classes = 10\n",
    "input_shape = (28, 28, 1)\n",
    "\n",
    "# the data, split between train and test sets\n",
    "(x_train, y_train), (x_test, y_test) = keras.datasets.mnist.load_data()\n",
    "\n",
    "# Scale images to the [0, 1] range\n",
    "x_train = x_train.astype(\"float32\") / 255\n",
    "x_test = x_test.astype(\"float32\") / 255\n",
    "# Make sure images have shape (28, 28, 1)\n",
    "x_train = np.expand_dims(x_train, -1)\n",
    "x_test = np.expand_dims(x_test, -1)\n",
    "print(\"x_train shape:\", x_train.shape)\n",
    "print(x_train.shape[0], \"train samples\")\n",
    "print(x_test.shape[0], \"test samples\")\n",
    "\n",
    "\n",
    "   # Model / data parameters\n",
    "num_classes = 10\n",
    "input_shape = (28, 28, 1)\n",
    "  "
   ]
  },
  {
   "cell_type": "code",
   "execution_count": 187,
   "metadata": {},
   "outputs": [],
   "source": [
    " # convert class vectors to binary class matrices\n",
    "\n",
    "dataset = tf.keras.datasets.mnist.load_data()\n",
    "(train_images, train_labels), (test_images, test_labels) = dataset\n",
    "train_images = train_images.reshape(60000, 784).astype(\"float32\") / 255\n",
    "test_images = test_images.reshape(10000, 784).astype(\"float32\") / 255\n",
    "\n",
    "validation_images, validation_labels = train_images[:12000], train_labels[:12000]\n",
    "train_images, train_labels = train_images[12000:], train_labels[12000:] # now remove the validation set from the training set.\n",
    "train_ds = tf.data.Dataset.from_tensor_slices(((train_images,train_labels)))\n",
    "test_ds = tf.data.Dataset.from_tensor_slices((test_images, test_labels))\n",
    "validation_ds = tf.data.Dataset.from_tensor_slices((validation_images, validation_labels))\n",
    "\n",
    "train_ds_size = len(list(train_ds))\n",
    "test_ds_size = len(list(test_ds))\n",
    "validation_ds_size = len(list(validation_ds))\n",
    "\n",
    "target = tf.data.Dataset.from_tensor_slices((train_labels))\n",
    "train_ds = tf.data.Dataset.zip((train_ds,target))\n",
    "\n",
    "v_target = tf.data.Dataset.from_tensor_slices((validation_labels))\n",
    "validation_ds = tf.data.Dataset.zip((validation_ds,v_target))\n",
    "\n",
    "\n",
    "train_ds = (train_ds\n",
    "    # .map(prepare.augment_images)\n",
    "    .shuffle(buffer_size=int(train_ds_size),reshuffle_each_iteration=True)\n",
    "    .batch(batch_size=batch_size, drop_remainder=True))\n",
    "test_ds = (test_ds\n",
    "    # .map(prepare.augment_images)\n",
    "    .shuffle(buffer_size=int(test_ds_size)) ##why would you shuffle the test set?\n",
    "    .batch(batch_size=batch_size, drop_remainder=True))\n",
    "\n",
    "validation_ds = (validation_ds\n",
    "    # .map(prepare.augment_images)\n",
    "    .shuffle(buffer_size=int(validation_ds_size))\n",
    "    .batch(batch_size=batch_size, drop_remainder=True))\n"
   ]
  },
  {
   "cell_type": "code",
   "execution_count": 237,
   "metadata": {},
   "outputs": [],
   "source": [
    "class LogisticEndpoint(keras.layers.Layer):\n",
    "    def __init__(self, name=None):\n",
    "        super(LogisticEndpoint, self).__init__(name=name)\n",
    "        self.loss_fn = keras.losses.BinaryCrossentropy(from_logits=True)\n",
    "        self.accuracy_fn = keras.metrics.BinaryAccuracy()\n",
    "\n",
    "    def call(self, targets, logits, sample_weights=None):\n",
    "        # Compute the training-time loss value and add it\n",
    "        # to the layer using `self.add_loss()`.\n",
    "        loss = self.loss_fn(targets, logits, sample_weights)\n",
    "        self.add_loss(loss)\n",
    "\n",
    "        # Log accuracy as a metric and add it\n",
    "        # to the layer using `self.add_metric()`.\n",
    "        acc = self.accuracy_fn(targets, logits, sample_weights)\n",
    "        self.add_metric(acc, name=\"accuracy\")\n",
    "\n",
    "        # Return the inference-time prediction tensor (for `.predict()`).\n",
    "        return tf.nn.softmax(logits)\n",
    "    \n",
    "    \n",
    "class FeatureDistillation(keras.layers.Layer):\n",
    "    def __init__(self, name=None):\n",
    "        super(FeatureDistillation, self).__init__(name=name)\n",
    "        self.loss_fn = keras.losses.BinaryCrossentropy(from_logits=True)\n",
    "        self.loss_coefficient = 1\n",
    "        self.feature_loss_coefficient = 1\n",
    "#         self.loss_fn = keras.losses.sparse_categorical_crossentropy()\n",
    "\n",
    "    def call(self, prediction, teaching_features=None, sample_weights=None):\n",
    "        # Compute the training-time loss value and add it\n",
    "        # to the layer using `self.add_loss()`.\n",
    "#         print(prediction)\n",
    "        #loss functions are (True, Prediction)\n",
    "        loss = self.loss_fn(targets, prediction, sample_weights)\n",
    "        \n",
    "        #if loss is a list of additional loss objects\n",
    "        if isinstance(additional_loss,list):\n",
    "            for i in range(len(additional_loss)):\n",
    "                loss += self.loss_fn(targets, additional_loss[i], sample_weights) * self.loss_coefficient\n",
    "        elif additional_loss is not None:\n",
    "            loss += self.loss_fn(targets, additional_loss, sample_weights) * self.loss_coefficient\n",
    "            \n",
    "        #feature distillation\n",
    "        if teaching_features is not None:\n",
    "            diff = tf.math.abs(prediction - teaching_features) * self.feature_loss_coefficient\n",
    "            loss += self.loss_fn(targets, additional_loss, sample_weights)\n",
    "            \n",
    "        \n",
    "        #TODO might be faster to concatenate all elements together and then perform the loss once on all the elements.\n",
    "        \n",
    "        self.add_loss(loss)\n",
    "\n",
    "        return prediction\n",
    "    \n",
    "    \n",
    "    \n",
    "class BranchEndpoint(keras.layers.Layer):\n",
    "    def __init__(self, name=None):\n",
    "        super(BranchEndpoint, self).__init__(name=name)\n",
    "        self.loss_fn = keras.losses.SparseCategoricalCrossentropy()\n",
    "        self.loss_coefficient = 1\n",
    "        self.feature_loss_coefficient = 1\n",
    "#         self.loss_fn = keras.losses.sparse_categorical_crossentropy()\n",
    "\n",
    "    def call(self, prediction, targets, additional_loss=None, student_features=None, teaching_features=None, sample_weights=None):\n",
    "        # Compute the training-time loss value and add it\n",
    "        # to the layer using `self.add_loss()`.\n",
    "        print(prediction, targets, additional_loss)\n",
    "        #loss functions are (True, Prediction)\n",
    "        loss = self.loss_fn(targets, prediction, sample_weights)\n",
    "        print(loss)\n",
    "        #if loss is a list of additional loss objects\n",
    "        if isinstance(additional_loss,list):\n",
    "            for i in range(len(additional_loss)):\n",
    "                loss += self.loss_fn(targets, additional_loss[i], sample_weights) * self.loss_coefficient\n",
    "        elif additional_loss is not None:\n",
    "            loss += self.loss_fn(targets, additional_loss, sample_weights) * self.loss_coefficient\n",
    "            \n",
    "        #feature distillation\n",
    "        if teaching_features is not None and student_features is not None:\n",
    "            diff = tf.norm(tf.math.abs(student_features - teaching_features)) * self.feature_loss_coefficient\n",
    "            loss += self.loss_fn(targets, additional_loss, sample_weights)\n",
    "            \n",
    "        \n",
    "        #TODO might be faster to concatenate all elements together and then perform the loss once on all the elements.\n",
    "        \n",
    "        self.add_loss(loss)\n",
    "\n",
    "        return tf.nn.softmax(prediction)\n",
    "    \n",
    "    "
   ]
  },
  {
   "cell_type": "code",
   "execution_count": 247,
   "metadata": {},
   "outputs": [
    {
     "name": "stdout",
     "output_type": "stream",
     "text": [
      "Tensor(\"Placeholder:0\", shape=(None, 10), dtype=float32) Tensor(\"Placeholder_1:0\", shape=(None, 1), dtype=float32) None\n",
      "Tensor(\"branch1_predictions/sparse_categorical_crossentropy/weighted_loss/value:0\", shape=(), dtype=float32)\n",
      "Tensor(\"Placeholder:0\", shape=(None, 10), dtype=float32) Tensor(\"Placeholder_1:0\", shape=(None, 1), dtype=float32) None\n",
      "Tensor(\"branch2_predictions/sparse_categorical_crossentropy/weighted_loss/value:0\", shape=(), dtype=float32)\n"
     ]
    }
   ],
   "source": [
    "tf.keras.backend.clear_session()\n",
    "inputLayer = keras.Input(shape=(784,),name=\"input\")\n",
    "targets = keras.Input(shape=(1,), name=\"targets\")\n",
    "x = layers.Flatten(input_shape=(28,28))(inputLayer)\n",
    "x = layers.Dense(512, activation=\"relu\")(x)\n",
    "x= layers.Dropout(0.2)(x)\n",
    "#exit 2\n",
    "x = layers.Dense(512, activation=\"relu\")(x)\n",
    "x= layers.Dropout(0.2)(x)\n",
    "branch1_256 = keras.layers.Dense(256,activation=\"relu\")(x)\n",
    "branch1_dense = keras.layers.Dense(10)(branch1_256)\n",
    "\n",
    "#exit 3\n",
    "x = layers.Dense(512, activation=\"relu\")(x)\n",
    "x= layers.Dropout(0.2)(x)\n",
    "\n",
    "branch2_256 = keras.layers.Dense(256,activation=\"relu\")(x)\n",
    "branch2_dense = keras.layers.Dense(10)(branch2_256)\n",
    "\n",
    "#exit 4\n",
    "x = layers.Dense(512, activation=\"relu\")(x)\n",
    "x= layers.Dropout(0.2)(x)\n",
    "#exit 5\n",
    "x = layers.Dense(512, activation=\"relu\")(x)\n",
    "x= layers.Dropout(0.2)(x)\n",
    "\n",
    "x_teacher = layers.Dense(256, activation=\"relu\")(x)\n",
    "x= layers.Dropout(0.2)(x_teacher)\n",
    "#exit 1 The main branch exit is refered to as \"exit 1\" or \"main exit\" to avoid confusion when adding addtional exits\n",
    "output = layers.Dense(10, name=\"output\")(x)\n",
    "softmax = layers.Softmax()(output)\n",
    "\n",
    "#branch ends\n",
    "branch1_predictions = BranchEndpoint(name=\"branch1_predictions\")(branch1_dense, targets)\n",
    "branch2_predictions = BranchEndpoint(name=\"branch2_predictions\")(branch2_dense, targets)\n",
    "\n",
    "outputs =[softmax, branch1_predictions,branch2_predictions]\n",
    "model = keras.Model(inputs=[inputLayer,targets], outputs=outputs)\n"
   ]
  },
  {
   "cell_type": "code",
   "execution_count": 248,
   "metadata": {},
   "outputs": [],
   "source": [
    "# model.summary()\n",
    "batch_size = 128\n",
    "epochs = 2\n",
    "\n",
    "# for i in train_ds.take(1):\n",
    "#     print(i)"
   ]
  },
  {
   "cell_type": "code",
   "execution_count": 249,
   "metadata": {
    "scrolled": false
   },
   "outputs": [
    {
     "name": "stdout",
     "output_type": "stream",
     "text": [
      "Epoch 1/2\n",
      "Tensor(\"model/dense_6/BiasAdd:0\", shape=(128, 10), dtype=float32) Tensor(\"model/Cast:0\", shape=(128, 1), dtype=float32) None\n",
      "Tensor(\"model/branch2_predictions/sparse_categorical_crossentropy/weighted_loss/value:0\", shape=(), dtype=float32)\n",
      "Tensor(\"model/dense_3/BiasAdd:0\", shape=(128, 10), dtype=float32) Tensor(\"model/Cast:0\", shape=(128, 1), dtype=float32) None\n",
      "Tensor(\"model/branch1_predictions/sparse_categorical_crossentropy/weighted_loss/value:0\", shape=(), dtype=float32)\n",
      "Tensor(\"model/dense_6/BiasAdd:0\", shape=(128, 10), dtype=float32) Tensor(\"model/Cast:0\", shape=(128, 1), dtype=float32) None\n",
      "Tensor(\"model/branch2_predictions/sparse_categorical_crossentropy/weighted_loss/value:0\", shape=(), dtype=float32)\n",
      "Tensor(\"model/dense_3/BiasAdd:0\", shape=(128, 10), dtype=float32) Tensor(\"model/Cast:0\", shape=(128, 1), dtype=float32) None\n",
      "Tensor(\"model/branch1_predictions/sparse_categorical_crossentropy/weighted_loss/value:0\", shape=(), dtype=float32)\n",
      "375/375 [==============================] - ETA: 0s - loss: 7.2587 - softmax_loss: 0.9861 - branch1_predictions_loss: 1.0314 - branch2_predictions_loss: 1.0458 - softmax_accuracy: 0.6540 - branch1_predictions_accuracy: 0.6854 - branch2_predictions_accuracy: 0.6507Tensor(\"model/dense_6/BiasAdd:0\", shape=(128, 10), dtype=float32) Tensor(\"model/Cast:0\", shape=(128, 1), dtype=float32) None\n",
      "Tensor(\"model/branch2_predictions/sparse_categorical_crossentropy/weighted_loss/value:0\", shape=(), dtype=float32)\n",
      "Tensor(\"model/dense_3/BiasAdd:0\", shape=(128, 10), dtype=float32) Tensor(\"model/Cast:0\", shape=(128, 1), dtype=float32) None\n",
      "Tensor(\"model/branch1_predictions/sparse_categorical_crossentropy/weighted_loss/value:0\", shape=(), dtype=float32)\n",
      "375/375 [==============================] - 11s 27ms/step - loss: 7.2532 - softmax_loss: 0.9849 - branch1_predictions_loss: 1.0302 - branch2_predictions_loss: 1.0446 - softmax_accuracy: 0.6545 - branch1_predictions_accuracy: 0.6858 - branch2_predictions_accuracy: 0.6512 - val_loss: 3.1538 - val_softmax_loss: 0.2907 - val_branch1_predictions_loss: 0.2156 - val_branch2_predictions_loss: 0.2615 - val_softmax_accuracy: 0.9155 - val_branch1_predictions_accuracy: 0.9364 - val_branch2_predictions_accuracy: 0.9265\n",
      "Epoch 2/2\n",
      "375/375 [==============================] - 10s 26ms/step - loss: 3.8354 - softmax_loss: 0.3197 - branch1_predictions_loss: 0.2694 - branch2_predictions_loss: 0.3373 - softmax_accuracy: 0.9065 - branch1_predictions_accuracy: 0.9210 - branch2_predictions_accuracy: 0.9069 - val_loss: 4.3868 - val_softmax_loss: 0.2124 - val_branch1_predictions_loss: 0.2082 - val_branch2_predictions_loss: 0.2190 - val_softmax_accuracy: 0.9404 - val_branch1_predictions_accuracy: 0.9390 - val_branch2_predictions_accuracy: 0.9346\n"
     ]
    },
    {
     "data": {
      "text/plain": [
       "<tensorflow.python.keras.callbacks.History at 0x1d32d638f28>"
      ]
     },
     "execution_count": 249,
     "metadata": {},
     "output_type": "execute_result"
    }
   ],
   "source": [
    "\n",
    "model.compile(loss=\"sparse_categorical_crossentropy\", optimizer=\"adam\", metrics=[\"accuracy\"])\n",
    "data = {\"input\":train_images, \"targets\":train_labels}\n",
    "model.fit(train_ds, validation_data = validation_ds, batch_size=32, epochs=epochs )"
   ]
  },
  {
   "cell_type": "code",
   "execution_count": null,
   "metadata": {},
   "outputs": [],
   "source": [
    "score = model.evaluate(x_test, y_test, verbose=0)\n",
    "print(\"Test loss:\", score[0])\n",
    "print(\"Test accuracy:\", score[1])"
   ]
  },
  {
   "cell_type": "markdown",
   "metadata": {},
   "source": [
    "375/375 [==============================] - 10s 27ms/step - loss: 1.7662 - softmax_loss: 0.1891 - branch1_predictions_loss: 0.1604 - softmax_accuracy: 0.9477 - branch1_predictions_accuracy: 0.9510 - val_loss: 1.2677 - val_softmax_loss: 0.1185 - val_branch1_predictions_loss: 0.1081 - val_softmax_accuracy: 0.9671 - val_branch1_predictions_accuracy: 0.9670\n",
    "\n",
    "With Feature Training:\n",
    "375/375 [==============================] - 9s 24ms/step - loss: 3.3208 - softmax_loss: 0.2790 - branch1_predictions_loss: 0.4166 - softmax_accuracy: 0.9220 - branch1_predictions_accuracy: 0.9117 - val_loss: 2.7620 - val_softmax_loss: 0.1886 - val_branch1_predictions_loss: 0.2611 - val_softmax_accuracy: 0.9469 - val_branch1_predictions_accuracy: 0.9367"
   ]
  },
  {
   "cell_type": "code",
   "execution_count": null,
   "metadata": {},
   "outputs": [],
   "source": []
  }
 ],
 "metadata": {
  "kernelspec": {
   "display_name": "Python 3",
   "language": "python",
   "name": "python3"
  },
  "language_info": {
   "codemirror_mode": {
    "name": "ipython",
    "version": 3
   },
   "file_extension": ".py",
   "mimetype": "text/x-python",
   "name": "python",
   "nbconvert_exporter": "python",
   "pygments_lexer": "ipython3",
   "version": "3.6.7"
  }
 },
 "nbformat": 4,
 "nbformat_minor": 2
}
