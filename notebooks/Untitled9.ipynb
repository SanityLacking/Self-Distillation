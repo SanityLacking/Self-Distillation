{
 "cells": [
  {
   "cell_type": "code",
   "execution_count": 1,
   "id": "277cb0e2-29e7-465a-ab78-ba96ecec085b",
   "metadata": {},
   "outputs": [],
   "source": [
    "import tensorflow as tf\n",
    "import numpy as np\n",
    "import pandas as pd\n",
    "import matplotlib.pyplot as plt\n",
    "import sys\n",
    "import os\n",
    "sys.path.append(\"..\") # Adds higher directory to python modules path.\n",
    "import brevis\n",
    "from brevis import branches\n",
    "from brevis import evaluate\n"
   ]
  },
  {
   "cell_type": "code",
   "execution_count": 9,
   "id": "16deb7c9-8820-48fb-b07b-baa4fdaaf2c2",
   "metadata": {},
   "outputs": [],
   "source": [
    "# K = 10\n",
    "# def loss_fn(annealing_rate=1, momentum=1, decay=1, global_loss=False):\n",
    "#     #create a wrapper function that returns a function\n",
    "#     temperature = 1\n",
    "#     Classes = 10\n",
    "#     keras_kl = tf.keras.losses.KLDivergence()\n",
    "#     annealing_rate = annealing_rate\n",
    "#     momentum_rate = momentum\n",
    "#     decay_rate = decay\n",
    "#     def cross_entropy_evidence(labels, outputs): \n",
    "#         softmax = tf.nn.softmax(outputs)\n",
    "#         # activated_outputs =tf.keras.activations.sigmoid(softmax)\n",
    "#         evidence = softplus_evidence(outputs)\n",
    "#         alpha = evidence + 1\n",
    "#         S = tf.reduce_sum(alpha, axis=1, keepdims=True) \n",
    "#         E = alpha - 1\n",
    "#         m = alpha / S\n",
    "#         A = tf.reduce_sum((labels-m)**2, axis=1, keepdims=True) \n",
    "#         B = tf.reduce_sum(alpha*(S-alpha)/(S*S*(S+1)), axis=1, keepdims=True) \n",
    "\n",
    "#         annealing_coef = tf.minimum(1.0,tf.cast(annealing_rate,tf.float32))\n",
    "# #         annealing_coef = 1\n",
    "#         alp = E*(1-labels) + 1 \n",
    "#         # print(\"alp\", alp)\n",
    "#         C =  annealing_coef * KL(alp)\n",
    "#         # C = keras_kl(labels,evidence)\n",
    "#         loss = tf.keras.losses.categorical_crossentropy(labels, softmax)\n",
    "#         pred = tf.argmax(outputs,1)\n",
    "#         truth = tf.argmax(labels,1)\n",
    "#         match = tf.reshape(tf.cast(tf.equal(pred, truth), tf.float32),(-1,1))\n",
    "#         return loss + C\n",
    "#         # return (A + B) + C\n",
    "#     return  cross_entropy_evidence\n",
    "loss_fn = brevis.utils.evidence_crossentropy()"
   ]
  },
  {
   "cell_type": "code",
   "execution_count": 10,
   "id": "603537e8-8435-4770-95be-37da17e791c0",
   "metadata": {},
   "outputs": [
    {
     "name": "stdout",
     "output_type": "stream",
     "text": [
      "_map_graph_network\n",
      "\n",
      "preset: Other\n",
      "WARNING:tensorflow:Error in loading the saved optimizer state. As a result, your model is starting with a freshly initialized optimizer.\n",
      "_map_graph_network\n",
      "\n",
      "preset: Other\n"
     ]
    }
   ],
   "source": [
    "brevisModel = brevis.BranchModel(name=\"../models/brevis_alex_Bflat.hdf5\")\n",
    "brevisModel.compile(loss=[\"CategoricalCrossentropy\",loss_fn,loss_fn,loss_fn], optimizer=tf.optimizers.SGD(learning_rate=0.001, momentum=0.9), preset=\"\")"
   ]
  },
  {
   "cell_type": "code",
   "execution_count": 11,
   "id": "b4c342f3-5571-41f6-a4dc-1e05bf9433ff",
   "metadata": {},
   "outputs": [
    {
     "name": "stdout",
     "output_type": "stream",
     "text": [
      "augment Dataset\n",
      "targetsis : True\n",
      "adding targets to inputs\n",
      "trainSize 45000\n",
      "testSize 10000\n"
     ]
    }
   ],
   "source": [
    "train_ds, test_ds, validation_ds = brevis.dataset.prepare.dataset(tf.keras.datasets.cifar10.load_data(),32,5000,22500,(227,227),include_targets=True)"
   ]
  },
  {
   "cell_type": "code",
   "execution_count": 12,
   "id": "1b1df764-a9a0-45c2-a9c8-dbadb056a176",
   "metadata": {},
   "outputs": [
    {
     "name": "stdout",
     "output_type": "stream",
     "text": [
      "312/312 [==============================] - 22s 71ms/step - loss: 3.4742 - dense_2_loss: 0.6684 - branch_softmax_loss: 1.1531 - branch_softmax_1_loss: 0.8553 - branch_softmax_2_loss: 0.7974 - dense_2_accuracy: 0.8117 - branch_softmax_accuracy: 0.6117 - branch_softmax_1_accuracy: 0.7096 - branch_softmax_2_accuracy: 0.8062 - branch_softmax_evidence: 0.0066 - branch_softmax_mean_ev_succ: 0.0813 - branch_softmax_mean_ev_fail: 0.0419 - branch_softmax_1_evidence: 0.0100 - branch_softmax_1_mean_ev_succ: 0.1280 - branch_softmax_1_mean_ev_fail: 0.0309 - branch_softmax_2_evidence: 0.2013 - branch_softmax_2_mean_ev_succ: 2.4431 - branch_softmax_2_mean_ev_fail: 0.2079\n"
     ]
    },
    {
     "data": {
      "text/plain": [
       "[3.4741899967193604,\n",
       " 0.6683692336082458,\n",
       " 1.153076410293579,\n",
       " 0.8553193211555481,\n",
       " 0.797425389289856,\n",
       " 0.8116987347602844,\n",
       " 0.6116786599159241,\n",
       " 0.7096354365348816,\n",
       " 0.8061898946762085,\n",
       " 0.006618714891374111,\n",
       " 0.0812828317284584,\n",
       " 0.04191126674413681,\n",
       " 0.0099885119125247,\n",
       " 0.12796013057231903,\n",
       " 0.03091173991560936,\n",
       " 0.2012537270784378,\n",
       " 2.443101644515991,\n",
       " 0.20794060826301575]"
      ]
     },
     "execution_count": 12,
     "metadata": {},
     "output_type": "execute_result"
    }
   ],
   "source": [
    "brevisModel.evaluate(test_ds)"
   ]
  },
  {
   "cell_type": "code",
   "execution_count": 50,
   "id": "e663d6ea-0119-4edb-bbff-33a23e914e91",
   "metadata": {},
   "outputs": [
    {
     "name": "stdout",
     "output_type": "stream",
     "text": [
      "targetsis : True\n",
      "adding targets to inputs\n",
      "4\n",
      "[1.0044565200805664, 0.24729721248149872, 0.31445106863975525, 0.2363983392715454, 0.206309974193573, 1.0, 1.0, 1.0, 1.0, 0.002966057974845171, 0.029660580679774284, 0.0, 0.009362570010125637, 0.09362570196390152, 0.0, 0.04273209348320961, 0.4273209273815155, 0.0]\n",
      "10000ction: 9999 of 10000\n"
     ]
    }
   ],
   "source": [
    "test_set = brevis.dataset.prepare.test_set(tf.keras.datasets.cifar10.load_data(),1,(227,227),include_targets=True)\n",
    "\n",
    "stopping_point =None\n",
    "num_outputs = len(brevisModel.outputs)\n",
    "print(num_outputs)\n",
    "predictions = []\n",
    "labels = []\n",
    "pClass = []\n",
    "predictions=[]\n",
    "pEvidence = []\n",
    "pUncertainty=[]\n",
    "pOverlap=[]\n",
    "\n",
    "Outputs = pd.DataFrame()\n",
    "pAcc=[]\n",
    "for i in range(num_outputs):\n",
    "    pClass.append([])\n",
    "    predictions.append([])\n",
    "    pEvidence.append([])\n",
    "    pUncertainty.append([])\n",
    "    pAcc.append([])\n",
    "    pOverlap.append([])\n",
    "for i, (x,y) in enumerate(test_set):\n",
    "    if stopping_point and i > stopping_point:\n",
    "        break\n",
    "    print(\"prediction: {} of {}\".format(i,len(test_set)),end='\\r')\n",
    "    if True: \n",
    "        result = brevisModel.test_on_batch(x,y)\n",
    "        if i < 1:\n",
    "            print(result)\n",
    "#             print(result)\n",
    "        for j in range(num_outputs):\n",
    "            # print(\"output\",j)\n",
    "            pClass[j].append(tf.argmax(y[0]).numpy())\n",
    "#                 print(\"class\",pClass[j][i])\n",
    "            pAcc[j].append(result[j+(num_outputs)+1])  \n",
    "#                 print(\"acc\",pAcc[j][i])\n",
    "            if j ==0:\n",
    "                pEvidence[j].append(0)\n",
    "            else:\n",
    "#                     print(\"evid Number\",((num_outputs * 2)+1), \" \", ((j-1)*3))\n",
    "                pEvidence[j].append(result[((num_outputs * 2) + 1)+((j-1)*3)])\n",
    "#                 print(\"evid\",pEvidence[j][i])\n",
    "\n",
    "            pOverlap[j].append(pAcc[0][i] - pAcc[j][i])\n",
    "#                 print(\"overlap\",pOverlap[j][i])\n",
    "    \n",
    "    '''\n",
    "    overlap\n",
    "    if zero, both match, if else they don't match\n",
    "    TT 1-1 =0\n",
    "    TF 1-0 =1\n",
    "\n",
    "    FT 0-1 = -1\n",
    "    FF 0-0 =0\n",
    "\n",
    "    '''\n",
    "Outputs=[]\n",
    "for j in range(num_outputs):\n",
    "    Predictions = pd.DataFrame({\"label\":pClass[j],\"evidence\":pEvidence[j],\"Acc\":pAcc[j], \"overlap\":pOverlap[j]})\n",
    "    Outputs.append(Predictions)\n",
    "print(len(Outputs[1]))"
   ]
  },
  {
   "cell_type": "code",
   "execution_count": 52,
   "id": "c8561dd1-254e-470e-ad42-3bd1054f17cd",
   "metadata": {},
   "outputs": [
    {
     "name": "stdout",
     "output_type": "stream",
     "text": [
      "     label  evidence  overlap\n",
      "Acc                          \n",
      "0.0   1883      1883     1883\n",
      "1.0   8117      8117     8117\n",
      "     label  evidence  overlap\n",
      "Acc                          \n",
      "0.0   3886      3886     3886\n",
      "1.0   6114      6114     6114\n",
      "     label  evidence  overlap\n",
      "Acc                          \n",
      "0.0   2906      2906     2906\n",
      "1.0   7094      7094     7094\n",
      "     label  evidence  overlap\n",
      "Acc                          \n",
      "0.0   1939      1939     1939\n",
      "1.0   8061      8061     8061\n"
     ]
    }
   ],
   "source": [
    "# print(Outputs)\n",
    "# for i in range(5):\n",
    "# print(Outputs[1])\n",
    "print(Outputs[0].groupby('Acc').count())\n",
    "print(Outputs[1].groupby('Acc').count())\n",
    "print(Outputs[2].groupby('Acc').count())\n",
    "print(Outputs[3].groupby('Acc').count())\n",
    "# print(Outputs[4].groupby('Acc').count())\n",
    "\n",
    "\n"
   ]
  },
  {
   "cell_type": "code",
   "execution_count": 70,
   "id": "79524baf-4c86-41e2-8a8f-be3d640ffd61",
   "metadata": {},
   "outputs": [
    {
     "name": "stdout",
     "output_type": "stream",
     "text": [
      "0.0\n",
      "Accuracy 0.8117\n",
      "Accepted 10000\n",
      "Rejected 0\n",
      "0.01205414801339648\n",
      "Accuracy 0.7542441390460792\n",
      "Accepted 1237\n",
      "Rejected 8763\n",
      "0.00878253051121819\n",
      "Accuracy 0.8949089210649229\n",
      "Accepted 2141\n",
      "Rejected 7859\n",
      "0.07322921868124949\n",
      "Accuracy 0.9727157360406091\n",
      "Accepted 4728\n",
      "Rejected 5272\n"
     ]
    }
   ],
   "source": [
    "\n",
    "for i, Predictions in enumerate(Outputs):\n",
    "    mean = Predictions.loc[(Predictions['Acc'] == False)].groupby(\"Acc\")[\"evidence\"].mean().iloc[0]\n",
    "    # print(\"mean\",mean)\n",
    "    std = Predictions.loc[(Predictions['Acc'] == False)].groupby(\"Acc\")[\"evidence\"].std().iloc[0]\n",
    "    # print(\"std\",std)\n",
    "    threshold = mean + std\n",
    "    \n",
    "    print(threshold)\n",
    "    Accuracy = len(Predictions.loc[(Predictions[\"evidence\"] >= threshold) &  (Predictions['Acc'] == True)]) / len(Predictions.loc[(Predictions[\"evidence\"] >= threshold)])\n",
    "    Accepted = Predictions.loc[(Predictions[\"evidence\"] >= threshold)]\n",
    "    Rejected = Predictions.loc[(Predictions[\"evidence\"] < threshold)]\n",
    "    print(\"Accuracy\", Accuracy)\n",
    "    print(\"Accepted\", len(Accepted))\n",
    "    print(\"Rejected\", len(Rejected))\n",
    "    \n"
   ]
  },
  {
   "cell_type": "code",
   "execution_count": null,
   "id": "f55307d9-b5d0-4436-a049-4fe0cfac19ee",
   "metadata": {},
   "outputs": [],
   "source": []
  },
  {
   "cell_type": "code",
   "execution_count": null,
   "id": "16858dc5-ae96-43f9-a4bb-dc2e024422b7",
   "metadata": {},
   "outputs": [],
   "source": []
  },
  {
   "cell_type": "code",
   "execution_count": 27,
   "id": "06077ba8-d9bd-4484-99d0-1938bb59ff1f",
   "metadata": {},
   "outputs": [
    {
     "name": "stdout",
     "output_type": "stream",
     "text": [
      "10000/10000 [==============================] - 758s 76ms/step - loss: 3.4740 - dense_2_loss: 0.6682 - branch_softmax_loss: 1.1530 - branch_softmax_1_loss: 0.8557 - branch_softmax_2_loss: 0.7971 - dense_2_accuracy: 0.8117 - branch_softmax_accuracy: 0.6114 - branch_softmax_1_accuracy: 0.7094 - branch_softmax_2_accuracy: 0.8061 - branch_softmax_evidence: 0.0066 - branch_softmax_mean_ev_succ: 0.0499 - branch_softmax_mean_ev_fail: 0.0163 - branch_softmax_1_evidence: 0.0100 - branch_softmax_1_mean_ev_succ: 0.0908 - branch_softmax_1_mean_ev_fail: 0.0091 - branch_softmax_2_evidence: 0.2012 - branch_softmax_2_mean_ev_succ: 1.9725 - branch_softmax_2_mean_ev_fail: 0.0393\n"
     ]
    },
    {
     "data": {
      "text/plain": [
       "[3.4740288257598877,\n",
       " 0.6682007312774658,\n",
       " 1.1530203819274902,\n",
       " 0.8556945323944092,\n",
       " 0.7971065640449524,\n",
       " 0.8116999864578247,\n",
       " 0.6114000082015991,\n",
       " 0.7093999981880188,\n",
       " 0.8061000108718872,\n",
       " 0.0066134571097791195,\n",
       " 0.04986374452710152,\n",
       " 0.016270719468593597,\n",
       " 0.009982521645724773,\n",
       " 0.090774305164814,\n",
       " 0.009051105938851833,\n",
       " 0.20118005573749542,\n",
       " 1.9724615812301636,\n",
       " 0.039336394518613815]"
      ]
     },
     "execution_count": 27,
     "metadata": {},
     "output_type": "execute_result"
    }
   ],
   "source": [
    "brevisModel.evaluate(test_set)"
   ]
  },
  {
   "cell_type": "code",
   "execution_count": 13,
   "id": "6bad33b2-9897-441e-b9d3-6ebaf339d865",
   "metadata": {},
   "outputs": [
    {
     "name": "stdout",
     "output_type": "stream",
     "text": [
      "targetsis : True\n",
      "adding targets to inputs\n",
      "outputs 4\n",
      "[1.0044565200805664, 0.24729721248149872, 0.31445106863975525, 0.2363983392715454, 0.206309974193573, 1.0, 1.0, 1.0, 1.0, 0.002966057974845171, 0.029660580679774284, 0.0, 0.009362570010125637, 0.09362570196390152, 0.0, 0.04273209348320961, 0.4273209273815155, 0.0]\n",
      "[0.42847132682800293, 0.03387385606765747, 0.038467489182949066, 0.06505706906318665, 0.29107290506362915, 1.0, 1.0, 1.0, 1.0, 0.003420871216803789, 0.03420871123671532, 0.0, 0.0012019594432786107, 0.012019594199955463, 0.0, 0.014800223521888256, 0.1480022370815277, 0.0]\n",
      "Doneiction: 9999 of 10000\n",
      "      label  evidence  Acc  overlap\n",
      "0         3         0  1.0      0.0\n",
      "1         8         0  1.0      0.0\n",
      "2         8         0  0.0      0.0\n",
      "3         0         0  1.0      0.0\n",
      "4         6         0  1.0      0.0\n",
      "...     ...       ...  ...      ...\n",
      "9995      8         0  1.0      0.0\n",
      "9996      3         0  0.0      0.0\n",
      "9997      5         0  1.0      0.0\n",
      "9998      1         0  1.0      0.0\n",
      "9999      7         0  1.0      0.0\n",
      "\n",
      "[10000 rows x 4 columns]\n",
      "      label  evidence  Acc  overlap\n",
      "0         3  0.002966  1.0      0.0\n",
      "1         8  0.003421  1.0      0.0\n",
      "2         8  0.012931  0.0      0.0\n",
      "3         0  0.004787  1.0      0.0\n",
      "4         6  0.012468  0.0      1.0\n",
      "...     ...       ...  ...      ...\n",
      "9995      8  0.003613  0.0      1.0\n",
      "9996      3  0.002980  0.0      0.0\n",
      "9997      5  0.000017  1.0      0.0\n",
      "9998      1  0.001589  0.0      1.0\n",
      "9999      7  0.004345  1.0      0.0\n",
      "\n",
      "[10000 rows x 4 columns]\n",
      "      label  evidence  Acc  overlap\n",
      "0         3  0.009363  1.0      0.0\n",
      "1         8  0.001202  1.0      0.0\n",
      "2         8  0.000694  0.0      0.0\n",
      "3         0  0.000273  1.0      0.0\n",
      "4         6  0.000140  1.0      0.0\n",
      "...     ...       ...  ...      ...\n",
      "9995      8  0.002443  0.0      1.0\n",
      "9996      3  0.001373  0.0      0.0\n",
      "9997      5  0.001344  1.0      0.0\n",
      "9998      1  0.000014  0.0      1.0\n",
      "9999      7  0.035630  1.0      0.0\n",
      "\n",
      "[10000 rows x 4 columns]\n",
      "      label  evidence  Acc  overlap\n",
      "0         3  0.042732  1.0      0.0\n",
      "1         8  0.014800  1.0      0.0\n",
      "2         8  0.001199  0.0      0.0\n",
      "3         0  0.094376  1.0      0.0\n",
      "4         6  0.003535  1.0      0.0\n",
      "...     ...       ...  ...      ...\n",
      "9995      8  0.000952  1.0      0.0\n",
      "9996      3  0.000890  0.0      0.0\n",
      "9997      5  0.207973  1.0      0.0\n",
      "9998      1  0.002109  1.0      0.0\n",
      "9999      7  0.739164  1.0      0.0\n",
      "\n",
      "[10000 rows x 4 columns]\n"
     ]
    },
    {
     "data": {
      "text/plain": [
       "{'dense_2/Softmax:0': 0.0,\n",
       " 'branch_softmax/MatMul:0': -0.003680132983169616,\n",
       " 'branch_softmax_1/MatMul:0': -0.0025532800891417675,\n",
       " 'branch_softmax_2/MatMul:0': -0.03265532713135014}"
      ]
     },
     "execution_count": 13,
     "metadata": {},
     "output_type": "execute_result"
    }
   ],
   "source": [
    "test_set = brevis.dataset.prepare.test_set(tf.keras.datasets.cifar10.load_data(),1,(227,227),include_targets=True)\n",
    "thresholds = brevisModel.evaluate_branch_thresholds(test_set)\n",
    "thresholds"
   ]
  },
  {
   "cell_type": "code",
   "execution_count": 1,
   "id": "b1199fe5-0585-465f-b7c1-b0bb09fb2039",
   "metadata": {},
   "outputs": [
    {
     "name": "stdout",
     "output_type": "stream",
     "text": [
      "_map_graph_network\n",
      "\n",
      "preset: Other\n",
      "WARNING:tensorflow:Error in loading the saved optimizer state. As a result, your model is starting with a freshly initialized optimizer.\n",
      "_map_graph_network\n",
      "\n",
      "preset: Other\n",
      "targetsis : True\n",
      "adding targets to inputs\n",
      "branch_softmax\n",
      "0.01205414801339648\n",
      "branch_softmax_1\n",
      "0.00878253051121819\n",
      "branch_softmax_2\n",
      "0.07322921868124949\n"
     ]
    }
   ],
   "source": [
    "import tensorflow as tf\n",
    "import numpy as np\n",
    "import pandas as pd\n",
    "import matplotlib.pyplot as plt\n",
    "import sys\n",
    "import os\n",
    "sys.path.append(\"..\") # Adds higher directory to python modules path.\n",
    "import brevis\n",
    "from brevis import branches\n",
    "from brevis import evaluate\n",
    "loss_fn = brevis.utils.evidence_crossentropy()\n",
    "brevisModel = brevis.BranchModel(name=\"../models/brevis_alex_Bflat.hdf5\")\n",
    "# brevisModel.summary()\n",
    "brevisModel.compile(loss=[\"CategoricalCrossentropy\",loss_fn,loss_fn,loss_fn], optimizer=tf.optimizers.SGD(learning_rate=0.001, momentum=0.9), preset=\"\")\n",
    "test_set = brevis.dataset.prepare.test_set(tf.keras.datasets.cifar10.load_data(),1,(227,227),include_targets=True)\n",
    "\n",
    "# print(thresholds)\n",
    "thresholds={}\n",
    "thresholds['branch_softmax/MatMul:0']= 0.01205414801339648\n",
    "thresholds['branch_softmax_1/MatMul:0']=    0.00878253051121819      \n",
    "thresholds['branch_softmax_2/MatMul:0']=   0.07322921868124949       \n",
    "for layer in brevisModel.layers:\n",
    "    if issubclass(type(layer),brevis.branches.branch.BranchEndpoint): ## check if the layer is a branch endpoint or subclass\n",
    "        for key in thresholds.keys():\n",
    "            if layer.name+'/' in key:\n",
    "                print (layer.name)\n",
    "                layer.threshold = thresholds[key]\n",
    "        print(layer.threshold)\n"
   ]
  },
  {
   "cell_type": "code",
   "execution_count": 2,
   "id": "463ccbcb-7916-46ad-b0d4-2d26d8051518",
   "metadata": {},
   "outputs": [
    {
     "name": "stdout",
     "output_type": "stream",
     "text": [
      "branch_softmax :  True\n",
      "branch_softmax_1 :  True\n",
      "branch_softmax_2 :  True\n"
     ]
    }
   ],
   "source": [
    "brevisModel.set_branchExits(True)"
   ]
  },
  {
   "cell_type": "code",
   "execution_count": 3,
   "id": "91816e39-4951-4a51-a186-de08e4b52776",
   "metadata": {},
   "outputs": [
    {
     "name": "stdout",
     "output_type": "stream",
     "text": [
      "_map_graph_network\n",
      "conv2d_1 :  18   input_2 :  19\n",
      "batch_normalization :  17   conv2d_1 :  18\n",
      "max_pooling2d :  16   batch_normalization :  17\n",
      "conv2d_2 :  15   max_pooling2d :  16\n",
      "batch_normalization_1 :  14   conv2d_2 :  15\n",
      "max_pooling2d_1 :  13   batch_normalization_1 :  14\n",
      "conv2d_3 :  12   max_pooling2d_1 :  13\n",
      "batch_normalization_2 :  11   conv2d_3 :  12\n",
      "conv2d_4 :  10   batch_normalization_2 :  11\n",
      "batch_normalization_3 :  9   conv2d_4 :  10\n",
      "conv2d_5 :  8   batch_normalization_3 :  9\n",
      "batch_normalization_4 :  7   conv2d_5 :  8\n",
      "max_pooling2d_2 :  6   batch_normalization_4 :  7\n",
      "flatten :  5   max_pooling2d_2 :  6\n",
      "dense :  4   flatten :  5\n",
      "dropout :  3   dense :  4\n",
      "dense_1 :  2   dropout :  3\n",
      "dropout_1 :  1   dense_1 :  2\n",
      "dense_2 :  0   dropout_1 :  1\n",
      "branch_flatten :  15   max_pooling2d :  16\n",
      "branch124 :  14   branch_flatten :  15\n",
      "branch64 :  13   branch124 :  14\n",
      "branch_softmax :  12   branch64 :  13\n",
      "branch_softmax :  12   targets :  1\n",
      "branch_flatten_1 :  12   max_pooling2d_1 :  13\n",
      "branch124_1 :  11   branch_flatten_1 :  12\n",
      "branch64_1 :  10   branch124_1 :  11\n",
      "branch_softmax_1 :  9   branch64_1 :  10\n",
      "branch_softmax_1 :  9   targets :  1\n",
      "branch_flatten_2 :  3   dense :  4\n",
      "branch124_2 :  2   branch_flatten_2 :  3\n",
      "branch64_2 :  1   branch124_2 :  2\n",
      "branch_softmax_2 :  0   branch64_2 :  1\n",
      "branch_softmax_2 :  0   targets :  1\n"
     ]
    }
   ],
   "source": [
    "# brevisModel._map_graph_network(brevisModel.inputs, brevisModel.outputs)"
   ]
  },
  {
   "cell_type": "markdown",
   "id": "14b01618-f764-4b1f-ae49-5cc53df26700",
   "metadata": {},
   "source": [
    "x = test_set.take(1)"
   ]
  },
  {
   "cell_type": "code",
   "execution_count": 9,
   "id": "8dcedf2d-a7cc-4e97-b4c6-9ea9e3374e18",
   "metadata": {},
   "outputs": [
    {
     "name": "stdout",
     "output_type": "stream",
     "text": [
      "branch_softmax_1 :  True\n"
     ]
    }
   ],
   "source": [
    "brevisModel.set_branchExits(True,['branch_softmax_1'])\n"
   ]
  },
  {
   "cell_type": "code",
   "execution_count": 10,
   "id": "e733f278-fa15-4b7d-9c4f-9101f69bb25b",
   "metadata": {},
   "outputs": [
    {
     "name": "stdout",
     "output_type": "stream",
     "text": [
      "input_2\n",
      "conv2d_1\n",
      "batch_normalization\n",
      "max_pooling2d\n",
      "branch_flatten\n",
      "conv2d_2\n",
      "branch124\n",
      "batch_normalization_1\n",
      "max_pooling2d_1\n",
      "branch64\n",
      "branch_flatten_1\n",
      "branch_softmax\n",
      "conv2d_3\n",
      "branch124_1\n",
      "batch_normalization_2\n",
      "branch64_1\n",
      "conv2d_4\n",
      "branch_softmax_1\n",
      "[array([[0., 0., 0., 0., 0., 0., 0., 0., 0., 0.]], dtype=float32), array([[0., 0., 0., 0., 0., 0., 0., 0., 0., 0.]], dtype=float32), [array([[-10.740568 , -11.373923 ,  -8.842008 ,  -2.5738642,  -7.490037 ,\n",
      "         -4.0288725,  -6.646391 ,  -9.881697 ,  -8.233668 ,  -8.719537 ]],\n",
      "      dtype=float32)], array([[0., 0., 0., 0., 0., 0., 0., 0., 0., 0.]], dtype=float32)]\n"
     ]
    }
   ],
   "source": [
    "# %%timeit\n",
    "# print(x)\n",
    "for i, data in enumerate(x):\n",
    "    results = brevisModel.predict(data[0])\n",
    "    print(results)\n",
    "    # print(tf.argmax(results[0]))"
   ]
  },
  {
   "cell_type": "code",
   "execution_count": 24,
   "id": "ab7eabe7-c53f-4076-a6b9-abd4bafe2571",
   "metadata": {},
   "outputs": [
    {
     "name": "stdout",
     "output_type": "stream",
     "text": [
      "branch_softmax :  False\n",
      "branch_softmax_1 :  False\n",
      "branch_softmax_2 :  False\n"
     ]
    }
   ],
   "source": [
    "brevisModel.set_branchExits(False)\n"
   ]
  },
  {
   "cell_type": "code",
   "execution_count": 25,
   "id": "623b8502-ae00-4d0f-904d-ea2683e70a76",
   "metadata": {},
   "outputs": [
    {
     "name": "stdout",
     "output_type": "stream",
     "text": [
      "6.09 s ± 271 ms per loop (mean ± std. dev. of 7 runs, 1 loop each)\n"
     ]
    }
   ],
   "source": [
    "%%timeit\n",
    "# print(x)\n",
    "for i, data in enumerate(x):\n",
    "    results = brevisModel.predict(data[0])\n",
    "    # print(results)\n",
    "    # print(tf.argmax(results[0]))"
   ]
  },
  {
   "cell_type": "code",
   "execution_count": 23,
   "id": "57b40826-bcb9-4228-bba3-036bf4b67315",
   "metadata": {},
   "outputs": [
    {
     "data": {
      "text/plain": [
       "3"
      ]
     },
     "execution_count": 23,
     "metadata": {},
     "output_type": "execute_result"
    }
   ],
   "source": [
    "np.argmax(x[1])"
   ]
  },
  {
   "cell_type": "code",
   "execution_count": 22,
   "id": "5d617a5a-7061-47b1-8497-1418f6788888",
   "metadata": {},
   "outputs": [
    {
     "name": "stdout",
     "output_type": "stream",
     "text": [
      "0\n",
      "3\n",
      "0\n",
      "0\n"
     ]
    }
   ],
   "source": [
    "for i in results:\n",
    "    print(np.argmax(i))"
   ]
  },
  {
   "cell_type": "code",
   "execution_count": null,
   "id": "dfe24879-754f-4d61-81ab-95a39642cd35",
   "metadata": {},
   "outputs": [],
   "source": []
  }
 ],
 "metadata": {
  "kernelspec": {
   "display_name": "py36",
   "language": "python",
   "name": "py36"
  },
  "language_info": {
   "codemirror_mode": {
    "name": "ipython",
    "version": 3
   },
   "file_extension": ".py",
   "mimetype": "text/x-python",
   "name": "python",
   "nbconvert_exporter": "python",
   "pygments_lexer": "ipython3",
   "version": "3.7.11"
  }
 },
 "nbformat": 4,
 "nbformat_minor": 5
}
