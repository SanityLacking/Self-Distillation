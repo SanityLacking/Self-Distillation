{
 "cells": [
  {
   "cell_type": "markdown",
   "metadata": {},
   "source": [
    "## Self Distillation test"
   ]
  },
  {
   "cell_type": "code",
   "execution_count": 1,
   "metadata": {},
   "outputs": [],
   "source": [
    "import tensorflow as tf\n",
    "import keras\n",
    "from keras import layers\n",
    "import numpy as np\n",
    "import pandas as pd\n",
    "import matplotlib.pyplot as plt\n",
    "import sys\n",
    "import os\n",
    "sys.path.append(\"..\") # Adds higher directory to python modules path.\n",
    "\n",
    "import branching\n",
    "\n",
    "from branching import branches\n",
    "from branching import evaluate\n",
    "\n",
    "# branching.enable_neptune(False)\n"
   ]
  },
  {
   "cell_type": "code",
   "execution_count": 2,
   "metadata": {},
   "outputs": [
    {
     "name": "stdout",
     "output_type": "stream",
     "text": [
      "augment Dataset\n",
      "targetsis : False\n",
      "trainSize 45000\n",
      "testSize 10000\n"
     ]
    }
   ],
   "source": [
    "train_ds, test_ds, validation_ds = branching.dataset.prepare.dataset(tf.keras.datasets.cifar10.load_data(),32,5000,shuffle_size=15000,input_size=(32,32),include_targets=False,num_outputs = 10,reshuffle=True)"
   ]
  },
  {
   "cell_type": "code",
   "execution_count": 3,
   "metadata": {},
   "outputs": [
    {
     "name": "stdout",
     "output_type": "stream",
     "text": [
      "augment Dataset\n",
      "targetsis : False\n",
      "trainSize 45000\n",
      "testSize 10000\n"
     ]
    }
   ],
   "source": [
    "train_ds100, test_ds100, validation_ds100 = branching.dataset.prepare.dataset(tf.keras.datasets.cifar100.load_data(),32,5000,shuffle_size=15000,input_size=(32,32),include_targets=False,num_outputs = 100,reshuffle=True)"
   ]
  },
  {
   "cell_type": "markdown",
   "metadata": {},
   "source": [
    "### Define the Branch Model. this is a subclass of the standard Keras model and can do all the normal things"
   ]
  },
  {
   "cell_type": "code",
   "execution_count": 4,
   "metadata": {},
   "outputs": [],
   "source": [
    "class BranchModel(tf.keras.Model):\n",
    "    '''\n",
    "    Branched model sub-class. \n",
    "    Acts as a drop in replacement keras model class, with the additional functionality of adding branches to the model.\n",
    "            \n",
    "    '''\n",
    "    def __init__(self, inputs=None, outputs=None, name=\"\", model=None, transfer=True,custom_objects={}):\n",
    "        ## add default custom objects to the custom objects dictionary, this saves having to define them everytime.\n",
    "        custom_objects = {**branching.default_custom_objects,**custom_objects} \n",
    "        if inputs  is None and model is None and name is not \"\":\n",
    "            model = tf.keras.models.load_model(name,custom_objects=custom_objects)\n",
    "            self.saveLocation = name\n",
    "            super(BranchModel, self).__init__(inputs = model.inputs, outputs=model.outputs,name=model.name)            \n",
    "        elif model is None:\n",
    "            super(BranchModel, self).__init__(inputs = inputs, outputs=outputs,name=name)\n",
    "        elif model is not None:\n",
    "            super(BranchModel, self).__init__(inputs = model.inputs, outputs=model.outputs,name=name)\n",
    "        self.transfer = transfer\n",
    "        self.custom_objects = custom_objects\n",
    "        ##remap the depths of the layers to match the desired layout for branching\n",
    "        # self._map_graph_network(self.inputs,self.outputs, True)\n",
    "        self.branch_active = False\n",
    "   \n",
    "    def _run_internal_graph(self, inputs, training=None, mask=None):\n",
    "        \"\"\"custom version of _run_internal_graph\n",
    "            used to allow for interuption of the graph by an internal layer if conditions are met.\n",
    "        Computes output tensors for new inputs.\n",
    "        Args:\n",
    "            inputs: Tensor or nested structure of Tensors.\n",
    "            training: Boolean learning phase.\n",
    "            mask: (Optional) Tensor or nested structure of Tensors.\n",
    "\n",
    "        Returns:\n",
    "            output_tensors\n",
    "        \"\"\"\n",
    "        inputs = self._flatten_to_reference_inputs(inputs)\n",
    "        if mask is None:\n",
    "            masks = [None] * len(inputs)\n",
    "        else:\n",
    "            masks = self._flatten_to_reference_inputs(mask)\n",
    "        for input_t, mask in zip(inputs, masks):\n",
    "            input_t._keras_mask = mask\n",
    "\n",
    "        # Dictionary mapping reference tensors to computed tensors.\n",
    "        tensor_dict = {}\n",
    "        tensor_usage_count = self._tensor_usage_count\n",
    "        for x, y in zip(self.inputs, inputs):\n",
    "            y = self._conform_to_reference_input(y, ref_input=x)\n",
    "            x_id = str(id(x))\n",
    "            tensor_dict[x_id] = [y] * tensor_usage_count[x_id]\n",
    "\n",
    "        nodes_by_depth = self._nodes_by_depth\n",
    "        depth_keys = list(nodes_by_depth.keys())\n",
    "        depth_keys.sort(reverse=True)\n",
    "    \n",
    "        for depth in depth_keys:\n",
    "            nodes = nodes_by_depth[depth]\n",
    "            for node in nodes:\n",
    "                # print(node.layer.name)\n",
    "                if node.is_input:\n",
    "                    continue  # Input tensors already exist.\n",
    "\n",
    "                if any(t_id not in tensor_dict for t_id in node.flat_input_ids):\n",
    "                    continue  # Node is not computable, try skipping.\n",
    "\n",
    "                args, kwargs = node.map_arguments(tensor_dict)\n",
    "                outputs = node.layer(*args, **kwargs)\n",
    "                # Update tensor_dict.\n",
    "                for x_id, y in zip(node.flat_output_ids, nest.flatten(outputs)):\n",
    "                    tensor_dict[x_id] = [y] * tensor_usage_count[x_id]\n",
    "                \n",
    "                ## check if branch exiting is turned on and if current layer is a potential exit.\n",
    "                # print(node.layer.name, hasattr(node.layer, 'branch_exit'))\n",
    "                if not training:\n",
    "                    if self.branch_active == True and hasattr(node.layer, 'branch_exit'):  \n",
    "                        ## check if the confidence of output of the layer is equal to or above the threshold hyperparameter\n",
    "                        # print(\"threshold: \", node.layer.threshold, \"evidence: \", tf.reduce_sum(node.layer.evidence(outputs)))\n",
    "                        if node.layer.branch_exit and (tf.reduce_sum(node.layer.evidence(outputs)) >= node.layer.confidence_threshold): ##check if current layer's exit is active\n",
    "                            # print(\"branch exit activated\")\n",
    "                            output_tensors = []\n",
    "                            for x_id, y in zip(node.flat_output_ids, nest.flatten(outputs)):\n",
    "                                for x in self.outputs:\n",
    "                                    output_id = str(id(x))  \n",
    "                                    if output_id == x_id:\n",
    "                                        output_tensors.append(tensor_dict[x_id])\n",
    "                                    else:\n",
    "                                        # print(tensor_dict[x_id][0].shape)\n",
    "                                        output_tensors.append(tf.zeros(tensor_dict[x_id][0].shape))\n",
    "                                    # x_id_output = str(id(x))\n",
    "                                    # assert x_id in tensor_dict, 'Could not compute output ' + str(x)\n",
    "                                    # output_tensors.append(tensor_dict[x_id])\n",
    "\n",
    "                            return nest.pack_sequence_as(self._nested_outputs, output_tensors)\n",
    "        output_tensors = []\n",
    "        for x in self.outputs:\n",
    "            x_id = str(id(x))\n",
    "            assert x_id in tensor_dict, 'Could not compute output ' + str(x)\n",
    "            output_tensors.append(tensor_dict[x_id].pop())\n",
    "\n",
    "        return nest.pack_sequence_as(self._nested_outputs, output_tensors)\n",
    "\n",
    "    def add_branches(self,branchName, branchPoints=[], exact = True, target_input = False, compact = False, loop=True,num_outputs=10):\n",
    "        if len(branchPoints) == 0:\n",
    "            return\n",
    "        # [\"max_pooling2d\",\"max_pooling2d_1\",\"dense\"]\n",
    "        # branch.newBranch_flatten\n",
    "        if loop:\n",
    "            newModel = branch.add_loop(self,branchName, branchPoints,exact=exact, target_input = target_input, compact = compact,num_outputs=num_outputs)\n",
    "        else:\n",
    "            newModel = branch.add(self,branchName,branchPoints, exact=exact, target_input = target_input, compact = compact,num_outputs=num_outputs)\n",
    "        print(\"branch added\", newModel)\n",
    "        self.__dict__.update(newModel.__dict__)\n",
    "\n",
    "        return self\n",
    "\n",
    "#     def compile(self, loss, optimizer, metrics=['accuracy'], run_eagerly=True, preset=\"\",**kwargs):\n",
    "#         ''' compile the model with custom options, either ones provided here or ones already set'''\n",
    "\n",
    "#         # if preset == \"\":\n",
    "#             # preset = self.customOptions\n",
    "#         print(preset)\n",
    "#         if preset == \"customLoss\": \n",
    "#             print(\"preset: customLoss\")\n",
    "#             loss_fn = evidence_crossentropy()\n",
    "#             super().compile(loss=loss_fn, optimizer=tf.optimizers.SGD(learning_rate=0.001,momentum=0.9), metrics=['accuracy'],run_eagerly=True,**kwargs)\n",
    "#         elif preset == \"customLoss_onehot\": \n",
    "#             print(\"preset: CrossE_onehot\")\n",
    "#             super().compile( loss={\"dense_2\":keras.losses.CategoricalCrossentropy(from_logits=True)}, optimizer=tf.optimizers.SGD(learning_rate=0.01,momentum=0.9), metrics=['accuracy'],run_eagerly=True,**kwargs)\n",
    "\n",
    "#         elif preset == \"CrossE\": \n",
    "#             print(\"preset: CrossE\")\n",
    "#             super().compile( loss =tf.keras.losses.CategoricalCrossentropy(), optimizer=tf.optimizers.SGD(learning_rate=0.01,momentum=0.9), metrics=['accuracy'],run_eagerly=True,**kwargs)\n",
    "\n",
    "#         elif preset == \"CrossE_Eadd\":\n",
    "#             print(\"preset: CrossE_Eadd\")\n",
    "#             entropyAdd = entropyAddition_loss()\n",
    "#             super().compile( optimizer=tf.optimizers.SGD(learning_rate=0.01,momentum=0.9,clipvalue=0.5), loss=[keras.losses.SparseCategoricalCrossentropy(),entropyAdd,entropyAdd,entropyAdd], metrics=['accuracy',confidenceScore, unconfidence],run_eagerly=True,**kwargs)\n",
    "#             # model.compile(optimizer=tf.optimizers.SGD(learning_rate=0.001), loss=[crossE_test, entropyAdd, entropyAdd, entropyAdd], metrics=['accuracy',confidenceScore, unconfidence],run_eagerly=True)\n",
    "#         else:\n",
    "#             print(\"preset: Other\")\n",
    "#         # model.compile(loss=entropyAddition, optimizer=tf.optimizers.SGD(learning_rate=0.001), metrics=['accuracy'],run_eagerly=True)\n",
    "#             super().compile(loss=loss, optimizer=optimizer, metrics=['accuracy'], **kwargs)\n",
    "\n",
    "    def setTrainable(self,trainable):\n",
    "        \"\"\" sets the trainable status of all main path layers in the model\"\"\"\n",
    "        if trainable == True: \n",
    "            print(\"Freezing Main Layers and setting branch layers training to true\")\n",
    "            for i in range(len(self.layers)):\n",
    "                # print(model.layers[i].name)\n",
    "                if \"branch\" in self.layers[i].name:\n",
    "                    # print(\"setting \",self.layers[i].name,\" training to true\")\n",
    "                    self.layers[i].trainable = True\n",
    "                else: \n",
    "                    # print(\"setting \",self.layers[i].name,\" training to false\")\n",
    "                    self.layers[i].trainable = False               \n",
    "        else:\n",
    "            print(\"Setting Main Layers  and branch layers training to true\")\n",
    "            for i in range(len(self.layers)):\n",
    "                # print(model.layers[i].name)\n",
    "                self.layers[i].trainable = True\n",
    "                # print(\"setting \",self.layers[i].name,\" training to true\")\n",
    "\n",
    "\n",
    "    def fit(self, train_ds, validation_data=None, epochs=1, callbacks=[], saveName = \"\", transfer = False, customOptions=\"\"):\n",
    "        \"\"\"Train the model that is passed using transfer learning. This function expects a model with trained main branches and untrained (or randomized) side branches.\n",
    "    \"\"\"\n",
    "        logs = []\n",
    "        num_outputs = len(self.outputs) # the number of output layers for the purpose of providing labels\n",
    "        #Freeze main branch layers\n",
    "        #how to iterate through layers and find main branch ones?\n",
    "        #simple fix for now: all branch nodes get branch in name.\n",
    "        self.setTrainable(transfer)\n",
    "        run_logdir = get_run_logdir(self.name)\n",
    "        tensorboard_cb = keras.callbacks.TensorBoard(run_logdir)\n",
    "        if saveName ==\"\":\n",
    "            newModelName = \"{}_branched\".format(self.name )\n",
    "        else:\n",
    "            newModelName = saveName\n",
    "        checkpoint = keras.callbacks.ModelCheckpoint(\"models/{}\".format(newModelName), monitor='val_loss', verbose=1, mode='max')\n",
    "\n",
    "        history =super().fit(train_ds,\n",
    "                epochs=epochs,\n",
    "                validation_data=validation_data,\n",
    "                validation_freq=1,\n",
    "                callbacks=[tensorboard_cb]+callbacks)\n",
    "        return self\n",
    "\n",
    "### the distill version of the branch model\n",
    "    \n",
    "class distilled_branch_model(BranchModel):\n",
    "    def __init__(self, modelName=\"\",saveName=\"\",transfer=True,customOptions=\"\") -> None:\n",
    "        self.modelName=modelName\n",
    "        self.saveName=saveName\n",
    "        self.transfer=transfer\n",
    "        self.customOptions=customOptions\n",
    "        self.model = tf.keras.models.load_model(\"{}\".format(modelName))\n",
    "        self.branchName = \"\"\n",
    "        self.dataset =\"\"\n",
    "        return None\n",
    "\n",
    "    def add_branches(self,branchName, branchPoints=[], exact = True, target_input = False):\n",
    "        if len(branchPoints) == 0:\n",
    "            return\n",
    "        self.model = branch.add(self.model,branchPoints,branchName, exact=exact, target_input = target_input)\n",
    "        print(self)\n",
    "        return self\n",
    "\n",
    "    def add_distill(self,branchName, branchPoints, teacher_softmax, teaching_features, exact = True, target_input = False):\n",
    "        if len(branchPoints) == 0:\n",
    "            return\n",
    "        self.model = branch.add_distil(self.model, teacher_softmax, teaching_features, branchPoints,branchName, exact=exact, target_input = target_input)\n",
    "        print(self)\n",
    "        return self"
   ]
  },
  {
   "cell_type": "markdown",
   "metadata": {},
   "source": [
    "### define some functions for report the results after the training is done"
   ]
  },
  {
   "cell_type": "code",
   "execution_count": 7,
   "metadata": {},
   "outputs": [],
   "source": []
  },
  {
   "cell_type": "markdown",
   "metadata": {},
   "source": [
    "### Load the Datasets\n",
    "<hr>\n",
    "validation set is for eval during training, testing set is for eval after training"
   ]
  },
  {
   "cell_type": "markdown",
   "metadata": {},
   "source": [
    "### make the loss function"
   ]
  },
  {
   "cell_type": "code",
   "execution_count": 7,
   "metadata": {},
   "outputs": [],
   "source": [
    "# model = tf.keras.models.load_model(\"./models/resnet_CE_entropy_finetuned.hdf5\")\n",
    "# model.evaluate(test_ds)"
   ]
  },
  {
   "cell_type": "code",
   "execution_count": 8,
   "metadata": {},
   "outputs": [],
   "source": [
    "K = 10\n",
    "def loss_function(annealing_rate=1, momentum=1, decay=1, global_loss=False):\n",
    "    #create a wrapper function that returns a function\n",
    "    temperature = 1\n",
    "    Classes = 10\n",
    "    keras_kl = tf.keras.losses.KLDivergence()\n",
    "    annealing_rate = annealing_rate\n",
    "    momentum_rate = momentum\n",
    "    decay_rate = decay\n",
    "    def cross_entropy_evidence(labels, outputs): \n",
    "        softmax = tf.nn.softmax(outputs)\n",
    "        # activated_outputs =tf.keras.activations.sigmoid(softmax)\n",
    "        evidence = softplus_evidence(outputs)\n",
    "        alpha = evidence + 1\n",
    "        S = tf.reduce_sum(alpha, axis=1, keepdims=True) \n",
    "        E = alpha - 1\n",
    "        m = alpha / S\n",
    "        A = tf.reduce_sum((labels-m)**2, axis=1, keepdims=True) \n",
    "        B = tf.reduce_sum(alpha*(S-alpha)/(S*S*(S+1)), axis=1, keepdims=True) \n",
    "\n",
    "        annealing_coef = tf.minimum(1.0,tf.cast(annealing_rate,tf.float32))\n",
    "#         annealing_coef = 1\n",
    "        alp = E*(1-labels) + 1 \n",
    "        # print(\"alp\", alp)\n",
    "        C =  annealing_coef * KL(alp)\n",
    "        # C = keras_kl(labels,evidence)\n",
    "        loss = tf.keras.losses.categorical_crossentropy(labels, softmax)\n",
    "        pred = tf.argmax(outputs,1)\n",
    "        truth = tf.argmax(labels,1)\n",
    "        match = tf.reshape(tf.cast(tf.equal(pred, truth), tf.float32),(-1,1))\n",
    "        return loss + C\n",
    "        # return (A + B) + C\n",
    "    return  cross_entropy_evidence"
   ]
  },
  {
   "cell_type": "code",
   "execution_count": 9,
   "metadata": {},
   "outputs": [],
   "source": [
    "from tensorflow.python.platform import tf_logging as logging\n",
    "class _earlyStopping(keras.callbacks.EarlyStopping):\n",
    "    def __init__(self,\n",
    "               monitor='val_loss',\n",
    "               min_delta=0,\n",
    "               patience=0,\n",
    "               verbose=0,\n",
    "               mode='auto',\n",
    "               baseline=None,\n",
    "               restore_best_weights=False):\n",
    "        self.monitor = monitor\n",
    "        self.patience = patience\n",
    "        self.verbose = verbose\n",
    "        self.baseline = baseline\n",
    "        self.min_delta = abs(min_delta)\n",
    "        self.wait = 0\n",
    "        self.stopped_epoch = 0\n",
    "        self.restore_best_weights = restore_best_weights\n",
    "        self.best_weights = None\n",
    "        # super(_earlyStopping, self).__init__(monitor=)\n",
    "        if mode not in ['auto', 'min', 'max']:\n",
    "            logging.warning('EarlyStopping mode %s is unknown, '\n",
    "                          'fallback to auto mode.', mode)\n",
    "            mode = 'auto'\n",
    "\n",
    "        if mode == 'min':\n",
    "            self.monitor_op = np.less\n",
    "        elif mode == 'max':\n",
    "            self.monitor_op = np.greater\n",
    "        else:\n",
    "            \n",
    "            # if (self.monitor.endswith('acc') or self.monitor.endswith('accuracy') or self.monitor.endswith('auc')):\n",
    "            self.monitor_op = np.greater\n",
    "            # else:\n",
    "                # self.monitor_op = np.less\n",
    "\n",
    "        if self.monitor_op == np.greater:\n",
    "            self.min_delta *= 1\n",
    "        else:\n",
    "            self.min_delta *= -1\n",
    "\n",
    "        self.monitor_op = np.greater\n",
    "        self.min_delta *= 1\n",
    "        \n",
    "    def get_monitor_value(self, logs):\n",
    "        logs = logs or {}\n",
    "        monitor_value = 0\n",
    "        if type(self.monitor) is list:\n",
    "            for i in self.monitor:\n",
    "                _log_val = logs.get(i)\n",
    "                # logging.warning(\"values are {}, {}\".format(i,_log_val))\n",
    "                if _log_val is None:\n",
    "                    logging.warning('Metric `%s` '\n",
    "                          'for early stopping is not available. Available metrics are: %s',\n",
    "                          i, ','.join(list(logs.keys())))\n",
    "                else:\n",
    "                    monitor_value += _log_val\n",
    "        # monitor_value = logs.get(self.monitor)\n",
    "        if monitor_value is None:\n",
    "            logging.warning('Early stopping conditioned on metric `%s` '\n",
    "                          'which is not available. Available metrics are: %s',\n",
    "                          self.monitor, ','.join(list(logs.keys())))\n",
    "        return monitor_value\n"
   ]
  },
  {
   "cell_type": "markdown",
   "metadata": {},
   "source": [
    "### define the branch structures"
   ]
  },
  {
   "cell_type": "code",
   "execution_count": 14,
   "metadata": {},
   "outputs": [],
   "source": [
    "\n",
    "def _branch_conv1(prevLayer, targets=None, teacher_sm = None, teaching_features=None):\n",
    "    \"\"\" \n",
    "        Standard Branch, no distillation\n",
    "        Add a new branch to a model connecting at the output of prevLayer. \n",
    "        NOTE: use the substring \"branch\" in all names for branch nodes. this is used as an identifier of the branching layers as opposed to the main branch layers for training\n",
    "    \"\"\" \n",
    "    branchLayer = keras.layers.Conv2D(filters=64, kernel_size=(1,1), strides=(1,1), activation='relu',name=tf.compat.v1.get_default_graph().unique_name(\"branch_conv2d\"), input_shape=(prevLayer.shape))(prevLayer)\n",
    "    branchLayer = keras.layers.BatchNormalization(name=tf.compat.v1.get_default_graph().unique_name(\"branch_batchnorm\"))(branchLayer)  \n",
    "    branchLayer = keras.layers.Conv2D(filters=64, kernel_size=(1,1), strides=(1,1), activation='relu',name=tf.compat.v1.get_default_graph().unique_name(\"branch_conv2d\"), input_shape=(branchLayer.shape))(branchLayer)\n",
    "    branchLayer = keras.layers.BatchNormalization(name=tf.compat.v1.get_default_graph().unique_name(\"branch_batchnorm\"))(branchLayer)  \n",
    "    # branchLayer = keras.layers.MaxPool2D(pool_size=(3,3), strides=(2,2),name=tf.compat.v1.get_default_graph().unique_name(\"branch_maxpool\"))(branchLayer)\n",
    "    # branchLayer = keras.layers.Dropout(0.2,name=tf.compat.v1.get_default_graph().unique_name(\"branch_dropout\"))(branchLayer)\n",
    "    branchLayer = keras.layers.Conv2D(filters=256, kernel_size=(1,1), strides=(2,2), activation='relu',name=tf.compat.v1.get_default_graph().unique_name(\"branch_conv2d\"), input_shape=(branchLayer.shape))(branchLayer)\n",
    "    branchLayer = keras.layers.BatchNormalization(name=tf.compat.v1.get_default_graph().unique_name(\"branch_batchnorm\"))(branchLayer)\n",
    "    # branchLayer = keras.layers.MaxPool2D(pool_size=(3,3), strides=(2,2),name=tf.compat.v1.get_default_graph().unique_name(\"branch_maxpool\"))(branchLayer)\n",
    "    # branchLayer = keras.layers.Dropout(0.2,name=tf.compat.v1.get_default_graph().unique_name(\"branch_dropout\"))(branchLayer)\n",
    "    branchLayer = layers.Flatten(name=tf.compat.v1.get_default_graph().unique_name(\"branch_flatten\"))(branchLayer)\n",
    "    branchLayer = layers.Dense(1024,activation='relu',name=tf.compat.v1.get_default_graph().unique_name(\"branch_dense\"))(branchLayer)\n",
    "    branchLayer = keras.layers.Dropout(0.2,name=tf.compat.v1.get_default_graph().unique_name(\"branch_dropout\"))(branchLayer)\n",
    "    branchLayer = layers.Dense(512,activation='relu',name=tf.compat.v1.get_default_graph().unique_name(\"branch_dense\"))(branchLayer)\n",
    "    output = keras.layers.Dense(10, activation='softmax', name=tf.compat.v1.get_default_graph().unique_name(\"branch_exit\"))(branchLayer)\n",
    "    # output = (layers.Softmax(name=tf.compat.v1.get_default_graph().unique_name(\"branch_softmax\"))(output))\n",
    "    return output\n",
    "\n",
    "\n",
    "# class SelfDistilDense(branches.branch.BranchEndpoint):\n",
    "#     \"\"\" distillation feature endpoint, an attempt at looking at the distillation betwen internal layers rather then exit layers\n",
    "#     \"\"\"\n",
    "#         def __init__(self, num_outputs, loss_coef=.3, temperature=10, name=None, **kwargs):\n",
    "#             super(SelfDistilDense, self).__init__(num_outputs=num_outputs, name=name)\n",
    "#             self.num_outputs = num_outputs\n",
    "#             self.loss_coef = loss_coef\n",
    "#             self.temperature = temperature \n",
    "#             self.distillation_loss_fn=keras.losses.KLDivergence()\n",
    "\n",
    "#         def build(self, input_shape):\n",
    "#             tf.print(\"inputShape\",input_shape)\n",
    "#             # self.kernel = self.add_weight(\"kernel\", shape=[int(input_shape[-1]), self.num_outputs])\n",
    "\n",
    "#         def get_config(self):\n",
    "#             config = super().get_config().copy()\n",
    "#             config.update({\n",
    "#                 'name': self.name\n",
    "#             })\n",
    "#             return config\n",
    "\n",
    "#         def call(self, inputs, teaching_distill=None):\n",
    "#             ''' do the normal kernel operations, then compare the difference between the teacher and this.\n",
    "#             '''\n",
    "#             # outputs = tf.matmul(inputs,self.kernel)\n",
    "#             # outputs = tf.nn.relu(outputs)\n",
    "#             # tf.print(\"outputs\",outputs)\n",
    "#             # tf.print(\"teaching\",teaching_distill)\n",
    "#             if teaching_distill is not None:\n",
    "#                 distil_loss = self.distillation_loss_fn(inputs/self.temperature, teaching_distill/self.temperature)\n",
    "#                 distil_loss = distil_loss * self.loss_coef\n",
    "#                 # print(\"KL_LOSS\", kl_loss)\n",
    "#                 # self.add_loss(kl_loss)\n",
    "#                 self.add_loss(distil_loss)\n",
    "#                 self.add_metric(distil_loss, aggregation='mean',name=self.name+\"_distil\") # metric so this loss value can be monitored.\n",
    "#             return inputs\n",
    "        \n",
    "class SelfDistilEndpoint_2(branches.branch.BranchEndpoint):\n",
    "        \"\"\" distillation endpoint, performs the KL divergence between the teacher's and student's logits\n",
    "    \"\"\"\n",
    "        def __init__(self, num_outputs, loss_coef=1.9, temperature=10, name=None, **kwargs):\n",
    "            super(SelfDistilEndpoint_2, self).__init__(num_outputs=num_outputs, name=name)\n",
    "            self.num_outputs = num_outputs\n",
    "            self.loss_coef = loss_coef\n",
    "            self.temperature = temperature \n",
    "            self.distillation_loss_fn=keras.losses.KLDivergence()\n",
    "\n",
    "        def build(self, input_shape):\n",
    "            tf.print(\"inputShape\",input_shape)\n",
    "            self.kernel = self.add_weight(\"kernel\", shape=[int(input_shape[-1]), self.num_outputs])\n",
    "        \n",
    "        def get_config(self):\n",
    "            config = super().get_config().copy()\n",
    "            config.update({\n",
    "                'name': self.name\n",
    "            })\n",
    "            return config\n",
    "\n",
    "        def call(self, inputs, teaching_distill=None):\n",
    "            ''' do the normal kernel operations, then compare the difference between the teacher and this.\n",
    "            '''\n",
    "            outputs = tf.matmul(inputs,self.kernel)\n",
    "            outputs_sm = tf.nn.softmax(outputs)\n",
    "            # tf.print(\"outputs\",outputs)\n",
    "            # tf.print(\"teaching\",teaching_distill)\n",
    "            if teaching_distill is not None:\n",
    "                distil_loss = self.distillation_loss_fn(outputs_sm/self.temperature, teaching_distill/self.temperature)\n",
    "                distil_loss = distil_loss * self.loss_coef\n",
    "                # print(\"KL_LOSS\", kl_loss)\n",
    "                # self.add_loss(kl_loss)\n",
    "                self.add_loss(distil_loss)\n",
    "                self.add_metric(distil_loss, aggregation='mean',name=self.name+\"_distil\") # metric so this loss value can be monitored.\n",
    "            return outputs\n",
    "\n",
    "# class distillBranch():\n",
    "#     def __init__(self, _teacher, _features, loss_coef=1.0, temperature = 10,**kwargs):\n",
    "#         self.loss_coef = loss_coef\n",
    "#         self.temperature = temperature\n",
    "#         self.teacher = _teacher\n",
    "#         self.features = _features\n",
    "#     def _branch_feature_distill(self,prevLayer, teacher = None, teaching_features=None):\n",
    "#         \"\"\" Add a new branch to a model connecting at the output of prevLayer. \n",
    "#             NOTE: use the substring \"branch\" in all names for branch nodes. this is used as an identifier of the branching layers as opposed to the main branch layers for training\n",
    "#         \"\"\" \n",
    "#         branchLayer = keras.layers.Conv2D(filters=128, kernel_size=(1,1), strides=(1,1), activation='relu',name=tf.compat.v1.get_default_graph().unique_name(\"branch_conv2d\"), input_shape=(prevLayer.shape))(prevLayer)\n",
    "#         branchLayer = keras.layers.BatchNormalization(name=tf.compat.v1.get_default_graph().unique_name(\"branch_batchnorm\"))(branchLayer)  \n",
    "#         branchLayer = keras.layers.Conv2D(filters=128, kernel_size=(1,1), strides=(1,1), activation='relu',name=tf.compat.v1.get_default_graph().unique_name(\"branch_conv2d\"), input_shape=(branchLayer.shape))(branchLayer)\n",
    "#         branchLayer = keras.layers.BatchNormalization(name=tf.compat.v1.get_default_graph().unique_name(\"branch_batchnorm\"))(branchLayer)  \n",
    "#         branchLayer = keras.layers.MaxPool2D(pool_size=(3,3), strides=(2,2),name=tf.compat.v1.get_default_graph().unique_name(\"branch_maxpool\"))(branchLayer)\n",
    "#         branchLayer = keras.layers.Conv2D(filters=512, kernel_size=(1,1), strides=(1,1), activation='relu',name=tf.compat.v1.get_default_graph().unique_name(\"branch_conv2d\"), input_shape=(branchLayer.shape))(branchLayer)\n",
    "#         branchLayer = keras.layers.BatchNormalization(name=tf.compat.v1.get_default_graph().unique_name(\"branch_batchnorm\"))(branchLayer)\n",
    "#         branchLayer = keras.layers.MaxPool2D(pool_size=(3,3), strides=(2,2),name=tf.compat.v1.get_default_graph().unique_name(\"branch_maxpool\"))(branchLayer)\n",
    "#         branchLayer = layers.Flatten(name=tf.compat.v1.get_default_graph().unique_name(\"branch_flatten\"))(branchLayer)\n",
    "#         branchLayer = layers.Dense(1024,activation='relu',name=tf.compat.v1.get_default_graph().unique_name(\"branch_dense\"))(branchLayer)\n",
    "#         branchLayer = keras.layers.Dropout(0.2,name=tf.compat.v1.get_default_graph().unique_name(\"branch_dropout\"))(branchLayer)\n",
    "#         branchLayer = layers.Dense(512,activation='relu',name=tf.compat.v1.get_default_graph().unique_name(\"branch_dense\"))(branchLayer)\n",
    "#         branchLayer = SelfDistilDense(512, loss_coef=self.loss_coef, temperature = self.temperature, name=tf.compat.v1.get_default_graph().unique_name(\"branch_feature_student\"))(branchLayer,self.features)\n",
    "#         output = SelfDistilEndpoint_2(num_outputs=10, loss_coef=1.9, temperature = 10, name=tf.compat.v1.get_default_graph().unique_name(\"branch_exit\"))(branchLayer,self.teacher)\n",
    "#         # output = (layers.Softmax(name=tf.compat.v1.get_default_graph().unique_name(\"branch_softmax\"))(output))\n",
    "#         # output = keras.layers.Dense(10, activation=\"softmax\", name=tf.compat.v1.get_default_graph().unique_name(\"branch_exit\"))(branchLayer)\n",
    "#         return output\n",
    "\n",
    "    \n",
    "def _branch_Distill(prevLayer, teacher = None, teaching_features=None):\n",
    "    \"\"\" Add a new branch to a model connecting at the output of prevLayer. \n",
    "        NOTE: use the substring \"branch\" in all names for branch nodes. this is used as an identifier of the branching layers as opposed to the main branch layers for training\n",
    "    \"\"\" \n",
    "#     branchLayer = keras.layers.Flatten(name=tf.compat.v1.get_default_graph().unique_name(\"branch_flatten\"))(prevLayer)\n",
    "#     branchLayer = keras.layers.Dense(124, activation=\"relu\",name=tf.compat.v1.get_default_graph().unique_name(\"branch124\"))(branchLayer)\n",
    "#     branchLayer = keras.layers.Dense(64, activation=\"relu\",name=tf.compat.v1.get_default_graph().unique_name(\"branch64\"))(branchLayer)\n",
    "#     output = keras.layers.Dense(10, name=tf.compat.v1.get_default_graph().unique_name(\"branch_exit\"))(branchLayer)\n",
    "    branchLayer = keras.layers.Conv2D(filters=128, kernel_size=(1,1), strides=(1,1), activation='relu',name=tf.compat.v1.get_default_graph().unique_name(\"branch_conv2d\"), input_shape=(prevLayer.shape))(prevLayer)\n",
    "    branchLayer = keras.layers.BatchNormalization(name=tf.compat.v1.get_default_graph().unique_name(\"branch_batchnorm\"))(branchLayer)  \n",
    "    branchLayer = keras.layers.Conv2D(filters=128, kernel_size=(1,1), strides=(1,1), activation='relu',name=tf.compat.v1.get_default_graph().unique_name(\"branch_conv2d\"), input_shape=(branchLayer.shape))(branchLayer)\n",
    "    branchLayer = keras.layers.BatchNormalization(name=tf.compat.v1.get_default_graph().unique_name(\"branch_batchnorm\"))(branchLayer)  \n",
    "    branchLayer = keras.layers.MaxPool2D(pool_size=(3,3), strides=(2,2),name=tf.compat.v1.get_default_graph().unique_name(\"branch_maxpool\"))(branchLayer)\n",
    "    # branchLayer = keras.layers.Dropout(0.2,name=tf.compat.v1.get_default_graph().unique_name(\"branch_dropout\"))(branchLayer)\n",
    "    branchLayer = keras.layers.Conv2D(filters=512, kernel_size=(1,1), strides=(1,1), activation='relu',name=tf.compat.v1.get_default_graph().unique_name(\"branch_conv2d\"), input_shape=(branchLayer.shape))(branchLayer)\n",
    "    branchLayer = keras.layers.BatchNormalization(name=tf.compat.v1.get_default_graph().unique_name(\"branch_batchnorm\"))(branchLayer)\n",
    "    branchLayer = keras.layers.MaxPool2D(pool_size=(3,3), strides=(2,2),name=tf.compat.v1.get_default_graph().unique_name(\"branch_maxpool\"))(branchLayer)\n",
    "    # branchLayer = keras.layers.Dropout(0.2,name=tf.compat.v1.get_default_graph().unique_name(\"branch_dropout\"))(branchLayer)\n",
    "    branchLayer = layers.Flatten(name=tf.compat.v1.get_default_graph().unique_name(\"branch_flatten\"))(branchLayer)\n",
    "    branchLayer = layers.Dense(1024,activation='relu',name=tf.compat.v1.get_default_graph().unique_name(\"branch_dense\"))(branchLayer)\n",
    "    branchLayer = keras.layers.Dropout(0.2,name=tf.compat.v1.get_default_graph().unique_name(\"branch_dropout\"))(branchLayer)\n",
    "    branchLayer = layers.Dense(512,activation='relu',name=tf.compat.v1.get_default_graph().unique_name(\"branch_dense\"))(branchLayer)\n",
    "    # branchLayer = SelfDistilDense(512, loss_coef=1.9, temperature = 10, name=tf.compat.v1.get_default_graph().unique_name(\"branch_feature_student\"))(branchLayer,teacher)\n",
    "    # branchLayer = layers.ReLU()(branchLayer)\n",
    "    # print(teacher)\n",
    "    output = SelfDistilEndpoint_2(num_outputs=10, loss_coef=1.9, temperature = 10, name=tf.compat.v1.get_default_graph().unique_name(\"branch_exit\"))(branchLayer,teacher)\n",
    "    # output = (layers.Softmax(name=tf.compat.v1.get_default_graph().unique_name(\"branch_softmax\"))(output))\n",
    "    # output = keras.layers.Dense(10, name=tf.compat.v1.get_default_graph().unique_name(\"branch_exit\"))(branchLayer)\n",
    "    return output\n",
    "\n",
    "\n"
   ]
  },
  {
   "cell_type": "code",
   "execution_count": 20,
   "metadata": {},
   "outputs": [],
   "source": [
    "# base_model = branching.Distill_BranchModel(name=\"./models/resnet_CE_entropy_finetuned.hdf5\")\n"
   ]
  },
  {
   "cell_type": "code",
   "execution_count": 22,
   "metadata": {},
   "outputs": [
    {
     "name": "stdout",
     "output_type": "stream",
     "text": [
      "313/313 [==============================] - 6s 14ms/step - loss: 0.8078 - accuracy: 0.7815\n"
     ]
    },
    {
     "data": {
      "text/plain": [
       "[0.8078323006629944, 0.781499981880188]"
      ]
     },
     "execution_count": 22,
     "metadata": {},
     "output_type": "execute_result"
    }
   ],
   "source": [
    "# base_model.compile(loss=[trunk_loss], \n",
    "#                   optimizer=tf.optimizers.SGD(learning_rate=0.01, momentum=0.9),\n",
    "#                   # optimizer=tf.keras.optimizers.Adam(learning_rate=0.001,  beta_1=0.99,  beta_2=0.999,),\n",
    "#                   # optimizer=\"adam\",\n",
    "#                metrics=['accuracy'])\n",
    "# base_model.evaluate(test_ds)"
   ]
  },
  {
   "cell_type": "markdown",
   "metadata": {},
   "source": [
    "### branch the model\n",
    "<hr>\n",
    "The already existing model is loaded from the file, \"*.hdf5\", \n"
   ]
  },
  {
   "cell_type": "code",
   "execution_count": 12,
   "metadata": {},
   "outputs": [
    {
     "name": "stdout",
     "output_type": "stream",
     "text": [
      "Matching Branchpoint by name\n",
      "add Branch to branch point  conv2_block1_out\n",
      "inputShape TensorShape([None, 512])\n",
      "add Branch to branch point  conv2_block3_out\n",
      "inputShape TensorShape([None, 512])\n",
      "branches added, new outputs [<KerasTensor: shape=(None, 10) dtype=float32 (created by layer 'classification')>, <KerasTensor: shape=(None, 10) dtype=float32 (created by layer 'branch_exit')>, <KerasTensor: shape=(None, 10) dtype=float32 (created by layer 'branch_exit_1')>]\n"
     ]
    }
   ],
   "source": [
    "import random\n",
    "seed = 42\n",
    "random.seed(seed)\n",
    "tf.random.set_seed(seed)\n",
    "np.random.seed(seed)\n",
    "tf.keras.backend.clear_session()\n",
    "\n",
    "# branch_loss = IAD_loss(growth_callback)\n",
    "branch_loss = keras.losses.CategoricalCrossentropy(from_logits=True)\n",
    "trunk_loss = keras.losses.CategoricalCrossentropy(from_logits=False)\n",
    "# earlyStop = tf.keras.callbacks.EarlyStopping(monitor=\"val_accuracy\",patience=6,restore_best_weights=True)\n",
    "earlyStop = _earlyStopping(monitor=[\"val_classification_accuracy\",\"val_branch_exit_accuracy\",\"val_branch_exit_1_accuracy\"],patience=6,restore_best_weights=True)\n",
    "# model = branching.Distill_BranchModel(name=\"./models/resnet_CE_entropy_finetuned.hdf5\", custom_objects={})\n",
    "model = branching.Distill_BranchModel(name=\"./models/resnet_CE_entropy_finetuned.hdf5\")\n",
    "\n",
    "### branch the model, no distillation\n",
    "# model.add_branches([_branch_conv1,_branch_conv1],\n",
    "#                           [\"conv2_block1_out\",\"conv2_block3_out\",\n",
    "#                             # \"dense\"\n",
    "#                           ],\n",
    "#                           )\n",
    "\n",
    "\n",
    "\n",
    "### branch and distill the model\n",
    "model.add_distill(teacher = \"classification\",\n",
    "                  branch_layers = [_branch_Distill,_branch_Distill],\n",
    "                  branch_points = [\"conv2_block1_out\",\n",
    "                                   \"conv2_block3_out\",],\n",
    "                  )\n",
    "\n",
    "# model.setTrainable(True)\n",
    "model.compile(loss=[trunk_loss, branch_loss, branch_loss], \n",
    "                  # optimizer=tf.optimizers.SGD(learning_rate=0.01, momentum=0.9),\n",
    "                  optimizer=tf.keras.optimizers.Adam(learning_rate=0.001,  beta_1=0.99,  beta_2=0.999,),\n",
    "                  # optimizer=\"adam\",\n",
    "               metrics=['accuracy'])\n",
    "\n",
    "# model.evaluate(test_ds)"
   ]
  },
  {
   "cell_type": "code",
   "execution_count": 13,
   "metadata": {},
   "outputs": [
    {
     "name": "stdout",
     "output_type": "stream",
     "text": [
      "Setting Main Layers  and branch layers training to true\n",
      "https://app.neptune.ai/cailen01/self-distilation/e/SEL-21\n",
      "Remember to stop your run once you’ve finished logging your metadata (https://docs.neptune.ai/api-reference/run#.stop). It will be stopped automatically only when the notebook kernel/interactive console is terminated.\n",
      "Epoch 1/30\n",
      "1407/1407 [==============================] - 109s 69ms/step - loss: 2.9519 - classification_loss: 0.3793 - branch_exit_loss: 1.2514 - branch_exit_1_loss: 1.0451 - classification_accuracy: 0.9086 - branch_exit_accuracy: 0.5553 - branch_exit_1_accuracy: 0.6413 - branch_exit_distil: 0.1562 - branch_exit_1_distil: 0.1198 - val_loss: 2.7268 - val_classification_loss: 0.6224 - val_branch_exit_loss: 1.0722 - val_branch_exit_1_loss: 0.8300 - val_classification_accuracy: 0.8022 - val_branch_exit_accuracy: 0.6246 - val_branch_exit_1_accuracy: 0.7204 - val_branch_exit_distil: 0.1237 - val_branch_exit_1_distil: 0.0777\n",
      "Epoch 2/30\n",
      "1407/1407 [==============================] - 100s 71ms/step - loss: 2.0960 - classification_loss: 0.2662 - branch_exit_loss: 0.9093 - branch_exit_1_loss: 0.7147 - classification_accuracy: 0.9344 - branch_exit_accuracy: 0.6871 - branch_exit_1_accuracy: 0.7586 - branch_exit_distil: 0.1216 - branch_exit_1_distil: 0.0843 - val_loss: 2.7148 - val_classification_loss: 0.6257 - val_branch_exit_loss: 1.0348 - val_branch_exit_1_loss: 0.8529 - val_classification_accuracy: 0.7926 - val_branch_exit_accuracy: 0.6626 - val_branch_exit_1_accuracy: 0.7182 - val_branch_exit_distil: 0.1244 - val_branch_exit_1_distil: 0.0766\n",
      "Epoch 3/30\n",
      "1407/1407 [==============================] - 92s 65ms/step - loss: 1.8405 - classification_loss: 0.2568 - branch_exit_loss: 0.7901 - branch_exit_1_loss: 0.6123 - classification_accuracy: 0.9312 - branch_exit_accuracy: 0.7273 - branch_exit_1_accuracy: 0.7925 - branch_exit_distil: 0.1082 - branch_exit_1_distil: 0.0731 - val_loss: 2.2101 - val_classification_loss: 0.6149 - val_branch_exit_loss: 0.7651 - val_branch_exit_1_loss: 0.6798 - val_classification_accuracy: 0.8048 - val_branch_exit_accuracy: 0.7454 - val_branch_exit_1_accuracy: 0.7678 - val_branch_exit_distil: 0.0862 - val_branch_exit_1_distil: 0.0637\n",
      "Epoch 4/30\n",
      "1407/1407 [==============================] - 92s 66ms/step - loss: 1.6939 - classification_loss: 0.2465 - branch_exit_loss: 0.7164 - branch_exit_1_loss: 0.5597 - classification_accuracy: 0.9329 - branch_exit_accuracy: 0.7554 - branch_exit_1_accuracy: 0.8114 - branch_exit_distil: 0.1014 - branch_exit_1_distil: 0.0698 - val_loss: 2.1679 - val_classification_loss: 0.6105 - val_branch_exit_loss: 0.7694 - val_branch_exit_1_loss: 0.6341 - val_classification_accuracy: 0.8010 - val_branch_exit_accuracy: 0.7392 - val_branch_exit_1_accuracy: 0.7874 - val_branch_exit_distil: 0.0906 - val_branch_exit_1_distil: 0.0628\n",
      "Epoch 5/30\n",
      "1407/1407 [==============================] - 92s 65ms/step - loss: 1.5251 - classification_loss: 0.1948 - branch_exit_loss: 0.6590 - branch_exit_1_loss: 0.5071 - classification_accuracy: 0.9505 - branch_exit_accuracy: 0.7744 - branch_exit_1_accuracy: 0.8281 - branch_exit_distil: 0.0979 - branch_exit_1_distil: 0.0663 - val_loss: 2.3768 - val_classification_loss: 0.6263 - val_branch_exit_loss: 0.8659 - val_branch_exit_1_loss: 0.7163 - val_classification_accuracy: 0.7960 - val_branch_exit_accuracy: 0.7114 - val_branch_exit_1_accuracy: 0.7640 - val_branch_exit_distil: 0.1019 - val_branch_exit_1_distil: 0.0662\n",
      "Epoch 6/30\n",
      "1407/1407 [==============================] - 92s 65ms/step - loss: 1.4125 - classification_loss: 0.1838 - branch_exit_loss: 0.6095 - branch_exit_1_loss: 0.4617 - classification_accuracy: 0.9552 - branch_exit_accuracy: 0.7934 - branch_exit_1_accuracy: 0.8447 - branch_exit_distil: 0.0939 - branch_exit_1_distil: 0.0637 - val_loss: 2.7678 - val_classification_loss: 1.1844 - val_branch_exit_loss: 0.7279 - val_branch_exit_1_loss: 0.6556 - val_classification_accuracy: 0.7952 - val_branch_exit_accuracy: 0.7616 - val_branch_exit_1_accuracy: 0.7896 - val_branch_exit_distil: 0.1125 - val_branch_exit_1_distil: 0.0866\n",
      "Epoch 7/30\n",
      "1407/1407 [==============================] - 94s 67ms/step - loss: 1.3279 - classification_loss: 0.1771 - branch_exit_loss: 0.5721 - branch_exit_1_loss: 0.4270 - classification_accuracy: 0.9548 - branch_exit_accuracy: 0.8044 - branch_exit_1_accuracy: 0.8566 - branch_exit_distil: 0.0913 - branch_exit_1_distil: 0.0604 - val_loss: 2.2864 - val_classification_loss: 0.6539 - val_branch_exit_loss: 0.7614 - val_branch_exit_1_loss: 0.6999 - val_classification_accuracy: 0.7880 - val_branch_exit_accuracy: 0.7554 - val_branch_exit_1_accuracy: 0.7834 - val_branch_exit_distil: 0.0966 - val_branch_exit_1_distil: 0.0743\n",
      "Epoch 8/30\n",
      "1407/1407 [==============================] - 94s 67ms/step - loss: 1.2398 - classification_loss: 0.1585 - branch_exit_loss: 0.5389 - branch_exit_1_loss: 0.3941 - classification_accuracy: 0.9613 - branch_exit_accuracy: 0.8164 - branch_exit_1_accuracy: 0.8669 - branch_exit_distil: 0.0898 - branch_exit_1_distil: 0.0586 - val_loss: 2.3389 - val_classification_loss: 0.7075 - val_branch_exit_loss: 0.7917 - val_branch_exit_1_loss: 0.6617 - val_classification_accuracy: 0.7880 - val_branch_exit_accuracy: 0.7450 - val_branch_exit_1_accuracy: 0.7880 - val_branch_exit_distil: 0.1045 - val_branch_exit_1_distil: 0.0731\n",
      "Epoch 9/30\n",
      "1407/1407 [==============================] - 92s 65ms/step - loss: 1.1949 - classification_loss: 0.1646 - branch_exit_loss: 0.5084 - branch_exit_1_loss: 0.3777 - classification_accuracy: 0.9570 - branch_exit_accuracy: 0.8276 - branch_exit_1_accuracy: 0.8731 - branch_exit_distil: 0.0861 - branch_exit_1_distil: 0.0581 - val_loss: 2.7149 - val_classification_loss: 0.7392 - val_branch_exit_loss: 0.8460 - val_branch_exit_1_loss: 0.9424 - val_classification_accuracy: 0.7650 - val_branch_exit_accuracy: 0.7288 - val_branch_exit_1_accuracy: 0.7364 - val_branch_exit_distil: 0.0996 - val_branch_exit_1_distil: 0.0877\n",
      "Epoch 10/30\n",
      "1407/1407 [==============================] - 91s 65ms/step - loss: 1.0717 - classification_loss: 0.1261 - branch_exit_loss: 0.4719 - branch_exit_1_loss: 0.3360 - classification_accuracy: 0.9702 - branch_exit_accuracy: 0.8385 - branch_exit_1_accuracy: 0.8870 - branch_exit_distil: 0.0842 - branch_exit_1_distil: 0.0535 - val_loss: 2.3803 - val_classification_loss: 0.6395 - val_branch_exit_loss: 0.8344 - val_branch_exit_1_loss: 0.7365 - val_classification_accuracy: 0.7974 - val_branch_exit_accuracy: 0.7378 - val_branch_exit_1_accuracy: 0.7722 - val_branch_exit_distil: 0.0998 - val_branch_exit_1_distil: 0.0695\n",
      "Epoch 11/30\n",
      "1407/1407 [==============================] - 91s 64ms/step - loss: 1.0257 - classification_loss: 0.1215 - branch_exit_loss: 0.4489 - branch_exit_1_loss: 0.3195 - classification_accuracy: 0.9711 - branch_exit_accuracy: 0.8484 - branch_exit_1_accuracy: 0.8930 - branch_exit_distil: 0.0828 - branch_exit_1_distil: 0.0530 - val_loss: 2.1682 - val_classification_loss: 0.6190 - val_branch_exit_loss: 0.6911 - val_branch_exit_1_loss: 0.6961 - val_classification_accuracy: 0.8088 - val_branch_exit_accuracy: 0.7842 - val_branch_exit_1_accuracy: 0.8012 - val_branch_exit_distil: 0.0887 - val_branch_exit_1_distil: 0.0731\n",
      "Epoch 12/30\n",
      "1407/1407 [==============================] - 91s 64ms/step - loss: 0.9883 - classification_loss: 0.1308 - branch_exit_loss: 0.4210 - branch_exit_1_loss: 0.3045 - classification_accuracy: 0.9675 - branch_exit_accuracy: 0.8575 - branch_exit_1_accuracy: 0.8987 - branch_exit_distil: 0.0795 - branch_exit_1_distil: 0.0526 - val_loss: 2.1100 - val_classification_loss: 0.5930 - val_branch_exit_loss: 0.7221 - val_branch_exit_1_loss: 0.6386 - val_classification_accuracy: 0.8080 - val_branch_exit_accuracy: 0.7732 - val_branch_exit_1_accuracy: 0.8026 - val_branch_exit_distil: 0.0888 - val_branch_exit_1_distil: 0.0670\n",
      "Epoch 13/30\n",
      "1407/1407 [==============================] - 93s 66ms/step - loss: 0.9930 - classification_loss: 0.1457 - branch_exit_loss: 0.4175 - branch_exit_1_loss: 0.2992 - classification_accuracy: 0.9615 - branch_exit_accuracy: 0.8587 - branch_exit_1_accuracy: 0.9010 - branch_exit_distil: 0.0794 - branch_exit_1_distil: 0.0514 - val_loss: 2.4373 - val_classification_loss: 0.7709 - val_branch_exit_loss: 0.7052 - val_branch_exit_1_loss: 0.7630 - val_classification_accuracy: 0.7826 - val_branch_exit_accuracy: 0.7800 - val_branch_exit_1_accuracy: 0.7848 - val_branch_exit_distil: 0.1033 - val_branch_exit_1_distil: 0.0946\n",
      "Epoch 14/30\n",
      "1407/1407 [==============================] - 98s 69ms/step - loss: 0.9404 - classification_loss: 0.1511 - branch_exit_loss: 0.3900 - branch_exit_1_loss: 0.2741 - classification_accuracy: 0.9584 - branch_exit_accuracy: 0.8688 - branch_exit_1_accuracy: 0.9072 - branch_exit_distil: 0.0757 - branch_exit_1_distil: 0.0497 - val_loss: 2.3144 - val_classification_loss: 0.6041 - val_branch_exit_loss: 0.7838 - val_branch_exit_1_loss: 0.7403 - val_classification_accuracy: 0.8084 - val_branch_exit_accuracy: 0.7640 - val_branch_exit_1_accuracy: 0.7808 - val_branch_exit_distil: 0.1051 - val_branch_exit_1_distil: 0.0809\n",
      "Epoch 15/30\n",
      "1407/1407 [==============================] - 98s 70ms/step - loss: 0.8391 - classification_loss: 0.1083 - branch_exit_loss: 0.3636 - branch_exit_1_loss: 0.2466 - classification_accuracy: 0.9730 - branch_exit_accuracy: 0.8776 - branch_exit_1_accuracy: 0.9158 - branch_exit_distil: 0.0741 - branch_exit_1_distil: 0.0467 - val_loss: 2.2928 - val_classification_loss: 0.6276 - val_branch_exit_loss: 0.7488 - val_branch_exit_1_loss: 0.7272 - val_classification_accuracy: 0.8012 - val_branch_exit_accuracy: 0.7754 - val_branch_exit_1_accuracy: 0.7904 - val_branch_exit_distil: 0.1038 - val_branch_exit_1_distil: 0.0854\n",
      "Epoch 16/30\n",
      "1407/1407 [==============================] - 98s 69ms/step - loss: 0.9160 - classification_loss: 0.1461 - branch_exit_loss: 0.3745 - branch_exit_1_loss: 0.2692 - classification_accuracy: 0.9590 - branch_exit_accuracy: 0.8755 - branch_exit_1_accuracy: 0.9098 - branch_exit_distil: 0.0757 - branch_exit_1_distil: 0.0505 - val_loss: 2.2237 - val_classification_loss: 0.6282 - val_branch_exit_loss: 0.7151 - val_branch_exit_1_loss: 0.7056 - val_classification_accuracy: 0.8020 - val_branch_exit_accuracy: 0.7820 - val_branch_exit_1_accuracy: 0.8012 - val_branch_exit_distil: 0.0979 - val_branch_exit_1_distil: 0.0773\n",
      "Epoch 17/30\n",
      "1407/1407 [==============================] - 96s 68ms/step - loss: 0.7582 - classification_loss: 0.0943 - branch_exit_loss: 0.3313 - branch_exit_1_loss: 0.2187 - classification_accuracy: 0.9780 - branch_exit_accuracy: 0.8884 - branch_exit_1_accuracy: 0.9275 - branch_exit_distil: 0.0705 - branch_exit_1_distil: 0.0435 - val_loss: 2.5878 - val_classification_loss: 0.7519 - val_branch_exit_loss: 0.8344 - val_branch_exit_1_loss: 0.8077 - val_classification_accuracy: 0.8032 - val_branch_exit_accuracy: 0.7646 - val_branch_exit_1_accuracy: 0.7958 - val_branch_exit_distil: 0.1106 - val_branch_exit_1_distil: 0.0830\n",
      "Shutting down background jobs, please wait a moment...\n",
      "Done!\n"
     ]
    },
    {
     "name": "stderr",
     "output_type": "stream",
     "text": [
      "Waiting for the remaining 20 operations to synchronize with Neptune. Do not kill this process.\n"
     ]
    },
    {
     "name": "stdout",
     "output_type": "stream",
     "text": [
      "All 20 operations synced, thanks for waiting!\n"
     ]
    }
   ],
   "source": [
    "model.fit(train_ds, epochs =30, validation_data = validation_ds, callbacks=[earlyStop])"
   ]
  },
  {
   "cell_type": "code",
   "execution_count": 18,
   "metadata": {},
   "outputs": [
    {
     "name": "stdout",
     "output_type": "stream",
     "text": [
      "313/313 [==============================] - 7s 24ms/step - loss: 2.2558 - classification_loss: 0.6207 - branch_exit_loss: 0.7211 - branch_exit_1_loss: 0.7384 - classification_accuracy: 0.8097 - branch_exit_accuracy: 0.7839 - branch_exit_1_accuracy: 0.8017 - branch_exit_distil: 0.0944 - branch_exit_1_distil: 0.0813\n"
     ]
    },
    {
     "data": {
      "text/plain": [
       "[2.255814552307129,\n",
       " 0.620667576789856,\n",
       " 0.7210642695426941,\n",
       " 0.7383788824081421,\n",
       " 0.8097000122070312,\n",
       " 0.7839000225067139,\n",
       " 0.8016999959945679,\n",
       " 0.0943700447678566,\n",
       " 0.08132020384073257]"
      ]
     },
     "execution_count": 18,
     "metadata": {},
     "output_type": "execute_result"
    }
   ],
   "source": [
    "model.evaluate(test_ds)"
   ]
  },
  {
   "cell_type": "code",
   "execution_count": 14,
   "metadata": {},
   "outputs": [
    {
     "name": "stdout",
     "output_type": "stream",
     "text": [
      "313/313 [==============================] - 8s 25ms/step - loss: 2.2786 - classification_loss: 0.6563 - branch_exit_loss: 0.7290 - branch_exit_1_loss: 0.7308 - classification_accuracy: 0.7993 - branch_exit_accuracy: 0.7730 - branch_exit_1_accuracy: 0.7914 - branch_exit_distil: 0.0898 - branch_exit_1_distil: 0.0726\n"
     ]
    },
    {
     "data": {
      "text/plain": [
       "[2.2785863876342773,\n",
       " 0.6562694907188416,\n",
       " 0.7289900779724121,\n",
       " 0.7308015823364258,\n",
       " 0.7993000149726868,\n",
       " 0.7730000019073486,\n",
       " 0.7914000153541565,\n",
       " 0.08977510780096054,\n",
       " 0.07261962443590164]"
      ]
     },
     "execution_count": 14,
     "metadata": {},
     "output_type": "execute_result"
    }
   ],
   "source": [
    "model.evaluate(test_ds)"
   ]
  },
  {
   "cell_type": "code",
   "execution_count": 15,
   "metadata": {},
   "outputs": [],
   "source": [
    "model.save('./models/resnet_1.9_adam.hdf5')"
   ]
  },
  {
   "cell_type": "code",
   "execution_count": null,
   "metadata": {
    "collapsed": true,
    "jupyter": {
     "outputs_hidden": true
    },
    "tags": []
   },
   "outputs": [
    {
     "name": "stdout",
     "output_type": "stream",
     "text": [
      "Setting Main Layers  and branch layers training to true\n",
      "https://app.neptune.ai/cailen01/self-distilation/e/SEL-11\n",
      "Remember to stop your run once you’ve finished logging your metadata (https://docs.neptune.ai/api-reference/run#.stop). It will be stopped automatically only when the notebook kernel/interactive console is terminated.\n",
      "Epoch 1/30\n",
      "   6/1406 [..............................] - ETA: 1:23 - loss: 8.2378 - classification_loss: 0.1864 - branch_exit_loss: 3.1480 - branch_exit_1_loss: 3.2163 - classification_accuracy: 0.9531 - branch_exit_accuracy: 0.1406 - branch_exit_1_accuracy: 0.1146 - branch_exit_distil: 0.8229 - branch_exit_1_distil: 0.8642WARNING:tensorflow:Callback method `on_train_batch_end` is slow compared to the batch time (batch time: 0.0386s vs `on_train_batch_end` time: 0.0443s). Check your callbacks.\n",
      " 399/1406 [=======>......................] - ETA: 59s - loss: 3.5367 - classification_loss: 0.3619 - branch_exit_loss: 1.5062 - branch_exit_1_loss: 1.3280 - classification_accuracy: 0.9158 - branch_exit_accuracy: 0.4637 - branch_exit_1_accuracy: 0.5347 - branch_exit_distil: 0.1840 - branch_exit_1_distil: 0.1566"
     ]
    },
    {
     "ename": "KeyboardInterrupt",
     "evalue": "",
     "output_type": "error",
     "traceback": [
      "\u001b[1;31m---------------------------------------------------------------------------\u001b[0m",
      "\u001b[1;31mKeyboardInterrupt\u001b[0m                         Traceback (most recent call last)",
      "\u001b[1;32m~\\AppData\\Local\\Temp/ipykernel_54532/787434926.py\u001b[0m in \u001b[0;36m<module>\u001b[1;34m\u001b[0m\n\u001b[0;32m      4\u001b[0m            \u001b[1;34m\"loss_coef\"\u001b[0m\u001b[1;33m:\u001b[0m\u001b[1;36m1.9\u001b[0m\u001b[1;33m,\u001b[0m\u001b[1;33m\u001b[0m\u001b[1;33m\u001b[0m\u001b[0m\n\u001b[0;32m      5\u001b[0m            \"temperature\":10,}\n\u001b[1;32m----> 6\u001b[1;33m \u001b[0mmodel\u001b[0m\u001b[1;33m.\u001b[0m\u001b[0mfit\u001b[0m\u001b[1;33m(\u001b[0m\u001b[0mtrain_ds\u001b[0m\u001b[1;33m,\u001b[0m \u001b[0mepochs\u001b[0m \u001b[1;33m=\u001b[0m\u001b[1;36m30\u001b[0m\u001b[1;33m,\u001b[0m \u001b[0mvalidation_data\u001b[0m \u001b[1;33m=\u001b[0m \u001b[0mvalidation_ds\u001b[0m\u001b[1;33m,\u001b[0m \u001b[0mcallbacks\u001b[0m\u001b[1;33m=\u001b[0m\u001b[1;33m[\u001b[0m\u001b[0mearlyStop\u001b[0m\u001b[1;33m]\u001b[0m\u001b[1;33m,\u001b[0m\u001b[0mparameters\u001b[0m\u001b[1;33m=\u001b[0m\u001b[0mparameters\u001b[0m\u001b[1;33m)\u001b[0m\u001b[1;33m\u001b[0m\u001b[1;33m\u001b[0m\u001b[0m\n\u001b[0m",
      "\u001b[1;32m~\\Documents\\MachineLearning\\Self_Distillation\\branching\\core_v2.py\u001b[0m in \u001b[0;36mfit\u001b[1;34m(self, train_ds, validation_data, validation_freq, epochs, callbacks, saveName, freeze, custom_objects, parameters)\u001b[0m\n\u001b[0;32m    285\u001b[0m                 \u001b[0mepochs\u001b[0m\u001b[1;33m=\u001b[0m\u001b[0mepochs\u001b[0m\u001b[1;33m,\u001b[0m\u001b[1;33m\u001b[0m\u001b[1;33m\u001b[0m\u001b[0m\n\u001b[0;32m    286\u001b[0m                 \u001b[0mvalidation_data\u001b[0m\u001b[1;33m=\u001b[0m\u001b[0mvalidation_data\u001b[0m\u001b[1;33m,\u001b[0m\u001b[1;33m\u001b[0m\u001b[1;33m\u001b[0m\u001b[0m\n\u001b[1;32m--> 287\u001b[1;33m                 callbacks=[tensorboard_cb,callbacks, neptune_cbk])\n\u001b[0m\u001b[0;32m    288\u001b[0m \u001b[1;33m\u001b[0m\u001b[0m\n\u001b[0;32m    289\u001b[0m \u001b[1;33m\u001b[0m\u001b[0m\n",
      "\u001b[1;32m~\\AppData\\Local\\conda\\conda\\envs\\py36\\lib\\site-packages\\keras\\utils\\traceback_utils.py\u001b[0m in \u001b[0;36merror_handler\u001b[1;34m(*args, **kwargs)\u001b[0m\n\u001b[0;32m     62\u001b[0m     \u001b[0mfiltered_tb\u001b[0m \u001b[1;33m=\u001b[0m \u001b[1;32mNone\u001b[0m\u001b[1;33m\u001b[0m\u001b[1;33m\u001b[0m\u001b[0m\n\u001b[0;32m     63\u001b[0m     \u001b[1;32mtry\u001b[0m\u001b[1;33m:\u001b[0m\u001b[1;33m\u001b[0m\u001b[1;33m\u001b[0m\u001b[0m\n\u001b[1;32m---> 64\u001b[1;33m       \u001b[1;32mreturn\u001b[0m \u001b[0mfn\u001b[0m\u001b[1;33m(\u001b[0m\u001b[1;33m*\u001b[0m\u001b[0margs\u001b[0m\u001b[1;33m,\u001b[0m \u001b[1;33m**\u001b[0m\u001b[0mkwargs\u001b[0m\u001b[1;33m)\u001b[0m\u001b[1;33m\u001b[0m\u001b[1;33m\u001b[0m\u001b[0m\n\u001b[0m\u001b[0;32m     65\u001b[0m     \u001b[1;32mexcept\u001b[0m \u001b[0mException\u001b[0m \u001b[1;32mas\u001b[0m \u001b[0me\u001b[0m\u001b[1;33m:\u001b[0m  \u001b[1;31m# pylint: disable=broad-except\u001b[0m\u001b[1;33m\u001b[0m\u001b[1;33m\u001b[0m\u001b[0m\n\u001b[0;32m     66\u001b[0m       \u001b[0mfiltered_tb\u001b[0m \u001b[1;33m=\u001b[0m \u001b[0m_process_traceback_frames\u001b[0m\u001b[1;33m(\u001b[0m\u001b[0me\u001b[0m\u001b[1;33m.\u001b[0m\u001b[0m__traceback__\u001b[0m\u001b[1;33m)\u001b[0m\u001b[1;33m\u001b[0m\u001b[1;33m\u001b[0m\u001b[0m\n",
      "\u001b[1;32m~\\AppData\\Local\\conda\\conda\\envs\\py36\\lib\\site-packages\\keras\\engine\\training.py\u001b[0m in \u001b[0;36mfit\u001b[1;34m(self, x, y, batch_size, epochs, verbose, callbacks, validation_split, validation_data, shuffle, class_weight, sample_weight, initial_epoch, steps_per_epoch, validation_steps, validation_batch_size, validation_freq, max_queue_size, workers, use_multiprocessing)\u001b[0m\n\u001b[0;32m   1382\u001b[0m                 _r=1):\n\u001b[0;32m   1383\u001b[0m               \u001b[0mcallbacks\u001b[0m\u001b[1;33m.\u001b[0m\u001b[0mon_train_batch_begin\u001b[0m\u001b[1;33m(\u001b[0m\u001b[0mstep\u001b[0m\u001b[1;33m)\u001b[0m\u001b[1;33m\u001b[0m\u001b[1;33m\u001b[0m\u001b[0m\n\u001b[1;32m-> 1384\u001b[1;33m               \u001b[0mtmp_logs\u001b[0m \u001b[1;33m=\u001b[0m \u001b[0mself\u001b[0m\u001b[1;33m.\u001b[0m\u001b[0mtrain_function\u001b[0m\u001b[1;33m(\u001b[0m\u001b[0miterator\u001b[0m\u001b[1;33m)\u001b[0m\u001b[1;33m\u001b[0m\u001b[1;33m\u001b[0m\u001b[0m\n\u001b[0m\u001b[0;32m   1385\u001b[0m               \u001b[1;32mif\u001b[0m \u001b[0mdata_handler\u001b[0m\u001b[1;33m.\u001b[0m\u001b[0mshould_sync\u001b[0m\u001b[1;33m:\u001b[0m\u001b[1;33m\u001b[0m\u001b[1;33m\u001b[0m\u001b[0m\n\u001b[0;32m   1386\u001b[0m                 \u001b[0mcontext\u001b[0m\u001b[1;33m.\u001b[0m\u001b[0masync_wait\u001b[0m\u001b[1;33m(\u001b[0m\u001b[1;33m)\u001b[0m\u001b[1;33m\u001b[0m\u001b[1;33m\u001b[0m\u001b[0m\n",
      "\u001b[1;32m~\\AppData\\Local\\conda\\conda\\envs\\py36\\lib\\site-packages\\tensorflow\\python\\util\\traceback_utils.py\u001b[0m in \u001b[0;36merror_handler\u001b[1;34m(*args, **kwargs)\u001b[0m\n\u001b[0;32m    148\u001b[0m     \u001b[0mfiltered_tb\u001b[0m \u001b[1;33m=\u001b[0m \u001b[1;32mNone\u001b[0m\u001b[1;33m\u001b[0m\u001b[1;33m\u001b[0m\u001b[0m\n\u001b[0;32m    149\u001b[0m     \u001b[1;32mtry\u001b[0m\u001b[1;33m:\u001b[0m\u001b[1;33m\u001b[0m\u001b[1;33m\u001b[0m\u001b[0m\n\u001b[1;32m--> 150\u001b[1;33m       \u001b[1;32mreturn\u001b[0m \u001b[0mfn\u001b[0m\u001b[1;33m(\u001b[0m\u001b[1;33m*\u001b[0m\u001b[0margs\u001b[0m\u001b[1;33m,\u001b[0m \u001b[1;33m**\u001b[0m\u001b[0mkwargs\u001b[0m\u001b[1;33m)\u001b[0m\u001b[1;33m\u001b[0m\u001b[1;33m\u001b[0m\u001b[0m\n\u001b[0m\u001b[0;32m    151\u001b[0m     \u001b[1;32mexcept\u001b[0m \u001b[0mException\u001b[0m \u001b[1;32mas\u001b[0m \u001b[0me\u001b[0m\u001b[1;33m:\u001b[0m\u001b[1;33m\u001b[0m\u001b[1;33m\u001b[0m\u001b[0m\n\u001b[0;32m    152\u001b[0m       \u001b[0mfiltered_tb\u001b[0m \u001b[1;33m=\u001b[0m \u001b[0m_process_traceback_frames\u001b[0m\u001b[1;33m(\u001b[0m\u001b[0me\u001b[0m\u001b[1;33m.\u001b[0m\u001b[0m__traceback__\u001b[0m\u001b[1;33m)\u001b[0m\u001b[1;33m\u001b[0m\u001b[1;33m\u001b[0m\u001b[0m\n",
      "\u001b[1;32m~\\AppData\\Local\\conda\\conda\\envs\\py36\\lib\\site-packages\\tensorflow\\python\\eager\\def_function.py\u001b[0m in \u001b[0;36m__call__\u001b[1;34m(self, *args, **kwds)\u001b[0m\n\u001b[0;32m    913\u001b[0m \u001b[1;33m\u001b[0m\u001b[0m\n\u001b[0;32m    914\u001b[0m       \u001b[1;32mwith\u001b[0m \u001b[0mOptionalXlaContext\u001b[0m\u001b[1;33m(\u001b[0m\u001b[0mself\u001b[0m\u001b[1;33m.\u001b[0m\u001b[0m_jit_compile\u001b[0m\u001b[1;33m)\u001b[0m\u001b[1;33m:\u001b[0m\u001b[1;33m\u001b[0m\u001b[1;33m\u001b[0m\u001b[0m\n\u001b[1;32m--> 915\u001b[1;33m         \u001b[0mresult\u001b[0m \u001b[1;33m=\u001b[0m \u001b[0mself\u001b[0m\u001b[1;33m.\u001b[0m\u001b[0m_call\u001b[0m\u001b[1;33m(\u001b[0m\u001b[1;33m*\u001b[0m\u001b[0margs\u001b[0m\u001b[1;33m,\u001b[0m \u001b[1;33m**\u001b[0m\u001b[0mkwds\u001b[0m\u001b[1;33m)\u001b[0m\u001b[1;33m\u001b[0m\u001b[1;33m\u001b[0m\u001b[0m\n\u001b[0m\u001b[0;32m    916\u001b[0m \u001b[1;33m\u001b[0m\u001b[0m\n\u001b[0;32m    917\u001b[0m       \u001b[0mnew_tracing_count\u001b[0m \u001b[1;33m=\u001b[0m \u001b[0mself\u001b[0m\u001b[1;33m.\u001b[0m\u001b[0mexperimental_get_tracing_count\u001b[0m\u001b[1;33m(\u001b[0m\u001b[1;33m)\u001b[0m\u001b[1;33m\u001b[0m\u001b[1;33m\u001b[0m\u001b[0m\n",
      "\u001b[1;32m~\\AppData\\Local\\conda\\conda\\envs\\py36\\lib\\site-packages\\tensorflow\\python\\eager\\def_function.py\u001b[0m in \u001b[0;36m_call\u001b[1;34m(self, *args, **kwds)\u001b[0m\n\u001b[0;32m    945\u001b[0m       \u001b[1;31m# In this case we have created variables on the first call, so we run the\u001b[0m\u001b[1;33m\u001b[0m\u001b[1;33m\u001b[0m\u001b[1;33m\u001b[0m\u001b[0m\n\u001b[0;32m    946\u001b[0m       \u001b[1;31m# defunned version which is guaranteed to never create variables.\u001b[0m\u001b[1;33m\u001b[0m\u001b[1;33m\u001b[0m\u001b[1;33m\u001b[0m\u001b[0m\n\u001b[1;32m--> 947\u001b[1;33m       \u001b[1;32mreturn\u001b[0m \u001b[0mself\u001b[0m\u001b[1;33m.\u001b[0m\u001b[0m_stateless_fn\u001b[0m\u001b[1;33m(\u001b[0m\u001b[1;33m*\u001b[0m\u001b[0margs\u001b[0m\u001b[1;33m,\u001b[0m \u001b[1;33m**\u001b[0m\u001b[0mkwds\u001b[0m\u001b[1;33m)\u001b[0m  \u001b[1;31m# pylint: disable=not-callable\u001b[0m\u001b[1;33m\u001b[0m\u001b[1;33m\u001b[0m\u001b[0m\n\u001b[0m\u001b[0;32m    948\u001b[0m     \u001b[1;32melif\u001b[0m \u001b[0mself\u001b[0m\u001b[1;33m.\u001b[0m\u001b[0m_stateful_fn\u001b[0m \u001b[1;32mis\u001b[0m \u001b[1;32mnot\u001b[0m \u001b[1;32mNone\u001b[0m\u001b[1;33m:\u001b[0m\u001b[1;33m\u001b[0m\u001b[1;33m\u001b[0m\u001b[0m\n\u001b[0;32m    949\u001b[0m       \u001b[1;31m# Release the lock early so that multiple threads can perform the call\u001b[0m\u001b[1;33m\u001b[0m\u001b[1;33m\u001b[0m\u001b[1;33m\u001b[0m\u001b[0m\n",
      "\u001b[1;32m~\\AppData\\Local\\conda\\conda\\envs\\py36\\lib\\site-packages\\tensorflow\\python\\eager\\function.py\u001b[0m in \u001b[0;36m__call__\u001b[1;34m(self, *args, **kwargs)\u001b[0m\n\u001b[0;32m   2955\u001b[0m        filtered_flat_args) = self._maybe_define_function(args, kwargs)\n\u001b[0;32m   2956\u001b[0m     return graph_function._call_flat(\n\u001b[1;32m-> 2957\u001b[1;33m         filtered_flat_args, captured_inputs=graph_function.captured_inputs)  # pylint: disable=protected-access\n\u001b[0m\u001b[0;32m   2958\u001b[0m \u001b[1;33m\u001b[0m\u001b[0m\n\u001b[0;32m   2959\u001b[0m   \u001b[1;33m@\u001b[0m\u001b[0mproperty\u001b[0m\u001b[1;33m\u001b[0m\u001b[1;33m\u001b[0m\u001b[0m\n",
      "\u001b[1;32m~\\AppData\\Local\\conda\\conda\\envs\\py36\\lib\\site-packages\\tensorflow\\python\\eager\\function.py\u001b[0m in \u001b[0;36m_call_flat\u001b[1;34m(self, args, captured_inputs, cancellation_manager)\u001b[0m\n\u001b[0;32m   1852\u001b[0m       \u001b[1;31m# No tape is watching; skip to running the function.\u001b[0m\u001b[1;33m\u001b[0m\u001b[1;33m\u001b[0m\u001b[1;33m\u001b[0m\u001b[0m\n\u001b[0;32m   1853\u001b[0m       return self._build_call_outputs(self._inference_function.call(\n\u001b[1;32m-> 1854\u001b[1;33m           ctx, args, cancellation_manager=cancellation_manager))\n\u001b[0m\u001b[0;32m   1855\u001b[0m     forward_backward = self._select_forward_and_backward_functions(\n\u001b[0;32m   1856\u001b[0m         \u001b[0margs\u001b[0m\u001b[1;33m,\u001b[0m\u001b[1;33m\u001b[0m\u001b[1;33m\u001b[0m\u001b[0m\n",
      "\u001b[1;32m~\\AppData\\Local\\conda\\conda\\envs\\py36\\lib\\site-packages\\tensorflow\\python\\eager\\function.py\u001b[0m in \u001b[0;36mcall\u001b[1;34m(self, ctx, args, cancellation_manager)\u001b[0m\n\u001b[0;32m    502\u001b[0m               \u001b[0minputs\u001b[0m\u001b[1;33m=\u001b[0m\u001b[0margs\u001b[0m\u001b[1;33m,\u001b[0m\u001b[1;33m\u001b[0m\u001b[1;33m\u001b[0m\u001b[0m\n\u001b[0;32m    503\u001b[0m               \u001b[0mattrs\u001b[0m\u001b[1;33m=\u001b[0m\u001b[0mattrs\u001b[0m\u001b[1;33m,\u001b[0m\u001b[1;33m\u001b[0m\u001b[1;33m\u001b[0m\u001b[0m\n\u001b[1;32m--> 504\u001b[1;33m               ctx=ctx)\n\u001b[0m\u001b[0;32m    505\u001b[0m         \u001b[1;32melse\u001b[0m\u001b[1;33m:\u001b[0m\u001b[1;33m\u001b[0m\u001b[1;33m\u001b[0m\u001b[0m\n\u001b[0;32m    506\u001b[0m           outputs = execute.execute_with_cancellation(\n",
      "\u001b[1;32m~\\AppData\\Local\\conda\\conda\\envs\\py36\\lib\\site-packages\\tensorflow\\python\\eager\\execute.py\u001b[0m in \u001b[0;36mquick_execute\u001b[1;34m(op_name, num_outputs, inputs, attrs, ctx, name)\u001b[0m\n\u001b[0;32m     53\u001b[0m     \u001b[0mctx\u001b[0m\u001b[1;33m.\u001b[0m\u001b[0mensure_initialized\u001b[0m\u001b[1;33m(\u001b[0m\u001b[1;33m)\u001b[0m\u001b[1;33m\u001b[0m\u001b[1;33m\u001b[0m\u001b[0m\n\u001b[0;32m     54\u001b[0m     tensors = pywrap_tfe.TFE_Py_Execute(ctx._handle, device_name, op_name,\n\u001b[1;32m---> 55\u001b[1;33m                                         inputs, attrs, num_outputs)\n\u001b[0m\u001b[0;32m     56\u001b[0m   \u001b[1;32mexcept\u001b[0m \u001b[0mcore\u001b[0m\u001b[1;33m.\u001b[0m\u001b[0m_NotOkStatusException\u001b[0m \u001b[1;32mas\u001b[0m \u001b[0me\u001b[0m\u001b[1;33m:\u001b[0m\u001b[1;33m\u001b[0m\u001b[1;33m\u001b[0m\u001b[0m\n\u001b[0;32m     57\u001b[0m     \u001b[1;32mif\u001b[0m \u001b[0mname\u001b[0m \u001b[1;32mis\u001b[0m \u001b[1;32mnot\u001b[0m \u001b[1;32mNone\u001b[0m\u001b[1;33m:\u001b[0m\u001b[1;33m\u001b[0m\u001b[1;33m\u001b[0m\u001b[0m\n",
      "\u001b[1;31mKeyboardInterrupt\u001b[0m: "
     ]
    }
   ],
   "source": [
    "parameters={\"type\":\"SD\",\n",
    "           \"loss\":\"Adam\",\n",
    "           \"threshold\":\"entropy\",\n",
    "           \"loss_coef\":1.9,\n",
    "           \"temperature\":10,}\n",
    "model.fit(train_ds, epochs =30, validation_data = validation_ds, callbacks=[earlyStop],parameters=parameters)"
   ]
  },
  {
   "cell_type": "code",
   "execution_count": 26,
   "metadata": {},
   "outputs": [],
   "source": [
    "model = tf.keras.models.load_model(\"./models/resnet_CE_entropy_finetuned.hdf5\")"
   ]
  },
  {
   "cell_type": "code",
   "execution_count": 13,
   "metadata": {},
   "outputs": [
    {
     "name": "stdout",
     "output_type": "stream",
     "text": [
      "312/312 [==============================] - 5s 17ms/step - loss: 5.5853 - classification_loss: 1.6418 - branch_exit_loss: 1.7552 - branch_exit_1_loss: 1.9198 - classification_accuracy: 0.6998 - branch_exit_accuracy: 0.6943 - branch_exit_1_accuracy: 0.7099 - branch_exit_distil: 0.1491 - branch_exit_1_distil: 0.1193\n"
     ]
    },
    {
     "data": {
      "text/plain": [
       "[5.585251331329346,\n",
       " 1.6418087482452393,\n",
       " 1.755229115486145,\n",
       " 1.9198211431503296,\n",
       " 0.6998196840286255,\n",
       " 0.6943109035491943,\n",
       " 0.7099359035491943,\n",
       " 0.14910893142223358,\n",
       " 0.11928417533636093]"
      ]
     },
     "execution_count": 13,
     "metadata": {},
     "output_type": "execute_result"
    }
   ],
   "source": [
    "model.evaluate(test_ds)"
   ]
  },
  {
   "cell_type": "code",
   "execution_count": 62,
   "metadata": {
    "scrolled": true,
    "tags": []
   },
   "outputs": [
    {
     "name": "stdout",
     "output_type": "stream",
     "text": [
      "inputShape TensorShape([None, 512])\n",
      "inputShape TensorShape([None, 512])\n"
     ]
    }
   ],
   "source": [
    "# lambda_callback = lambda_update(1000,0,max_t = 0.01)\n",
    "# growth_callback = growth_update(100,0,max_t = 0.1, starting_epoch =0)\n",
    "\n",
    "# auxlossMetric = auxLoss(growth_callback)\n",
    "# branch_loss = loss_wrapper(growth_callback)\n",
    "branch_loss = keras.losses.CategoricalCrossentropy(from_logits=True)\n",
    "# model = tf.keras.models.load_model(\"./models/journal_models/resnet_EDL_e15_g100.hdf5\",custom_objects={\"BranchModel\":brevis.BranchModel,\"auxloss\":auxlossMetric,\"growth_callback\":growth_callback,\"custom_loss_function\":branch_loss})\n",
    "model = tf.keras.models.load_model(\"./models/resnet_1.9_sgd.hdf5\",custom_objects={\"Distill_BranchModel\":branching.Distill_BranchModel,\"SelfDistilEndpoint_2\":SelfDistilEndpoint_2, \"custom_loss_function\":branch_loss})\n",
    "\n"
   ]
  },
  {
   "cell_type": "code",
   "execution_count": 16,
   "metadata": {},
   "outputs": [
    {
     "name": "stdout",
     "output_type": "stream",
     "text": [
      "313/313 [==============================] - 12s 22ms/step - loss: 2.2786 - classification_loss: 0.6563 - branch_exit_loss: 0.7290 - branch_exit_1_loss: 0.7308 - accuracy: 0.7914 - branch_exit_distil: 0.0898 - branch_exit_1_distil: 0.0726\n"
     ]
    },
    {
     "data": {
      "text/plain": [
       "[2.2785863876342773,\n",
       " 0.6562695503234863,\n",
       " 0.7289900779724121,\n",
       " 0.7308015823364258,\n",
       " 0.7914000153541565,\n",
       " 0.7914000153541565,\n",
       " 0.7914000153541565,\n",
       " 0.08977510780096054,\n",
       " 0.07261963933706284]"
      ]
     },
     "execution_count": 16,
     "metadata": {},
     "output_type": "execute_result"
    }
   ],
   "source": [
    "model.evaluate(test_ds)"
   ]
  },
  {
   "cell_type": "code",
   "execution_count": 17,
   "metadata": {},
   "outputs": [
    {
     "data": {
      "text/plain": [
       "[<KerasTensor: shape=(None, 10) dtype=float32 (created by layer 'classification')>,\n",
       " <KerasTensor: shape=(None, 10) dtype=float32 (created by layer 'branch_exit')>,\n",
       " <KerasTensor: shape=(None, 10) dtype=float32 (created by layer 'branch_exit_1')>]"
      ]
     },
     "execution_count": 17,
     "metadata": {},
     "output_type": "execute_result"
    }
   ],
   "source": [
    "model.outputs"
   ]
  },
  {
   "cell_type": "markdown",
   "metadata": {},
   "source": [
    "### evaluate the branches on the test dataset, "
   ]
  },
  {
   "cell_type": "code",
   "execution_count": null,
   "metadata": {},
   "outputs": [],
   "source": []
  },
  {
   "cell_type": "code",
   "execution_count": 18,
   "metadata": {},
   "outputs": [],
   "source": [
    "def getPredictions(model, input_set, stopping_point=None,num_classes=10, values =['energy', 'entropy', 'calibration']):\n",
    "    '''\n",
    "        Function for collecting the model's predictions on a test set. \n",
    "        Returns a list of DataFrames for each exit of the model.    \n",
    "    '''\n",
    "    num_outputs = len(model.outputs) # the number of output layers for the purpose of providing labels\n",
    "    print(\"outputs\",num_outputs)\n",
    "    print(values)\n",
    "    #     train_ds, test_ds, validation_ds = (dataset)\n",
    "    Results=[]\n",
    "    Pred=[]\n",
    "    Labels =[]\n",
    "    Uncert = []\n",
    "    Outputs = pd.DataFrame()\n",
    "    Energy = []\n",
    "    Energy_softmax = []\n",
    "    Energy_evidence = []\n",
    "    Energy_alpha = []\n",
    "    Energy_Mass = []\n",
    "    Entropy = []\n",
    "    pAcc=[]\n",
    "    calibration=[]\n",
    "\n",
    "    conf=[]\n",
    "    entropy_of_exp=[]\n",
    "    expected_entropy=[]\n",
    "    mutual_info=[]\n",
    "    epkl=[]\n",
    "    dentropy=[]\n",
    "    if 'energy' in values:\n",
    "        print(True)\n",
    "    for i in range(num_outputs):\n",
    "        Results.append([])\n",
    "        Pred.append([])\n",
    "        Labels.append([])\n",
    "        Uncert.append([])\n",
    "        Energy.append([])\n",
    "        Energy_softmax.append([])\n",
    "        Energy_evidence.append([])\n",
    "        Energy_alpha.append([])\n",
    "        Energy_Mass.append([])\n",
    "        Entropy.append([])\n",
    "        pAcc.append([])\n",
    "        calibration.append([])\n",
    "\n",
    "        conf.append([])\n",
    "        entropy_of_exp.append([])\n",
    "        expected_entropy.append([])\n",
    "        mutual_info.append([])\n",
    "        epkl.append([])\n",
    "        dentropy.append([])\n",
    "        \n",
    "    for i, (x,y) in enumerate(input_set):\n",
    "        if stopping_point and i > stopping_point:\n",
    "            break\n",
    "        try:\n",
    "            print(\"prediction: {} of {}\".format(i,len(input_set)),end='\\r')\n",
    "        except:\n",
    "            print(\"prediction: {}\".format(i),end='\\r')\n",
    "            pass\n",
    "        predictions = model.predict(x)\n",
    "        if num_outputs > 1:\n",
    "            _predictions = predictions[0]\n",
    "        else:\n",
    "            _predictions = [predictions]\n",
    "        # print(_predictions)\n",
    "        for k, outputs in enumerate(_predictions):\n",
    "            \n",
    "            # print(\"outputs \", k, outputs)\n",
    "            for j, prediction in enumerate(outputs):\n",
    "               \n",
    "                Results[k].append(np.argmax(prediction))\n",
    "                Labels[k].append(np.argmax(y[j]))\n",
    "                \n",
    "                if 'energy' in values:\n",
    "                    Energy[k].append( -(logsumexp(np.array(prediction))))\n",
    "                if 'entropy' in values:\n",
    "                    Entropy[k].append(branching.utils.calcEntropy_Tensors2(tf.nn.softmax(prediction)).numpy())\n",
    "                if 'calibration' in values:\n",
    "                    calibration[k].append(np.amax(tf.nn.softmax(prediction).numpy()))\n",
    "                if 'uncert' in values:\n",
    "                    evidence =tf.nn.softplus(prediction)\n",
    "                    alpha = evidence +1\n",
    "                    S = sum(alpha)\n",
    "                    E = alpha - 1\n",
    "                    Mass = alpha / S\n",
    "                    u = num_classes / S\n",
    "                    Uncert[k].append(u.numpy().mean())\n",
    "                # Entropy[k].append(brevis.utils.calcEntropy_Tensors2(tf.nn.softmax(prediction)).numpy())\n",
    "                # dirch = evaluate.dirichlet_prior_network_uncertainty([prediction])\n",
    "                # # print(dirch)\n",
    "                # conf[k].append(dirch[\"confidence_alea_uncert.\"])\n",
    "                # entropy_of_exp[k].append(dirch[\"entropy_of_expected\"])\n",
    "                # expected_entropy[k].append(dirch[\"expected_entropy\"])\n",
    "                # mutual_info[k].append(dirch[\"mutual_information\"])\n",
    "                # epkl[k].append(dirch[\"EPKL\"])\n",
    "                # dentropy[k].append(dirch[\"differential_entropy\"])\n",
    "    Outputs=[]\n",
    "    for j in range(num_outputs):\n",
    "#         \"probs\":Pred[j],\n",
    "        # df = pd.DataFrame({\"x\":Results[j],\"y\":Labels[j],'sum':Sum[j],'uncert':Uncert[j],\"belief masses\":Evidence[j]})\n",
    "        results = {\"x\":Results[j],\"y\":Labels[j]}\n",
    "        if 'energy' in values:\n",
    "            results[\"energy\"]=Energy[j]\n",
    "        if 'entropy' in values:\n",
    "            results['entropy']=Entropy[j]\n",
    "        if 'calibration' in values:\n",
    "            results['calibration']=calibration[j]\n",
    "        if 'uncert' in values:\n",
    "            results['uncert']=Uncert[j]\n",
    "#         {\"x\":Results[j],\"y\":Labels[j],\n",
    "#                         # \"confidence_alea_uncert\":conf[j],\n",
    "#                         # \"entropy_of_expected\":entropy_of_exp[j],\n",
    "#                         # \"expected_entropy\":expected_entropy[j],\n",
    "#                         # \"mutual_information\":mutual_info[j],\n",
    "#                         # \"EPKL\":epkl[j],\n",
    "#                         # \"differential_entropy\":dentropy[j],\n",
    "#                       }\n",
    "        # print(results)\n",
    "        df = pd.DataFrame(results)\n",
    "        conditions = [df['x'] == df['y'],df['x'] != df['y']]\n",
    "        choices = [1, 0]\n",
    "        #create new column in DataFrame that displays results of comparisons\n",
    "        df['correct'] = np.int32(np.select(conditions, choices, default=None))\n",
    "        Outputs.append(df)\n",
    "    return Outputs"
   ]
  },
  {
   "cell_type": "code",
   "execution_count": 63,
   "metadata": {},
   "outputs": [
    {
     "name": "stdout",
     "output_type": "stream",
     "text": [
      "outputs 3\n",
      "['entropy']\n",
      "prediction: 312 of 313\r"
     ]
    }
   ],
   "source": [
    "#if EDL\n",
    "output_ID= getPredictions(model, test_ds,  values =['entropy'], stopping_point=None)\n",
    "#if CE\n",
    "# output_ID= evaluate.getPredictions(model, test_ds,  values =['entropy'], stopping_point=None)\n",
    "for i in output_ID:\n",
    "    i['outlier']=0\n"
   ]
  },
  {
   "cell_type": "code",
   "execution_count": 32,
   "metadata": {},
   "outputs": [
    {
     "name": "stdout",
     "output_type": "stream",
     "text": [
      "outputs 3\n",
      "['entropy']\n",
      "prediction: 312 of 313\r"
     ]
    }
   ],
   "source": [
    "# #if EDL\n",
    "# output_OOD= getPredictions(model, test_ds100,  values =['entropy'], stopping_point=None)\n",
    "# #if CE\n",
    "# # output_OOD= evaluate.getPredictions(model, test_ds100,  values =['entropy'], stopping_point=None)\n",
    "# for i in output_OOD:\n",
    "#     i['correct']=0\n",
    "#     i['outlier']=1"
   ]
  },
  {
   "cell_type": "code",
   "execution_count": 20,
   "metadata": {},
   "outputs": [],
   "source": [
    "from sklearn.metrics import roc_curve\n",
    "from sklearn.metrics import roc_auc_score\n",
    "from sklearn.metrics import precision_recall_curve\n",
    "from sklearn.metrics import accuracy_score, precision_score, recall_score, f1_score, roc_auc_score, precision_recall_curve, plot_precision_recall_curve\n",
    "from numpy import sqrt, argmax\n",
    "def calc_AUC(output_df,metrics=['energy'],plot=False, pos_label = 0):\n",
    "    '''\n",
    "    AUC calculation function for list of output dataframes\n",
    "    returns a list of threshold for the gmean of each set of outputs.    \n",
    "    '''\n",
    "    lessThanMetrics = [\"uncert\",\"energy\",\"entropy\"]\n",
    "    _thresholds = []\n",
    "    y_test = np.int32(output_df['correct'])\n",
    "    plots = []\n",
    "    if type(metrics) is not list:\n",
    "        metrics = [metrics]\n",
    "    for metric in metrics:    \n",
    "        # print(\"metric\", metric)\n",
    "        lr_auc = roc_auc_score(y_test, output_df[metric])\n",
    "        if metric in lessThanMetrics:\n",
    "            pos_label = 0\n",
    "        else:\n",
    "            pos_label = 1\n",
    "        fpr, tpr, thresholds = roc_curve(y_test, output_df[metric],pos_label=pos_label)\n",
    "        gmeans = sqrt(tpr * (1-fpr))\n",
    "        # print(gmeans)\n",
    "        # locate the index of the largest g-mean\n",
    "        ix = argmax(gmeans)\n",
    "        threshold = thresholds[ix]\n",
    "        if plot:\n",
    "            print(metric,\" lr_auc\",lr_auc, 'Best Threshold={}, G-Mean={}, TPR={}, FPR={}'.format(threshold, gmeans[ix],tpr[ix],fpr[ix]))\n",
    "        _thresholds.append(threshold)\n",
    "        # plot the roc curve for the model\n",
    "        plots.append({\"fpr\":fpr,\"tpr\":tpr,\"label\":metric, \"ix\":ix})\n",
    "    if plot:\n",
    "        plt.plot([0,1], [0,1], linestyle='--', label='No Skill')\n",
    "        for plot in plots:\n",
    "            ix = plot['ix']\n",
    "            plt.plot(plot[\"fpr\"], plot[\"tpr\"],  label=plot['label'])\n",
    "\n",
    "            plt.scatter(plot[\"fpr\"][ix], plot[\"tpr\"][ix], marker='o', color='black')\n",
    "        # axis labels\n",
    "        plt.xlabel('False Positive Rate')\n",
    "        plt.ylabel('True Positive Rate')\n",
    "        plt.title(metric)\n",
    "        plt.legend()\n",
    "        # show the plot\n",
    "        plt.show()\n",
    "    return _thresholds\n"
   ]
  },
  {
   "cell_type": "code",
   "execution_count": 64,
   "metadata": {},
   "outputs": [],
   "source": [
    "def EvaluateID(ID,metrics=[\"energy\"], threshold=None, exit=-1, legend=[\"In Distribution\"],main_exit_included=True,plot=True,exit_labels=['exit_1']):\n",
    "    '''\n",
    "    Build an evaluation plot of the branched model's performance on ID and OOD datasets.\n",
    "\n",
    "    ::Variables::\n",
    "    ID: in-distribution dataset\n",
    "    OOD: out of distribution dataset\n",
    "    metrics: list of strings of metrics to evaluate branch results with. can be any of the following: [\"gmean\", \"mean\", \"PR_AUC\"]\n",
    "    exit: #if a specific exit number is specified, only output the results of that exit. counts from 0 - N, with 0 being the main exit. -1 returns all exits\n",
    "    legend: specify a legend to use for the plot\n",
    "    main_exit_included: specify if the last exit must answer all inputs recieved, if False, it will use the threshold to accept and reject inputs\n",
    "    plot: choose to produce a plot or just the table of branch results\n",
    "    exit_labels: what labels to use for the exits, defaults to \"exit_N\" \n",
    "    '''\n",
    "    lessThanMetrics = [\"energy\",\"uncert\",\"entropy\"]\n",
    "    if type(metrics) is not list:\n",
    "        metrics = [metrics]\n",
    "    for j, metric in enumerate(metrics):\n",
    "        print(\"metric: \", metric, \"threshold: \",threshold)\n",
    "        rollOver_ID_indices = pd.Index([])\n",
    "        Exit_Name=[]\n",
    "        _ID = ID.copy()\n",
    "        _ID.append(_ID.pop(0))\n",
    "        Accepted_df = pd.DataFrame()\n",
    "        Input_ID=[]\n",
    "        Accepted_list =[]\n",
    "        Accepted_ID_list = []\n",
    "        Acceptance_correct =[]\n",
    "        Input_predictions =[]\n",
    "        Accepted_Ratio_list=[]\n",
    "        Accepted_Accuracy_list=[]\n",
    "        Branch_flops = []\n",
    "        Thresholds=[]\n",
    "        Test_accuracy =[]\n",
    "        Rollover_accuracy=[]\n",
    "        Results=[]\n",
    "        Accepted_Accuracy=[]\n",
    "        Rejected_Input=[]\n",
    "        Accepted_Ratio=[]\n",
    "        if exit > 0: #if a specific exit number is specified, only output the results of that exit.\n",
    "            _ID = [_ID[max(exit-1,0)]]\n",
    "            exit_labels=['exit_{}'.format(exit)]\n",
    "        for i, output_ID in enumerate(_ID): \n",
    "            Test_accuracy.append(len(output_ID.loc[(output_ID[\"correct\"] == True)])/len(output_ID))\n",
    "            if threshold:\n",
    "                if type(threshold) is list:\n",
    "                    if i >= len(threshold): #no threshold in the array so treat as None.\n",
    "                        continue\n",
    "                    _threshold = threshold[i]\n",
    "                    print(\"threshold\",_threshold)\n",
    "                else:\n",
    "                    _threshold = threshold\n",
    "                if _threshold == \"mean\":\n",
    "                    Correct = output_ID.loc[(output_ID[\"correct\"] == True)]\n",
    "                    _threshold = np.array(Correct[metric]).mean()\n",
    "                if _threshold == \"gmean\":\n",
    "                    AUC_thresholds = calc_AUC(output_ID, metrics=metric, plot = False)\n",
    "                    _threshold = AUC_thresholds[j]\n",
    "                if _threshold == \"PR_AUC\":\n",
    "                    precision_, recall_, proba = precision_recall_curve(output_ID['correct'], output_ID[metric])\n",
    "                    _threshold = sorted(list(zip(np.abs(precision_ - recall_), proba)), key=lambda i: i[0], reverse=False)[0][1]\n",
    "                else:\n",
    "                    _threshold = np.float32(_threshold)\n",
    "            if len(rollOver_ID_indices)>0:\n",
    "                output_ID = output_ID.iloc[rollOver_ID_indices]\n",
    "            \n",
    "            legend = [\"Branch Threshold\",\"Correct ID Predictions\",\"Incorrect ID Predictions\"]\n",
    "            Correct = output_ID.loc[(output_ID['correct'] == True)]\n",
    "            Incorrect = output_ID.loc[(output_ID['correct'] == False)]\n",
    "            if plot:\n",
    "                _ = plt.hist(Correct[metric].tolist(), bins=100)  # arguments are passed to np.histogram\n",
    "                _ = plt.hist(Incorrect[metric].tolist(), bins=100,color =\"red\", alpha = 0.5)  # arguments are passed to np.histogram\n",
    "                plt.axvline(x=_threshold, color='k', linestyle='--',label=\"threshold\")\n",
    "                plt.title(metric.capitalize() + \" Outliers\", weight=\"bold\")\n",
    "                # plt.legend(legend)\n",
    "                plt.xlabel(metric.capitalize() + \" Score\", weight=\"bold\")\n",
    "                plt.ylabel(\"Frequency\", weight=\"bold\")\n",
    "                plt.legend(legend,frameon=True)\n",
    "                ## arrow annotation\n",
    "                if lessThanMetrics:\n",
    "                    ymax = plt.gca().get_ylim()\n",
    "                    xmax = plt.gca().get_xlim()\n",
    "                    ywidth = abs(ymax[0] - ymax[1])\n",
    "                    xwidth = abs(xmax[0] - xmax[1])\n",
    "                    plt.text(max(_threshold- xwidth/4,xmax[0]) , (ywidth/1.5) + ywidth/60 ,\"Accepted Inputs\",wrap=True)\n",
    "                    plt.annotate(\"\", xy=(_threshold - xwidth/4, ywidth/1.5), xytext=(_threshold, ywidth/1.5), arrowprops=dict(arrowstyle=\"->\"))\n",
    "                    \n",
    "                    plt.text(min(_threshold + xwidth/80,xmax[1]), (ywidth/2)+ ywidth/60,\"Rejected Inputs\",wrap=True)\n",
    "                    plt.annotate(\"\", xy=(_threshold + xwidth/4, ywidth/2), xytext=(_threshold, ywidth/2),  arrowprops=dict(arrowstyle=\"->\"))\n",
    "                else:\n",
    "                    plt.annotate(\"\", xy=(_threshold, 100), xytext=(_threshold, 0), arrowprops=dict(arrowstyle=\"->\"))\n",
    "                    \n",
    "                plt.show()\n",
    "            if main_exit_included and i == len(_ID)-1 :\n",
    "                Exit_Name.append(\"Main_exit\")\n",
    "                _threshold\n",
    "                if plot:\n",
    "                    print(\"main_exit\")\n",
    "                ID_accepted = output_ID\n",
    "                ID_rejected = None\n",
    "                accepted_correct = ID_accepted.loc[(ID_accepted[\"correct\"] == True )] #TP\n",
    "                rejected_correct = None\n",
    "                accepted_incorrect = ID_accepted.loc[(ID_accepted[metric] ==False)] #FP\n",
    "                rejected_incorrect = None\n",
    "                accepted_ID_acc = len(accepted_correct) / (len( ID_accepted))\n",
    "                overall_accepted_acc = len(accepted_correct) / (len( ID_accepted))\n",
    "                _threshold = \"NA\"\n",
    "            else:\n",
    "                if metric in lessThanMetrics: ## metrics that require less than metric\n",
    "                    ID_accepted = output_ID.loc[(output_ID[metric] <= _threshold)] #TP\n",
    "                    ID_rejected = output_ID.loc[(output_ID[metric] > _threshold)] #FN\n",
    "\n",
    "                    accepted_correct = ID_accepted.loc[(ID_accepted[\"correct\"] == True )] #TP\n",
    "                    rejected_correct = ID_rejected.loc[(ID_rejected[\"correct\"] == True)]  #FN\n",
    "                    accepted_incorrect = ID_accepted.loc[(ID_accepted[metric] ==False)] #FP\n",
    "                    rejected_incorrect = ID_rejected.loc[(ID_rejected[metric] ==False)] #TN\n",
    "\n",
    "                    accepted_ID_acc = len(accepted_correct) / (len( ID_accepted))\n",
    "                else: ### metrics that require greater than metric\n",
    "                    ID_accepted = output_ID.loc[(output_ID[metric] >= _threshold)] #TP\n",
    "                    ID_rejected = output_ID.loc[(output_ID[metric] < _threshold)] #FN\n",
    "\n",
    "                    accepted_correct = ID_accepted.loc[(ID_accepted[\"correct\"] == True )] #TP\n",
    "                    rejected_correct = ID_rejected.loc[(ID_rejected[\"correct\"] == True)]  #FN\n",
    "                    accepted_incorrect = ID_accepted.loc[(ID_accepted[metric] ==False)] #FP\n",
    "                    rejected_incorrect = ID_rejected.loc[(ID_rejected[metric] ==False)] #TN\n",
    "                    accepted_ID_acc = len(accepted_correct) / (len( ID_accepted))\n",
    "                    overall_accepted_acc = len(accepted_correct) / (len( ID_accepted))\n",
    "                rollOver_ID_indices = ID_rejected.index\n",
    "                if i >= len(exit_labels):\n",
    "                    exit_labels.append(\"exit_{}\".format(i+1))\n",
    "                print(exit_labels)\n",
    "                Exit_Name.append(exit_labels[i])\n",
    "                \n",
    "            Thresholds.append(_threshold)\n",
    "            \n",
    "            Results.append(accepted_correct + accepted_incorrect)\n",
    "            Input_ID.append(len(output_ID))\n",
    "            Accepted_ID_list.append(len(ID_accepted))\n",
    "            Accepted_Accuracy.append((len(accepted_correct)/len(ID_accepted)))\n",
    "            Acceptance_correct.append(len(accepted_correct))\n",
    "            if type(ID_rejected) is not type(None):\n",
    "                Rejected_Input.append(len(ID_rejected)/len(output_ID))\n",
    "            else:\n",
    "                Rejected_Input.append(0)\n",
    "            Accepted_Ratio.append(len(ID_accepted)/len(output_ID))\n",
    "            \n",
    "        df = pd.DataFrame({\n",
    "        \"Exit_Name\":Exit_Name,\n",
    "        \"ID_Inputs\":Input_ID,\n",
    "        \"Test_Accuracy\":Test_accuracy,\n",
    "        \"Threshold\":Thresholds,\n",
    "        \"Accepted_Input\":Accepted_ID_list,\n",
    "        \"Accepted_Correct\":Acceptance_correct,\n",
    "        \"Accepted_Accuracy\":Accepted_Accuracy,\n",
    "        \"Rejected_Input\":Rejected_Input,\n",
    "        \"Accepted %\": Accepted_Ratio,\n",
    "                        })\n",
    "        with pd.option_context('expand_frame_repr', False):\n",
    "            print (df)"
   ]
  },
  {
   "cell_type": "markdown",
   "metadata": {},
   "source": [
    "### get the evaluation results"
   ]
  },
  {
   "cell_type": "code",
   "execution_count": null,
   "metadata": {},
   "outputs": [
    {
     "name": "stdout",
     "output_type": "stream",
     "text": [
      "metric:  entropy threshold:  gmean\n"
     ]
    },
    {
     "data": {
      "image/png": "[encoded data removed]",
      "text/plain": [
       "<Figure size 432x288 with 1 Axes>"
      ]
     },
     "metadata": {
      "needs_background": "light"
     },
     "output_type": "display_data"
    },
    {
     "name": "stdout",
     "output_type": "stream",
     "text": [
      "['exit_1']\n"
     ]
    },
    {
     "data": {
      "image/png": "[encoded data removed]",
      "text/plain": [
       "<Figure size 432x288 with 1 Axes>"
      ]
     },
     "metadata": {
      "needs_background": "light"
     },
     "output_type": "display_data"
    },
    {
     "name": "stdout",
     "output_type": "stream",
     "text": [
      "['exit_1', 'exit_2']\n"
     ]
    },
    {
     "data": {
      "image/png": "[encoded data removed]",
      "text/plain": [
       "<Figure size 432x288 with 1 Axes>"
      ]
     },
     "metadata": {
      "needs_background": "light"
     },
     "output_type": "display_data"
    },
    {
     "name": "stdout",
     "output_type": "stream",
     "text": [
      "main_exit\n",
      "   Exit_Name  ID_Inputs  Test_Accuracy Threshold  Accepted Input  Accepted_Correct  Accepted Accuracy  Rejected Input  Accepted %\n",
      "0     exit_1      10000         0.7730  0.674982            6003              5560           0.926204        0.399700    0.600300\n",
      "1     exit_2       3997         0.7914  0.411693            1243              1017           0.818182        0.689017    0.310983\n",
      "2  Main_exit       2754         0.7993        NA            2754              1537           0.558097        0.000000    1.000000\n"
     ]
    }
   ],
   "source": [
    "#SD adam optimizer\n",
    "EvaluateID(output_ID,metrics=[\"entropy\"], threshold=\"gmean\", exit=-1, legend=[\"In Distribution\",\"Out of Distribution\"],main_exit_included=True,plot=True,exit_labels=['exit_1'])"
   ]
  },
  {
   "cell_type": "code",
   "execution_count": 65,
   "metadata": {},
   "outputs": [
    {
     "name": "stdout",
     "output_type": "stream",
     "text": [
      "metric:  entropy threshold:  gmean\n"
     ]
    },
    {
     "data": {
      "image/png": "[encoded data removed]",
      "text/plain": [
       "<Figure size 432x288 with 1 Axes>"
      ]
     },
     "metadata": {
      "needs_background": "light"
     },
     "output_type": "display_data"
    },
    {
     "name": "stdout",
     "output_type": "stream",
     "text": [
      "['exit_1']\n"
     ]
    },
    {
     "data": {
      "image/png": "[encoded data removed]",
      "text/plain": [
       "<Figure size 432x288 with 1 Axes>"
      ]
     },
     "metadata": {
      "needs_background": "light"
     },
     "output_type": "display_data"
    },
    {
     "name": "stdout",
     "output_type": "stream",
     "text": [
      "['exit_1', 'exit_2']\n"
     ]
    },
    {
     "data": {
      "image/png": "[encoded data removed]",
      "text/plain": [
       "<Figure size 432x288 with 1 Axes>"
      ]
     },
     "metadata": {
      "needs_background": "light"
     },
     "output_type": "display_data"
    },
    {
     "name": "stdout",
     "output_type": "stream",
     "text": [
      "main_exit\n",
      "   Exit_Name  ID_Inputs  Test_Accuracy Threshold  Accepted_Input  Accepted_Correct  Accepted_Accuracy  Rejected_Input  Accepted %\n",
      "0     exit_1      10000         0.7839  0.414696            6168              5780           0.937095        0.383200    0.616800\n",
      "1     exit_2       3832         0.8017   0.32181            1265              1033           0.816601        0.669885    0.330115\n",
      "2  Main_exit       2567         0.8097        NA            2567              1368           0.532918        0.000000    1.000000\n"
     ]
    }
   ],
   "source": [
    "#SD sgd optimizer\n",
    "EvaluateID(output_ID,metrics=[\"entropy\"], threshold=\"gmean\", exit=-1, legend=[\"In Distribution\",\"Out of Distribution\"],main_exit_included=True,plot=True,exit_labels=['exit_1'])"
   ]
  },
  {
   "cell_type": "code",
   "execution_count": null,
   "metadata": {},
   "outputs": [],
   "source": []
  },
  {
   "cell_type": "code",
   "execution_count": null,
   "metadata": {},
   "outputs": [],
   "source": []
  },
  {
   "cell_type": "code",
   "execution_count": 38,
   "metadata": {},
   "outputs": [
    {
     "name": "stdout",
     "output_type": "stream",
     "text": [
      "metric:  entropy threshold:  gmean\n",
      "(0.0, 3761.1) 3761.1\n",
      "(-0.16295427083915545, 3.422039687633489) 0.0724916219711329\n"
     ]
    },
    {
     "data": {
      "image/png": "[encoded data removed]",
      "text/plain": [
       "<Figure size 432x288 with 1 Axes>"
      ]
     },
     "metadata": {
      "needs_background": "light"
     },
     "output_type": "display_data"
    },
    {
     "name": "stdout",
     "output_type": "stream",
     "text": [
      "['exit_1']\n",
      "(0.0, 446.25) 446.25\n",
      "(-0.1609421075565077, 3.379786129514293) -0.016168337635190877\n"
     ]
    },
    {
     "data": {
      "image/png": "[encoded data removed]",
      "text/plain": [
       "<Figure size 432x288 with 1 Axes>"
      ]
     },
     "metadata": {
      "needs_background": "light"
     },
     "output_type": "display_data"
    },
    {
     "name": "stdout",
     "output_type": "stream",
     "text": [
      "['exit_1', 'exit_2']\n",
      "(0.0, 111.3) 111.3\n",
      "(3.2111254692077638, 3.3243988990783695) 2.901071796417236\n"
     ]
    },
    {
     "data": {
      "image/png": "[encoded data removed]",
      "text/plain": [
       "<Figure size 432x288 with 1 Axes>"
      ]
     },
     "metadata": {
      "needs_background": "light"
     },
     "output_type": "display_data"
    },
    {
     "name": "stdout",
     "output_type": "stream",
     "text": [
      "main_exit\n",
      "   Exit_Name  ID_Inputs  OOD_Inputs  Test_Accuracy Threshold  Accepted ID  Accepted OOD  Accepted_Correct  Accepted_ID_Ratio  Acceptance_Accuracy\n",
      "0     exit_1      10000       10000         0.7839  0.414696         6168          2246              5780           0.733064             0.686950\n",
      "1     exit_2       3832        7754         0.8017   0.32181         1265          1445              1033           0.466790             0.381181\n",
      "2  Main_exit       2567        6309         0.8097        NA         2567          6309              1368           0.289207             0.154123\n"
     ]
    }
   ],
   "source": [
    "EvaluateID(output_ID,output_OOD,metrics=[\"entropy\"], threshold=\"gmean\", exit=-1, legend=[\"In Distribution\",\"Out of Distribution\"],main_exit_included=True,plot=True,exit_labels=['exit_1'])"
   ]
  },
  {
   "cell_type": "code",
   "execution_count": null,
   "metadata": {},
   "outputs": [],
   "source": []
  }
 ],
 "metadata": {
  "kernelspec": {
   "display_name": "Python 3 (ipykernel)",
   "language": "python",
   "name": "python3"
  },
  "language_info": {
   "codemirror_mode": {
    "name": "ipython",
    "version": 3
   },
   "file_extension": ".py",
   "mimetype": "text/x-python",
   "name": "python",
   "nbconvert_exporter": "python",
   "pygments_lexer": "ipython3",
   "version": "3.7.11"
  },
  "vscode": {
   "interpreter": {
    "hash": "632aef774cc0760417fa29704a5cf9562c90ea600d77237eb2969e3f571ea566"
   }
  }
 },
 "nbformat": 4,
 "nbformat_minor": 4
}
